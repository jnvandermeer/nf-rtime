{
 "cells": [
  {
   "cell_type": "markdown",
   "metadata": {},
   "source": [
    "# GUIs, and updatable windows, etc:\n",
    "\n",
    "We use the pyqtgrapgh, which uses PyQt5 (or 4?) OR PySide (seems that Pyside is the future?)\n",
    "\n",
    "Manual pyqtgraph:\n",
    "http://www.pyqtgraph.org/\n",
    "\n",
    "pyqtgraph, designer-qt5 and pyqt5 essentially replaces all the Matlab bullshit with 'Guide'.\n",
    "\n",
    "\n",
    "\n",
    "**I've already did the %gui qt magic to start Qt ev loop in ipython_config.py**\n",
    "\n",
    "That is an essential part of Qt\n",
    "\n",
    "Beware though that when you use it with the Jupyterlab, you also need to explicitly tell to process the events (!) when you're inside a loop. Otherwise this will not be done (and you won't see anything).\n",
    "\n",
    "So a call to: ```pg.QtGui.QApplication.processEvents()```\n",
    "that will suffice\n",
    "Normally you'd use some exec() or exec_() function on the 'main application'.\n",
    "\n",
    "\n",
    "\n",
    "See also:\n",
    "\n",
    "\n",
    "Several things to remember when using Qt:\n",
    "- https://machinekoder.com/how-to-not-shoot-yourself-in-the-foot-using-python-qt/\n",
    "\n",
    "- https://ipython.readthedocs.io/en/stable/config/eventloops.html\n",
    "\n",
    "\n",
    "\n",
    "\n"
   ]
  },
  {
   "cell_type": "code",
   "execution_count": 1,
   "metadata": {},
   "outputs": [],
   "source": [
    "from PyQt5 import QtGui  # (the example applies equally well to PySide)"
   ]
  },
  {
   "cell_type": "code",
   "execution_count": 2,
   "metadata": {},
   "outputs": [
    {
     "name": "stderr",
     "output_type": "stream",
     "text": [
      "/home/johan/.conda/envs/rt/lib/python3.6/site-packages/h5py/__init__.py:36: FutureWarning: Conversion of the second argument of issubdtype from `float` to `np.floating` is deprecated. In future, it will be treated as `np.float64 == np.dtype(float).type`.\n",
      "  from ._conv import register_converters as _register_converters\n"
     ]
    }
   ],
   "source": [
    "import pyqtgraph as pg"
   ]
  },
  {
   "cell_type": "code",
   "execution_count": 3,
   "metadata": {},
   "outputs": [],
   "source": [
    "app=QtGui.QApplication([])"
   ]
  },
  {
   "cell_type": "code",
   "execution_count": 4,
   "metadata": {},
   "outputs": [],
   "source": [
    "w = QtGui.QWidget()"
   ]
  },
  {
   "cell_type": "code",
   "execution_count": 6,
   "metadata": {},
   "outputs": [],
   "source": [
    "btn = QtGui.QPushButton('press me')"
   ]
  },
  {
   "cell_type": "code",
   "execution_count": 8,
   "metadata": {},
   "outputs": [],
   "source": [
    "text = QtGui.QLineEdit('enter text')"
   ]
  },
  {
   "cell_type": "code",
   "execution_count": 9,
   "metadata": {},
   "outputs": [],
   "source": [
    "listw = QtGui.QListWidget()"
   ]
  },
  {
   "cell_type": "code",
   "execution_count": 10,
   "metadata": {},
   "outputs": [],
   "source": [
    "plot = pg.PlotWidget()"
   ]
  },
  {
   "cell_type": "code",
   "execution_count": 11,
   "metadata": {},
   "outputs": [],
   "source": [
    "layout = QtGui.QGridLayout()"
   ]
  },
  {
   "cell_type": "code",
   "execution_count": 12,
   "metadata": {},
   "outputs": [],
   "source": [
    "w.setLayout(layout)"
   ]
  },
  {
   "cell_type": "code",
   "execution_count": 13,
   "metadata": {},
   "outputs": [],
   "source": [
    "## Add widgets to the layout in their proper positions\n",
    "layout.addWidget(btn, 0, 0)   # button goes in upper-left\n",
    "layout.addWidget(text, 1, 0)   # text edit goes in middle-left\n",
    "layout.addWidget(listw, 2, 0)  # list widget goes in bottom-left\n",
    "layout.addWidget(plot, 0, 1, 3, 1)  # plot goes on right side, spanning 3 rows"
   ]
  },
  {
   "cell_type": "code",
   "execution_count": 14,
   "metadata": {},
   "outputs": [],
   "source": [
    "w.show()"
   ]
  },
  {
   "cell_type": "markdown",
   "metadata": {},
   "source": [
    "## Documentations\n",
    "\n",
    "- https://doc.qt.io/qt-5/layout.html\n",
    "- https://doc.qt.io/qt-5/qgridlayout.html\n",
    "\n",
    "See also designer-qt5\n",
    "... that seems to be a lot used in industry !?\n",
    "\n",
    "The automatic documentation (that we see in Inspector View) could use some improvements with the Qt 'suite'"
   ]
  },
  {
   "cell_type": "markdown",
   "metadata": {},
   "source": [
    "### Now, how to make the scaling(s)\n",
    "or, how does pyqtgraph scale everything?\n",
    "\n",
    "I think this might require a new implementation of SignalViewer.."
   ]
  },
  {
   "cell_type": "code",
   "execution_count": 19,
   "metadata": {},
   "outputs": [],
   "source": [
    "# Examine PlotWidget"
   ]
  },
  {
   "cell_type": "code",
   "execution_count": 28,
   "metadata": {},
   "outputs": [],
   "source": [
    "import pyqtgraph as pg"
   ]
  },
  {
   "cell_type": "code",
   "execution_count": 29,
   "metadata": {},
   "outputs": [],
   "source": [
    "import numpy"
   ]
  },
  {
   "cell_type": "code",
   "execution_count": null,
   "metadata": {},
   "outputs": [],
   "source": [
    "numpy"
   ]
  },
  {
   "cell_type": "code",
   "execution_count": 24,
   "metadata": {},
   "outputs": [
    {
     "data": {
      "text/plain": [
       "\u001b[0;31mInit signature:\u001b[0m \u001b[0mpg\u001b[0m\u001b[0;34m.\u001b[0m\u001b[0mGraphicsView\u001b[0m\u001b[0;34m(\u001b[0m\u001b[0mparent\u001b[0m\u001b[0;34m=\u001b[0m\u001b[0;32mNone\u001b[0m\u001b[0;34m,\u001b[0m \u001b[0museOpenGL\u001b[0m\u001b[0;34m=\u001b[0m\u001b[0;32mNone\u001b[0m\u001b[0;34m,\u001b[0m \u001b[0mbackground\u001b[0m\u001b[0;34m=\u001b[0m\u001b[0;34m'default'\u001b[0m\u001b[0;34m)\u001b[0m\u001b[0;34m\u001b[0m\u001b[0m\n",
       "\u001b[0;31mDocstring:\u001b[0m     \n",
       "Re-implementation of QGraphicsView that removes scrollbars and allows unambiguous control of the \n",
       "viewed coordinate range. Also automatically creates a GraphicsScene and a central QGraphicsWidget\n",
       "that is automatically scaled to the full view geometry.\n",
       "\n",
       "This widget is the basis for :class:`PlotWidget <pyqtgraph.PlotWidget>`, \n",
       ":class:`GraphicsLayoutWidget <pyqtgraph.GraphicsLayoutWidget>`, and the view widget in\n",
       ":class:`ImageView <pyqtgraph.ImageView>`.\n",
       "\n",
       "By default, the view coordinate system matches the widget's pixel coordinates and \n",
       "automatically updates when the view is resized. This can be overridden by setting \n",
       "autoPixelRange=False. The exact visible range can be set with setRange().\n",
       "\n",
       "The view can be panned using the middle mouse button and scaled using the right mouse button if\n",
       "enabled via enableMouse()  (but ordinarily, we use ViewBox for this functionality).\n",
       "\u001b[0;31mInit docstring:\u001b[0m\n",
       "==============  ============================================================\n",
       "**Arguments:**\n",
       "parent          Optional parent widget\n",
       "useOpenGL       If True, the GraphicsView will use OpenGL to do all of its\n",
       "                rendering. This can improve performance on some systems,\n",
       "                but may also introduce bugs (the combination of \n",
       "                QGraphicsView and QGLWidget is still an 'experimental' \n",
       "                feature of Qt)\n",
       "background      Set the background color of the GraphicsView. Accepts any\n",
       "                single argument accepted by \n",
       "                :func:`mkColor <pyqtgraph.mkColor>`. By \n",
       "                default, the background color is determined using the\n",
       "                'backgroundColor' configuration option (see \n",
       "                :func:`setConfigOptions <pyqtgraph.setConfigOptions>`).\n",
       "==============  ============================================================\n",
       "\u001b[0;31mFile:\u001b[0m           ~/.conda/envs/rt/lib/python3.6/site-packages/pyqtgraph/widgets/GraphicsView.py\n",
       "\u001b[0;31mType:\u001b[0m           wrappertype\n"
      ]
     },
     "metadata": {},
     "output_type": "display_data"
    }
   ],
   "source": [
    "# examine docs, I\n",
    "pg.GraphicsView?"
   ]
  },
  {
   "cell_type": "code",
   "execution_count": 25,
   "metadata": {},
   "outputs": [
    {
     "data": {
      "text/plain": [
       "\u001b[0;31mInit signature:\u001b[0m \u001b[0mpg\u001b[0m\u001b[0;34m.\u001b[0m\u001b[0mPlotWidget\u001b[0m\u001b[0;34m(\u001b[0m\u001b[0mparent\u001b[0m\u001b[0;34m=\u001b[0m\u001b[0;32mNone\u001b[0m\u001b[0;34m,\u001b[0m \u001b[0mbackground\u001b[0m\u001b[0;34m=\u001b[0m\u001b[0;34m'default'\u001b[0m\u001b[0;34m,\u001b[0m \u001b[0;34m**\u001b[0m\u001b[0mkargs\u001b[0m\u001b[0;34m)\u001b[0m\u001b[0;34m\u001b[0m\u001b[0m\n",
       "\u001b[0;31mDocstring:\u001b[0m     \n",
       "Re-implementation of QGraphicsView that removes scrollbars and allows unambiguous control of the \n",
       "viewed coordinate range. Also automatically creates a GraphicsScene and a central QGraphicsWidget\n",
       "that is automatically scaled to the full view geometry.\n",
       "\n",
       "This widget is the basis for :class:`PlotWidget <pyqtgraph.PlotWidget>`, \n",
       ":class:`GraphicsLayoutWidget <pyqtgraph.GraphicsLayoutWidget>`, and the view widget in\n",
       ":class:`ImageView <pyqtgraph.ImageView>`.\n",
       "\n",
       "By default, the view coordinate system matches the widget's pixel coordinates and \n",
       "automatically updates when the view is resized. This can be overridden by setting \n",
       "autoPixelRange=False. The exact visible range can be set with setRange().\n",
       "\n",
       "The view can be panned using the middle mouse button and scaled using the right mouse button if\n",
       "enabled via enableMouse()  (but ordinarily, we use ViewBox for this functionality).\n",
       "\u001b[0;31mInit docstring:\u001b[0m\n",
       "When initializing PlotWidget, *parent* and *background* are passed to \n",
       ":func:`GraphicsWidget.__init__() <pyqtgraph.GraphicsWidget.__init__>`\n",
       "and all others are passed\n",
       "to :func:`PlotItem.__init__() <pyqtgraph.PlotItem.__init__>`.\n",
       "\u001b[0;31mFile:\u001b[0m           ~/.conda/envs/rt/lib/python3.6/site-packages/pyqtgraph/widgets/PlotWidget.py\n",
       "\u001b[0;31mType:\u001b[0m           wrappertype\n"
      ]
     },
     "metadata": {},
     "output_type": "display_data"
    }
   ],
   "source": [
    "# examine docs, II\n",
    "pg.PlotWidget?"
   ]
  },
  {
   "cell_type": "code",
   "execution_count": 27,
   "metadata": {},
   "outputs": [],
   "source": [
    "# see also the function made by the Russians:\n",
    "# --> pynfb.widgets.plot_signals\n",
    "\n",
    "# /home/johan/nf/nfb/pynfb/widgets/signal_viewers.py\n",
    "\n",
    "# this should help generate an understanding of what is required/needed\n",
    "# --> Learn the pygrgraph 'suite' --> allowing >1 signal(s) to be incorporated, possibly..\n",
    "# --> Then; Learn how to do the (more faster) smoother\n",
    "# --> Then; Figure out how to make/build stuff into a.. bigger (?) Library\n",
    "# --> Then; See whether the Stimulus can be 'sped up', or ported to Python 3\n",
    "# --> Ask Arns whether the protocol seems to be 'good' to induce the training(s)\n",
    "# --> Figure out the OpenBCI stuff, and a 3D Printer"
   ]
  },
  {
   "cell_type": "code",
   "execution_count": null,
   "metadata": {},
   "outputs": [],
   "source": []
  }
 ],
 "metadata": {
  "kernelspec": {
   "display_name": "Python 3",
   "language": "python",
   "name": "python3"
  },
  "language_info": {
   "codemirror_mode": {
    "name": "ipython",
    "version": 3
   },
   "file_extension": ".py",
   "mimetype": "text/x-python",
   "name": "python",
   "nbconvert_exporter": "python",
   "pygments_lexer": "ipython3",
   "version": "3.6.6"
  }
 },
 "nbformat": 4,
 "nbformat_minor": 2
}
