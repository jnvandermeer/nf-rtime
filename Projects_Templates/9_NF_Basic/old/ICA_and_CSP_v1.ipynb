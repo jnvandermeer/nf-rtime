{
 "cells": [
  {
   "cell_type": "markdown",
   "metadata": {},
   "source": [
    "### start up the EEG\n",
    "make sure that the EEG is tested  \n",
    "that the switch on the USB dongle is at GPOI6  \n",
    "that the switch on the back of the EEG cap is in 'up' position  \n",
    "that the latency times is set properly [windows](https://openbci.com/forum/index.php?p=/discussion/198/timing-marks-buffering-delays-etc) or [linux](https://askubuntu.com/questions/696593/reduce-request-latency-on-an-ftdi-ubs-to-rs-232-adapter)  \n",
    "`echo 1 | sudo tee /sys/bus/usb-serial/devices/ttyUSB0/latency_timer`\n",
    "\n",
    "Then open a terminal  \n",
    "cd to ~/nf/openBCI_LSL  \n",
    "then type:  \n",
    "`python openbci_lsl.py -- stream`\n",
    "\n",
    "followed by:\n",
    "\n",
    "`/start`"
   ]
  },
  {
   "cell_type": "code",
   "execution_count": 1,
   "metadata": {},
   "outputs": [],
   "source": [
    "import warnings\n",
    "warnings.filterwarnings('ignore')"
   ]
  },
  {
   "cell_type": "code",
   "execution_count": 3,
   "metadata": {},
   "outputs": [
    {
     "name": "stdout",
     "output_type": "stream",
     "text": [
      "name = openbci_eeg\n",
      "sampling_freq = 125\n",
      "channel_count = 16\n",
      "channel_format = 1\n"
     ]
    }
   ],
   "source": [
    "# make the connection to the EEG Net (EEG Data)\n",
    "import pylsl\n",
    "data_stream=pylsl.resolve_byprop(\"name\", \"openbci_eeg\", timeout=5.0)\n",
    "if data_stream:\n",
    "    data_inlet=pylsl.stream_inlet(data_stream[0])\n",
    "    stream_info = data_inlet.info()\n",
    "    stream_Fs = stream_info.nominal_srate()\n",
    "    stream_xml = stream_info.desc()\n",
    "    chans_xml = stream_xml.child(\"channels\")\n",
    "    chan_xml_list = []\n",
    "    ch = chans_xml.child(\"channel\")\n",
    "    while ch.name() == \"channel\":\n",
    "        chan_xml_list.append(ch)\n",
    "        ch = ch.next_sibling(\"channel\")\n",
    "    channel_names = [ch_xml.child_value(\"label\") for ch_xml in chan_xml_list]\n",
    "    data_inlet_dt = data_inlet.time_correction(timeout=5.0)\n",
    "    sampling_freq = data_stream[0].nominal_srate()\n",
    "    print('name = %s' % data_stream[0].name())\n",
    "    print('sampling_freq = %d' % sampling_freq)\n",
    "    print('channel_count = %d' % data_stream[0].channel_count())\n",
    "    print('channel_format = %d' % data_stream[0].channel_format())\n",
    "else:\n",
    "    raise Exception('No Data Stream Found - Is your EEG Cap running?')"
   ]
  },
  {
   "cell_type": "code",
   "execution_count": 11,
   "metadata": {},
   "outputs": [],
   "source": [
    "import sys\n",
    "sys.path.append(\"/home/johan/nf/nfb\")\n",
    "sys.path.append(\"/home/johan/nf/nfb/pynfb\")\n",
    "import widgets\n",
    "from widgets.signal_viewers import SignalViewer\n",
    "from widgets.signal_viewers import RawSignalViewer\n",
    "\n",
    "# w=SignalViewer(srate, channel_names, seconds_to_plot=5, overlap=True)\n",
    "w=RawSignalViewer(sampling_freq, channel_names)\n",
    "w.show()"
   ]
  },
  {
   "cell_type": "code",
   "execution_count": 8,
   "metadata": {},
   "outputs": [],
   "source": [
    "from PyQt5 import QtWidgets\n",
    "app = QtWidgets.QApplication(sys.argv)"
   ]
  },
  {
   "cell_type": "code",
   "execution_count": 3,
   "metadata": {},
   "outputs": [
    {
     "data": {
      "text/plain": [
       "['Fp1',\n",
       " 'Fp2',\n",
       " 'C3',\n",
       " 'C4',\n",
       " 'T5',\n",
       " 'T6',\n",
       " 'O1',\n",
       " 'O2',\n",
       " 'F7',\n",
       " 'F8',\n",
       " 'F3',\n",
       " 'F4',\n",
       " 'T3',\n",
       " 'T4',\n",
       " 'P3',\n",
       " 'P4']"
      ]
     },
     "execution_count": 3,
     "metadata": {},
     "output_type": "execute_result"
    }
   ],
   "source": [
    "channel_names"
   ]
  },
  {
   "cell_type": "code",
   "execution_count": 4,
   "metadata": {},
   "outputs": [],
   "source": [
    "### Collect the data\n",
    "import time\n",
    "import numpy as np\n",
    "\n",
    "while data_inlet.samples_available(): data_inlet.pull_chunk() # clear buffer\n",
    "\n",
    "    \n",
    "collected_data = []\n",
    "stop_time = time.time() + 25\n",
    "while time.time() < stop_time:\n",
    "    chunk_data, chunk_times = data_inlet.pull_chunk()\n",
    "    if chunk_data: \n",
    "        collected_data.append(chunk_data)\n",
    "        w.update(chunk_data)\n",
    "\n",
    "data=np.concatenate(collected_data) # the data we wish to use for calibration"
   ]
  },
  {
   "cell_type": "code",
   "execution_count": 5,
   "metadata": {},
   "outputs": [
    {
     "data": {
      "text/plain": [
       "(3126, 16)"
      ]
     },
     "execution_count": 5,
     "metadata": {},
     "output_type": "execute_result"
    }
   ],
   "source": [
    "data.shape"
   ]
  },
  {
   "cell_type": "code",
   "execution_count": 6,
   "metadata": {},
   "outputs": [],
   "source": [
    "# stuff that they import:\n",
    "\n",
    "from copy import deepcopy\n",
    "\n",
    "from PyQt5 import QtCore, QtGui, QtWidgets\n",
    "import sys\n",
    "\n",
    "from pynfb.inlets.montage import Montage\n",
    "from pynfb.protocols import SelectSSDFilterWidget\n",
    "from pynfb.protocols.signals_manager.band_selector import BandSelectorWidget\n",
    "from pynfb.protocols.ssd.topomap_canvas import TopographicMapCanvas\n",
    "from pynfb.protocols.ssd.topomap_selector_ica import ICADialog\n",
    "from pynfb.widgets.rejections_editor import RejectionsWidget\n",
    "from pynfb.widgets.spatial_filter_setup import SpatialFilterSetup\n",
    "from pynfb.widgets.check_table import CheckTable\n",
    "from pynfb.signals import DerivedSignal, BCISignal\n",
    "from numpy import dot, concatenate, array\n",
    "import numpy as np\n",
    "from pynfb.widgets.bci_fit import BCIFitWidget"
   ]
  },
  {
   "cell_type": "code",
   "execution_count": 9,
   "metadata": {},
   "outputs": [
    {
     "name": "stdout",
     "output_type": "stream",
     "text": [
      "Dropped 118 outliers\n",
      "Creating RawArray with float64 data, n_channels=16, n_times=3008\n",
      "    Range : 0 ... 3007 =      0.000 ...    24.056 secs\n",
      "Ready.\n",
      "Fitting ICA to data using 16 channels (please be patient, this may take a while)\n",
      "Inferring max_pca_components from picks\n",
      "Using all PCA components: 16\n",
      "Computing Extended Infomax ICA\n",
      "Fitting ICA took 2.5s.\n",
      "ICA/CSP time elapsed = 2.5612850189208984s\n",
      "Table drawing time elapsed = 3.1615853309631348s\n"
     ]
    },
    {
     "data": {
      "text/plain": [
       "<Figure size 432x288 with 0 Axes>"
      ]
     },
     "metadata": {},
     "output_type": "display_data"
    }
   ],
   "source": [
    "# how they run the command;\n",
    "# the decomposition should be set to False!\n",
    "result = ICADialog.get_rejection(data, channel_names, sampling_freq, decomposition=None)"
   ]
  },
  {
   "cell_type": "code",
   "execution_count": null,
   "metadata": {},
   "outputs": [],
   "source": [
    "channel_names"
   ]
  },
  {
   "cell_type": "code",
   "execution_count": 10,
   "metadata": {},
   "outputs": [],
   "source": [
    "ica_rejection, filter, topography, ica_unmixing_matrix, bandpass, to_all = result"
   ]
  },
  {
   "cell_type": "code",
   "execution_count": 27,
   "metadata": {},
   "outputs": [
    {
     "data": {
      "text/plain": [
       "<pynfb.signal_processing.decompositions.ICADecomposition at 0x7f69be559dd8>"
      ]
     },
     "execution_count": 27,
     "metadata": {},
     "output_type": "execute_result"
    }
   ],
   "source": [
    "ica_unmixing_matrix"
   ]
  },
  {
   "cell_type": "code",
   "execution_count": null,
   "metadata": {},
   "outputs": [],
   "source": [
    "# let's figure out how to use pudb to use 'remove' login. THis might actually work with the jupyerlab too"
   ]
  }
 ],
 "metadata": {
  "kernelspec": {
   "display_name": "Python 3",
   "language": "python",
   "name": "python3"
  },
  "language_info": {
   "codemirror_mode": {
    "name": "ipython",
    "version": 3
   },
   "file_extension": ".py",
   "mimetype": "text/x-python",
   "name": "python",
   "nbconvert_exporter": "python",
   "pygments_lexer": "ipython3",
   "version": "3.7.3"
  }
 },
 "nbformat": 4,
 "nbformat_minor": 4
}
