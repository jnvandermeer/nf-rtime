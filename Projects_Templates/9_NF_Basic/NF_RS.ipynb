{
 "cells": [
  {
   "cell_type": "markdown",
   "metadata": {},
   "source": [
    "# Import Statements"
   ]
  },
  {
   "cell_type": "code",
   "execution_count": 1,
   "metadata": {},
   "outputs": [],
   "source": [
    "import sys\n",
    "sys.path.append(\"../../mushu\")  # driver for the amps\n",
    "sys.path.append(\"../../mushu/libmushu\") \n",
    "sys.path.append(\"../../callpyff\")   # talk to the stimuli\n",
    "sys.path.append(\"../../nftools\")  # handy stuff needed for NF\n",
    "sys.path.append(\"../../wyrm\")  # real-time data analysis\n",
    "\n",
    "import time\n",
    "import matplotlib\n",
    "import matplotlib.pyplot as plt\n",
    "import scipy\n",
    "import numpy as np\n",
    "import easygui\n",
    "import mne\n",
    "import re\n",
    "import pickle\n",
    "import dynarray\n",
    "import random\n",
    "import libmushu\n",
    "\n",
    "from IPython.display import clear_output\n",
    "from callpyff import bcinetwork, bcixml \n",
    "from scipy import signal\n",
    "import logging  # set log level\n",
    "logging.basicConfig(level=logging.WARNING)\n",
    "\n",
    "from nftools.loopcontrol import LoopState\n",
    "from nftools.analysis import convert_alld_allm_to_mne\n",
    "from nftools.analysis import select_part_from_mne_dataset\n",
    "from nftools.analysis import plot_compare_two_spectra  \n",
    "from nftools import camera\n",
    "\n",
    "from wyrm.types import RingBuffer\n",
    "from wyrm.types import BlockBuffer\n",
    "from wyrm import io\n",
    "from wyrm import processing as proc\n",
    "\n",
    "from wyrm import signaltracking\n",
    "from wyrm import filtering\n",
    "from wyrm.types import RingBuffer\n",
    "\n",
    "from numpy.linalg import multi_dot\n",
    "from sklearn.decomposition import FastICA\n",
    "from collections import deque\n",
    "\n",
    "import importlib\n",
    "import warnings\n",
    "warnings.filterwarnings('ignore')\n",
    "\n",
    "import ipdb"
   ]
  },
  {
   "cell_type": "markdown",
   "metadata": {},
   "source": [
    "# Memory Monitoring Function"
   ]
  },
  {
   "cell_type": "code",
   "execution_count": 2,
   "metadata": {},
   "outputs": [],
   "source": [
    "import os, psutil\n",
    "def monitor_memory():\n",
    "    pid = os.getpid()\n",
    "    ps = psutil.Process(pid)\n",
    "    memoryUse = ps.memory_info()\n",
    "    return memoryUse.rss/1e6"
   ]
  },
  {
   "cell_type": "markdown",
   "metadata": {},
   "source": [
    "# Define and Configure Amplifier"
   ]
  },
  {
   "cell_type": "code",
   "execution_count": 3,
   "metadata": {},
   "outputs": [],
   "source": [
    "amp = libmushu.get_amp('bpamp')"
   ]
  },
  {
   "cell_type": "code",
   "execution_count": 4,
   "metadata": {},
   "outputs": [
    {
     "name": "stdout",
     "output_type": "stream",
     "text": [
      "connecting to 20.100.0.3 port 6700\n",
      "sending b'1C:\\\\Vision\\\\Workfiles\\\\NF_64chEEG.rwksp'\n",
      "sending b'2Pre-Run01'\n",
      "sending b'30001'\n",
      "sending b'4'\n",
      "sending b'M'\n"
     ]
    }
   ],
   "source": [
    "# Configure the amp\n",
    "amp.configure(remotecontrol=True,\n",
    "              recorderip='20.100.0.3',\n",
    "              recorderport=51244,\n",
    "              pathtoworkspace='C:\\\\Vision\\\\Workfiles\\\\NF_64chEEG.rwksp',\n",
    "              experimentnumber='Pre-Run01',\n",
    "              subjectid='0001',\n",
    "              n_channels=64,\n",
    "              fs=5000)"
   ]
  },
  {
   "cell_type": "markdown",
   "metadata": {},
   "source": [
    "# Set up BCI Network"
   ]
  },
  {
   "cell_type": "code",
   "execution_count": 5,
   "metadata": {},
   "outputs": [],
   "source": [
    "bcinet = bcinetwork.BciNetwork('20.100.0.2', bcinetwork.FC_PORT, bcinetwork.GUI_PORT, 'bcixml')"
   ]
  },
  {
   "cell_type": "code",
   "execution_count": 6,
   "metadata": {},
   "outputs": [
    {
     "name": "stdout",
     "output_type": "stream",
     "text": [
      "['TestD2', 'MovingRhomb', 'LibetClock', 'BrainWaveTraining_II', 'TobiQLAdapter', 'Lesson04', 'EyetrackerRawdata', 'EyetrackerFeedback', 'HexoSpeller', 'P300_Rectangle', 'ERPHex', 'BrainWaveTraining', 'StopVigilanceTask', 'FeedbackCursorArrow', 'TrivialPong', 'CheckerboardVEP', 'HexoSpellerVE', 'BoringClock', 'nback_verbal', 'Lesson01', 'BrainPong', 'CakeSpellerVE', 'MovingRhombGL', 'RestingState', 'NFBasicThermometer', 'RSVPSpeller', 'CenterSpellerVE', 'MultiVisualOddball', 'Lesson01b', 'GoalKeeper', 'EEGfMRILocalizer', 'Oddball', 'StroopFeedback', 'ERPMatrix', 'VisualOddballVE', 'Lesson05', 'Lesson06', 'VisualOddball', 'Lesson02', 'Lesson03']\n"
     ]
    }
   ],
   "source": [
    "feedbacks = bcinet.getAvailableFeedbacks()\n",
    "print(feedbacks)"
   ]
  },
  {
   "cell_type": "markdown",
   "metadata": {},
   "source": [
    "# Main NF/RS Function"
   ]
  },
  {
   "cell_type": "code",
   "execution_count": 7,
   "metadata": {},
   "outputs": [],
   "source": [
    "def nf_trial(task, thr=None, count=0):\n",
    "    %matplotlib qt5  \n",
    "    plt.ion()  # enable widget plots & interactive plots\n",
    "    data_length = np.linspace(0,600*5000,num=600*5000)\n",
    "    fs=5000.\n",
    "    time_in_plot=6\n",
    "    sy1=deque(np.zeros(round(fs * time_in_plot)), round(fs * time_in_plot))\n",
    "    sy2=deque(np.zeros(round(fs * time_in_plot)), round(fs * time_in_plot))\n",
    "    sy3=deque(np.zeros(round(fs * time_in_plot)), round(fs * time_in_plot))\n",
    "    sy4=deque(np.zeros(round(fs * time_in_plot)), round(fs * time_in_plot))\n",
    "    channel_to_plot=0\n",
    "    sx=deque(np.zeros(round(fs * time_in_plot)), round(fs * time_in_plot))\n",
    "    if task==1:\n",
    "        bcinet.send_init('BrainWaveTraining_II')\n",
    "    elif task==0:\n",
    "        bcinet.send_init('RestingState')\n",
    "        bcinet.send_signal(bcixml.BciSignal({'EYESCLOSED_TIME': 300.0},None, bcixml.INTERACTION_SIGNAL))\n",
    "    #c=camera.DoCamera(); c.start()\n",
    "    bcinet.send_signal(bcixml.BciSignal({'EX_TESTNFNOISE': False},None, bcixml.INTERACTION_SIGNAL))\n",
    "    \n",
    "    # if on wrong screen:\n",
    "    bcinet.send_signal(bcixml.BciSignal({'MONITOR_DISPLAYONSCREEN': 1},None, bcixml.INTERACTION_SIGNAL))\n",
    "    \n",
    "    bcinet.play()\n",
    "    bcinet.send_signal(bcixml.BciSignal({'emgThrContainer': 0.1}, None, bcixml.CONTROL_SIGNAL))\n",
    "    amp.start()\n",
    "    \n",
    "    importlib.reload(signaltracking)\n",
    "\n",
    "    # from wyrm import signaltracking\n",
    "    eegfilter = filtering.bwBPF(12,15)\n",
    "    emgfilter = filtering.bwHPF(50)\n",
    "    # smoother = filtering.bwExponentialSmoother(0.998)\n",
    "    # smoother = filtering.bwLPF(2,order=2)\n",
    "    smoother_eeg = filtering.bwSimpleAverager(300,2)\n",
    "    smoother_emg = filtering.bwSimpleAverager(300,2)\n",
    "\n",
    "    track_for_eeg_stimuli = signaltracking.sending_to_nfstim(thr=1.0, dur=0.20, feedback_type='eeg', max4audio=1.2, bcinet=bcinet, st_scaling=10)\n",
    "    track_for_emg_stimuli = signaltracking.sending_to_nfstim(thr=50, dur=0.15, feedback_type='emg', bcinet=bcinet, st_scaling=350)\n",
    "\n",
    "    l=LoopState(); l.start()\n",
    "    alld=dynarray.DynamicArray((None, 2)) \n",
    "    alld_ica=dynarray.DynamicArray((None, len(amp.get_channels()))) # data\n",
    "    allm=[]     # markers\n",
    "    dts,sent=[],[]\n",
    "    markeroffset = 0  # needed to store all data in one big mat/vector\n",
    "    t0=time.time()\n",
    "    curTime=time.time()\n",
    "    totalTime = 500\n",
    "    st=''\n",
    "    \n",
    "    #fig=plt.figure(figsize=(20,12))  # plotting...\n",
    "    #th=fig.suptitle('', fontsize=16)\n",
    "    #ah1=fig.add_subplot(211)\n",
    "    #ah2=fig.add_subplot(212)\n",
    "    \n",
    "    #l1, = ah1.plot(sx, sy1, color='b', label='Raw')\n",
    "    #l2, = ah1.plot(sx, sy2, color='r', label='Corrected')\n",
    "    #l3, = ah2.plot(sx, sy3, color='b', label='Raw')\n",
    "    #l4, = ah2.plot(sx, sy4, color='r', label='Corrected')\n",
    "    \n",
    "    x_data=0\n",
    "    while l.get_state() != 'Stop' or curTime < totalTime: \n",
    "   \n",
    "        # keep track of time:\n",
    "        curTime = time.time()\n",
    "        sfreq = 5000\n",
    "        ch_names = amp.get_channels()\n",
    "        markTime=time.time()\n",
    "        updateTime = 0.01\n",
    "        rb = RingBuffer(1.0 * 1000)\n",
    "        # this is where you get the data\n",
    "        data, marker, annotations = amp.get_data()\n",
    "        #ipdb.set_trace()\n",
    "    \n",
    "        if data.shape[0] > 0:  # this is crucual for remembering filter state.\n",
    "        \n",
    "            cnt = io.convert_mushu_data(data, marker, sfreq, ch_names)\n",
    "            ch_names_copy = ch_names.copy()\n",
    "            \n",
    "            \n",
    "            if count == 0:\n",
    "                cnt_removed = proc.remove_channels(cnt, ['ECG'])\n",
    "                cnt_corr = multi_dot([pca_comps.T, M, S, M_inv, pca_comps, cnt_removed.data.T]).T\n",
    "                #ipdb.set_trace()\n",
    "                # trouble shooting\n",
    "                test = proc.select_channels(cnt, ['C3','C4'])\n",
    "                ch_names_copy.pop(31)\n",
    "                # ipdb.set_trace()\n",
    "                cnt_corrected = io.convert_mushu_data(cnt_corr, marker, sfreq, ch_names_copy)\n",
    "                #ipdb.set_trace()\n",
    "                eeg_cnt = proc.select_channels(cnt_corrected, ['C3','C4'])\n",
    "                #ipdb.set_trace()\n",
    "            elif count == 1:\n",
    "                eeg_cnt = proc.select_channels(cnt, ['C3','C4'])\n",
    "                #ipdb.set_trace()\n",
    "                \n",
    "            # preprocessing stream for EEG\n",
    "            # ipdb.set_trace()\n",
    "            f_eeg_cnt = eegfilter.apply(eeg_cnt)  # so filter it according to specified above\n",
    "            af_eeg_cnt = proc.absolute(f_eeg_cnt)\n",
    "            saf_eeg_cnt = smoother_eeg.apply(af_eeg_cnt)\n",
    "        \n",
    "            dts.append(saf_eeg_cnt.data.shape[0])\n",
    "            \n",
    "        \n",
    "            # communications with the st-stim computer\n",
    "            tf, audioTF = track_for_eeg_stimuli.check_above_threshold(saf_eeg_cnt)  # sends markers (should be fast)\n",
    "            s = track_for_eeg_stimuli.send_data_signal(saf_eeg_cnt) # sends the signal (should also be fast!)\n",
    "            sent.append(s)\n",
    "\n",
    "            # do the EMG:\n",
    "            emg_cnt = proc.select_channels(cnt, ['O1','O2'])\n",
    "            f_emg_cnt = emgfilter.apply(emg_cnt)  # so filter it according to specified above\n",
    "            af_emg_cnt = proc.absolute(f_emg_cnt)\n",
    "            saf_emg_cnt = smoother_emg.apply(af_emg_cnt)\n",
    "        \n",
    "            tfemg, audioTFemg = track_for_emg_stimuli.check_above_threshold(saf_emg_cnt)  # sends markers (should be fast)\n",
    "            semg = track_for_emg_stimuli.send_data_signal(saf_emg_cnt) # sends the signal (should also be fast!)\n",
    "            \n",
    "            #if count==0:\n",
    "            \n",
    "                #eb_data = cnt.data[:,channel_to_plot]\n",
    "                #ch_c3 = cnt.data[:, 4]\n",
    "                #cnt_removed = proc.remove_channels(cnt, ['ECG'])\n",
    "                \n",
    "                #data_corrected = multi_dot([pca_comps.T, M, S, M_inv, pca_comps, cnt_removed.data.T])\n",
    "        \n",
    "                #sy1.extend(eb_data) \n",
    "                #sy2.extend(data_corrected[channel_to_plot,:]*1e-15)\n",
    "                #sy3.extend(ch_c3)\n",
    "                #sy4.extend(data_corrected[channel_to_plot,:]*1e-16)\n",
    "                \n",
    "                #sx.extend(data_length[x_data:x_data+len(eb_data)]/fs)\n",
    "        \n",
    "                #l1.set_ydata(sy1)  \n",
    "                #l2.set_ydata(sy2)\n",
    "                #l3.set_ydata(sy3)\n",
    "                #l4.set_ydata(sy4)\n",
    "            \n",
    "                #l1.set_xdata(sx)\n",
    "                #l2.set_xdata(sx)\n",
    "                #l3.set_xdata(sx)\n",
    "                #l4.set_xdata(sx)\n",
    "        \n",
    "                #msy1=np.mean(sy1)\n",
    "                #msy2=np.mean(sy2)\n",
    "                #msy3=np.mean(sy3)\n",
    "                #msy4=np.mean(sy4)\n",
    "         \n",
    "                #ah1.set_ylim(-150+msy1, 200+msy1)\n",
    "                #ah1.set_xlim(min(sx), max(sx))\n",
    "                #ah2.set_ylim(-150+msy3, 200+msy3)\n",
    "                #ah2.set_xlim(min(sx), max(sx))\n",
    "        \n",
    "                #x_data += len(eb_data)\n",
    "        \n",
    "                #fig.canvas.draw()\n",
    "                #fig.canvas.flush_events()\n",
    "            \n",
    "            \n",
    "            alld.extend(eeg_cnt.data)\n",
    "            alld_ica.extend(data)\n",
    "            \n",
    "            for m in marker:\n",
    "                allm.append([m[0] + markeroffset, m[1]])\n",
    "            markeroffset += cnt.data.shape[0] / float(sfreq) * 1000.\n",
    "        \n",
    "            # append to ringbuffer, so we can calculate features later on on the last N secs/samples of data.\n",
    "            rb.append(f_eeg_cnt)\n",
    "\n",
    "            # do the following every 0.1 msec - with with the ringbuffer:\n",
    "            if curTime - markTime > updateTime:\n",
    "                # do Stuff\n",
    "                markTime = curTime\n",
    "                print('Data is coming in - time = %f' % (curTime - t0))\n",
    "                str1 = 'Playing Back - time = %f' % (curTime - t0)\n",
    "                str2 = 'Length Markers: %d' % len(allm)\n",
    "                str3 = '%d, %d' % data.shape\n",
    "\n",
    "                # th.set_text(str1 + '\\n' + str2 + '\\n' +str3)\n",
    "    amp.stop()   \n",
    "    \n",
    "    return alld_ica, ch_names, sfreq"
   ]
  },
  {
   "cell_type": "markdown",
   "metadata": {},
   "source": [
    "# Obtain first resting-state recording"
   ]
  },
  {
   "cell_type": "code",
   "execution_count": 8,
   "metadata": {},
   "outputs": [
    {
     "name": "stdout",
     "output_type": "stream",
     "text": [
      "Number of channels: 64\n",
      "Sampling interval: 200.0\n",
      "Resolutions: [0.5, 0.5, 0.5, 0.5, 0.5, 0.5, 0.5, 0.5, 0.5, 0.5, 0.5, 0.5, 0.5, 0.5, 0.5, 0.5, 0.5, 0.5, 0.5, 0.5, 0.5, 0.5, 0.5, 0.5, 0.5, 0.5, 0.5, 0.5, 0.5, 0.5, 0.5, 10.0, 0.5, 0.5, 0.5, 0.5, 0.5, 0.5, 0.5, 0.5, 0.5, 0.5, 0.5, 0.5, 0.5, 0.5, 0.5, 0.5, 0.5, 0.5, 0.5, 0.5, 0.5, 0.5, 0.5, 0.5, 0.5, 0.5, 0.5, 0.5, 0.5, 0.5, 0.5, 0.5]\n",
      "Channel Names: ['Fp1', 'Fp2', 'F3', 'F4', 'C3', 'C4', 'P3', 'P4', 'O1', 'O2', 'F7', 'F8', 'T7', 'T8', 'P7', 'P8', 'Fz', 'Cz', 'Pz', 'Oz', 'FC1', 'FC2', 'CP1', 'CP2', 'FC5', 'FC6', 'CP5', 'CP6', 'TP9', 'TP10', 'POz', 'ECG', 'F1', 'F2', 'C1', 'C2', 'P1', 'P2', 'AF3', 'AF4', 'FC3', 'FC4', 'CP3', 'CP4', 'PO3', 'PO4', 'F5', 'F6', 'C5', 'C6', 'P5', 'P6', 'AF7', 'AF8', 'FT7', 'FT8', 'TP7', 'TP8', 'PO7', 'PO8', 'FT9', 'FT10', 'Fpz', 'CPz']\n",
      "hdr SamplingInterval = 200.00\n",
      "bwBPF: {'f_low': 12, 'f_high': 15, 'order': 3}\n",
      "bwHPF: {'f': 50, 'order': 3}\n",
      "bwSimpleAverager: {'taps': 300, 'f': 2}\n",
      "bwSimpleAverager: {'taps': 300, 'f': 2}\n",
      "thr: 1.00, dur: 0.20\n",
      "bcinet is passed on\n",
      "thr: 50.00, dur: 0.15\n",
      "bcinet is passed on\n",
      "sending signal -- I ! - 1100 - 1 - True - -1\n",
      "sending signal! - 1 False - 30.924705304488057 -- 0.2\n",
      "sending signal -- I ! - 100 - 2 - True - -1\n",
      "sending signal! - 2 False - 29.9049169062632 -- 0.25\n",
      "sending signal! - 10 False - 42.41392389153873 -- 0.25\n",
      "sending signal! - 13 False - 86.80533482885056 -- 0.3\n",
      "sending signal! - 20 False - 57.26426688883812 -- 0.3\n",
      "sending signal! - 24 False - 96.75403658072173 -- 0.35\n",
      "sending signal! - 33 False - 74.80553190264295 -- 0.35\n",
      "sending signal! - 41 False - 99.65736612599441 -- 0.39999999999999997\n",
      "sending signal! - 50 False - 95.06039835633484 -- 0.39999999999999997\n",
      "sending signal! - 61 False - 100.22637348516943 -- 0.44999999999999996\n",
      "sending signal! - 70 False - 118.71629085602643 -- 0.44999999999999996\n",
      "sending signal! - 89 False - 144.8533104110555 -- 0.49999999999999994\n",
      "sending signal! - 112 False - 173.57012437536838 -- 0.5499999999999999\n",
      "sending signal! - 137 False - 205.21833596958274 -- 0.6\n",
      "sending signal! - 165 False - 240.60861855702413 -- 0.65\n",
      "sending signal! - 199 False - 279.31256905376546 -- 0.7000000000000001\n",
      "sending signal! - 231 False - 319.6257628610584 -- 0.7500000000000001\n",
      "sending signal! - 265 False - 362.72871436874425 -- 0.8000000000000002\n",
      "sending signal! - 303 False - 408.70008676705885 -- 0.8500000000000002\n",
      "sending signal! - 344 False - 458.60422957327955 -- 0.9000000000000002\n",
      "sending signal! - 387 False - 510.8598506032268 -- 0.9500000000000003\n",
      "sending signal! - 427 False - 565.3069393854686 -- 1.0000000000000002\n",
      "sending signal! - 475 False - 622.902561242121 -- 1.0500000000000003\n",
      "sending signal! - 526 False - 683.3575671147979 -- 1.1000000000000003\n",
      "sending signal! - 581 False - 747.4505828221312 -- 1.1500000000000004\n",
      "sending signal! - 636 False - 814.430957367211 -- 1.2000000000000004\n",
      "sending signal! - 693 False - 883.6422535614215 -- 1.2500000000000004\n",
      "sending signal! - 753 False - 955.4560668384523 -- 1.3000000000000005\n",
      "sending signal! - 813 False - 1031.6253121561058 -- 1.3500000000000005\n",
      "sending signal! - 881 False - 1110.8092211707112 -- 1.4000000000000006\n",
      "sending signal! - 949 False - 1191.665078757594 -- 1.4500000000000006\n",
      "sending signal! - 1016 False - 1274.901203340953 -- 1.5000000000000007\n",
      "sending signal! - 1087 False - 1360.9539005661459 -- 1.5500000000000007\n",
      "sending signal! - 1165 False - 1451.2882216821597 -- 1.6000000000000008\n",
      "sending signal! - 1243 False - 1543.0787833845739 -- 1.6500000000000008\n",
      "sending signal! - 1324 False - 1637.5643937492366 -- 1.7000000000000008\n",
      "sending signal! - 1405 False - 1735.3685922002048 -- 1.7500000000000009\n",
      "sending signal! - 1489 False - 1835.3404537150116 -- 1.800000000000001\n",
      "sending signal! - 1574 False - 1938.2548843781976 -- 1.850000000000001\n",
      "sending signal! - 1662 False - 2044.2326972774667 -- 1.900000000000001\n",
      "sending signal! - 1750 False - 2153.2332091443413 -- 1.950000000000001\n",
      "sending signal! - 1845 False - 2264.9277023108516 -- 2.000000000000001\n",
      "loop is stopped!\n",
      "amplifier stopped!\n"
     ]
    }
   ],
   "source": [
    "alld_ica, ch_names, sfreq = nf_trial(0, count=1)"
   ]
  },
  {
   "cell_type": "markdown",
   "metadata": {},
   "source": [
    "# Perform ICA"
   ]
  },
  {
   "cell_type": "code",
   "execution_count": 9,
   "metadata": {},
   "outputs": [
    {
     "name": "stdout",
     "output_type": "stream",
     "text": [
      "The following EEG sensors did not have a position specified in the selected montage: ['ECG']. Their position has been left untouched.\n",
      "Creating RawArray with float64 data, n_channels=64, n_times=197200\n",
      "    Range : 0 ... 197199 =      0.000 ...    39.440 secs\n",
      "Ready.\n",
      "5000.0\n",
      "Creating RawArray with float64 data, n_channels=1, n_times=197200\n",
      "    Range : 0 ... 197199 =      0.000 ...    39.440 secs\n",
      "Ready.\n",
      "> \u001b[0;32m/home/nfcontrol/nf/nf-rtime/nftools/nftools/analysis.py\u001b[0m(148)\u001b[0;36mconvert_alld_allm_to_mne\u001b[0;34m()\u001b[0m\n",
      "\u001b[0;32m    147 \u001b[0;31m    \u001b[0;31m# create the marker matrix:\u001b[0m\u001b[0;34m\u001b[0m\u001b[0;34m\u001b[0m\u001b[0m\n",
      "\u001b[0m\u001b[0;32m--> 148 \u001b[0;31m    \u001b[0;32mif\u001b[0m \u001b[0mlen\u001b[0m\u001b[0;34m(\u001b[0m\u001b[0mallm\u001b[0m\u001b[0;34m)\u001b[0m\u001b[0;34m>\u001b[0m\u001b[0;36m0\u001b[0m\u001b[0;34m:\u001b[0m\u001b[0;34m\u001b[0m\u001b[0m\n",
      "\u001b[0m\u001b[0;32m    149 \u001b[0;31m        \u001b[0mraw\u001b[0m\u001b[0;34m.\u001b[0m\u001b[0madd_events\u001b[0m\u001b[0;34m(\u001b[0m\u001b[0mev_arr\u001b[0m\u001b[0;34m)\u001b[0m\u001b[0;34m\u001b[0m\u001b[0m\n",
      "\u001b[0m\n"
     ]
    },
    {
     "name": "stdin",
     "output_type": "stream",
     "text": [
      "ipdb>  c\n"
     ]
    },
    {
     "name": "stdout",
     "output_type": "stream",
     "text": [
      "Setting up band-pass filter from 1 - 35 Hz\n",
      "l_trans_bandwidth chosen to be 1.0 Hz\n",
      "h_trans_bandwidth chosen to be 8.8 Hz\n",
      "Filter length of 3301 samples (3.301 sec) selected\n",
      "Fitting ICA to data using 63 channels (please be patient, this may take a while)\n",
      "Inferring max_pca_components from picks\n",
      "Using all PCA components: 63\n",
      " \n",
      "Fitting ICA took 24.5s.\n"
     ]
    }
   ],
   "source": [
    "#alld_ica[:,:] /= 1e6\n",
    "alld_ica.shrink_to_fit()\n",
    "\n",
    "raw = convert_alld_allm_to_mne(alld_ica, [], ch_names, sfreq)  # covert to MNE\n",
    "\n",
    "raw.drop_channels(['ECG'])\n",
    "raw.resample(1000, npad=\"auto\")\n",
    "#raw.set_eeg_reference('average', projection=True)\n",
    "#raw.apply_proj()\n",
    "raw.filter(1., 35., n_jobs=1, fir_design='firwin')\n",
    "raw.load_data()\n",
    "\n",
    "ica = mne.preprocessing.ICA(method=\"infomax\", random_state=1)\n",
    "ica.fit(raw)\n",
    "ica.plot_sources(inst=raw)\n",
    "ica.plot_components(inst=raw)\n",
    "ica_comps = ica.get_sources(inst=raw).get_data()\n",
    " \n",
    "blks = raw.get_data().T\n",
    "pca_comps = ica.pca_components_\n",
    "M = ica.mixing_matrix_\n",
    "M_inv = ica.unmixing_matrix_\n",
    "S = np.identity(M.shape[0])"
   ]
  },
  {
   "cell_type": "markdown",
   "metadata": {},
   "source": [
    "# Define Selection Matrix"
   ]
  },
  {
   "cell_type": "code",
   "execution_count": 10,
   "metadata": {},
   "outputs": [],
   "source": [
    "S[[3],:] = 0"
   ]
  },
  {
   "cell_type": "markdown",
   "metadata": {},
   "source": [
    "# Correct Data for Artefacts"
   ]
  },
  {
   "cell_type": "code",
   "execution_count": 11,
   "metadata": {},
   "outputs": [],
   "source": [
    "blks = np.delete(blks, -1, 1).T # removing STIM channel\n",
    "data_corr = multi_dot([pca_comps.T, M, S, M_inv, pca_comps, blks])\n",
    "np.save('data_corr.npy', data_corr)"
   ]
  },
  {
   "cell_type": "code",
   "execution_count": 12,
   "metadata": {},
   "outputs": [
    {
     "name": "stdout",
     "output_type": "stream",
     "text": [
      "Warning: Cannot change to a different GUI toolkit: qt. Using qt5 instead.\n"
     ]
    },
    {
     "data": {
      "text/plain": [
       "[<matplotlib.lines.Line2D at 0x7f3594051908>]"
      ]
     },
     "execution_count": 12,
     "metadata": {},
     "output_type": "execute_result"
    }
   ],
   "source": [
    "%matplotlib qt\n",
    "plt.plot(blks[0,:], 'r'); plt.plot(data_corr[0,:], 'b')"
   ]
  },
  {
   "cell_type": "markdown",
   "metadata": {},
   "source": [
    "# Thresholding Function"
   ]
  },
  {
   "cell_type": "code",
   "execution_count": 13,
   "metadata": {},
   "outputs": [],
   "source": [
    "def thresholding(smr_amp):\n",
    "    stds = [0.5, 1, 1.5, 2]\n",
    "    interp_fac = 100\n",
    "    smr_amp = smr_amp[:30000] # take first 30secs of SMR hilbert envelope\n",
    "            \n",
    "    mean_y1 = np.mean(smr_amp)\n",
    "    std_y1 = np.std(smr_amp)\n",
    "    \n",
    "    xvals = np.linspace(0,len(smr_amp),len(smr_amp)*interp_fac)\n",
    "    x = np.arange(0, len(smr_amp))\n",
    "    smr_interp = np.interp(xvals, x, smr_amp)\n",
    "    \n",
    "    num_succ_exc = []\n",
    "    for a in range(len(stds)):   \n",
    "        h = np.ones((len(smr_interp),))*(mean_y1+stds[a]*std_y1)\n",
    "        idx = np.argwhere(np.diff(np.sign(h - smr_interp))).flatten() # where horizontal line intersects with y1\n",
    "        \n",
    "        if smr_interp[0] > h[0]: \n",
    "            idx = np.delete(idx, 0)\n",
    "        if smr_interp[-1] > h[0]:\n",
    "            idx = np.delete(idx, -1)\n",
    "    \n",
    "        even, odd = [], []\n",
    "        for number in range(len(idx)):\n",
    "            if (number % 2) == 0: \n",
    "                even.append(number)\n",
    "            else:\n",
    "                odd.append(number) \n",
    "        print([len(even), len(idx)])\n",
    "        \n",
    "        lengths = []\n",
    "        print ([len(idx), len(odd), len(even)])\n",
    "        for b in range(len(even)):\n",
    "            exc_length = idx[odd[b]]-idx[even[b]]\n",
    "            lengths.append(exc_length) # calculate distance between intersections (i.e. time of excursion)\n",
    "        \n",
    "        num_exc = sum(x >= 200*interp_fac for x in lengths)\n",
    "        print(num_exc)\n",
    "        num_succ_exc.append(num_exc)\n",
    "        best_std_idx = num_succ_exc.index(min(num_succ_exc, key=lambda x:abs(x-9)))\n",
    "        best_std = stds[best_std_idx]\n",
    "        \n",
    "    thr = mean_y1+stds[a]*std_y1\n",
    "        \n",
    "    return best_std, thr"
   ]
  },
  {
   "cell_type": "code",
   "execution_count": 14,
   "metadata": {},
   "outputs": [
    {
     "name": "stdout",
     "output_type": "stream",
     "text": [
      "[3, 6]\n",
      "[6, 3, 3]\n",
      "0\n",
      "[2, 4]\n",
      "[4, 2, 2]\n",
      "0\n",
      "[2, 4]\n",
      "[4, 2, 2]\n",
      "0\n",
      "[1, 2]\n",
      "[2, 1, 1]\n",
      "0\n"
     ]
    }
   ],
   "source": [
    "c3 = 4 # on Brain Products system only!\n",
    "best_std, thres = thresholding(data_corr[c3,:])"
   ]
  },
  {
   "cell_type": "code",
   "execution_count": 15,
   "metadata": {},
   "outputs": [],
   "source": [
    "# Freeing up memory\n",
    "del alld_ica, blks, data_corr, raw"
   ]
  },
  {
   "cell_type": "markdown",
   "metadata": {},
   "source": [
    "# SMR-NF & RS Blocks\n",
    "\n",
    "## SMR-NF #1"
   ]
  },
  {
   "cell_type": "code",
   "execution_count": 16,
   "metadata": {},
   "outputs": [
    {
     "name": "stdout",
     "output_type": "stream",
     "text": [
      "Number of channels: 64\n",
      "Sampling interval: 200.0\n",
      "Resolutions: [0.5, 0.5, 0.5, 0.5, 0.5, 0.5, 0.5, 0.5, 0.5, 0.5, 0.5, 0.5, 0.5, 0.5, 0.5, 0.5, 0.5, 0.5, 0.5, 0.5, 0.5, 0.5, 0.5, 0.5, 0.5, 0.5, 0.5, 0.5, 0.5, 0.5, 0.5, 10.0, 0.5, 0.5, 0.5, 0.5, 0.5, 0.5, 0.5, 0.5, 0.5, 0.5, 0.5, 0.5, 0.5, 0.5, 0.5, 0.5, 0.5, 0.5, 0.5, 0.5, 0.5, 0.5, 0.5, 0.5, 0.5, 0.5, 0.5, 0.5, 0.5, 0.5, 0.5, 0.5]\n",
      "Channel Names: ['Fp1', 'Fp2', 'F3', 'F4', 'C3', 'C4', 'P3', 'P4', 'O1', 'O2', 'F7', 'F8', 'T7', 'T8', 'P7', 'P8', 'Fz', 'Cz', 'Pz', 'Oz', 'FC1', 'FC2', 'CP1', 'CP2', 'FC5', 'FC6', 'CP5', 'CP6', 'TP9', 'TP10', 'POz', 'ECG', 'F1', 'F2', 'C1', 'C2', 'P1', 'P2', 'AF3', 'AF4', 'FC3', 'FC4', 'CP3', 'CP4', 'PO3', 'PO4', 'F5', 'F6', 'C5', 'C6', 'P5', 'P6', 'AF7', 'AF8', 'FT7', 'FT8', 'TP7', 'TP8', 'PO7', 'PO8', 'FT9', 'FT10', 'Fpz', 'CPz']\n",
      "hdr SamplingInterval = 200.00\n",
      "bwBPF: {'f_low': 12, 'f_high': 15, 'order': 3}\n",
      "bwHPF: {'f': 50, 'order': 3}\n",
      "bwSimpleAverager: {'taps': 300, 'f': 2}\n",
      "bwSimpleAverager: {'taps': 300, 'f': 2}\n",
      "thr: 1.00, dur: 0.20\n",
      "bcinet is passed on\n",
      "thr: 50.00, dur: 0.15\n",
      "bcinet is passed on\n",
      "sending signal -- I ! - 900 - 1 - True - -1\n",
      "sending signal! - 1 False - 10.759466493643496 -- 0.2\n",
      "sending signal -- I ! - 100 - 3 - True - -1\n",
      "sending signal! - 3 False - 4.064469408675437 -- 0.25\n",
      "sending signal! - 9 False - 22.27967810011064 -- 0.25\n",
      "sending signal! - 14 False - 11.129791075976888 -- 0.3\n",
      "sending signal! - 20 False - 36.6385404619064 -- 0.3\n",
      "sending signal! - 26 False - 12.256013294719953 -- 0.35\n",
      "sending signal! - 32 False - 53.8776227476605 -- 0.35\n",
      "sending signal! - 49 False - 73.98849556276478 -- 0.39999999999999997\n",
      "sending signal! - 67 False - 97.18901986502114 -- 0.44999999999999996\n",
      "sending signal! - 85 False - 122.96693814511528 -- 0.49999999999999994\n",
      "sending signal! - 109 False - 151.90700494249492 -- 0.5499999999999999\n",
      "sending signal! - 134 False - 183.5874308832958 -- 0.6\n",
      "sending signal! - 159 False - 218.08656825859683 -- 0.65\n",
      "sending signal! - 189 False - 255.36621528276876 -- 0.7000000000000001\n",
      "sending signal! - 221 False - 295.5207629964216 -- 0.7500000000000001\n",
      "sending signal! - 257 False - 338.5725116384096 -- 0.8000000000000002\n",
      "sending signal! - 296 False - 384.541730740127 -- 0.8500000000000002\n",
      "sending signal! - 338 False - 433.2531469584238 -- 0.9000000000000002\n",
      "sending signal! - 377 False - 484.7158814059673 -- 0.9500000000000003\n",
      "sending signal! - 419 False - 539.0981510792041 -- 1.0000000000000002\n",
      "sending signal! - 461 False - 596.4276378970542 -- 1.0500000000000003\n",
      "sending signal! - 509 False - 656.6002545063184 -- 1.1000000000000003\n",
      "sending signal! - 556 False - 719.1973946890618 -- 1.1500000000000004\n",
      "sending signal! - 610 False - 784.4487741440207 -- 1.2000000000000004\n",
      "sending signal! - 662 False - 853.559790047428 -- 1.2500000000000004\n",
      "sending signal! - 718 False - 926.5989137275675 -- 1.3000000000000005\n",
      "sending signal! - 776 False - 1001.4154223240588 -- 1.3500000000000005\n",
      "sending signal! - 833 False - 1079.0582902233587 -- 1.4000000000000006\n",
      "sending signal! - 896 False - 1161.0163627126942 -- 1.4500000000000006\n",
      "sending signal! - 956 False - 1244.209143332879 -- 1.5000000000000007\n",
      "sending signal! - 1023 False - 1330.5343392694192 -- 1.5500000000000007\n",
      "sending signal! - 1087 False - 1419.7005529751852 -- 1.6000000000000008\n",
      "sending signal! - 1161 False - 1511.5834165157014 -- 1.6500000000000008\n",
      "sending signal -- I ! - 100 - 1169 - True - -1\n",
      "sending signal! - 1169 False - 0.045942083863945146 -- 0.25\n",
      "sending signal! - 1233 False - 1606.3301850372707 -- 1.7000000000000008\n",
      "sending signal! - 1305 False - 1705.490054169604 -- 1.7500000000000009\n",
      "sending signal! - 1384 False - 1806.3606424408085 -- 1.800000000000001\n",
      "sending signal -- I ! - 100 - 1456 - True - -1\n",
      "sending signal! - 1456 False - 0.06029040539032427 -- 0.25\n",
      "sending signal! - 1463 False - 1910.1561624194994 -- 1.850000000000001\n",
      "sending signal! - 1542 False - 2016.7378081524118 -- 1.900000000000001\n",
      "sending signal! - 1626 False - 2126.0088184881542 -- 1.950000000000001\n",
      "sending signal! - 1713 False - 2237.853963378586 -- 2.000000000000001\n",
      "sending signal! - 1798 False - 2352.5238071088415 -- 2.0500000000000007\n",
      "sending signal! - 1886 False - 2470.2996307376875 -- 2.1000000000000005\n",
      "sending signal! - 1979 False - 2590.654063889641 -- 2.1500000000000004\n",
      "sending signal! - 2075 False - 2713.9266998688295 -- 2.2\n",
      "sending signal! - 2179 False - 2840.0694836111793 -- 2.25\n",
      "sending signal! - 2281 False - 2968.7445953882907 -- 2.3\n",
      "sending signal! - 2383 False - 3099.8761099891235 -- 2.3499999999999996\n",
      "sending signal! - 2489 False - 3234.954010226549 -- 2.3999999999999995\n",
      "sending signal! - 2599 False - 3372.940336731944 -- 2.4499999999999993\n",
      "sending signal! - 2707 False - 3513.5594800510025 -- 2.499999999999999\n",
      "sending signal! - 2820 False - 3656.7689743820656 -- 2.549999999999999\n",
      "sending signal! - 2931 False - 3802.743110277567 -- 2.5999999999999988\n",
      "sending signal! - 3043 False - 3952.536548542815 -- 2.6499999999999986\n",
      "sending signal -- I ! - 100 - 3155 - True - -1\n",
      "sending signal! - 3155 False - 0.025987658938071496 -- 0.25\n",
      "sending signal! - 3166 False - 4104.3595133802655 -- 2.6999999999999984\n",
      "sending signal! - 3288 False - 4258.7717197931615 -- 2.7499999999999982\n",
      "sending signal! - 3412 False - 4416.639260882893 -- 2.799999999999998\n",
      "sending signal! - 3532 False - 4577.522178007319 -- 2.849999999999998\n",
      "sending signal! - 3659 False - 4740.620740663548 -- 2.8999999999999977\n",
      "sending signal! - 3793 False - 4907.021660590357 -- 2.9499999999999975\n",
      "sending signal! - 3925 False - 5075.5309682231 -- 2.9999999999999973\n",
      "sending signal! - 4064 False - 5247.804148559486 -- 3.049999999999997\n",
      "sending signal! - 4202 False - 5423.315650132298 -- 3.099999999999997\n",
      "sending signal! - 4342 False - 5601.313222676815 -- 3.149999999999997\n",
      "FLIPPING/GOING THE THE MIDDLE AGAIN\n",
      "sending signal! - 4483 False - 5782.729730364972 -- 3.1999999999999966\n",
      "sending signal! - 4628 False - 5959.32273892882 -- 3.2499999999999964\n",
      "sending signal! - 4771 False - 6096.214983772861 -- 3.2999999999999963\n",
      "sending signal -- I ! - 100 - 4878 - True - -1\n",
      "sending signal! - 4878 False - 4.938223648310089 -- 0.25\n",
      "sending signal! - 4891 False - 13.57839587175424 -- 0.3\n",
      "sending signal! - 4901 False - 15.286389162186978 -- 0.35\n",
      "sending signal! - 4918 False - 6209.647655927312 -- 3.349999999999996\n",
      "sending signal -- I ! - 100 - 4948 - True - -1\n",
      "sending signal! - 4948 False - 0.6920869753291781 -- 0.25\n",
      "sending signal! - 4960 False - 1.1347225163370434 -- 0.3\n",
      "sending signal! - 5066 False - 6312.657162631549 -- 3.399999999999996\n",
      "sending signal -- I ! - 100 - 5104 - True - -1\n",
      "sending signal! - 5104 False - 0.11378104129618731 -- 0.25\n",
      "sending signal -- I ! - 100 - 5149 - True - -1\n",
      "sending signal! - 5149 False - 0.09165620277388346 -- 0.25\n",
      "sending signal -- I ! - 100 - 5162 - True - -1\n",
      "sending signal! - 5170 False - 69.00632209507543 -- 0.2\n",
      "sending signal -- I ! - 100 - 5174 - True - -1\n",
      "sending signal! - 5174 False - 0.7784434446483206 -- 0.25\n",
      "sending signal! - 5186 False - 1.6272014262599588 -- 0.3\n",
      "sending signal -- I ! - 100 - 5187 - True - -1\n",
      "sending signal! - 5192 False - 5.452674566653316 -- 0.2\n",
      "sending signal! - 5202 False - 11.017734964226825 -- 0.25\n",
      "sending signal! - 5215 False - 19.535381901445845 -- 0.3\n",
      "sending signal! - 5226 False - 29.68891773562185 -- 0.35\n",
      "sending signal -- I ! - 100 - 5242 - True - -1\n",
      "sending signal! - 5243 False - 2.1386441805993655 -- 0.25\n",
      "sending signal! - 5247 False - 137.8865372535962 -- 0.39999999999999997\n",
      "sending signal! - 5254 False - 4.96068610335357 -- 0.3\n",
      "sending signal! - 5267 False - 349.40995220551497 -- 0.44999999999999996\n",
      "sending signal -- I ! - 100 - 5275 - True - -1\n",
      "sending signal! - 5275 False - 4.779783456963178 -- 0.25\n",
      "sending signal! - 5286 False - 20.466516517819706 -- 0.3\n",
      "sending signal! - 5287 False - 379.1825899114743 -- 0.49999999999999994\n",
      "sending signal! - 5300 False - 23.385845977178022 -- 0.35\n",
      "sending signal! - 5311 False - 396.9459822933553 -- 0.5499999999999999\n",
      "sending signal! - 5337 False - 418.073923983531 -- 0.6\n",
      "sending signal! - 5367 False - 439.99184851104224 -- 0.65\n",
      "sending signal -- I ! - 100 - 5381 - True - -1\n",
      "sending signal! - 5381 False - 0.6477474426575585 -- 0.25\n",
      "sending signal! - 5391 False - 1.24886150366225 -- 0.3\n",
      "sending signal! - 5394 False - 481.8986631925439 -- 0.7000000000000001\n",
      "sending signal! - 5426 False - 508.3970203326034 -- 0.7500000000000001\n",
      "sending signal -- I ! - 100 - 5454 - True - -1\n",
      "sending signal! - 5454 False - 0.09710349793492959 -- 0.25\n",
      "sending signal! - 5457 False - 532.4885633747897 -- 0.8000000000000002\n",
      "sending signal! - 5490 False - 578.0255695506714 -- 0.8500000000000002\n",
      "sending signal -- I ! - 100 - 5497 - True - -1\n",
      "sending signal! - 5497 False - 0.6586642622938855 -- 0.25\n",
      "sending signal! - 5509 False - 2.2149629246890172 -- 0.3\n",
      "sending signal! - 5527 False - 625.1280886163877 -- 0.9000000000000002\n",
      "sending signal! - 5566 False - 670.5604514094478 -- 0.9500000000000003\n",
      "sending signal! - 5607 False - 726.0801800489852 -- 1.0000000000000002\n",
      "sending signal! - 5655 False - 782.9602705554557 -- 1.0500000000000003\n",
      "sending signal! - 5702 False - 842.8840858479283 -- 1.1000000000000003\n",
      "sending signal! - 5751 False - 906.0400130138332 -- 1.1500000000000004\n",
      "sending signal! - 5805 False - 973.6947792629009 -- 1.2000000000000004\n",
      "sending signal! - 5857 False - 1042.944877425863 -- 1.2500000000000004\n",
      "sending signal -- I ! - 100 - 5886 - True - -1\n",
      "sending signal! - 5886 False - 0.04977982075048959 -- 0.25\n",
      "sending signal! - 5913 False - 1114.2047251915612 -- 1.3000000000000005\n",
      "sending signal! - 5972 False - 1189.2489393833207 -- 1.3500000000000005\n",
      "sending signal! - 6033 False - 1266.401380343371 -- 1.4000000000000006\n",
      "sending signal! - 6095 False - 1346.589789778302 -- 1.4500000000000006\n",
      "sending signal! - 6159 False - 1428.8968837140128 -- 1.5000000000000007\n",
      "sending signal -- I ! - 100 - 6215 - True - -1\n",
      "sending signal! - 6217 False - 4.179723116776873 -- 0.25\n",
      "sending signal! - 6230 False - 22.820775344926187 -- 0.3\n",
      "sending signal! - 6230 False - 1616.255218790949 -- 1.5500000000000007\n",
      "sending signal! - 6242 False - 61.13735539408386 -- 0.35\n",
      "sending signal! - 6255 False - 68.26786707074041 -- 0.39999999999999997\n",
      "sending signal! - 6273 False - 77.73548606104217 -- 0.44999999999999996\n",
      "sending signal! - 6295 False - 2061.8438333888967 -- 1.6000000000000008\n",
      "sending signal! - 6297 False - 84.81545037626906 -- 0.49999999999999994\n",
      "sending signal! - 6321 False - 88.98387299987611 -- 0.5499999999999999\n",
      "sending signal! - 6344 False - 95.14767182718636 -- 0.6\n",
      "sending signal! - 6367 False - 2533.1523586592834 -- 1.6500000000000008\n",
      "sending signal! - 6373 False - 117.66050845763665 -- 0.65\n",
      "sending signal! - 6403 False - 146.84071366689858 -- 0.7000000000000001\n",
      "sending signal -- I ! - 200 - 6419 - True - -1\n",
      "sending signal! - 6419 False - 0.21512287133750438 -- 0.2\n",
      "sending signal! - 6428 False - 0.35948580688578924 -- 0.25\n",
      "sending signal! - 6432 False - 267.5049525725311 -- 0.7500000000000001\n",
      "sending signal! - 6439 False - 0.6477816233745795 -- 0.3\n",
      "sending signal! - 6454 False - 0.9518353513716798 -- 0.35\n",
      "sending signal! - 6467 False - 273.79782009385946 -- 0.8000000000000002\n",
      "sending signal! - 6471 False - 1.5523123514083947 -- 0.39999999999999997\n",
      "sending signal! - 6494 False - 2.5274478518990438 -- 0.44999999999999996\n",
      "sending signal! - 6515 False - 3.5156155717649256 -- 0.49999999999999994\n",
      "sending signal! - 6538 False - 4.651280554576876 -- 0.5499999999999999\n",
      "sending signal! - 6561 False - 5.882315333832723 -- 0.6\n",
      "sending signal! - 6591 False - 7.284182166559186 -- 0.65\n",
      "sending signal! - 6619 False - 8.926843123251787 -- 0.7000000000000001\n",
      "sending signal! - 6651 False - 10.624228622005015 -- 0.7500000000000001\n",
      "sending signal! - 6686 False - 12.510428840890624 -- 0.8000000000000002\n",
      "sending signal! - 6721 False - 14.353616274283596 -- 0.8500000000000002\n",
      "sending signal! - 6759 False - 16.546600592434284 -- 0.9000000000000002\n",
      "sending signal! - 6798 False - 18.91009238222547 -- 0.9500000000000003\n",
      "sending signal! - 6840 False - 21.56129660605148 -- 1.0000000000000002\n",
      "sending signal! - 6886 False - 24.525355741791117 -- 1.0500000000000003\n",
      "sending signal! - 6930 False - 27.806731305108904 -- 1.1000000000000003\n",
      "sending signal! - 6981 False - 31.79013456617183 -- 1.1500000000000004\n",
      "sending signal! - 7033 False - 36.44652870281485 -- 1.2000000000000004\n",
      "sending signal! - 7085 False - 41.257290548269765 -- 1.2500000000000004\n",
      "sending signal! - 7141 False - 46.83129674922512 -- 1.3000000000000005\n",
      "sending signal! - 7199 False - 53.05979984995649 -- 1.3500000000000005\n",
      "sending signal! - 7260 False - 59.31839645759056 -- 1.4000000000000006\n",
      "sending signal! - 7319 False - 66.00744688095423 -- 1.4500000000000006\n",
      "sending signal! - 7382 False - 72.75627319735263 -- 1.5000000000000007\n",
      "sending signal! - 7449 False - 79.95961467352998 -- 1.5500000000000007\n",
      "sending signal! - 7516 False - 87.38544854096546 -- 1.6000000000000008\n",
      "sending signal! - 7589 False - 95.10739347500936 -- 1.6500000000000008\n",
      "sending signal! - 7661 False - 103.30267022267189 -- 1.7000000000000008\n",
      "sending signal! - 7735 False - 111.93087666755176 -- 1.7500000000000009\n",
      "sending signal! - 7811 False - 120.87299814174787 -- 1.800000000000001\n",
      "sending signal! - 7886 False - 130.05661645137786 -- 1.850000000000001\n",
      "sending signal! - 7968 False - 139.53826943111412 -- 1.900000000000001\n",
      "sending signal! - 8050 False - 149.63353423850708 -- 1.950000000000001\n",
      "sending signal! - 8136 False - 160.112609360177 -- 2.000000000000001\n",
      "sending signal! - 8215 False - 170.83698582814156 -- 2.0500000000000007\n",
      "sending signal! - 8307 False - 181.71039303798855 -- 2.1000000000000005\n",
      "sending signal! - 8399 False - 193.09591609026032 -- 2.1500000000000004\n",
      "sending signal! - 8498 False - 206.37326807507233 -- 2.2\n",
      "sending signal! - 8597 False - 221.3200741764465 -- 2.25\n",
      "sending signal! - 8695 False - 237.35773295381867 -- 2.3\n",
      "sending signal! - 8795 False - 253.8975448002197 -- 2.3499999999999996\n",
      "FLIPPING/GOING THE THE MIDDLE AGAIN\n",
      "sending signal! - 8903 False - 271.10402142353604 -- 2.3999999999999995\n",
      "sending signal! - 9015 False - 288.76849601640737 -- 2.4499999999999993\n",
      "sending signal! - 9122 False - 306.8847347983107 -- 2.499999999999999\n",
      "loop is stopped!\n",
      "amplifier stopped!\n"
     ]
    },
    {
     "data": {
      "text/plain": [
       "(DynamicArray(size=1030200, capacity=1843200)([[1375.5, 1228.5, 1174.5, ..., 1199. ,  871.5, 1206.5],\n",
       "        [1338. , 1212.5, 1161.5, ..., 1181. ,  848. , 1185.5],\n",
       "        [1300. , 1197.5, 1148.5, ..., 1164.5,  824.5, 1165. ],\n",
       "        ...,\n",
       "        [  22. ,  -51.5, -130.5, ...,    9.5, -237. ,  -20. ],\n",
       "        [ -17.5,  -60. , -117.5, ...,    3.5, -273. ,   -6. ],\n",
       "        [ -57.5,  -67. , -104.5, ...,   -4. , -311.5,    7.5]]),\n",
       " ['Fp1',\n",
       "  'Fp2',\n",
       "  'F3',\n",
       "  'F4',\n",
       "  'C3',\n",
       "  'C4',\n",
       "  'P3',\n",
       "  'P4',\n",
       "  'O1',\n",
       "  'O2',\n",
       "  'F7',\n",
       "  'F8',\n",
       "  'T7',\n",
       "  'T8',\n",
       "  'P7',\n",
       "  'P8',\n",
       "  'Fz',\n",
       "  'Cz',\n",
       "  'Pz',\n",
       "  'Oz',\n",
       "  'FC1',\n",
       "  'FC2',\n",
       "  'CP1',\n",
       "  'CP2',\n",
       "  'FC5',\n",
       "  'FC6',\n",
       "  'CP5',\n",
       "  'CP6',\n",
       "  'TP9',\n",
       "  'TP10',\n",
       "  'POz',\n",
       "  'ECG',\n",
       "  'F1',\n",
       "  'F2',\n",
       "  'C1',\n",
       "  'C2',\n",
       "  'P1',\n",
       "  'P2',\n",
       "  'AF3',\n",
       "  'AF4',\n",
       "  'FC3',\n",
       "  'FC4',\n",
       "  'CP3',\n",
       "  'CP4',\n",
       "  'PO3',\n",
       "  'PO4',\n",
       "  'F5',\n",
       "  'F6',\n",
       "  'C5',\n",
       "  'C6',\n",
       "  'P5',\n",
       "  'P6',\n",
       "  'AF7',\n",
       "  'AF8',\n",
       "  'FT7',\n",
       "  'FT8',\n",
       "  'TP7',\n",
       "  'TP8',\n",
       "  'PO7',\n",
       "  'PO8',\n",
       "  'FT9',\n",
       "  'FT10',\n",
       "  'Fpz',\n",
       "  'CPz'],\n",
       " 5000)"
      ]
     },
     "execution_count": 16,
     "metadata": {},
     "output_type": "execute_result"
    }
   ],
   "source": [
    "nf_trial(1, thres)"
   ]
  },
  {
   "cell_type": "markdown",
   "metadata": {},
   "source": [
    "## RS #1"
   ]
  },
  {
   "cell_type": "code",
   "execution_count": 16,
   "metadata": {},
   "outputs": [
    {
     "name": "stdout",
     "output_type": "stream",
     "text": [
      "> \u001b[0;32m/home/nfcontrol/nf/nf-rtime/wyrm/wyrm/types.py\u001b[0m(108)\u001b[0;36m__init__\u001b[0;34m()\u001b[0m\n",
      "\u001b[0;32m    107 \u001b[0;31m            \u001b[0;32massert\u001b[0m \u001b[0mdata\u001b[0m\u001b[0;34m.\u001b[0m\u001b[0mndim\u001b[0m \u001b[0;34m==\u001b[0m \u001b[0mlen\u001b[0m\u001b[0;34m(\u001b[0m\u001b[0maxes\u001b[0m\u001b[0;34m)\u001b[0m \u001b[0;34m==\u001b[0m \u001b[0mlen\u001b[0m\u001b[0;34m(\u001b[0m\u001b[0mnames\u001b[0m\u001b[0;34m)\u001b[0m \u001b[0;34m==\u001b[0m \u001b[0mlen\u001b[0m\u001b[0;34m(\u001b[0m\u001b[0munits\u001b[0m\u001b[0;34m)\u001b[0m\u001b[0;34m\u001b[0m\u001b[0m\n",
      "\u001b[0m\u001b[0;32m--> 108 \u001b[0;31m            \u001b[0;32massert\u001b[0m \u001b[0;34m[\u001b[0m\u001b[0mlen\u001b[0m\u001b[0;34m(\u001b[0m\u001b[0ma\u001b[0m\u001b[0;34m)\u001b[0m \u001b[0;32mfor\u001b[0m \u001b[0ma\u001b[0m \u001b[0;32min\u001b[0m \u001b[0maxes\u001b[0m\u001b[0;34m]\u001b[0m \u001b[0;34m==\u001b[0m \u001b[0mlist\u001b[0m\u001b[0;34m(\u001b[0m\u001b[0mdata\u001b[0m\u001b[0;34m.\u001b[0m\u001b[0mshape\u001b[0m\u001b[0;34m)\u001b[0m\u001b[0;34m\u001b[0m\u001b[0m\n",
      "\u001b[0m\u001b[0;32m    109 \u001b[0;31m        \u001b[0mself\u001b[0m\u001b[0;34m.\u001b[0m\u001b[0mdata\u001b[0m \u001b[0;34m=\u001b[0m \u001b[0mdata\u001b[0m\u001b[0;34m\u001b[0m\u001b[0m\n",
      "\u001b[0m\n"
     ]
    },
    {
     "name": "stdin",
     "output_type": "stream",
     "text": [
      "ipdb>  p\n"
     ]
    },
    {
     "name": "stdout",
     "output_type": "stream",
     "text": [
      "*** SyntaxError: unexpected EOF while parsing\n"
     ]
    },
    {
     "name": "stdin",
     "output_type": "stream",
     "text": [
      "ipdb>  l\n"
     ]
    },
    {
     "name": "stdout",
     "output_type": "stream",
     "text": [
      "\u001b[1;32m    103 \u001b[0m        \"\"\"\n",
      "\u001b[1;32m    104 \u001b[0m        \u001b[0;32mif\u001b[0m \u001b[0mdata\u001b[0m\u001b[0;34m.\u001b[0m\u001b[0msize\u001b[0m \u001b[0;34m==\u001b[0m \u001b[0;36m0\u001b[0m\u001b[0;34m:\u001b[0m\u001b[0;34m\u001b[0m\u001b[0m\n",
      "\u001b[1;32m    105 \u001b[0m            \u001b[0;32mpass\u001b[0m\u001b[0;34m\u001b[0m\u001b[0m\n",
      "\u001b[1;32m    106 \u001b[0m        \u001b[0;32melse\u001b[0m\u001b[0;34m:\u001b[0m\u001b[0;34m\u001b[0m\u001b[0m\n",
      "\u001b[1;32m    107 \u001b[0m            \u001b[0;32massert\u001b[0m \u001b[0mdata\u001b[0m\u001b[0;34m.\u001b[0m\u001b[0mndim\u001b[0m \u001b[0;34m==\u001b[0m \u001b[0mlen\u001b[0m\u001b[0;34m(\u001b[0m\u001b[0maxes\u001b[0m\u001b[0;34m)\u001b[0m \u001b[0;34m==\u001b[0m \u001b[0mlen\u001b[0m\u001b[0;34m(\u001b[0m\u001b[0mnames\u001b[0m\u001b[0;34m)\u001b[0m \u001b[0;34m==\u001b[0m \u001b[0mlen\u001b[0m\u001b[0;34m(\u001b[0m\u001b[0munits\u001b[0m\u001b[0;34m)\u001b[0m\u001b[0;34m\u001b[0m\u001b[0m\n",
      "\u001b[0;32m--> 108 \u001b[0;31m            \u001b[0;32massert\u001b[0m \u001b[0;34m[\u001b[0m\u001b[0mlen\u001b[0m\u001b[0;34m(\u001b[0m\u001b[0ma\u001b[0m\u001b[0;34m)\u001b[0m \u001b[0;32mfor\u001b[0m \u001b[0ma\u001b[0m \u001b[0;32min\u001b[0m \u001b[0maxes\u001b[0m\u001b[0;34m]\u001b[0m \u001b[0;34m==\u001b[0m \u001b[0mlist\u001b[0m\u001b[0;34m(\u001b[0m\u001b[0mdata\u001b[0m\u001b[0;34m.\u001b[0m\u001b[0mshape\u001b[0m\u001b[0;34m)\u001b[0m\u001b[0;34m\u001b[0m\u001b[0m\n",
      "\u001b[0m\u001b[1;32m    109 \u001b[0m        \u001b[0mself\u001b[0m\u001b[0;34m.\u001b[0m\u001b[0mdata\u001b[0m \u001b[0;34m=\u001b[0m \u001b[0mdata\u001b[0m\u001b[0;34m\u001b[0m\u001b[0m\n",
      "\u001b[1;32m    110 \u001b[0m        \u001b[0mself\u001b[0m\u001b[0;34m.\u001b[0m\u001b[0maxes\u001b[0m \u001b[0;34m=\u001b[0m \u001b[0;34m[\u001b[0m\u001b[0mnp\u001b[0m\u001b[0;34m.\u001b[0m\u001b[0marray\u001b[0m\u001b[0;34m(\u001b[0m\u001b[0mi\u001b[0m\u001b[0;34m)\u001b[0m \u001b[0;32mfor\u001b[0m \u001b[0mi\u001b[0m \u001b[0;32min\u001b[0m \u001b[0maxes\u001b[0m\u001b[0;34m]\u001b[0m\u001b[0;34m\u001b[0m\u001b[0m\n",
      "\u001b[1;32m    111 \u001b[0m        \u001b[0mself\u001b[0m\u001b[0;34m.\u001b[0m\u001b[0mnames\u001b[0m \u001b[0;34m=\u001b[0m \u001b[0mnames\u001b[0m\u001b[0;34m\u001b[0m\u001b[0m\n",
      "\u001b[1;32m    112 \u001b[0m        \u001b[0mself\u001b[0m\u001b[0;34m.\u001b[0m\u001b[0munits\u001b[0m \u001b[0;34m=\u001b[0m \u001b[0munits\u001b[0m\u001b[0;34m\u001b[0m\u001b[0m\n",
      "\u001b[1;32m    113 \u001b[0m\u001b[0;34m\u001b[0m\u001b[0m\n",
      "\n"
     ]
    },
    {
     "name": "stdin",
     "output_type": "stream",
     "text": [
      "ipdb>  h\n"
     ]
    },
    {
     "name": "stdout",
     "output_type": "stream",
     "text": [
      "\n",
      "Documented commands (type help <topic>):\n",
      "========================================\n",
      "EOF    cl         disable  interact  next    psource  rv         unt   \n",
      "a      clear      display  j         p       q        s          until \n",
      "alias  commands   down     jump      pdef    quit     source     up    \n",
      "args   condition  enable   l         pdoc    r        step       w     \n",
      "b      cont       exit     list      pfile   restart  tbreak     whatis\n",
      "break  continue   h        ll        pinfo   return   u          where \n",
      "bt     d          help     longlist  pinfo2  retval   unalias  \n",
      "c      debug      ignore   n         pp      run      undisplay\n",
      "\n",
      "Miscellaneous help topics:\n",
      "==========================\n",
      "exec  pdb\n",
      "\n"
     ]
    },
    {
     "name": "stdin",
     "output_type": "stream",
     "text": [
      "ipdb>  u\n"
     ]
    },
    {
     "name": "stdout",
     "output_type": "stream",
     "text": [
      "> \u001b[0;32m/home/nfcontrol/nf/nf-rtime/wyrm/wyrm/io.py\u001b[0m(308)\u001b[0;36mconvert_mushu_data\u001b[0;34m()\u001b[0m\n",
      "\u001b[0;32m    307 \u001b[0;31m    \u001b[0munits\u001b[0m \u001b[0;34m=\u001b[0m \u001b[0;34m[\u001b[0m\u001b[0;34m'uV'\u001b[0m\u001b[0;34m,\u001b[0m \u001b[0;34m'#'\u001b[0m\u001b[0;34m]\u001b[0m\u001b[0;34m\u001b[0m\u001b[0m\n",
      "\u001b[0m\u001b[0;32m--> 308 \u001b[0;31m    \u001b[0mcnt\u001b[0m \u001b[0;34m=\u001b[0m \u001b[0mData\u001b[0m\u001b[0;34m(\u001b[0m\u001b[0mdata\u001b[0m\u001b[0;34m=\u001b[0m\u001b[0mdata\u001b[0m\u001b[0;34m.\u001b[0m\u001b[0mcopy\u001b[0m\u001b[0;34m(\u001b[0m\u001b[0;34m)\u001b[0m\u001b[0;34m,\u001b[0m \u001b[0maxes\u001b[0m\u001b[0;34m=\u001b[0m\u001b[0maxes\u001b[0m\u001b[0;34m,\u001b[0m \u001b[0mnames\u001b[0m\u001b[0;34m=\u001b[0m\u001b[0mnames\u001b[0m\u001b[0;34m,\u001b[0m \u001b[0munits\u001b[0m\u001b[0;34m=\u001b[0m\u001b[0munits\u001b[0m\u001b[0;34m)\u001b[0m\u001b[0;34m\u001b[0m\u001b[0m\n",
      "\u001b[0m\u001b[0;32m    309 \u001b[0;31m    \u001b[0mcnt\u001b[0m\u001b[0;34m.\u001b[0m\u001b[0mmarkers\u001b[0m \u001b[0;34m=\u001b[0m \u001b[0mmarkers\u001b[0m\u001b[0;34m[\u001b[0m\u001b[0;34m:\u001b[0m\u001b[0;34m]\u001b[0m\u001b[0;34m\u001b[0m\u001b[0m\n",
      "\u001b[0m\n"
     ]
    },
    {
     "name": "stdin",
     "output_type": "stream",
     "text": [
      "ipdb>  u\n"
     ]
    },
    {
     "name": "stdout",
     "output_type": "stream",
     "text": [
      "> \u001b[0;32m<ipython-input-7-94f7f9153880>\u001b[0m(77)\u001b[0;36mnf_trial\u001b[0;34m()\u001b[0m\n",
      "\u001b[0;32m     76 \u001b[0;31m\u001b[0;34m\u001b[0m\u001b[0m\n",
      "\u001b[0m\u001b[0;32m---> 77 \u001b[0;31m            \u001b[0mcnt\u001b[0m \u001b[0;34m=\u001b[0m \u001b[0mio\u001b[0m\u001b[0;34m.\u001b[0m\u001b[0mconvert_mushu_data\u001b[0m\u001b[0;34m(\u001b[0m\u001b[0mdata\u001b[0m\u001b[0;34m,\u001b[0m \u001b[0mmarker\u001b[0m\u001b[0;34m,\u001b[0m \u001b[0msfreq\u001b[0m\u001b[0;34m,\u001b[0m \u001b[0mch_names\u001b[0m\u001b[0;34m)\u001b[0m\u001b[0;34m\u001b[0m\u001b[0m\n",
      "\u001b[0m\u001b[0;32m     78 \u001b[0;31m\u001b[0;34m\u001b[0m\u001b[0m\n",
      "\u001b[0m\n"
     ]
    },
    {
     "name": "stdin",
     "output_type": "stream",
     "text": [
      "ipdb>  data.shape\n"
     ]
    },
    {
     "name": "stdout",
     "output_type": "stream",
     "text": [
      "(200, 64)\n"
     ]
    },
    {
     "name": "stdin",
     "output_type": "stream",
     "text": [
      "ipdb>  ch_names\n"
     ]
    },
    {
     "name": "stdout",
     "output_type": "stream",
     "text": [
      "['Fp1', 'Fp2', 'F3', 'F4', 'C3', 'C4', 'P3', 'P4', 'O1', 'O2', 'F7', 'F8', 'T7', 'T8', 'P7', 'P8', 'Fz', 'Cz', 'Pz', 'Oz', 'FC1', 'FC2', 'CP1', 'CP2', 'FC5', 'FC6', 'CP5', 'CP6', 'TP9', 'TP10', 'POz', 'F1', 'F2', 'C1', 'C2', 'P1', 'P2', 'AF3', 'AF4', 'FC3', 'FC4', 'CP3', 'CP4', 'PO3', 'PO4', 'F5', 'F6', 'C5', 'C6', 'P5', 'P6', 'AF7', 'AF8', 'FT7', 'FT8', 'TP7', 'TP8', 'PO7', 'PO8', 'FT9', 'FT10', 'Fpz', 'CPz']\n"
     ]
    },
    {
     "name": "stdin",
     "output_type": "stream",
     "text": [
      "ipdb>  len(ch_names)\n"
     ]
    },
    {
     "name": "stdout",
     "output_type": "stream",
     "text": [
      "63\n"
     ]
    },
    {
     "name": "stdin",
     "output_type": "stream",
     "text": [
      "ipdb>  l\n"
     ]
    },
    {
     "name": "stdout",
     "output_type": "stream",
     "text": [
      "\u001b[1;32m     72 \u001b[0m        \u001b[0;31m# this is where you get the data\u001b[0m\u001b[0;34m\u001b[0m\u001b[0;34m\u001b[0m\u001b[0m\n",
      "\u001b[1;32m     73 \u001b[0m        \u001b[0mdata\u001b[0m\u001b[0;34m,\u001b[0m \u001b[0mmarker\u001b[0m\u001b[0;34m,\u001b[0m \u001b[0mannotations\u001b[0m \u001b[0;34m=\u001b[0m \u001b[0mamp\u001b[0m\u001b[0;34m.\u001b[0m\u001b[0mget_data\u001b[0m\u001b[0;34m(\u001b[0m\u001b[0;34m)\u001b[0m\u001b[0;34m\u001b[0m\u001b[0m\n",
      "\u001b[1;32m     74 \u001b[0m\u001b[0;34m\u001b[0m\u001b[0m\n",
      "\u001b[1;32m     75 \u001b[0m        \u001b[0;32mif\u001b[0m \u001b[0mdata\u001b[0m\u001b[0;34m.\u001b[0m\u001b[0mshape\u001b[0m\u001b[0;34m[\u001b[0m\u001b[0;36m0\u001b[0m\u001b[0;34m]\u001b[0m \u001b[0;34m>\u001b[0m \u001b[0;36m0\u001b[0m\u001b[0;34m:\u001b[0m  \u001b[0;31m# this is crucual for remembering filter state.\u001b[0m\u001b[0;34m\u001b[0m\u001b[0m\n",
      "\u001b[1;32m     76 \u001b[0m\u001b[0;34m\u001b[0m\u001b[0m\n",
      "\u001b[0;32m---> 77 \u001b[0;31m            \u001b[0mcnt\u001b[0m \u001b[0;34m=\u001b[0m \u001b[0mio\u001b[0m\u001b[0;34m.\u001b[0m\u001b[0mconvert_mushu_data\u001b[0m\u001b[0;34m(\u001b[0m\u001b[0mdata\u001b[0m\u001b[0;34m,\u001b[0m \u001b[0mmarker\u001b[0m\u001b[0;34m,\u001b[0m \u001b[0msfreq\u001b[0m\u001b[0;34m,\u001b[0m \u001b[0mch_names\u001b[0m\u001b[0;34m)\u001b[0m\u001b[0;34m\u001b[0m\u001b[0m\n",
      "\u001b[0m\u001b[1;32m     78 \u001b[0m\u001b[0;34m\u001b[0m\u001b[0m\n",
      "\u001b[1;32m     79 \u001b[0m\u001b[0;34m\u001b[0m\u001b[0m\n",
      "\u001b[1;32m     80 \u001b[0m            \u001b[0;32mif\u001b[0m \u001b[0mcount\u001b[0m \u001b[0;34m==\u001b[0m \u001b[0;36m0\u001b[0m\u001b[0;34m:\u001b[0m\u001b[0;34m\u001b[0m\u001b[0m\n",
      "\u001b[1;32m     81 \u001b[0m                \u001b[0mcnt_removed\u001b[0m \u001b[0;34m=\u001b[0m \u001b[0mproc\u001b[0m\u001b[0;34m.\u001b[0m\u001b[0mremove_channels\u001b[0m\u001b[0;34m(\u001b[0m\u001b[0mcnt\u001b[0m\u001b[0;34m,\u001b[0m \u001b[0;34m[\u001b[0m\u001b[0;34m'ECG'\u001b[0m\u001b[0;34m]\u001b[0m\u001b[0;34m)\u001b[0m\u001b[0;34m\u001b[0m\u001b[0m\n",
      "\u001b[1;32m     82 \u001b[0m                \u001b[0mcnt_corrected\u001b[0m \u001b[0;34m=\u001b[0m \u001b[0mmulti_dot\u001b[0m\u001b[0;34m(\u001b[0m\u001b[0;34m[\u001b[0m\u001b[0mpca_comps\u001b[0m\u001b[0;34m.\u001b[0m\u001b[0mT\u001b[0m\u001b[0;34m,\u001b[0m \u001b[0mM\u001b[0m\u001b[0;34m,\u001b[0m \u001b[0mS\u001b[0m\u001b[0;34m,\u001b[0m \u001b[0mM_inv\u001b[0m\u001b[0;34m,\u001b[0m \u001b[0mpca_comps\u001b[0m\u001b[0;34m,\u001b[0m \u001b[0mcnt_removed\u001b[0m\u001b[0;34m.\u001b[0m\u001b[0mdata\u001b[0m\u001b[0;34m.\u001b[0m\u001b[0mT\u001b[0m\u001b[0;34m]\u001b[0m\u001b[0;34m)\u001b[0m\u001b[0;34m.\u001b[0m\u001b[0mT\u001b[0m\u001b[0;34m\u001b[0m\u001b[0m\n",
      "\n"
     ]
    },
    {
     "name": "stdin",
     "output_type": "stream",
     "text": [
      "ipdb>  ll\n"
     ]
    },
    {
     "name": "stdout",
     "output_type": "stream",
     "text": [
      "\u001b[1;32m      1 \u001b[0m\u001b[0;32mdef\u001b[0m \u001b[0mnf_trial\u001b[0m\u001b[0;34m(\u001b[0m\u001b[0mtask\u001b[0m\u001b[0;34m,\u001b[0m \u001b[0mthr\u001b[0m\u001b[0;34m=\u001b[0m\u001b[0;32mNone\u001b[0m\u001b[0;34m,\u001b[0m \u001b[0mcount\u001b[0m\u001b[0;34m=\u001b[0m\u001b[0;36m0\u001b[0m\u001b[0;34m)\u001b[0m\u001b[0;34m:\u001b[0m\u001b[0;34m\u001b[0m\u001b[0m\n",
      "\u001b[1;32m      2 \u001b[0m    \u001b[0mget_ipython\u001b[0m\u001b[0;34m(\u001b[0m\u001b[0;34m)\u001b[0m\u001b[0;34m.\u001b[0m\u001b[0mrun_line_magic\u001b[0m\u001b[0;34m(\u001b[0m\u001b[0;34m'matplotlib'\u001b[0m\u001b[0;34m,\u001b[0m \u001b[0;34m'qt5'\u001b[0m\u001b[0;34m)\u001b[0m\u001b[0;34m\u001b[0m\u001b[0m\n",
      "\u001b[1;32m      3 \u001b[0m    \u001b[0mplt\u001b[0m\u001b[0;34m.\u001b[0m\u001b[0mion\u001b[0m\u001b[0;34m(\u001b[0m\u001b[0;34m)\u001b[0m  \u001b[0;31m# enable widget plots & interactive plots\u001b[0m\u001b[0;34m\u001b[0m\u001b[0m\n",
      "\u001b[1;32m      4 \u001b[0m    \u001b[0mdata_length\u001b[0m \u001b[0;34m=\u001b[0m \u001b[0mnp\u001b[0m\u001b[0;34m.\u001b[0m\u001b[0mlinspace\u001b[0m\u001b[0;34m(\u001b[0m\u001b[0;36m0\u001b[0m\u001b[0;34m,\u001b[0m\u001b[0;36m600\u001b[0m\u001b[0;34m*\u001b[0m\u001b[0;36m5000\u001b[0m\u001b[0;34m,\u001b[0m\u001b[0mnum\u001b[0m\u001b[0;34m=\u001b[0m\u001b[0;36m600\u001b[0m\u001b[0;34m*\u001b[0m\u001b[0;36m5000\u001b[0m\u001b[0;34m)\u001b[0m\u001b[0;34m\u001b[0m\u001b[0m\n",
      "\u001b[1;32m      5 \u001b[0m    \u001b[0mfs\u001b[0m\u001b[0;34m=\u001b[0m\u001b[0;36m5000.\u001b[0m\u001b[0;34m\u001b[0m\u001b[0m\n",
      "\u001b[1;32m      6 \u001b[0m    \u001b[0mtime_in_plot\u001b[0m\u001b[0;34m=\u001b[0m\u001b[0;36m6\u001b[0m\u001b[0;34m\u001b[0m\u001b[0m\n",
      "\u001b[1;32m      7 \u001b[0m    \u001b[0msy1\u001b[0m\u001b[0;34m=\u001b[0m\u001b[0mdeque\u001b[0m\u001b[0;34m(\u001b[0m\u001b[0mnp\u001b[0m\u001b[0;34m.\u001b[0m\u001b[0mzeros\u001b[0m\u001b[0;34m(\u001b[0m\u001b[0mround\u001b[0m\u001b[0;34m(\u001b[0m\u001b[0mfs\u001b[0m \u001b[0;34m*\u001b[0m \u001b[0mtime_in_plot\u001b[0m\u001b[0;34m)\u001b[0m\u001b[0;34m)\u001b[0m\u001b[0;34m,\u001b[0m \u001b[0mround\u001b[0m\u001b[0;34m(\u001b[0m\u001b[0mfs\u001b[0m \u001b[0;34m*\u001b[0m \u001b[0mtime_in_plot\u001b[0m\u001b[0;34m)\u001b[0m\u001b[0;34m)\u001b[0m\u001b[0;34m\u001b[0m\u001b[0m\n",
      "\u001b[1;32m      8 \u001b[0m    \u001b[0msy2\u001b[0m\u001b[0;34m=\u001b[0m\u001b[0mdeque\u001b[0m\u001b[0;34m(\u001b[0m\u001b[0mnp\u001b[0m\u001b[0;34m.\u001b[0m\u001b[0mzeros\u001b[0m\u001b[0;34m(\u001b[0m\u001b[0mround\u001b[0m\u001b[0;34m(\u001b[0m\u001b[0mfs\u001b[0m \u001b[0;34m*\u001b[0m \u001b[0mtime_in_plot\u001b[0m\u001b[0;34m)\u001b[0m\u001b[0;34m)\u001b[0m\u001b[0;34m,\u001b[0m \u001b[0mround\u001b[0m\u001b[0;34m(\u001b[0m\u001b[0mfs\u001b[0m \u001b[0;34m*\u001b[0m \u001b[0mtime_in_plot\u001b[0m\u001b[0;34m)\u001b[0m\u001b[0;34m)\u001b[0m\u001b[0;34m\u001b[0m\u001b[0m\n",
      "\u001b[1;32m      9 \u001b[0m    \u001b[0msy3\u001b[0m\u001b[0;34m=\u001b[0m\u001b[0mdeque\u001b[0m\u001b[0;34m(\u001b[0m\u001b[0mnp\u001b[0m\u001b[0;34m.\u001b[0m\u001b[0mzeros\u001b[0m\u001b[0;34m(\u001b[0m\u001b[0mround\u001b[0m\u001b[0;34m(\u001b[0m\u001b[0mfs\u001b[0m \u001b[0;34m*\u001b[0m \u001b[0mtime_in_plot\u001b[0m\u001b[0;34m)\u001b[0m\u001b[0;34m)\u001b[0m\u001b[0;34m,\u001b[0m \u001b[0mround\u001b[0m\u001b[0;34m(\u001b[0m\u001b[0mfs\u001b[0m \u001b[0;34m*\u001b[0m \u001b[0mtime_in_plot\u001b[0m\u001b[0;34m)\u001b[0m\u001b[0;34m)\u001b[0m\u001b[0;34m\u001b[0m\u001b[0m\n",
      "\u001b[1;32m     10 \u001b[0m    \u001b[0msy4\u001b[0m\u001b[0;34m=\u001b[0m\u001b[0mdeque\u001b[0m\u001b[0;34m(\u001b[0m\u001b[0mnp\u001b[0m\u001b[0;34m.\u001b[0m\u001b[0mzeros\u001b[0m\u001b[0;34m(\u001b[0m\u001b[0mround\u001b[0m\u001b[0;34m(\u001b[0m\u001b[0mfs\u001b[0m \u001b[0;34m*\u001b[0m \u001b[0mtime_in_plot\u001b[0m\u001b[0;34m)\u001b[0m\u001b[0;34m)\u001b[0m\u001b[0;34m,\u001b[0m \u001b[0mround\u001b[0m\u001b[0;34m(\u001b[0m\u001b[0mfs\u001b[0m \u001b[0;34m*\u001b[0m \u001b[0mtime_in_plot\u001b[0m\u001b[0;34m)\u001b[0m\u001b[0;34m)\u001b[0m\u001b[0;34m\u001b[0m\u001b[0m\n",
      "\u001b[1;32m     11 \u001b[0m    \u001b[0mchannel_to_plot\u001b[0m\u001b[0;34m=\u001b[0m\u001b[0;36m0\u001b[0m\u001b[0;34m\u001b[0m\u001b[0m\n",
      "\u001b[1;32m     12 \u001b[0m    \u001b[0msx\u001b[0m\u001b[0;34m=\u001b[0m\u001b[0mdeque\u001b[0m\u001b[0;34m(\u001b[0m\u001b[0mnp\u001b[0m\u001b[0;34m.\u001b[0m\u001b[0mzeros\u001b[0m\u001b[0;34m(\u001b[0m\u001b[0mround\u001b[0m\u001b[0;34m(\u001b[0m\u001b[0mfs\u001b[0m \u001b[0;34m*\u001b[0m \u001b[0mtime_in_plot\u001b[0m\u001b[0;34m)\u001b[0m\u001b[0;34m)\u001b[0m\u001b[0;34m,\u001b[0m \u001b[0mround\u001b[0m\u001b[0;34m(\u001b[0m\u001b[0mfs\u001b[0m \u001b[0;34m*\u001b[0m \u001b[0mtime_in_plot\u001b[0m\u001b[0;34m)\u001b[0m\u001b[0;34m)\u001b[0m\u001b[0;34m\u001b[0m\u001b[0m\n",
      "\u001b[1;32m     13 \u001b[0m    \u001b[0;32mif\u001b[0m \u001b[0mtask\u001b[0m\u001b[0;34m==\u001b[0m\u001b[0;36m1\u001b[0m\u001b[0;34m:\u001b[0m\u001b[0;34m\u001b[0m\u001b[0m\n",
      "\u001b[1;32m     14 \u001b[0m        \u001b[0mbcinet\u001b[0m\u001b[0;34m.\u001b[0m\u001b[0msend_init\u001b[0m\u001b[0;34m(\u001b[0m\u001b[0;34m'BrainWaveTraining_II'\u001b[0m\u001b[0;34m)\u001b[0m\u001b[0;34m\u001b[0m\u001b[0m\n",
      "\u001b[1;32m     15 \u001b[0m    \u001b[0;32melif\u001b[0m \u001b[0mtask\u001b[0m\u001b[0;34m==\u001b[0m\u001b[0;36m0\u001b[0m\u001b[0;34m:\u001b[0m\u001b[0;34m\u001b[0m\u001b[0m\n",
      "\u001b[1;32m     16 \u001b[0m        \u001b[0mbcinet\u001b[0m\u001b[0;34m.\u001b[0m\u001b[0msend_init\u001b[0m\u001b[0;34m(\u001b[0m\u001b[0;34m'RestingState'\u001b[0m\u001b[0;34m)\u001b[0m\u001b[0;34m\u001b[0m\u001b[0m\n",
      "\u001b[1;32m     17 \u001b[0m        \u001b[0mbcinet\u001b[0m\u001b[0;34m.\u001b[0m\u001b[0msend_signal\u001b[0m\u001b[0;34m(\u001b[0m\u001b[0mbcixml\u001b[0m\u001b[0;34m.\u001b[0m\u001b[0mBciSignal\u001b[0m\u001b[0;34m(\u001b[0m\u001b[0;34m{\u001b[0m\u001b[0;34m'EYESCLOSED_TIME'\u001b[0m\u001b[0;34m:\u001b[0m \u001b[0;36m300.0\u001b[0m\u001b[0;34m}\u001b[0m\u001b[0;34m,\u001b[0m\u001b[0;32mNone\u001b[0m\u001b[0;34m,\u001b[0m \u001b[0mbcixml\u001b[0m\u001b[0;34m.\u001b[0m\u001b[0mINTERACTION_SIGNAL\u001b[0m\u001b[0;34m)\u001b[0m\u001b[0;34m)\u001b[0m\u001b[0;34m\u001b[0m\u001b[0m\n",
      "\u001b[1;32m     18 \u001b[0m    \u001b[0;31m#c=camera.DoCamera(); c.start()\u001b[0m\u001b[0;34m\u001b[0m\u001b[0;34m\u001b[0m\u001b[0m\n",
      "\u001b[1;32m     19 \u001b[0m    \u001b[0mbcinet\u001b[0m\u001b[0;34m.\u001b[0m\u001b[0msend_signal\u001b[0m\u001b[0;34m(\u001b[0m\u001b[0mbcixml\u001b[0m\u001b[0;34m.\u001b[0m\u001b[0mBciSignal\u001b[0m\u001b[0;34m(\u001b[0m\u001b[0;34m{\u001b[0m\u001b[0;34m'EX_TESTNFNOISE'\u001b[0m\u001b[0;34m:\u001b[0m \u001b[0;32mFalse\u001b[0m\u001b[0;34m}\u001b[0m\u001b[0;34m,\u001b[0m\u001b[0;32mNone\u001b[0m\u001b[0;34m,\u001b[0m \u001b[0mbcixml\u001b[0m\u001b[0;34m.\u001b[0m\u001b[0mINTERACTION_SIGNAL\u001b[0m\u001b[0;34m)\u001b[0m\u001b[0;34m)\u001b[0m\u001b[0;34m\u001b[0m\u001b[0m\n",
      "\u001b[1;32m     20 \u001b[0m\u001b[0;34m\u001b[0m\u001b[0m\n",
      "\u001b[1;32m     21 \u001b[0m    \u001b[0;31m# if on wrong screen:\u001b[0m\u001b[0;34m\u001b[0m\u001b[0;34m\u001b[0m\u001b[0m\n",
      "\u001b[1;32m     22 \u001b[0m    \u001b[0mbcinet\u001b[0m\u001b[0;34m.\u001b[0m\u001b[0msend_signal\u001b[0m\u001b[0;34m(\u001b[0m\u001b[0mbcixml\u001b[0m\u001b[0;34m.\u001b[0m\u001b[0mBciSignal\u001b[0m\u001b[0;34m(\u001b[0m\u001b[0;34m{\u001b[0m\u001b[0;34m'MONITOR_DISPLAYONSCREEN'\u001b[0m\u001b[0;34m:\u001b[0m \u001b[0;36m1\u001b[0m\u001b[0;34m}\u001b[0m\u001b[0;34m,\u001b[0m\u001b[0;32mNone\u001b[0m\u001b[0;34m,\u001b[0m \u001b[0mbcixml\u001b[0m\u001b[0;34m.\u001b[0m\u001b[0mINTERACTION_SIGNAL\u001b[0m\u001b[0;34m)\u001b[0m\u001b[0;34m)\u001b[0m\u001b[0;34m\u001b[0m\u001b[0m\n",
      "\u001b[1;32m     23 \u001b[0m\u001b[0;34m\u001b[0m\u001b[0m\n",
      "\u001b[1;32m     24 \u001b[0m    \u001b[0mbcinet\u001b[0m\u001b[0;34m.\u001b[0m\u001b[0mplay\u001b[0m\u001b[0;34m(\u001b[0m\u001b[0;34m)\u001b[0m\u001b[0;34m\u001b[0m\u001b[0m\n",
      "\u001b[1;32m     25 \u001b[0m    \u001b[0mbcinet\u001b[0m\u001b[0;34m.\u001b[0m\u001b[0msend_signal\u001b[0m\u001b[0;34m(\u001b[0m\u001b[0mbcixml\u001b[0m\u001b[0;34m.\u001b[0m\u001b[0mBciSignal\u001b[0m\u001b[0;34m(\u001b[0m\u001b[0;34m{\u001b[0m\u001b[0;34m'emgThrContainer'\u001b[0m\u001b[0;34m:\u001b[0m \u001b[0;36m0.1\u001b[0m\u001b[0;34m}\u001b[0m\u001b[0;34m,\u001b[0m \u001b[0;32mNone\u001b[0m\u001b[0;34m,\u001b[0m \u001b[0mbcixml\u001b[0m\u001b[0;34m.\u001b[0m\u001b[0mCONTROL_SIGNAL\u001b[0m\u001b[0;34m)\u001b[0m\u001b[0;34m)\u001b[0m\u001b[0;34m\u001b[0m\u001b[0m\n",
      "\u001b[1;32m     26 \u001b[0m    \u001b[0mamp\u001b[0m\u001b[0;34m.\u001b[0m\u001b[0mstart\u001b[0m\u001b[0;34m(\u001b[0m\u001b[0;34m)\u001b[0m\u001b[0;34m\u001b[0m\u001b[0m\n",
      "\u001b[1;32m     27 \u001b[0m\u001b[0;34m\u001b[0m\u001b[0m\n",
      "\u001b[1;32m     28 \u001b[0m    \u001b[0mimportlib\u001b[0m\u001b[0;34m.\u001b[0m\u001b[0mreload\u001b[0m\u001b[0;34m(\u001b[0m\u001b[0msignaltracking\u001b[0m\u001b[0;34m)\u001b[0m\u001b[0;34m\u001b[0m\u001b[0m\n",
      "\u001b[1;32m     29 \u001b[0m\u001b[0;34m\u001b[0m\u001b[0m\n",
      "\u001b[1;32m     30 \u001b[0m    \u001b[0;31m# from wyrm import signaltracking\u001b[0m\u001b[0;34m\u001b[0m\u001b[0;34m\u001b[0m\u001b[0m\n",
      "\u001b[1;32m     31 \u001b[0m    \u001b[0meegfilter\u001b[0m \u001b[0;34m=\u001b[0m \u001b[0mfiltering\u001b[0m\u001b[0;34m.\u001b[0m\u001b[0mbwBPF\u001b[0m\u001b[0;34m(\u001b[0m\u001b[0;36m12\u001b[0m\u001b[0;34m,\u001b[0m\u001b[0;36m15\u001b[0m\u001b[0;34m)\u001b[0m\u001b[0;34m\u001b[0m\u001b[0m\n",
      "\u001b[1;32m     32 \u001b[0m    \u001b[0memgfilter\u001b[0m \u001b[0;34m=\u001b[0m \u001b[0mfiltering\u001b[0m\u001b[0;34m.\u001b[0m\u001b[0mbwHPF\u001b[0m\u001b[0;34m(\u001b[0m\u001b[0;36m50\u001b[0m\u001b[0;34m)\u001b[0m\u001b[0;34m\u001b[0m\u001b[0m\n",
      "\u001b[1;32m     33 \u001b[0m    \u001b[0;31m# smoother = filtering.bwExponentialSmoother(0.998)\u001b[0m\u001b[0;34m\u001b[0m\u001b[0;34m\u001b[0m\u001b[0m\n",
      "\u001b[1;32m     34 \u001b[0m    \u001b[0;31m# smoother = filtering.bwLPF(2,order=2)\u001b[0m\u001b[0;34m\u001b[0m\u001b[0;34m\u001b[0m\u001b[0m\n",
      "\u001b[1;32m     35 \u001b[0m    \u001b[0msmoother_eeg\u001b[0m \u001b[0;34m=\u001b[0m \u001b[0mfiltering\u001b[0m\u001b[0;34m.\u001b[0m\u001b[0mbwSimpleAverager\u001b[0m\u001b[0;34m(\u001b[0m\u001b[0;36m300\u001b[0m\u001b[0;34m,\u001b[0m\u001b[0;36m2\u001b[0m\u001b[0;34m)\u001b[0m\u001b[0;34m\u001b[0m\u001b[0m\n",
      "\u001b[1;32m     36 \u001b[0m    \u001b[0msmoother_emg\u001b[0m \u001b[0;34m=\u001b[0m \u001b[0mfiltering\u001b[0m\u001b[0;34m.\u001b[0m\u001b[0mbwSimpleAverager\u001b[0m\u001b[0;34m(\u001b[0m\u001b[0;36m300\u001b[0m\u001b[0;34m,\u001b[0m\u001b[0;36m2\u001b[0m\u001b[0;34m)\u001b[0m\u001b[0;34m\u001b[0m\u001b[0m\n",
      "\u001b[1;32m     37 \u001b[0m\u001b[0;34m\u001b[0m\u001b[0m\n",
      "\u001b[1;32m     38 \u001b[0m    \u001b[0mtrack_for_eeg_stimuli\u001b[0m \u001b[0;34m=\u001b[0m \u001b[0msignaltracking\u001b[0m\u001b[0;34m.\u001b[0m\u001b[0msending_to_nfstim\u001b[0m\u001b[0;34m(\u001b[0m\u001b[0mthr\u001b[0m\u001b[0;34m=\u001b[0m\u001b[0;36m1.0\u001b[0m\u001b[0;34m,\u001b[0m \u001b[0mdur\u001b[0m\u001b[0;34m=\u001b[0m\u001b[0;36m0.20\u001b[0m\u001b[0;34m,\u001b[0m \u001b[0mfeedback_type\u001b[0m\u001b[0;34m=\u001b[0m\u001b[0;34m'eeg'\u001b[0m\u001b[0;34m,\u001b[0m \u001b[0mmax4audio\u001b[0m\u001b[0;34m=\u001b[0m\u001b[0;36m1.2\u001b[0m\u001b[0;34m,\u001b[0m \u001b[0mbcinet\u001b[0m\u001b[0;34m=\u001b[0m\u001b[0mbcinet\u001b[0m\u001b[0;34m,\u001b[0m \u001b[0mst_scaling\u001b[0m\u001b[0;34m=\u001b[0m\u001b[0;36m10\u001b[0m\u001b[0;34m)\u001b[0m\u001b[0;34m\u001b[0m\u001b[0m\n",
      "\u001b[1;32m     39 \u001b[0m    \u001b[0mtrack_for_emg_stimuli\u001b[0m \u001b[0;34m=\u001b[0m \u001b[0msignaltracking\u001b[0m\u001b[0;34m.\u001b[0m\u001b[0msending_to_nfstim\u001b[0m\u001b[0;34m(\u001b[0m\u001b[0mthr\u001b[0m\u001b[0;34m=\u001b[0m\u001b[0;36m50\u001b[0m\u001b[0;34m,\u001b[0m \u001b[0mdur\u001b[0m\u001b[0;34m=\u001b[0m\u001b[0;36m0.15\u001b[0m\u001b[0;34m,\u001b[0m \u001b[0mfeedback_type\u001b[0m\u001b[0;34m=\u001b[0m\u001b[0;34m'emg'\u001b[0m\u001b[0;34m,\u001b[0m \u001b[0mbcinet\u001b[0m\u001b[0;34m=\u001b[0m\u001b[0mbcinet\u001b[0m\u001b[0;34m,\u001b[0m \u001b[0mst_scaling\u001b[0m\u001b[0;34m=\u001b[0m\u001b[0;36m100\u001b[0m\u001b[0;34m)\u001b[0m\u001b[0;34m\u001b[0m\u001b[0m\n",
      "\u001b[1;32m     40 \u001b[0m\u001b[0;34m\u001b[0m\u001b[0m\n",
      "\u001b[1;32m     41 \u001b[0m    \u001b[0ml\u001b[0m\u001b[0;34m=\u001b[0m\u001b[0mLoopState\u001b[0m\u001b[0;34m(\u001b[0m\u001b[0;34m)\u001b[0m\u001b[0;34m;\u001b[0m \u001b[0ml\u001b[0m\u001b[0;34m.\u001b[0m\u001b[0mstart\u001b[0m\u001b[0;34m(\u001b[0m\u001b[0;34m)\u001b[0m\u001b[0;34m\u001b[0m\u001b[0m\n",
      "\u001b[1;32m     42 \u001b[0m    \u001b[0malld\u001b[0m\u001b[0;34m=\u001b[0m\u001b[0mdynarray\u001b[0m\u001b[0;34m.\u001b[0m\u001b[0mDynamicArray\u001b[0m\u001b[0;34m(\u001b[0m\u001b[0;34m(\u001b[0m\u001b[0;32mNone\u001b[0m\u001b[0;34m,\u001b[0m \u001b[0;36m2\u001b[0m\u001b[0;34m)\u001b[0m\u001b[0;34m)\u001b[0m\u001b[0;34m\u001b[0m\u001b[0m\n",
      "\u001b[1;32m     43 \u001b[0m    \u001b[0malld_ica\u001b[0m\u001b[0;34m=\u001b[0m\u001b[0mdynarray\u001b[0m\u001b[0;34m.\u001b[0m\u001b[0mDynamicArray\u001b[0m\u001b[0;34m(\u001b[0m\u001b[0;34m(\u001b[0m\u001b[0;32mNone\u001b[0m\u001b[0;34m,\u001b[0m \u001b[0mlen\u001b[0m\u001b[0;34m(\u001b[0m\u001b[0mamp\u001b[0m\u001b[0;34m.\u001b[0m\u001b[0mget_channels\u001b[0m\u001b[0;34m(\u001b[0m\u001b[0;34m)\u001b[0m\u001b[0;34m)\u001b[0m\u001b[0;34m)\u001b[0m\u001b[0;34m)\u001b[0m \u001b[0;31m# data\u001b[0m\u001b[0;34m\u001b[0m\u001b[0m\n",
      "\u001b[1;32m     44 \u001b[0m    \u001b[0mallm\u001b[0m\u001b[0;34m=\u001b[0m\u001b[0;34m[\u001b[0m\u001b[0;34m]\u001b[0m     \u001b[0;31m# markers\u001b[0m\u001b[0;34m\u001b[0m\u001b[0m\n",
      "\u001b[1;32m     45 \u001b[0m    \u001b[0mdts\u001b[0m\u001b[0;34m,\u001b[0m\u001b[0msent\u001b[0m\u001b[0;34m=\u001b[0m\u001b[0;34m[\u001b[0m\u001b[0;34m]\u001b[0m\u001b[0;34m,\u001b[0m\u001b[0;34m[\u001b[0m\u001b[0;34m]\u001b[0m\u001b[0;34m\u001b[0m\u001b[0m\n",
      "\u001b[1;32m     46 \u001b[0m    \u001b[0mmarkeroffset\u001b[0m \u001b[0;34m=\u001b[0m \u001b[0;36m0\u001b[0m  \u001b[0;31m# needed to store all data in one big mat/vector\u001b[0m\u001b[0;34m\u001b[0m\u001b[0m\n",
      "\u001b[1;32m     47 \u001b[0m    \u001b[0mt0\u001b[0m\u001b[0;34m=\u001b[0m\u001b[0mtime\u001b[0m\u001b[0;34m.\u001b[0m\u001b[0mtime\u001b[0m\u001b[0;34m(\u001b[0m\u001b[0;34m)\u001b[0m\u001b[0;34m\u001b[0m\u001b[0m\n",
      "\u001b[1;32m     48 \u001b[0m    \u001b[0mcurTime\u001b[0m\u001b[0;34m=\u001b[0m\u001b[0mtime\u001b[0m\u001b[0;34m.\u001b[0m\u001b[0mtime\u001b[0m\u001b[0;34m(\u001b[0m\u001b[0;34m)\u001b[0m\u001b[0;34m\u001b[0m\u001b[0m\n",
      "\u001b[1;32m     49 \u001b[0m    \u001b[0mtotalTime\u001b[0m \u001b[0;34m=\u001b[0m \u001b[0;36m500\u001b[0m\u001b[0;34m\u001b[0m\u001b[0m\n",
      "\u001b[1;32m     50 \u001b[0m    \u001b[0mst\u001b[0m\u001b[0;34m=\u001b[0m\u001b[0;34m''\u001b[0m\u001b[0;34m\u001b[0m\u001b[0m\n",
      "\u001b[1;32m     51 \u001b[0m\u001b[0;34m\u001b[0m\u001b[0m\n",
      "\u001b[1;32m     52 \u001b[0m    \u001b[0;31m#fig=plt.figure(figsize=(20,12))  # plotting...\u001b[0m\u001b[0;34m\u001b[0m\u001b[0;34m\u001b[0m\u001b[0m\n",
      "\u001b[1;32m     53 \u001b[0m    \u001b[0;31m#th=fig.suptitle('', fontsize=16)\u001b[0m\u001b[0;34m\u001b[0m\u001b[0;34m\u001b[0m\u001b[0m\n",
      "\u001b[1;32m     54 \u001b[0m    \u001b[0;31m#ah1=fig.add_subplot(211)\u001b[0m\u001b[0;34m\u001b[0m\u001b[0;34m\u001b[0m\u001b[0m\n",
      "\u001b[1;32m     55 \u001b[0m    \u001b[0;31m#ah2=fig.add_subplot(212)\u001b[0m\u001b[0;34m\u001b[0m\u001b[0;34m\u001b[0m\u001b[0m\n",
      "\u001b[1;32m     56 \u001b[0m\u001b[0;34m\u001b[0m\u001b[0m\n",
      "\u001b[1;32m     57 \u001b[0m    \u001b[0;31m#l1, = ah1.plot(sx, sy1, color='b', label='Raw')\u001b[0m\u001b[0;34m\u001b[0m\u001b[0;34m\u001b[0m\u001b[0m\n",
      "\u001b[1;32m     58 \u001b[0m    \u001b[0;31m#l2, = ah1.plot(sx, sy2, color='r', label='Corrected')\u001b[0m\u001b[0;34m\u001b[0m\u001b[0;34m\u001b[0m\u001b[0m\n",
      "\u001b[1;32m     59 \u001b[0m    \u001b[0;31m#l3, = ah2.plot(sx, sy3, color='b', label='Raw')\u001b[0m\u001b[0;34m\u001b[0m\u001b[0;34m\u001b[0m\u001b[0m\n",
      "\u001b[1;32m     60 \u001b[0m    \u001b[0;31m#l4, = ah2.plot(sx, sy4, color='r', label='Corrected')\u001b[0m\u001b[0;34m\u001b[0m\u001b[0;34m\u001b[0m\u001b[0m\n",
      "\u001b[1;32m     61 \u001b[0m\u001b[0;34m\u001b[0m\u001b[0m\n",
      "\u001b[1;32m     62 \u001b[0m    \u001b[0mx_data\u001b[0m\u001b[0;34m=\u001b[0m\u001b[0;36m0\u001b[0m\u001b[0;34m\u001b[0m\u001b[0m\n",
      "\u001b[1;32m     63 \u001b[0m    \u001b[0;32mwhile\u001b[0m \u001b[0ml\u001b[0m\u001b[0;34m.\u001b[0m\u001b[0mget_state\u001b[0m\u001b[0;34m(\u001b[0m\u001b[0;34m)\u001b[0m \u001b[0;34m!=\u001b[0m \u001b[0;34m'Stop'\u001b[0m \u001b[0;32mor\u001b[0m \u001b[0mcurTime\u001b[0m \u001b[0;34m<\u001b[0m \u001b[0mtotalTime\u001b[0m\u001b[0;34m:\u001b[0m\u001b[0;34m\u001b[0m\u001b[0m\n",
      "\u001b[1;32m     64 \u001b[0m\u001b[0;34m\u001b[0m\u001b[0m\n",
      "\u001b[1;32m     65 \u001b[0m        \u001b[0;31m# keep track of time:\u001b[0m\u001b[0;34m\u001b[0m\u001b[0;34m\u001b[0m\u001b[0m\n",
      "\u001b[1;32m     66 \u001b[0m        \u001b[0mcurTime\u001b[0m \u001b[0;34m=\u001b[0m \u001b[0mtime\u001b[0m\u001b[0;34m.\u001b[0m\u001b[0mtime\u001b[0m\u001b[0;34m(\u001b[0m\u001b[0;34m)\u001b[0m\u001b[0;34m\u001b[0m\u001b[0m\n",
      "\u001b[1;32m     67 \u001b[0m        \u001b[0msfreq\u001b[0m \u001b[0;34m=\u001b[0m \u001b[0;36m5000\u001b[0m\u001b[0;34m\u001b[0m\u001b[0m\n",
      "\u001b[1;32m     68 \u001b[0m        \u001b[0mch_names\u001b[0m \u001b[0;34m=\u001b[0m \u001b[0mamp\u001b[0m\u001b[0;34m.\u001b[0m\u001b[0mget_channels\u001b[0m\u001b[0;34m(\u001b[0m\u001b[0;34m)\u001b[0m\u001b[0;34m\u001b[0m\u001b[0m\n",
      "\u001b[1;32m     69 \u001b[0m        \u001b[0mmarkTime\u001b[0m\u001b[0;34m=\u001b[0m\u001b[0mtime\u001b[0m\u001b[0;34m.\u001b[0m\u001b[0mtime\u001b[0m\u001b[0;34m(\u001b[0m\u001b[0;34m)\u001b[0m\u001b[0;34m\u001b[0m\u001b[0m\n",
      "\u001b[1;32m     70 \u001b[0m        \u001b[0mupdateTime\u001b[0m \u001b[0;34m=\u001b[0m \u001b[0;36m0.01\u001b[0m\u001b[0;34m\u001b[0m\u001b[0m\n",
      "\u001b[1;32m     71 \u001b[0m        \u001b[0mrb\u001b[0m \u001b[0;34m=\u001b[0m \u001b[0mRingBuffer\u001b[0m\u001b[0;34m(\u001b[0m\u001b[0;36m1.0\u001b[0m \u001b[0;34m*\u001b[0m \u001b[0;36m1000\u001b[0m\u001b[0;34m)\u001b[0m\u001b[0;34m\u001b[0m\u001b[0m\n",
      "\u001b[1;32m     72 \u001b[0m        \u001b[0;31m# this is where you get the data\u001b[0m\u001b[0;34m\u001b[0m\u001b[0;34m\u001b[0m\u001b[0m\n",
      "\u001b[1;32m     73 \u001b[0m        \u001b[0mdata\u001b[0m\u001b[0;34m,\u001b[0m \u001b[0mmarker\u001b[0m\u001b[0;34m,\u001b[0m \u001b[0mannotations\u001b[0m \u001b[0;34m=\u001b[0m \u001b[0mamp\u001b[0m\u001b[0;34m.\u001b[0m\u001b[0mget_data\u001b[0m\u001b[0;34m(\u001b[0m\u001b[0;34m)\u001b[0m\u001b[0;34m\u001b[0m\u001b[0m\n",
      "\u001b[1;32m     74 \u001b[0m\u001b[0;34m\u001b[0m\u001b[0m\n",
      "\u001b[1;32m     75 \u001b[0m        \u001b[0;32mif\u001b[0m \u001b[0mdata\u001b[0m\u001b[0;34m.\u001b[0m\u001b[0mshape\u001b[0m\u001b[0;34m[\u001b[0m\u001b[0;36m0\u001b[0m\u001b[0;34m]\u001b[0m \u001b[0;34m>\u001b[0m \u001b[0;36m0\u001b[0m\u001b[0;34m:\u001b[0m  \u001b[0;31m# this is crucual for remembering filter state.\u001b[0m\u001b[0;34m\u001b[0m\u001b[0m\n",
      "\u001b[1;32m     76 \u001b[0m\u001b[0;34m\u001b[0m\u001b[0m\n",
      "\u001b[0;32m---> 77 \u001b[0;31m            \u001b[0mcnt\u001b[0m \u001b[0;34m=\u001b[0m \u001b[0mio\u001b[0m\u001b[0;34m.\u001b[0m\u001b[0mconvert_mushu_data\u001b[0m\u001b[0;34m(\u001b[0m\u001b[0mdata\u001b[0m\u001b[0;34m,\u001b[0m \u001b[0mmarker\u001b[0m\u001b[0;34m,\u001b[0m \u001b[0msfreq\u001b[0m\u001b[0;34m,\u001b[0m \u001b[0mch_names\u001b[0m\u001b[0;34m)\u001b[0m\u001b[0;34m\u001b[0m\u001b[0m\n",
      "\u001b[0m\u001b[1;32m     78 \u001b[0m\u001b[0;34m\u001b[0m\u001b[0m\n",
      "\u001b[1;32m     79 \u001b[0m\u001b[0;34m\u001b[0m\u001b[0m\n",
      "\u001b[1;32m     80 \u001b[0m            \u001b[0;32mif\u001b[0m \u001b[0mcount\u001b[0m \u001b[0;34m==\u001b[0m \u001b[0;36m0\u001b[0m\u001b[0;34m:\u001b[0m\u001b[0;34m\u001b[0m\u001b[0m\n",
      "\u001b[1;32m     81 \u001b[0m                \u001b[0mcnt_removed\u001b[0m \u001b[0;34m=\u001b[0m \u001b[0mproc\u001b[0m\u001b[0;34m.\u001b[0m\u001b[0mremove_channels\u001b[0m\u001b[0;34m(\u001b[0m\u001b[0mcnt\u001b[0m\u001b[0;34m,\u001b[0m \u001b[0;34m[\u001b[0m\u001b[0;34m'ECG'\u001b[0m\u001b[0;34m]\u001b[0m\u001b[0;34m)\u001b[0m\u001b[0;34m\u001b[0m\u001b[0m\n",
      "\u001b[1;32m     82 \u001b[0m                \u001b[0mcnt_corrected\u001b[0m \u001b[0;34m=\u001b[0m \u001b[0mmulti_dot\u001b[0m\u001b[0;34m(\u001b[0m\u001b[0;34m[\u001b[0m\u001b[0mpca_comps\u001b[0m\u001b[0;34m.\u001b[0m\u001b[0mT\u001b[0m\u001b[0;34m,\u001b[0m \u001b[0mM\u001b[0m\u001b[0;34m,\u001b[0m \u001b[0mS\u001b[0m\u001b[0;34m,\u001b[0m \u001b[0mM_inv\u001b[0m\u001b[0;34m,\u001b[0m \u001b[0mpca_comps\u001b[0m\u001b[0;34m,\u001b[0m \u001b[0mcnt_removed\u001b[0m\u001b[0;34m.\u001b[0m\u001b[0mdata\u001b[0m\u001b[0;34m.\u001b[0m\u001b[0mT\u001b[0m\u001b[0;34m]\u001b[0m\u001b[0;34m)\u001b[0m\u001b[0;34m.\u001b[0m\u001b[0mT\u001b[0m\u001b[0;34m\u001b[0m\u001b[0m\n",
      "\u001b[1;32m     83 \u001b[0m\u001b[0;34m\u001b[0m\u001b[0m\n",
      "\u001b[1;32m     84 \u001b[0m                \u001b[0;31m# trouble shooting\u001b[0m\u001b[0;34m\u001b[0m\u001b[0;34m\u001b[0m\u001b[0m\n",
      "\u001b[1;32m     85 \u001b[0m\u001b[0;34m\u001b[0m\u001b[0m\n",
      "\u001b[1;32m     86 \u001b[0m                \u001b[0mch_names\u001b[0m\u001b[0;34m.\u001b[0m\u001b[0mpop\u001b[0m\u001b[0;34m(\u001b[0m\u001b[0;36m31\u001b[0m\u001b[0;34m)\u001b[0m\u001b[0;34m\u001b[0m\u001b[0m\n",
      "\u001b[1;32m     87 \u001b[0m                \u001b[0;31m# ipdb.set_trace()\u001b[0m\u001b[0;34m\u001b[0m\u001b[0;34m\u001b[0m\u001b[0m\n",
      "\u001b[1;32m     88 \u001b[0m                \u001b[0mcnt_corrected\u001b[0m \u001b[0;34m=\u001b[0m \u001b[0mio\u001b[0m\u001b[0;34m.\u001b[0m\u001b[0mconvert_mushu_data\u001b[0m\u001b[0;34m(\u001b[0m\u001b[0mcnt_corrected\u001b[0m\u001b[0;34m,\u001b[0m \u001b[0mmarker\u001b[0m\u001b[0;34m,\u001b[0m \u001b[0msfreq\u001b[0m\u001b[0;34m,\u001b[0m \u001b[0mch_names\u001b[0m\u001b[0;34m)\u001b[0m\u001b[0;34m\u001b[0m\u001b[0m\n",
      "\u001b[1;32m     89 \u001b[0m\u001b[0;34m\u001b[0m\u001b[0m\n",
      "\u001b[1;32m     90 \u001b[0m                \u001b[0meeg_cnt\u001b[0m \u001b[0;34m=\u001b[0m \u001b[0mproc\u001b[0m\u001b[0;34m.\u001b[0m\u001b[0mselect_channels\u001b[0m\u001b[0;34m(\u001b[0m\u001b[0mcnt_corrected\u001b[0m\u001b[0;34m,\u001b[0m \u001b[0;34m[\u001b[0m\u001b[0;34m'C3'\u001b[0m\u001b[0;34m,\u001b[0m\u001b[0;34m'C4'\u001b[0m\u001b[0;34m]\u001b[0m\u001b[0;34m)\u001b[0m\u001b[0;34m\u001b[0m\u001b[0m\n",
      "\u001b[1;32m     91 \u001b[0m            \u001b[0;32melif\u001b[0m \u001b[0mcount\u001b[0m \u001b[0;34m==\u001b[0m \u001b[0;36m1\u001b[0m\u001b[0;34m:\u001b[0m\u001b[0;34m\u001b[0m\u001b[0m\n",
      "\u001b[1;32m     92 \u001b[0m                \u001b[0meeg_cnt\u001b[0m \u001b[0;34m=\u001b[0m \u001b[0mproc\u001b[0m\u001b[0;34m.\u001b[0m\u001b[0mselect_channels\u001b[0m\u001b[0;34m(\u001b[0m\u001b[0mcnt\u001b[0m\u001b[0;34m,\u001b[0m \u001b[0;34m[\u001b[0m\u001b[0;34m'C3'\u001b[0m\u001b[0;34m,\u001b[0m\u001b[0;34m'C4'\u001b[0m\u001b[0;34m]\u001b[0m\u001b[0;34m)\u001b[0m\u001b[0;34m\u001b[0m\u001b[0m\n",
      "\u001b[1;32m     93 \u001b[0m\u001b[0;34m\u001b[0m\u001b[0m\n",
      "\u001b[1;32m     94 \u001b[0m            \u001b[0;31m# preprocessing stream for EEG\u001b[0m\u001b[0;34m\u001b[0m\u001b[0;34m\u001b[0m\u001b[0m\n",
      "\u001b[1;32m     95 \u001b[0m            \u001b[0;31m# ipdb.set_trace()\u001b[0m\u001b[0;34m\u001b[0m\u001b[0;34m\u001b[0m\u001b[0m\n",
      "\u001b[1;32m     96 \u001b[0m            \u001b[0mf_eeg_cnt\u001b[0m \u001b[0;34m=\u001b[0m \u001b[0meegfilter\u001b[0m\u001b[0;34m.\u001b[0m\u001b[0mapply\u001b[0m\u001b[0;34m(\u001b[0m\u001b[0meeg_cnt\u001b[0m\u001b[0;34m)\u001b[0m  \u001b[0;31m# so filter it according to specified above\u001b[0m\u001b[0;34m\u001b[0m\u001b[0m\n",
      "\u001b[1;32m     97 \u001b[0m            \u001b[0maf_eeg_cnt\u001b[0m \u001b[0;34m=\u001b[0m \u001b[0mproc\u001b[0m\u001b[0;34m.\u001b[0m\u001b[0mabsolute\u001b[0m\u001b[0;34m(\u001b[0m\u001b[0mf_eeg_cnt\u001b[0m\u001b[0;34m)\u001b[0m\u001b[0;34m\u001b[0m\u001b[0m\n",
      "\u001b[1;32m     98 \u001b[0m            \u001b[0msaf_eeg_cnt\u001b[0m \u001b[0;34m=\u001b[0m \u001b[0msmoother_eeg\u001b[0m\u001b[0;34m.\u001b[0m\u001b[0mapply\u001b[0m\u001b[0;34m(\u001b[0m\u001b[0maf_eeg_cnt\u001b[0m\u001b[0;34m)\u001b[0m\u001b[0;34m\u001b[0m\u001b[0m\n",
      "\u001b[1;32m     99 \u001b[0m\u001b[0;34m\u001b[0m\u001b[0m\n",
      "\u001b[1;32m    100 \u001b[0m            \u001b[0mdts\u001b[0m\u001b[0;34m.\u001b[0m\u001b[0mappend\u001b[0m\u001b[0;34m(\u001b[0m\u001b[0msaf_eeg_cnt\u001b[0m\u001b[0;34m.\u001b[0m\u001b[0mdata\u001b[0m\u001b[0;34m.\u001b[0m\u001b[0mshape\u001b[0m\u001b[0;34m[\u001b[0m\u001b[0;36m0\u001b[0m\u001b[0;34m]\u001b[0m\u001b[0;34m)\u001b[0m\u001b[0;34m\u001b[0m\u001b[0m\n",
      "\u001b[1;32m    101 \u001b[0m\u001b[0;34m\u001b[0m\u001b[0m\n",
      "\u001b[1;32m    102 \u001b[0m\u001b[0;34m\u001b[0m\u001b[0m\n",
      "\u001b[1;32m    103 \u001b[0m            \u001b[0;31m# communications with the st-stim computer\u001b[0m\u001b[0;34m\u001b[0m\u001b[0;34m\u001b[0m\u001b[0m\n",
      "\u001b[1;32m    104 \u001b[0m            \u001b[0mtf\u001b[0m\u001b[0;34m,\u001b[0m \u001b[0maudioTF\u001b[0m \u001b[0;34m=\u001b[0m \u001b[0mtrack_for_eeg_stimuli\u001b[0m\u001b[0;34m.\u001b[0m\u001b[0mcheck_above_threshold\u001b[0m\u001b[0;34m(\u001b[0m\u001b[0msaf_eeg_cnt\u001b[0m\u001b[0;34m)\u001b[0m  \u001b[0;31m# sends markers (should be fast)\u001b[0m\u001b[0;34m\u001b[0m\u001b[0m\n",
      "\u001b[1;32m    105 \u001b[0m            \u001b[0ms\u001b[0m \u001b[0;34m=\u001b[0m \u001b[0mtrack_for_eeg_stimuli\u001b[0m\u001b[0;34m.\u001b[0m\u001b[0msend_data_signal\u001b[0m\u001b[0;34m(\u001b[0m\u001b[0msaf_eeg_cnt\u001b[0m\u001b[0;34m)\u001b[0m \u001b[0;31m# sends the signal (should also be fast!)\u001b[0m\u001b[0;34m\u001b[0m\u001b[0m\n",
      "\u001b[1;32m    106 \u001b[0m            \u001b[0msent\u001b[0m\u001b[0;34m.\u001b[0m\u001b[0mappend\u001b[0m\u001b[0;34m(\u001b[0m\u001b[0ms\u001b[0m\u001b[0;34m)\u001b[0m\u001b[0;34m\u001b[0m\u001b[0m\n",
      "\u001b[1;32m    107 \u001b[0m\u001b[0;34m\u001b[0m\u001b[0m\n",
      "\u001b[1;32m    108 \u001b[0m            \u001b[0;31m# do the EMG:\u001b[0m\u001b[0;34m\u001b[0m\u001b[0;34m\u001b[0m\u001b[0m\n",
      "\u001b[1;32m    109 \u001b[0m            \u001b[0memg_cnt\u001b[0m \u001b[0;34m=\u001b[0m \u001b[0mproc\u001b[0m\u001b[0;34m.\u001b[0m\u001b[0mselect_channels\u001b[0m\u001b[0;34m(\u001b[0m\u001b[0mcnt\u001b[0m\u001b[0;34m,\u001b[0m \u001b[0;34m[\u001b[0m\u001b[0;34m'O1'\u001b[0m\u001b[0;34m,\u001b[0m\u001b[0;34m'O2'\u001b[0m\u001b[0;34m]\u001b[0m\u001b[0;34m)\u001b[0m\u001b[0;34m\u001b[0m\u001b[0m\n",
      "\u001b[1;32m    110 \u001b[0m            \u001b[0mf_emg_cnt\u001b[0m \u001b[0;34m=\u001b[0m \u001b[0memgfilter\u001b[0m\u001b[0;34m.\u001b[0m\u001b[0mapply\u001b[0m\u001b[0;34m(\u001b[0m\u001b[0memg_cnt\u001b[0m\u001b[0;34m)\u001b[0m  \u001b[0;31m# so filter it according to specified above\u001b[0m\u001b[0;34m\u001b[0m\u001b[0m\n",
      "\u001b[1;32m    111 \u001b[0m            \u001b[0maf_emg_cnt\u001b[0m \u001b[0;34m=\u001b[0m \u001b[0mproc\u001b[0m\u001b[0;34m.\u001b[0m\u001b[0mabsolute\u001b[0m\u001b[0;34m(\u001b[0m\u001b[0mf_emg_cnt\u001b[0m\u001b[0;34m)\u001b[0m\u001b[0;34m\u001b[0m\u001b[0m\n",
      "\u001b[1;32m    112 \u001b[0m            \u001b[0msaf_emg_cnt\u001b[0m \u001b[0;34m=\u001b[0m \u001b[0msmoother_emg\u001b[0m\u001b[0;34m.\u001b[0m\u001b[0mapply\u001b[0m\u001b[0;34m(\u001b[0m\u001b[0maf_emg_cnt\u001b[0m\u001b[0;34m)\u001b[0m\u001b[0;34m\u001b[0m\u001b[0m\n",
      "\u001b[1;32m    113 \u001b[0m\u001b[0;34m\u001b[0m\u001b[0m\n",
      "\u001b[1;32m    114 \u001b[0m            \u001b[0mtfemg\u001b[0m\u001b[0;34m,\u001b[0m \u001b[0maudioTFemg\u001b[0m \u001b[0;34m=\u001b[0m \u001b[0mtrack_for_emg_stimuli\u001b[0m\u001b[0;34m.\u001b[0m\u001b[0mcheck_above_threshold\u001b[0m\u001b[0;34m(\u001b[0m\u001b[0msaf_emg_cnt\u001b[0m\u001b[0;34m)\u001b[0m  \u001b[0;31m# sends markers (should be fast)\u001b[0m\u001b[0;34m\u001b[0m\u001b[0m\n",
      "\u001b[1;32m    115 \u001b[0m            \u001b[0msemg\u001b[0m \u001b[0;34m=\u001b[0m \u001b[0mtrack_for_emg_stimuli\u001b[0m\u001b[0;34m.\u001b[0m\u001b[0msend_data_signal\u001b[0m\u001b[0;34m(\u001b[0m\u001b[0msaf_emg_cnt\u001b[0m\u001b[0;34m)\u001b[0m \u001b[0;31m# sends the signal (should also be fast!)\u001b[0m\u001b[0;34m\u001b[0m\u001b[0m\n",
      "\u001b[1;32m    116 \u001b[0m\u001b[0;34m\u001b[0m\u001b[0m\n",
      "\u001b[1;32m    117 \u001b[0m            \u001b[0;31m#if count==0:\u001b[0m\u001b[0;34m\u001b[0m\u001b[0;34m\u001b[0m\u001b[0m\n",
      "\u001b[1;32m    118 \u001b[0m\u001b[0;34m\u001b[0m\u001b[0m\n",
      "\u001b[1;32m    119 \u001b[0m                \u001b[0;31m#eb_data = cnt.data[:,channel_to_plot]\u001b[0m\u001b[0;34m\u001b[0m\u001b[0;34m\u001b[0m\u001b[0m\n",
      "\u001b[1;32m    120 \u001b[0m                \u001b[0;31m#ch_c3 = cnt.data[:, 4]\u001b[0m\u001b[0;34m\u001b[0m\u001b[0;34m\u001b[0m\u001b[0m\n",
      "\u001b[1;32m    121 \u001b[0m                \u001b[0;31m#cnt_removed = proc.remove_channels(cnt, ['ECG'])\u001b[0m\u001b[0;34m\u001b[0m\u001b[0;34m\u001b[0m\u001b[0m\n",
      "\u001b[1;32m    122 \u001b[0m\u001b[0;34m\u001b[0m\u001b[0m\n",
      "\u001b[1;32m    123 \u001b[0m                \u001b[0;31m#data_corrected = multi_dot([pca_comps.T, M, S, M_inv, pca_comps, cnt_removed.data.T])\u001b[0m\u001b[0;34m\u001b[0m\u001b[0;34m\u001b[0m\u001b[0m\n",
      "\u001b[1;32m    124 \u001b[0m\u001b[0;34m\u001b[0m\u001b[0m\n",
      "\u001b[1;32m    125 \u001b[0m                \u001b[0;31m#sy1.extend(eb_data)\u001b[0m\u001b[0;34m\u001b[0m\u001b[0;34m\u001b[0m\u001b[0m\n",
      "\u001b[1;32m    126 \u001b[0m                \u001b[0;31m#sy2.extend(data_corrected[channel_to_plot,:]*1e-15)\u001b[0m\u001b[0;34m\u001b[0m\u001b[0;34m\u001b[0m\u001b[0m\n",
      "\u001b[1;32m    127 \u001b[0m                \u001b[0;31m#sy3.extend(ch_c3)\u001b[0m\u001b[0;34m\u001b[0m\u001b[0;34m\u001b[0m\u001b[0m\n",
      "\u001b[1;32m    128 \u001b[0m                \u001b[0;31m#sy4.extend(data_corrected[channel_to_plot,:]*1e-16)\u001b[0m\u001b[0;34m\u001b[0m\u001b[0;34m\u001b[0m\u001b[0m\n",
      "\u001b[1;32m    129 \u001b[0m\u001b[0;34m\u001b[0m\u001b[0m\n",
      "\u001b[1;32m    130 \u001b[0m                \u001b[0;31m#sx.extend(data_length[x_data:x_data+len(eb_data)]/fs)\u001b[0m\u001b[0;34m\u001b[0m\u001b[0;34m\u001b[0m\u001b[0m\n",
      "\u001b[1;32m    131 \u001b[0m\u001b[0;34m\u001b[0m\u001b[0m\n",
      "\u001b[1;32m    132 \u001b[0m                \u001b[0;31m#l1.set_ydata(sy1)\u001b[0m\u001b[0;34m\u001b[0m\u001b[0;34m\u001b[0m\u001b[0m\n",
      "\u001b[1;32m    133 \u001b[0m                \u001b[0;31m#l2.set_ydata(sy2)\u001b[0m\u001b[0;34m\u001b[0m\u001b[0;34m\u001b[0m\u001b[0m\n",
      "\u001b[1;32m    134 \u001b[0m                \u001b[0;31m#l3.set_ydata(sy3)\u001b[0m\u001b[0;34m\u001b[0m\u001b[0;34m\u001b[0m\u001b[0m\n",
      "\u001b[1;32m    135 \u001b[0m                \u001b[0;31m#l4.set_ydata(sy4)\u001b[0m\u001b[0;34m\u001b[0m\u001b[0;34m\u001b[0m\u001b[0m\n",
      "\u001b[1;32m    136 \u001b[0m\u001b[0;34m\u001b[0m\u001b[0m\n",
      "\u001b[1;32m    137 \u001b[0m                \u001b[0;31m#l1.set_xdata(sx)\u001b[0m\u001b[0;34m\u001b[0m\u001b[0;34m\u001b[0m\u001b[0m\n",
      "\u001b[1;32m    138 \u001b[0m                \u001b[0;31m#l2.set_xdata(sx)\u001b[0m\u001b[0;34m\u001b[0m\u001b[0;34m\u001b[0m\u001b[0m\n",
      "\u001b[1;32m    139 \u001b[0m                \u001b[0;31m#l3.set_xdata(sx)\u001b[0m\u001b[0;34m\u001b[0m\u001b[0;34m\u001b[0m\u001b[0m\n",
      "\u001b[1;32m    140 \u001b[0m                \u001b[0;31m#l4.set_xdata(sx)\u001b[0m\u001b[0;34m\u001b[0m\u001b[0;34m\u001b[0m\u001b[0m\n",
      "\u001b[1;32m    141 \u001b[0m\u001b[0;34m\u001b[0m\u001b[0m\n",
      "\u001b[1;32m    142 \u001b[0m                \u001b[0;31m#msy1=np.mean(sy1)\u001b[0m\u001b[0;34m\u001b[0m\u001b[0;34m\u001b[0m\u001b[0m\n",
      "\u001b[1;32m    143 \u001b[0m                \u001b[0;31m#msy2=np.mean(sy2)\u001b[0m\u001b[0;34m\u001b[0m\u001b[0;34m\u001b[0m\u001b[0m\n",
      "\u001b[1;32m    144 \u001b[0m                \u001b[0;31m#msy3=np.mean(sy3)\u001b[0m\u001b[0;34m\u001b[0m\u001b[0;34m\u001b[0m\u001b[0m\n",
      "\u001b[1;32m    145 \u001b[0m                \u001b[0;31m#msy4=np.mean(sy4)\u001b[0m\u001b[0;34m\u001b[0m\u001b[0;34m\u001b[0m\u001b[0m\n",
      "\u001b[1;32m    146 \u001b[0m\u001b[0;34m\u001b[0m\u001b[0m\n",
      "\u001b[1;32m    147 \u001b[0m                \u001b[0;31m#ah1.set_ylim(-150+msy1, 200+msy1)\u001b[0m\u001b[0;34m\u001b[0m\u001b[0;34m\u001b[0m\u001b[0m\n",
      "\u001b[1;32m    148 \u001b[0m                \u001b[0;31m#ah1.set_xlim(min(sx), max(sx))\u001b[0m\u001b[0;34m\u001b[0m\u001b[0;34m\u001b[0m\u001b[0m\n",
      "\u001b[1;32m    149 \u001b[0m                \u001b[0;31m#ah2.set_ylim(-150+msy3, 200+msy3)\u001b[0m\u001b[0;34m\u001b[0m\u001b[0;34m\u001b[0m\u001b[0m\n",
      "\u001b[1;32m    150 \u001b[0m                \u001b[0;31m#ah2.set_xlim(min(sx), max(sx))\u001b[0m\u001b[0;34m\u001b[0m\u001b[0;34m\u001b[0m\u001b[0m\n",
      "\u001b[1;32m    151 \u001b[0m\u001b[0;34m\u001b[0m\u001b[0m\n",
      "\u001b[1;32m    152 \u001b[0m                \u001b[0;31m#x_data += len(eb_data)\u001b[0m\u001b[0;34m\u001b[0m\u001b[0;34m\u001b[0m\u001b[0m\n",
      "\u001b[1;32m    153 \u001b[0m\u001b[0;34m\u001b[0m\u001b[0m\n",
      "\u001b[1;32m    154 \u001b[0m                \u001b[0;31m#fig.canvas.draw()\u001b[0m\u001b[0;34m\u001b[0m\u001b[0;34m\u001b[0m\u001b[0m\n",
      "\u001b[1;32m    155 \u001b[0m                \u001b[0;31m#fig.canvas.flush_events()\u001b[0m\u001b[0;34m\u001b[0m\u001b[0;34m\u001b[0m\u001b[0m\n",
      "\u001b[1;32m    156 \u001b[0m\u001b[0;34m\u001b[0m\u001b[0m\n",
      "\u001b[1;32m    157 \u001b[0m\u001b[0;34m\u001b[0m\u001b[0m\n",
      "\u001b[1;32m    158 \u001b[0m            \u001b[0malld\u001b[0m\u001b[0;34m.\u001b[0m\u001b[0mextend\u001b[0m\u001b[0;34m(\u001b[0m\u001b[0meeg_cnt\u001b[0m\u001b[0;34m.\u001b[0m\u001b[0mdata\u001b[0m\u001b[0;34m)\u001b[0m\u001b[0;34m\u001b[0m\u001b[0m\n",
      "\u001b[1;32m    159 \u001b[0m            \u001b[0malld_ica\u001b[0m\u001b[0;34m.\u001b[0m\u001b[0mextend\u001b[0m\u001b[0;34m(\u001b[0m\u001b[0mdata\u001b[0m\u001b[0;34m)\u001b[0m\u001b[0;34m\u001b[0m\u001b[0m\n",
      "\u001b[1;32m    160 \u001b[0m\u001b[0;34m\u001b[0m\u001b[0m\n",
      "\u001b[1;32m    161 \u001b[0m            \u001b[0;32mfor\u001b[0m \u001b[0mm\u001b[0m \u001b[0;32min\u001b[0m \u001b[0mmarker\u001b[0m\u001b[0;34m:\u001b[0m\u001b[0;34m\u001b[0m\u001b[0m\n",
      "\u001b[1;32m    162 \u001b[0m                \u001b[0mallm\u001b[0m\u001b[0;34m.\u001b[0m\u001b[0mappend\u001b[0m\u001b[0;34m(\u001b[0m\u001b[0;34m[\u001b[0m\u001b[0mm\u001b[0m\u001b[0;34m[\u001b[0m\u001b[0;36m0\u001b[0m\u001b[0;34m]\u001b[0m \u001b[0;34m+\u001b[0m \u001b[0mmarkeroffset\u001b[0m\u001b[0;34m,\u001b[0m \u001b[0mm\u001b[0m\u001b[0;34m[\u001b[0m\u001b[0;36m1\u001b[0m\u001b[0;34m]\u001b[0m\u001b[0;34m]\u001b[0m\u001b[0;34m)\u001b[0m\u001b[0;34m\u001b[0m\u001b[0m\n",
      "\u001b[1;32m    163 \u001b[0m            \u001b[0mmarkeroffset\u001b[0m \u001b[0;34m+=\u001b[0m \u001b[0mcnt\u001b[0m\u001b[0;34m.\u001b[0m\u001b[0mdata\u001b[0m\u001b[0;34m.\u001b[0m\u001b[0mshape\u001b[0m\u001b[0;34m[\u001b[0m\u001b[0;36m0\u001b[0m\u001b[0;34m]\u001b[0m \u001b[0;34m/\u001b[0m \u001b[0mfloat\u001b[0m\u001b[0;34m(\u001b[0m\u001b[0msfreq\u001b[0m\u001b[0;34m)\u001b[0m \u001b[0;34m*\u001b[0m \u001b[0;36m1000.\u001b[0m\u001b[0;34m\u001b[0m\u001b[0m\n",
      "\u001b[1;32m    164 \u001b[0m\u001b[0;34m\u001b[0m\u001b[0m\n",
      "\u001b[1;32m    165 \u001b[0m            \u001b[0;31m# append to ringbuffer, so we can calculate features later on on the last N secs/samples of data.\u001b[0m\u001b[0;34m\u001b[0m\u001b[0;34m\u001b[0m\u001b[0m\n",
      "\u001b[1;32m    166 \u001b[0m            \u001b[0mrb\u001b[0m\u001b[0;34m.\u001b[0m\u001b[0mappend\u001b[0m\u001b[0;34m(\u001b[0m\u001b[0mf_eeg_cnt\u001b[0m\u001b[0;34m)\u001b[0m\u001b[0;34m\u001b[0m\u001b[0m\n",
      "\u001b[1;32m    167 \u001b[0m\u001b[0;34m\u001b[0m\u001b[0m\n",
      "\u001b[1;32m    168 \u001b[0m            \u001b[0;31m# do the following every 0.1 msec - with with the ringbuffer:\u001b[0m\u001b[0;34m\u001b[0m\u001b[0;34m\u001b[0m\u001b[0m\n",
      "\u001b[1;32m    169 \u001b[0m            \u001b[0;32mif\u001b[0m \u001b[0mcurTime\u001b[0m \u001b[0;34m-\u001b[0m \u001b[0mmarkTime\u001b[0m \u001b[0;34m>\u001b[0m \u001b[0mupdateTime\u001b[0m\u001b[0;34m:\u001b[0m\u001b[0;34m\u001b[0m\u001b[0m\n",
      "\u001b[1;32m    170 \u001b[0m                \u001b[0;31m# do Stuff\u001b[0m\u001b[0;34m\u001b[0m\u001b[0;34m\u001b[0m\u001b[0m\n",
      "\u001b[1;32m    171 \u001b[0m                \u001b[0mmarkTime\u001b[0m \u001b[0;34m=\u001b[0m \u001b[0mcurTime\u001b[0m\u001b[0;34m\u001b[0m\u001b[0m\n",
      "\u001b[1;32m    172 \u001b[0m                \u001b[0mprint\u001b[0m\u001b[0;34m(\u001b[0m\u001b[0;34m'Data is coming in - time = %f'\u001b[0m \u001b[0;34m%\u001b[0m \u001b[0;34m(\u001b[0m\u001b[0mcurTime\u001b[0m \u001b[0;34m-\u001b[0m \u001b[0mt0\u001b[0m\u001b[0;34m)\u001b[0m\u001b[0;34m)\u001b[0m\u001b[0;34m\u001b[0m\u001b[0m\n",
      "\u001b[1;32m    173 \u001b[0m                \u001b[0mstr1\u001b[0m \u001b[0;34m=\u001b[0m \u001b[0;34m'Playing Back - time = %f'\u001b[0m \u001b[0;34m%\u001b[0m \u001b[0;34m(\u001b[0m\u001b[0mcurTime\u001b[0m \u001b[0;34m-\u001b[0m \u001b[0mt0\u001b[0m\u001b[0;34m)\u001b[0m\u001b[0;34m\u001b[0m\u001b[0m\n",
      "\u001b[1;32m    174 \u001b[0m                \u001b[0mstr2\u001b[0m \u001b[0;34m=\u001b[0m \u001b[0;34m'Length Markers: %d'\u001b[0m \u001b[0;34m%\u001b[0m \u001b[0mlen\u001b[0m\u001b[0;34m(\u001b[0m\u001b[0mallm\u001b[0m\u001b[0;34m)\u001b[0m\u001b[0;34m\u001b[0m\u001b[0m\n",
      "\u001b[1;32m    175 \u001b[0m                \u001b[0mstr3\u001b[0m \u001b[0;34m=\u001b[0m \u001b[0;34m'%d, %d'\u001b[0m \u001b[0;34m%\u001b[0m \u001b[0mdata\u001b[0m\u001b[0;34m.\u001b[0m\u001b[0mshape\u001b[0m\u001b[0;34m\u001b[0m\u001b[0m\n",
      "\u001b[1;32m    176 \u001b[0m\u001b[0;34m\u001b[0m\u001b[0m\n",
      "\u001b[1;32m    177 \u001b[0m                \u001b[0;31m# th.set_text(str1 + '\\n' + str2 + '\\n' +str3)\u001b[0m\u001b[0;34m\u001b[0m\u001b[0;34m\u001b[0m\u001b[0m\n",
      "\u001b[1;32m    178 \u001b[0m    \u001b[0mamp\u001b[0m\u001b[0;34m.\u001b[0m\u001b[0mstop\u001b[0m\u001b[0;34m(\u001b[0m\u001b[0;34m)\u001b[0m\u001b[0;34m\u001b[0m\u001b[0m\n",
      "\u001b[1;32m    179 \u001b[0m\u001b[0;34m\u001b[0m\u001b[0m\n",
      "\u001b[1;32m    180 \u001b[0m    \u001b[0;32mreturn\u001b[0m \u001b[0malld_ica\u001b[0m\u001b[0;34m,\u001b[0m \u001b[0mch_names\u001b[0m\u001b[0;34m,\u001b[0m \u001b[0msfreq\u001b[0m\u001b[0;34m\u001b[0m\u001b[0m\n",
      "\n"
     ]
    },
    {
     "name": "stdin",
     "output_type": "stream",
     "text": [
      "ipdb>  l\n"
     ]
    },
    {
     "name": "stdout",
     "output_type": "stream",
     "text": [
      "\n"
     ]
    },
    {
     "name": "stdin",
     "output_type": "stream",
     "text": [
      "ipdb>  \n"
     ]
    },
    {
     "name": "stdout",
     "output_type": "stream",
     "text": [
      "\n"
     ]
    },
    {
     "name": "stdin",
     "output_type": "stream",
     "text": [
      "ipdb>  l\n"
     ]
    },
    {
     "name": "stdout",
     "output_type": "stream",
     "text": [
      "\n"
     ]
    },
    {
     "name": "stdin",
     "output_type": "stream",
     "text": [
      "ipdb>  h\n"
     ]
    },
    {
     "name": "stdout",
     "output_type": "stream",
     "text": [
      "\n",
      "Documented commands (type help <topic>):\n",
      "========================================\n",
      "EOF    cl         disable  interact  next    psource  rv         unt   \n",
      "a      clear      display  j         p       q        s          until \n",
      "alias  commands   down     jump      pdef    quit     source     up    \n",
      "args   condition  enable   l         pdoc    r        step       w     \n",
      "b      cont       exit     list      pfile   restart  tbreak     whatis\n",
      "break  continue   h        ll        pinfo   return   u          where \n",
      "bt     d          help     longlist  pinfo2  retval   unalias  \n",
      "c      debug      ignore   n         pp      run      undisplay\n",
      "\n",
      "Miscellaneous help topics:\n",
      "==========================\n",
      "exec  pdb\n",
      "\n"
     ]
    },
    {
     "name": "stdin",
     "output_type": "stream",
     "text": [
      "ipdb>  l\n"
     ]
    },
    {
     "name": "stdout",
     "output_type": "stream",
     "text": [
      "\n"
     ]
    },
    {
     "name": "stdin",
     "output_type": "stream",
     "text": [
      "ipdb>  ll\n"
     ]
    },
    {
     "name": "stdout",
     "output_type": "stream",
     "text": [
      "\u001b[1;32m      1 \u001b[0m\u001b[0;32mdef\u001b[0m \u001b[0mnf_trial\u001b[0m\u001b[0;34m(\u001b[0m\u001b[0mtask\u001b[0m\u001b[0;34m,\u001b[0m \u001b[0mthr\u001b[0m\u001b[0;34m=\u001b[0m\u001b[0;32mNone\u001b[0m\u001b[0;34m,\u001b[0m \u001b[0mcount\u001b[0m\u001b[0;34m=\u001b[0m\u001b[0;36m0\u001b[0m\u001b[0;34m)\u001b[0m\u001b[0;34m:\u001b[0m\u001b[0;34m\u001b[0m\u001b[0m\n",
      "\u001b[1;32m      2 \u001b[0m    \u001b[0mget_ipython\u001b[0m\u001b[0;34m(\u001b[0m\u001b[0;34m)\u001b[0m\u001b[0;34m.\u001b[0m\u001b[0mrun_line_magic\u001b[0m\u001b[0;34m(\u001b[0m\u001b[0;34m'matplotlib'\u001b[0m\u001b[0;34m,\u001b[0m \u001b[0;34m'qt5'\u001b[0m\u001b[0;34m)\u001b[0m\u001b[0;34m\u001b[0m\u001b[0m\n",
      "\u001b[1;32m      3 \u001b[0m    \u001b[0mplt\u001b[0m\u001b[0;34m.\u001b[0m\u001b[0mion\u001b[0m\u001b[0;34m(\u001b[0m\u001b[0;34m)\u001b[0m  \u001b[0;31m# enable widget plots & interactive plots\u001b[0m\u001b[0;34m\u001b[0m\u001b[0m\n",
      "\u001b[1;32m      4 \u001b[0m    \u001b[0mdata_length\u001b[0m \u001b[0;34m=\u001b[0m \u001b[0mnp\u001b[0m\u001b[0;34m.\u001b[0m\u001b[0mlinspace\u001b[0m\u001b[0;34m(\u001b[0m\u001b[0;36m0\u001b[0m\u001b[0;34m,\u001b[0m\u001b[0;36m600\u001b[0m\u001b[0;34m*\u001b[0m\u001b[0;36m5000\u001b[0m\u001b[0;34m,\u001b[0m\u001b[0mnum\u001b[0m\u001b[0;34m=\u001b[0m\u001b[0;36m600\u001b[0m\u001b[0;34m*\u001b[0m\u001b[0;36m5000\u001b[0m\u001b[0;34m)\u001b[0m\u001b[0;34m\u001b[0m\u001b[0m\n",
      "\u001b[1;32m      5 \u001b[0m    \u001b[0mfs\u001b[0m\u001b[0;34m=\u001b[0m\u001b[0;36m5000.\u001b[0m\u001b[0;34m\u001b[0m\u001b[0m\n",
      "\u001b[1;32m      6 \u001b[0m    \u001b[0mtime_in_plot\u001b[0m\u001b[0;34m=\u001b[0m\u001b[0;36m6\u001b[0m\u001b[0;34m\u001b[0m\u001b[0m\n",
      "\u001b[1;32m      7 \u001b[0m    \u001b[0msy1\u001b[0m\u001b[0;34m=\u001b[0m\u001b[0mdeque\u001b[0m\u001b[0;34m(\u001b[0m\u001b[0mnp\u001b[0m\u001b[0;34m.\u001b[0m\u001b[0mzeros\u001b[0m\u001b[0;34m(\u001b[0m\u001b[0mround\u001b[0m\u001b[0;34m(\u001b[0m\u001b[0mfs\u001b[0m \u001b[0;34m*\u001b[0m \u001b[0mtime_in_plot\u001b[0m\u001b[0;34m)\u001b[0m\u001b[0;34m)\u001b[0m\u001b[0;34m,\u001b[0m \u001b[0mround\u001b[0m\u001b[0;34m(\u001b[0m\u001b[0mfs\u001b[0m \u001b[0;34m*\u001b[0m \u001b[0mtime_in_plot\u001b[0m\u001b[0;34m)\u001b[0m\u001b[0;34m)\u001b[0m\u001b[0;34m\u001b[0m\u001b[0m\n",
      "\u001b[1;32m      8 \u001b[0m    \u001b[0msy2\u001b[0m\u001b[0;34m=\u001b[0m\u001b[0mdeque\u001b[0m\u001b[0;34m(\u001b[0m\u001b[0mnp\u001b[0m\u001b[0;34m.\u001b[0m\u001b[0mzeros\u001b[0m\u001b[0;34m(\u001b[0m\u001b[0mround\u001b[0m\u001b[0;34m(\u001b[0m\u001b[0mfs\u001b[0m \u001b[0;34m*\u001b[0m \u001b[0mtime_in_plot\u001b[0m\u001b[0;34m)\u001b[0m\u001b[0;34m)\u001b[0m\u001b[0;34m,\u001b[0m \u001b[0mround\u001b[0m\u001b[0;34m(\u001b[0m\u001b[0mfs\u001b[0m \u001b[0;34m*\u001b[0m \u001b[0mtime_in_plot\u001b[0m\u001b[0;34m)\u001b[0m\u001b[0;34m)\u001b[0m\u001b[0;34m\u001b[0m\u001b[0m\n",
      "\u001b[1;32m      9 \u001b[0m    \u001b[0msy3\u001b[0m\u001b[0;34m=\u001b[0m\u001b[0mdeque\u001b[0m\u001b[0;34m(\u001b[0m\u001b[0mnp\u001b[0m\u001b[0;34m.\u001b[0m\u001b[0mzeros\u001b[0m\u001b[0;34m(\u001b[0m\u001b[0mround\u001b[0m\u001b[0;34m(\u001b[0m\u001b[0mfs\u001b[0m \u001b[0;34m*\u001b[0m \u001b[0mtime_in_plot\u001b[0m\u001b[0;34m)\u001b[0m\u001b[0;34m)\u001b[0m\u001b[0;34m,\u001b[0m \u001b[0mround\u001b[0m\u001b[0;34m(\u001b[0m\u001b[0mfs\u001b[0m \u001b[0;34m*\u001b[0m \u001b[0mtime_in_plot\u001b[0m\u001b[0;34m)\u001b[0m\u001b[0;34m)\u001b[0m\u001b[0;34m\u001b[0m\u001b[0m\n",
      "\u001b[1;32m     10 \u001b[0m    \u001b[0msy4\u001b[0m\u001b[0;34m=\u001b[0m\u001b[0mdeque\u001b[0m\u001b[0;34m(\u001b[0m\u001b[0mnp\u001b[0m\u001b[0;34m.\u001b[0m\u001b[0mzeros\u001b[0m\u001b[0;34m(\u001b[0m\u001b[0mround\u001b[0m\u001b[0;34m(\u001b[0m\u001b[0mfs\u001b[0m \u001b[0;34m*\u001b[0m \u001b[0mtime_in_plot\u001b[0m\u001b[0;34m)\u001b[0m\u001b[0;34m)\u001b[0m\u001b[0;34m,\u001b[0m \u001b[0mround\u001b[0m\u001b[0;34m(\u001b[0m\u001b[0mfs\u001b[0m \u001b[0;34m*\u001b[0m \u001b[0mtime_in_plot\u001b[0m\u001b[0;34m)\u001b[0m\u001b[0;34m)\u001b[0m\u001b[0;34m\u001b[0m\u001b[0m\n",
      "\u001b[1;32m     11 \u001b[0m    \u001b[0mchannel_to_plot\u001b[0m\u001b[0;34m=\u001b[0m\u001b[0;36m0\u001b[0m\u001b[0;34m\u001b[0m\u001b[0m\n",
      "\u001b[1;32m     12 \u001b[0m    \u001b[0msx\u001b[0m\u001b[0;34m=\u001b[0m\u001b[0mdeque\u001b[0m\u001b[0;34m(\u001b[0m\u001b[0mnp\u001b[0m\u001b[0;34m.\u001b[0m\u001b[0mzeros\u001b[0m\u001b[0;34m(\u001b[0m\u001b[0mround\u001b[0m\u001b[0;34m(\u001b[0m\u001b[0mfs\u001b[0m \u001b[0;34m*\u001b[0m \u001b[0mtime_in_plot\u001b[0m\u001b[0;34m)\u001b[0m\u001b[0;34m)\u001b[0m\u001b[0;34m,\u001b[0m \u001b[0mround\u001b[0m\u001b[0;34m(\u001b[0m\u001b[0mfs\u001b[0m \u001b[0;34m*\u001b[0m \u001b[0mtime_in_plot\u001b[0m\u001b[0;34m)\u001b[0m\u001b[0;34m)\u001b[0m\u001b[0;34m\u001b[0m\u001b[0m\n",
      "\u001b[1;32m     13 \u001b[0m    \u001b[0;32mif\u001b[0m \u001b[0mtask\u001b[0m\u001b[0;34m==\u001b[0m\u001b[0;36m1\u001b[0m\u001b[0;34m:\u001b[0m\u001b[0;34m\u001b[0m\u001b[0m\n",
      "\u001b[1;32m     14 \u001b[0m        \u001b[0mbcinet\u001b[0m\u001b[0;34m.\u001b[0m\u001b[0msend_init\u001b[0m\u001b[0;34m(\u001b[0m\u001b[0;34m'BrainWaveTraining_II'\u001b[0m\u001b[0;34m)\u001b[0m\u001b[0;34m\u001b[0m\u001b[0m\n",
      "\u001b[1;32m     15 \u001b[0m    \u001b[0;32melif\u001b[0m \u001b[0mtask\u001b[0m\u001b[0;34m==\u001b[0m\u001b[0;36m0\u001b[0m\u001b[0;34m:\u001b[0m\u001b[0;34m\u001b[0m\u001b[0m\n",
      "\u001b[1;32m     16 \u001b[0m        \u001b[0mbcinet\u001b[0m\u001b[0;34m.\u001b[0m\u001b[0msend_init\u001b[0m\u001b[0;34m(\u001b[0m\u001b[0;34m'RestingState'\u001b[0m\u001b[0;34m)\u001b[0m\u001b[0;34m\u001b[0m\u001b[0m\n",
      "\u001b[1;32m     17 \u001b[0m        \u001b[0mbcinet\u001b[0m\u001b[0;34m.\u001b[0m\u001b[0msend_signal\u001b[0m\u001b[0;34m(\u001b[0m\u001b[0mbcixml\u001b[0m\u001b[0;34m.\u001b[0m\u001b[0mBciSignal\u001b[0m\u001b[0;34m(\u001b[0m\u001b[0;34m{\u001b[0m\u001b[0;34m'EYESCLOSED_TIME'\u001b[0m\u001b[0;34m:\u001b[0m \u001b[0;36m300.0\u001b[0m\u001b[0;34m}\u001b[0m\u001b[0;34m,\u001b[0m\u001b[0;32mNone\u001b[0m\u001b[0;34m,\u001b[0m \u001b[0mbcixml\u001b[0m\u001b[0;34m.\u001b[0m\u001b[0mINTERACTION_SIGNAL\u001b[0m\u001b[0;34m)\u001b[0m\u001b[0;34m)\u001b[0m\u001b[0;34m\u001b[0m\u001b[0m\n",
      "\u001b[1;32m     18 \u001b[0m    \u001b[0;31m#c=camera.DoCamera(); c.start()\u001b[0m\u001b[0;34m\u001b[0m\u001b[0;34m\u001b[0m\u001b[0m\n",
      "\u001b[1;32m     19 \u001b[0m    \u001b[0mbcinet\u001b[0m\u001b[0;34m.\u001b[0m\u001b[0msend_signal\u001b[0m\u001b[0;34m(\u001b[0m\u001b[0mbcixml\u001b[0m\u001b[0;34m.\u001b[0m\u001b[0mBciSignal\u001b[0m\u001b[0;34m(\u001b[0m\u001b[0;34m{\u001b[0m\u001b[0;34m'EX_TESTNFNOISE'\u001b[0m\u001b[0;34m:\u001b[0m \u001b[0;32mFalse\u001b[0m\u001b[0;34m}\u001b[0m\u001b[0;34m,\u001b[0m\u001b[0;32mNone\u001b[0m\u001b[0;34m,\u001b[0m \u001b[0mbcixml\u001b[0m\u001b[0;34m.\u001b[0m\u001b[0mINTERACTION_SIGNAL\u001b[0m\u001b[0;34m)\u001b[0m\u001b[0;34m)\u001b[0m\u001b[0;34m\u001b[0m\u001b[0m\n",
      "\u001b[1;32m     20 \u001b[0m\u001b[0;34m\u001b[0m\u001b[0m\n",
      "\u001b[1;32m     21 \u001b[0m    \u001b[0;31m# if on wrong screen:\u001b[0m\u001b[0;34m\u001b[0m\u001b[0;34m\u001b[0m\u001b[0m\n",
      "\u001b[1;32m     22 \u001b[0m    \u001b[0mbcinet\u001b[0m\u001b[0;34m.\u001b[0m\u001b[0msend_signal\u001b[0m\u001b[0;34m(\u001b[0m\u001b[0mbcixml\u001b[0m\u001b[0;34m.\u001b[0m\u001b[0mBciSignal\u001b[0m\u001b[0;34m(\u001b[0m\u001b[0;34m{\u001b[0m\u001b[0;34m'MONITOR_DISPLAYONSCREEN'\u001b[0m\u001b[0;34m:\u001b[0m \u001b[0;36m1\u001b[0m\u001b[0;34m}\u001b[0m\u001b[0;34m,\u001b[0m\u001b[0;32mNone\u001b[0m\u001b[0;34m,\u001b[0m \u001b[0mbcixml\u001b[0m\u001b[0;34m.\u001b[0m\u001b[0mINTERACTION_SIGNAL\u001b[0m\u001b[0;34m)\u001b[0m\u001b[0;34m)\u001b[0m\u001b[0;34m\u001b[0m\u001b[0m\n",
      "\u001b[1;32m     23 \u001b[0m\u001b[0;34m\u001b[0m\u001b[0m\n",
      "\u001b[1;32m     24 \u001b[0m    \u001b[0mbcinet\u001b[0m\u001b[0;34m.\u001b[0m\u001b[0mplay\u001b[0m\u001b[0;34m(\u001b[0m\u001b[0;34m)\u001b[0m\u001b[0;34m\u001b[0m\u001b[0m\n",
      "\u001b[1;32m     25 \u001b[0m    \u001b[0mbcinet\u001b[0m\u001b[0;34m.\u001b[0m\u001b[0msend_signal\u001b[0m\u001b[0;34m(\u001b[0m\u001b[0mbcixml\u001b[0m\u001b[0;34m.\u001b[0m\u001b[0mBciSignal\u001b[0m\u001b[0;34m(\u001b[0m\u001b[0;34m{\u001b[0m\u001b[0;34m'emgThrContainer'\u001b[0m\u001b[0;34m:\u001b[0m \u001b[0;36m0.1\u001b[0m\u001b[0;34m}\u001b[0m\u001b[0;34m,\u001b[0m \u001b[0;32mNone\u001b[0m\u001b[0;34m,\u001b[0m \u001b[0mbcixml\u001b[0m\u001b[0;34m.\u001b[0m\u001b[0mCONTROL_SIGNAL\u001b[0m\u001b[0;34m)\u001b[0m\u001b[0;34m)\u001b[0m\u001b[0;34m\u001b[0m\u001b[0m\n",
      "\u001b[1;32m     26 \u001b[0m    \u001b[0mamp\u001b[0m\u001b[0;34m.\u001b[0m\u001b[0mstart\u001b[0m\u001b[0;34m(\u001b[0m\u001b[0;34m)\u001b[0m\u001b[0;34m\u001b[0m\u001b[0m\n",
      "\u001b[1;32m     27 \u001b[0m\u001b[0;34m\u001b[0m\u001b[0m\n",
      "\u001b[1;32m     28 \u001b[0m    \u001b[0mimportlib\u001b[0m\u001b[0;34m.\u001b[0m\u001b[0mreload\u001b[0m\u001b[0;34m(\u001b[0m\u001b[0msignaltracking\u001b[0m\u001b[0;34m)\u001b[0m\u001b[0;34m\u001b[0m\u001b[0m\n",
      "\u001b[1;32m     29 \u001b[0m\u001b[0;34m\u001b[0m\u001b[0m\n",
      "\u001b[1;32m     30 \u001b[0m    \u001b[0;31m# from wyrm import signaltracking\u001b[0m\u001b[0;34m\u001b[0m\u001b[0;34m\u001b[0m\u001b[0m\n",
      "\u001b[1;32m     31 \u001b[0m    \u001b[0meegfilter\u001b[0m \u001b[0;34m=\u001b[0m \u001b[0mfiltering\u001b[0m\u001b[0;34m.\u001b[0m\u001b[0mbwBPF\u001b[0m\u001b[0;34m(\u001b[0m\u001b[0;36m12\u001b[0m\u001b[0;34m,\u001b[0m\u001b[0;36m15\u001b[0m\u001b[0;34m)\u001b[0m\u001b[0;34m\u001b[0m\u001b[0m\n",
      "\u001b[1;32m     32 \u001b[0m    \u001b[0memgfilter\u001b[0m \u001b[0;34m=\u001b[0m \u001b[0mfiltering\u001b[0m\u001b[0;34m.\u001b[0m\u001b[0mbwHPF\u001b[0m\u001b[0;34m(\u001b[0m\u001b[0;36m50\u001b[0m\u001b[0;34m)\u001b[0m\u001b[0;34m\u001b[0m\u001b[0m\n",
      "\u001b[1;32m     33 \u001b[0m    \u001b[0;31m# smoother = filtering.bwExponentialSmoother(0.998)\u001b[0m\u001b[0;34m\u001b[0m\u001b[0;34m\u001b[0m\u001b[0m\n",
      "\u001b[1;32m     34 \u001b[0m    \u001b[0;31m# smoother = filtering.bwLPF(2,order=2)\u001b[0m\u001b[0;34m\u001b[0m\u001b[0;34m\u001b[0m\u001b[0m\n",
      "\u001b[1;32m     35 \u001b[0m    \u001b[0msmoother_eeg\u001b[0m \u001b[0;34m=\u001b[0m \u001b[0mfiltering\u001b[0m\u001b[0;34m.\u001b[0m\u001b[0mbwSimpleAverager\u001b[0m\u001b[0;34m(\u001b[0m\u001b[0;36m300\u001b[0m\u001b[0;34m,\u001b[0m\u001b[0;36m2\u001b[0m\u001b[0;34m)\u001b[0m\u001b[0;34m\u001b[0m\u001b[0m\n",
      "\u001b[1;32m     36 \u001b[0m    \u001b[0msmoother_emg\u001b[0m \u001b[0;34m=\u001b[0m \u001b[0mfiltering\u001b[0m\u001b[0;34m.\u001b[0m\u001b[0mbwSimpleAverager\u001b[0m\u001b[0;34m(\u001b[0m\u001b[0;36m300\u001b[0m\u001b[0;34m,\u001b[0m\u001b[0;36m2\u001b[0m\u001b[0;34m)\u001b[0m\u001b[0;34m\u001b[0m\u001b[0m\n",
      "\u001b[1;32m     37 \u001b[0m\u001b[0;34m\u001b[0m\u001b[0m\n",
      "\u001b[1;32m     38 \u001b[0m    \u001b[0mtrack_for_eeg_stimuli\u001b[0m \u001b[0;34m=\u001b[0m \u001b[0msignaltracking\u001b[0m\u001b[0;34m.\u001b[0m\u001b[0msending_to_nfstim\u001b[0m\u001b[0;34m(\u001b[0m\u001b[0mthr\u001b[0m\u001b[0;34m=\u001b[0m\u001b[0;36m1.0\u001b[0m\u001b[0;34m,\u001b[0m \u001b[0mdur\u001b[0m\u001b[0;34m=\u001b[0m\u001b[0;36m0.20\u001b[0m\u001b[0;34m,\u001b[0m \u001b[0mfeedback_type\u001b[0m\u001b[0;34m=\u001b[0m\u001b[0;34m'eeg'\u001b[0m\u001b[0;34m,\u001b[0m \u001b[0mmax4audio\u001b[0m\u001b[0;34m=\u001b[0m\u001b[0;36m1.2\u001b[0m\u001b[0;34m,\u001b[0m \u001b[0mbcinet\u001b[0m\u001b[0;34m=\u001b[0m\u001b[0mbcinet\u001b[0m\u001b[0;34m,\u001b[0m \u001b[0mst_scaling\u001b[0m\u001b[0;34m=\u001b[0m\u001b[0;36m10\u001b[0m\u001b[0;34m)\u001b[0m\u001b[0;34m\u001b[0m\u001b[0m\n",
      "\u001b[1;32m     39 \u001b[0m    \u001b[0mtrack_for_emg_stimuli\u001b[0m \u001b[0;34m=\u001b[0m \u001b[0msignaltracking\u001b[0m\u001b[0;34m.\u001b[0m\u001b[0msending_to_nfstim\u001b[0m\u001b[0;34m(\u001b[0m\u001b[0mthr\u001b[0m\u001b[0;34m=\u001b[0m\u001b[0;36m50\u001b[0m\u001b[0;34m,\u001b[0m \u001b[0mdur\u001b[0m\u001b[0;34m=\u001b[0m\u001b[0;36m0.15\u001b[0m\u001b[0;34m,\u001b[0m \u001b[0mfeedback_type\u001b[0m\u001b[0;34m=\u001b[0m\u001b[0;34m'emg'\u001b[0m\u001b[0;34m,\u001b[0m \u001b[0mbcinet\u001b[0m\u001b[0;34m=\u001b[0m\u001b[0mbcinet\u001b[0m\u001b[0;34m,\u001b[0m \u001b[0mst_scaling\u001b[0m\u001b[0;34m=\u001b[0m\u001b[0;36m100\u001b[0m\u001b[0;34m)\u001b[0m\u001b[0;34m\u001b[0m\u001b[0m\n",
      "\u001b[1;32m     40 \u001b[0m\u001b[0;34m\u001b[0m\u001b[0m\n",
      "\u001b[1;32m     41 \u001b[0m    \u001b[0ml\u001b[0m\u001b[0;34m=\u001b[0m\u001b[0mLoopState\u001b[0m\u001b[0;34m(\u001b[0m\u001b[0;34m)\u001b[0m\u001b[0;34m;\u001b[0m \u001b[0ml\u001b[0m\u001b[0;34m.\u001b[0m\u001b[0mstart\u001b[0m\u001b[0;34m(\u001b[0m\u001b[0;34m)\u001b[0m\u001b[0;34m\u001b[0m\u001b[0m\n",
      "\u001b[1;32m     42 \u001b[0m    \u001b[0malld\u001b[0m\u001b[0;34m=\u001b[0m\u001b[0mdynarray\u001b[0m\u001b[0;34m.\u001b[0m\u001b[0mDynamicArray\u001b[0m\u001b[0;34m(\u001b[0m\u001b[0;34m(\u001b[0m\u001b[0;32mNone\u001b[0m\u001b[0;34m,\u001b[0m \u001b[0;36m2\u001b[0m\u001b[0;34m)\u001b[0m\u001b[0;34m)\u001b[0m\u001b[0;34m\u001b[0m\u001b[0m\n",
      "\u001b[1;32m     43 \u001b[0m    \u001b[0malld_ica\u001b[0m\u001b[0;34m=\u001b[0m\u001b[0mdynarray\u001b[0m\u001b[0;34m.\u001b[0m\u001b[0mDynamicArray\u001b[0m\u001b[0;34m(\u001b[0m\u001b[0;34m(\u001b[0m\u001b[0;32mNone\u001b[0m\u001b[0;34m,\u001b[0m \u001b[0mlen\u001b[0m\u001b[0;34m(\u001b[0m\u001b[0mamp\u001b[0m\u001b[0;34m.\u001b[0m\u001b[0mget_channels\u001b[0m\u001b[0;34m(\u001b[0m\u001b[0;34m)\u001b[0m\u001b[0;34m)\u001b[0m\u001b[0;34m)\u001b[0m\u001b[0;34m)\u001b[0m \u001b[0;31m# data\u001b[0m\u001b[0;34m\u001b[0m\u001b[0m\n",
      "\u001b[1;32m     44 \u001b[0m    \u001b[0mallm\u001b[0m\u001b[0;34m=\u001b[0m\u001b[0;34m[\u001b[0m\u001b[0;34m]\u001b[0m     \u001b[0;31m# markers\u001b[0m\u001b[0;34m\u001b[0m\u001b[0m\n",
      "\u001b[1;32m     45 \u001b[0m    \u001b[0mdts\u001b[0m\u001b[0;34m,\u001b[0m\u001b[0msent\u001b[0m\u001b[0;34m=\u001b[0m\u001b[0;34m[\u001b[0m\u001b[0;34m]\u001b[0m\u001b[0;34m,\u001b[0m\u001b[0;34m[\u001b[0m\u001b[0;34m]\u001b[0m\u001b[0;34m\u001b[0m\u001b[0m\n",
      "\u001b[1;32m     46 \u001b[0m    \u001b[0mmarkeroffset\u001b[0m \u001b[0;34m=\u001b[0m \u001b[0;36m0\u001b[0m  \u001b[0;31m# needed to store all data in one big mat/vector\u001b[0m\u001b[0;34m\u001b[0m\u001b[0m\n",
      "\u001b[1;32m     47 \u001b[0m    \u001b[0mt0\u001b[0m\u001b[0;34m=\u001b[0m\u001b[0mtime\u001b[0m\u001b[0;34m.\u001b[0m\u001b[0mtime\u001b[0m\u001b[0;34m(\u001b[0m\u001b[0;34m)\u001b[0m\u001b[0;34m\u001b[0m\u001b[0m\n",
      "\u001b[1;32m     48 \u001b[0m    \u001b[0mcurTime\u001b[0m\u001b[0;34m=\u001b[0m\u001b[0mtime\u001b[0m\u001b[0;34m.\u001b[0m\u001b[0mtime\u001b[0m\u001b[0;34m(\u001b[0m\u001b[0;34m)\u001b[0m\u001b[0;34m\u001b[0m\u001b[0m\n",
      "\u001b[1;32m     49 \u001b[0m    \u001b[0mtotalTime\u001b[0m \u001b[0;34m=\u001b[0m \u001b[0;36m500\u001b[0m\u001b[0;34m\u001b[0m\u001b[0m\n",
      "\u001b[1;32m     50 \u001b[0m    \u001b[0mst\u001b[0m\u001b[0;34m=\u001b[0m\u001b[0;34m''\u001b[0m\u001b[0;34m\u001b[0m\u001b[0m\n",
      "\u001b[1;32m     51 \u001b[0m\u001b[0;34m\u001b[0m\u001b[0m\n",
      "\u001b[1;32m     52 \u001b[0m    \u001b[0;31m#fig=plt.figure(figsize=(20,12))  # plotting...\u001b[0m\u001b[0;34m\u001b[0m\u001b[0;34m\u001b[0m\u001b[0m\n",
      "\u001b[1;32m     53 \u001b[0m    \u001b[0;31m#th=fig.suptitle('', fontsize=16)\u001b[0m\u001b[0;34m\u001b[0m\u001b[0;34m\u001b[0m\u001b[0m\n",
      "\u001b[1;32m     54 \u001b[0m    \u001b[0;31m#ah1=fig.add_subplot(211)\u001b[0m\u001b[0;34m\u001b[0m\u001b[0;34m\u001b[0m\u001b[0m\n",
      "\u001b[1;32m     55 \u001b[0m    \u001b[0;31m#ah2=fig.add_subplot(212)\u001b[0m\u001b[0;34m\u001b[0m\u001b[0;34m\u001b[0m\u001b[0m\n",
      "\u001b[1;32m     56 \u001b[0m\u001b[0;34m\u001b[0m\u001b[0m\n",
      "\u001b[1;32m     57 \u001b[0m    \u001b[0;31m#l1, = ah1.plot(sx, sy1, color='b', label='Raw')\u001b[0m\u001b[0;34m\u001b[0m\u001b[0;34m\u001b[0m\u001b[0m\n",
      "\u001b[1;32m     58 \u001b[0m    \u001b[0;31m#l2, = ah1.plot(sx, sy2, color='r', label='Corrected')\u001b[0m\u001b[0;34m\u001b[0m\u001b[0;34m\u001b[0m\u001b[0m\n",
      "\u001b[1;32m     59 \u001b[0m    \u001b[0;31m#l3, = ah2.plot(sx, sy3, color='b', label='Raw')\u001b[0m\u001b[0;34m\u001b[0m\u001b[0;34m\u001b[0m\u001b[0m\n",
      "\u001b[1;32m     60 \u001b[0m    \u001b[0;31m#l4, = ah2.plot(sx, sy4, color='r', label='Corrected')\u001b[0m\u001b[0;34m\u001b[0m\u001b[0;34m\u001b[0m\u001b[0m\n",
      "\u001b[1;32m     61 \u001b[0m\u001b[0;34m\u001b[0m\u001b[0m\n",
      "\u001b[1;32m     62 \u001b[0m    \u001b[0mx_data\u001b[0m\u001b[0;34m=\u001b[0m\u001b[0;36m0\u001b[0m\u001b[0;34m\u001b[0m\u001b[0m\n",
      "\u001b[1;32m     63 \u001b[0m    \u001b[0;32mwhile\u001b[0m \u001b[0ml\u001b[0m\u001b[0;34m.\u001b[0m\u001b[0mget_state\u001b[0m\u001b[0;34m(\u001b[0m\u001b[0;34m)\u001b[0m \u001b[0;34m!=\u001b[0m \u001b[0;34m'Stop'\u001b[0m \u001b[0;32mor\u001b[0m \u001b[0mcurTime\u001b[0m \u001b[0;34m<\u001b[0m \u001b[0mtotalTime\u001b[0m\u001b[0;34m:\u001b[0m\u001b[0;34m\u001b[0m\u001b[0m\n",
      "\u001b[1;32m     64 \u001b[0m\u001b[0;34m\u001b[0m\u001b[0m\n",
      "\u001b[1;32m     65 \u001b[0m        \u001b[0;31m# keep track of time:\u001b[0m\u001b[0;34m\u001b[0m\u001b[0;34m\u001b[0m\u001b[0m\n",
      "\u001b[1;32m     66 \u001b[0m        \u001b[0mcurTime\u001b[0m \u001b[0;34m=\u001b[0m \u001b[0mtime\u001b[0m\u001b[0;34m.\u001b[0m\u001b[0mtime\u001b[0m\u001b[0;34m(\u001b[0m\u001b[0;34m)\u001b[0m\u001b[0;34m\u001b[0m\u001b[0m\n",
      "\u001b[1;32m     67 \u001b[0m        \u001b[0msfreq\u001b[0m \u001b[0;34m=\u001b[0m \u001b[0;36m5000\u001b[0m\u001b[0;34m\u001b[0m\u001b[0m\n",
      "\u001b[1;32m     68 \u001b[0m        \u001b[0mch_names\u001b[0m \u001b[0;34m=\u001b[0m \u001b[0mamp\u001b[0m\u001b[0;34m.\u001b[0m\u001b[0mget_channels\u001b[0m\u001b[0;34m(\u001b[0m\u001b[0;34m)\u001b[0m\u001b[0;34m\u001b[0m\u001b[0m\n",
      "\u001b[1;32m     69 \u001b[0m        \u001b[0mmarkTime\u001b[0m\u001b[0;34m=\u001b[0m\u001b[0mtime\u001b[0m\u001b[0;34m.\u001b[0m\u001b[0mtime\u001b[0m\u001b[0;34m(\u001b[0m\u001b[0;34m)\u001b[0m\u001b[0;34m\u001b[0m\u001b[0m\n",
      "\u001b[1;32m     70 \u001b[0m        \u001b[0mupdateTime\u001b[0m \u001b[0;34m=\u001b[0m \u001b[0;36m0.01\u001b[0m\u001b[0;34m\u001b[0m\u001b[0m\n",
      "\u001b[1;32m     71 \u001b[0m        \u001b[0mrb\u001b[0m \u001b[0;34m=\u001b[0m \u001b[0mRingBuffer\u001b[0m\u001b[0;34m(\u001b[0m\u001b[0;36m1.0\u001b[0m \u001b[0;34m*\u001b[0m \u001b[0;36m1000\u001b[0m\u001b[0;34m)\u001b[0m\u001b[0;34m\u001b[0m\u001b[0m\n",
      "\u001b[1;32m     72 \u001b[0m        \u001b[0;31m# this is where you get the data\u001b[0m\u001b[0;34m\u001b[0m\u001b[0;34m\u001b[0m\u001b[0m\n",
      "\u001b[1;32m     73 \u001b[0m        \u001b[0mdata\u001b[0m\u001b[0;34m,\u001b[0m \u001b[0mmarker\u001b[0m\u001b[0;34m,\u001b[0m \u001b[0mannotations\u001b[0m \u001b[0;34m=\u001b[0m \u001b[0mamp\u001b[0m\u001b[0;34m.\u001b[0m\u001b[0mget_data\u001b[0m\u001b[0;34m(\u001b[0m\u001b[0;34m)\u001b[0m\u001b[0;34m\u001b[0m\u001b[0m\n",
      "\u001b[1;32m     74 \u001b[0m\u001b[0;34m\u001b[0m\u001b[0m\n",
      "\u001b[1;32m     75 \u001b[0m        \u001b[0;32mif\u001b[0m \u001b[0mdata\u001b[0m\u001b[0;34m.\u001b[0m\u001b[0mshape\u001b[0m\u001b[0;34m[\u001b[0m\u001b[0;36m0\u001b[0m\u001b[0;34m]\u001b[0m \u001b[0;34m>\u001b[0m \u001b[0;36m0\u001b[0m\u001b[0;34m:\u001b[0m  \u001b[0;31m# this is crucual for remembering filter state.\u001b[0m\u001b[0;34m\u001b[0m\u001b[0m\n",
      "\u001b[1;32m     76 \u001b[0m\u001b[0;34m\u001b[0m\u001b[0m\n",
      "\u001b[0;32m---> 77 \u001b[0;31m            \u001b[0mcnt\u001b[0m \u001b[0;34m=\u001b[0m \u001b[0mio\u001b[0m\u001b[0;34m.\u001b[0m\u001b[0mconvert_mushu_data\u001b[0m\u001b[0;34m(\u001b[0m\u001b[0mdata\u001b[0m\u001b[0;34m,\u001b[0m \u001b[0mmarker\u001b[0m\u001b[0;34m,\u001b[0m \u001b[0msfreq\u001b[0m\u001b[0;34m,\u001b[0m \u001b[0mch_names\u001b[0m\u001b[0;34m)\u001b[0m\u001b[0;34m\u001b[0m\u001b[0m\n",
      "\u001b[0m\u001b[1;32m     78 \u001b[0m\u001b[0;34m\u001b[0m\u001b[0m\n",
      "\u001b[1;32m     79 \u001b[0m\u001b[0;34m\u001b[0m\u001b[0m\n",
      "\u001b[1;32m     80 \u001b[0m            \u001b[0;32mif\u001b[0m \u001b[0mcount\u001b[0m \u001b[0;34m==\u001b[0m \u001b[0;36m0\u001b[0m\u001b[0;34m:\u001b[0m\u001b[0;34m\u001b[0m\u001b[0m\n",
      "\u001b[1;32m     81 \u001b[0m                \u001b[0mcnt_removed\u001b[0m \u001b[0;34m=\u001b[0m \u001b[0mproc\u001b[0m\u001b[0;34m.\u001b[0m\u001b[0mremove_channels\u001b[0m\u001b[0;34m(\u001b[0m\u001b[0mcnt\u001b[0m\u001b[0;34m,\u001b[0m \u001b[0;34m[\u001b[0m\u001b[0;34m'ECG'\u001b[0m\u001b[0;34m]\u001b[0m\u001b[0;34m)\u001b[0m\u001b[0;34m\u001b[0m\u001b[0m\n",
      "\u001b[1;32m     82 \u001b[0m                \u001b[0mcnt_corrected\u001b[0m \u001b[0;34m=\u001b[0m \u001b[0mmulti_dot\u001b[0m\u001b[0;34m(\u001b[0m\u001b[0;34m[\u001b[0m\u001b[0mpca_comps\u001b[0m\u001b[0;34m.\u001b[0m\u001b[0mT\u001b[0m\u001b[0;34m,\u001b[0m \u001b[0mM\u001b[0m\u001b[0;34m,\u001b[0m \u001b[0mS\u001b[0m\u001b[0;34m,\u001b[0m \u001b[0mM_inv\u001b[0m\u001b[0;34m,\u001b[0m \u001b[0mpca_comps\u001b[0m\u001b[0;34m,\u001b[0m \u001b[0mcnt_removed\u001b[0m\u001b[0;34m.\u001b[0m\u001b[0mdata\u001b[0m\u001b[0;34m.\u001b[0m\u001b[0mT\u001b[0m\u001b[0;34m]\u001b[0m\u001b[0;34m)\u001b[0m\u001b[0;34m.\u001b[0m\u001b[0mT\u001b[0m\u001b[0;34m\u001b[0m\u001b[0m\n",
      "\u001b[1;32m     83 \u001b[0m\u001b[0;34m\u001b[0m\u001b[0m\n",
      "\u001b[1;32m     84 \u001b[0m                \u001b[0;31m# trouble shooting\u001b[0m\u001b[0;34m\u001b[0m\u001b[0;34m\u001b[0m\u001b[0m\n",
      "\u001b[1;32m     85 \u001b[0m\u001b[0;34m\u001b[0m\u001b[0m\n",
      "\u001b[1;32m     86 \u001b[0m                \u001b[0mch_names\u001b[0m\u001b[0;34m.\u001b[0m\u001b[0mpop\u001b[0m\u001b[0;34m(\u001b[0m\u001b[0;36m31\u001b[0m\u001b[0;34m)\u001b[0m\u001b[0;34m\u001b[0m\u001b[0m\n",
      "\u001b[1;32m     87 \u001b[0m                \u001b[0;31m# ipdb.set_trace()\u001b[0m\u001b[0;34m\u001b[0m\u001b[0;34m\u001b[0m\u001b[0m\n",
      "\u001b[1;32m     88 \u001b[0m                \u001b[0mcnt_corrected\u001b[0m \u001b[0;34m=\u001b[0m \u001b[0mio\u001b[0m\u001b[0;34m.\u001b[0m\u001b[0mconvert_mushu_data\u001b[0m\u001b[0;34m(\u001b[0m\u001b[0mcnt_corrected\u001b[0m\u001b[0;34m,\u001b[0m \u001b[0mmarker\u001b[0m\u001b[0;34m,\u001b[0m \u001b[0msfreq\u001b[0m\u001b[0;34m,\u001b[0m \u001b[0mch_names\u001b[0m\u001b[0;34m)\u001b[0m\u001b[0;34m\u001b[0m\u001b[0m\n",
      "\u001b[1;32m     89 \u001b[0m\u001b[0;34m\u001b[0m\u001b[0m\n",
      "\u001b[1;32m     90 \u001b[0m                \u001b[0meeg_cnt\u001b[0m \u001b[0;34m=\u001b[0m \u001b[0mproc\u001b[0m\u001b[0;34m.\u001b[0m\u001b[0mselect_channels\u001b[0m\u001b[0;34m(\u001b[0m\u001b[0mcnt_corrected\u001b[0m\u001b[0;34m,\u001b[0m \u001b[0;34m[\u001b[0m\u001b[0;34m'C3'\u001b[0m\u001b[0;34m,\u001b[0m\u001b[0;34m'C4'\u001b[0m\u001b[0;34m]\u001b[0m\u001b[0;34m)\u001b[0m\u001b[0;34m\u001b[0m\u001b[0m\n",
      "\u001b[1;32m     91 \u001b[0m            \u001b[0;32melif\u001b[0m \u001b[0mcount\u001b[0m \u001b[0;34m==\u001b[0m \u001b[0;36m1\u001b[0m\u001b[0;34m:\u001b[0m\u001b[0;34m\u001b[0m\u001b[0m\n",
      "\u001b[1;32m     92 \u001b[0m                \u001b[0meeg_cnt\u001b[0m \u001b[0;34m=\u001b[0m \u001b[0mproc\u001b[0m\u001b[0;34m.\u001b[0m\u001b[0mselect_channels\u001b[0m\u001b[0;34m(\u001b[0m\u001b[0mcnt\u001b[0m\u001b[0;34m,\u001b[0m \u001b[0;34m[\u001b[0m\u001b[0;34m'C3'\u001b[0m\u001b[0;34m,\u001b[0m\u001b[0;34m'C4'\u001b[0m\u001b[0;34m]\u001b[0m\u001b[0;34m)\u001b[0m\u001b[0;34m\u001b[0m\u001b[0m\n",
      "\u001b[1;32m     93 \u001b[0m\u001b[0;34m\u001b[0m\u001b[0m\n",
      "\u001b[1;32m     94 \u001b[0m            \u001b[0;31m# preprocessing stream for EEG\u001b[0m\u001b[0;34m\u001b[0m\u001b[0;34m\u001b[0m\u001b[0m\n",
      "\u001b[1;32m     95 \u001b[0m            \u001b[0;31m# ipdb.set_trace()\u001b[0m\u001b[0;34m\u001b[0m\u001b[0;34m\u001b[0m\u001b[0m\n",
      "\u001b[1;32m     96 \u001b[0m            \u001b[0mf_eeg_cnt\u001b[0m \u001b[0;34m=\u001b[0m \u001b[0meegfilter\u001b[0m\u001b[0;34m.\u001b[0m\u001b[0mapply\u001b[0m\u001b[0;34m(\u001b[0m\u001b[0meeg_cnt\u001b[0m\u001b[0;34m)\u001b[0m  \u001b[0;31m# so filter it according to specified above\u001b[0m\u001b[0;34m\u001b[0m\u001b[0m\n",
      "\u001b[1;32m     97 \u001b[0m            \u001b[0maf_eeg_cnt\u001b[0m \u001b[0;34m=\u001b[0m \u001b[0mproc\u001b[0m\u001b[0;34m.\u001b[0m\u001b[0mabsolute\u001b[0m\u001b[0;34m(\u001b[0m\u001b[0mf_eeg_cnt\u001b[0m\u001b[0;34m)\u001b[0m\u001b[0;34m\u001b[0m\u001b[0m\n",
      "\u001b[1;32m     98 \u001b[0m            \u001b[0msaf_eeg_cnt\u001b[0m \u001b[0;34m=\u001b[0m \u001b[0msmoother_eeg\u001b[0m\u001b[0;34m.\u001b[0m\u001b[0mapply\u001b[0m\u001b[0;34m(\u001b[0m\u001b[0maf_eeg_cnt\u001b[0m\u001b[0;34m)\u001b[0m\u001b[0;34m\u001b[0m\u001b[0m\n",
      "\u001b[1;32m     99 \u001b[0m\u001b[0;34m\u001b[0m\u001b[0m\n",
      "\u001b[1;32m    100 \u001b[0m            \u001b[0mdts\u001b[0m\u001b[0;34m.\u001b[0m\u001b[0mappend\u001b[0m\u001b[0;34m(\u001b[0m\u001b[0msaf_eeg_cnt\u001b[0m\u001b[0;34m.\u001b[0m\u001b[0mdata\u001b[0m\u001b[0;34m.\u001b[0m\u001b[0mshape\u001b[0m\u001b[0;34m[\u001b[0m\u001b[0;36m0\u001b[0m\u001b[0;34m]\u001b[0m\u001b[0;34m)\u001b[0m\u001b[0;34m\u001b[0m\u001b[0m\n",
      "\u001b[1;32m    101 \u001b[0m\u001b[0;34m\u001b[0m\u001b[0m\n",
      "\u001b[1;32m    102 \u001b[0m\u001b[0;34m\u001b[0m\u001b[0m\n",
      "\u001b[1;32m    103 \u001b[0m            \u001b[0;31m# communications with the st-stim computer\u001b[0m\u001b[0;34m\u001b[0m\u001b[0;34m\u001b[0m\u001b[0m\n",
      "\u001b[1;32m    104 \u001b[0m            \u001b[0mtf\u001b[0m\u001b[0;34m,\u001b[0m \u001b[0maudioTF\u001b[0m \u001b[0;34m=\u001b[0m \u001b[0mtrack_for_eeg_stimuli\u001b[0m\u001b[0;34m.\u001b[0m\u001b[0mcheck_above_threshold\u001b[0m\u001b[0;34m(\u001b[0m\u001b[0msaf_eeg_cnt\u001b[0m\u001b[0;34m)\u001b[0m  \u001b[0;31m# sends markers (should be fast)\u001b[0m\u001b[0;34m\u001b[0m\u001b[0m\n",
      "\u001b[1;32m    105 \u001b[0m            \u001b[0ms\u001b[0m \u001b[0;34m=\u001b[0m \u001b[0mtrack_for_eeg_stimuli\u001b[0m\u001b[0;34m.\u001b[0m\u001b[0msend_data_signal\u001b[0m\u001b[0;34m(\u001b[0m\u001b[0msaf_eeg_cnt\u001b[0m\u001b[0;34m)\u001b[0m \u001b[0;31m# sends the signal (should also be fast!)\u001b[0m\u001b[0;34m\u001b[0m\u001b[0m\n",
      "\u001b[1;32m    106 \u001b[0m            \u001b[0msent\u001b[0m\u001b[0;34m.\u001b[0m\u001b[0mappend\u001b[0m\u001b[0;34m(\u001b[0m\u001b[0ms\u001b[0m\u001b[0;34m)\u001b[0m\u001b[0;34m\u001b[0m\u001b[0m\n",
      "\u001b[1;32m    107 \u001b[0m\u001b[0;34m\u001b[0m\u001b[0m\n",
      "\u001b[1;32m    108 \u001b[0m            \u001b[0;31m# do the EMG:\u001b[0m\u001b[0;34m\u001b[0m\u001b[0;34m\u001b[0m\u001b[0m\n",
      "\u001b[1;32m    109 \u001b[0m            \u001b[0memg_cnt\u001b[0m \u001b[0;34m=\u001b[0m \u001b[0mproc\u001b[0m\u001b[0;34m.\u001b[0m\u001b[0mselect_channels\u001b[0m\u001b[0;34m(\u001b[0m\u001b[0mcnt\u001b[0m\u001b[0;34m,\u001b[0m \u001b[0;34m[\u001b[0m\u001b[0;34m'O1'\u001b[0m\u001b[0;34m,\u001b[0m\u001b[0;34m'O2'\u001b[0m\u001b[0;34m]\u001b[0m\u001b[0;34m)\u001b[0m\u001b[0;34m\u001b[0m\u001b[0m\n",
      "\u001b[1;32m    110 \u001b[0m            \u001b[0mf_emg_cnt\u001b[0m \u001b[0;34m=\u001b[0m \u001b[0memgfilter\u001b[0m\u001b[0;34m.\u001b[0m\u001b[0mapply\u001b[0m\u001b[0;34m(\u001b[0m\u001b[0memg_cnt\u001b[0m\u001b[0;34m)\u001b[0m  \u001b[0;31m# so filter it according to specified above\u001b[0m\u001b[0;34m\u001b[0m\u001b[0m\n",
      "\u001b[1;32m    111 \u001b[0m            \u001b[0maf_emg_cnt\u001b[0m \u001b[0;34m=\u001b[0m \u001b[0mproc\u001b[0m\u001b[0;34m.\u001b[0m\u001b[0mabsolute\u001b[0m\u001b[0;34m(\u001b[0m\u001b[0mf_emg_cnt\u001b[0m\u001b[0;34m)\u001b[0m\u001b[0;34m\u001b[0m\u001b[0m\n",
      "\u001b[1;32m    112 \u001b[0m            \u001b[0msaf_emg_cnt\u001b[0m \u001b[0;34m=\u001b[0m \u001b[0msmoother_emg\u001b[0m\u001b[0;34m.\u001b[0m\u001b[0mapply\u001b[0m\u001b[0;34m(\u001b[0m\u001b[0maf_emg_cnt\u001b[0m\u001b[0;34m)\u001b[0m\u001b[0;34m\u001b[0m\u001b[0m\n",
      "\u001b[1;32m    113 \u001b[0m\u001b[0;34m\u001b[0m\u001b[0m\n",
      "\u001b[1;32m    114 \u001b[0m            \u001b[0mtfemg\u001b[0m\u001b[0;34m,\u001b[0m \u001b[0maudioTFemg\u001b[0m \u001b[0;34m=\u001b[0m \u001b[0mtrack_for_emg_stimuli\u001b[0m\u001b[0;34m.\u001b[0m\u001b[0mcheck_above_threshold\u001b[0m\u001b[0;34m(\u001b[0m\u001b[0msaf_emg_cnt\u001b[0m\u001b[0;34m)\u001b[0m  \u001b[0;31m# sends markers (should be fast)\u001b[0m\u001b[0;34m\u001b[0m\u001b[0m\n",
      "\u001b[1;32m    115 \u001b[0m            \u001b[0msemg\u001b[0m \u001b[0;34m=\u001b[0m \u001b[0mtrack_for_emg_stimuli\u001b[0m\u001b[0;34m.\u001b[0m\u001b[0msend_data_signal\u001b[0m\u001b[0;34m(\u001b[0m\u001b[0msaf_emg_cnt\u001b[0m\u001b[0;34m)\u001b[0m \u001b[0;31m# sends the signal (should also be fast!)\u001b[0m\u001b[0;34m\u001b[0m\u001b[0m\n",
      "\u001b[1;32m    116 \u001b[0m\u001b[0;34m\u001b[0m\u001b[0m\n",
      "\u001b[1;32m    117 \u001b[0m            \u001b[0;31m#if count==0:\u001b[0m\u001b[0;34m\u001b[0m\u001b[0;34m\u001b[0m\u001b[0m\n",
      "\u001b[1;32m    118 \u001b[0m\u001b[0;34m\u001b[0m\u001b[0m\n",
      "\u001b[1;32m    119 \u001b[0m                \u001b[0;31m#eb_data = cnt.data[:,channel_to_plot]\u001b[0m\u001b[0;34m\u001b[0m\u001b[0;34m\u001b[0m\u001b[0m\n",
      "\u001b[1;32m    120 \u001b[0m                \u001b[0;31m#ch_c3 = cnt.data[:, 4]\u001b[0m\u001b[0;34m\u001b[0m\u001b[0;34m\u001b[0m\u001b[0m\n",
      "\u001b[1;32m    121 \u001b[0m                \u001b[0;31m#cnt_removed = proc.remove_channels(cnt, ['ECG'])\u001b[0m\u001b[0;34m\u001b[0m\u001b[0;34m\u001b[0m\u001b[0m\n",
      "\u001b[1;32m    122 \u001b[0m\u001b[0;34m\u001b[0m\u001b[0m\n",
      "\u001b[1;32m    123 \u001b[0m                \u001b[0;31m#data_corrected = multi_dot([pca_comps.T, M, S, M_inv, pca_comps, cnt_removed.data.T])\u001b[0m\u001b[0;34m\u001b[0m\u001b[0;34m\u001b[0m\u001b[0m\n",
      "\u001b[1;32m    124 \u001b[0m\u001b[0;34m\u001b[0m\u001b[0m\n",
      "\u001b[1;32m    125 \u001b[0m                \u001b[0;31m#sy1.extend(eb_data)\u001b[0m\u001b[0;34m\u001b[0m\u001b[0;34m\u001b[0m\u001b[0m\n",
      "\u001b[1;32m    126 \u001b[0m                \u001b[0;31m#sy2.extend(data_corrected[channel_to_plot,:]*1e-15)\u001b[0m\u001b[0;34m\u001b[0m\u001b[0;34m\u001b[0m\u001b[0m\n",
      "\u001b[1;32m    127 \u001b[0m                \u001b[0;31m#sy3.extend(ch_c3)\u001b[0m\u001b[0;34m\u001b[0m\u001b[0;34m\u001b[0m\u001b[0m\n",
      "\u001b[1;32m    128 \u001b[0m                \u001b[0;31m#sy4.extend(data_corrected[channel_to_plot,:]*1e-16)\u001b[0m\u001b[0;34m\u001b[0m\u001b[0;34m\u001b[0m\u001b[0m\n",
      "\u001b[1;32m    129 \u001b[0m\u001b[0;34m\u001b[0m\u001b[0m\n",
      "\u001b[1;32m    130 \u001b[0m                \u001b[0;31m#sx.extend(data_length[x_data:x_data+len(eb_data)]/fs)\u001b[0m\u001b[0;34m\u001b[0m\u001b[0;34m\u001b[0m\u001b[0m\n",
      "\u001b[1;32m    131 \u001b[0m\u001b[0;34m\u001b[0m\u001b[0m\n",
      "\u001b[1;32m    132 \u001b[0m                \u001b[0;31m#l1.set_ydata(sy1)\u001b[0m\u001b[0;34m\u001b[0m\u001b[0;34m\u001b[0m\u001b[0m\n",
      "\u001b[1;32m    133 \u001b[0m                \u001b[0;31m#l2.set_ydata(sy2)\u001b[0m\u001b[0;34m\u001b[0m\u001b[0;34m\u001b[0m\u001b[0m\n",
      "\u001b[1;32m    134 \u001b[0m                \u001b[0;31m#l3.set_ydata(sy3)\u001b[0m\u001b[0;34m\u001b[0m\u001b[0;34m\u001b[0m\u001b[0m\n",
      "\u001b[1;32m    135 \u001b[0m                \u001b[0;31m#l4.set_ydata(sy4)\u001b[0m\u001b[0;34m\u001b[0m\u001b[0;34m\u001b[0m\u001b[0m\n",
      "\u001b[1;32m    136 \u001b[0m\u001b[0;34m\u001b[0m\u001b[0m\n",
      "\u001b[1;32m    137 \u001b[0m                \u001b[0;31m#l1.set_xdata(sx)\u001b[0m\u001b[0;34m\u001b[0m\u001b[0;34m\u001b[0m\u001b[0m\n",
      "\u001b[1;32m    138 \u001b[0m                \u001b[0;31m#l2.set_xdata(sx)\u001b[0m\u001b[0;34m\u001b[0m\u001b[0;34m\u001b[0m\u001b[0m\n",
      "\u001b[1;32m    139 \u001b[0m                \u001b[0;31m#l3.set_xdata(sx)\u001b[0m\u001b[0;34m\u001b[0m\u001b[0;34m\u001b[0m\u001b[0m\n",
      "\u001b[1;32m    140 \u001b[0m                \u001b[0;31m#l4.set_xdata(sx)\u001b[0m\u001b[0;34m\u001b[0m\u001b[0;34m\u001b[0m\u001b[0m\n",
      "\u001b[1;32m    141 \u001b[0m\u001b[0;34m\u001b[0m\u001b[0m\n",
      "\u001b[1;32m    142 \u001b[0m                \u001b[0;31m#msy1=np.mean(sy1)\u001b[0m\u001b[0;34m\u001b[0m\u001b[0;34m\u001b[0m\u001b[0m\n",
      "\u001b[1;32m    143 \u001b[0m                \u001b[0;31m#msy2=np.mean(sy2)\u001b[0m\u001b[0;34m\u001b[0m\u001b[0;34m\u001b[0m\u001b[0m\n",
      "\u001b[1;32m    144 \u001b[0m                \u001b[0;31m#msy3=np.mean(sy3)\u001b[0m\u001b[0;34m\u001b[0m\u001b[0;34m\u001b[0m\u001b[0m\n",
      "\u001b[1;32m    145 \u001b[0m                \u001b[0;31m#msy4=np.mean(sy4)\u001b[0m\u001b[0;34m\u001b[0m\u001b[0;34m\u001b[0m\u001b[0m\n",
      "\u001b[1;32m    146 \u001b[0m\u001b[0;34m\u001b[0m\u001b[0m\n",
      "\u001b[1;32m    147 \u001b[0m                \u001b[0;31m#ah1.set_ylim(-150+msy1, 200+msy1)\u001b[0m\u001b[0;34m\u001b[0m\u001b[0;34m\u001b[0m\u001b[0m\n",
      "\u001b[1;32m    148 \u001b[0m                \u001b[0;31m#ah1.set_xlim(min(sx), max(sx))\u001b[0m\u001b[0;34m\u001b[0m\u001b[0;34m\u001b[0m\u001b[0m\n",
      "\u001b[1;32m    149 \u001b[0m                \u001b[0;31m#ah2.set_ylim(-150+msy3, 200+msy3)\u001b[0m\u001b[0;34m\u001b[0m\u001b[0;34m\u001b[0m\u001b[0m\n",
      "\u001b[1;32m    150 \u001b[0m                \u001b[0;31m#ah2.set_xlim(min(sx), max(sx))\u001b[0m\u001b[0;34m\u001b[0m\u001b[0;34m\u001b[0m\u001b[0m\n",
      "\u001b[1;32m    151 \u001b[0m\u001b[0;34m\u001b[0m\u001b[0m\n",
      "\u001b[1;32m    152 \u001b[0m                \u001b[0;31m#x_data += len(eb_data)\u001b[0m\u001b[0;34m\u001b[0m\u001b[0;34m\u001b[0m\u001b[0m\n",
      "\u001b[1;32m    153 \u001b[0m\u001b[0;34m\u001b[0m\u001b[0m\n",
      "\u001b[1;32m    154 \u001b[0m                \u001b[0;31m#fig.canvas.draw()\u001b[0m\u001b[0;34m\u001b[0m\u001b[0;34m\u001b[0m\u001b[0m\n",
      "\u001b[1;32m    155 \u001b[0m                \u001b[0;31m#fig.canvas.flush_events()\u001b[0m\u001b[0;34m\u001b[0m\u001b[0;34m\u001b[0m\u001b[0m\n",
      "\u001b[1;32m    156 \u001b[0m\u001b[0;34m\u001b[0m\u001b[0m\n",
      "\u001b[1;32m    157 \u001b[0m\u001b[0;34m\u001b[0m\u001b[0m\n",
      "\u001b[1;32m    158 \u001b[0m            \u001b[0malld\u001b[0m\u001b[0;34m.\u001b[0m\u001b[0mextend\u001b[0m\u001b[0;34m(\u001b[0m\u001b[0meeg_cnt\u001b[0m\u001b[0;34m.\u001b[0m\u001b[0mdata\u001b[0m\u001b[0;34m)\u001b[0m\u001b[0;34m\u001b[0m\u001b[0m\n",
      "\u001b[1;32m    159 \u001b[0m            \u001b[0malld_ica\u001b[0m\u001b[0;34m.\u001b[0m\u001b[0mextend\u001b[0m\u001b[0;34m(\u001b[0m\u001b[0mdata\u001b[0m\u001b[0;34m)\u001b[0m\u001b[0;34m\u001b[0m\u001b[0m\n",
      "\u001b[1;32m    160 \u001b[0m\u001b[0;34m\u001b[0m\u001b[0m\n",
      "\u001b[1;32m    161 \u001b[0m            \u001b[0;32mfor\u001b[0m \u001b[0mm\u001b[0m \u001b[0;32min\u001b[0m \u001b[0mmarker\u001b[0m\u001b[0;34m:\u001b[0m\u001b[0;34m\u001b[0m\u001b[0m\n",
      "\u001b[1;32m    162 \u001b[0m                \u001b[0mallm\u001b[0m\u001b[0;34m.\u001b[0m\u001b[0mappend\u001b[0m\u001b[0;34m(\u001b[0m\u001b[0;34m[\u001b[0m\u001b[0mm\u001b[0m\u001b[0;34m[\u001b[0m\u001b[0;36m0\u001b[0m\u001b[0;34m]\u001b[0m \u001b[0;34m+\u001b[0m \u001b[0mmarkeroffset\u001b[0m\u001b[0;34m,\u001b[0m \u001b[0mm\u001b[0m\u001b[0;34m[\u001b[0m\u001b[0;36m1\u001b[0m\u001b[0;34m]\u001b[0m\u001b[0;34m]\u001b[0m\u001b[0;34m)\u001b[0m\u001b[0;34m\u001b[0m\u001b[0m\n",
      "\u001b[1;32m    163 \u001b[0m            \u001b[0mmarkeroffset\u001b[0m \u001b[0;34m+=\u001b[0m \u001b[0mcnt\u001b[0m\u001b[0;34m.\u001b[0m\u001b[0mdata\u001b[0m\u001b[0;34m.\u001b[0m\u001b[0mshape\u001b[0m\u001b[0;34m[\u001b[0m\u001b[0;36m0\u001b[0m\u001b[0;34m]\u001b[0m \u001b[0;34m/\u001b[0m \u001b[0mfloat\u001b[0m\u001b[0;34m(\u001b[0m\u001b[0msfreq\u001b[0m\u001b[0;34m)\u001b[0m \u001b[0;34m*\u001b[0m \u001b[0;36m1000.\u001b[0m\u001b[0;34m\u001b[0m\u001b[0m\n",
      "\u001b[1;32m    164 \u001b[0m\u001b[0;34m\u001b[0m\u001b[0m\n",
      "\u001b[1;32m    165 \u001b[0m            \u001b[0;31m# append to ringbuffer, so we can calculate features later on on the last N secs/samples of data.\u001b[0m\u001b[0;34m\u001b[0m\u001b[0;34m\u001b[0m\u001b[0m\n",
      "\u001b[1;32m    166 \u001b[0m            \u001b[0mrb\u001b[0m\u001b[0;34m.\u001b[0m\u001b[0mappend\u001b[0m\u001b[0;34m(\u001b[0m\u001b[0mf_eeg_cnt\u001b[0m\u001b[0;34m)\u001b[0m\u001b[0;34m\u001b[0m\u001b[0m\n",
      "\u001b[1;32m    167 \u001b[0m\u001b[0;34m\u001b[0m\u001b[0m\n",
      "\u001b[1;32m    168 \u001b[0m            \u001b[0;31m# do the following every 0.1 msec - with with the ringbuffer:\u001b[0m\u001b[0;34m\u001b[0m\u001b[0;34m\u001b[0m\u001b[0m\n",
      "\u001b[1;32m    169 \u001b[0m            \u001b[0;32mif\u001b[0m \u001b[0mcurTime\u001b[0m \u001b[0;34m-\u001b[0m \u001b[0mmarkTime\u001b[0m \u001b[0;34m>\u001b[0m \u001b[0mupdateTime\u001b[0m\u001b[0;34m:\u001b[0m\u001b[0;34m\u001b[0m\u001b[0m\n",
      "\u001b[1;32m    170 \u001b[0m                \u001b[0;31m# do Stuff\u001b[0m\u001b[0;34m\u001b[0m\u001b[0;34m\u001b[0m\u001b[0m\n",
      "\u001b[1;32m    171 \u001b[0m                \u001b[0mmarkTime\u001b[0m \u001b[0;34m=\u001b[0m \u001b[0mcurTime\u001b[0m\u001b[0;34m\u001b[0m\u001b[0m\n",
      "\u001b[1;32m    172 \u001b[0m                \u001b[0mprint\u001b[0m\u001b[0;34m(\u001b[0m\u001b[0;34m'Data is coming in - time = %f'\u001b[0m \u001b[0;34m%\u001b[0m \u001b[0;34m(\u001b[0m\u001b[0mcurTime\u001b[0m \u001b[0;34m-\u001b[0m \u001b[0mt0\u001b[0m\u001b[0;34m)\u001b[0m\u001b[0;34m)\u001b[0m\u001b[0;34m\u001b[0m\u001b[0m\n",
      "\u001b[1;32m    173 \u001b[0m                \u001b[0mstr1\u001b[0m \u001b[0;34m=\u001b[0m \u001b[0;34m'Playing Back - time = %f'\u001b[0m \u001b[0;34m%\u001b[0m \u001b[0;34m(\u001b[0m\u001b[0mcurTime\u001b[0m \u001b[0;34m-\u001b[0m \u001b[0mt0\u001b[0m\u001b[0;34m)\u001b[0m\u001b[0;34m\u001b[0m\u001b[0m\n",
      "\u001b[1;32m    174 \u001b[0m                \u001b[0mstr2\u001b[0m \u001b[0;34m=\u001b[0m \u001b[0;34m'Length Markers: %d'\u001b[0m \u001b[0;34m%\u001b[0m \u001b[0mlen\u001b[0m\u001b[0;34m(\u001b[0m\u001b[0mallm\u001b[0m\u001b[0;34m)\u001b[0m\u001b[0;34m\u001b[0m\u001b[0m\n",
      "\u001b[1;32m    175 \u001b[0m                \u001b[0mstr3\u001b[0m \u001b[0;34m=\u001b[0m \u001b[0;34m'%d, %d'\u001b[0m \u001b[0;34m%\u001b[0m \u001b[0mdata\u001b[0m\u001b[0;34m.\u001b[0m\u001b[0mshape\u001b[0m\u001b[0;34m\u001b[0m\u001b[0m\n",
      "\u001b[1;32m    176 \u001b[0m\u001b[0;34m\u001b[0m\u001b[0m\n",
      "\u001b[1;32m    177 \u001b[0m                \u001b[0;31m# th.set_text(str1 + '\\n' + str2 + '\\n' +str3)\u001b[0m\u001b[0;34m\u001b[0m\u001b[0;34m\u001b[0m\u001b[0m\n",
      "\u001b[1;32m    178 \u001b[0m    \u001b[0mamp\u001b[0m\u001b[0;34m.\u001b[0m\u001b[0mstop\u001b[0m\u001b[0;34m(\u001b[0m\u001b[0;34m)\u001b[0m\u001b[0;34m\u001b[0m\u001b[0m\n",
      "\u001b[1;32m    179 \u001b[0m\u001b[0;34m\u001b[0m\u001b[0m\n",
      "\u001b[1;32m    180 \u001b[0m    \u001b[0;32mreturn\u001b[0m \u001b[0malld_ica\u001b[0m\u001b[0;34m,\u001b[0m \u001b[0mch_names\u001b[0m\u001b[0;34m,\u001b[0m \u001b[0msfreq\u001b[0m\u001b[0;34m\u001b[0m\u001b[0m\n",
      "\n"
     ]
    },
    {
     "name": "stdin",
     "output_type": "stream",
     "text": [
      "ipdb>  count\n"
     ]
    },
    {
     "name": "stdout",
     "output_type": "stream",
     "text": [
      "0\n"
     ]
    },
    {
     "name": "stdin",
     "output_type": "stream",
     "text": [
      "ipdb>  amp\n"
     ]
    },
    {
     "name": "stdout",
     "output_type": "stream",
     "text": [
      "<libmushu.ampdecorator.AmpDecorator object at 0x7f25f171f438>\n"
     ]
    },
    {
     "name": "stdin",
     "output_type": "stream",
     "text": [
      "ipdb>  amp.get_channels()\n"
     ]
    },
    {
     "name": "stdout",
     "output_type": "stream",
     "text": [
      "['Fp1', 'Fp2', 'F3', 'F4', 'C3', 'C4', 'P3', 'P4', 'O1', 'O2', 'F7', 'F8', 'T7', 'T8', 'P7', 'P8', 'Fz', 'Cz', 'Pz', 'Oz', 'FC1', 'FC2', 'CP1', 'CP2', 'FC5', 'FC6', 'CP5', 'CP6', 'TP9', 'TP10', 'POz', 'F1', 'F2', 'C1', 'C2', 'P1', 'P2', 'AF3', 'AF4', 'FC3', 'FC4', 'CP3', 'CP4', 'PO3', 'PO4', 'F5', 'F6', 'C5', 'C6', 'P5', 'P6', 'AF7', 'AF8', 'FT7', 'FT8', 'TP7', 'TP8', 'PO7', 'PO8', 'FT9', 'FT10', 'Fpz', 'CPz']\n"
     ]
    },
    {
     "name": "stdin",
     "output_type": "stream",
     "text": [
      "ipdb>  len(amp.get_channels)\n"
     ]
    },
    {
     "name": "stdout",
     "output_type": "stream",
     "text": [
      "*** TypeError: object of type 'method' has no len()\n"
     ]
    },
    {
     "name": "stdin",
     "output_type": "stream",
     "text": [
      "ipdb>  len(amp.get_channels())\n"
     ]
    },
    {
     "name": "stdout",
     "output_type": "stream",
     "text": [
      "63\n"
     ]
    },
    {
     "name": "stdin",
     "output_type": "stream",
     "text": [
      "ipdb>  amp.channels\n"
     ]
    },
    {
     "name": "stdout",
     "output_type": "stream",
     "text": [
      "*** AttributeError: 'AmpDecorator' object has no attribute 'channels'\n"
     ]
    },
    {
     "name": "stdin",
     "output_type": "stream",
     "text": [
      "ipdb>  dir(amp)\n"
     ]
    },
    {
     "name": "stdout",
     "output_type": "stream",
     "text": [
      "['__class__', '__delattr__', '__dict__', '__dir__', '__doc__', '__eq__', '__format__', '__ge__', '__getattribute__', '__gt__', '__hash__', '__init__', '__init_subclass__', '__le__', '__lt__', '__module__', '__ne__', '__new__', '__reduce__', '__reduce_ex__', '__repr__', '__setattr__', '__sizeof__', '__str__', '__subclasshook__', '__weakref__', 'amp', 'configure', 'get_channels', 'get_data', 'get_sampling_frequency', 'is_available', 'marker_queue', 'presets', 'received_samples', 'start', 'stop', 'stoploopev', 'tcp_reader', 'tcp_reader_running', 'write_to_file']\n"
     ]
    },
    {
     "name": "stdin",
     "output_type": "stream",
     "text": [
      "ipdb>  amp.get_channels??\n"
     ]
    },
    {
     "name": "stdout",
     "output_type": "stream",
     "text": [
      "*** SyntaxError: invalid syntax\n"
     ]
    },
    {
     "name": "stdin",
     "output_type": "stream",
     "text": [
      "ipdb>  amp.get_channels\n"
     ]
    },
    {
     "name": "stdout",
     "output_type": "stream",
     "text": [
      "<bound method AmpDecorator.get_channels of <libmushu.ampdecorator.AmpDecorator object at 0x7f25f171f438>>\n"
     ]
    },
    {
     "name": "stdin",
     "output_type": "stream",
     "text": [
      "ipdb>  amp\n"
     ]
    },
    {
     "name": "stdout",
     "output_type": "stream",
     "text": [
      "<libmushu.ampdecorator.AmpDecorator object at 0x7f25f171f438>\n"
     ]
    },
    {
     "name": "stdin",
     "output_type": "stream",
     "text": [
      "ipdb>  q\n"
     ]
    }
   ],
   "source": [
    "#ipdb.post_mortem(sys.last_traceback)"
   ]
  },
  {
   "cell_type": "code",
   "execution_count": 14,
   "metadata": {},
   "outputs": [
    {
     "name": "stdout",
     "output_type": "stream",
     "text": [
      "Number of channels: 64\n",
      "Sampling interval: 200.0\n",
      "Resolutions: [0.5, 0.5, 0.5, 0.5, 0.5, 0.5, 0.5, 0.5, 0.5, 0.5, 0.5, 0.5, 0.5, 0.5, 0.5, 0.5, 0.5, 0.5, 0.5, 0.5, 0.5, 0.5, 0.5, 0.5, 0.5, 0.5, 0.5, 0.5, 0.5, 0.5, 0.5, 10.0, 0.5, 0.5, 0.5, 0.5, 0.5, 0.5, 0.5, 0.5, 0.5, 0.5, 0.5, 0.5, 0.5, 0.5, 0.5, 0.5, 0.5, 0.5, 0.5, 0.5, 0.5, 0.5, 0.5, 0.5, 0.5, 0.5, 0.5, 0.5, 0.5, 0.5, 0.5, 0.5]\n",
      "Channel Names: ['Fp1', 'Fp2', 'F3', 'F4', 'C3', 'C4', 'P3', 'P4', 'O1', 'O2', 'F7', 'F8', 'T7', 'T8', 'P7', 'P8', 'Fz', 'Cz', 'Pz', 'Oz', 'FC1', 'FC2', 'CP1', 'CP2', 'FC5', 'FC6', 'CP5', 'CP6', 'TP9', 'TP10', 'POz', 'ECG', 'F1', 'F2', 'C1', 'C2', 'P1', 'P2', 'AF3', 'AF4', 'FC3', 'FC4', 'CP3', 'CP4', 'PO3', 'PO4', 'F5', 'F6', 'C5', 'C6', 'P5', 'P6', 'AF7', 'AF8', 'FT7', 'FT8', 'TP7', 'TP8', 'PO7', 'PO8', 'FT9', 'FT10', 'Fpz', 'CPz']\n",
      "hdr SamplingInterval = 200.00\n",
      "bwBPF: {'f_low': 12, 'f_high': 15, 'order': 3}\n",
      "bwHPF: {'f': 50, 'order': 3}\n",
      "bwSimpleAverager: {'taps': 300, 'f': 2}\n",
      "bwSimpleAverager: {'taps': 300, 'f': 2}\n",
      "thr: 1.00, dur: 0.20\n",
      "bcinet is passed on\n",
      "thr: 50.00, dur: 0.15\n",
      "bcinet is passed on\n",
      "sending signal -- I ! - 400 - 2 - True - -1\n",
      "sending signal! - 2 False - 5.663950352258381 -- 0.2\n",
      "sending signal -- I ! - 100 - 3 - True - -1\n",
      "sending signal! - 4 False - 1.1257317796286048 -- 0.25\n",
      "sending signal! - 9 False - 14.72311163240941 -- 0.25\n",
      "sending signal! - 12 False - 2.0937640543977976 -- 0.3\n",
      "sending signal! - 14 False - 25.214523492327263 -- 0.3\n",
      "sending signal! - 25 False - 37.76878825605088 -- 0.35\n",
      "sending signal! - 38 False - 52.39540550946453 -- 0.39999999999999997\n",
      "sending signal! - 53 False - 70.85612641154454 -- 0.44999999999999996\n",
      "sending signal! - 68 False - 90.91655702067862 -- 0.49999999999999994\n",
      "sending signal! - 86 False - 111.82794527230126 -- 0.5499999999999999\n",
      "sending signal! - 107 False - 135.2397717079512 -- 0.6\n",
      "sending signal! - 128 False - 160.36543189420362 -- 0.65\n",
      "sending signal! - 150 False - 187.98377591823547 -- 0.7000000000000001\n",
      "sending signal! - 177 False - 218.5091649892581 -- 0.7500000000000001\n",
      "sending signal -- I ! - 200 - 189 - True - -1\n",
      "sending signal! - 189 False - 0.05142033657878003 -- 0.25\n",
      "sending signal! - 201 False - 249.95913347283184 -- 0.8000000000000002\n",
      "sending signal! - 232 False - 283.57379786306404 -- 0.8500000000000002\n",
      "sending signal! - 266 False - 319.19782743572256 -- 0.9000000000000002\n",
      "sending signal! - 298 False - 356.8749095467214 -- 0.9500000000000003\n",
      "sending signal! - 331 False - 397.01441788361876 -- 1.0000000000000002\n",
      "sending signal! - 368 False - 438.82271338932526 -- 1.0500000000000003\n",
      "sending signal! - 409 False - 482.619172919434 -- 1.1000000000000003\n",
      "sending signal! - 453 False - 528.1957140222077 -- 1.1500000000000004\n",
      "sending signal! - 492 False - 576.7435091178509 -- 1.2000000000000004\n",
      "sending signal! - 533 False - 626.4225871850215 -- 1.2500000000000004\n",
      "sending signal! - 577 False - 678.3139315813046 -- 1.3000000000000005\n",
      "sending signal! - 608 False - 732.633676189059 -- 1.3500000000000005\n",
      "sending signal! - 659 False - 788.6297340679749 -- 1.4000000000000006\n",
      "sending signal! - 713 False - 846.8058991749789 -- 1.4500000000000006\n",
      "sending signal! - 765 False - 907.2355797764229 -- 1.5000000000000007\n",
      "sending signal! - 823 False - 970.3285195154169 -- 1.5500000000000007\n",
      "sending signal! - 887 False - 1034.729580491874 -- 1.6000000000000008\n",
      "sending signal! - 948 False - 1102.227522819008 -- 1.6500000000000008\n",
      "sending signal! - 1015 False - 1171.7672461540808 -- 1.7000000000000008\n",
      "sending signal! - 1079 False - 1242.870224883862 -- 1.7500000000000009\n",
      "sending signal! - 1143 False - 1315.8728750145713 -- 1.800000000000001\n",
      "sending signal! - 1211 False - 1391.0512898786612 -- 1.850000000000001\n",
      "sending signal! - 1278 False - 1469.177667032405 -- 1.900000000000001\n",
      "sending signal! - 1346 False - 1548.1877909779798 -- 1.950000000000001\n",
      "sending signal! - 1413 False - 1629.251150372775 -- 2.000000000000001\n",
      "sending signal! - 1476 False - 1712.3248291547993 -- 2.0500000000000007\n",
      "sending signal! - 1543 False - 1799.3185883757185 -- 2.1000000000000005\n",
      "sending signal! - 1620 False - 1886.897088473513 -- 2.1500000000000004\n",
      "sending signal! - 1696 False - 1977.0066194721019 -- 2.2\n",
      "sending signal! - 1767 False - 2069.275523728782 -- 2.25\n",
      "sending signal! - 1844 False - 2163.1350000697043 -- 2.3\n",
      "sending signal! - 1927 False - 2259.154261303985 -- 2.3499999999999996\n",
      "sending signal! - 2006 False - 2356.8723200939858 -- 2.3999999999999995\n",
      "sending signal! - 2086 False - 2458.041490853749 -- 2.4499999999999993\n",
      "sending signal! - 2164 False - 2559.840220328983 -- 2.499999999999999\n",
      "sending signal! - 2254 False - 2664.0590249141546 -- 2.549999999999999\n",
      "sending signal! - 2339 False - 2770.578351121542 -- 2.5999999999999988\n",
      "sending signal! - 2432 False - 2879.340426260429 -- 2.6499999999999986\n",
      "sending signal! - 2526 False - 2989.6363150560765 -- 2.6999999999999984\n",
      "sending signal! - 2613 False - 3102.7333110319096 -- 2.7499999999999982\n",
      "sending signal! - 2703 False - 3216.9444621626735 -- 2.799999999999998\n",
      "sending signal -- I ! - 100 - 2727 - True - -1\n",
      "sending signal! - 2728 False - 0.06590219766243662 -- 0.25\n",
      "sending signal! - 2806 False - 3333.45524665993 -- 2.849999999999998\n",
      "sending signal! - 2893 False - 3450.7399683806048 -- 2.8999999999999977\n",
      "sending signal! - 2985 False - 3571.436468554188 -- 2.9499999999999975\n",
      "sending signal! - 3088 False - 3694.653498591511 -- 2.9999999999999973\n",
      "sending signal! - 3195 False - 3820.0220974339363 -- 3.049999999999997\n",
      "sending signal! - 3297 False - 3948.183884910644 -- 3.099999999999997\n",
      "sending signal! - 3405 False - 4077.9661898242866 -- 3.149999999999997\n",
      "FLIPPING/GOING THE THE MIDDLE AGAIN\n",
      "sending signal! - 3503 False - 4209.758659448625 -- 3.1999999999999966\n",
      "sending signal! - 3611 False - 4343.453174898661 -- 3.2499999999999964\n",
      "sending signal! - 3729 False - 4479.352094986737 -- 3.2999999999999963\n",
      "sending signal! - 3842 False - 4618.211687098625 -- 3.349999999999996\n",
      "sending signal! - 3965 False - 4759.002257676318 -- 3.399999999999996\n",
      "sending signal! - 4092 False - 4901.589635108369 -- 3.4499999999999957\n",
      "sending signal! - 4217 False - 5045.494550825651 -- 3.4999999999999956\n",
      "sending signal! - 4337 False - 5191.6424366832925 -- 3.5499999999999954\n",
      "sending signal! - 4450 False - 5341.610393031411 -- 3.599999999999995\n",
      "sending signal! - 4568 False - 5492.054171137167 -- 3.649999999999995\n",
      "sending signal! - 4693 False - 5644.031218077367 -- 3.699999999999995\n",
      "sending signal! - 4827 False - 5798.991482555149 -- 3.7499999999999947\n",
      "sending signal! - 4960 False - 5954.925001763157 -- 3.7999999999999945\n",
      "sending signal! - 5097 False - 6113.573275885997 -- 3.8499999999999943\n",
      "sending signal! - 5233 False - 6273.632267536042 -- 3.899999999999994\n",
      "sending signal! - 5366 False - 6436.584437230365 -- 3.949999999999994\n",
      "sending signal! - 5503 False - 6601.672974562047 -- 3.999999999999994\n",
      "sending signal! - 5645 False - 6767.979138458817 -- 4.049999999999994\n",
      "sending signal! - 5779 False - 6937.107266039531 -- 4.099999999999993\n",
      "sending signal! - 5926 False - 7108.779492126401 -- 4.149999999999993\n",
      "sending signal! - 6075 False - 7282.280520051447 -- 4.199999999999993\n",
      "sending signal! - 6230 False - 7457.590498438855 -- 4.249999999999993\n",
      "sending signal! - 6384 False - 7635.657428877443 -- 4.299999999999993\n",
      "sending signal! - 6535 False - 7814.734066338567 -- 4.3499999999999925\n",
      "sending signal! - 6688 False - 7997.424009584068 -- 4.399999999999992\n",
      "sending signal! - 6848 False - 8181.668232995365 -- 4.449999999999992\n",
      "FLIPPING/GOING THE THE MIDDLE AGAIN\n",
      "sending signal! - 7005 False - 8368.318512213596 -- 4.499999999999992\n",
      "sending signal! - 7155 False - 8557.908725834719 -- 4.549999999999992\n",
      "sending signal! - 7306 False - 8749.322478797092 -- 4.599999999999992\n",
      "sending signal! - 7466 False - 8940.726220457376 -- 4.6499999999999915\n",
      "sending signal! - 7642 False - 9134.682673594027 -- 4.699999999999991\n",
      "sending signal! - 7802 False - 9331.49293218886 -- 4.749999999999991\n",
      "sending signal! - 7975 False - 9530.270791733741 -- 4.799999999999991\n",
      "sending signal! - 8130 False - 9730.549754864373 -- 4.849999999999991\n",
      "sending signal! - 8308 False - 9934.734662261011 -- 4.899999999999991\n",
      "sending signal! - 8489 False - 10140.293572441722 -- 4.94999999999999\n",
      "sending signal! - 8667 False - 10349.403019742489 -- 4.99999999999999\n",
      "sending signal! - 8840 False - 10560.259671528964 -- 5.04999999999999\n",
      "loop is stopped!\n",
      "amplifier stopped!\n"
     ]
    },
    {
     "data": {
      "text/plain": [
       "(DynamicArray(size=1282600, capacity=1638400)([[ 500. ,  315. ,  178. , ...,  -10. ,  340.5,  -49. ],\n",
       "        [ 500. ,  314. ,  167. , ...,  -17.5,  341.5,  -50.5],\n",
       "        [ 500. ,  311.5,  156. , ...,  -24. ,  341.5,  -52. ],\n",
       "        ...,\n",
       "        [ 220. ,   68. , -504. , ...,   -3. ,   84. ,  -51.5],\n",
       "        [ 221. ,   67. , -514.5, ...,   -9.5,   84. ,  -53.5],\n",
       "        [ 221.5,   65.5, -526. , ...,  -17. ,   84.5,  -55.5]]),\n",
       " ['Fp1',\n",
       "  'Fp2',\n",
       "  'F3',\n",
       "  'F4',\n",
       "  'C3',\n",
       "  'C4',\n",
       "  'P3',\n",
       "  'P4',\n",
       "  'O1',\n",
       "  'O2',\n",
       "  'F7',\n",
       "  'F8',\n",
       "  'T7',\n",
       "  'T8',\n",
       "  'P7',\n",
       "  'P8',\n",
       "  'Fz',\n",
       "  'Cz',\n",
       "  'Pz',\n",
       "  'Oz',\n",
       "  'FC1',\n",
       "  'FC2',\n",
       "  'CP1',\n",
       "  'CP2',\n",
       "  'FC5',\n",
       "  'FC6',\n",
       "  'CP5',\n",
       "  'CP6',\n",
       "  'TP9',\n",
       "  'TP10',\n",
       "  'POz',\n",
       "  'ECG',\n",
       "  'F1',\n",
       "  'F2',\n",
       "  'C1',\n",
       "  'C2',\n",
       "  'P1',\n",
       "  'P2',\n",
       "  'AF3',\n",
       "  'AF4',\n",
       "  'FC3',\n",
       "  'FC4',\n",
       "  'CP3',\n",
       "  'CP4',\n",
       "  'PO3',\n",
       "  'PO4',\n",
       "  'F5',\n",
       "  'F6',\n",
       "  'C5',\n",
       "  'C6',\n",
       "  'P5',\n",
       "  'P6',\n",
       "  'AF7',\n",
       "  'AF8',\n",
       "  'FT7',\n",
       "  'FT8',\n",
       "  'TP7',\n",
       "  'TP8',\n",
       "  'PO7',\n",
       "  'PO8',\n",
       "  'FT9',\n",
       "  'FT10',\n",
       "  'Fpz',\n",
       "  'CPz'],\n",
       " 5000)"
      ]
     },
     "execution_count": 14,
     "metadata": {},
     "output_type": "execute_result"
    }
   ],
   "source": [
    "nf_trial(0)"
   ]
  },
  {
   "cell_type": "markdown",
   "metadata": {},
   "source": [
    "## SMR-NF #2"
   ]
  },
  {
   "cell_type": "code",
   "execution_count": null,
   "metadata": {},
   "outputs": [
    {
     "name": "stdout",
     "output_type": "stream",
     "text": [
      "Number of channels: 64\n",
      "Sampling interval: 200.0\n",
      "Resolutions: [0.5, 0.5, 0.5, 0.5, 0.5, 0.5, 0.5, 0.5, 0.5, 0.5, 0.5, 0.5, 0.5, 0.5, 0.5, 0.5, 0.5, 0.5, 0.5, 0.5, 0.5, 0.5, 0.5, 0.5, 0.5, 0.5, 0.5, 0.5, 0.5, 0.5, 0.5, 10.0, 0.5, 0.5, 0.5, 0.5, 0.5, 0.5, 0.5, 0.5, 0.5, 0.5, 0.5, 0.5, 0.5, 0.5, 0.5, 0.5, 0.5, 0.5, 0.5, 0.5, 0.5, 0.5, 0.5, 0.5, 0.5, 0.5, 0.5, 0.5, 0.5, 0.5, 0.5, 0.5]\n",
      "Channel Names: ['Fp1', 'Fp2', 'F3', 'F4', 'C3', 'C4', 'P3', 'P4', 'O1', 'O2', 'F7', 'F8', 'T7', 'T8', 'P7', 'P8', 'Fz', 'Cz', 'Pz', 'Oz', 'FC1', 'FC2', 'CP1', 'CP2', 'FC5', 'FC6', 'CP5', 'CP6', 'TP9', 'TP10', 'POz', 'ECG', 'F1', 'F2', 'C1', 'C2', 'P1', 'P2', 'AF3', 'AF4', 'FC3', 'FC4', 'CP3', 'CP4', 'PO3', 'PO4', 'F5', 'F6', 'C5', 'C6', 'P5', 'P6', 'AF7', 'AF8', 'FT7', 'FT8', 'TP7', 'TP8', 'PO7', 'PO8', 'FT9', 'FT10', 'Fpz', 'CPz']\n",
      "hdr SamplingInterval = 200.00\n",
      "bwBPF: {'f_low': 12, 'f_high': 15, 'order': 3}\n",
      "bwHPF: {'f': 50, 'order': 3}\n",
      "bwSimpleAverager: {'taps': 300, 'f': 2}\n",
      "bwSimpleAverager: {'taps': 300, 'f': 2}\n",
      "thr: 1.00, dur: 0.20\n",
      "bcinet is passed on\n",
      "thr: 50.00, dur: 0.15\n",
      "bcinet is passed on\n",
      "sending signal -- I ! - 300 - 2 - True - -1\n",
      "sending signal! - 2 False - 5.743686348419722 -- 0.2\n",
      "sending signal -- I ! - 300 - 3 - True - -1\n",
      "sending signal! - 4 False - 1.4630639364431446 -- 0.25\n",
      "sending signal! - 7 False - 14.302856590720104 -- 0.25\n",
      "sending signal! - 15 False - 25.748933363941045 -- 0.3\n",
      "sending signal -- I ! - 300 - 19 - True - -1\n",
      "sending signal! - 19 False - 0.11951038530873362 -- 0.25\n",
      "sending signal! - 25 False - 38.43784014304297 -- 0.35\n",
      "sending signal! - 37 False - 53.27450503755154 -- 0.39999999999999997\n",
      "sending signal! - 49 False - 70.40664341624066 -- 0.44999999999999996\n",
      "sending signal! - 66 False - 89.31153820546093 -- 0.49999999999999994\n",
      "sending signal! - 84 False - 110.23883396751415 -- 0.5499999999999999\n",
      "sending signal! - 101 False - 133.28334781904707 -- 0.6\n",
      "sending signal! - 121 False - 158.531512407894 -- 0.65\n",
      "sending signal! - 144 False - 186.52312716899192 -- 0.7000000000000001\n",
      "sending signal! - 170 False - 215.84946238257572 -- 0.7500000000000001\n",
      "sending signal! - 192 False - 247.39155657095523 -- 0.8000000000000002\n",
      "sending signal! - 222 False - 281.03931697586773 -- 0.8500000000000002\n",
      "sending signal! - 251 False - 316.89530119579854 -- 0.9000000000000002\n",
      "sending signal! - 288 False - 354.76380412106937 -- 0.9500000000000003\n",
      "sending signal! - 323 False - 395.07060524457626 -- 1.0000000000000002\n",
      "sending signal! - 360 False - 437.53461529692066 -- 1.0500000000000003\n",
      "sending signal! - 401 False - 483.0395919899328 -- 1.1000000000000003\n",
      "sending signal! - 442 False - 529.5107801817811 -- 1.1500000000000004\n",
      "sending signal! - 490 False - 578.23712324137 -- 1.2000000000000004\n",
      "sending signal! - 535 False - 628.5871801967392 -- 1.2500000000000004\n",
      "sending signal! - 582 False - 680.9865863374132 -- 1.3000000000000005\n",
      "sending signal! - 629 False - 735.7754239979582 -- 1.3500000000000005\n",
      "sending signal! - 681 False - 792.2810306785351 -- 1.4000000000000006\n",
      "sending signal! - 730 False - 852.2016672987514 -- 1.4500000000000006\n",
      "sending signal! - 782 False - 912.8764982791641 -- 1.5000000000000007\n",
      "sending signal! - 834 False - 975.5875630026347 -- 1.5500000000000007\n",
      "sending signal! - 889 False - 1040.4110784479317 -- 1.6000000000000008\n",
      "sending signal! - 939 False - 1107.3079764086908 -- 1.6500000000000008\n",
      "sending signal! - 1003 False - 1176.1385502542146 -- 1.7000000000000008\n",
      "sending signal! - 1067 False - 1247.1117562365316 -- 1.7500000000000009\n",
      "sending signal! - 1129 False - 1319.5261850019451 -- 1.800000000000001\n",
      "sending signal -- I ! - 300 - 1145 - True - -1\n",
      "sending signal! - 1145 False - 0.01746437140449543 -- 0.25\n",
      "sending signal! - 1196 False - 1394.5864663653201 -- 1.850000000000001\n",
      "sending signal! - 1266 False - 1470.9735436101232 -- 1.900000000000001\n",
      "sending signal! - 1334 False - 1550.0768503181093 -- 1.950000000000001\n",
      "sending signal! - 1393 False - 1630.9576312284337 -- 2.000000000000001\n",
      "sending signal! - 1460 False - 1714.375199038445 -- 2.0500000000000007\n",
      "sending signal! - 1537 False - 1800.2372592012157 -- 2.1000000000000005\n",
      "sending signal! - 1615 False - 1889.6838679180375 -- 2.1500000000000004\n",
      "sending signal! - 1694 False - 1979.0501427021131 -- 2.2\n",
      "sending signal! - 1774 False - 2070.818704221027 -- 2.25\n",
      "sending signal! - 1862 False - 2164.96206075301 -- 2.3\n",
      "sending signal! - 1942 False - 2262.251670775093 -- 2.3499999999999996\n",
      "sending signal! - 2028 False - 2360.2999015217733 -- 2.3999999999999995\n",
      "sending signal! - 2115 False - 2459.6316640344717 -- 2.4499999999999993\n",
      "sending signal! - 2203 False - 2562.1145391031428 -- 2.499999999999999\n",
      "sending signal! - 2289 False - 2666.5473746430143 -- 2.549999999999999\n",
      "sending signal! - 2382 False - 2773.5239032720124 -- 2.5999999999999988\n",
      "sending signal! - 2477 False - 2882.3800438219296 -- 2.6499999999999986\n",
      "sending signal! - 2576 False - 2993.6166231620377 -- 2.6999999999999984\n",
      "sending signal -- I ! - 200 - 2670 - True - -1\n",
      "sending signal! - 2670 False - 0.024583302135027768 -- 0.25\n",
      "sending signal! - 2678 False - 3107.790764020992 -- 2.7499999999999982\n",
      "sending signal -- I ! - 100 - 2680 - True - -1\n",
      "sending signal! - 2681 False - 0.03463514161194995 -- 0.25\n",
      "sending signal! - 2776 False - 3222.6114247966484 -- 2.799999999999998\n",
      "sending signal! - 2876 False - 3339.7990328474016 -- 2.849999999999998\n",
      "sending signal! - 2980 False - 3458.921978518249 -- 2.8999999999999977\n",
      "sending signal! - 3083 False - 3580.4529719727534 -- 2.9499999999999975\n",
      "sending signal! - 3181 False - 3703.4542412729384 -- 2.9999999999999973\n",
      "sending signal! - 3283 False - 3829.667921257778 -- 3.049999999999997\n",
      "sending signal -- I ! - 100 - 3284 - True - -1\n",
      "sending signal! - 3284 False - 0.02171783598904788 -- 0.25\n",
      "sending signal! - 3383 False - 3958.535318599299 -- 3.099999999999997\n",
      "sending signal! - 3489 False - 4088.4779204011384 -- 3.149999999999997\n",
      "FLIPPING/GOING THE THE MIDDLE AGAIN\n",
      "sending signal! - 3591 False - 4220.202677734242 -- 3.1999999999999966\n",
      "sending signal! - 3696 False - 4353.157295456406 -- 3.2499999999999964\n",
      "sending signal! - 3811 False - 4490.791174924706 -- 3.2999999999999963\n",
      "sending signal! - 3926 False - 4630.257723459015 -- 3.349999999999996\n",
      "sending signal! - 4046 False - 4771.530514955225 -- 3.399999999999996\n",
      "sending signal! - 4161 False - 4914.728201263786 -- 3.4499999999999957\n",
      "sending signal! - 4282 False - 5059.887990795749 -- 3.4999999999999956\n",
      "sending signal! - 4403 False - 5207.594063173033 -- 3.5499999999999954\n",
      "sending signal! - 4536 False - 5358.686523240385 -- 3.599999999999995\n",
      "sending signal! - 4666 False - 5510.9621323037345 -- 3.649999999999995\n",
      "sending signal! - 4793 False - 5665.2266069644575 -- 3.699999999999995\n",
      "sending signal! - 4910 False - 5821.230402247385 -- 3.7499999999999947\n",
      "sending signal! - 5038 False - 5979.4478029963275 -- 3.7999999999999945\n",
      "sending signal! - 5165 False - 6139.769129832784 -- 3.8499999999999943\n",
      "sending signal! - 5298 False - 6302.50555464278 -- 3.899999999999994\n",
      "sending signal! - 5436 False - 6467.509462921169 -- 3.949999999999994\n",
      "sending signal! - 5578 False - 6635.696348770159 -- 3.999999999999994\n",
      "sending signal! - 5715 False - 6804.12432043701 -- 4.049999999999994\n",
      "sending signal! - 5858 False - 6974.5768923708965 -- 4.099999999999993\n",
      "sending signal! - 6002 False - 7148.037898257599 -- 4.149999999999993\n",
      "sending signal! - 6147 False - 7322.764166765946 -- 4.199999999999993\n",
      "sending signal! - 6291 False - 7498.966404582114 -- 4.249999999999993\n",
      "sending signal! - 6444 False - 7677.23012240206 -- 4.299999999999993\n",
      "sending signal! - 6597 False - 7858.89213785305 -- 4.3499999999999925\n",
      "sending signal! - 6753 False - 8041.770496380777 -- 4.399999999999992\n",
      "sending signal! - 6908 False - 8224.09443280238 -- 4.449999999999992\n",
      "FLIPPING/GOING THE THE MIDDLE AGAIN\n",
      "sending signal! - 7060 False - 8410.744763213206 -- 4.499999999999992\n",
      "sending signal! - 7212 False - 8598.992327699147 -- 4.549999999999992\n",
      "sending signal! - 7368 False - 8789.285813507979 -- 4.599999999999992\n",
      "sending signal -- I ! - 100 - 7510 - True - -1\n",
      "sending signal! - 7510 False - 0.03099908182902912 -- 0.25\n",
      "sending signal! - 7518 False - 8980.559977420236 -- 4.6499999999999915\n",
      "sending signal! - 7674 False - 9175.80078592307 -- 4.699999999999991\n",
      "sending signal! - 7832 False - 9371.75818813801 -- 4.749999999999991\n",
      "sending signal! - 7982 False - 9569.922856336383 -- 4.799999999999991\n",
      "sending signal! - 8151 False - 9770.866363353976 -- 4.849999999999991\n",
      "sending signal! - 8312 False - 9973.414283447102 -- 4.899999999999991\n",
      "sending signal! - 8476 False - 10177.245014741504 -- 4.94999999999999\n",
      "sending signal! - 8633 False - 10384.56047620109 -- 4.99999999999999\n",
      "sending signal! - 8804 False - 10593.90625124654 -- 5.04999999999999\n",
      "sending signal! - 8975 False - 10804.197408192105 -- 5.09999999999999\n",
      "sending signal! - 9156 False - 11016.301719847377 -- 5.14999999999999\n",
      "sending signal! - 9344 False - 11231.345458961521 -- 5.1999999999999895\n",
      "sending signal! - 9525 False - 11447.975427699554 -- 5.249999999999989\n",
      "sending signal! - 9701 False - 11667.32894174494 -- 5.299999999999989\n",
      "sending signal -- I ! - 100 - 9783 - True - -1\n",
      "sending signal! - 9784 False - 0.056190139834899275 -- 0.25\n",
      "sending signal! - 9881 False - 11891.115871979164 -- 5.349999999999989\n",
      "sending signal! - 10055 False - 12116.02598482993 -- 5.399999999999989\n",
      "sending signal! - 10237 False - 12344.54977208486 -- 5.449999999999989\n",
      "FLIPPING/GOING THE THE MIDDLE AGAIN\n",
      "sending signal! - 10431 False - 12572.420554827308 -- 5.4999999999999885\n",
      "sending signal! - 10617 False - 12802.817122624145 -- 5.549999999999988\n",
      "sending signal! - 10802 False - 13037.153096090578 -- 5.599999999999988\n",
      "sending signal -- I ! - 100 - 10980 - True - -1\n",
      "sending signal! - 10980 False - 0.039342442679601686 -- 0.25\n",
      "sending signal! - 10990 False - 13273.320688388969 -- 5.649999999999988\n",
      "sending signal! - 11188 False - 13510.90243402154 -- 5.699999999999988\n",
      "sending signal! - 11384 False - 13749.666056847615 -- 5.749999999999988\n",
      "sending signal! - 11586 False - 13992.008106175597 -- 5.799999999999987\n",
      "sending signal -- I ! - 200 - 11747 - True - -1\n",
      "sending signal! - 11747 False - 0.04319737063688439 -- 0.25\n",
      "sending signal! - 11776 False - 14235.640682820704 -- 5.849999999999987\n",
      "sending signal! - 11970 False - 14481.840454410598 -- 5.899999999999987\n",
      "sending signal! - 12170 False - 14731.221513892326 -- 5.949999999999987\n",
      "sending signal! - 12378 False - 14981.857451758235 -- 5.999999999999987\n",
      "sending signal! - 12575 False - 15233.561061909617 -- 6.0499999999999865\n",
      "sending signal! - 12781 False - 15486.103298566279 -- 6.099999999999986\n",
      "sending signal! - 12987 False - 15740.50846025731 -- 6.149999999999986\n",
      "sending signal! - 13194 False - 15995.699379251822 -- 6.199999999999986\n",
      "sending signal! - 13392 False - 16253.259698070904 -- 6.249999999999986\n",
      "sending signal! - 13607 False - 16514.506174583512 -- 6.299999999999986\n",
      "FLIPPING/GOING THE THE MIDDLE AGAIN\n",
      "sending signal! - 13815 False - 16778.53399912296 -- 6.349999999999985\n",
      "sending signal! - 14027 False - 17043.989083973105 -- 6.399999999999985\n",
      "sending signal! - 14233 False - 17312.073964276617 -- 6.449999999999985\n",
      "sending signal! - 14457 False - 17582.339379534355 -- 6.499999999999985\n",
      "sending signal! - 14672 False - 17855.543874645362 -- 6.549999999999985\n",
      "sending signal! - 14900 False - 18130.459641555648 -- 6.5999999999999845\n",
      "sending signal! - 15134 False - 18410.131578912646 -- 6.649999999999984\n",
      "sending signal! - 15358 False - 18690.742886273947 -- 6.699999999999984\n",
      "sending signal -- I ! - 200 - 15414 - True - -1\n",
      "sending signal! - 15414 False - 0.03909444691442084 -- 0.25\n",
      "sending signal! - 15578 False - 18972.81053325024 -- 6.749999999999984\n",
      "sending signal! - 15800 False - 19257.87239997609 -- 6.799999999999984\n",
      "sending signal! - 16019 False - 19546.18822461614 -- 6.849999999999984\n",
      "sending signal! - 16251 False - 19835.759436648437 -- 6.8999999999999835\n",
      "sending signal! - 16480 False - 20127.46778243297 -- 6.949999999999983\n",
      "sending signal! - 16719 False - 20420.936778198666 -- 6.999999999999983\n",
      "sending signal! - 16915 False - 20717.13947045593 -- 7.049999999999983\n",
      "FLIPPING/GOING THE THE MIDDLE AGAIN\n",
      "sending signal! - 17121 False - 21013.94579282399 -- 7.099999999999983\n",
      "sending signal! - 17340 False - 21313.481398624946 -- 7.149999999999983\n",
      "sending signal! - 17566 False - 21615.83002464953 -- 7.199999999999982\n",
      "sending signal! - 17800 False - 21921.22365136112 -- 7.249999999999982\n",
      "sending signal! - 18025 False - 22227.706746775388 -- 7.299999999999982\n",
      "sending signal! - 18255 False - 22535.675655424657 -- 7.349999999999982\n",
      "sending signal -- I ! - 100 - 18466 - True - -1\n",
      "sending signal! - 18466 False - 0.06012907021570865 -- 0.25\n",
      "sending signal! - 18478 False - 22846.410441976725 -- 7.399999999999982\n",
      "sending signal! - 18699 False - 23157.715026222064 -- 7.4499999999999815\n",
      "sending signal! - 18943 False - 23473.360058503462 -- 7.499999999999981\n",
      "sending signal! - 19160 False - 23789.352657295054 -- 7.549999999999981\n",
      "FLIPPING/GOING THE THE MIDDLE AGAIN\n",
      "*** Overflow with 8 datablocks ***\n",
      "*** Overflow with 338 datablocks ***\n",
      "sending signal! - 19364 False - 24108.473524891695 -- 7.599999999999981\n",
      "sending signal! - 19364 False - 24430.749151785007 -- 7.649999999999981\n",
      "*** Overflow with 6 datablocks ***\n",
      "*** Overflow with 2 datablocks ***\n",
      "sending signal! - 19364 False - 24755.208172420407 -- 7.699999999999981\n"
     ]
    },
    {
     "name": "stderr",
     "output_type": "stream",
     "text": [
      "WARNING:wyrm.types:Discarding data that was longer than the ring buffer.\n"
     ]
    },
    {
     "name": "stdout",
     "output_type": "stream",
     "text": [
      "sending signal -- I ! - 294000 - 19365 - True - -1\n",
      "sending signal! - 19365 False - 1.296472864368273 -- 0.25\n",
      "sending signal! - 19365 False - 4.99909191772838 -- 0.3\n",
      "sending signal! - 19365 False - 5.7834398899739865 -- 0.35\n",
      "sending signal! - 19365 False - 8.244251138641998 -- 0.39999999999999997\n",
      "sending signal -- I ! - 294000 - 19365 - True - -1\n",
      "sending signal! - 19365 False - 1.5905604583072972 -- 0.25\n",
      "sending signal! - 19365 False - 3.083343686120305 -- 0.3\n",
      "sending signal -- I ! - 294000 - 19365 - True - -1\n",
      "sending signal! - 19365 False - 1.447640179748346 -- 0.25\n",
      "sending signal! - 19365 False - 3.544269536872559 -- 0.3\n",
      "sending signal! - 19365 False - 25082.528712465915 -- 7.7499999999999805\n",
      "sending signal! - 19365 False - 25411.38670518644 -- 7.79999999999998\n",
      "sending signal! - 19365 False - 25741.558005591683 -- 7.84999999999998\n",
      "sending signal -- I ! - 294000 - 19365 - True - -1\n",
      "sending signal! - 19365 False - 6.535181365919555 -- 0.2\n",
      "sending signal! - 19365 False - 15.079913881881257 -- 0.25\n",
      "sending signal! - 19365 False - 25.66975220707237 -- 0.3\n",
      "sending signal -- I ! - 294000 - 19365 - True - -1\n",
      "sending signal! - 19365 False - 5.943036664524238 -- 0.2\n",
      "sending signal! - 19365 False - 14.45027965810458 -- 0.25\n",
      "sending signal! - 19365 False - 25.00370148665646 -- 0.3\n",
      "sending signal -- I ! - 294000 - 19365 - True - -1\n",
      "sending signal! - 19365 False - 5.700086369301221 -- 0.2\n",
      "sending signal! - 19365 False - 14.176131781132899 -- 0.25\n",
      "sending signal! - 19365 False - 24.751393214279624 -- 0.3\n",
      "sending signal! - 19365 False - 37.49240051705432 -- 0.35\n",
      "sending signal! - 19365 False - 52.470873361053236 -- 0.39999999999999997\n",
      "sending signal! - 19365 False - 69.44523923962383 -- 0.44999999999999996\n",
      "sending signal! - 19365 False - 88.9929633330991 -- 0.49999999999999994\n",
      "sending signal! - 19365 False - 110.25189620084106 -- 0.5499999999999999\n",
      "sending signal! - 19365 False - 133.65512557988177 -- 0.6\n",
      "sending signal! - 19365 False - 159.2994874802203 -- 0.65\n",
      "sending signal! - 19365 False - 186.96822596364768 -- 0.7000000000000001\n",
      "sending signal! - 19365 False - 217.004977229505 -- 0.7500000000000001\n",
      "sending signal! - 19365 False - 248.9682759588775 -- 0.8000000000000002\n",
      "sending signal! - 19365 False - 283.12481311471515 -- 0.8500000000000002\n",
      "sending signal! - 19365 False - 319.25803271817546 -- 0.9000000000000002\n",
      "sending signal! - 19365 False - 357.5089239568424 -- 0.9500000000000003\n",
      "sending signal! - 19365 False - 398.14260064071215 -- 1.0000000000000002\n",
      "sending signal! - 19365 False - 440.81746846798956 -- 1.0500000000000003\n",
      "sending signal! - 19365 False - 485.28344874642056 -- 1.1000000000000003\n",
      "sending signal! - 19365 False - 531.8874570177655 -- 1.1500000000000004\n",
      "sending signal! - 19365 False - 580.7652248558121 -- 1.2000000000000004\n",
      "sending signal! - 19365 False - 631.3622065207051 -- 1.2500000000000004\n",
      "sending signal! - 19365 False - 684.3390764820351 -- 1.3000000000000005\n",
      "sending signal! - 19365 False - 739.639450008521 -- 1.3500000000000005\n",
      "sending signal! - 19365 False - 797.2919808486507 -- 1.4000000000000006\n",
      "sending signal! - 19365 False - 856.7292075457075 -- 1.4500000000000006\n",
      "sending signal! - 19365 False - 918.067735218515 -- 1.5000000000000007\n",
      "sending signal! - 19365 False - 981.8597266100982 -- 1.5500000000000007\n"
     ]
    },
    {
     "name": "stderr",
     "output_type": "stream",
     "text": [
      "WARNING:wyrm.types:Discarding data that was longer than the ring buffer.\n"
     ]
    },
    {
     "name": "stdout",
     "output_type": "stream",
     "text": [
      "sending signal! - 19366 False - 1047.5081116686758 -- 1.6000000000000008\n",
      "sending signal! - 19366 False - 1115.004624196499 -- 1.6500000000000008\n",
      "sending signal! - 19366 False - 1184.75070397188 -- 1.7000000000000008\n",
      "sending signal! - 19366 False - 1256.9097456977177 -- 1.7500000000000009\n",
      "sending signal! - 19366 False - 1330.9877352139017 -- 1.800000000000001\n",
      "sending signal! - 19366 False - 1406.7663822796112 -- 1.850000000000001\n",
      "sending signal! - 19366 False - 1484.8377404934383 -- 1.900000000000001\n",
      "sending signal! - 19366 False - 1565.407140721062 -- 1.950000000000001\n",
      "sending signal! - 19366 False - 1647.2065795050216 -- 2.000000000000001\n",
      "sending signal! - 19366 False - 1730.5067011337378 -- 2.0500000000000007\n",
      "sending signal! - 19366 False - 1816.698004056616 -- 2.1000000000000005\n",
      "sending signal! - 19366 False - 1905.1526126964093 -- 2.1500000000000004\n",
      "sending signal! - 19366 False - 1995.6806650197693 -- 2.2\n",
      "sending signal! - 19366 False - 2088.864147350776 -- 2.25\n",
      "sending signal! - 19366 False - 2183.2499441268806 -- 2.3\n",
      "sending signal! - 19366 False - 2279.871580827336 -- 2.3499999999999996\n",
      "sending signal! - 19366 False - 2378.1029297540686 -- 2.3999999999999995\n",
      "sending signal! - 19366 False - 2478.710464322556 -- 2.4499999999999993\n"
     ]
    },
    {
     "name": "stderr",
     "output_type": "stream",
     "text": [
      "WARNING:wyrm.types:Discarding data that was longer than the ring buffer.\n",
      "WARNING:wyrm.types:Discarding data that was longer than the ring buffer.\n"
     ]
    },
    {
     "name": "stdout",
     "output_type": "stream",
     "text": [
      "sending signal! - 19367 False - 2580.9397110881973 -- 2.499999999999999\n",
      "sending signal! - 19369 False - 2685.536377861522 -- 2.549999999999999\n",
      "sending signal! - 19448 False - 2792.2894516244032 -- 2.5999999999999988\n",
      "sending signal! - 19527 False - 2901.0537235695915 -- 2.6499999999999986\n",
      "sending signal! - 19615 False - 3011.7826781089766 -- 2.6999999999999984\n",
      "sending signal! - 19706 False - 3125.0858858549063 -- 2.7499999999999982\n",
      "FLIPPING/GOING THE THE MIDDLE AGAIN\n",
      "sending signal! - 19792 False - 3241.0835373583204 -- 2.799999999999998\n",
      "sending signal! - 19877 False - 3359.29737948991 -- 2.849999999999998\n",
      "sending signal! - 19966 False - 3479.182177595628 -- 2.8999999999999977\n",
      "loop is stopped!\n"
     ]
    }
   ],
   "source": [
    "nf_trial(1, thres)"
   ]
  },
  {
   "cell_type": "markdown",
   "metadata": {},
   "source": [
    "## RS #2"
   ]
  },
  {
   "cell_type": "code",
   "execution_count": null,
   "metadata": {},
   "outputs": [],
   "source": [
    "nf_trial(0)"
   ]
  },
  {
   "cell_type": "markdown",
   "metadata": {},
   "source": [
    "## SMR-NF #3"
   ]
  },
  {
   "cell_type": "code",
   "execution_count": null,
   "metadata": {},
   "outputs": [],
   "source": [
    "nf_trial(1, thres)"
   ]
  },
  {
   "cell_type": "markdown",
   "metadata": {},
   "source": [
    "## RS #3"
   ]
  },
  {
   "cell_type": "code",
   "execution_count": null,
   "metadata": {},
   "outputs": [],
   "source": [
    "nf_trial(0)"
   ]
  },
  {
   "cell_type": "markdown",
   "metadata": {},
   "source": [
    "## SMR-NF #4"
   ]
  },
  {
   "cell_type": "code",
   "execution_count": null,
   "metadata": {},
   "outputs": [],
   "source": [
    "nf_trial(1, thres)"
   ]
  },
  {
   "cell_type": "markdown",
   "metadata": {},
   "source": [
    "## RS #4"
   ]
  },
  {
   "cell_type": "code",
   "execution_count": null,
   "metadata": {},
   "outputs": [],
   "source": [
    "nf_trial(0)"
   ]
  },
  {
   "cell_type": "markdown",
   "metadata": {},
   "source": [
    "## SMR-NF #5"
   ]
  },
  {
   "cell_type": "code",
   "execution_count": null,
   "metadata": {},
   "outputs": [],
   "source": [
    "nf_trial(1, thres)"
   ]
  },
  {
   "cell_type": "markdown",
   "metadata": {},
   "source": [
    "## RS #5"
   ]
  },
  {
   "cell_type": "code",
   "execution_count": null,
   "metadata": {},
   "outputs": [],
   "source": [
    "nf_trial(0)"
   ]
  },
  {
   "cell_type": "markdown",
   "metadata": {},
   "source": [
    "## SMR-NF #6"
   ]
  },
  {
   "cell_type": "code",
   "execution_count": null,
   "metadata": {},
   "outputs": [],
   "source": [
    "nf_trial(1, thres)"
   ]
  },
  {
   "cell_type": "code",
   "execution_count": null,
   "metadata": {},
   "outputs": [],
   "source": [
    "# EMG\n",
    "# Scale corrected data to V (from uV)\n",
    "# PyQT Graph\n",
    "# Don't plot real-time data next time"
   ]
  }
 ],
 "metadata": {
  "kernelspec": {
   "display_name": "Python 2",
   "language": "python",
   "name": "python2"
  },
  "language_info": {
   "codemirror_mode": {
    "name": "ipython",
    "version": 2
   },
   "file_extension": ".py",
   "mimetype": "text/x-python",
   "name": "python",
   "nbconvert_exporter": "python",
   "pygments_lexer": "ipython2",
   "version": "2.7.16"
  }
 },
 "nbformat": 4,
 "nbformat_minor": 4
}
