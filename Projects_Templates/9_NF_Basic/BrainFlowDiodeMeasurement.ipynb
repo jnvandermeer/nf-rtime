{
 "cells": [
  {
   "cell_type": "code",
   "execution_count": 1,
   "metadata": {},
   "outputs": [],
   "source": [
    "import argparse\n",
    "import time\n",
    "import numpy as np\n",
    "\n",
    "import brainflow\n",
    "from brainflow.board_shim import BoardShim, BrainFlowInputParams\n",
    "from brainflow.data_filter import DataFilter, FilterTypes, AggOperations\n",
    "\n",
    "import dynarray\n",
    "   \n",
    "params = BrainFlowInputParams() # default parameters, I suppose?\n",
    "params.serial_port = '/dev/ttyUSB0' # board DEV\n",
    "\n",
    "BoardShim.enable_board_logger() # so it's like that... shoddy, no?"
   ]
  },
  {
   "cell_type": "code",
   "execution_count": 2,
   "metadata": {},
   "outputs": [],
   "source": [
    "%matplotlib qt\n",
    "import matplotlib.pyplot as plt"
   ]
  },
  {
   "cell_type": "code",
   "execution_count": 3,
   "metadata": {},
   "outputs": [],
   "source": [
    "board = BoardShim(2, params)\n",
    "board.prepare_session()"
   ]
  },
  {
   "cell_type": "code",
   "execution_count": 4,
   "metadata": {},
   "outputs": [],
   "source": [
    "#ringbuffer = 250 samples, it's not the fs\n",
    "board.start_stream(250, '')"
   ]
  },
  {
   "cell_type": "code",
   "execution_count": 5,
   "metadata": {},
   "outputs": [],
   "source": [
    "board.enable_dev_board_logger()"
   ]
  },
  {
   "cell_type": "code",
   "execution_count": 6,
   "metadata": {},
   "outputs": [],
   "source": [
    "# board.config_board('/2') # I need to do this to en-able analogue mode !?"
   ]
  },
  {
   "cell_type": "code",
   "execution_count": 7,
   "metadata": {},
   "outputs": [],
   "source": [
    "import pylsl\n",
    "\n",
    "# F7 is secretly our Photo Diode!\n",
    "ch_names = ['Fp1', 'Fp2', 'C3', 'C4', 'T5', 'T6', 'O1', 'O2', \n",
    "            'F7', 'F8', 'F3', 'F4', 'T3', 'T4', 'P3', 'P4', 'DIODE'];\n",
    "\n",
    "sfreq = 125;\n",
    "\n",
    "info = pylsl.StreamInfo('BrainFlow_eeg_run', 'EEG', len(ch_names), sfreq, 'float32', 'this_is_eeg_')\n",
    "\n",
    "chns = info.desc().append_child(\"channels\")\n",
    "for label in ch_names:\n",
    "    ch = chns.append_child(\"channel\")\n",
    "    ch.append_child_value(\"label\", label)\n",
    "    ch.append_child_value(\"unit\", \"microvolts\")\n",
    "    ch.append_child_value(\"type\", \"EEG\")\n",
    "\n",
    "outlet = pylsl.StreamOutlet(info)"
   ]
  },
  {
   "cell_type": "code",
   "execution_count": null,
   "metadata": {},
   "outputs": [],
   "source": [
    "begin=time.time()\n",
    "\n",
    "times=[]\n",
    "shapes=[]\n",
    "packet_ids=[]\n",
    "timestamps=[]\n",
    "packets=[]\n",
    "\n",
    "d = dynarray.DynamicArray((None, 17))\n",
    "\n",
    "import time\n",
    "times_called=0\n",
    "times_processed=0\n",
    "sizes = []\n",
    "while True: #time.time() < begin + 60*10:\n",
    "    \n",
    "    if board.get_board_data_count():\n",
    "        times_called += 1\n",
    "\n",
    "        m=board.get_board_data()\n",
    "        \n",
    "        eeg_data = m[[1, 2, 3, 4, 5, 6, 7, 8, 9, 10, 11, 12, 13, 14, 15, 16],:];\n",
    "        # diode_data = m[[27, 28, 29],:];\n",
    "        diode_data = m[[28],:];\n",
    "        \n",
    "        to_send = np.vstack((eeg_data, diode_data))\n",
    "        # d.extend(to_send)\n",
    "        \n",
    "        # to_send = eeg_data\n",
    "        \n",
    "        sizes.append(to_send.T.shape)\n",
    "        \n",
    "        # d.extend(to_send.T)\n",
    "\n",
    "        # now; put that eeg_data INTO a LSL stream, so we can check it\n",
    "        # ALSO -- put the diode_data as well; but mark is as 'bad channel'.\n",
    "        \n",
    "        # this might impart maybe an extra ~1 msec on our time estimates:\n",
    "        \n",
    "        # outlet.push_chunk(all_data[b:e,:].tolist(), stamp)\n",
    "        outlet.push_chunk(to_send.T.tolist())\n",
    "        \n"
   ]
  },
  {
   "cell_type": "code",
   "execution_count": 10,
   "metadata": {},
   "outputs": [
    {
     "data": {
      "text/plain": [
       "(16, 249)"
      ]
     },
     "execution_count": 10,
     "metadata": {},
     "output_type": "execute_result"
    }
   ],
   "source": [
    "to_send.shape"
   ]
  },
  {
   "cell_type": "code",
   "execution_count": 10,
   "metadata": {},
   "outputs": [
    {
     "data": {
      "text/plain": [
       "array([[ -23912.34179688],\n",
       "       [ -97452.484375  ],\n",
       "       [ -23237.09570312],\n",
       "       [-102033.9921875 ],\n",
       "       [-105942.7734375 ],\n",
       "       [ -50615.0546875 ],\n",
       "       [ -86593.9609375 ],\n",
       "       [ -52005.48828125],\n",
       "       [ -64316.47265625],\n",
       "       [ -60398.25390625],\n",
       "       [ -31083.1171875 ],\n",
       "       [ -48795.66796875],\n",
       "       [ -39251.359375  ],\n",
       "       [-115229.515625  ],\n",
       "       [ -61103.05078125],\n",
       "       [ -66398.7578125 ]])"
      ]
     },
     "execution_count": 10,
     "metadata": {},
     "output_type": "execute_result"
    }
   ],
   "source": [
    "m[1:17,:]"
   ]
  },
  {
   "cell_type": "code",
   "execution_count": 29,
   "metadata": {},
   "outputs": [
    {
     "data": {
      "text/plain": [
       "array([[ 9.10000000e+01],\n",
       "       [-2.36997109e+04],\n",
       "       [-9.17267734e+04],\n",
       "       [-2.34906543e+04],\n",
       "       [-1.07472656e+05],\n",
       "       [-1.13700641e+05],\n",
       "       [-5.06737500e+04],\n",
       "       [-9.19576016e+04],\n",
       "       [-5.14312734e+04],\n",
       "       [-7.03715156e+04],\n",
       "       [-6.10497188e+04],\n",
       "       [-3.23168438e+04],\n",
       "       [-4.86502461e+04],\n",
       "       [-4.01684297e+04],\n",
       "       [-1.13348352e+05],\n",
       "       [-6.42608164e+04],\n",
       "       [-6.51007930e+04],\n",
       "       [ 0.00000000e+00],\n",
       "       [ 0.00000000e+00],\n",
       "       [ 0.00000000e+00],\n",
       "       [ 1.93000000e+02],\n",
       "       [ 1.00000000e+00],\n",
       "       [ 1.45500000e+02],\n",
       "       [ 3.00000000e+00],\n",
       "       [ 2.51000000e+02],\n",
       "       [ 3.00000000e+00],\n",
       "       [ 2.51500000e+02],\n",
       "       [ 4.01500000e+02],\n",
       "       [ 1.01900000e+03],\n",
       "       [ 1.01950000e+03],\n",
       "       [ 1.60076275e+09]])"
      ]
     },
     "execution_count": 29,
     "metadata": {},
     "output_type": "execute_result"
    }
   ],
   "source": [
    "m"
   ]
  },
  {
   "cell_type": "code",
   "execution_count": 7,
   "metadata": {},
   "outputs": [],
   "source": [
    "times_called_fit()"
   ]
  },
  {
   "cell_type": "code",
   "execution_count": 80,
   "metadata": {},
   "outputs": [],
   "source": [
    "board.stop_stream()"
   ]
  },
  {
   "cell_type": "code",
   "execution_count": 81,
   "metadata": {},
   "outputs": [],
   "source": [
    "board.release_session()"
   ]
  },
  {
   "cell_type": "markdown",
   "metadata": {},
   "source": [
    "# This should have done it"
   ]
  },
  {
   "cell_type": "code",
   "execution_count": 100,
   "metadata": {},
   "outputs": [
    {
     "data": {
      "text/plain": [
       "0"
      ]
     },
     "execution_count": 100,
     "metadata": {},
     "output_type": "execute_result"
    }
   ],
   "source": []
  },
  {
   "cell_type": "code",
   "execution_count": 81,
   "metadata": {},
   "outputs": [
    {
     "data": {
      "text/plain": [
       "[<matplotlib.lines.Line2D at 0x7f11ca039e10>]"
      ]
     },
     "execution_count": 81,
     "metadata": {},
     "output_type": "execute_result"
    }
   ],
   "source": [
    "plt.figure()\n",
    "plt.plot(m[22,:] - m[22,0])"
   ]
  },
  {
   "cell_type": "code",
   "execution_count": 44,
   "metadata": {},
   "outputs": [
    {
     "data": {
      "text/plain": [
       "(31, 124)"
      ]
     },
     "execution_count": 44,
     "metadata": {},
     "output_type": "execute_result"
    }
   ],
   "source": [
    "m.shape"
   ]
  },
  {
   "cell_type": "code",
   "execution_count": 53,
   "metadata": {},
   "outputs": [
    {
     "data": {
      "text/plain": [
       "[<matplotlib.lines.Line2D at 0x7f11cab5d978>,\n",
       " <matplotlib.lines.Line2D at 0x7f11cab5dac8>]"
      ]
     },
     "execution_count": 53,
     "metadata": {},
     "output_type": "execute_result"
    }
   ],
   "source": [
    "plt.figure(); plt.plot(m[[2, 3],:].T)"
   ]
  },
  {
   "cell_type": "code",
   "execution_count": 101,
   "metadata": {},
   "outputs": [],
   "source": [
    "board.stop_stream()"
   ]
  },
  {
   "cell_type": "code",
   "execution_count": 102,
   "metadata": {},
   "outputs": [],
   "source": [
    "board.release_session()"
   ]
  },
  {
   "cell_type": "code",
   "execution_count": 77,
   "metadata": {},
   "outputs": [
    {
     "data": {
      "text/plain": [
       "[20, 21, 22, 23, 24, 25, 26]"
      ]
     },
     "execution_count": 77,
     "metadata": {},
     "output_type": "execute_result"
    }
   ],
   "source": [
    "board.get_other_channels(2)"
   ]
  },
  {
   "cell_type": "code",
   "execution_count": 66,
   "metadata": {},
   "outputs": [
    {
     "data": {
      "text/plain": [
       "<matplotlib.image.AxesImage at 0x7f97e40daa20>"
      ]
     },
     "execution_count": 66,
     "metadata": {},
     "output_type": "execute_result"
    }
   ],
   "source": [
    "import matplotlib.pyplot as plt\n",
    "%matplotlib qt\n",
    "plt.figure();plt.imshow(d[0:16])"
   ]
  },
  {
   "cell_type": "code",
   "execution_count": 75,
   "metadata": {},
   "outputs": [
    {
     "data": {
      "text/plain": [
       "[<matplotlib.lines.Line2D at 0x7f97dd19d940>]"
      ]
     },
     "execution_count": 75,
     "metadata": {},
     "output_type": "execute_result"
    }
   ],
   "source": [
    "plt.figure();plt.plot(np.diff(time.time() - d[30]))"
   ]
  },
  {
   "cell_type": "code",
   "execution_count": 49,
   "metadata": {},
   "outputs": [],
   "source": [
    "board.stop_stream()"
   ]
  },
  {
   "cell_type": "code",
   "execution_count": 4,
   "metadata": {},
   "outputs": [],
   "source": [
    "time.sleep (10)\n",
    "# data = board.get_current_board_data (256) # get latest 256 packages or less, doesnt remove them from internal buffer"
   ]
  },
  {
   "cell_type": "code",
   "execution_count": 4,
   "metadata": {},
   "outputs": [],
   "source": [
    "while True:\n",
    "    data = board.get_board_data () # get all data and remove it from internal buffer\n",
    "    \n",
    "    \n",
    "board.stop_stream()\n",
    "board.release_session()\n",
    "\n",
    "    print (data)"
   ]
  },
  {
   "cell_type": "code",
   "execution_count": 18,
   "metadata": {},
   "outputs": [],
   "source": [
    "default_16_ch_names = ['Fp1',  'Fp2',  'C3',  'C4',  'T5',  'T6',  'O1',  'O2',  'F7',  'F8',  'F3',  'F4',  'T3',  'T4',  'P3',  'P4']\n",
    "default_8_ch_names = ['Fp1', 'Fp2', 'C3', 'C4', 'T5', 'T6', 'O1', 'O2']\n",
    "\n",
    "\n",
    "default_data_encoding = 'float32'\n",
    "\n",
    "default_eeg_stream_name = 'openbci_eeg'\n",
    "default_aux_stream_name = 'openbci_aux'\n",
    "random_number = random.randint(0, 999)\n",
    "default_eeg_stream_identifier = 'openbci_eeg_id{:3d}'.format(random_number)\n",
    "default_aux_stream_identifier = 'openbci_aux_id{:3d}'.format(random_number)\n",
    "\n",
    "if board.get_sampling_rate(2) == 125:\n",
    "    ch_names = default_16_ch_names\n",
    "elif board.get_sampling_rate(2) == 250:\n",
    "    ch_names = default_16_ch_names\n",
    "\n",
    "other_channels = ['X','Y','Z']"
   ]
  },
  {
   "cell_type": "code",
   "execution_count": null,
   "metadata": {},
   "outputs": [],
   "source": [
    "# make the info for the EEG:\n",
    "info_eeg = pylsl.StreamInfo(default_eeg_stream_name, 'EEG', len(ch_names), board.get_sampling_rate(2), 'float32', default_eeg_stream_identifier)\n",
    "chns = info_eeg.desc().append_child(\"channels\")\n",
    "for label in ch_names:\n",
    "    ch = chns.append_child(\"channel\")\n",
    "    ch.append_child_value(\"label\", label)\n",
    "    ch.append_child_value(\"unit\", \"microvolts\")\n",
    "    ch.append_child_value(\"type\", \"EEG\")\n",
    "\n",
    "# make the info for the AUX:\n",
    "info_aux = pylsl.StreamInfo(default_aux_stream_name, 'AUX', len(ch_names), board.get_sampling_rate(2), 'float32', default_aux_stream_identifier)\n",
    "chns = info_aux.desc().append_child(\"channels\")\n",
    "for label in other_channels:\n",
    "    ch = chns.append_child(\"channel\")\n",
    "    ch.append_child_value(\"label\", label)\n",
    "    ch.append_child_value(\"unit\", \"microvolts\")\n",
    "    ch.append_child_value(\"type\", \"EEG\")\n",
    "\n",
    "    \n",
    "outlet_eeg = pylsl.StreamOutlet(info_eeg)\n",
    "outlet_aux = pylsl.StreamOutlet(info_aux)"
   ]
  },
  {
   "cell_type": "code",
   "execution_count": 2,
   "metadata": {},
   "outputs": [],
   "source": [
    "import numpy as np"
   ]
  },
  {
   "cell_type": "code",
   "execution_count": 4,
   "metadata": {},
   "outputs": [],
   "source": [
    "import math"
   ]
  },
  {
   "cell_type": "code",
   "execution_count": 6,
   "metadata": {},
   "outputs": [],
   "source": [
    "import random"
   ]
  },
  {
   "cell_type": "code",
   "execution_count": 11,
   "metadata": {},
   "outputs": [
    {
     "data": {
      "text/plain": [
       "'335'"
      ]
     },
     "execution_count": 11,
     "metadata": {},
     "output_type": "execute_result"
    }
   ],
   "source": []
  },
  {
   "cell_type": "code",
   "execution_count": null,
   "metadata": {},
   "outputs": [],
   "source": [
    "# to make a LSL outlet, we need to set all kinds of parameters.\n",
    "\n",
    "    info = pylsl.StreamInfo('Playback-3', 'EEG', len(raw.ch_names), raw.info['sfreq'], 'float32', 'someidentifier123')\n",
    "\n",
    "    chns = info.desc().append_child(\"channels\")\n",
    "    for label in raw.ch_names:\n",
    "        ch = chns.append_child(\"channel\")\n",
    "        ch.append_child_value(\"label\", label)\n",
    "        ch.append_child_value(\"unit\", \"microvolts\")\n",
    "        ch.append_child_value(\"type\", \"EEG\")\n",
    "\n",
    "    outlet = pylsl.StreamOutlet(info)\n",
    "\n",
    "\n",
    "def send_it(data_file):\n",
    "\n",
    "    import mne\n",
    "    # data_file = '/home/johan/nf/nf-rtime/Projects_Templates/3_RTMRICWL/trial_data_for_mri_cwl_development.set'\n",
    "\n",
    "    raw = mne.io.read_raw_eeglab(data_file).resample(500)\n",
    "    raw_scaling = [item['cal'] for item in raw.info['chs']]\n",
    "    sfreq=raw.info['sfreq']\n",
    "    \n",
    "    print(raw)\n",
    "    # create info for our purposes:\n",
    "    info = pylsl.StreamInfo('Playback-3', 'EEG', len(raw.ch_names), raw.info['sfreq'], 'float32', 'someidentifier123')\n",
    "\n",
    "    chns = info.desc().append_child(\"channels\")\n",
    "    for label in raw.ch_names:\n",
    "        ch = chns.append_child(\"channel\")\n",
    "        ch.append_child_value(\"label\", label)\n",
    "        ch.append_child_value(\"unit\", \"microvolts\")\n",
    "        ch.append_child_value(\"type\", \"EEG\")\n",
    "\n",
    "    outlet = pylsl.StreamOutlet(info)\n",
    "\n",
    "    # time_to_send_new_data_point = time.time()\n",
    "    # time_to_wait_between_sending_data_points = 1/sfreq\n",
    "\n",
    "    begin_time = time.time()\n",
    "    current_time = 0.0\n",
    "    all_data = raw.get_data().T / raw_scaling\n",
    "\n",
    "    inds_sent = np.zeros(raw.last_samp+1, dtype=bool)\n",
    "    while current_time < raw.last_samp/raw.info['sfreq']:\n",
    "\n",
    "        inds_current = raw.times < current_time\n",
    "        bool_slice = inds_current & ~inds_sent\n",
    "        if bool_slice.any():\n",
    "            b=np.min(np.where(bool_slice)[0])\n",
    "            e=np.max(np.where(bool_slice)[0])+1\n",
    "\n",
    "\n",
    "            stamp = pylsl.local_clock()-0.125\n",
    "            outlet.push_chunk(all_data[b:e,:].tolist(), stamp)\n",
    "            inds_sent = inds_sent | inds_current\n",
    "\n",
    "            no_data_time=0\n",
    "\n",
    "        time.sleep(0.01)\n",
    "        current_time = time.time() - begin_time\n",
    "\n",
    "    print('We are done sending this data')\n",
    "    del(outlet)\n",
    "        "
   ]
  }
 ],
 "metadata": {
  "kernelspec": {
   "display_name": "Python 3",
   "language": "python",
   "name": "python3"
  },
  "language_info": {
   "codemirror_mode": {
    "name": "ipython",
    "version": 3
   },
   "file_extension": ".py",
   "mimetype": "text/x-python",
   "name": "python",
   "nbconvert_exporter": "python",
   "pygments_lexer": "ipython3",
   "version": "3.7.3"
  }
 },
 "nbformat": 4,
 "nbformat_minor": 4
}
