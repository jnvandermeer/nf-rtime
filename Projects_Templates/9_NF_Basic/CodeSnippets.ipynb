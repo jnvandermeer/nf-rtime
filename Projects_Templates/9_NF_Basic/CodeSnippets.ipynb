{
 "cells": [
  {
   "cell_type": "markdown",
   "metadata": {},
   "source": [
    "# potentially useful code snippets for potential later use"
   ]
  },
  {
   "cell_type": "code",
   "execution_count": 2,
   "metadata": {},
   "outputs": [
    {
     "ename": "NameError",
     "evalue": "name 'dynarray' is not defined",
     "output_type": "error",
     "traceback": [
      "\u001b[0;31m---------------------------------------------------------------------------\u001b[0m",
      "\u001b[0;31mNameError\u001b[0m                                 Traceback (most recent call last)",
      "\u001b[0;32m<ipython-input-2-8fa6682c27c9>\u001b[0m in \u001b[0;36m<module>\u001b[0;34m\u001b[0m\n\u001b[1;32m      1\u001b[0m \u001b[0;31m# we put the incoming data in here:\u001b[0m\u001b[0;34m\u001b[0m\u001b[0;34m\u001b[0m\u001b[0;34m\u001b[0m\u001b[0m\n\u001b[0;32m----> 2\u001b[0;31m \u001b[0mnp_eo\u001b[0m \u001b[0;34m=\u001b[0m \u001b[0mdynarray\u001b[0m\u001b[0;34m.\u001b[0m\u001b[0mDynamicArray\u001b[0m\u001b[0;34m(\u001b[0m\u001b[0;34m(\u001b[0m\u001b[0;32mNone\u001b[0m\u001b[0;34m,\u001b[0m \u001b[0mlen\u001b[0m\u001b[0;34m(\u001b[0m\u001b[0mchannel_names\u001b[0m\u001b[0;34m)\u001b[0m\u001b[0;34m)\u001b[0m\u001b[0;34m)\u001b[0m\u001b[0;34m\u001b[0m\u001b[0;34m\u001b[0m\u001b[0m\n\u001b[0m\u001b[1;32m      3\u001b[0m \u001b[0;34m\u001b[0m\u001b[0m\n\u001b[1;32m      4\u001b[0m \u001b[0;31m# init/open the window in which we visualize data\u001b[0m\u001b[0;34m\u001b[0m\u001b[0;34m\u001b[0m\u001b[0;34m\u001b[0m\u001b[0m\n\u001b[1;32m      5\u001b[0m \u001b[0mw\u001b[0m\u001b[0;34m=\u001b[0m\u001b[0mguis\u001b[0m\u001b[0;34m.\u001b[0m\u001b[0mAcquireData\u001b[0m\u001b[0;34m(\u001b[0m\u001b[0msampling_freq\u001b[0m\u001b[0;34m,\u001b[0m \u001b[0mchannel_names\u001b[0m\u001b[0;34m)\u001b[0m\u001b[0;34m\u001b[0m\u001b[0;34m\u001b[0m\u001b[0m\n",
      "\u001b[0;31mNameError\u001b[0m: name 'dynarray' is not defined"
     ]
    }
   ],
   "source": [
    "# we put the incoming data in here:\n",
    "np_eo = dynarray.DynamicArray((None, len(channel_names)))\n",
    "\n",
    "# init/open the window in which we visualize data\n",
    "w=guis.AcquireData(sampling_freq, channel_names)\n",
    "\n",
    "# before we start, pull everything from the buffer (empty it)\n",
    "data_inlet.pull_chunk()\n",
    "while data_inlet.samples_available(): data_inlet.pull_chunk() \n",
    "    \n",
    "# then start acquiring data as long as button 'stop' not pressed:\n",
    "w.RUNLOOP=True\n",
    "while w.RUNLOOP:\n",
    "\n",
    "\n",
    "    if not data_inlet.samples_available():\n",
    "        w.update(None)\n",
    "    else:\n",
    "        \n",
    "        chunk_data, chunk_times = data_inlet.pull_chunk(timeout=0.0) # grab from LSL\n",
    "\n",
    "        np_eo.extend(chunk_data) # add to our list\n",
    "        w.update(chunk_data) # update the GUI window        "
   ]
  },
  {
   "cell_type": "code",
   "execution_count": null,
   "metadata": {},
   "outputs": [],
   "source": [
    "# visualize delay between a reported 'hit' (stimulus computer) and a signalled 'hit' (analysis computer)\n",
    "new_evs, event_id = mne.events_from_annotations(rtanalyzed_nftraining_eeg, event_id={'hit':2})\n",
    "epoched=mne.Epochs(rtanalyzed_nftraining_eeg, new_evs, 2, tmin=-0.8, tmax=0.1);\n",
    "epoched.drop(np.squeeze(np.sum(epoched.get_data(picks='vmarker'),axis=2)!=1))\n",
    "conv_func = scipy.signal.gaussian(epoched.info['sfreq']/10, std=epoched.info['sfreq']/20)\n",
    "m = np.squeeze(epoched.get_data(picks='vmarker'))\n",
    "new_m = np.apply_along_axis(lambda m: np.convolve(m, conv_func, mode='same'), axis=1, arr=m)\n",
    "\n",
    "import matplotlib.pyplot as plt\n",
    "plt.figure()\n",
    "plt.plot(epoched.times, np.mean(new_m, axis=0))\n",
    "# plt.plot(epoched.times, new_m.T)\n",
    "plt.xlabel('time (s)')\n",
    "plt.title('delay between stimulus & analysis computers for NF \\'hits\\'');"
   ]
  },
  {
   "cell_type": "markdown",
   "metadata": {},
   "source": [
    "\n",
    "# Kalman Filter Tryouts"
   ]
  },
  {
   "cell_type": "code",
   "execution_count": 3,
   "metadata": {},
   "outputs": [],
   "source": [
    "x0 = 0\n",
    "v0 = 0"
   ]
  },
  {
   "cell_type": "code",
   "execution_count": 5,
   "metadata": {},
   "outputs": [],
   "source": [
    "def predict(xp, vp):\n",
    "    xn_prior = xp + vp\n",
    "    vn_prior = vp\n",
    "    return (xn_prior, vn_prior)"
   ]
  },
  {
   "cell_type": "code",
   "execution_count": 7,
   "metadata": {},
   "outputs": [],
   "source": [
    "def update(xn_prior, vn_prior, x_measured):\n",
    "    alpha = 0.2\n",
    "    beta = 0.1\n",
    "    xn_posterior = xn_prior + alpha * (x_measured - xn_prior)\n",
    "    vn_posterior = vn_prior + beta * (x_measured - xn_prior)\n",
    "\n",
    "    return (xn_posterior, vn_posterior)\n",
    "    "
   ]
  },
  {
   "cell_type": "code",
   "execution_count": 11,
   "metadata": {},
   "outputs": [],
   "source": [
    "predicted_x = []\n",
    "updated_x = []\n",
    "predicted_v = []\n",
    "updated_v = []\n",
    "\n",
    "x=0\n",
    "v=0\n",
    "\n",
    "for data in range(1000):\n",
    "    new_x_prior, new_v_prior = predict(x, v)\n",
    "    new_x_posterior, new_y_posterior = update(new_x_prior, new_v_prior, data)\n",
    "    x, v = (new_x_posterior, new_y_posterior)\n",
    "    \n",
    "    predicted_x.append(new_x_prior)\n",
    "    predicted_v.append(new_v_prior)\n",
    "    updated_x.append(new_x_posterior)\n",
    "    updated_v.append(new_y_posterior)\n",
    "    \n",
    "    \n",
    "    "
   ]
  },
  {
   "cell_type": "code",
   "execution_count": 12,
   "metadata": {},
   "outputs": [],
   "source": [
    "import matplotlib.pyplot as plt"
   ]
  },
  {
   "cell_type": "code",
   "execution_count": 16,
   "metadata": {},
   "outputs": [
    {
     "data": {
      "text/plain": [
       "[<matplotlib.lines.Line2D at 0x7fd02447eb00>]"
      ]
     },
     "execution_count": 16,
     "metadata": {},
     "output_type": "execute_result"
    },
    {
     "data": {
      "image/png": "[encoded data removed]",
      "text/plain": [
       "<Figure size 432x288 with 1 Axes>"
      ]
     },
     "metadata": {
      "needs_background": "light"
     },
     "output_type": "display_data"
    }
   ],
   "source": [
    "plt.plot(updated_x)"
   ]
  },
  {
   "cell_type": "code",
   "execution_count": null,
   "metadata": {},
   "outputs": [],
   "source": []
  }
 ],
 "metadata": {
  "kernelspec": {
   "display_name": "Python 3",
   "language": "python",
   "name": "python3"
  },
  "language_info": {
   "codemirror_mode": {
    "name": "ipython",
    "version": 3
   },
   "file_extension": ".py",
   "mimetype": "text/x-python",
   "name": "python",
   "nbconvert_exporter": "python",
   "pygments_lexer": "ipython3",
   "version": "3.7.3"
  }
 },
 "nbformat": 4,
 "nbformat_minor": 4
}
