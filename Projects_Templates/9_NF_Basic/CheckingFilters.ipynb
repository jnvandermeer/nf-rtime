{
 "cells": [
  {
   "cell_type": "code",
   "execution_count": 1,
   "metadata": {},
   "outputs": [],
   "source": [
    "sampling_freq=125"
   ]
  },
  {
   "cell_type": "code",
   "execution_count": 2,
   "metadata": {},
   "outputs": [],
   "source": [
    "# import (most of the) modules that we need\n",
    "import time\n",
    "import re\n",
    "import os\n",
    "from multiprocessing import Process\n",
    "import numpy as np\n",
    "import pylsl\n",
    "from datetime import datetime\n",
    "from nftools import guis\n",
    "from nftools.mne import no_bad_samples, no_bad_channels, detect_channel_types\n",
    "from nftools.threshold import find_mode, contiguous_regions, detect_bursts, determine_optimal_threshold\n",
    "import mne\n",
    "import dynarray\n",
    "import pickle\n",
    "from scipy import io as spio\n",
    "import matplotlib.pyplot as plt"
   ]
  },
  {
   "cell_type": "code",
   "execution_count": 3,
   "metadata": {},
   "outputs": [],
   "source": [
    "from pynfb.signal_processing.filters import (FilterSequence, \n",
    "                                             CFIRBandEnvelopeDetector, \n",
    "                                             ExponentialSmoother,\n",
    "                                             SpatialFilter,\n",
    "                                             ButterFilter,\n",
    "                                             ButterBandEnvelopeDetector,\n",
    "                                             ScalarButterFilter,\n",
    "                                             MASmoother,\n",
    "                                             FFTBandEnvelopeDetector,\n",
    "                                             NotchFilter\n",
    "                                            )"
   ]
  },
  {
   "cell_type": "code",
   "execution_count": 6,
   "metadata": {},
   "outputs": [
    {
     "data": {
      "image/png": "[encoded data removed]",
      "text/plain": [
       "<Figure size 432x288 with 2 Axes>"
      ]
     },
     "metadata": {
      "needs_background": "light"
     },
     "output_type": "display_data"
    }
   ],
   "source": [
    "from scipy import signal\n",
    "b = signal.firwin(80, 0.5, window=('kaiser', 8))\n",
    "highpass_filter = ScalarButterFilter([1, None], sampling_freq)\n",
    "w, h = signal.freqz(highpass_filter.filter.b, highpass_filter.filter.a)\n",
    "# w, h = signal.freqz(b, 1)\n",
    "\n",
    "\n",
    "\n",
    "import matplotlib.pyplot as plt\n",
    "fig = plt.figure()\n",
    "plt.title('Digital filter frequency response')\n",
    "ax1 = fig.add_subplot(111)\n",
    "\n",
    "\n",
    "\n",
    "plt.plot(w, 20 * np.log10(abs(h)), 'b')\n",
    "plt.ylabel('Amplitude [dB]', color='b')\n",
    "plt.xlabel('Frequency [rad/sample]')\n",
    "\n",
    "\n",
    "\n",
    "ax2 = ax1.twinx()\n",
    "angles = np.unwrap(np.angle(h))\n",
    "plt.plot(w, angles, 'g')\n",
    "plt.ylabel('Angle (radians)', color='g')\n",
    "plt.grid()\n",
    "plt.axis('tight')\n",
    "plt.show()\n",
    "\n"
   ]
  },
  {
   "cell_type": "markdown",
   "metadata": {},
   "source": [
    "# Checking the Lags of the filters we use"
   ]
  },
  {
   "cell_type": "code",
   "execution_count": 7,
   "metadata": {},
   "outputs": [],
   "source": [
    "from pynfb.signal_processing.filters import (FilterSequence, \n",
    "                                             CFIRBandEnvelopeDetector, \n",
    "                                             ExponentialSmoother,\n",
    "                                             SpatialFilter,\n",
    "                                             ButterFilter,\n",
    "                                             ButterBandEnvelopeDetector,\n",
    "                                             ScalarButterFilter,\n",
    "                                             MASmoother,\n",
    "                                             FFTBandEnvelopeDetector,\n",
    "                                             NotchFilter\n",
    "                                            )"
   ]
  },
  {
   "cell_type": "code",
   "execution_count": 10,
   "metadata": {},
   "outputs": [],
   "source": [
    "from scipy import signal\n",
    "import matplotlib.pyplot as plt\n",
    "def make_freq_response(b, a, sfreq, title, band):\n",
    "\n",
    "    w, h = signal.freqz(b, a)\n",
    "\n",
    "\n",
    "\n",
    "    import matplotlib.pyplot as plt\n",
    "    fig = plt.figure()\n",
    "    # plt.title('Digital filter frequency response')\n",
    "    ax1 = fig.add_subplot(111)\n",
    "\n",
    "\n",
    "    # make wf --> which is the frequency, not the pi stuff\n",
    "    wf = w / 3.1415 * sfreq/2;\n",
    "    \n",
    "    plt.plot(wf, 20 * np.log10(abs(h)), 'b')\n",
    "    plt.ylabel('Amplitude [dB]', color='b')\n",
    "    plt.xlabel('Frequency [Hz]')\n",
    "\n",
    "    # plt.xlim()\n",
    "    # b, t = plt.ylim\n",
    "    plt.vlines([12, 15], *plt.ylim(), color='r')\n",
    "    \n",
    "\n",
    "\n",
    "    ax2 = ax1.twinx()\n",
    "    angles = np.unwrap(np.angle(h))\n",
    "    plt.plot(wf, angles, 'g')\n",
    "    plt.ylabel('Angle (radians)', color='g')\n",
    "    plt.grid()\n",
    "    plt.axis('tight')\n",
    "    \n",
    "    # calculate the delay in this band:\n",
    "    phases = angles[np.logical_and(wf > 12, wf < 15)]\n",
    "    phases = max(wf) - phases\n",
    "    freqs = wf[np.logical_and(wf > 12, wf < 15)]\n",
    "\n",
    "    1/freqs * phases / 2 / 3.1415\n",
    "    \n",
    "    \n",
    "    # plt.title('{}, delay = {}'.format(title, delay))\n",
    "    # plt.show()"
   ]
  },
  {
   "cell_type": "code",
   "execution_count": 11,
   "metadata": {},
   "outputs": [],
   "source": [
    "w, h = signal.freqz(highpass_filter.filter.b, highpass_filter.filter.a)\n",
    "wf = w / 3.1415 * 125/2;\n",
    "angles = np.unwrap(np.angle(h))"
   ]
  },
  {
   "cell_type": "code",
   "execution_count": 12,
   "metadata": {},
   "outputs": [],
   "source": [
    "phases = angles[np.logical_and(wf > 12, wf < 15)]"
   ]
  },
  {
   "cell_type": "code",
   "execution_count": 13,
   "metadata": {},
   "outputs": [],
   "source": [
    "phases = max(wf) - phases"
   ]
  },
  {
   "cell_type": "code",
   "execution_count": 14,
   "metadata": {},
   "outputs": [
    {
     "data": {
      "text/plain": [
       "array([62.16999923, 62.17223634, 62.17443043, 62.17658274, 62.17869451,\n",
       "       62.18076691, 62.18280108, 62.18479809, 62.18675899, 62.18868479,\n",
       "       62.19057647, 62.19243495, 62.19426114, 62.1960559 , 62.19782008,\n",
       "       62.19955448, 62.20125988, 62.20293703, 62.20458667, 62.20620949,\n",
       "       62.20780617, 62.20937738, 62.21092374, 62.21244586])"
      ]
     },
     "execution_count": 14,
     "metadata": {},
     "output_type": "execute_result"
    }
   ],
   "source": [
    "phases"
   ]
  },
  {
   "cell_type": "code",
   "execution_count": 15,
   "metadata": {},
   "outputs": [
    {
     "data": {
      "text/plain": [
       "array([1.        , 0.5       , 0.33333333])"
      ]
     },
     "execution_count": 15,
     "metadata": {},
     "output_type": "execute_result"
    }
   ],
   "source": [
    "1/np.array([1,2,3])"
   ]
  },
  {
   "cell_type": "code",
   "execution_count": 16,
   "metadata": {},
   "outputs": [],
   "source": [
    "sampling_freq = 125\n",
    "band = [12, 15]\n",
    "\n",
    "highpass_filter = ScalarButterFilter([3, None], sampling_freq)\n",
    "bandpass_butter_filter = ButterFilter([12, 15], sampling_freq, 16)"
   ]
  },
  {
   "cell_type": "code",
   "execution_count": 126,
   "metadata": {},
   "outputs": [
    {
     "data": {
      "text/plain": [
       "[<matplotlib.lines.Line2D at 0x7fe5ad8a1828>]"
      ]
     },
     "execution_count": 126,
     "metadata": {},
     "output_type": "execute_result"
    }
   ],
   "source": [
    "plt.figure()\n",
    "plt.subplot(2,1,1)\n",
    "plt.plot(np.abs(env_filter_cfir.b))\n",
    "plt.subplot(2,1,2)\n",
    "plt.plot(np.angle(env_filter_cfir.b))"
   ]
  },
  {
   "cell_type": "code",
   "execution_count": 17,
   "metadata": {},
   "outputs": [],
   "source": [
    "env_filter_cfir = CFIRBandEnvelopeDetector([12, 15], sampling_freq, MASmoother(round(sampling_freq/5)))\n",
    "env_filter_butter = ButterBandEnvelopeDetector([12, 15], sampling_freq, MASmoother(round(sampling_freq/5)))\n",
    "smoother = MASmoother(round(sampling_freq/5))\n",
    "expsmoother = ExponentialSmoother(0.9)"
   ]
  },
  {
   "cell_type": "code",
   "execution_count": 18,
   "metadata": {},
   "outputs": [
    {
     "data": {
      "image/png": "[encoded data removed]",
      "text/plain": [
       "<Figure size 432x288 with 2 Axes>"
      ]
     },
     "metadata": {
      "needs_background": "light"
     },
     "output_type": "display_data"
    }
   ],
   "source": [
    "make_freq_response(highpass_filter.filter.b, highpass_filter.filter.a, sampling_freq, 'highpass filter', band)"
   ]
  },
  {
   "cell_type": "code",
   "execution_count": 108,
   "metadata": {},
   "outputs": [
    {
     "data": {
      "image/png": "[encoded data removed]",
      "text/plain": [
       "<Figure size 432x288 with 2 Axes>"
      ]
     },
     "metadata": {
      "needs_background": "light"
     },
     "output_type": "display_data"
    }
   ],
   "source": [
    "make_freq_response(bandpass_butter_filter.b, bandpass_butter_filter.a, sampling_freq, 'butter band filter', band)"
   ]
  },
  {
   "cell_type": "code",
   "execution_count": 109,
   "metadata": {},
   "outputs": [
    {
     "data": {
      "image/png": "[encoded data removed]",
      "text/plain": [
       "<Figure size 432x288 with 2 Axes>"
      ]
     },
     "metadata": {
      "needs_background": "light"
     },
     "output_type": "display_data"
    }
   ],
   "source": [
    "make_freq_response(env_filter_cfir.b, env_filter_cfir.a, sampling_freq, 'CFIR', band)"
   ]
  },
  {
   "cell_type": "code",
   "execution_count": 110,
   "metadata": {},
   "outputs": [
    {
     "data": {
      "image/png": "[encoded data removed]",
      "text/plain": [
       "<Figure size 432x288 with 2 Axes>"
      ]
     },
     "metadata": {
      "needs_background": "light"
     },
     "output_type": "display_data"
    }
   ],
   "source": [
    "make_freq_response(smoother.b, smoother.a, sampling_freq, 'smoother', band)"
   ]
  },
  {
   "cell_type": "code",
   "execution_count": 111,
   "metadata": {},
   "outputs": [
    {
     "data": {
      "image/png": "[encoded data removed]",
      "text/plain": [
       "<Figure size 432x288 with 2 Axes>"
      ]
     },
     "metadata": {
      "needs_background": "light"
     },
     "output_type": "display_data"
    }
   ],
   "source": [
    "make_freq_response(expsmoother.b, expsmoother.a, sampling_freq, 'expsmoother', band)"
   ]
  },
  {
   "cell_type": "code",
   "execution_count": 25,
   "metadata": {},
   "outputs": [],
   "source": [
    "# check lags with Actual Data:\n",
    "m=np.loadtxt('/home/johan/data2.txt')"
   ]
  },
  {
   "cell_type": "code",
   "execution_count": 26,
   "metadata": {},
   "outputs": [],
   "source": [
    "v=m[10,:]\n",
    "%matplotlib qt"
   ]
  },
  {
   "cell_type": "code",
   "execution_count": 28,
   "metadata": {},
   "outputs": [],
   "source": [
    "\n",
    "plt.plot(v)\n",
    "import scipy.signal\n"
   ]
  },
  {
   "cell_type": "code",
   "execution_count": 41,
   "metadata": {},
   "outputs": [
    {
     "data": {
      "text/plain": [
       "[<matplotlib.lines.Line2D at 0x7fe5acd86ef0>]"
      ]
     },
     "execution_count": 41,
     "metadata": {},
     "output_type": "execute_result"
    }
   ],
   "source": [
    "plt.figure()\n",
    "plt.plot(v)\n",
    "plt.plot(v2)\n"
   ]
  },
  {
   "cell_type": "code",
   "execution_count": 140,
   "metadata": {},
   "outputs": [],
   "source": [
    "plt.figure()\n",
    "\n",
    "vorig = signal.filtfilt(highpass_filter.filter.b, highpass_filter.filter.a, v)\n",
    "v1 = signal.filtfilt(bandpass_butter_filter.b, bandpass_butter_filter.a, vorig)\n",
    "v2 = signal.lfilter(bandpass_butter_filter.b, bandpass_butter_filter.a, vorig)\n",
    "plt.plot(np.arange(len(v1))/sampling_freq, vorig)\n",
    "plt.plot(np.arange(len(v1))/sampling_freq, v1)\n",
    "plt.plot(np.arange(len(v1))/sampling_freq, v2)\n",
    "plt.legend(('orig', 'filtfilt (no delay)', 'lfilter'))\n",
    "plt.xlabel('seconds')\n",
    "estimate_lag(v1, v2)"
   ]
  },
  {
   "cell_type": "code",
   "execution_count": 142,
   "metadata": {},
   "outputs": [],
   "source": [
    "plt.figure();\n",
    "plt.plot(abs(v2));"
   ]
  },
  {
   "cell_type": "code",
   "execution_count": 70,
   "metadata": {},
   "outputs": [
    {
     "data": {
      "text/plain": [
       "Text(0.5, 0, 'seconds')"
      ]
     },
     "execution_count": 70,
     "metadata": {},
     "output_type": "execute_result"
    }
   ],
   "source": [
    "plt.figure()\n",
    "\n",
    "vorig = signal.filtfilt(bandpass_butter_filter.b, bandpass_butter_filter.a, v)\n",
    "v1 = signal.filtfilt(highpass_filter.filter.b, highpass_filter.filter.a, vorig)\n",
    "v2 = signal.lfilter(highpass_filter.filter.b, highpass_filter.filter.a, vorig)\n",
    "\n",
    "plt.plot(np.arange(len(v1))/sampling_freq, vorig)\n",
    "plt.plot(np.arange(len(v1))/sampling_freq, v1)\n",
    "plt.plot(np.arange(len(v1))/sampling_freq, v2)\n",
    "\n",
    "plt.legend(('orig', 'filtfilt (no delay)', 'lfilter'))\n",
    "plt.xlabel('seconds')"
   ]
  },
  {
   "cell_type": "code",
   "execution_count": 116,
   "metadata": {},
   "outputs": [],
   "source": [
    "plt.figure()\n",
    "highpass_filter = ScalarButterFilter([1, None], sampling_freq)\n",
    "\n",
    "bandpass_butter_filter = ButterFilter([12, 15], sampling_freq, 16)\n",
    "vorig = signal.filtfilt(bandpass_butter_filter.b, bandpass_butter_filter.a, v)\n",
    "v1 = signal.filtfilt(highpass_filter.filter.b, highpass_filter.filter.a, vorig)\n",
    "v2 = signal.lfilter(highpass_filter.filter.b, highpass_filter.filter.a, vorig)\n",
    "\n",
    "plt.plot(np.arange(len(v1))/sampling_freq, vorig)\n",
    "plt.plot(np.arange(len(v1))/sampling_freq, v1)\n",
    "plt.plot(np.arange(len(v1))/sampling_freq, v2)\n",
    "\n",
    "plt.legend(('orig', 'filtfilt (no delay)', 'lfilter'))\n",
    "plt.xlabel('seconds')\n",
    "plt.title('highpass filter')\n",
    "estimate_lag(v1, v2)"
   ]
  },
  {
   "cell_type": "code",
   "execution_count": 137,
   "metadata": {},
   "outputs": [],
   "source": [
    "plt.figure()\n",
    "bandpass_butter_filter = ButterFilter([12, 15], sampling_freq, 16)\n",
    "vorig = signal.filtfilt(bandpass_butter_filter.b, bandpass_butter_filter.a, v)\n",
    "v1 = signal.filtfilt(env_filter_cfir.b, env_filter_cfir.a, vorig)\n",
    "v2 = signal.lfilter(env_filter_cfir.b, env_filter_cfir.a, vorig)\n",
    "\n",
    "plt.plot(np.arange(len(v1))/sampling_freq, vorig)\n",
    "plt.plot(np.arange(len(v1))/sampling_freq, v1)\n",
    "plt.plot(np.arange(len(v1))/sampling_freq, v2)\n",
    "\n",
    "plt.legend(('orig', 'filtfilt (no delay)', 'lfilter'))\n",
    "plt.xlabel('seconds')\n",
    "plt.title('cFIR')\n",
    "\n",
    "estimate_lag(v1, v2)"
   ]
  },
  {
   "cell_type": "code",
   "execution_count": 139,
   "metadata": {},
   "outputs": [
    {
     "data": {
      "text/plain": [
       "[<matplotlib.lines.Line2D at 0x7fe59e711668>]"
      ]
     },
     "execution_count": 139,
     "metadata": {},
     "output_type": "execute_result"
    }
   ],
   "source": [
    "plt.figure()\n",
    "plt.plot(abs(v2))\n"
   ]
  },
  {
   "cell_type": "code",
   "execution_count": 134,
   "metadata": {},
   "outputs": [],
   "source": [
    "smoother = MASmoother(round(sampling_freq/5))\n",
    "plt.figure()\n",
    "bandpass_butter_filter = ButterFilter([12, 15], sampling_freq, 16)\n",
    "vorig = np.abs(signal.filtfilt(bandpass_butter_filter.b, bandpass_butter_filter.a, v))\n",
    "v1 = signal.filtfilt(smoother.b, smoother.a, vorig)\n",
    "v2 = signal.lfilter(smoother.b, smoother.a, vorig)\n",
    "\n",
    "plt.plot(np.arange(len(v1))/sampling_freq, vorig)\n",
    "plt.plot(np.arange(len(v1))/sampling_freq, v1)\n",
    "plt.plot(np.arange(len(v1))/sampling_freq, v2)\n",
    "\n",
    "plt.legend(('orig', 'filtfilt (no delay)', 'lfilter'))\n",
    "plt.xlabel('seconds')\n",
    "plt.title('cFIR')\n",
    "\n",
    "estimate_lag(v1, v2)"
   ]
  },
  {
   "cell_type": "code",
   "execution_count": 136,
   "metadata": {},
   "outputs": [],
   "source": [
    "smoother = ExponentialSmoother(0.9)\n",
    "plt.figure()\n",
    "bandpass_butter_filter = ButterFilter([12, 15], sampling_freq, 16)\n",
    "vorig = np.abs(signal.filtfilt(bandpass_butter_filter.b, bandpass_butter_filter.a, v))\n",
    "v1 = signal.filtfilt(smoother.b, smoother.a, vorig)\n",
    "v2 = signal.lfilter(smoother.b, smoother.a, vorig)\n",
    "\n",
    "plt.plot(np.arange(len(v1))/sampling_freq, vorig)\n",
    "plt.plot(np.arange(len(v1))/sampling_freq, v1)\n",
    "plt.plot(np.arange(len(v1))/sampling_freq, v2)\n",
    "\n",
    "plt.legend(('orig', 'filtfilt (no delay)', 'lfilter'))\n",
    "plt.xlabel('seconds')\n",
    "plt.title('cFIR')\n",
    "\n",
    "estimate_lag(v1, v2)"
   ]
  },
  {
   "cell_type": "code",
   "execution_count": 110,
   "metadata": {},
   "outputs": [],
   "source": [
    "def estimate_lag(v1, v2):\n",
    "\n",
    "    av1 = np.abs(v1)\n",
    "    av2 = np.abs(v2)\n",
    "    \n",
    "    bandpass_butter_filter = ButterFilter([None, 3], sampling_freq, 16)\n",
    "    \n",
    "    fav1 = signal.filtfilt(bandpass_butter_filter.b, bandpass_butter_filter.a, av1)\n",
    "    fav2 = signal.filtfilt(bandpass_butter_filter.b, bandpass_butter_filter.a, av2)\n",
    "\n",
    "    N=150\n",
    "    corrs = []\n",
    "    for i in range(N):\n",
    "        vst = fav1[:-N]\n",
    "        vd = fav2[i:-N+i]\n",
    "        corrs.append(np.correlate(vst, vd))\n",
    "\n",
    "\n",
    "\n",
    "\n",
    "    plt.figure(); plt.plot(np.arange(N)/sampling_freq, corrs)\n",
    "\n",
    "    lag = np.where(corrs == max(corrs))[0][0]/sampling_freq\n",
    "\n",
    "    plt.vlines(lag, *plt.ylim())\n",
    "\n",
    "    lag = np.where(corrs == max(corrs))[0][0] / sampling_freq\n",
    "    \n",
    "    plt.title('lag: {:02f}'.format(lag))\n"
   ]
  },
  {
   "cell_type": "code",
   "execution_count": 98,
   "metadata": {},
   "outputs": [
    {
     "data": {
      "text/plain": [
       "0.128"
      ]
     },
     "execution_count": 98,
     "metadata": {},
     "output_type": "execute_result"
    }
   ],
   "source": [
    "lag = np.where(corrs == max(corrs))[0][0] / sampling_freq"
   ]
  },
  {
   "cell_type": "code",
   "execution_count": 81,
   "metadata": {},
   "outputs": [
    {
     "data": {
      "text/plain": [
       "[<matplotlib.lines.Line2D at 0x7fe5ac0b29b0>]"
      ]
     },
     "execution_count": 81,
     "metadata": {},
     "output_type": "execute_result"
    }
   ],
   "source": [
    "plt.figure(); plt.plot(fav2)"
   ]
  },
  {
   "cell_type": "code",
   "execution_count": 62,
   "metadata": {},
   "outputs": [
    {
     "data": {
      "text/plain": [
       "array([   0,    1,    2, ..., 1519, 1520, 1521])"
      ]
     },
     "execution_count": 62,
     "metadata": {},
     "output_type": "execute_result"
    }
   ],
   "source": [
    "np.arange(len(v1))"
   ]
  },
  {
   "cell_type": "code",
   "execution_count": 49,
   "metadata": {},
   "outputs": [
    {
     "data": {
      "text/plain": [
       "[<matplotlib.lines.Line2D at 0x7fe5ac3d2470>]"
      ]
     },
     "execution_count": 49,
     "metadata": {},
     "output_type": "execute_result"
    }
   ],
   "source": [
    "plt.figure()\n",
    "plt.plot(va)"
   ]
  },
  {
   "cell_type": "code",
   "execution_count": 50,
   "metadata": {},
   "outputs": [
    {
     "data": {
      "text/plain": [
       "[<matplotlib.lines.Line2D at 0x7fe5ac39dbe0>]"
      ]
     },
     "execution_count": 50,
     "metadata": {},
     "output_type": "execute_result"
    }
   ],
   "source": [
    "plt.plot(vb)"
   ]
  },
  {
   "cell_type": "code",
   "execution_count": 34,
   "metadata": {},
   "outputs": [],
   "source": [
    "# Define Filter Sequence for NF\n",
    "\n",
    "# Which channel do we select for the EEG - we do C3.\n",
    "rt_eeg_channels = ['C4']\n",
    "rt_eeg_channels_mask = np.where([ch in rt_eeg_channels for ch in channel_names], 1, 0)/len(rt_eeg_channels)\n",
    "eeg_channel_select = SpatialFilter(rt_eeg_channels_mask)\n",
    "highpass_filter = ScalarButterFilter([3, None], sampling_freq)\n",
    "butter_filter = ScalarButterFilter([12, 15], sampling_freq)\n",
    "\n",
    "# eeg_notch_50 = NotchFilter(50, sampling_freq, len(channel_names))\n",
    "# eeg_notch_25 = NotchFilter(25, sampling_freq, len(channel_names))\n",
    "\n",
    "preprocess_filters_eeg = FilterSequence([\n",
    "    ica_rejection,\n",
    "    csp_rejection,\n",
    "    eeg_channel_select,\n",
    "    highpass_filter\n",
    "    \n",
    "])\n",
    "envelope_filter_eeg = CFIRBandEnvelopeDetector([12, 15], sampling_freq, MASmoother(round(sampling_freq/5)))\n",
    "butter_visualization_eeg = ButterFilter([12, 15], sampling_freq, 1)\n",
    "\n",
    "\n",
    "# Processing of the EMG - this is basically our second channel...\n",
    "rt_emg_channels = ['T3','T4','Fp1','Fp2']\n",
    "# rt_emg_channels = ['T7','T8','TP9','TP10']\n",
    "rt_emg_channels_mask = np.where([ch in rt_emg_channels for ch in channel_names], 1, 0)/len(rt_emg_channels)\n",
    "emg_channel_select = SpatialFilter(rt_emg_channels_mask)\n",
    "\n",
    "preprocess_filters_emg = FilterSequence([\n",
    "    emg_channel_select,\n",
    "])\n",
    "\n",
    "envelope_filter_emg = ButterBandEnvelopeDetector([60, 62], sampling_freq, MASmoother(round(sampling_freq/5)))\n",
    "butter_visualization_emg = ButterFilter([55, 60], sampling_freq, 1)"
   ]
  },
  {
   "cell_type": "code",
   "execution_count": 34,
   "metadata": {},
   "outputs": [],
   "source": [
    "# Define Filter Sequence for NF\n",
    "\n",
    "# Which channel do we select for the EEG - we do C3.\n",
    "rt_eeg_channels = ['C4']\n",
    "rt_eeg_channels_mask = np.where([ch in rt_eeg_channels for ch in channel_names], 1, 0)/len(rt_eeg_channels)\n",
    "eeg_channel_select = SpatialFilter(rt_eeg_channels_mask)\n",
    "highpass_filter = ScalarButterFilter([3, None], sampling_freq)\n",
    "butter_filter = ScalarButterFilter([12, 15], sampling_freq)\n",
    "\n",
    "# eeg_notch_50 = NotchFilter(50, sampling_freq, len(channel_names))\n",
    "# eeg_notch_25 = NotchFilter(25, sampling_freq, len(channel_names))\n",
    "\n",
    "preprocess_filters_eeg = FilterSequence([\n",
    "    ica_rejection,\n",
    "    csp_rejection,\n",
    "    eeg_channel_select,\n",
    "    highpass_filter\n",
    "    \n",
    "])\n",
    "envelope_filter_eeg = CFIRBandEnvelopeDetector([12, 15], sampling_freq, MASmoother(round(sampling_freq/5)))\n",
    "butter_visualization_eeg = ButterFilter([12, 15], sampling_freq, 1)\n",
    "\n",
    "\n",
    "# Processing of the EMG - this is basically our second channel...\n",
    "rt_emg_channels = ['T3','T4','Fp1','Fp2']\n",
    "# rt_emg_channels = ['T7','T8','TP9','TP10']\n",
    "rt_emg_channels_mask = np.where([ch in rt_emg_channels for ch in channel_names], 1, 0)/len(rt_emg_channels)\n",
    "emg_channel_select = SpatialFilter(rt_emg_channels_mask)\n",
    "\n",
    "preprocess_filters_emg = FilterSequence([\n",
    "    emg_channel_select,\n",
    "])\n",
    "\n",
    "envelope_filter_emg = ButterBandEnvelopeDetector([60, 62], sampling_freq, MASmoother(round(sampling_freq/5)))\n",
    "butter_visualization_emg = ButterFilter([55, 60], sampling_freq, 1)"
   ]
  },
  {
   "cell_type": "code",
   "execution_count": 34,
   "metadata": {},
   "outputs": [],
   "source": [
    "# Define Filter Sequence for NF\n",
    "\n",
    "# Which channel do we select for the EEG - we do C3.\n",
    "rt_eeg_channels = ['C4']\n",
    "rt_eeg_channels_mask = np.where([ch in rt_eeg_channels for ch in channel_names], 1, 0)/len(rt_eeg_channels)\n",
    "eeg_channel_select = SpatialFilter(rt_eeg_channels_mask)\n",
    "highpass_filter = ScalarButterFilter([3, None], sampling_freq)\n",
    "butter_filter = ScalarButterFilter([12, 15], sampling_freq)\n",
    "\n",
    "# eeg_notch_50 = NotchFilter(50, sampling_freq, len(channel_names))\n",
    "# eeg_notch_25 = NotchFilter(25, sampling_freq, len(channel_names))\n",
    "\n",
    "preprocess_filters_eeg = FilterSequence([\n",
    "    ica_rejection,\n",
    "    csp_rejection,\n",
    "    eeg_channel_select,\n",
    "    highpass_filter\n",
    "    \n",
    "])\n",
    "envelope_filter_eeg = CFIRBandEnvelopeDetector([12, 15], sampling_freq, MASmoother(round(sampling_freq/5)))\n",
    "butter_visualization_eeg = ButterFilter([12, 15], sampling_freq, 1)\n",
    "\n",
    "\n",
    "# Processing of the EMG - this is basically our second channel...\n",
    "rt_emg_channels = ['T3','T4','Fp1','Fp2']\n",
    "# rt_emg_channels = ['T7','T8','TP9','TP10']\n",
    "rt_emg_channels_mask = np.where([ch in rt_emg_channels for ch in channel_names], 1, 0)/len(rt_emg_channels)\n",
    "emg_channel_select = SpatialFilter(rt_emg_channels_mask)\n",
    "\n",
    "preprocess_filters_emg = FilterSequence([\n",
    "    emg_channel_select,\n",
    "])\n",
    "\n",
    "envelope_filter_emg = ButterBandEnvelopeDetector([60, 62], sampling_freq, MASmoother(round(sampling_freq/5)))\n",
    "butter_visualization_emg = ButterFilter([55, 60], sampling_freq, 1)"
   ]
  }
 ],
 "metadata": {
  "kernelspec": {
   "display_name": "Python 3",
   "language": "python",
   "name": "python3"
  },
  "language_info": {
   "codemirror_mode": {
    "name": "ipython",
    "version": 3
   },
   "file_extension": ".py",
   "mimetype": "text/x-python",
   "name": "python",
   "nbconvert_exporter": "python",
   "pygments_lexer": "ipython3",
   "version": "3.7.3"
  }
 },
 "nbformat": 4,
 "nbformat_minor": 4
}
