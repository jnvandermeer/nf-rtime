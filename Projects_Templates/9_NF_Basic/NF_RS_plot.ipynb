{
 "cells": [
  {
   "cell_type": "markdown",
   "metadata": {},
   "source": [
    "# Import Statements"
   ]
  },
  {
   "cell_type": "code",
   "execution_count": 19,
   "metadata": {},
   "outputs": [
    {
     "name": "stdout",
     "output_type": "stream",
     "text": [
      "The memory_profiler extension is already loaded. To reload it, use:\n",
      "  %reload_ext memory_profiler\n"
     ]
    }
   ],
   "source": [
    "%load_ext memory_profiler"
   ]
  },
  {
   "cell_type": "code",
   "execution_count": 1,
   "metadata": {},
   "outputs": [],
   "source": [
    "import sys\n",
    "sys.path.append(\"../../mushu\")  # driver for the amps\n",
    "sys.path.append(\"../../mushu/libmushu\") \n",
    "sys.path.append(\"../../callpyff\")   # talk to the stimuli\n",
    "sys.path.append(\"../../nftools\")  # handy stuff needed for NF\n",
    "sys.path.append(\"../../wyrm\")  # real-time data analysis\n",
    "\n",
    "import time\n",
    "import matplotlib\n",
    "import matplotlib.pyplot as plt\n",
    "import scipy\n",
    "import numpy as np\n",
    "import easygui\n",
    "import mne\n",
    "import re\n",
    "import pickle\n",
    "import dynarray\n",
    "import random\n",
    "import libmushu\n",
    "\n",
    "from IPython.display import clear_output\n",
    "from callpyff import bcinetwork, bcixml \n",
    "from scipy import signal\n",
    "import logging  # set log level\n",
    "logging.basicConfig(level=logging.WARNING)\n",
    "\n",
    "from nftools.loopcontrol import LoopState\n",
    "from nftools.analysis import convert_alld_allm_to_mne\n",
    "from nftools.analysis import select_part_from_mne_dataset\n",
    "from nftools.analysis import plot_compare_two_spectra  \n",
    "from nftools import camera\n",
    "\n",
    "from wyrm.types import RingBuffer\n",
    "from wyrm.types import BlockBuffer\n",
    "from wyrm import io\n",
    "from wyrm import processing as proc\n",
    "\n",
    "from wyrm import signaltracking\n",
    "from wyrm import filtering\n",
    "from wyrm.types import RingBuffer\n",
    "\n",
    "from numpy.linalg import multi_dot\n",
    "from sklearn.decomposition import FastICA\n",
    "from collections import deque\n",
    "\n",
    "import importlib\n",
    "import warnings\n",
    "warnings.filterwarnings('ignore')\n",
    "\n",
    "import ipdb"
   ]
  },
  {
   "cell_type": "markdown",
   "metadata": {},
   "source": [
    "# Memory Monitoring Function"
   ]
  },
  {
   "cell_type": "code",
   "execution_count": 2,
   "metadata": {},
   "outputs": [],
   "source": [
    "import os, psutil\n",
    "def monitor_memory():\n",
    "    pid = os.getpid()\n",
    "    ps = psutil.Process(pid)\n",
    "    memoryUse = ps.memory_info()\n",
    "    return memoryUse.rss/1e6"
   ]
  },
  {
   "cell_type": "markdown",
   "metadata": {},
   "source": [
    "# Define and Configure Amplifier"
   ]
  },
  {
   "cell_type": "code",
   "execution_count": 3,
   "metadata": {},
   "outputs": [],
   "source": [
    "amp = libmushu.get_amp('bpamp')"
   ]
  },
  {
   "cell_type": "code",
   "execution_count": 4,
   "metadata": {},
   "outputs": [
    {
     "name": "stdout",
     "output_type": "stream",
     "text": [
      "connecting to 20.100.0.3 port 6700\n",
      "sending b'1C:\\\\Vision\\\\Workfiles\\\\NF_64chEEG.rwksp'\n",
      "sending b'2Pre-Run01'\n",
      "sending b'30001'\n",
      "sending b'4'\n",
      "sending b'M'\n"
     ]
    }
   ],
   "source": [
    "# Configure the amp\n",
    "amp.configure(remotecontrol=True,\n",
    "              recorderip='20.100.0.3',\n",
    "              recorderport=51244,\n",
    "              pathtoworkspace='C:\\\\Vision\\\\Workfiles\\\\NF_64chEEG.rwksp',\n",
    "              experimentnumber='Pre-Run01',\n",
    "              subjectid='0001',\n",
    "              n_channels=64,\n",
    "              fs=5000)"
   ]
  },
  {
   "cell_type": "markdown",
   "metadata": {},
   "source": [
    "# Set up BCI Network"
   ]
  },
  {
   "cell_type": "code",
   "execution_count": 5,
   "metadata": {},
   "outputs": [],
   "source": [
    "bcinet = bcinetwork.BciNetwork('20.100.0.2', bcinetwork.FC_PORT, bcinetwork.GUI_PORT, 'bcixml')"
   ]
  },
  {
   "cell_type": "code",
   "execution_count": 6,
   "metadata": {},
   "outputs": [
    {
     "name": "stdout",
     "output_type": "stream",
     "text": [
      "['TestD2', 'MovingRhomb', 'LibetClock', 'BrainWaveTraining_II', 'TobiQLAdapter', 'Lesson04', 'EyetrackerRawdata', 'EyetrackerFeedback', 'HexoSpeller', 'P300_Rectangle', 'ERPHex', 'BrainWaveTraining', 'StopVigilanceTask', 'FeedbackCursorArrow', 'TrivialPong', 'CheckerboardVEP', 'HexoSpellerVE', 'BoringClock', 'nback_verbal', 'Lesson01', 'BrainPong', 'CakeSpellerVE', 'MovingRhombGL', 'RestingState', 'NFBasicThermometer', 'RSVPSpeller', 'CenterSpellerVE', 'MultiVisualOddball', 'Lesson01b', 'GoalKeeper', 'EEGfMRILocalizer', 'Oddball', 'StroopFeedback', 'ERPMatrix', 'VisualOddballVE', 'Lesson05', 'Lesson06', 'VisualOddball', 'Lesson02', 'Lesson03']\n"
     ]
    }
   ],
   "source": [
    "feedbacks = bcinet.getAvailableFeedbacks()\n",
    "print(feedbacks)"
   ]
  },
  {
   "cell_type": "markdown",
   "metadata": {},
   "source": [
    "# Main NF/RS Function"
   ]
  },
  {
   "cell_type": "code",
   "execution_count": 7,
   "metadata": {},
   "outputs": [],
   "source": [
    "def nf_trial(task, thr=None, count=0):\n",
    "    # %matplotlib qt5  \n",
    "    plt.ion()  # enable widget plots & interactive plots\n",
    "    data_length = np.linspace(0,600*5000,num=600*5000)\n",
    "    fs=5000.\n",
    "    time_in_plot=6\n",
    "    sy1=deque(np.zeros(round(fs * time_in_plot)), round(fs * time_in_plot))\n",
    "    sy2=deque(np.zeros(round(fs * time_in_plot)), round(fs * time_in_plot))\n",
    "    sy3=deque(np.zeros(round(fs * time_in_plot)), round(fs * time_in_plot))\n",
    "    sy4=deque(np.zeros(round(fs * time_in_plot)), round(fs * time_in_plot))\n",
    "    channel_to_plot=0\n",
    "    sx=deque(np.zeros(round(fs * time_in_plot)), round(fs * time_in_plot))\n",
    "    if task==1:\n",
    "        bcinet.send_init('BrainWaveTraining_II')\n",
    "    elif task==0:\n",
    "        bcinet.send_init('RestingState')\n",
    "        bcinet.send_signal(bcixml.BciSignal({'EYESCLOSED_TIME': 300.0},None, bcixml.INTERACTION_SIGNAL))\n",
    "    c=camera.DoCamera(); c.start()\n",
    "    bcinet.send_signal(bcixml.BciSignal({'EX_TESTNFNOISE': False},None, bcixml.INTERACTION_SIGNAL))\n",
    "    \n",
    "    # if on wrong screen:\n",
    "    bcinet.send_signal(bcixml.BciSignal({'MONITOR_DISPLAYONSCREEN': 1},None, bcixml.INTERACTION_SIGNAL)) \n",
    "    bcinet.play()\n",
    "    bcinet.send_signal(bcixml.BciSignal({'emgThrContainer': 0.1}, None, bcixml.CONTROL_SIGNAL))\n",
    "    amp.start()\n",
    "    \n",
    "    importlib.reload(signaltracking)\n",
    "\n",
    "    # from wyrm import signaltracking\n",
    "    eegfilter = filtering.bwBPF(12,15)\n",
    "    #icafilter = filtering.bwBPF(1,35)\n",
    "    emgfilter = filtering.bwHPF(50)\n",
    "    # smoother = filtering.bwExponentialSmoother(0.998)\n",
    "    # smoother = filtering.bwLPF(2,order=2)\n",
    "    smoother_eeg = filtering.bwSimpleAverager(300,2)\n",
    "    smoother_emg = filtering.bwSimpleAverager(300,2)\n",
    "\n",
    "    track_for_eeg_stimuli = signaltracking.sending_to_nfstim(thr=1.0, dur=0.20, feedback_type='eeg', max4audio=1.2, bcinet=bcinet, st_scaling=10)\n",
    "    track_for_emg_stimuli = signaltracking.sending_to_nfstim(thr=50, dur=0.15, feedback_type='emg', bcinet=bcinet, st_scaling=350)\n",
    "\n",
    "    l=LoopState(); l.start()\n",
    "    alld=dynarray.DynamicArray((None, 2)) \n",
    "    alld_ica=dynarray.DynamicArray((None, len(amp.get_channels()))) # data\n",
    "    allm=[]     # markers\n",
    "    dts,sent=[],[]\n",
    "    markeroffset = 0  # needed to store all data in one big mat/vector\n",
    "    t0=time.time()\n",
    "    curTime=time.time()\n",
    "    totalTime = 500\n",
    "    st=''\n",
    "    \n",
    "    fig=plt.figure(figsize=(20,12))  # plotting...\n",
    "    th=fig.suptitle('', fontsize=16)\n",
    "    ah1=fig.add_subplot(211)\n",
    "    ah2=fig.add_subplot(212)\n",
    "    \n",
    "    l1, = ah1.plot(sx, sy1, color='b', label='Raw')\n",
    "    l2, = ah1.plot(sx, sy2, color='r', label='Corrected')\n",
    "    l3, = ah2.plot(sx, sy3, color='b', label='Raw')\n",
    "    l4, = ah2.plot(sx, sy4, color='r', label='Corrected')\n",
    "    \n",
    "    x_data=0\n",
    "    while l.get_state() != 'Stop' or curTime < totalTime: \n",
    "   \n",
    "        # keep track of time:\n",
    "        curTime = time.time()\n",
    "        sfreq = 5000\n",
    "        ch_names = amp.get_channels()\n",
    "        markTime=time.time()\n",
    "        updateTime = 0.01\n",
    "        rb = RingBuffer(1.0 * 1000)\n",
    "        # this is where you get the data\n",
    "        data, marker, annotations = amp.get_data()\n",
    "        #ipdb.set_trace()\n",
    "    \n",
    "        if data.shape[0] > 0:  # this is crucual for remembering filter state.\n",
    "        \n",
    "            cnt = io.convert_mushu_data(data, marker, sfreq, ch_names)\n",
    "            ch_names_copy = ch_names.copy()\n",
    "            \n",
    "            \n",
    "            if count == 0:\n",
    "                cnt_removed = proc.remove_channels(cnt, ['ECG'])\n",
    "                cnt_corr = multi_dot([pca_comps.T, M, S, M_inv, pca_comps, cnt_removed.data.T]).T\n",
    "                #ipdb.set_trace()\n",
    "                # trouble shooting\n",
    "                test = proc.select_channels(cnt, ['C3','C4'])           \n",
    "                ch_names_copy.pop(31)\n",
    "                # ipdb.set_trace()\n",
    "                cnt_corrected = io.convert_mushu_data(cnt_corr, marker, sfreq, ch_names_copy)\n",
    "                #ipdb.set_trace()\n",
    "                eeg_cnt = proc.select_channels(cnt_corrected, ['C3','C4'])\n",
    "                #ipdb.set_trace()\n",
    "            elif count == 1:\n",
    "                eeg_cnt = proc.select_channels(cnt, ['C3','C4'])\n",
    "                #ipdb.set_trace()                \n",
    "                \n",
    "            # preprocessing stream for EEG\n",
    "            # ipdb.set_trace()\n",
    "            f_eeg_cnt = eegfilter.apply(eeg_cnt)  # so filter it according to specified above\n",
    "            af_eeg_cnt = proc.absolute(f_eeg_cnt)\n",
    "            saf_eeg_cnt = smoother_eeg.apply(af_eeg_cnt)\n",
    " \n",
    "        \n",
    "            dts.append(saf_eeg_cnt.data.shape[0])\n",
    "            \n",
    "        \n",
    "            # communications with the st-stim computer\n",
    "            tf, audioTF = track_for_eeg_stimuli.check_above_threshold(saf_eeg_cnt)  # sends markers (should be fast)\n",
    "            s = track_for_eeg_stimuli.send_data_signal(saf_eeg_cnt) # sends the signal (should also be fast!)\n",
    "            sent.append(s)\n",
    "             \n",
    "            # do the EMG:\n",
    "            emg_cnt = proc.select_channels(cnt, ['O1','O2'])\n",
    "            f_emg_cnt = emgfilter.apply(emg_cnt)  # so filter it according to specified above\n",
    "            af_emg_cnt = proc.absolute(f_emg_cnt)\n",
    "            saf_emg_cnt = smoother_emg.apply(af_emg_cnt)\n",
    "        \n",
    "            tfemg, audioTFemg = track_for_emg_stimuli.check_above_threshold(saf_emg_cnt)  # sends markers (should be fast)\n",
    "            semg = track_for_emg_stimuli.send_data_signal(saf_emg_cnt) # sends the signal (should also be fast!)\n",
    "            \n",
    "            if count==0:\n",
    "                \n",
    "                eb_data = cnt.data[:,channel_to_plot]\n",
    "                ch_c3 = cnt.data[:, 4]\n",
    "                cnt_removed = proc.remove_channels(cnt, ['ECG'])\n",
    "                \n",
    "                #f_ica_cnt = icafilter.apply(cnt_removed)  # so filter it according to specified above\n",
    "                #af_ica_cnt = proc.absolute(f_ica_cnt)\n",
    "                #saf_ica_cnt = smoother_eeg.apply(af_ica_cnt)\n",
    "                \n",
    "                data_corrected = multi_dot([pca_comps.T, M, S, M_inv, pca_comps, cnt_removed.data.T])\n",
    "                #data_corrected = multi_dot([pca_comps.T, M, S, M_inv, pca_comps, saf_ica_cnt.data.T])\n",
    "                \n",
    "                sy1.extend(eb_data) \n",
    "                sy2.extend(data_corrected[channel_to_plot,:])\n",
    "                sy3.extend(ch_c3)\n",
    "                sy4.extend(data_corrected[4,:])\n",
    "                \n",
    "                sx.extend(data_length[x_data:x_data+len(eb_data)]/fs)\n",
    "        \n",
    "                l1.set_ydata(sy1)  \n",
    "                l2.set_ydata(sy2)\n",
    "                l3.set_ydata(sy3)\n",
    "                l4.set_ydata(sy4)\n",
    "            \n",
    "                l1.set_xdata(sx)\n",
    "                l2.set_xdata(sx)\n",
    "                l3.set_xdata(sx)\n",
    "                l4.set_xdata(sx)\n",
    "        \n",
    "                msy1=np.mean(sy1)\n",
    "                msy2=np.mean(sy2)\n",
    "                msy3=np.mean(sy3)\n",
    "                msy4=np.mean(sy4)\n",
    "         \n",
    "                ah1.set_ylim(-400+msy1, 450+msy1)\n",
    "                ah1.set_xlim(min(sx), max(sx))\n",
    "                ah2.set_ylim(-350+msy3, 400+msy3)\n",
    "                ah2.set_xlim(min(sx), max(sx))\n",
    "        \n",
    "                x_data += len(eb_data)\n",
    "        \n",
    "                fig.canvas.draw()\n",
    "                fig.canvas.flush_events()\n",
    "            \n",
    "            \n",
    "            alld.extend(eeg_cnt.data)\n",
    "            alld_ica.extend(data)\n",
    "            \n",
    "            for m in marker:\n",
    "                allm.append([m[0] + markeroffset, m[1]])\n",
    "            markeroffset += cnt.data.shape[0] / float(sfreq) * 1000.\n",
    "        \n",
    "            # append to ringbuffer, so we can calculate features later on on the last N secs/samples of data.\n",
    "            rb.append(f_eeg_cnt)\n",
    "\n",
    "            # do the following every 0.1 msec - with with the ringbuffer:\n",
    "            if curTime - markTime > updateTime:\n",
    "                # do Stuff\n",
    "                markTime = curTime\n",
    "                print('Data is coming in - time = %f' % (curTime - t0))\n",
    "                str1 = 'Playing Back - time = %f' % (curTime - t0)\n",
    "                str2 = 'Length Markers: %d' % len(allm)\n",
    "                str3 = '%d, %d' % data.shape\n",
    "\n",
    "                # th.set_text(str1 + '\\n' + str2 + '\\n' +str3)\n",
    "    amp.stop()   \n",
    "    \n",
    "    del(alld)\n",
    "    \n",
    "    return alld_ica, ch_names, sfreq\n",
    "\n",
    "\n",
    "    "
   ]
  },
  {
   "cell_type": "markdown",
   "metadata": {},
   "source": [
    "# Obtain first resting-state recording"
   ]
  },
  {
   "cell_type": "code",
   "execution_count": 9,
   "metadata": {},
   "outputs": [
    {
     "ename": "SyntaxError",
     "evalue": "invalid syntax (<ipython-input-9-f0a9e41191c8>, line 1)",
     "output_type": "error",
     "traceback": [
      "\u001b[0;36m  File \u001b[0;32m\"<ipython-input-9-f0a9e41191c8>\"\u001b[0;36m, line \u001b[0;32m1\u001b[0m\n\u001b[0;31m    mprun -f nf_trial nf_trial(0, count=1)\u001b[0m\n\u001b[0m                    ^\u001b[0m\n\u001b[0;31mSyntaxError\u001b[0m\u001b[0;31m:\u001b[0m invalid syntax\n"
     ]
    }
   ],
   "source": [
    "mprun -f nf_trial nf_trial(0, count=1)"
   ]
  },
  {
   "cell_type": "code",
   "execution_count": 8,
   "metadata": {},
   "outputs": [
    {
     "name": "stdout",
     "output_type": "stream",
     "text": [
      "Number of channels: 64\n",
      "Sampling interval: 200.0\n",
      "Resolutions: [0.5, 0.5, 0.5, 0.5, 0.5, 0.5, 0.5, 0.5, 0.5, 0.5, 0.5, 0.5, 0.5, 0.5, 0.5, 0.5, 0.5, 0.5, 0.5, 0.5, 0.5, 0.5, 0.5, 0.5, 0.5, 0.5, 0.5, 0.5, 0.5, 0.5, 0.5, 10.0, 0.5, 0.5, 0.5, 0.5, 0.5, 0.5, 0.5, 0.5, 0.5, 0.5, 0.5, 0.5, 0.5, 0.5, 0.5, 0.5, 0.5, 0.5, 0.5, 0.5, 0.5, 0.5, 0.5, 0.5, 0.5, 0.5, 0.5, 0.5, 0.5, 0.5, 0.5, 0.5]\n",
      "Channel Names: ['Fp1', 'Fp2', 'F3', 'F4', 'C3', 'C4', 'P3', 'P4', 'O1', 'O2', 'F7', 'F8', 'T7', 'T8', 'P7', 'P8', 'Fz', 'Cz', 'Pz', 'Oz', 'FC1', 'FC2', 'CP1', 'CP2', 'FC5', 'FC6', 'CP5', 'CP6', 'TP9', 'TP10', 'POz', 'ECG', 'F1', 'F2', 'C1', 'C2', 'P1', 'P2', 'AF3', 'AF4', 'FC3', 'FC4', 'CP3', 'CP4', 'PO3', 'PO4', 'F5', 'F6', 'C5', 'C6', 'P5', 'P6', 'AF7', 'AF8', 'FT7', 'FT8', 'TP7', 'TP8', 'PO7', 'PO8', 'FT9', 'FT10', 'Fpz', 'CPz']\n",
      "hdr SamplingInterval = 200.00\n",
      "bwBPF: {'f_low': 12, 'f_high': 15, 'order': 3}\n",
      "bwHPF: {'f': 50, 'order': 3}\n",
      "bwSimpleAverager: {'taps': 300, 'f': 2}\n",
      "bwSimpleAverager: {'taps': 300, 'f': 2}\n",
      "thr: 1.00, dur: 0.20\n",
      "bcinet is passed on\n",
      "thr: 50.00, dur: 0.15\n",
      "bcinet is passed on\n"
     ]
    },
    {
     "name": "stderr",
     "output_type": "stream",
     "text": [
      "Exception in thread Thread-4:\n",
      "Traceback (most recent call last):\n",
      "  File \"/home/nfcontrol/.conda/envs/rt/lib/python3.6/threading.py\", line 916, in _bootstrap_inner\n",
      "    self.run()\n",
      "  File \"../../nftools/nftools/camera.py\", line 45, in run\n",
      "    with Telnet(self.ip, self.port) as tn:\n",
      "  File \"/home/nfcontrol/.conda/envs/rt/lib/python3.6/telnetlib.py\", line 218, in __init__\n",
      "    self.open(host, port, timeout)\n",
      "  File \"/home/nfcontrol/.conda/envs/rt/lib/python3.6/telnetlib.py\", line 234, in open\n",
      "    self.sock = socket.create_connection((host, port), timeout)\n",
      "  File \"/home/nfcontrol/.conda/envs/rt/lib/python3.6/socket.py\", line 724, in create_connection\n",
      "    raise err\n",
      "  File \"/home/nfcontrol/.conda/envs/rt/lib/python3.6/socket.py\", line 713, in create_connection\n",
      "    sock.connect(sa)\n",
      "OSError: [Errno 113] No route to host\n",
      "\n"
     ]
    },
    {
     "name": "stdout",
     "output_type": "stream",
     "text": [
      "FLIPPING/GOING THE THE MIDDLE AGAIN\n",
      "FLIPPING/GOING THE THE MIDDLE AGAIN\n",
      "loop is stopped!\n",
      "amplifier stopped!\n"
     ]
    },
    {
     "data": {
      "image/png": "[encoded data removed]",
      "text/plain": [
       "<Figure size 1440x864 with 2 Axes>"
      ]
     },
     "metadata": {
      "needs_background": "light"
     },
     "output_type": "display_data"
    }
   ],
   "source": [
    "alld_ica, ch_names, sfreq = nf_trial(0, count=1)"
   ]
  },
  {
   "cell_type": "markdown",
   "metadata": {},
   "source": [
    "# Perform ICA"
   ]
  },
  {
   "cell_type": "code",
   "execution_count": 9,
   "metadata": {},
   "outputs": [
    {
     "name": "stdout",
     "output_type": "stream",
     "text": [
      "The following EEG sensors did not have a position specified in the selected montage: ['ECG']. Their position has been left untouched.\n",
      "Creating RawArray with float64 data, n_channels=64, n_times=1011000\n",
      "    Range : 0 ... 1010999 =      0.000 ...   202.200 secs\n",
      "Ready.\n",
      "5000.0\n",
      "Creating RawArray with float64 data, n_channels=1, n_times=1011000\n",
      "    Range : 0 ... 1010999 =      0.000 ...   202.200 secs\n",
      "Ready.\n",
      "> \u001b[0;32m/home/nfcontrol/nf/nf-rtime/nftools/nftools/analysis.py\u001b[0m(148)\u001b[0;36mconvert_alld_allm_to_mne\u001b[0;34m()\u001b[0m\n",
      "\u001b[0;32m    147 \u001b[0;31m    \u001b[0;31m# create the marker matrix:\u001b[0m\u001b[0;34m\u001b[0m\u001b[0;34m\u001b[0m\u001b[0;34m\u001b[0m\u001b[0m\n",
      "\u001b[0m\u001b[0;32m--> 148 \u001b[0;31m    \u001b[0;32mif\u001b[0m \u001b[0mlen\u001b[0m\u001b[0;34m(\u001b[0m\u001b[0mallm\u001b[0m\u001b[0;34m)\u001b[0m\u001b[0;34m>\u001b[0m\u001b[0;36m0\u001b[0m\u001b[0;34m:\u001b[0m\u001b[0;34m\u001b[0m\u001b[0;34m\u001b[0m\u001b[0m\n",
      "\u001b[0m\u001b[0;32m    149 \u001b[0;31m        \u001b[0mraw\u001b[0m\u001b[0;34m.\u001b[0m\u001b[0madd_events\u001b[0m\u001b[0;34m(\u001b[0m\u001b[0mev_arr\u001b[0m\u001b[0;34m)\u001b[0m\u001b[0;34m\u001b[0m\u001b[0;34m\u001b[0m\u001b[0m\n",
      "\u001b[0m\n"
     ]
    },
    {
     "name": "stdin",
     "output_type": "stream",
     "text": [
      "ipdb>  c\n"
     ]
    },
    {
     "name": "stdout",
     "output_type": "stream",
     "text": [
      "Setting up band-pass filter from 1 - 35 Hz\n",
      "l_trans_bandwidth chosen to be 1.0 Hz\n",
      "h_trans_bandwidth chosen to be 8.8 Hz\n",
      "Filter length of 3301 samples (3.301 sec) selected\n",
      "Fitting ICA to data using 63 channels (please be patient, this may take a while)\n",
      "Inferring max_pca_components from picks\n",
      "Using all PCA components: 63\n",
      " \n",
      "Fitting ICA took 75.8s.\n"
     ]
    },
    {
     "ename": "ImportError",
     "evalue": "/usr/lib/libharfbuzz.so.0: undefined symbol: FT_Done_MM_Var",
     "output_type": "error",
     "traceback": [
      "\u001b[0;31m---------------------------------------------------------------------------\u001b[0m",
      "\u001b[0;31mImportError\u001b[0m                               Traceback (most recent call last)",
      "\u001b[0;32m<ipython-input-9-24f162b605b0>\u001b[0m in \u001b[0;36m<module>\u001b[0;34m()\u001b[0m\n\u001b[1;32m     13\u001b[0m \u001b[0mica\u001b[0m \u001b[0;34m=\u001b[0m \u001b[0mmne\u001b[0m\u001b[0;34m.\u001b[0m\u001b[0mpreprocessing\u001b[0m\u001b[0;34m.\u001b[0m\u001b[0mICA\u001b[0m\u001b[0;34m(\u001b[0m\u001b[0mmethod\u001b[0m\u001b[0;34m=\u001b[0m\u001b[0;34m\"infomax\"\u001b[0m\u001b[0;34m,\u001b[0m \u001b[0mrandom_state\u001b[0m\u001b[0;34m=\u001b[0m\u001b[0;36m1\u001b[0m\u001b[0;34m)\u001b[0m\u001b[0;34m\u001b[0m\u001b[0;34m\u001b[0m\u001b[0m\n\u001b[1;32m     14\u001b[0m \u001b[0mica\u001b[0m\u001b[0;34m.\u001b[0m\u001b[0mfit\u001b[0m\u001b[0;34m(\u001b[0m\u001b[0mraw\u001b[0m\u001b[0;34m)\u001b[0m\u001b[0;34m\u001b[0m\u001b[0;34m\u001b[0m\u001b[0m\n\u001b[0;32m---> 15\u001b[0;31m \u001b[0mget_ipython\u001b[0m\u001b[0;34m(\u001b[0m\u001b[0;34m)\u001b[0m\u001b[0;34m.\u001b[0m\u001b[0mrun_line_magic\u001b[0m\u001b[0;34m(\u001b[0m\u001b[0;34m'matplotlib'\u001b[0m\u001b[0;34m,\u001b[0m \u001b[0;34m'qt'\u001b[0m\u001b[0;34m)\u001b[0m\u001b[0;34m\u001b[0m\u001b[0;34m\u001b[0m\u001b[0m\n\u001b[0m\u001b[1;32m     16\u001b[0m \u001b[0mica\u001b[0m\u001b[0;34m.\u001b[0m\u001b[0mplot_sources\u001b[0m\u001b[0;34m(\u001b[0m\u001b[0minst\u001b[0m\u001b[0;34m=\u001b[0m\u001b[0mraw\u001b[0m\u001b[0;34m)\u001b[0m\u001b[0;34m\u001b[0m\u001b[0;34m\u001b[0m\u001b[0m\n\u001b[1;32m     17\u001b[0m \u001b[0mica\u001b[0m\u001b[0;34m.\u001b[0m\u001b[0mplot_components\u001b[0m\u001b[0;34m(\u001b[0m\u001b[0minst\u001b[0m\u001b[0;34m=\u001b[0m\u001b[0mraw\u001b[0m\u001b[0;34m)\u001b[0m\u001b[0;34m\u001b[0m\u001b[0;34m\u001b[0m\u001b[0m\n",
      "\u001b[0;32m~/.conda/envs/rt/lib/python3.6/site-packages/IPython/core/interactiveshell.py\u001b[0m in \u001b[0;36mrun_line_magic\u001b[0;34m(self, magic_name, line, _stack_depth)\u001b[0m\n\u001b[1;32m   2129\u001b[0m                 \u001b[0mkwargs\u001b[0m\u001b[0;34m[\u001b[0m\u001b[0;34m'local_ns'\u001b[0m\u001b[0;34m]\u001b[0m \u001b[0;34m=\u001b[0m \u001b[0msys\u001b[0m\u001b[0;34m.\u001b[0m\u001b[0m_getframe\u001b[0m\u001b[0;34m(\u001b[0m\u001b[0mstack_depth\u001b[0m\u001b[0;34m)\u001b[0m\u001b[0;34m.\u001b[0m\u001b[0mf_locals\u001b[0m\u001b[0;34m\u001b[0m\u001b[0;34m\u001b[0m\u001b[0m\n\u001b[1;32m   2130\u001b[0m             \u001b[0;32mwith\u001b[0m \u001b[0mself\u001b[0m\u001b[0;34m.\u001b[0m\u001b[0mbuiltin_trap\u001b[0m\u001b[0;34m:\u001b[0m\u001b[0;34m\u001b[0m\u001b[0;34m\u001b[0m\u001b[0m\n\u001b[0;32m-> 2131\u001b[0;31m                 \u001b[0mresult\u001b[0m \u001b[0;34m=\u001b[0m \u001b[0mfn\u001b[0m\u001b[0;34m(\u001b[0m\u001b[0;34m*\u001b[0m\u001b[0margs\u001b[0m\u001b[0;34m,\u001b[0m\u001b[0;34m**\u001b[0m\u001b[0mkwargs\u001b[0m\u001b[0;34m)\u001b[0m\u001b[0;34m\u001b[0m\u001b[0;34m\u001b[0m\u001b[0m\n\u001b[0m\u001b[1;32m   2132\u001b[0m             \u001b[0;32mreturn\u001b[0m \u001b[0mresult\u001b[0m\u001b[0;34m\u001b[0m\u001b[0;34m\u001b[0m\u001b[0m\n\u001b[1;32m   2133\u001b[0m \u001b[0;34m\u001b[0m\u001b[0m\n",
      "\u001b[0;32m<decorator-gen-107>\u001b[0m in \u001b[0;36mmatplotlib\u001b[0;34m(self, line)\u001b[0m\n",
      "\u001b[0;32m~/.conda/envs/rt/lib/python3.6/site-packages/IPython/core/magic.py\u001b[0m in \u001b[0;36m<lambda>\u001b[0;34m(f, *a, **k)\u001b[0m\n\u001b[1;32m    185\u001b[0m     \u001b[0;31m# but it's overkill for just that one bit of state.\u001b[0m\u001b[0;34m\u001b[0m\u001b[0;34m\u001b[0m\u001b[0;34m\u001b[0m\u001b[0m\n\u001b[1;32m    186\u001b[0m     \u001b[0;32mdef\u001b[0m \u001b[0mmagic_deco\u001b[0m\u001b[0;34m(\u001b[0m\u001b[0marg\u001b[0m\u001b[0;34m)\u001b[0m\u001b[0;34m:\u001b[0m\u001b[0;34m\u001b[0m\u001b[0;34m\u001b[0m\u001b[0m\n\u001b[0;32m--> 187\u001b[0;31m         \u001b[0mcall\u001b[0m \u001b[0;34m=\u001b[0m \u001b[0;32mlambda\u001b[0m \u001b[0mf\u001b[0m\u001b[0;34m,\u001b[0m \u001b[0;34m*\u001b[0m\u001b[0ma\u001b[0m\u001b[0;34m,\u001b[0m \u001b[0;34m**\u001b[0m\u001b[0mk\u001b[0m\u001b[0;34m:\u001b[0m \u001b[0mf\u001b[0m\u001b[0;34m(\u001b[0m\u001b[0;34m*\u001b[0m\u001b[0ma\u001b[0m\u001b[0;34m,\u001b[0m \u001b[0;34m**\u001b[0m\u001b[0mk\u001b[0m\u001b[0;34m)\u001b[0m\u001b[0;34m\u001b[0m\u001b[0;34m\u001b[0m\u001b[0m\n\u001b[0m\u001b[1;32m    188\u001b[0m \u001b[0;34m\u001b[0m\u001b[0m\n\u001b[1;32m    189\u001b[0m         \u001b[0;32mif\u001b[0m \u001b[0mcallable\u001b[0m\u001b[0;34m(\u001b[0m\u001b[0marg\u001b[0m\u001b[0;34m)\u001b[0m\u001b[0;34m:\u001b[0m\u001b[0;34m\u001b[0m\u001b[0;34m\u001b[0m\u001b[0m\n",
      "\u001b[0;32m~/.conda/envs/rt/lib/python3.6/site-packages/IPython/core/magics/pylab.py\u001b[0m in \u001b[0;36mmatplotlib\u001b[0;34m(self, line)\u001b[0m\n\u001b[1;32m     97\u001b[0m             \u001b[0mprint\u001b[0m\u001b[0;34m(\u001b[0m\u001b[0;34m\"Available matplotlib backends: %s\"\u001b[0m \u001b[0;34m%\u001b[0m \u001b[0mbackends_list\u001b[0m\u001b[0;34m)\u001b[0m\u001b[0;34m\u001b[0m\u001b[0;34m\u001b[0m\u001b[0m\n\u001b[1;32m     98\u001b[0m         \u001b[0;32melse\u001b[0m\u001b[0;34m:\u001b[0m\u001b[0;34m\u001b[0m\u001b[0;34m\u001b[0m\u001b[0m\n\u001b[0;32m---> 99\u001b[0;31m             \u001b[0mgui\u001b[0m\u001b[0;34m,\u001b[0m \u001b[0mbackend\u001b[0m \u001b[0;34m=\u001b[0m \u001b[0mself\u001b[0m\u001b[0;34m.\u001b[0m\u001b[0mshell\u001b[0m\u001b[0;34m.\u001b[0m\u001b[0menable_matplotlib\u001b[0m\u001b[0;34m(\u001b[0m\u001b[0margs\u001b[0m\u001b[0;34m.\u001b[0m\u001b[0mgui\u001b[0m\u001b[0;34m)\u001b[0m\u001b[0;34m\u001b[0m\u001b[0;34m\u001b[0m\u001b[0m\n\u001b[0m\u001b[1;32m    100\u001b[0m             \u001b[0mself\u001b[0m\u001b[0;34m.\u001b[0m\u001b[0m_show_matplotlib_backend\u001b[0m\u001b[0;34m(\u001b[0m\u001b[0margs\u001b[0m\u001b[0;34m.\u001b[0m\u001b[0mgui\u001b[0m\u001b[0;34m,\u001b[0m \u001b[0mbackend\u001b[0m\u001b[0;34m)\u001b[0m\u001b[0;34m\u001b[0m\u001b[0;34m\u001b[0m\u001b[0m\n\u001b[1;32m    101\u001b[0m \u001b[0;34m\u001b[0m\u001b[0m\n",
      "\u001b[0;32m~/.conda/envs/rt/lib/python3.6/site-packages/IPython/core/interactiveshell.py\u001b[0m in \u001b[0;36menable_matplotlib\u001b[0;34m(self, gui)\u001b[0m\n\u001b[1;32m   3047\u001b[0m                 \u001b[0mgui\u001b[0m\u001b[0;34m,\u001b[0m \u001b[0mbackend\u001b[0m \u001b[0;34m=\u001b[0m \u001b[0mpt\u001b[0m\u001b[0;34m.\u001b[0m\u001b[0mfind_gui_and_backend\u001b[0m\u001b[0;34m(\u001b[0m\u001b[0mself\u001b[0m\u001b[0;34m.\u001b[0m\u001b[0mpylab_gui_select\u001b[0m\u001b[0;34m)\u001b[0m\u001b[0;34m\u001b[0m\u001b[0;34m\u001b[0m\u001b[0m\n\u001b[1;32m   3048\u001b[0m \u001b[0;34m\u001b[0m\u001b[0m\n\u001b[0;32m-> 3049\u001b[0;31m         \u001b[0mpt\u001b[0m\u001b[0;34m.\u001b[0m\u001b[0mactivate_matplotlib\u001b[0m\u001b[0;34m(\u001b[0m\u001b[0mbackend\u001b[0m\u001b[0;34m)\u001b[0m\u001b[0;34m\u001b[0m\u001b[0;34m\u001b[0m\u001b[0m\n\u001b[0m\u001b[1;32m   3050\u001b[0m         \u001b[0mpt\u001b[0m\u001b[0;34m.\u001b[0m\u001b[0mconfigure_inline_support\u001b[0m\u001b[0;34m(\u001b[0m\u001b[0mself\u001b[0m\u001b[0;34m,\u001b[0m \u001b[0mbackend\u001b[0m\u001b[0;34m)\u001b[0m\u001b[0;34m\u001b[0m\u001b[0;34m\u001b[0m\u001b[0m\n\u001b[1;32m   3051\u001b[0m \u001b[0;34m\u001b[0m\u001b[0m\n",
      "\u001b[0;32m~/.conda/envs/rt/lib/python3.6/site-packages/IPython/core/pylabtools.py\u001b[0m in \u001b[0;36mactivate_matplotlib\u001b[0;34m(backend)\u001b[0m\n\u001b[1;32m    309\u001b[0m \u001b[0;34m\u001b[0m\u001b[0m\n\u001b[1;32m    310\u001b[0m     \u001b[0;32mimport\u001b[0m \u001b[0mmatplotlib\u001b[0m\u001b[0;34m.\u001b[0m\u001b[0mpyplot\u001b[0m\u001b[0;34m\u001b[0m\u001b[0;34m\u001b[0m\u001b[0m\n\u001b[0;32m--> 311\u001b[0;31m     \u001b[0mmatplotlib\u001b[0m\u001b[0;34m.\u001b[0m\u001b[0mpyplot\u001b[0m\u001b[0;34m.\u001b[0m\u001b[0mswitch_backend\u001b[0m\u001b[0;34m(\u001b[0m\u001b[0mbackend\u001b[0m\u001b[0;34m)\u001b[0m\u001b[0;34m\u001b[0m\u001b[0;34m\u001b[0m\u001b[0m\n\u001b[0m\u001b[1;32m    312\u001b[0m \u001b[0;34m\u001b[0m\u001b[0m\n\u001b[1;32m    313\u001b[0m     \u001b[0;31m# This must be imported last in the matplotlib series, after\u001b[0m\u001b[0;34m\u001b[0m\u001b[0;34m\u001b[0m\u001b[0;34m\u001b[0m\u001b[0m\n",
      "\u001b[0;32m~/.conda/envs/rt/lib/python3.6/site-packages/matplotlib/pyplot.py\u001b[0m in \u001b[0;36mswitch_backend\u001b[0;34m(newbackend)\u001b[0m\n\u001b[1;32m    231\u001b[0m     \u001b[0mmatplotlib\u001b[0m\u001b[0;34m.\u001b[0m\u001b[0muse\u001b[0m\u001b[0;34m(\u001b[0m\u001b[0mnewbackend\u001b[0m\u001b[0;34m,\u001b[0m \u001b[0mwarn\u001b[0m\u001b[0;34m=\u001b[0m\u001b[0;32mFalse\u001b[0m\u001b[0;34m,\u001b[0m \u001b[0mforce\u001b[0m\u001b[0;34m=\u001b[0m\u001b[0;32mTrue\u001b[0m\u001b[0;34m)\u001b[0m\u001b[0;34m\u001b[0m\u001b[0;34m\u001b[0m\u001b[0m\n\u001b[1;32m    232\u001b[0m     \u001b[0;32mfrom\u001b[0m \u001b[0mmatplotlib\u001b[0m\u001b[0;34m.\u001b[0m\u001b[0mbackends\u001b[0m \u001b[0;32mimport\u001b[0m \u001b[0mpylab_setup\u001b[0m\u001b[0;34m\u001b[0m\u001b[0;34m\u001b[0m\u001b[0m\n\u001b[0;32m--> 233\u001b[0;31m     \u001b[0m_backend_mod\u001b[0m\u001b[0;34m,\u001b[0m \u001b[0mnew_figure_manager\u001b[0m\u001b[0;34m,\u001b[0m \u001b[0mdraw_if_interactive\u001b[0m\u001b[0;34m,\u001b[0m \u001b[0m_show\u001b[0m \u001b[0;34m=\u001b[0m \u001b[0mpylab_setup\u001b[0m\u001b[0;34m(\u001b[0m\u001b[0;34m)\u001b[0m\u001b[0;34m\u001b[0m\u001b[0;34m\u001b[0m\u001b[0m\n\u001b[0m\u001b[1;32m    234\u001b[0m \u001b[0;34m\u001b[0m\u001b[0m\n\u001b[1;32m    235\u001b[0m \u001b[0;34m\u001b[0m\u001b[0m\n",
      "\u001b[0;32m~/.conda/envs/rt/lib/python3.6/site-packages/matplotlib/backends/__init__.py\u001b[0m in \u001b[0;36mpylab_setup\u001b[0;34m(name)\u001b[0m\n\u001b[1;32m     60\u001b[0m     \u001b[0;31m# imports. 0 means only perform absolute imports.\u001b[0m\u001b[0;34m\u001b[0m\u001b[0;34m\u001b[0m\u001b[0;34m\u001b[0m\u001b[0m\n\u001b[1;32m     61\u001b[0m     backend_mod = __import__(backend_name, globals(), locals(),\n\u001b[0;32m---> 62\u001b[0;31m                              [backend_name], 0)\n\u001b[0m\u001b[1;32m     63\u001b[0m \u001b[0;34m\u001b[0m\u001b[0m\n\u001b[1;32m     64\u001b[0m     \u001b[0;31m# Things we pull in from all backends\u001b[0m\u001b[0;34m\u001b[0m\u001b[0;34m\u001b[0m\u001b[0;34m\u001b[0m\u001b[0m\n",
      "\u001b[0;32m~/.conda/envs/rt/lib/python3.6/site-packages/matplotlib/backends/backend_qt5agg.py\u001b[0m in \u001b[0;36m<module>\u001b[0;34m()\u001b[0m\n\u001b[1;32m     13\u001b[0m \u001b[0;34m\u001b[0m\u001b[0m\n\u001b[1;32m     14\u001b[0m \u001b[0;32mfrom\u001b[0m \u001b[0;34m.\u001b[0m\u001b[0mbackend_agg\u001b[0m \u001b[0;32mimport\u001b[0m \u001b[0mFigureCanvasAgg\u001b[0m\u001b[0;34m\u001b[0m\u001b[0;34m\u001b[0m\u001b[0m\n\u001b[0;32m---> 15\u001b[0;31m from .backend_qt5 import (\n\u001b[0m\u001b[1;32m     16\u001b[0m     \u001b[0mQtCore\u001b[0m\u001b[0;34m,\u001b[0m \u001b[0mQtGui\u001b[0m\u001b[0;34m,\u001b[0m \u001b[0mQtWidgets\u001b[0m\u001b[0;34m,\u001b[0m \u001b[0m_BackendQT5\u001b[0m\u001b[0;34m,\u001b[0m \u001b[0mFigureCanvasQT\u001b[0m\u001b[0;34m,\u001b[0m \u001b[0mFigureManagerQT\u001b[0m\u001b[0;34m,\u001b[0m\u001b[0;34m\u001b[0m\u001b[0;34m\u001b[0m\u001b[0m\n\u001b[1;32m     17\u001b[0m     NavigationToolbar2QT, backend_version)\n",
      "\u001b[0;32m~/.conda/envs/rt/lib/python3.6/site-packages/matplotlib/backends/backend_qt5.py\u001b[0m in \u001b[0;36m<module>\u001b[0;34m()\u001b[0m\n\u001b[1;32m     17\u001b[0m     \u001b[0m_Backend\u001b[0m\u001b[0;34m,\u001b[0m \u001b[0mFigureCanvasBase\u001b[0m\u001b[0;34m,\u001b[0m \u001b[0mFigureManagerBase\u001b[0m\u001b[0;34m,\u001b[0m \u001b[0mNavigationToolbar2\u001b[0m\u001b[0;34m,\u001b[0m\u001b[0;34m\u001b[0m\u001b[0;34m\u001b[0m\u001b[0m\n\u001b[1;32m     18\u001b[0m     TimerBase, cursors, ToolContainerBase, StatusbarBase)\n\u001b[0;32m---> 19\u001b[0;31m \u001b[0;32mimport\u001b[0m \u001b[0mmatplotlib\u001b[0m\u001b[0;34m.\u001b[0m\u001b[0mbackends\u001b[0m\u001b[0;34m.\u001b[0m\u001b[0mqt_editor\u001b[0m\u001b[0;34m.\u001b[0m\u001b[0mfigureoptions\u001b[0m \u001b[0;32mas\u001b[0m \u001b[0mfigureoptions\u001b[0m\u001b[0;34m\u001b[0m\u001b[0;34m\u001b[0m\u001b[0m\n\u001b[0m\u001b[1;32m     20\u001b[0m \u001b[0;32mfrom\u001b[0m \u001b[0mmatplotlib\u001b[0m\u001b[0;34m.\u001b[0m\u001b[0mbackends\u001b[0m\u001b[0;34m.\u001b[0m\u001b[0mqt_editor\u001b[0m\u001b[0;34m.\u001b[0m\u001b[0mformsubplottool\u001b[0m \u001b[0;32mimport\u001b[0m \u001b[0mUiSubplotTool\u001b[0m\u001b[0;34m\u001b[0m\u001b[0;34m\u001b[0m\u001b[0m\n\u001b[1;32m     21\u001b[0m \u001b[0;32mfrom\u001b[0m \u001b[0mmatplotlib\u001b[0m\u001b[0;34m.\u001b[0m\u001b[0mfigure\u001b[0m \u001b[0;32mimport\u001b[0m \u001b[0mFigure\u001b[0m\u001b[0;34m\u001b[0m\u001b[0;34m\u001b[0m\u001b[0m\n",
      "\u001b[0;32m~/.conda/envs/rt/lib/python3.6/site-packages/matplotlib/backends/qt_editor/figureoptions.py\u001b[0m in \u001b[0;36m<module>\u001b[0;34m()\u001b[0m\n\u001b[1;32m     18\u001b[0m \u001b[0;32mimport\u001b[0m \u001b[0mmatplotlib\u001b[0m\u001b[0;34m\u001b[0m\u001b[0;34m\u001b[0m\u001b[0m\n\u001b[1;32m     19\u001b[0m \u001b[0;32mfrom\u001b[0m \u001b[0mmatplotlib\u001b[0m \u001b[0;32mimport\u001b[0m \u001b[0mcm\u001b[0m\u001b[0;34m,\u001b[0m \u001b[0mcolors\u001b[0m \u001b[0;32mas\u001b[0m \u001b[0mmcolors\u001b[0m\u001b[0;34m,\u001b[0m \u001b[0mmarkers\u001b[0m\u001b[0;34m,\u001b[0m \u001b[0mimage\u001b[0m \u001b[0;32mas\u001b[0m \u001b[0mmimage\u001b[0m\u001b[0;34m\u001b[0m\u001b[0;34m\u001b[0m\u001b[0m\n\u001b[0;32m---> 20\u001b[0;31m \u001b[0;32mimport\u001b[0m \u001b[0mmatplotlib\u001b[0m\u001b[0;34m.\u001b[0m\u001b[0mbackends\u001b[0m\u001b[0;34m.\u001b[0m\u001b[0mqt_editor\u001b[0m\u001b[0;34m.\u001b[0m\u001b[0mformlayout\u001b[0m \u001b[0;32mas\u001b[0m \u001b[0mformlayout\u001b[0m\u001b[0;34m\u001b[0m\u001b[0;34m\u001b[0m\u001b[0m\n\u001b[0m\u001b[1;32m     21\u001b[0m \u001b[0;32mfrom\u001b[0m \u001b[0mmatplotlib\u001b[0m\u001b[0;34m.\u001b[0m\u001b[0mbackends\u001b[0m\u001b[0;34m.\u001b[0m\u001b[0mqt_compat\u001b[0m \u001b[0;32mimport\u001b[0m \u001b[0mQtGui\u001b[0m\u001b[0;34m\u001b[0m\u001b[0;34m\u001b[0m\u001b[0m\n\u001b[1;32m     22\u001b[0m \u001b[0;34m\u001b[0m\u001b[0m\n",
      "\u001b[0;32m~/.conda/envs/rt/lib/python3.6/site-packages/matplotlib/backends/qt_editor/formlayout.py\u001b[0m in \u001b[0;36m<module>\u001b[0;34m()\u001b[0m\n\u001b[1;32m     52\u001b[0m \u001b[0;34m\u001b[0m\u001b[0m\n\u001b[1;32m     53\u001b[0m \u001b[0;32mfrom\u001b[0m \u001b[0mmatplotlib\u001b[0m \u001b[0;32mimport\u001b[0m \u001b[0mcolors\u001b[0m \u001b[0;32mas\u001b[0m \u001b[0mmcolors\u001b[0m\u001b[0;34m\u001b[0m\u001b[0;34m\u001b[0m\u001b[0m\n\u001b[0;32m---> 54\u001b[0;31m \u001b[0;32mfrom\u001b[0m \u001b[0mmatplotlib\u001b[0m\u001b[0;34m.\u001b[0m\u001b[0mbackends\u001b[0m\u001b[0;34m.\u001b[0m\u001b[0mqt_compat\u001b[0m \u001b[0;32mimport\u001b[0m \u001b[0mQtGui\u001b[0m\u001b[0;34m,\u001b[0m \u001b[0mQtWidgets\u001b[0m\u001b[0;34m,\u001b[0m \u001b[0mQtCore\u001b[0m\u001b[0;34m\u001b[0m\u001b[0;34m\u001b[0m\u001b[0m\n\u001b[0m\u001b[1;32m     55\u001b[0m \u001b[0;34m\u001b[0m\u001b[0m\n\u001b[1;32m     56\u001b[0m \u001b[0;34m\u001b[0m\u001b[0m\n",
      "\u001b[0;32m~/.conda/envs/rt/lib/python3.6/site-packages/matplotlib/backends/qt_compat.py\u001b[0m in \u001b[0;36m<module>\u001b[0;34m()\u001b[0m\n\u001b[1;32m    138\u001b[0m     \u001b[0;32mif\u001b[0m \u001b[0mQT_API\u001b[0m \u001b[0;34m==\u001b[0m \u001b[0mQT_API_PYQT5\u001b[0m\u001b[0;34m:\u001b[0m\u001b[0;34m\u001b[0m\u001b[0;34m\u001b[0m\u001b[0m\n\u001b[1;32m    139\u001b[0m         \u001b[0;32mtry\u001b[0m\u001b[0;34m:\u001b[0m\u001b[0;34m\u001b[0m\u001b[0;34m\u001b[0m\u001b[0m\n\u001b[0;32m--> 140\u001b[0;31m             \u001b[0;32mfrom\u001b[0m \u001b[0mPyQt5\u001b[0m \u001b[0;32mimport\u001b[0m \u001b[0mQtCore\u001b[0m\u001b[0;34m,\u001b[0m \u001b[0mQtGui\u001b[0m\u001b[0;34m,\u001b[0m \u001b[0mQtWidgets\u001b[0m\u001b[0;34m\u001b[0m\u001b[0;34m\u001b[0m\u001b[0m\n\u001b[0m\u001b[1;32m    141\u001b[0m             \u001b[0m_getSaveFileName\u001b[0m \u001b[0;34m=\u001b[0m \u001b[0mQtWidgets\u001b[0m\u001b[0;34m.\u001b[0m\u001b[0mQFileDialog\u001b[0m\u001b[0;34m.\u001b[0m\u001b[0mgetSaveFileName\u001b[0m\u001b[0;34m\u001b[0m\u001b[0;34m\u001b[0m\u001b[0m\n\u001b[1;32m    142\u001b[0m         \u001b[0;32mexcept\u001b[0m \u001b[0mImportError\u001b[0m\u001b[0;34m:\u001b[0m\u001b[0;34m\u001b[0m\u001b[0;34m\u001b[0m\u001b[0m\n",
      "\u001b[0;31mImportError\u001b[0m: /usr/lib/libharfbuzz.so.0: undefined symbol: FT_Done_MM_Var"
     ]
    }
   ],
   "source": [
    "#alld_ica[:,:] /= 1e6\n",
    "alld_ica.shrink_to_fit()\n",
    "\n",
    "raw = convert_alld_allm_to_mne(alld_ica, [], ch_names, sfreq)  # covert to MNE\n",
    "\n",
    "raw.drop_channels(['ECG'])\n",
    "raw.resample(1000, npad=\"auto\")\n",
    "#raw.set_eeg_reference('average', projection=True)\n",
    "#raw.apply_proj()\n",
    "raw.filter(1., 35., n_jobs=1, fir_design='firwin')\n",
    "raw.load_data()\n",
    "\n",
    "ica = mne.preprocessing.ICA(method=\"infomax\", random_state=1)\n",
    "ica.fit(raw)\n",
    "%matplotlib qt\n",
    "ica.plot_sources(inst=raw)\n",
    "ica.plot_components(inst=raw)\n",
    "ica_comps = ica.get_sources(inst=raw).get_data()\n",
    " \n",
    "blks = raw.get_data().T\n",
    "pca_comps = ica.pca_components_\n",
    "M = ica.mixing_matrix_\n",
    "M_inv = ica.unmixing_matrix_\n",
    "S = np.identity(M.shape[0])"
   ]
  },
  {
   "cell_type": "markdown",
   "metadata": {},
   "source": [
    "# Define Selection Matrix"
   ]
  },
  {
   "cell_type": "code",
   "execution_count": 19,
   "metadata": {},
   "outputs": [],
   "source": [
    "S[[0,1],:] = 0"
   ]
  },
  {
   "cell_type": "markdown",
   "metadata": {},
   "source": [
    "# Correct Data for Artefacts"
   ]
  },
  {
   "cell_type": "code",
   "execution_count": 20,
   "metadata": {},
   "outputs": [],
   "source": [
    "blks = np.delete(blks, -1, 1).T # removing STIM channel\n",
    "data_corr = multi_dot([pca_comps.T, M, S, M_inv, pca_comps, blks])\n",
    "np.save('data_corr.npy', data_corr)"
   ]
  },
  {
   "cell_type": "markdown",
   "metadata": {},
   "source": [
    "# Thresholding Function"
   ]
  },
  {
   "cell_type": "code",
   "execution_count": 21,
   "metadata": {},
   "outputs": [],
   "source": [
    "def thresholding(smr_amp):\n",
    "    stds = [0.5, 1, 1.5, 2]\n",
    "    interp_fac = 100\n",
    "    smr_amp = smr_amp[:30000] # take first 30secs of SMR hilbert envelope\n",
    "            \n",
    "    mean_y1 = np.mean(smr_amp)\n",
    "    std_y1 = np.std(smr_amp)\n",
    "    \n",
    "    xvals = np.linspace(0,len(smr_amp),len(smr_amp)*interp_fac)\n",
    "    x = np.arange(0, len(smr_amp))\n",
    "    smr_interp = np.interp(xvals, x, smr_amp)\n",
    "    \n",
    "    num_succ_exc = []\n",
    "    for a in range(len(stds)):   \n",
    "        h = np.ones((len(smr_interp),))*(mean_y1+stds[a]*std_y1)\n",
    "        idx = np.argwhere(np.diff(np.sign(h - smr_interp))).flatten() # where horizontal line intersects with y1\n",
    "        \n",
    "        if smr_interp[0] > h[0]: \n",
    "            idx = np.delete(idx, 0)\n",
    "        if smr_interp[-1] > h[0]:\n",
    "            idx = np.delete(idx, -1)\n",
    "    \n",
    "        even, odd = [], []\n",
    "        for number in range(len(idx)):\n",
    "            if (number % 2) == 0: \n",
    "                even.append(number)\n",
    "            else:\n",
    "                odd.append(number) \n",
    "        print([len(even), len(idx)])\n",
    "        \n",
    "        lengths = []\n",
    "        print ([len(idx), len(odd), len(even)])\n",
    "        for b in range(len(even)):\n",
    "            exc_length = idx[odd[b]]-idx[even[b]]\n",
    "            lengths.append(exc_length) # calculate distance between intersections (i.e. time of excursion)\n",
    "        \n",
    "        num_exc = sum(x >= 200*interp_fac for x in lengths)\n",
    "        print(num_exc)\n",
    "        num_succ_exc.append(num_exc)\n",
    "        best_std_idx = num_succ_exc.index(min(num_succ_exc, key=lambda x:abs(x-9)))\n",
    "        best_std = stds[best_std_idx]\n",
    "        \n",
    "    thr = mean_y1+stds[a]*std_y1\n",
    "        \n",
    "    return best_std, thr"
   ]
  },
  {
   "cell_type": "code",
   "execution_count": 22,
   "metadata": {},
   "outputs": [
    {
     "name": "stdout",
     "output_type": "stream",
     "text": [
      "[3, 6]\n",
      "[6, 3, 3]\n",
      "2\n",
      "[0, 0]\n",
      "[0, 0, 0]\n",
      "0\n",
      "[0, 0]\n",
      "[0, 0, 0]\n",
      "0\n",
      "[0, 0]\n",
      "[0, 0, 0]\n",
      "0\n"
     ]
    }
   ],
   "source": [
    "c3 = 4 # on Brain Products system only!\n",
    "best_std, thres = thresholding(data_corr[c3,:])"
   ]
  },
  {
   "cell_type": "code",
   "execution_count": 23,
   "metadata": {},
   "outputs": [],
   "source": [
    "# Freeing up memory\n",
    "del alld_ica, blks, data_corr, raw"
   ]
  },
  {
   "cell_type": "markdown",
   "metadata": {},
   "source": [
    "# SMR-NF & RS Blocks\n",
    "\n",
    "## SMR-NF #1"
   ]
  },
  {
   "cell_type": "code",
   "execution_count": 24,
   "metadata": {},
   "outputs": [
    {
     "name": "stdout",
     "output_type": "stream",
     "text": [
      "Number of channels: 64\n",
      "Sampling interval: 200.0\n",
      "Resolutions: [0.5, 0.5, 0.5, 0.5, 0.5, 0.5, 0.5, 0.5, 0.5, 0.5, 0.5, 0.5, 0.5, 0.5, 0.5, 0.5, 0.5, 0.5, 0.5, 0.5, 0.5, 0.5, 0.5, 0.5, 0.5, 0.5, 0.5, 0.5, 0.5, 0.5, 0.5, 10.0, 0.5, 0.5, 0.5, 0.5, 0.5, 0.5, 0.5, 0.5, 0.5, 0.5, 0.5, 0.5, 0.5, 0.5, 0.5, 0.5, 0.5, 0.5, 0.5, 0.5, 0.5, 0.5, 0.5, 0.5, 0.5, 0.5, 0.5, 0.5, 0.5, 0.5, 0.5, 0.5]\n",
      "Channel Names: ['Fp1', 'Fp2', 'F3', 'F4', 'C3', 'C4', 'P3', 'P4', 'O1', 'O2', 'F7', 'F8', 'T7', 'T8', 'P7', 'P8', 'Fz', 'Cz', 'Pz', 'Oz', 'FC1', 'FC2', 'CP1', 'CP2', 'FC5', 'FC6', 'CP5', 'CP6', 'TP9', 'TP10', 'POz', 'ECG', 'F1', 'F2', 'C1', 'C2', 'P1', 'P2', 'AF3', 'AF4', 'FC3', 'FC4', 'CP3', 'CP4', 'PO3', 'PO4', 'F5', 'F6', 'C5', 'C6', 'P5', 'P6', 'AF7', 'AF8', 'FT7', 'FT8', 'TP7', 'TP8', 'PO7', 'PO8', 'FT9', 'FT10', 'Fpz', 'CPz']\n",
      "hdr SamplingInterval = 200.00\n",
      "bwBPF: {'f_low': 12, 'f_high': 15, 'order': 3}\n",
      "bwHPF: {'f': 50, 'order': 3}\n",
      "bwSimpleAverager: {'taps': 300, 'f': 2}\n",
      "bwSimpleAverager: {'taps': 300, 'f': 2}\n",
      "thr: 1.00, dur: 0.20\n",
      "bcinet is passed on\n",
      "thr: 50.00, dur: 0.15\n",
      "bcinet is passed on\n",
      "sending signal -- I ! - 2600 - 1 - True - -1\n",
      "sending signal! - 1 False - 69.30487833578111 -- 0.25\n",
      "sending signal! - 1 False - 195.12967424811234 -- 0.3\n",
      "sending signal! - 2 False - 217.32580360954833 -- 0.35\n",
      "sending signal! - 4 False - 224.1348602093584 -- 0.39999999999999997\n",
      "sending signal! - 6 False - 225.5405972948673 -- 0.44999999999999996\n",
      "FLIPPING/GOING THE THE MIDDLE AGAIN\n",
      "FLIPPING/GOING THE THE MIDDLE AGAIN\n",
      "FLIPPING/GOING THE THE MIDDLE AGAIN\n",
      "FLIPPING/GOING THE THE MIDDLE AGAIN\n",
      "FLIPPING/GOING THE THE MIDDLE AGAIN\n"
     ]
    },
    {
     "name": "stderr",
     "output_type": "stream",
     "text": [
      "WARNING:wyrm.types:Discarding data that was longer than the ring buffer.\n"
     ]
    },
    {
     "name": "stdout",
     "output_type": "stream",
     "text": [
      "loop is stopped!\n"
     ]
    },
    {
     "name": "stderr",
     "output_type": "stream",
     "text": [
      "Process Receiver-4:1:\n",
      "Traceback (most recent call last):\n",
      "  File \"/home/nfcontrol/.conda/envs/rt/lib/python3.6/multiprocessing/process.py\", line 261, in _bootstrap\n",
      "    util._exit_function()\n",
      "  File \"/home/nfcontrol/.conda/envs/rt/lib/python3.6/multiprocessing/util.py\", line 322, in _exit_function\n",
      "    _run_finalizers()\n",
      "  File \"/home/nfcontrol/.conda/envs/rt/lib/python3.6/multiprocessing/util.py\", line 262, in _run_finalizers\n",
      "    finalizer()\n",
      "  File \"/home/nfcontrol/.conda/envs/rt/lib/python3.6/multiprocessing/util.py\", line 186, in __call__\n",
      "    res = self._callback(*self._args, **self._kwargs)\n",
      "  File \"/home/nfcontrol/.conda/envs/rt/lib/python3.6/multiprocessing/queues.py\", line 191, in _finalize_join\n",
      "    thread.join()\n",
      "  File \"/home/nfcontrol/.conda/envs/rt/lib/python3.6/threading.py\", line 1056, in join\n",
      "    self._wait_for_tstate_lock()\n",
      "  File \"/home/nfcontrol/.conda/envs/rt/lib/python3.6/threading.py\", line 1072, in _wait_for_tstate_lock\n",
      "    elif lock.acquire(block, timeout):\n",
      "KeyboardInterrupt\n",
      "Process DataCurator-4:\n",
      "Traceback (most recent call last):\n",
      "  File \"/home/nfcontrol/.conda/envs/rt/lib/python3.6/multiprocessing/process.py\", line 258, in _bootstrap\n",
      "    self.run()\n",
      "  File \"../../mushu/libmushu/driver/bptools/datacurator.py\", line 217, in run\n",
      "    loop.run_forever()\n",
      "  File \"/home/nfcontrol/.conda/envs/rt/lib/python3.6/asyncio/base_events.py\", line 422, in run_forever\n",
      "    self._run_once()\n",
      "  File \"/home/nfcontrol/.conda/envs/rt/lib/python3.6/asyncio/base_events.py\", line 1434, in _run_once\n",
      "    handle._run()\n",
      "  File \"/home/nfcontrol/.conda/envs/rt/lib/python3.6/asyncio/events.py\", line 145, in _run\n",
      "    self._callback(*self._args)\n",
      "  File \"../../mushu/libmushu/driver/bptools/datacurator.py\", line 152, in check_stop_loop\n",
      "    receiver.join()\n",
      "  File \"/home/nfcontrol/.conda/envs/rt/lib/python3.6/multiprocessing/process.py\", line 124, in join\n",
      "    res = self._popen.wait(timeout)\n",
      "  File \"/home/nfcontrol/.conda/envs/rt/lib/python3.6/multiprocessing/popen_fork.py\", line 50, in wait\n",
      "    return self.poll(os.WNOHANG if timeout == 0.0 else 0)\n",
      "  File \"/home/nfcontrol/.conda/envs/rt/lib/python3.6/multiprocessing/popen_fork.py\", line 28, in poll\n",
      "    pid, sts = os.waitpid(self.pid, flag)\n",
      "KeyboardInterrupt\n"
     ]
    },
    {
     "ename": "KeyboardInterrupt",
     "evalue": "",
     "output_type": "error",
     "traceback": [
      "\u001b[0;31m---------------------------------------------------------------------------\u001b[0m",
      "\u001b[0;31mKeyboardInterrupt\u001b[0m                         Traceback (most recent call last)",
      "\u001b[0;32m<ipython-input-24-7287f1f735ed>\u001b[0m in \u001b[0;36m<module>\u001b[0;34m()\u001b[0m\n\u001b[0;32m----> 1\u001b[0;31m \u001b[0mnf_trial\u001b[0m\u001b[0;34m(\u001b[0m\u001b[0;36m1\u001b[0m\u001b[0;34m,\u001b[0m \u001b[0mthres\u001b[0m\u001b[0;34m)\u001b[0m\u001b[0;34m\u001b[0m\u001b[0m\n\u001b[0m",
      "\u001b[0;32m<ipython-input-7-8e7ec5d49a85>\u001b[0m in \u001b[0;36mnf_trial\u001b[0;34m(task, thr, count)\u001b[0m\n\u001b[1;32m    186\u001b[0m \u001b[0;34m\u001b[0m\u001b[0m\n\u001b[1;32m    187\u001b[0m                 \u001b[0;31m# th.set_text(str1 + '\\n' + str2 + '\\n' +str3)\u001b[0m\u001b[0;34m\u001b[0m\u001b[0;34m\u001b[0m\u001b[0m\n\u001b[0;32m--> 188\u001b[0;31m     \u001b[0mamp\u001b[0m\u001b[0;34m.\u001b[0m\u001b[0mstop\u001b[0m\u001b[0;34m(\u001b[0m\u001b[0;34m)\u001b[0m\u001b[0;34m\u001b[0m\u001b[0m\n\u001b[0m\u001b[1;32m    189\u001b[0m \u001b[0;34m\u001b[0m\u001b[0m\n\u001b[1;32m    190\u001b[0m     \u001b[0;32mreturn\u001b[0m \u001b[0malld_ica\u001b[0m\u001b[0;34m,\u001b[0m \u001b[0mch_names\u001b[0m\u001b[0;34m,\u001b[0m \u001b[0msfreq\u001b[0m\u001b[0;34m\u001b[0m\u001b[0m\n",
      "\u001b[0;32m~/nf/nf-rtime/mushu/libmushu/ampdecorator.py\u001b[0m in \u001b[0;36mstop\u001b[0;34m(self)\u001b[0m\n\u001b[1;32m    183\u001b[0m     \u001b[0;32mdef\u001b[0m \u001b[0mstop\u001b[0m\u001b[0;34m(\u001b[0m\u001b[0mself\u001b[0m\u001b[0;34m)\u001b[0m\u001b[0;34m:\u001b[0m\u001b[0;34m\u001b[0m\u001b[0m\n\u001b[1;32m    184\u001b[0m         \u001b[0;31m# stop the amp\u001b[0m\u001b[0;34m\u001b[0m\u001b[0;34m\u001b[0m\u001b[0m\n\u001b[0;32m--> 185\u001b[0;31m         \u001b[0mself\u001b[0m\u001b[0;34m.\u001b[0m\u001b[0mamp\u001b[0m\u001b[0;34m.\u001b[0m\u001b[0mstop\u001b[0m\u001b[0;34m(\u001b[0m\u001b[0;34m)\u001b[0m\u001b[0;34m\u001b[0m\u001b[0m\n\u001b[0m\u001b[1;32m    186\u001b[0m         \u001b[0;31m# stop the marker server\u001b[0m\u001b[0;34m\u001b[0m\u001b[0;34m\u001b[0m\u001b[0m\n\u001b[1;32m    187\u001b[0m         \u001b[0mself\u001b[0m\u001b[0;34m.\u001b[0m\u001b[0mtcp_reader_running\u001b[0m\u001b[0;34m.\u001b[0m\u001b[0mclear\u001b[0m\u001b[0;34m(\u001b[0m\u001b[0;34m)\u001b[0m\u001b[0;34m\u001b[0m\u001b[0m\n",
      "\u001b[0;32m~/nf/nf-rtime/mushu/libmushu/driver/brainproducts.py\u001b[0m in \u001b[0;36mstop\u001b[0;34m(self)\u001b[0m\n\u001b[1;32m    282\u001b[0m         \u001b[0mself\u001b[0m\u001b[0;34m.\u001b[0m\u001b[0mdatacurator\u001b[0m\u001b[0;34m.\u001b[0m\u001b[0mstop_acquisition\u001b[0m\u001b[0;34m(\u001b[0m\u001b[0;34m)\u001b[0m\u001b[0;34m\u001b[0m\u001b[0m\n\u001b[1;32m    283\u001b[0m \u001b[0;34m\u001b[0m\u001b[0m\n\u001b[0;32m--> 284\u001b[0;31m         \u001b[0mself\u001b[0m\u001b[0;34m.\u001b[0m\u001b[0mdatacurator\u001b[0m\u001b[0;34m.\u001b[0m\u001b[0mjoin\u001b[0m\u001b[0;34m(\u001b[0m\u001b[0;34m)\u001b[0m\u001b[0;34m\u001b[0m\u001b[0m\n\u001b[0m\u001b[1;32m    285\u001b[0m \u001b[0;34m\u001b[0m\u001b[0m\n\u001b[1;32m    286\u001b[0m         \u001b[0;31m# self.sock.sendall(b'X')\u001b[0m\u001b[0;34m\u001b[0m\u001b[0;34m\u001b[0m\u001b[0m\n",
      "\u001b[0;32m~/.conda/envs/rt/lib/python3.6/multiprocessing/process.py\u001b[0m in \u001b[0;36mjoin\u001b[0;34m(self, timeout)\u001b[0m\n\u001b[1;32m    122\u001b[0m         \u001b[0;32massert\u001b[0m \u001b[0mself\u001b[0m\u001b[0;34m.\u001b[0m\u001b[0m_parent_pid\u001b[0m \u001b[0;34m==\u001b[0m \u001b[0mos\u001b[0m\u001b[0;34m.\u001b[0m\u001b[0mgetpid\u001b[0m\u001b[0;34m(\u001b[0m\u001b[0;34m)\u001b[0m\u001b[0;34m,\u001b[0m \u001b[0;34m'can only join a child process'\u001b[0m\u001b[0;34m\u001b[0m\u001b[0m\n\u001b[1;32m    123\u001b[0m         \u001b[0;32massert\u001b[0m \u001b[0mself\u001b[0m\u001b[0;34m.\u001b[0m\u001b[0m_popen\u001b[0m \u001b[0;32mis\u001b[0m \u001b[0;32mnot\u001b[0m \u001b[0;32mNone\u001b[0m\u001b[0;34m,\u001b[0m \u001b[0;34m'can only join a started process'\u001b[0m\u001b[0;34m\u001b[0m\u001b[0m\n\u001b[0;32m--> 124\u001b[0;31m         \u001b[0mres\u001b[0m \u001b[0;34m=\u001b[0m \u001b[0mself\u001b[0m\u001b[0;34m.\u001b[0m\u001b[0m_popen\u001b[0m\u001b[0;34m.\u001b[0m\u001b[0mwait\u001b[0m\u001b[0;34m(\u001b[0m\u001b[0mtimeout\u001b[0m\u001b[0;34m)\u001b[0m\u001b[0;34m\u001b[0m\u001b[0m\n\u001b[0m\u001b[1;32m    125\u001b[0m         \u001b[0;32mif\u001b[0m \u001b[0mres\u001b[0m \u001b[0;32mis\u001b[0m \u001b[0;32mnot\u001b[0m \u001b[0;32mNone\u001b[0m\u001b[0;34m:\u001b[0m\u001b[0;34m\u001b[0m\u001b[0m\n\u001b[1;32m    126\u001b[0m             \u001b[0m_children\u001b[0m\u001b[0;34m.\u001b[0m\u001b[0mdiscard\u001b[0m\u001b[0;34m(\u001b[0m\u001b[0mself\u001b[0m\u001b[0;34m)\u001b[0m\u001b[0;34m\u001b[0m\u001b[0m\n",
      "\u001b[0;32m~/.conda/envs/rt/lib/python3.6/multiprocessing/popen_fork.py\u001b[0m in \u001b[0;36mwait\u001b[0;34m(self, timeout)\u001b[0m\n\u001b[1;32m     48\u001b[0m                     \u001b[0;32mreturn\u001b[0m \u001b[0;32mNone\u001b[0m\u001b[0;34m\u001b[0m\u001b[0m\n\u001b[1;32m     49\u001b[0m             \u001b[0;31m# This shouldn't block if wait() returned successfully.\u001b[0m\u001b[0;34m\u001b[0m\u001b[0;34m\u001b[0m\u001b[0m\n\u001b[0;32m---> 50\u001b[0;31m             \u001b[0;32mreturn\u001b[0m \u001b[0mself\u001b[0m\u001b[0;34m.\u001b[0m\u001b[0mpoll\u001b[0m\u001b[0;34m(\u001b[0m\u001b[0mos\u001b[0m\u001b[0;34m.\u001b[0m\u001b[0mWNOHANG\u001b[0m \u001b[0;32mif\u001b[0m \u001b[0mtimeout\u001b[0m \u001b[0;34m==\u001b[0m \u001b[0;36m0.0\u001b[0m \u001b[0;32melse\u001b[0m \u001b[0;36m0\u001b[0m\u001b[0;34m)\u001b[0m\u001b[0;34m\u001b[0m\u001b[0m\n\u001b[0m\u001b[1;32m     51\u001b[0m         \u001b[0;32mreturn\u001b[0m \u001b[0mself\u001b[0m\u001b[0;34m.\u001b[0m\u001b[0mreturncode\u001b[0m\u001b[0;34m\u001b[0m\u001b[0m\n\u001b[1;32m     52\u001b[0m \u001b[0;34m\u001b[0m\u001b[0m\n",
      "\u001b[0;32m~/.conda/envs/rt/lib/python3.6/multiprocessing/popen_fork.py\u001b[0m in \u001b[0;36mpoll\u001b[0;34m(self, flag)\u001b[0m\n\u001b[1;32m     26\u001b[0m             \u001b[0;32mwhile\u001b[0m \u001b[0;32mTrue\u001b[0m\u001b[0;34m:\u001b[0m\u001b[0;34m\u001b[0m\u001b[0m\n\u001b[1;32m     27\u001b[0m                 \u001b[0;32mtry\u001b[0m\u001b[0;34m:\u001b[0m\u001b[0;34m\u001b[0m\u001b[0m\n\u001b[0;32m---> 28\u001b[0;31m                     \u001b[0mpid\u001b[0m\u001b[0;34m,\u001b[0m \u001b[0msts\u001b[0m \u001b[0;34m=\u001b[0m \u001b[0mos\u001b[0m\u001b[0;34m.\u001b[0m\u001b[0mwaitpid\u001b[0m\u001b[0;34m(\u001b[0m\u001b[0mself\u001b[0m\u001b[0;34m.\u001b[0m\u001b[0mpid\u001b[0m\u001b[0;34m,\u001b[0m \u001b[0mflag\u001b[0m\u001b[0;34m)\u001b[0m\u001b[0;34m\u001b[0m\u001b[0m\n\u001b[0m\u001b[1;32m     29\u001b[0m                 \u001b[0;32mexcept\u001b[0m \u001b[0mOSError\u001b[0m \u001b[0;32mas\u001b[0m \u001b[0me\u001b[0m\u001b[0;34m:\u001b[0m\u001b[0;34m\u001b[0m\u001b[0m\n\u001b[1;32m     30\u001b[0m                     \u001b[0;31m# Child process not yet created. See #1731717\u001b[0m\u001b[0;34m\u001b[0m\u001b[0;34m\u001b[0m\u001b[0m\n",
      "\u001b[0;31mKeyboardInterrupt\u001b[0m: "
     ]
    }
   ],
   "source": [
    "nf_trial(1, thres)"
   ]
  },
  {
   "cell_type": "markdown",
   "metadata": {},
   "source": [
    "## RS #1"
   ]
  },
  {
   "cell_type": "code",
   "execution_count": 29,
   "metadata": {},
   "outputs": [
    {
     "name": "stdout",
     "output_type": "stream",
     "text": [
      "Number of channels: 64\n",
      "Sampling interval: 200.0\n",
      "Resolutions: [0.5, 0.5, 0.5, 0.5, 0.5, 0.5, 0.5, 0.5, 0.5, 0.5, 0.5, 0.5, 0.5, 0.5, 0.5, 0.5, 0.5, 0.5, 0.5, 0.5, 0.5, 0.5, 0.5, 0.5, 0.5, 0.5, 0.5, 0.5, 0.5, 0.5, 0.5, 10.0, 0.5, 0.5, 0.5, 0.5, 0.5, 0.5, 0.5, 0.5, 0.5, 0.5, 0.5, 0.5, 0.5, 0.5, 0.5, 0.5, 0.5, 0.5, 0.5, 0.5, 0.5, 0.5, 0.5, 0.5, 0.5, 0.5, 0.5, 0.5, 0.5, 0.5, 0.5, 0.5]\n",
      "Channel Names: ['Fp1', 'Fp2', 'F3', 'F4', 'C3', 'C4', 'P3', 'P4', 'O1', 'O2', 'F7', 'F8', 'T7', 'T8', 'P7', 'P8', 'Fz', 'Cz', 'Pz', 'Oz', 'FC1', 'FC2', 'CP1', 'CP2', 'FC5', 'FC6', 'CP5', 'CP6', 'TP9', 'TP10', 'POz', 'ECG', 'F1', 'F2', 'C1', 'C2', 'P1', 'P2', 'AF3', 'AF4', 'FC3', 'FC4', 'CP3', 'CP4', 'PO3', 'PO4', 'F5', 'F6', 'C5', 'C6', 'P5', 'P6', 'AF7', 'AF8', 'FT7', 'FT8', 'TP7', 'TP8', 'PO7', 'PO8', 'FT9', 'FT10', 'Fpz', 'CPz']\n",
      "hdr SamplingInterval = 200.00\n",
      "bwBPF: {'f_low': 12, 'f_high': 15, 'order': 3}\n",
      "bwHPF: {'f': 50, 'order': 3}\n",
      "bwSimpleAverager: {'taps': 300, 'f': 2}\n",
      "bwSimpleAverager: {'taps': 300, 'f': 2}\n",
      "thr: 1.00, dur: 0.20\n",
      "bcinet is passed on\n",
      "thr: 50.00, dur: 0.15\n",
      "bcinet is passed on\n",
      "sending signal -- I ! - 4600 - 1 - True - -1\n",
      "sending signal! - 1 False - 90.68945405464781 -- 0.25\n",
      "sending signal! - 1 False - 262.2650702699367 -- 0.3\n",
      "sending signal! - 1 False - 292.4299814210539 -- 0.35\n",
      "sending signal! - 2 False - 301.8306019791089 -- 0.39999999999999997\n",
      "sending signal! - 2 False - 303.88099471723586 -- 0.44999999999999996\n",
      "FLIPPING/GOING THE THE MIDDLE AGAIN\n",
      "loop is stopped!\n",
      "amplifier stopped!\n"
     ]
    },
    {
     "data": {
      "text/plain": [
       "(DynamicArray(size=996700, capacity=1177600)([[-16383.5,  -6383. ,   1393. , ...,  -6125. ,   -111.5, -16383.5],\n",
       "        [-16383.5,  -6383.5,   1392. , ...,  -6125.5,   -112.5, -16383.5],\n",
       "        [-16383.5,  -6383.5,   1393. , ...,  -6126. ,   -112.5, -16383.5],\n",
       "        ...,\n",
       "        [ -7167.5,  -3044. ,   -435.5, ...,  -5990. ,   -966. ,  -6476.5],\n",
       "        [ -7166.5,  -3042.5,   -435.5, ...,  -5990.5,   -966. ,  -6464.5],\n",
       "        [ -7167. ,  -3043. ,   -435. , ...,  -5990. ,   -966.5,  -6454. ]]),\n",
       " ['Fp1',\n",
       "  'Fp2',\n",
       "  'F3',\n",
       "  'F4',\n",
       "  'C3',\n",
       "  'C4',\n",
       "  'P3',\n",
       "  'P4',\n",
       "  'O1',\n",
       "  'O2',\n",
       "  'F7',\n",
       "  'F8',\n",
       "  'T7',\n",
       "  'T8',\n",
       "  'P7',\n",
       "  'P8',\n",
       "  'Fz',\n",
       "  'Cz',\n",
       "  'Pz',\n",
       "  'Oz',\n",
       "  'FC1',\n",
       "  'FC2',\n",
       "  'CP1',\n",
       "  'CP2',\n",
       "  'FC5',\n",
       "  'FC6',\n",
       "  'CP5',\n",
       "  'CP6',\n",
       "  'TP9',\n",
       "  'TP10',\n",
       "  'POz',\n",
       "  'ECG',\n",
       "  'F1',\n",
       "  'F2',\n",
       "  'C1',\n",
       "  'C2',\n",
       "  'P1',\n",
       "  'P2',\n",
       "  'AF3',\n",
       "  'AF4',\n",
       "  'FC3',\n",
       "  'FC4',\n",
       "  'CP3',\n",
       "  'CP4',\n",
       "  'PO3',\n",
       "  'PO4',\n",
       "  'F5',\n",
       "  'F6',\n",
       "  'C5',\n",
       "  'C6',\n",
       "  'P5',\n",
       "  'P6',\n",
       "  'AF7',\n",
       "  'AF8',\n",
       "  'FT7',\n",
       "  'FT8',\n",
       "  'TP7',\n",
       "  'TP8',\n",
       "  'PO7',\n",
       "  'PO8',\n",
       "  'FT9',\n",
       "  'FT10',\n",
       "  'Fpz',\n",
       "  'CPz'],\n",
       " 5000)"
      ]
     },
     "execution_count": 29,
     "metadata": {},
     "output_type": "execute_result"
    }
   ],
   "source": [
    "nf_trial(0)"
   ]
  },
  {
   "cell_type": "markdown",
   "metadata": {},
   "source": [
    "## SMR-NF #2"
   ]
  },
  {
   "cell_type": "code",
   "execution_count": 71,
   "metadata": {},
   "outputs": [
    {
     "name": "stdout",
     "output_type": "stream",
     "text": [
      "Number of channels: 64\n",
      "Sampling interval: 200.0\n",
      "Resolutions: [0.5, 0.5, 0.5, 0.5, 0.5, 0.5, 0.5, 0.5, 0.5, 0.5, 0.5, 0.5, 0.5, 0.5, 0.5, 0.5, 0.5, 0.5, 0.5, 0.5, 0.5, 0.5, 0.5, 0.5, 0.5, 0.5, 0.5, 0.5, 0.5, 0.5, 0.5, 10.0, 0.5, 0.5, 0.5, 0.5, 0.5, 0.5, 0.5, 0.5, 0.5, 0.5, 0.5, 0.5, 0.5, 0.5, 0.5, 0.5, 0.5, 0.5, 0.5, 0.5, 0.5, 0.5, 0.5, 0.5, 0.5, 0.5, 0.5, 0.5, 0.5, 0.5, 0.5, 0.5]\n",
      "Channel Names: ['Fp1', 'Fp2', 'F3', 'F4', 'C3', 'C4', 'P3', 'P4', 'O1', 'O2', 'F7', 'F8', 'T7', 'T8', 'P7', 'P8', 'Fz', 'Cz', 'Pz', 'Oz', 'FC1', 'FC2', 'CP1', 'CP2', 'FC5', 'FC6', 'CP5', 'CP6', 'TP9', 'TP10', 'POz', 'ECG', 'F1', 'F2', 'C1', 'C2', 'P1', 'P2', 'AF3', 'AF4', 'FC3', 'FC4', 'CP3', 'CP4', 'PO3', 'PO4', 'F5', 'F6', 'C5', 'C6', 'P5', 'P6', 'AF7', 'AF8', 'FT7', 'FT8', 'TP7', 'TP8', 'PO7', 'PO8', 'FT9', 'FT10', 'Fpz', 'CPz']\n",
      "hdr SamplingInterval = 200.00\n",
      "bwBPF: {'f_low': 12, 'f_high': 15, 'order': 3}\n",
      "bwHPF: {'f': 50, 'order': 3}\n",
      "bwSimpleAverager: {'taps': 300, 'f': 2}\n",
      "bwSimpleAverager: {'taps': 300, 'f': 2}\n",
      "thr: 1.00, dur: 0.20\n",
      "bcinet is passed on\n",
      "thr: 50.00, dur: 0.15\n",
      "bcinet is passed on\n",
      "sending signal -- I ! - 2100 - 1 - True - -1\n",
      "sending signal! - 1 False - 33.38311757806953 -- 0.25\n",
      "sending signal! - 2 False - 109.61820000337299 -- 0.3\n",
      "sending signal! - 2 False - 124.18944460977542 -- 0.35\n",
      "sending signal! - 4 False - 128.75989323215157 -- 0.39999999999999997\n",
      "sending signal! - 7 False - 129.49746770883044 -- 0.44999999999999996\n",
      "FLIPPING/GOING THE THE MIDDLE AGAIN\n",
      "FLIPPING/GOING THE THE MIDDLE AGAIN\n",
      "FLIPPING/GOING THE THE MIDDLE AGAIN\n",
      "FLIPPING/GOING THE THE MIDDLE AGAIN\n"
     ]
    },
    {
     "name": "stderr",
     "output_type": "stream",
     "text": [
      "WARNING:wyrm.types:Discarding data that was longer than the ring buffer.\n"
     ]
    },
    {
     "name": "stdout",
     "output_type": "stream",
     "text": [
      "FLIPPING/GOING THE THE MIDDLE AGAIN\n",
      "loop is stopped!\n",
      "amplifier stopped!\n"
     ]
    },
    {
     "data": {
      "text/plain": [
       "(DynamicArray(size=2710000, capacity=4300800)([[-7186.5, -3051. ,  -441.5, ..., -6005. ,  -971.5, -6483.5],\n",
       "        [-7186.5, -3050.5,  -441. , ..., -6005.5,  -971.5, -6470.5],\n",
       "        [-7186. , -3051. ,  -441. , ..., -6005.5,  -971.5, -6458.5],\n",
       "        ...,\n",
       "        [-8710.5, -5084.5, -9333.5, ..., -9683.5, -9135.5, -8559.5],\n",
       "        [-8710. , -5084.5, -9333. , ..., -9683.5, -9136.5, -8552. ],\n",
       "        [-8710. , -5085. , -9334. , ..., -9683.5, -9135.5, -8545. ]]),\n",
       " ['Fp1',\n",
       "  'Fp2',\n",
       "  'F3',\n",
       "  'F4',\n",
       "  'C3',\n",
       "  'C4',\n",
       "  'P3',\n",
       "  'P4',\n",
       "  'O1',\n",
       "  'O2',\n",
       "  'F7',\n",
       "  'F8',\n",
       "  'T7',\n",
       "  'T8',\n",
       "  'P7',\n",
       "  'P8',\n",
       "  'Fz',\n",
       "  'Cz',\n",
       "  'Pz',\n",
       "  'Oz',\n",
       "  'FC1',\n",
       "  'FC2',\n",
       "  'CP1',\n",
       "  'CP2',\n",
       "  'FC5',\n",
       "  'FC6',\n",
       "  'CP5',\n",
       "  'CP6',\n",
       "  'TP9',\n",
       "  'TP10',\n",
       "  'POz',\n",
       "  'ECG',\n",
       "  'F1',\n",
       "  'F2',\n",
       "  'C1',\n",
       "  'C2',\n",
       "  'P1',\n",
       "  'P2',\n",
       "  'AF3',\n",
       "  'AF4',\n",
       "  'FC3',\n",
       "  'FC4',\n",
       "  'CP3',\n",
       "  'CP4',\n",
       "  'PO3',\n",
       "  'PO4',\n",
       "  'F5',\n",
       "  'F6',\n",
       "  'C5',\n",
       "  'C6',\n",
       "  'P5',\n",
       "  'P6',\n",
       "  'AF7',\n",
       "  'AF8',\n",
       "  'FT7',\n",
       "  'FT8',\n",
       "  'TP7',\n",
       "  'TP8',\n",
       "  'PO7',\n",
       "  'PO8',\n",
       "  'FT9',\n",
       "  'FT10',\n",
       "  'Fpz',\n",
       "  'CPz'],\n",
       " 5000)"
      ]
     },
     "execution_count": 71,
     "metadata": {},
     "output_type": "execute_result"
    }
   ],
   "source": [
    "nf_trial(1, thres)"
   ]
  },
  {
   "cell_type": "markdown",
   "metadata": {},
   "source": [
    "## RS #2"
   ]
  },
  {
   "cell_type": "code",
   "execution_count": 72,
   "metadata": {},
   "outputs": [
    {
     "name": "stdout",
     "output_type": "stream",
     "text": [
      "Number of channels: 64\n",
      "Sampling interval: 200.0\n",
      "Resolutions: [0.5, 0.5, 0.5, 0.5, 0.5, 0.5, 0.5, 0.5, 0.5, 0.5, 0.5, 0.5, 0.5, 0.5, 0.5, 0.5, 0.5, 0.5, 0.5, 0.5, 0.5, 0.5, 0.5, 0.5, 0.5, 0.5, 0.5, 0.5, 0.5, 0.5, 0.5, 10.0, 0.5, 0.5, 0.5, 0.5, 0.5, 0.5, 0.5, 0.5, 0.5, 0.5, 0.5, 0.5, 0.5, 0.5, 0.5, 0.5, 0.5, 0.5, 0.5, 0.5, 0.5, 0.5, 0.5, 0.5, 0.5, 0.5, 0.5, 0.5, 0.5, 0.5, 0.5, 0.5]\n",
      "Channel Names: ['Fp1', 'Fp2', 'F3', 'F4', 'C3', 'C4', 'P3', 'P4', 'O1', 'O2', 'F7', 'F8', 'T7', 'T8', 'P7', 'P8', 'Fz', 'Cz', 'Pz', 'Oz', 'FC1', 'FC2', 'CP1', 'CP2', 'FC5', 'FC6', 'CP5', 'CP6', 'TP9', 'TP10', 'POz', 'ECG', 'F1', 'F2', 'C1', 'C2', 'P1', 'P2', 'AF3', 'AF4', 'FC3', 'FC4', 'CP3', 'CP4', 'PO3', 'PO4', 'F5', 'F6', 'C5', 'C6', 'P5', 'P6', 'AF7', 'AF8', 'FT7', 'FT8', 'TP7', 'TP8', 'PO7', 'PO8', 'FT9', 'FT10', 'Fpz', 'CPz']\n",
      "hdr SamplingInterval = 200.00\n",
      "bwBPF: {'f_low': 12, 'f_high': 15, 'order': 3}\n",
      "bwHPF: {'f': 50, 'order': 3}\n",
      "bwSimpleAverager: {'taps': 300, 'f': 2}\n",
      "bwSimpleAverager: {'taps': 300, 'f': 2}\n",
      "thr: 1.00, dur: 0.20\n",
      "bcinet is passed on\n",
      "thr: 50.00, dur: 0.15\n",
      "bcinet is passed on\n",
      "sending signal -- I ! - 2400 - 1 - True - -1\n",
      "sending signal! - 1 False - 67.00352826387166 -- 0.25\n",
      "sending signal! - 1 False - 194.5330683718512 -- 0.3\n",
      "sending signal! - 2 False - 216.87817649156457 -- 0.35\n",
      "sending signal! - 4 False - 223.79147490853208 -- 0.39999999999999997\n",
      "sending signal! - 6 False - 225.22618374542438 -- 0.44999999999999996\n",
      "FLIPPING/GOING THE THE MIDDLE AGAIN\n"
     ]
    },
    {
     "name": "stderr",
     "output_type": "stream",
     "text": [
      "WARNING:wyrm.types:Discarding data that was longer than the ring buffer.\n"
     ]
    },
    {
     "name": "stdout",
     "output_type": "stream",
     "text": [
      "FLIPPING/GOING THE THE MIDDLE AGAIN\n",
      "loop is stopped!\n",
      "amplifier stopped!\n"
     ]
    },
    {
     "data": {
      "text/plain": [
       "(DynamicArray(size=1010400, capacity=1228800)([[-8712.5, -5085. , -9337. , ..., -9685. , -9138.5, -8515. ],\n",
       "        [-8712. , -5085. , -9337. , ..., -9685.5, -9138.5, -8505.5],\n",
       "        [-8712.5, -5085. , -9336. , ..., -9685.5, -9139.5, -8496. ],\n",
       "        ...,\n",
       "        [-1804. ,  -842. , -1902. , ..., -2437.5, -1910. , -1435. ],\n",
       "        [-1804. ,  -841.5, -1902. , ..., -2436.5, -1910. , -1445. ],\n",
       "        [-1804. ,  -842.5, -1902. , ..., -2436. , -1910. , -1454.5]]),\n",
       " ['Fp1',\n",
       "  'Fp2',\n",
       "  'F3',\n",
       "  'F4',\n",
       "  'C3',\n",
       "  'C4',\n",
       "  'P3',\n",
       "  'P4',\n",
       "  'O1',\n",
       "  'O2',\n",
       "  'F7',\n",
       "  'F8',\n",
       "  'T7',\n",
       "  'T8',\n",
       "  'P7',\n",
       "  'P8',\n",
       "  'Fz',\n",
       "  'Cz',\n",
       "  'Pz',\n",
       "  'Oz',\n",
       "  'FC1',\n",
       "  'FC2',\n",
       "  'CP1',\n",
       "  'CP2',\n",
       "  'FC5',\n",
       "  'FC6',\n",
       "  'CP5',\n",
       "  'CP6',\n",
       "  'TP9',\n",
       "  'TP10',\n",
       "  'POz',\n",
       "  'ECG',\n",
       "  'F1',\n",
       "  'F2',\n",
       "  'C1',\n",
       "  'C2',\n",
       "  'P1',\n",
       "  'P2',\n",
       "  'AF3',\n",
       "  'AF4',\n",
       "  'FC3',\n",
       "  'FC4',\n",
       "  'CP3',\n",
       "  'CP4',\n",
       "  'PO3',\n",
       "  'PO4',\n",
       "  'F5',\n",
       "  'F6',\n",
       "  'C5',\n",
       "  'C6',\n",
       "  'P5',\n",
       "  'P6',\n",
       "  'AF7',\n",
       "  'AF8',\n",
       "  'FT7',\n",
       "  'FT8',\n",
       "  'TP7',\n",
       "  'TP8',\n",
       "  'PO7',\n",
       "  'PO8',\n",
       "  'FT9',\n",
       "  'FT10',\n",
       "  'Fpz',\n",
       "  'CPz'],\n",
       " 5000)"
      ]
     },
     "execution_count": 72,
     "metadata": {},
     "output_type": "execute_result"
    }
   ],
   "source": [
    "nf_trial(0) "
   ]
  },
  {
   "cell_type": "markdown",
   "metadata": {},
   "source": [
    "## SMR-NF #3"
   ]
  },
  {
   "cell_type": "code",
   "execution_count": 93,
   "metadata": {},
   "outputs": [
    {
     "name": "stdout",
     "output_type": "stream",
     "text": [
      "ERROR: Could not find file <ipython-input-92-2335fb02f3be>\n",
      "NOTE: %mprun can only be used on functions defined in physical files, and not in the IPython environment.\n",
      "Number of channels: 64\n",
      "Sampling interval: 200.0\n",
      "Resolutions: [0.5, 0.5, 0.5, 0.5, 0.5, 0.5, 0.5, 0.5, 0.5, 0.5, 0.5, 0.5, 0.5, 0.5, 0.5, 0.5, 0.5, 0.5, 0.5, 0.5, 0.5, 0.5, 0.5, 0.5, 0.5, 0.5, 0.5, 0.5, 0.5, 0.5, 0.5, 10.0, 0.5, 0.5, 0.5, 0.5, 0.5, 0.5, 0.5, 0.5, 0.5, 0.5, 0.5, 0.5, 0.5, 0.5, 0.5, 0.5, 0.5, 0.5, 0.5, 0.5, 0.5, 0.5, 0.5, 0.5, 0.5, 0.5, 0.5, 0.5, 0.5, 0.5, 0.5, 0.5]\n",
      "Channel Names: ['Fp1', 'Fp2', 'F3', 'F4', 'C3', 'C4', 'P3', 'P4', 'O1', 'O2', 'F7', 'F8', 'T7', 'T8', 'P7', 'P8', 'Fz', 'Cz', 'Pz', 'Oz', 'FC1', 'FC2', 'CP1', 'CP2', 'FC5', 'FC6', 'CP5', 'CP6', 'TP9', 'TP10', 'POz', 'ECG', 'F1', 'F2', 'C1', 'C2', 'P1', 'P2', 'AF3', 'AF4', 'FC3', 'FC4', 'CP3', 'CP4', 'PO3', 'PO4', 'F5', 'F6', 'C5', 'C6', 'P5', 'P6', 'AF7', 'AF8', 'FT7', 'FT8', 'TP7', 'TP8', 'PO7', 'PO8', 'FT9', 'FT10', 'Fpz', 'CPz']\n",
      "hdr SamplingInterval = 200.00\n",
      "bwBPF: {'f_low': 12, 'f_high': 15, 'order': 3}\n",
      "bwHPF: {'f': 50, 'order': 3}\n",
      "bwSimpleAverager: {'taps': 300, 'f': 2}\n",
      "bwSimpleAverager: {'taps': 300, 'f': 2}\n",
      "thr: 1.00, dur: 0.20\n",
      "bcinet is passed on\n",
      "thr: 50.00, dur: 0.15\n",
      "bcinet is passed on\n",
      "*** Overflow with 3 datablocks ***\n",
      "*** Overflow with 2 datablocks ***\n",
      "*** Overflow with 4 datablocks ***\n",
      "*** Overflow with 6 datablocks ***\n",
      "*** Overflow with 4 datablocks ***\n",
      "*** Overflow with 6 datablocks ***\n",
      "*** Overflow with 5 datablocks ***\n",
      "*** Overflow with 8 datablocks ***\n",
      "*** Overflow with 5 datablocks ***\n",
      "*** Overflow with 4 datablocks ***\n",
      "*** Overflow with 4 datablocks ***\n",
      "*** Overflow with 6 datablocks ***\n",
      "*** Overflow with 7 datablocks ***\n",
      "*** Overflow with 9 datablocks ***\n",
      "sending signal -- I ! - 3000 - 1 - True - -1\n",
      "sending signal! - 1 False - 14.142933728829727 -- 0.25\n",
      "sending signal! - 1 False - 40.17909531358205 -- 0.3\n",
      "*** Overflow with 5 datablocks ***\n",
      "*** Overflow with 7 datablocks ***\n",
      "*** Overflow with 3 datablocks ***\n",
      "*** Overflow with 5 datablocks ***\n",
      "*** Overflow with 6 datablocks ***\n",
      "*** Overflow with 5 datablocks ***\n",
      "*** Overflow with 6 datablocks ***\n",
      "*** Overflow with 4 datablocks ***\n",
      "*** Overflow with 5 datablocks ***\n",
      "*** Overflow with 4 datablocks ***\n",
      "*** Overflow with 7 datablocks ***\n",
      "*** Overflow with 5 datablocks ***\n",
      "*** Overflow with 9 datablocks ***\n",
      "*** Overflow with 5 datablocks ***\n",
      "*** Overflow with 4 datablocks ***\n",
      "*** Overflow with 5 datablocks ***\n",
      "*** Overflow with 4 datablocks ***\n",
      "*** Overflow with 6 datablocks ***\n",
      "*** Overflow with 4 datablocks ***\n",
      "*** Overflow with 5 datablocks ***\n",
      "*** Overflow with 6 datablocks ***\n",
      "*** Overflow with 5 datablocks ***\n",
      "*** Overflow with 5 datablocks ***\n",
      "sending signal! - 2 False - 45.28071462144691 -- 0.35\n",
      "sending signal! - 2 False - 51.813641769429864 -- 0.39999999999999997\n",
      "*** Overflow with 5 datablocks ***\n",
      "*** Overflow with 5 datablocks ***\n",
      "sending signal! - 2 False - 58.94339187890159 -- 0.44999999999999996\n",
      "sending signal! - 2 False - 66.39702954925279 -- 0.49999999999999994\n",
      "sending signal! - 2 False - 77.35310567234882 -- 0.5499999999999999\n",
      "*** Overflow with 4 datablocks ***\n",
      "*** Overflow with 6 datablocks ***\n",
      "sending signal! - 2 False - 87.88240544647833 -- 0.6\n",
      "sending signal -- I ! - 15300 - 2 - True - -1\n",
      "sending signal! - 2 False - 1.3194746848727035 -- 0.25\n",
      "*** Overflow with 6 datablocks ***\n",
      "*** Overflow with 5 datablocks ***\n",
      "*** Overflow with 5 datablocks ***\n",
      "*** Overflow with 6 datablocks ***\n",
      "*** Overflow with 6 datablocks ***\n",
      "*** Overflow with 6 datablocks ***\n",
      "*** Overflow with 5 datablocks ***\n",
      "*** Overflow with 7 datablocks ***\n",
      "*** Overflow with 6 datablocks ***\n",
      "*** Overflow with 7 datablocks ***\n",
      "*** Overflow with 8 datablocks ***\n",
      "*** Overflow with 7 datablocks ***\n",
      "*** Overflow with 7 datablocks ***\n",
      "*** Overflow with 5 datablocks ***\n"
     ]
    },
    {
     "name": "stderr",
     "output_type": "stream",
     "text": [
      "WARNING:wyrm.types:Discarding data that was longer than the ring buffer.\n"
     ]
    },
    {
     "name": "stdout",
     "output_type": "stream",
     "text": [
      "*** Overflow with 6 datablocks ***\n",
      "*** Overflow with 5 datablocks ***\n",
      "*** Overflow with 5 datablocks ***\n",
      "sending signal! - 3 False - 4.464869961623511 -- 0.3\n",
      "sending signal! - 3 False - 9.929355769563335 -- 0.35\n",
      "sending signal! - 3 False - 13.14639975347334 -- 0.39999999999999997\n",
      "*** Overflow with 6 datablocks ***\n",
      "*** Overflow with 6 datablocks ***\n",
      "sending signal! - 3 False - 17.07924679978802 -- 0.44999999999999996\n",
      "sending signal! - 3 False - 19.845928526265144 -- 0.49999999999999994\n",
      "*** Overflow with 6 datablocks ***\n",
      "sending signal! - 3 False - 28.100207622547668 -- 0.5499999999999999\n",
      "*** Overflow with 9 datablocks ***\n",
      "*** Overflow with 4 datablocks ***\n",
      "*** Overflow with 5 datablocks ***\n",
      "*** Overflow with 6 datablocks ***\n",
      "*** Overflow with 6 datablocks ***\n",
      "*** Overflow with 5 datablocks ***\n",
      "*** Overflow with 5 datablocks ***\n",
      "*** Overflow with 8 datablocks ***\n",
      "*** Overflow with 9 datablocks ***\n",
      "*** Overflow with 8 datablocks ***\n",
      "*** Overflow with 7 datablocks ***\n",
      "*** Overflow with 8 datablocks ***\n",
      "*** Overflow with 7 datablocks ***\n",
      "*** Overflow with 7 datablocks ***\n",
      "*** Overflow with 8 datablocks ***\n"
     ]
    },
    {
     "name": "stderr",
     "output_type": "stream",
     "text": [
      "WARNING:wyrm.types:Discarding data that was longer than the ring buffer.\n"
     ]
    },
    {
     "name": "stdout",
     "output_type": "stream",
     "text": [
      "*** Overflow with 6 datablocks ***\n",
      "*** Overflow with 4 datablocks ***\n",
      "*** Overflow with 6 datablocks ***\n",
      "sending signal! - 4 False - 40.20085906278032 -- 0.6\n",
      "sending signal! - 4 False - 44.669045340763596 -- 0.65\n",
      "*** Overflow with 5 datablocks ***\n",
      "*** Overflow with 6 datablocks ***\n",
      "*** Overflow with 7 datablocks ***\n",
      "sending signal! - 4 False - 51.926375396750686 -- 0.7000000000000001\n",
      "sending signal! - 4 False - 59.01163099290382 -- 0.7500000000000001\n",
      "*** Overflow with 14 datablocks ***\n",
      "*** Overflow with 7 datablocks ***\n",
      "*** Overflow with 7 datablocks ***\n",
      "*** Overflow with 5 datablocks ***\n",
      "*** Overflow with 6 datablocks ***\n",
      "*** Overflow with 8 datablocks ***\n",
      "*** Overflow with 7 datablocks ***\n",
      "*** Overflow with 5 datablocks ***\n",
      "*** Overflow with 8 datablocks ***\n",
      "*** Overflow with 7 datablocks ***\n",
      "*** Overflow with 8 datablocks ***\n"
     ]
    },
    {
     "name": "stderr",
     "output_type": "stream",
     "text": [
      "WARNING:wyrm.types:Discarding data that was longer than the ring buffer.\n"
     ]
    },
    {
     "name": "stdout",
     "output_type": "stream",
     "text": [
      "*** Overflow with 5 datablocks ***\n",
      "*** Overflow with 10 datablocks ***\n",
      "sending signal! - 5 False - 76.65788408630182 -- 0.8000000000000002\n",
      "*** Overflow with 5 datablocks ***\n",
      "*** Overflow with 6 datablocks ***\n",
      "*** Overflow with 6 datablocks ***\n",
      "sending signal! - 5 False - 90.9513689464597 -- 0.8500000000000002\n",
      "*** Overflow with 6 datablocks ***\n",
      "*** Overflow with 8 datablocks ***\n",
      "sending signal! - 5 False - 107.3068573418795 -- 0.9000000000000002\n",
      "*** Overflow with 4 datablocks ***\n",
      "*** Overflow with 8 datablocks ***\n",
      "*** Overflow with 9 datablocks ***\n",
      "*** Overflow with 7 datablocks ***\n",
      "*** Overflow with 8 datablocks ***\n",
      "*** Overflow with 6 datablocks ***\n",
      "*** Overflow with 9 datablocks ***\n",
      "*** Overflow with 6 datablocks ***\n",
      "*** Overflow with 7 datablocks ***\n"
     ]
    },
    {
     "name": "stderr",
     "output_type": "stream",
     "text": [
      "WARNING:wyrm.types:Discarding data that was longer than the ring buffer.\n"
     ]
    },
    {
     "name": "stdout",
     "output_type": "stream",
     "text": [
      "*** Overflow with 7 datablocks ***\n",
      "*** Overflow with 7 datablocks ***\n",
      "*** Overflow with 6 datablocks ***\n",
      "*** Overflow with 7 datablocks ***\n",
      "sending signal! - 6 False - 124.52602617638172 -- 0.9500000000000003\n",
      "*** Overflow with 5 datablocks ***\n",
      "*** Overflow with 6 datablocks ***\n",
      "*** Overflow with 8 datablocks ***\n",
      "*** Overflow with 4 datablocks ***\n",
      "*** Overflow with 6 datablocks ***\n",
      "*** Overflow with 6 datablocks ***\n",
      "*** Overflow with 6 datablocks ***\n",
      "*** Overflow with 6 datablocks ***\n",
      "*** Overflow with 9 datablocks ***\n",
      "*** Overflow with 6 datablocks ***\n",
      "*** Overflow with 7 datablocks ***\n"
     ]
    },
    {
     "name": "stderr",
     "output_type": "stream",
     "text": [
      "WARNING:wyrm.types:Discarding data that was longer than the ring buffer.\n"
     ]
    },
    {
     "name": "stdout",
     "output_type": "stream",
     "text": [
      "*** Overflow with 7 datablocks ***\n",
      "*** Overflow with 5 datablocks ***\n",
      "sending signal! - 6 False - 139.43002624270633 -- 1.0000000000000002\n",
      "sending signal! - 7 False - 154.8947066862545 -- 1.0500000000000003\n",
      "*** Overflow with 6 datablocks ***\n",
      "*** Overflow with 6 datablocks ***\n",
      "sending signal! - 7 False - 176.7121909758762 -- 1.1000000000000003\n",
      "sending signal -- I ! - 9600 - 7 - True - -1\n",
      "sending signal! - 7 False - 0.8442611114385773 -- 0.25\n",
      "*** Overflow with 7 datablocks ***\n",
      "*** Overflow with 5 datablocks ***\n",
      "*** Overflow with 7 datablocks ***\n",
      "*** Overflow with 7 datablocks ***\n",
      "*** Overflow with 7 datablocks ***\n",
      "*** Overflow with 6 datablocks ***\n",
      "*** Overflow with 6 datablocks ***\n",
      "*** Overflow with 6 datablocks ***\n",
      "*** Overflow with 10 datablocks ***\n",
      "*** Overflow with 6 datablocks ***\n",
      "*** Overflow with 7 datablocks ***\n"
     ]
    },
    {
     "name": "stderr",
     "output_type": "stream",
     "text": [
      "WARNING:wyrm.types:Discarding data that was longer than the ring buffer.\n"
     ]
    },
    {
     "name": "stdout",
     "output_type": "stream",
     "text": [
      "*** Overflow with 6 datablocks ***\n",
      "*** Overflow with 6 datablocks ***\n",
      "sending signal! - 8 False - 3.0331887076666555 -- 0.3\n",
      "sending signal! - 8 False - 8.745990846755827 -- 0.35\n",
      "sending signal! - 8 False - 14.941302411049305 -- 0.39999999999999997\n",
      "*** Overflow with 7 datablocks ***\n",
      "*** Overflow with 6 datablocks ***\n",
      "*** Overflow with 5 datablocks ***\n",
      "sending signal! - 8 False - 24.39993216081452 -- 0.44999999999999996\n",
      "sending signal! - 8 False - 31.136743996064066 -- 0.49999999999999994\n",
      "*** Overflow with 6 datablocks ***\n",
      "*** Overflow with 5 datablocks ***\n",
      "*** Overflow with 6 datablocks ***\n",
      "*** Overflow with 6 datablocks ***\n",
      "*** Overflow with 6 datablocks ***\n",
      "*** Overflow with 5 datablocks ***\n",
      "*** Overflow with 4 datablocks ***\n",
      "*** Overflow with 7 datablocks ***\n",
      "*** Overflow with 8 datablocks ***\n"
     ]
    },
    {
     "name": "stderr",
     "output_type": "stream",
     "text": [
      "WARNING:wyrm.types:Discarding data that was longer than the ring buffer.\n"
     ]
    },
    {
     "name": "stdout",
     "output_type": "stream",
     "text": [
      "*** Overflow with 8 datablocks ***\n",
      "*** Overflow with 7 datablocks ***\n",
      "sending signal! - 9 False - 35.071544587730955 -- 0.5499999999999999\n",
      "sending signal! - 9 False - 41.34477878413524 -- 0.6\n",
      "*** Overflow with 6 datablocks ***\n",
      "*** Overflow with 7 datablocks ***\n",
      "sending signal! - 9 False - 49.51109325837238 -- 0.65\n",
      "*** Overflow with 4 datablocks ***\n",
      "*** Overflow with 6 datablocks ***\n",
      "*** Overflow with 8 datablocks ***\n",
      "*** Overflow with 4 datablocks ***\n",
      "*** Overflow with 8 datablocks ***\n",
      "*** Overflow with 7 datablocks ***\n",
      "*** Overflow with 8 datablocks ***\n",
      "*** Overflow with 5 datablocks ***\n"
     ]
    },
    {
     "name": "stderr",
     "output_type": "stream",
     "text": [
      "WARNING:wyrm.types:Discarding data that was longer than the ring buffer.\n"
     ]
    },
    {
     "name": "stdout",
     "output_type": "stream",
     "text": [
      "*** Overflow with 7 datablocks ***\n",
      "*** Overflow with 7 datablocks ***\n",
      "*** Overflow with 9 datablocks ***\n",
      "sending signal! - 10 False - 65.75742709661462 -- 0.7000000000000001\n",
      "*** Overflow with 5 datablocks ***\n",
      "*** Overflow with 7 datablocks ***\n",
      "sending signal! - 10 False - 82.39190416221685 -- 0.7500000000000001\n",
      "*** Overflow with 6 datablocks ***\n",
      "*** Overflow with 5 datablocks ***\n",
      "*** Overflow with 8 datablocks ***\n",
      "*** Overflow with 7 datablocks ***\n",
      "*** Overflow with 6 datablocks ***\n",
      "*** Overflow with 6 datablocks ***\n",
      "*** Overflow with 6 datablocks ***\n",
      "*** Overflow with 8 datablocks ***\n"
     ]
    },
    {
     "name": "stderr",
     "output_type": "stream",
     "text": [
      "WARNING:wyrm.types:Discarding data that was longer than the ring buffer.\n"
     ]
    },
    {
     "name": "stdout",
     "output_type": "stream",
     "text": [
      "*** Overflow with 10 datablocks ***\n",
      "*** Overflow with 5 datablocks ***\n",
      "*** Overflow with 6 datablocks ***\n",
      "sending signal! - 11 False - 101.46842051919585 -- 0.8000000000000002\n",
      "*** Overflow with 7 datablocks ***\n",
      "*** Overflow with 6 datablocks ***\n",
      "sending signal! - 11 False - 116.95529765854899 -- 0.8500000000000002\n",
      "*** Overflow with 6 datablocks ***\n",
      "*** Overflow with 6 datablocks ***\n",
      "*** Overflow with 7 datablocks ***\n",
      "*** Overflow with 5 datablocks ***\n",
      "*** Overflow with 7 datablocks ***\n",
      "*** Overflow with 6 datablocks ***\n",
      "*** Overflow with 11 datablocks ***\n",
      "*** Overflow with 10 datablocks ***\n",
      "*** Overflow with 7 datablocks ***\n"
     ]
    },
    {
     "name": "stderr",
     "output_type": "stream",
     "text": [
      "WARNING:wyrm.types:Discarding data that was longer than the ring buffer.\n"
     ]
    },
    {
     "name": "stdout",
     "output_type": "stream",
     "text": [
      "*** Overflow with 5 datablocks ***\n",
      "sending signal -- I ! - 9900 - 12 - True - -1\n",
      "sending signal! - 12 False - 1.157859566713926 -- 0.25\n",
      "sending signal! - 12 False - 6.000873624622279 -- 0.3\n",
      "*** Overflow with 6 datablocks ***\n",
      "*** Overflow with 5 datablocks ***\n",
      "*** Overflow with 7 datablocks ***\n",
      "sending signal! - 12 False - 10.981422318413781 -- 0.35\n",
      "sending signal! - 12 False - 14.614717519726913 -- 0.39999999999999997\n",
      "*** Overflow with 7 datablocks ***\n",
      "*** Overflow with 7 datablocks ***\n",
      "sending signal! - 12 False - 20.834534099558738 -- 0.44999999999999996\n",
      "sending signal! - 12 False - 28.55194131818935 -- 0.49999999999999994\n",
      "*** Overflow with 4 datablocks ***\n",
      "*** Overflow with 6 datablocks ***\n",
      "*** Overflow with 5 datablocks ***\n",
      "*** Overflow with 7 datablocks ***\n",
      "*** Overflow with 4 datablocks ***\n",
      "*** Overflow with 9 datablocks ***\n"
     ]
    },
    {
     "name": "stderr",
     "output_type": "stream",
     "text": [
      "WARNING:wyrm.types:Discarding data that was longer than the ring buffer.\n"
     ]
    },
    {
     "name": "stdout",
     "output_type": "stream",
     "text": [
      "*** Overflow with 11 datablocks ***\n",
      "sending signal! - 13 False - 38.76755514317587 -- 0.5499999999999999\n",
      "*** Overflow with 8 datablocks ***\n",
      "*** Overflow with 7 datablocks ***\n",
      "sending signal! - 13 False - 53.064796799125205 -- 0.6\n",
      "*** Overflow with 9 datablocks ***\n",
      "*** Overflow with 8 datablocks ***\n",
      "*** Overflow with 6 datablocks ***\n",
      "*** Overflow with 6 datablocks ***\n",
      "*** Overflow with 7 datablocks ***\n",
      "*** Overflow with 7 datablocks ***\n",
      "*** Overflow with 8 datablocks ***\n"
     ]
    },
    {
     "name": "stderr",
     "output_type": "stream",
     "text": [
      "WARNING:wyrm.types:Discarding data that was longer than the ring buffer.\n"
     ]
    },
    {
     "name": "stdout",
     "output_type": "stream",
     "text": [
      "*** Overflow with 8 datablocks ***\n",
      "*** Overflow with 5 datablocks ***\n",
      "sending signal! - 14 False - 69.68640110736526 -- 0.65\n",
      "sending signal! - 14 False - 84.21839627590813 -- 0.7000000000000001\n",
      "*** Overflow with 7 datablocks ***\n",
      "*** Overflow with 21 datablocks ***\n",
      "*** Overflow with 5 datablocks ***\n",
      "sending signal! - 14 False - 95.37609743968989 -- 0.7500000000000001\n",
      "*** Overflow with 8 datablocks ***\n",
      "*** Overflow with 6 datablocks ***\n",
      "*** Overflow with 7 datablocks ***\n",
      "*** Overflow with 7 datablocks ***\n",
      "*** Overflow with 8 datablocks ***\n",
      "*** Overflow with 7 datablocks ***\n",
      "*** Overflow with 8 datablocks ***\n"
     ]
    },
    {
     "name": "stderr",
     "output_type": "stream",
     "text": [
      "WARNING:wyrm.types:Discarding data that was longer than the ring buffer.\n"
     ]
    },
    {
     "name": "stdout",
     "output_type": "stream",
     "text": [
      "*** Overflow with 7 datablocks ***\n",
      "*** Overflow with 7 datablocks ***\n",
      "*** Overflow with 13 datablocks ***\n",
      "sending signal! - 15 False - 114.1503457195418 -- 0.8000000000000002\n",
      "*** Overflow with 9 datablocks ***\n",
      "sending signal! - 15 False - 126.72824630803511 -- 0.8500000000000002\n",
      "*** Overflow with 5 datablocks ***\n",
      "*** Overflow with 8 datablocks ***\n",
      "*** Overflow with 7 datablocks ***\n",
      "*** Overflow with 6 datablocks ***\n",
      "*** Overflow with 7 datablocks ***\n",
      "*** Overflow with 7 datablocks ***\n",
      "*** Overflow with 6 datablocks ***\n",
      "*** Overflow with 6 datablocks ***\n",
      "*** Overflow with 9 datablocks ***\n"
     ]
    },
    {
     "name": "stderr",
     "output_type": "stream",
     "text": [
      "WARNING:wyrm.types:Discarding data that was longer than the ring buffer.\n"
     ]
    },
    {
     "name": "stdout",
     "output_type": "stream",
     "text": [
      "*** Overflow with 9 datablocks ***\n",
      "*** Overflow with 4 datablocks ***\n",
      "*** Overflow with 10 datablocks ***\n",
      "sending signal! - 16 False - 152.069205808896 -- 0.9000000000000002\n",
      "*** Overflow with 14 datablocks ***\n",
      "*** Overflow with 9 datablocks ***\n",
      "*** Overflow with 6 datablocks ***\n",
      "sending signal! - 16 False - 165.8376462839688 -- 0.9500000000000003\n",
      "*** Overflow with 5 datablocks ***\n",
      "*** Overflow with 7 datablocks ***\n",
      "*** Overflow with 7 datablocks ***\n",
      "*** Overflow with 8 datablocks ***\n",
      "*** Overflow with 6 datablocks ***\n",
      "*** Overflow with 5 datablocks ***\n",
      "*** Overflow with 6 datablocks ***\n",
      "*** Overflow with 9 datablocks ***\n",
      "*** Overflow with 7 datablocks ***\n",
      "*** Overflow with 8 datablocks ***\n"
     ]
    },
    {
     "name": "stderr",
     "output_type": "stream",
     "text": [
      "WARNING:wyrm.types:Discarding data that was longer than the ring buffer.\n"
     ]
    },
    {
     "name": "stdout",
     "output_type": "stream",
     "text": [
      "*** Overflow with 8 datablocks ***\n",
      "*** Overflow with 11 datablocks ***\n",
      "*** Overflow with 6 datablocks ***\n",
      "*** Overflow with 5 datablocks ***\n",
      "sending signal! - 17 False - 180.3224168717535 -- 1.0000000000000002\n",
      "*** Overflow with 7 datablocks ***\n",
      "*** Overflow with 6 datablocks ***\n",
      "sending signal! - 17 False - 198.38497166134022 -- 1.0500000000000003\n",
      "*** Overflow with 6 datablocks ***\n",
      "*** Overflow with 7 datablocks ***\n",
      "*** Overflow with 7 datablocks ***\n",
      "*** Overflow with 7 datablocks ***\n",
      "*** Overflow with 10 datablocks ***\n",
      "*** Overflow with 15 datablocks ***\n",
      "*** Overflow with 16 datablocks ***\n",
      "*** Overflow with 7 datablocks ***\n",
      "*** Overflow with 7 datablocks ***\n",
      "*** Overflow with 6 datablocks ***\n",
      "*** Overflow with 7 datablocks ***\n",
      "*** Overflow with 6 datablocks ***\n",
      "*** Overflow with 9 datablocks ***\n",
      "*** Overflow with 9 datablocks ***\n"
     ]
    },
    {
     "name": "stderr",
     "output_type": "stream",
     "text": [
      "WARNING:wyrm.types:Discarding data that was longer than the ring buffer.\n"
     ]
    },
    {
     "name": "stdout",
     "output_type": "stream",
     "text": [
      "*** Overflow with 7 datablocks ***\n",
      "*** Overflow with 7 datablocks ***\n",
      "sending signal! - 18 False - 221.13326182636237 -- 1.1000000000000003\n",
      "*** Overflow with 6 datablocks ***\n",
      "*** Overflow with 5 datablocks ***\n",
      "*** Overflow with 8 datablocks ***\n",
      "sending signal! - 18 False - 244.0672499065788 -- 1.1500000000000004\n",
      "*** Overflow with 7 datablocks ***\n",
      "*** Overflow with 6 datablocks ***\n",
      "sending signal! - 18 False - 268.11882785590853 -- 1.2000000000000004\n",
      "*** Overflow with 6 datablocks ***\n",
      "*** Overflow with 9 datablocks ***\n",
      "*** Overflow with 8 datablocks ***\n",
      "*** Overflow with 7 datablocks ***\n",
      "*** Overflow with 6 datablocks ***\n",
      "*** Overflow with 6 datablocks ***\n",
      "*** Overflow with 8 datablocks ***\n",
      "*** Overflow with 7 datablocks ***\n",
      "*** Overflow with 8 datablocks ***\n",
      "*** Overflow with 6 datablocks ***\n",
      "*** Overflow with 8 datablocks ***\n",
      "*** Overflow with 7 datablocks ***\n",
      "*** Overflow with 9 datablocks ***\n",
      "*** Overflow with 10 datablocks ***\n"
     ]
    },
    {
     "name": "stderr",
     "output_type": "stream",
     "text": [
      "WARNING:wyrm.types:Discarding data that was longer than the ring buffer.\n"
     ]
    },
    {
     "name": "stdout",
     "output_type": "stream",
     "text": [
      "*** Overflow with 6 datablocks ***\n",
      "*** Overflow with 6 datablocks ***\n",
      "sending signal! - 19 False - 289.84535408602227 -- 1.2500000000000004\n",
      "*** Overflow with 8 datablocks ***\n",
      "*** Overflow with 6 datablocks ***\n",
      "sending signal! - 19 False - 313.52679402508835 -- 1.3000000000000005\n",
      "*** Overflow with 7 datablocks ***\n",
      "*** Overflow with 5 datablocks ***\n",
      "*** Overflow with 7 datablocks ***\n",
      "*** Overflow with 16 datablocks ***\n",
      "*** Overflow with 10 datablocks ***\n",
      "sending signal! - 19 False - 343.7691019537768 -- 1.3500000000000005\n",
      "*** Overflow with 11 datablocks ***\n",
      "*** Overflow with 13 datablocks ***\n",
      "*** Overflow with 9 datablocks ***\n",
      "*** Overflow with 14 datablocks ***\n",
      "*** Overflow with 14 datablocks ***\n",
      "*** Overflow with 12 datablocks ***\n",
      "*** Overflow with 11 datablocks ***\n",
      "*** Overflow with 16 datablocks ***\n",
      "*** Overflow with 7 datablocks ***\n"
     ]
    },
    {
     "name": "stderr",
     "output_type": "stream",
     "text": [
      "WARNING:wyrm.types:Discarding data that was longer than the ring buffer.\n"
     ]
    },
    {
     "name": "stdout",
     "output_type": "stream",
     "text": [
      "*** Overflow with 6 datablocks ***\n",
      "*** Overflow with 7 datablocks ***\n",
      "*** Overflow with 5 datablocks ***\n",
      "*** Overflow with 7 datablocks ***\n",
      "*** Overflow with 6 datablocks ***\n",
      "sending signal! - 20 False - 366.4024083286201 -- 1.4000000000000006\n",
      "*** Overflow with 5 datablocks ***\n",
      "*** Overflow with 6 datablocks ***\n",
      "*** Overflow with 6 datablocks ***\n",
      "sending signal! - 20 False - 387.4585134883713 -- 1.4500000000000006\n",
      "*** Overflow with 6 datablocks ***\n",
      "*** Overflow with 6 datablocks ***\n",
      "*** Overflow with 11 datablocks ***\n",
      "*** Overflow with 7 datablocks ***\n",
      "*** Overflow with 7 datablocks ***\n",
      "*** Overflow with 11 datablocks ***\n",
      "*** Overflow with 7 datablocks ***\n",
      "*** Overflow with 5 datablocks ***\n",
      "*** Overflow with 7 datablocks ***\n",
      "*** Overflow with 6 datablocks ***\n",
      "*** Overflow with 7 datablocks ***\n",
      "*** Overflow with 6 datablocks ***\n",
      "*** Overflow with 8 datablocks ***\n",
      "*** Overflow with 7 datablocks ***\n",
      "*** Overflow with 6 datablocks ***\n"
     ]
    },
    {
     "name": "stderr",
     "output_type": "stream",
     "text": [
      "WARNING:wyrm.types:Discarding data that was longer than the ring buffer.\n"
     ]
    },
    {
     "name": "stdout",
     "output_type": "stream",
     "text": [
      "*** Overflow with 7 datablocks ***\n",
      "*** Overflow with 6 datablocks ***\n",
      "*** Overflow with 6 datablocks ***\n",
      "sending signal! - 21 False - 414.50109604465524 -- 1.5000000000000007\n",
      "*** Overflow with 7 datablocks ***\n",
      "*** Overflow with 9 datablocks ***\n",
      "*** Overflow with 8 datablocks ***\n",
      "*** Overflow with 12 datablocks ***\n",
      "sending signal! - 21 False - 443.030235967781 -- 1.5500000000000007\n",
      "*** Overflow with 13 datablocks ***\n",
      "*** Overflow with 11 datablocks ***\n",
      "*** Overflow with 7 datablocks ***\n",
      "*** Overflow with 7 datablocks ***\n",
      "*** Overflow with 14 datablocks ***\n",
      "*** Overflow with 18 datablocks ***\n",
      "*** Overflow with 15 datablocks ***\n",
      "*** Overflow with 10 datablocks ***\n",
      "*** Overflow with 9 datablocks ***\n",
      "*** Overflow with 12 datablocks ***\n",
      "*** Overflow with 18 datablocks ***\n",
      "*** Overflow with 12 datablocks ***\n",
      "*** Overflow with 13 datablocks ***\n"
     ]
    },
    {
     "name": "stderr",
     "output_type": "stream",
     "text": [
      "WARNING:wyrm.types:Discarding data that was longer than the ring buffer.\n"
     ]
    },
    {
     "name": "stdout",
     "output_type": "stream",
     "text": [
      "*** Overflow with 7 datablocks ***\n",
      "*** Overflow with 7 datablocks ***\n",
      "*** Overflow with 17 datablocks ***\n",
      "sending signal! - 22 False - 476.1548058975154 -- 1.6000000000000008\n",
      "*** Overflow with 16 datablocks ***\n",
      "*** Overflow with 10 datablocks ***\n",
      "*** Overflow with 5 datablocks ***\n",
      "*** Overflow with 8 datablocks ***\n",
      "sending signal! - 22 False - 509.7882539565664 -- 1.6500000000000008\n",
      "*** Overflow with 6 datablocks ***\n",
      "*** Overflow with 9 datablocks ***\n",
      "*** Overflow with 10 datablocks ***\n",
      "*** Overflow with 8 datablocks ***\n",
      "sending signal! - 22 False - 535.793775972983 -- 1.7000000000000008\n",
      "*** Overflow with 7 datablocks ***\n",
      "*** Overflow with 6 datablocks ***\n",
      "*** Overflow with 8 datablocks ***\n",
      "*** Overflow with 9 datablocks ***\n",
      "*** Overflow with 8 datablocks ***\n",
      "*** Overflow with 7 datablocks ***\n",
      "*** Overflow with 6 datablocks ***\n",
      "*** Overflow with 9 datablocks ***\n",
      "*** Overflow with 9 datablocks ***\n",
      "*** Overflow with 6 datablocks ***\n",
      "*** Overflow with 6 datablocks ***\n",
      "*** Overflow with 6 datablocks ***\n",
      "*** Overflow with 9 datablocks ***\n",
      "*** Overflow with 8 datablocks ***\n",
      "*** Overflow with 7 datablocks ***\n",
      "*** Overflow with 9 datablocks ***\n"
     ]
    },
    {
     "name": "stderr",
     "output_type": "stream",
     "text": [
      "WARNING:wyrm.types:Discarding data that was longer than the ring buffer.\n"
     ]
    },
    {
     "name": "stdout",
     "output_type": "stream",
     "text": [
      "*** Overflow with 8 datablocks ***\n",
      "*** Overflow with 7 datablocks ***\n",
      "*** Overflow with 5 datablocks ***\n",
      "*** Overflow with 7 datablocks ***\n",
      "sending signal! - 23 False - 566.4157664642997 -- 1.7500000000000009\n",
      "*** Overflow with 5 datablocks ***\n",
      "*** Overflow with 11 datablocks ***\n",
      "*** Overflow with 11 datablocks ***\n",
      "*** Overflow with 10 datablocks ***\n",
      "*** Overflow with 14 datablocks ***\n",
      "sending signal! - 23 False - 597.8443607322807 -- 1.800000000000001\n",
      "*** Overflow with 8 datablocks ***\n",
      "*** Overflow with 6 datablocks ***\n",
      "*** Overflow with 13 datablocks ***\n",
      "*** Overflow with 13 datablocks ***\n",
      "*** Overflow with 12 datablocks ***\n",
      "*** Overflow with 12 datablocks ***\n",
      "*** Overflow with 11 datablocks ***\n",
      "*** Overflow with 6 datablocks ***\n",
      "*** Overflow with 9 datablocks ***\n",
      "*** Overflow with 8 datablocks ***\n",
      "*** Overflow with 7 datablocks ***\n",
      "*** Overflow with 9 datablocks ***\n",
      "*** Overflow with 7 datablocks ***\n",
      "*** Overflow with 7 datablocks ***\n",
      "*** Overflow with 6 datablocks ***\n",
      "*** Overflow with 6 datablocks ***\n"
     ]
    },
    {
     "name": "stderr",
     "output_type": "stream",
     "text": [
      "WARNING:wyrm.types:Discarding data that was longer than the ring buffer.\n"
     ]
    },
    {
     "name": "stdout",
     "output_type": "stream",
     "text": [
      "*** Overflow with 5 datablocks ***\n",
      "*** Overflow with 7 datablocks ***\n",
      "*** Overflow with 7 datablocks ***\n",
      "*** Overflow with 6 datablocks ***\n",
      "sending signal! - 24 False - 626.7960940861474 -- 1.850000000000001\n",
      "*** Overflow with 7 datablocks ***\n",
      "*** Overflow with 8 datablocks ***\n",
      "*** Overflow with 8 datablocks ***\n",
      "*** Overflow with 5 datablocks ***\n",
      "sending signal! - 24 False - 671.5664253485038 -- 1.900000000000001\n",
      "*** Overflow with 7 datablocks ***\n",
      "*** Overflow with 10 datablocks ***\n",
      "*** Overflow with 8 datablocks ***\n",
      "*** Overflow with 7 datablocks ***\n",
      "*** Overflow with 8 datablocks ***\n",
      "*** Overflow with 7 datablocks ***\n",
      "sending signal! - 24 False - 705.1259762461078 -- 1.950000000000001\n",
      "*** Overflow with 6 datablocks ***\n",
      "*** Overflow with 8 datablocks ***\n",
      "*** Overflow with 6 datablocks ***\n",
      "*** Overflow with 6 datablocks ***\n",
      "*** Overflow with 7 datablocks ***\n",
      "*** Overflow with 6 datablocks ***\n",
      "*** Overflow with 7 datablocks ***\n",
      "*** Overflow with 6 datablocks ***\n",
      "*** Overflow with 6 datablocks ***\n",
      "*** Overflow with 5 datablocks ***\n",
      "*** Overflow with 7 datablocks ***\n",
      "*** Overflow with 6 datablocks ***\n",
      "*** Overflow with 5 datablocks ***\n",
      "*** Overflow with 9 datablocks ***\n",
      "*** Overflow with 6 datablocks ***\n",
      "*** Overflow with 7 datablocks ***\n",
      "*** Overflow with 6 datablocks ***\n",
      "*** Overflow with 8 datablocks ***\n",
      "*** Overflow with 6 datablocks ***\n",
      "*** Overflow with 6 datablocks ***\n",
      "*** Overflow with 7 datablocks ***\n"
     ]
    },
    {
     "name": "stderr",
     "output_type": "stream",
     "text": [
      "WARNING:wyrm.types:Discarding data that was longer than the ring buffer.\n"
     ]
    },
    {
     "name": "stdout",
     "output_type": "stream",
     "text": [
      "*** Overflow with 8 datablocks ***\n",
      "*** Overflow with 7 datablocks ***\n",
      "*** Overflow with 7 datablocks ***\n",
      "*** Overflow with 10 datablocks ***\n",
      "*** Overflow with 4 datablocks ***\n",
      "*** Overflow with 9 datablocks ***\n",
      "*** Overflow with 6 datablocks ***\n",
      "sending signal! - 25 False - 754.9070935368978 -- 2.000000000000001\n",
      "*** Overflow with 7 datablocks ***\n",
      "*** Overflow with 5 datablocks ***\n",
      "*** Overflow with 7 datablocks ***\n",
      "*** Overflow with 6 datablocks ***\n",
      "*** Overflow with 7 datablocks ***\n",
      "sending signal! - 25 False - 799.0815802719668 -- 2.0500000000000007\n",
      "*** Overflow with 7 datablocks ***\n",
      "*** Overflow with 6 datablocks ***\n",
      "*** Overflow with 5 datablocks ***\n",
      "*** Overflow with 6 datablocks ***\n",
      "*** Overflow with 7 datablocks ***\n",
      "*** Overflow with 5 datablocks ***\n",
      "*** Overflow with 6 datablocks ***\n",
      "*** Overflow with 7 datablocks ***\n",
      "*** Overflow with 6 datablocks ***\n",
      "*** Overflow with 8 datablocks ***\n",
      "*** Overflow with 6 datablocks ***\n",
      "*** Overflow with 7 datablocks ***\n",
      "*** Overflow with 6 datablocks ***\n",
      "*** Overflow with 7 datablocks ***\n",
      "*** Overflow with 7 datablocks ***\n",
      "*** Overflow with 7 datablocks ***\n",
      "*** Overflow with 5 datablocks ***\n",
      "*** Overflow with 6 datablocks ***\n",
      "*** Overflow with 7 datablocks ***\n"
     ]
    },
    {
     "name": "stderr",
     "output_type": "stream",
     "text": [
      "WARNING:wyrm.types:Discarding data that was longer than the ring buffer.\n"
     ]
    },
    {
     "name": "stdout",
     "output_type": "stream",
     "text": [
      "*** Overflow with 5 datablocks ***\n",
      "*** Overflow with 6 datablocks ***\n",
      "*** Overflow with 5 datablocks ***\n",
      "*** Overflow with 7 datablocks ***\n",
      "*** Overflow with 6 datablocks ***\n",
      "*** Overflow with 5 datablocks ***\n",
      "sending signal! - 26 False - 845.2209622363168 -- 2.1000000000000005\n",
      "*** Overflow with 7 datablocks ***\n",
      "*** Overflow with 6 datablocks ***\n",
      "*** Overflow with 5 datablocks ***\n",
      "*** Overflow with 8 datablocks ***\n",
      "*** Overflow with 6 datablocks ***\n",
      "sending signal! - 26 False - 892.0257021828685 -- 2.1500000000000004\n",
      "*** Overflow with 5 datablocks ***\n",
      "*** Overflow with 7 datablocks ***\n",
      "*** Overflow with 6 datablocks ***\n",
      "*** Overflow with 9 datablocks ***\n",
      "*** Overflow with 5 datablocks ***\n",
      "*** Overflow with 6 datablocks ***\n",
      "*** Overflow with 4 datablocks ***\n",
      "*** Overflow with 6 datablocks ***\n",
      "*** Overflow with 8 datablocks ***\n",
      "*** Overflow with 4 datablocks ***\n",
      "*** Overflow with 8 datablocks ***\n",
      "*** Overflow with 6 datablocks ***\n",
      "*** Overflow with 8 datablocks ***\n",
      "*** Overflow with 5 datablocks ***\n",
      "*** Overflow with 7 datablocks ***\n",
      "*** Overflow with 6 datablocks ***\n"
     ]
    },
    {
     "name": "stderr",
     "output_type": "stream",
     "text": [
      "WARNING:wyrm.types:Discarding data that was longer than the ring buffer.\n"
     ]
    },
    {
     "name": "stdout",
     "output_type": "stream",
     "text": [
      "*** Overflow with 6 datablocks ***\n",
      "*** Overflow with 6 datablocks ***\n",
      "*** Overflow with 6 datablocks ***\n",
      "*** Overflow with 6 datablocks ***\n",
      "*** Overflow with 6 datablocks ***\n",
      "sending signal! - 27 False - 945.4288030482328 -- 2.2\n",
      "*** Overflow with 7 datablocks ***\n",
      "*** Overflow with 5 datablocks ***\n",
      "*** Overflow with 6 datablocks ***\n",
      "*** Overflow with 5 datablocks ***\n",
      "*** Overflow with 7 datablocks ***\n",
      "*** Overflow with 6 datablocks ***\n",
      "*** Overflow with 7 datablocks ***\n",
      "*** Overflow with 6 datablocks ***\n",
      "*** Overflow with 7 datablocks ***\n",
      "*** Overflow with 6 datablocks ***\n",
      "*** Overflow with 6 datablocks ***\n",
      "*** Overflow with 6 datablocks ***\n",
      "*** Overflow with 9 datablocks ***\n",
      "*** Overflow with 7 datablocks ***\n"
     ]
    },
    {
     "name": "stderr",
     "output_type": "stream",
     "text": [
      "WARNING:wyrm.types:Discarding data that was longer than the ring buffer.\n"
     ]
    },
    {
     "name": "stdout",
     "output_type": "stream",
     "text": [
      "*** Overflow with 7 datablocks ***\n",
      "*** Overflow with 5 datablocks ***\n",
      "*** Overflow with 7 datablocks ***\n",
      "sending signal! - 28 False - 994.7253506942916 -- 2.25\n",
      "*** Overflow with 6 datablocks ***\n",
      "*** Overflow with 7 datablocks ***\n",
      "*** Overflow with 6 datablocks ***\n",
      "*** Overflow with 6 datablocks ***\n",
      "*** Overflow with 11 datablocks ***\n",
      "sending signal! - 28 False - 1028.9306771441281 -- 2.3\n",
      "*** Overflow with 7 datablocks ***\n",
      "*** Overflow with 10 datablocks ***\n",
      "*** Overflow with 6 datablocks ***\n",
      "*** Overflow with 7 datablocks ***\n",
      "*** Overflow with 7 datablocks ***\n",
      "*** Overflow with 9 datablocks ***\n",
      "*** Overflow with 6 datablocks ***\n",
      "*** Overflow with 7 datablocks ***\n",
      "*** Overflow with 7 datablocks ***\n"
     ]
    },
    {
     "name": "stderr",
     "output_type": "stream",
     "text": [
      "WARNING:wyrm.types:Discarding data that was longer than the ring buffer.\n"
     ]
    },
    {
     "name": "stdout",
     "output_type": "stream",
     "text": [
      "*** Overflow with 7 datablocks ***\n",
      "*** Overflow with 5 datablocks ***\n",
      "*** Overflow with 7 datablocks ***\n",
      "*** Overflow with 9 datablocks ***\n",
      "*** Overflow with 7 datablocks ***\n",
      "*** Overflow with 5 datablocks ***\n",
      "*** Overflow with 7 datablocks ***\n",
      "sending signal! - 29 False - 1080.802105434087 -- 2.3499999999999996\n",
      "*** Overflow with 6 datablocks ***\n",
      "*** Overflow with 6 datablocks ***\n",
      "*** Overflow with 9 datablocks ***\n",
      "*** Overflow with 9 datablocks ***\n",
      "*** Overflow with 7 datablocks ***\n",
      "*** Overflow with 11 datablocks ***\n",
      "*** Overflow with 6 datablocks ***\n",
      "*** Overflow with 7 datablocks ***\n",
      "*** Overflow with 6 datablocks ***\n",
      "*** Overflow with 6 datablocks ***\n"
     ]
    },
    {
     "name": "stderr",
     "output_type": "stream",
     "text": [
      "WARNING:wyrm.types:Discarding data that was longer than the ring buffer.\n"
     ]
    },
    {
     "name": "stdout",
     "output_type": "stream",
     "text": [
      "*** Overflow with 6 datablocks ***\n",
      "*** Overflow with 6 datablocks ***\n",
      "*** Overflow with 7 datablocks ***\n",
      "*** Overflow with 8 datablocks ***\n",
      "*** Overflow with 7 datablocks ***\n",
      "*** Overflow with 5 datablocks ***\n",
      "*** Overflow with 8 datablocks ***\n",
      "*** Overflow with 6 datablocks ***\n",
      "*** Overflow with 7 datablocks ***\n",
      "sending signal! - 30 False - 1137.0745576997313 -- 2.3999999999999995\n",
      "*** Overflow with 5 datablocks ***\n",
      "*** Overflow with 6 datablocks ***\n",
      "*** Overflow with 7 datablocks ***\n",
      "*** Overflow with 6 datablocks ***\n",
      "*** Overflow with 6 datablocks ***\n",
      "*** Overflow with 6 datablocks ***\n",
      "*** Overflow with 6 datablocks ***\n",
      "*** Overflow with 6 datablocks ***\n",
      "*** Overflow with 6 datablocks ***\n",
      "*** Overflow with 6 datablocks ***\n"
     ]
    },
    {
     "name": "stderr",
     "output_type": "stream",
     "text": [
      "WARNING:wyrm.types:Discarding data that was longer than the ring buffer.\n"
     ]
    },
    {
     "name": "stdout",
     "output_type": "stream",
     "text": [
      "*** Overflow with 6 datablocks ***\n",
      "*** Overflow with 6 datablocks ***\n",
      "*** Overflow with 9 datablocks ***\n",
      "*** Overflow with 7 datablocks ***\n",
      "*** Overflow with 7 datablocks ***\n",
      "*** Overflow with 7 datablocks ***\n",
      "*** Overflow with 5 datablocks ***\n",
      "*** Overflow with 6 datablocks ***\n",
      "sending signal! - 31 False - 1184.2520489407552 -- 2.4499999999999993\n",
      "*** Overflow with 5 datablocks ***\n",
      "*** Overflow with 7 datablocks ***\n",
      "*** Overflow with 6 datablocks ***\n",
      "*** Overflow with 6 datablocks ***\n",
      "*** Overflow with 7 datablocks ***\n",
      "*** Overflow with 6 datablocks ***\n",
      "*** Overflow with 7 datablocks ***\n",
      "*** Overflow with 6 datablocks ***\n",
      "*** Overflow with 6 datablocks ***\n",
      "*** Overflow with 6 datablocks ***\n",
      "*** Overflow with 7 datablocks ***\n"
     ]
    },
    {
     "name": "stderr",
     "output_type": "stream",
     "text": [
      "WARNING:wyrm.types:Discarding data that was longer than the ring buffer.\n"
     ]
    },
    {
     "name": "stdout",
     "output_type": "stream",
     "text": [
      "*** Overflow with 7 datablocks ***\n",
      "*** Overflow with 7 datablocks ***\n",
      "*** Overflow with 7 datablocks ***\n",
      "*** Overflow with 4 datablocks ***\n",
      "*** Overflow with 8 datablocks ***\n",
      "*** Overflow with 6 datablocks ***\n",
      "*** Overflow with 5 datablocks ***\n",
      "sending signal! - 32 False - 1228.123429621527 -- 2.499999999999999\n",
      "*** Overflow with 7 datablocks ***\n",
      "*** Overflow with 5 datablocks ***\n",
      "*** Overflow with 6 datablocks ***\n",
      "*** Overflow with 7 datablocks ***\n",
      "*** Overflow with 7 datablocks ***\n",
      "*** Overflow with 7 datablocks ***\n",
      "*** Overflow with 6 datablocks ***\n",
      "*** Overflow with 6 datablocks ***\n",
      "*** Overflow with 7 datablocks ***\n"
     ]
    },
    {
     "name": "stderr",
     "output_type": "stream",
     "text": [
      "WARNING:wyrm.types:Discarding data that was longer than the ring buffer.\n"
     ]
    },
    {
     "name": "stdout",
     "output_type": "stream",
     "text": [
      "*** Overflow with 7 datablocks ***\n",
      "*** Overflow with 6 datablocks ***\n",
      "*** Overflow with 7 datablocks ***\n",
      "*** Overflow with 12 datablocks ***\n",
      "*** Overflow with 7 datablocks ***\n",
      "*** Overflow with 6 datablocks ***\n",
      "*** Overflow with 7 datablocks ***\n",
      "*** Overflow with 6 datablocks ***\n",
      "*** Overflow with 9 datablocks ***\n",
      "*** Overflow with 6 datablocks ***\n",
      "*** Overflow with 7 datablocks ***\n",
      "*** Overflow with 8 datablocks ***\n",
      "*** Overflow with 8 datablocks ***\n"
     ]
    },
    {
     "name": "stderr",
     "output_type": "stream",
     "text": [
      "WARNING:wyrm.types:Discarding data that was longer than the ring buffer.\n"
     ]
    },
    {
     "name": "stdout",
     "output_type": "stream",
     "text": [
      "*** Overflow with 7 datablocks ***\n",
      "*** Overflow with 6 datablocks ***\n",
      "*** Overflow with 6 datablocks ***\n",
      "sending signal! - 34 False - 1296.7505224273386 -- 2.549999999999999\n",
      "*** Overflow with 7 datablocks ***\n",
      "*** Overflow with 7 datablocks ***\n",
      "*** Overflow with 6 datablocks ***\n",
      "*** Overflow with 6 datablocks ***\n",
      "*** Overflow with 9 datablocks ***\n",
      "*** Overflow with 5 datablocks ***\n",
      "*** Overflow with 5 datablocks ***\n",
      "*** Overflow with 8 datablocks ***\n",
      "*** Overflow with 5 datablocks ***\n",
      "*** Overflow with 10 datablocks ***\n",
      "*** Overflow with 9 datablocks ***\n",
      "*** Overflow with 6 datablocks ***\n",
      "*** Overflow with 7 datablocks ***\n",
      "*** Overflow with 7 datablocks ***\n",
      "*** Overflow with 4 datablocks ***\n"
     ]
    },
    {
     "name": "stderr",
     "output_type": "stream",
     "text": [
      "WARNING:wyrm.types:Discarding data that was longer than the ring buffer.\n"
     ]
    },
    {
     "name": "stdout",
     "output_type": "stream",
     "text": [
      "*** Overflow with 6 datablocks ***\n",
      "*** Overflow with 6 datablocks ***\n",
      "*** Overflow with 6 datablocks ***\n",
      "*** Overflow with 4 datablocks ***\n",
      "*** Overflow with 7 datablocks ***\n",
      "sending signal! - 35 False - 1359.3417112794148 -- 2.5999999999999988\n",
      "*** Overflow with 6 datablocks ***\n",
      "*** Overflow with 4 datablocks ***\n",
      "*** Overflow with 7 datablocks ***\n",
      "*** Overflow with 8 datablocks ***\n",
      "*** Overflow with 7 datablocks ***\n",
      "*** Overflow with 5 datablocks ***\n",
      "*** Overflow with 6 datablocks ***\n",
      "*** Overflow with 8 datablocks ***\n",
      "*** Overflow with 10 datablocks ***\n",
      "*** Overflow with 7 datablocks ***\n",
      "*** Overflow with 5 datablocks ***\n"
     ]
    },
    {
     "name": "stderr",
     "output_type": "stream",
     "text": [
      "WARNING:wyrm.types:Discarding data that was longer than the ring buffer.\n"
     ]
    },
    {
     "name": "stdout",
     "output_type": "stream",
     "text": [
      "*** Overflow with 6 datablocks ***\n",
      "*** Overflow with 5 datablocks ***\n",
      "*** Overflow with 7 datablocks ***\n",
      "*** Overflow with 8 datablocks ***\n",
      "sending signal! - 36 False - 1413.9120807644754 -- 2.6499999999999986\n",
      "*** Overflow with 7 datablocks ***\n",
      "*** Overflow with 6 datablocks ***\n",
      "*** Overflow with 8 datablocks ***\n",
      "*** Overflow with 8 datablocks ***\n",
      "*** Overflow with 6 datablocks ***\n",
      "*** Overflow with 9 datablocks ***\n",
      "*** Overflow with 8 datablocks ***\n",
      "*** Overflow with 6 datablocks ***\n",
      "*** Overflow with 8 datablocks ***\n",
      "*** Overflow with 10 datablocks ***\n",
      "*** Overflow with 6 datablocks ***\n"
     ]
    },
    {
     "name": "stderr",
     "output_type": "stream",
     "text": [
      "WARNING:wyrm.types:Discarding data that was longer than the ring buffer.\n"
     ]
    },
    {
     "name": "stdout",
     "output_type": "stream",
     "text": [
      "*** Overflow with 4 datablocks ***\n",
      "*** Overflow with 7 datablocks ***\n",
      "*** Overflow with 8 datablocks ***\n",
      "*** Overflow with 6 datablocks ***\n",
      "*** Overflow with 5 datablocks ***\n",
      "*** Overflow with 7 datablocks ***\n",
      "*** Overflow with 6 datablocks ***\n",
      "*** Overflow with 6 datablocks ***\n",
      "sending signal! - 37 False - 1489.467347362327 -- 2.6999999999999984\n",
      "*** Overflow with 6 datablocks ***\n",
      "*** Overflow with 11 datablocks ***\n",
      "*** Overflow with 7 datablocks ***\n",
      "*** Overflow with 7 datablocks ***\n",
      "*** Overflow with 7 datablocks ***\n",
      "*** Overflow with 5 datablocks ***\n",
      "*** Overflow with 4 datablocks ***\n",
      "*** Overflow with 7 datablocks ***\n",
      "*** Overflow with 5 datablocks ***\n",
      "*** Overflow with 6 datablocks ***\n",
      "*** Overflow with 7 datablocks ***\n"
     ]
    },
    {
     "name": "stderr",
     "output_type": "stream",
     "text": [
      "WARNING:wyrm.types:Discarding data that was longer than the ring buffer.\n"
     ]
    },
    {
     "name": "stdout",
     "output_type": "stream",
     "text": [
      "*** Overflow with 7 datablocks ***\n",
      "*** Overflow with 7 datablocks ***\n",
      "*** Overflow with 6 datablocks ***\n",
      "*** Overflow with 6 datablocks ***\n",
      "*** Overflow with 7 datablocks ***\n",
      "*** Overflow with 5 datablocks ***\n",
      "*** Overflow with 7 datablocks ***\n",
      "*** Overflow with 6 datablocks ***\n",
      "*** Overflow with 5 datablocks ***\n",
      "sending signal! - 38 False - 1566.0489666027206 -- 2.7499999999999982\n",
      "*** Overflow with 6 datablocks ***\n",
      "*** Overflow with 6 datablocks ***\n",
      "*** Overflow with 6 datablocks ***\n",
      "*** Overflow with 5 datablocks ***\n",
      "*** Overflow with 7 datablocks ***\n",
      "*** Overflow with 6 datablocks ***\n",
      "*** Overflow with 6 datablocks ***\n",
      "*** Overflow with 6 datablocks ***\n"
     ]
    },
    {
     "name": "stderr",
     "output_type": "stream",
     "text": [
      "WARNING:wyrm.types:Discarding data that was longer than the ring buffer.\n"
     ]
    },
    {
     "name": "stdout",
     "output_type": "stream",
     "text": [
      "*** Overflow with 6 datablocks ***\n",
      "*** Overflow with 6 datablocks ***\n",
      "*** Overflow with 6 datablocks ***\n",
      "*** Overflow with 7 datablocks ***\n",
      "*** Overflow with 6 datablocks ***\n",
      "*** Overflow with 8 datablocks ***\n",
      "*** Overflow with 5 datablocks ***\n",
      "*** Overflow with 7 datablocks ***\n",
      "*** Overflow with 7 datablocks ***\n",
      "FLIPPING/GOING THE THE MIDDLE AGAIN\n",
      "*** Overflow with 9 datablocks ***\n",
      "*** Overflow with 5 datablocks ***\n",
      "*** Overflow with 7 datablocks ***\n",
      "*** Overflow with 9 datablocks ***\n",
      "*** Overflow with 8 datablocks ***\n",
      "*** Overflow with 6 datablocks ***\n",
      "*** Overflow with 6 datablocks ***\n",
      "*** Overflow with 6 datablocks ***\n"
     ]
    },
    {
     "name": "stderr",
     "output_type": "stream",
     "text": [
      "WARNING:wyrm.types:Discarding data that was longer than the ring buffer.\n"
     ]
    },
    {
     "name": "stdout",
     "output_type": "stream",
     "text": [
      "*** Overflow with 6 datablocks ***\n",
      "*** Overflow with 6 datablocks ***\n",
      "*** Overflow with 6 datablocks ***\n",
      "sending signal! - 40 False - 1624.8957611996645 -- 2.799999999999998\n",
      "*** Overflow with 6 datablocks ***\n",
      "*** Overflow with 6 datablocks ***\n",
      "*** Overflow with 7 datablocks ***\n",
      "*** Overflow with 8 datablocks ***\n",
      "*** Overflow with 6 datablocks ***\n",
      "*** Overflow with 7 datablocks ***\n",
      "*** Overflow with 5 datablocks ***\n",
      "*** Overflow with 5 datablocks ***\n",
      "*** Overflow with 7 datablocks ***\n",
      "*** Overflow with 9 datablocks ***\n",
      "*** Overflow with 8 datablocks ***\n",
      "*** Overflow with 5 datablocks ***\n",
      "*** Overflow with 6 datablocks ***\n",
      "*** Overflow with 6 datablocks ***\n",
      "*** Overflow with 5 datablocks ***\n"
     ]
    },
    {
     "name": "stderr",
     "output_type": "stream",
     "text": [
      "WARNING:wyrm.types:Discarding data that was longer than the ring buffer.\n"
     ]
    },
    {
     "name": "stdout",
     "output_type": "stream",
     "text": [
      "*** Overflow with 7 datablocks ***\n",
      "*** Overflow with 6 datablocks ***\n",
      "*** Overflow with 5 datablocks ***\n",
      "*** Overflow with 6 datablocks ***\n",
      "*** Overflow with 6 datablocks ***\n",
      "sending signal! - 41 False - 1682.6934419619251 -- 2.849999999999998\n",
      "*** Overflow with 6 datablocks ***\n",
      "*** Overflow with 5 datablocks ***\n",
      "*** Overflow with 6 datablocks ***\n",
      "*** Overflow with 9 datablocks ***\n",
      "*** Overflow with 8 datablocks ***\n",
      "*** Overflow with 6 datablocks ***\n",
      "*** Overflow with 5 datablocks ***\n",
      "*** Overflow with 7 datablocks ***\n",
      "*** Overflow with 8 datablocks ***\n",
      "*** Overflow with 5 datablocks ***\n",
      "*** Overflow with 5 datablocks ***\n"
     ]
    },
    {
     "name": "stderr",
     "output_type": "stream",
     "text": [
      "WARNING:wyrm.types:Discarding data that was longer than the ring buffer.\n"
     ]
    },
    {
     "name": "stdout",
     "output_type": "stream",
     "text": [
      "*** Overflow with 6 datablocks ***\n",
      "*** Overflow with 6 datablocks ***\n",
      "*** Overflow with 6 datablocks ***\n",
      "*** Overflow with 7 datablocks ***\n",
      "*** Overflow with 6 datablocks ***\n",
      "sending signal! - 42 False - 1744.3243608296527 -- 2.8999999999999977\n",
      "*** Overflow with 6 datablocks ***\n",
      "*** Overflow with 7 datablocks ***\n",
      "*** Overflow with 6 datablocks ***\n",
      "*** Overflow with 6 datablocks ***\n",
      "*** Overflow with 8 datablocks ***\n",
      "*** Overflow with 7 datablocks ***\n",
      "*** Overflow with 5 datablocks ***\n",
      "*** Overflow with 11 datablocks ***\n",
      "*** Overflow with 8 datablocks ***\n"
     ]
    },
    {
     "name": "stderr",
     "output_type": "stream",
     "text": [
      "WARNING:wyrm.types:Discarding data that was longer than the ring buffer.\n"
     ]
    },
    {
     "name": "stdout",
     "output_type": "stream",
     "text": [
      "*** Overflow with 6 datablocks ***\n",
      "*** Overflow with 9 datablocks ***\n",
      "*** Overflow with 6 datablocks ***\n",
      "*** Overflow with 6 datablocks ***\n",
      "*** Overflow with 8 datablocks ***\n",
      "*** Overflow with 7 datablocks ***\n",
      "*** Overflow with 7 datablocks ***\n",
      "*** Overflow with 6 datablocks ***\n",
      "*** Overflow with 6 datablocks ***\n",
      "*** Overflow with 7 datablocks ***\n",
      "*** Overflow with 5 datablocks ***\n",
      "*** Overflow with 8 datablocks ***\n",
      "*** Overflow with 13 datablocks ***\n",
      "*** Overflow with 6 datablocks ***\n"
     ]
    },
    {
     "name": "stderr",
     "output_type": "stream",
     "text": [
      "WARNING:wyrm.types:Discarding data that was longer than the ring buffer.\n"
     ]
    },
    {
     "name": "stdout",
     "output_type": "stream",
     "text": [
      "*** Overflow with 8 datablocks ***\n",
      "*** Overflow with 10 datablocks ***\n",
      "*** Overflow with 12 datablocks ***\n",
      "*** Overflow with 11 datablocks ***\n",
      "*** Overflow with 6 datablocks ***\n",
      "sending signal! - 44 False - 1805.8434420371298 -- 2.9499999999999975\n",
      "*** Overflow with 6 datablocks ***\n",
      "*** Overflow with 8 datablocks ***\n",
      "*** Overflow with 5 datablocks ***\n",
      "*** Overflow with 11 datablocks ***\n",
      "*** Overflow with 12 datablocks ***\n",
      "*** Overflow with 12 datablocks ***\n",
      "*** Overflow with 6 datablocks ***\n",
      "*** Overflow with 7 datablocks ***\n",
      "*** Overflow with 6 datablocks ***\n",
      "*** Overflow with 6 datablocks ***\n",
      "*** Overflow with 6 datablocks ***\n"
     ]
    },
    {
     "name": "stderr",
     "output_type": "stream",
     "text": [
      "WARNING:wyrm.types:Discarding data that was longer than the ring buffer.\n"
     ]
    },
    {
     "name": "stdout",
     "output_type": "stream",
     "text": [
      "*** Overflow with 6 datablocks ***\n",
      "*** Overflow with 7 datablocks ***\n",
      "*** Overflow with 10 datablocks ***\n",
      "*** Overflow with 8 datablocks ***\n",
      "*** Overflow with 10 datablocks ***\n",
      "*** Overflow with 11 datablocks ***\n",
      "sending signal! - 45 False - 1878.4902011216625 -- 2.9999999999999973\n",
      "*** Overflow with 14 datablocks ***\n",
      "*** Overflow with 13 datablocks ***\n",
      "*** Overflow with 10 datablocks ***\n",
      "*** Overflow with 9 datablocks ***\n",
      "*** Overflow with 7 datablocks ***\n",
      "*** Overflow with 7 datablocks ***\n",
      "*** Overflow with 8 datablocks ***\n",
      "*** Overflow with 11 datablocks ***\n",
      "*** Overflow with 14 datablocks ***\n",
      "*** Overflow with 15 datablocks ***\n",
      "*** Overflow with 14 datablocks ***\n"
     ]
    },
    {
     "name": "stderr",
     "output_type": "stream",
     "text": [
      "WARNING:wyrm.types:Discarding data that was longer than the ring buffer.\n"
     ]
    },
    {
     "name": "stdout",
     "output_type": "stream",
     "text": [
      "*** Overflow with 9 datablocks ***\n",
      "*** Overflow with 14 datablocks ***\n",
      "*** Overflow with 9 datablocks ***\n",
      "*** Overflow with 7 datablocks ***\n",
      "*** Overflow with 8 datablocks ***\n",
      "*** Overflow with 6 datablocks ***\n",
      "*** Overflow with 7 datablocks ***\n",
      "sending signal! - 46 False - 1945.5843656446625 -- 3.049999999999997\n",
      "*** Overflow with 7 datablocks ***\n",
      "*** Overflow with 6 datablocks ***\n",
      "*** Overflow with 12 datablocks ***\n",
      "*** Overflow with 10 datablocks ***\n",
      "*** Overflow with 12 datablocks ***\n",
      "*** Overflow with 7 datablocks ***\n",
      "*** Overflow with 7 datablocks ***\n",
      "*** Overflow with 8 datablocks ***\n",
      "*** Overflow with 7 datablocks ***\n",
      "*** Overflow with 7 datablocks ***\n",
      "*** Overflow with 7 datablocks ***\n",
      "*** Overflow with 8 datablocks ***\n",
      "*** Overflow with 5 datablocks ***\n"
     ]
    },
    {
     "name": "stderr",
     "output_type": "stream",
     "text": [
      "WARNING:wyrm.types:Discarding data that was longer than the ring buffer.\n"
     ]
    },
    {
     "name": "stdout",
     "output_type": "stream",
     "text": [
      "*** Overflow with 6 datablocks ***\n",
      "*** Overflow with 5 datablocks ***\n",
      "*** Overflow with 11 datablocks ***\n",
      "*** Overflow with 10 datablocks ***\n",
      "*** Overflow with 13 datablocks ***\n",
      "sending signal! - 47 False - 2028.4501393057833 -- 3.099999999999997\n",
      "*** Overflow with 18 datablocks ***\n",
      "*** Overflow with 7 datablocks ***\n",
      "*** Overflow with 11 datablocks ***\n",
      "*** Overflow with 8 datablocks ***\n",
      "*** Overflow with 9 datablocks ***\n",
      "*** Overflow with 5 datablocks ***\n",
      "*** Overflow with 8 datablocks ***\n",
      "*** Overflow with 13 datablocks ***\n",
      "*** Overflow with 10 datablocks ***\n",
      "*** Overflow with 9 datablocks ***\n",
      "*** Overflow with 8 datablocks ***\n",
      "*** Overflow with 9 datablocks ***\n",
      "*** Overflow with 10 datablocks ***\n",
      "*** Overflow with 7 datablocks ***\n",
      "*** Overflow with 5 datablocks ***\n",
      "*** Overflow with 6 datablocks ***\n"
     ]
    },
    {
     "name": "stderr",
     "output_type": "stream",
     "text": [
      "WARNING:wyrm.types:Discarding data that was longer than the ring buffer.\n"
     ]
    },
    {
     "name": "stdout",
     "output_type": "stream",
     "text": [
      "*** Overflow with 4 datablocks ***\n",
      "*** Overflow with 6 datablocks ***\n",
      "*** Overflow with 5 datablocks ***\n",
      "*** Overflow with 9 datablocks ***\n",
      "*** Overflow with 6 datablocks ***\n",
      "*** Overflow with 8 datablocks ***\n",
      "*** Overflow with 7 datablocks ***\n",
      "sending signal! - 48 False - 2119.728844598234 -- 3.149999999999997\n",
      "*** Overflow with 8 datablocks ***\n",
      "*** Overflow with 9 datablocks ***\n",
      "*** Overflow with 6 datablocks ***\n",
      "*** Overflow with 7 datablocks ***\n",
      "*** Overflow with 14 datablocks ***\n",
      "*** Overflow with 10 datablocks ***\n",
      "*** Overflow with 5 datablocks ***\n",
      "*** Overflow with 6 datablocks ***\n",
      "*** Overflow with 8 datablocks ***\n",
      "*** Overflow with 9 datablocks ***\n",
      "*** Overflow with 5 datablocks ***\n",
      "*** Overflow with 5 datablocks ***\n",
      "*** Overflow with 5 datablocks ***\n",
      "*** Overflow with 6 datablocks ***\n",
      "*** Overflow with 5 datablocks ***\n"
     ]
    },
    {
     "name": "stderr",
     "output_type": "stream",
     "text": [
      "WARNING:wyrm.types:Discarding data that was longer than the ring buffer.\n"
     ]
    },
    {
     "name": "stdout",
     "output_type": "stream",
     "text": [
      "*** Overflow with 6 datablocks ***\n",
      "*** Overflow with 7 datablocks ***\n",
      "*** Overflow with 4 datablocks ***\n",
      "*** Overflow with 7 datablocks ***\n",
      "sending signal! - 49 False - 2198.096869730131 -- 3.1999999999999966\n",
      "*** Overflow with 11 datablocks ***\n",
      "*** Overflow with 6 datablocks ***\n",
      "*** Overflow with 9 datablocks ***\n",
      "*** Overflow with 7 datablocks ***\n",
      "*** Overflow with 12 datablocks ***\n",
      "*** Overflow with 8 datablocks ***\n",
      "*** Overflow with 6 datablocks ***\n",
      "*** Overflow with 6 datablocks ***\n",
      "*** Overflow with 6 datablocks ***\n",
      "*** Overflow with 11 datablocks ***\n",
      "*** Overflow with 7 datablocks ***\n",
      "*** Overflow with 7 datablocks ***\n",
      "*** Overflow with 8 datablocks ***\n",
      "*** Overflow with 7 datablocks ***\n",
      "*** Overflow with 8 datablocks ***\n"
     ]
    },
    {
     "name": "stderr",
     "output_type": "stream",
     "text": [
      "WARNING:wyrm.types:Discarding data that was longer than the ring buffer.\n"
     ]
    },
    {
     "name": "stdout",
     "output_type": "stream",
     "text": [
      "*** Overflow with 6 datablocks ***\n",
      "*** Overflow with 6 datablocks ***\n",
      "*** Overflow with 8 datablocks ***\n",
      "*** Overflow with 8 datablocks ***\n",
      "*** Overflow with 7 datablocks ***\n",
      "*** Overflow with 7 datablocks ***\n",
      "*** Overflow with 6 datablocks ***\n",
      "sending signal! - 50 False - 2288.2554720761113 -- 3.2499999999999964\n",
      "*** Overflow with 7 datablocks ***\n",
      "*** Overflow with 7 datablocks ***\n",
      "*** Overflow with 6 datablocks ***\n",
      "*** Overflow with 8 datablocks ***\n",
      "*** Overflow with 6 datablocks ***\n",
      "*** Overflow with 6 datablocks ***\n",
      "*** Overflow with 5 datablocks ***\n",
      "*** Overflow with 7 datablocks ***\n",
      "*** Overflow with 6 datablocks ***\n",
      "*** Overflow with 5 datablocks ***\n",
      "*** Overflow with 7 datablocks ***\n",
      "*** Overflow with 6 datablocks ***\n",
      "*** Overflow with 6 datablocks ***\n",
      "*** Overflow with 6 datablocks ***\n",
      "*** Overflow with 7 datablocks ***\n",
      "*** Overflow with 5 datablocks ***\n"
     ]
    },
    {
     "name": "stderr",
     "output_type": "stream",
     "text": [
      "WARNING:wyrm.types:Discarding data that was longer than the ring buffer.\n"
     ]
    },
    {
     "name": "stdout",
     "output_type": "stream",
     "text": [
      "*** Overflow with 6 datablocks ***\n",
      "*** Overflow with 5 datablocks ***\n",
      "*** Overflow with 7 datablocks ***\n",
      "*** Overflow with 6 datablocks ***\n",
      "*** Overflow with 5 datablocks ***\n",
      "*** Overflow with 7 datablocks ***\n",
      "sending signal! - 51 False - 2393.6715067668897 -- 3.2999999999999963\n",
      "*** Overflow with 8 datablocks ***\n",
      "*** Overflow with 6 datablocks ***\n",
      "*** Overflow with 7 datablocks ***\n",
      "*** Overflow with 6 datablocks ***\n",
      "*** Overflow with 7 datablocks ***\n",
      "*** Overflow with 5 datablocks ***\n",
      "*** Overflow with 8 datablocks ***\n",
      "*** Overflow with 6 datablocks ***\n",
      "*** Overflow with 7 datablocks ***\n",
      "*** Overflow with 5 datablocks ***\n",
      "*** Overflow with 6 datablocks ***\n",
      "*** Overflow with 8 datablocks ***\n",
      "*** Overflow with 6 datablocks ***\n",
      "*** Overflow with 7 datablocks ***\n",
      "*** Overflow with 6 datablocks ***\n"
     ]
    },
    {
     "name": "stderr",
     "output_type": "stream",
     "text": [
      "WARNING:wyrm.types:Discarding data that was longer than the ring buffer.\n"
     ]
    },
    {
     "name": "stdout",
     "output_type": "stream",
     "text": [
      "*** Overflow with 9 datablocks ***\n",
      "*** Overflow with 12 datablocks ***\n",
      "*** Overflow with 6 datablocks ***\n",
      "*** Overflow with 5 datablocks ***\n",
      "*** Overflow with 6 datablocks ***\n",
      "*** Overflow with 5 datablocks ***\n",
      "sending signal! - 52 False - 2486.462065514617 -- 3.349999999999996\n",
      "*** Overflow with 5 datablocks ***\n",
      "*** Overflow with 7 datablocks ***\n",
      "*** Overflow with 6 datablocks ***\n",
      "*** Overflow with 11 datablocks ***\n",
      "*** Overflow with 5 datablocks ***\n",
      "*** Overflow with 6 datablocks ***\n",
      "*** Overflow with 4 datablocks ***\n",
      "*** Overflow with 8 datablocks ***\n",
      "*** Overflow with 9 datablocks ***\n",
      "*** Overflow with 8 datablocks ***\n",
      "*** Overflow with 7 datablocks ***\n",
      "*** Overflow with 8 datablocks ***\n"
     ]
    },
    {
     "name": "stderr",
     "output_type": "stream",
     "text": [
      "WARNING:wyrm.types:Discarding data that was longer than the ring buffer.\n"
     ]
    },
    {
     "name": "stdout",
     "output_type": "stream",
     "text": [
      "*** Overflow with 10 datablocks ***\n",
      "*** Overflow with 5 datablocks ***\n",
      "*** Overflow with 7 datablocks ***\n",
      "*** Overflow with 7 datablocks ***\n",
      "*** Overflow with 5 datablocks ***\n",
      "*** Overflow with 5 datablocks ***\n",
      "*** Overflow with 6 datablocks ***\n",
      "*** Overflow with 6 datablocks ***\n",
      "*** Overflow with 8 datablocks ***\n",
      "sending signal! - 53 False - 2579.6305043381108 -- 3.399999999999996\n",
      "*** Overflow with 6 datablocks ***\n",
      "*** Overflow with 7 datablocks ***\n",
      "*** Overflow with 6 datablocks ***\n",
      "*** Overflow with 8 datablocks ***\n",
      "*** Overflow with 9 datablocks ***\n",
      "*** Overflow with 6 datablocks ***\n",
      "*** Overflow with 5 datablocks ***\n",
      "*** Overflow with 6 datablocks ***\n",
      "*** Overflow with 6 datablocks ***\n"
     ]
    },
    {
     "name": "stderr",
     "output_type": "stream",
     "text": [
      "WARNING:wyrm.types:Discarding data that was longer than the ring buffer.\n"
     ]
    },
    {
     "name": "stdout",
     "output_type": "stream",
     "text": [
      "*** Overflow with 5 datablocks ***\n",
      "*** Overflow with 6 datablocks ***\n",
      "*** Overflow with 5 datablocks ***\n",
      "*** Overflow with 7 datablocks ***\n",
      "*** Overflow with 6 datablocks ***\n",
      "*** Overflow with 4 datablocks ***\n",
      "*** Overflow with 6 datablocks ***\n",
      "*** Overflow with 4 datablocks ***\n",
      "*** Overflow with 9 datablocks ***\n",
      "*** Overflow with 8 datablocks ***\n",
      "*** Overflow with 7 datablocks ***\n",
      "*** Overflow with 4 datablocks ***\n",
      "*** Overflow with 7 datablocks ***\n",
      "*** Overflow with 7 datablocks ***\n",
      "*** Overflow with 9 datablocks ***\n"
     ]
    },
    {
     "name": "stderr",
     "output_type": "stream",
     "text": [
      "WARNING:wyrm.types:Discarding data that was longer than the ring buffer.\n"
     ]
    },
    {
     "name": "stdout",
     "output_type": "stream",
     "text": [
      "*** Overflow with 6 datablocks ***\n",
      "*** Overflow with 7 datablocks ***\n",
      "*** Overflow with 8 datablocks ***\n",
      "*** Overflow with 6 datablocks ***\n",
      "sending signal! - 55 False - 2677.4883423013644 -- 3.4499999999999957\n",
      "*** Overflow with 9 datablocks ***\n",
      "*** Overflow with 5 datablocks ***\n",
      "*** Overflow with 7 datablocks ***\n",
      "*** Overflow with 6 datablocks ***\n",
      "*** Overflow with 6 datablocks ***\n",
      "*** Overflow with 9 datablocks ***\n",
      "*** Overflow with 6 datablocks ***\n",
      "*** Overflow with 6 datablocks ***\n",
      "*** Overflow with 6 datablocks ***\n"
     ]
    },
    {
     "name": "stderr",
     "output_type": "stream",
     "text": [
      "WARNING:wyrm.types:Discarding data that was longer than the ring buffer.\n"
     ]
    },
    {
     "name": "stdout",
     "output_type": "stream",
     "text": [
      "*** Overflow with 6 datablocks ***\n",
      "*** Overflow with 7 datablocks ***\n",
      "*** Overflow with 5 datablocks ***\n",
      "*** Overflow with 6 datablocks ***\n",
      "*** Overflow with 8 datablocks ***\n",
      "*** Overflow with 5 datablocks ***\n",
      "*** Overflow with 7 datablocks ***\n",
      "*** Overflow with 7 datablocks ***\n",
      "*** Overflow with 7 datablocks ***\n",
      "*** Overflow with 7 datablocks ***\n",
      "*** Overflow with 6 datablocks ***\n",
      "*** Overflow with 7 datablocks ***\n",
      "*** Overflow with 4 datablocks ***\n",
      "*** Overflow with 8 datablocks ***\n",
      "*** Overflow with 6 datablocks ***\n"
     ]
    },
    {
     "name": "stderr",
     "output_type": "stream",
     "text": [
      "WARNING:wyrm.types:Discarding data that was longer than the ring buffer.\n"
     ]
    },
    {
     "name": "stdout",
     "output_type": "stream",
     "text": [
      "*** Overflow with 6 datablocks ***\n",
      "*** Overflow with 6 datablocks ***\n",
      "*** Overflow with 8 datablocks ***\n",
      "*** Overflow with 7 datablocks ***\n",
      "sending signal! - 57 False - 2773.1835537582583 -- 3.4999999999999956\n",
      "*** Overflow with 7 datablocks ***\n",
      "*** Overflow with 8 datablocks ***\n",
      "*** Overflow with 6 datablocks ***\n",
      "*** Overflow with 7 datablocks ***\n",
      "*** Overflow with 6 datablocks ***\n",
      "*** Overflow with 8 datablocks ***\n",
      "*** Overflow with 6 datablocks ***\n",
      "*** Overflow with 4 datablocks ***\n",
      "*** Overflow with 10 datablocks ***\n",
      "*** Overflow with 7 datablocks ***\n"
     ]
    },
    {
     "name": "stderr",
     "output_type": "stream",
     "text": [
      "WARNING:wyrm.types:Discarding data that was longer than the ring buffer.\n"
     ]
    },
    {
     "name": "stdout",
     "output_type": "stream",
     "text": [
      "*** Overflow with 6 datablocks ***\n",
      "*** Overflow with 6 datablocks ***\n",
      "*** Overflow with 6 datablocks ***\n",
      "*** Overflow with 6 datablocks ***\n",
      "*** Overflow with 5 datablocks ***\n",
      "*** Overflow with 7 datablocks ***\n",
      "*** Overflow with 6 datablocks ***\n",
      "*** Overflow with 5 datablocks ***\n",
      "*** Overflow with 7 datablocks ***\n",
      "*** Overflow with 6 datablocks ***\n",
      "*** Overflow with 6 datablocks ***\n",
      "*** Overflow with 6 datablocks ***\n",
      "*** Overflow with 6 datablocks ***\n",
      "*** Overflow with 7 datablocks ***\n",
      "*** Overflow with 8 datablocks ***\n"
     ]
    },
    {
     "name": "stderr",
     "output_type": "stream",
     "text": [
      "WARNING:wyrm.types:Discarding data that was longer than the ring buffer.\n"
     ]
    },
    {
     "name": "stdout",
     "output_type": "stream",
     "text": [
      "*** Overflow with 5 datablocks ***\n",
      "*** Overflow with 8 datablocks ***\n",
      "sending signal! - 59 False - 2892.9634675306575 -- 3.5499999999999954\n",
      "*** Overflow with 6 datablocks ***\n",
      "*** Overflow with 7 datablocks ***\n",
      "*** Overflow with 6 datablocks ***\n",
      "*** Overflow with 5 datablocks ***\n",
      "*** Overflow with 6 datablocks ***\n",
      "*** Overflow with 8 datablocks ***\n",
      "*** Overflow with 10 datablocks ***\n",
      "*** Overflow with 5 datablocks ***\n",
      "*** Overflow with 10 datablocks ***\n",
      "*** Overflow with 11 datablocks ***\n",
      "*** Overflow with 20 datablocks ***\n"
     ]
    },
    {
     "name": "stderr",
     "output_type": "stream",
     "text": [
      "WARNING:wyrm.types:Discarding data that was longer than the ring buffer.\n"
     ]
    },
    {
     "name": "stdout",
     "output_type": "stream",
     "text": [
      "*** Overflow with 16 datablocks ***\n",
      "*** Overflow with 15 datablocks ***\n",
      "*** Overflow with 9 datablocks ***\n",
      "*** Overflow with 7 datablocks ***\n",
      "*** Overflow with 11 datablocks ***\n",
      "*** Overflow with 6 datablocks ***\n",
      "*** Overflow with 10 datablocks ***\n",
      "*** Overflow with 8 datablocks ***\n",
      "*** Overflow with 12 datablocks ***\n",
      "*** Overflow with 11 datablocks ***\n",
      "*** Overflow with 13 datablocks ***\n",
      "*** Overflow with 7 datablocks ***\n",
      "*** Overflow with 11 datablocks ***\n",
      "*** Overflow with 12 datablocks ***\n",
      "*** Overflow with 11 datablocks ***\n"
     ]
    },
    {
     "name": "stderr",
     "output_type": "stream",
     "text": [
      "WARNING:wyrm.types:Discarding data that was longer than the ring buffer.\n"
     ]
    },
    {
     "name": "stdout",
     "output_type": "stream",
     "text": [
      "*** Overflow with 7 datablocks ***\n",
      "*** Overflow with 6 datablocks ***\n",
      "*** Overflow with 7 datablocks ***\n",
      "sending signal! - 61 False - 2983.179363908995 -- 3.599999999999995\n",
      "*** Overflow with 8 datablocks ***\n",
      "*** Overflow with 8 datablocks ***\n",
      "*** Overflow with 7 datablocks ***\n",
      "*** Overflow with 7 datablocks ***\n",
      "*** Overflow with 9 datablocks ***\n",
      "*** Overflow with 7 datablocks ***\n",
      "*** Overflow with 13 datablocks ***\n",
      "*** Overflow with 10 datablocks ***\n",
      "*** Overflow with 8 datablocks ***\n",
      "*** Overflow with 5 datablocks ***\n",
      "*** Overflow with 7 datablocks ***\n",
      "*** Overflow with 7 datablocks ***\n",
      "*** Overflow with 9 datablocks ***\n",
      "*** Overflow with 5 datablocks ***\n",
      "*** Overflow with 7 datablocks ***\n",
      "*** Overflow with 6 datablocks ***\n",
      "*** Overflow with 6 datablocks ***\n",
      "*** Overflow with 6 datablocks ***\n",
      "*** Overflow with 8 datablocks ***\n",
      "*** Overflow with 6 datablocks ***\n",
      "*** Overflow with 6 datablocks ***\n"
     ]
    },
    {
     "name": "stderr",
     "output_type": "stream",
     "text": [
      "WARNING:wyrm.types:Discarding data that was longer than the ring buffer.\n"
     ]
    },
    {
     "name": "stdout",
     "output_type": "stream",
     "text": [
      "*** Overflow with 6 datablocks ***\n",
      "*** Overflow with 6 datablocks ***\n",
      "sending signal! - 62 False - 3087.8720907894453 -- 3.649999999999995\n",
      "*** Overflow with 10 datablocks ***\n",
      "*** Overflow with 8 datablocks ***\n",
      "*** Overflow with 11 datablocks ***\n",
      "*** Overflow with 7 datablocks ***\n",
      "*** Overflow with 7 datablocks ***\n",
      "*** Overflow with 9 datablocks ***\n",
      "*** Overflow with 9 datablocks ***\n",
      "*** Overflow with 9 datablocks ***\n",
      "*** Overflow with 11 datablocks ***\n",
      "*** Overflow with 6 datablocks ***\n",
      "*** Overflow with 15 datablocks ***\n",
      "*** Overflow with 10 datablocks ***\n",
      "*** Overflow with 14 datablocks ***\n",
      "*** Overflow with 6 datablocks ***\n",
      "*** Overflow with 6 datablocks ***\n",
      "*** Overflow with 10 datablocks ***\n",
      "*** Overflow with 6 datablocks ***\n",
      "*** Overflow with 7 datablocks ***\n",
      "*** Overflow with 7 datablocks ***\n",
      "*** Overflow with 8 datablocks ***\n"
     ]
    },
    {
     "name": "stderr",
     "output_type": "stream",
     "text": [
      "WARNING:wyrm.types:Discarding data that was longer than the ring buffer.\n"
     ]
    },
    {
     "name": "stdout",
     "output_type": "stream",
     "text": [
      "*** Overflow with 5 datablocks ***\n",
      "*** Overflow with 6 datablocks ***\n",
      "*** Overflow with 7 datablocks ***\n",
      "*** Overflow with 7 datablocks ***\n",
      "sending signal! - 63 False - 3187.8354166250065 -- 3.699999999999995\n",
      "*** Overflow with 6 datablocks ***\n",
      "*** Overflow with 7 datablocks ***\n",
      "*** Overflow with 8 datablocks ***\n",
      "*** Overflow with 10 datablocks ***\n",
      "*** Overflow with 8 datablocks ***\n",
      "*** Overflow with 6 datablocks ***\n",
      "*** Overflow with 7 datablocks ***\n",
      "*** Overflow with 6 datablocks ***\n",
      "*** Overflow with 7 datablocks ***\n",
      "*** Overflow with 10 datablocks ***\n",
      "*** Overflow with 6 datablocks ***\n",
      "*** Overflow with 12 datablocks ***\n",
      "*** Overflow with 10 datablocks ***\n",
      "*** Overflow with 7 datablocks ***\n",
      "*** Overflow with 9 datablocks ***\n",
      "*** Overflow with 9 datablocks ***\n",
      "*** Overflow with 9 datablocks ***\n",
      "*** Overflow with 11 datablocks ***\n",
      "*** Overflow with 10 datablocks ***\n"
     ]
    },
    {
     "name": "stderr",
     "output_type": "stream",
     "text": [
      "WARNING:wyrm.types:Discarding data that was longer than the ring buffer.\n"
     ]
    },
    {
     "name": "stdout",
     "output_type": "stream",
     "text": [
      "*** Overflow with 7 datablocks ***\n",
      "*** Overflow with 9 datablocks ***\n",
      "*** Overflow with 7 datablocks ***\n",
      "*** Overflow with 11 datablocks ***\n",
      "*** Overflow with 9 datablocks ***\n",
      "sending signal! - 64 False - 3289.2602966906647 -- 3.7499999999999947\n",
      "*** Overflow with 13 datablocks ***\n",
      "*** Overflow with 11 datablocks ***\n",
      "*** Overflow with 6 datablocks ***\n",
      "*** Overflow with 7 datablocks ***\n",
      "*** Overflow with 11 datablocks ***\n",
      "*** Overflow with 9 datablocks ***\n",
      "*** Overflow with 8 datablocks ***\n",
      "*** Overflow with 7 datablocks ***\n",
      "*** Overflow with 6 datablocks ***\n",
      "*** Overflow with 6 datablocks ***\n",
      "*** Overflow with 7 datablocks ***\n",
      "*** Overflow with 8 datablocks ***\n",
      "*** Overflow with 6 datablocks ***\n",
      "*** Overflow with 6 datablocks ***\n",
      "*** Overflow with 6 datablocks ***\n",
      "*** Overflow with 7 datablocks ***\n",
      "*** Overflow with 5 datablocks ***\n",
      "*** Overflow with 6 datablocks ***\n",
      "*** Overflow with 6 datablocks ***\n"
     ]
    },
    {
     "name": "stderr",
     "output_type": "stream",
     "text": [
      "WARNING:wyrm.types:Discarding data that was longer than the ring buffer.\n"
     ]
    },
    {
     "name": "stdout",
     "output_type": "stream",
     "text": [
      "*** Overflow with 6 datablocks ***\n",
      "*** Overflow with 6 datablocks ***\n",
      "*** Overflow with 6 datablocks ***\n",
      "*** Overflow with 5 datablocks ***\n",
      "sending signal! - 65 False - 3398.1317512709666 -- 3.7999999999999945\n",
      "*** Overflow with 6 datablocks ***\n",
      "*** Overflow with 6 datablocks ***\n",
      "*** Overflow with 7 datablocks ***\n",
      "*** Overflow with 5 datablocks ***\n",
      "*** Overflow with 5 datablocks ***\n",
      "*** Overflow with 11 datablocks ***\n",
      "*** Overflow with 7 datablocks ***\n",
      "*** Overflow with 6 datablocks ***\n",
      "*** Overflow with 7 datablocks ***\n",
      "*** Overflow with 11 datablocks ***\n",
      "*** Overflow with 7 datablocks ***\n",
      "*** Overflow with 5 datablocks ***\n",
      "*** Overflow with 10 datablocks ***\n",
      "*** Overflow with 6 datablocks ***\n",
      "*** Overflow with 6 datablocks ***\n",
      "*** Overflow with 6 datablocks ***\n",
      "*** Overflow with 7 datablocks ***\n",
      "*** Overflow with 6 datablocks ***\n",
      "*** Overflow with 6 datablocks ***\n"
     ]
    },
    {
     "name": "stderr",
     "output_type": "stream",
     "text": [
      "WARNING:wyrm.types:Discarding data that was longer than the ring buffer.\n"
     ]
    },
    {
     "name": "stdout",
     "output_type": "stream",
     "text": [
      "*** Overflow with 7 datablocks ***\n",
      "*** Overflow with 8 datablocks ***\n",
      "*** Overflow with 6 datablocks ***\n",
      "*** Overflow with 6 datablocks ***\n",
      "sending signal! - 66 False - 3492.467187350347 -- 3.8499999999999943\n",
      "*** Overflow with 8 datablocks ***\n",
      "*** Overflow with 7 datablocks ***\n",
      "*** Overflow with 10 datablocks ***\n",
      "*** Overflow with 6 datablocks ***\n",
      "*** Overflow with 7 datablocks ***\n",
      "*** Overflow with 6 datablocks ***\n",
      "*** Overflow with 6 datablocks ***\n",
      "*** Overflow with 5 datablocks ***\n",
      "*** Overflow with 8 datablocks ***\n",
      "*** Overflow with 12 datablocks ***\n",
      "*** Overflow with 7 datablocks ***\n",
      "*** Overflow with 9 datablocks ***\n",
      "*** Overflow with 9 datablocks ***\n",
      "*** Overflow with 8 datablocks ***\n",
      "*** Overflow with 6 datablocks ***\n"
     ]
    },
    {
     "name": "stderr",
     "output_type": "stream",
     "text": [
      "WARNING:wyrm.types:Discarding data that was longer than the ring buffer.\n"
     ]
    },
    {
     "name": "stdout",
     "output_type": "stream",
     "text": [
      "*** Overflow with 4 datablocks ***\n",
      "*** Overflow with 8 datablocks ***\n",
      "*** Overflow with 7 datablocks ***\n",
      "*** Overflow with 6 datablocks ***\n",
      "*** Overflow with 7 datablocks ***\n",
      "*** Overflow with 5 datablocks ***\n",
      "*** Overflow with 8 datablocks ***\n",
      "*** Overflow with 5 datablocks ***\n",
      "*** Overflow with 10 datablocks ***\n",
      "sending signal! - 67 False - 3597.831396750663 -- 3.899999999999994\n",
      "*** Overflow with 7 datablocks ***\n",
      "*** Overflow with 6 datablocks ***\n",
      "*** Overflow with 5 datablocks ***\n",
      "*** Overflow with 6 datablocks ***\n",
      "*** Overflow with 7 datablocks ***\n",
      "*** Overflow with 6 datablocks ***\n",
      "*** Overflow with 6 datablocks ***\n",
      "*** Overflow with 6 datablocks ***\n",
      "*** Overflow with 5 datablocks ***\n",
      "*** Overflow with 6 datablocks ***\n",
      "*** Overflow with 6 datablocks ***\n"
     ]
    },
    {
     "name": "stderr",
     "output_type": "stream",
     "text": [
      "WARNING:wyrm.types:Discarding data that was longer than the ring buffer.\n"
     ]
    },
    {
     "name": "stdout",
     "output_type": "stream",
     "text": [
      "*** Overflow with 5 datablocks ***\n",
      "*** Overflow with 7 datablocks ***\n",
      "*** Overflow with 5 datablocks ***\n",
      "*** Overflow with 7 datablocks ***\n",
      "*** Overflow with 6 datablocks ***\n",
      "*** Overflow with 6 datablocks ***\n",
      "*** Overflow with 6 datablocks ***\n",
      "*** Overflow with 7 datablocks ***\n",
      "*** Overflow with 5 datablocks ***\n",
      "*** Overflow with 9 datablocks ***\n",
      "*** Overflow with 9 datablocks ***\n",
      "*** Overflow with 8 datablocks ***\n",
      "*** Overflow with 7 datablocks ***\n",
      "*** Overflow with 7 datablocks ***\n",
      "*** Overflow with 6 datablocks ***\n",
      "*** Overflow with 7 datablocks ***\n",
      "*** Overflow with 6 datablocks ***\n",
      "*** Overflow with 5 datablocks ***\n",
      "*** Overflow with 6 datablocks ***\n",
      "*** Overflow with 7 datablocks ***\n",
      "*** Overflow with 5 datablocks ***\n"
     ]
    },
    {
     "name": "stderr",
     "output_type": "stream",
     "text": [
      "WARNING:wyrm.types:Discarding data that was longer than the ring buffer.\n"
     ]
    },
    {
     "name": "stdout",
     "output_type": "stream",
     "text": [
      "*** Overflow with 6 datablocks ***\n",
      "*** Overflow with 8 datablocks ***\n",
      "*** Overflow with 6 datablocks ***\n",
      "*** Overflow with 7 datablocks ***\n",
      "sending signal! - 69 False - 3710.480980592417 -- 3.949999999999994\n",
      "*** Overflow with 7 datablocks ***\n",
      "*** Overflow with 5 datablocks ***\n",
      "*** Overflow with 6 datablocks ***\n",
      "*** Overflow with 7 datablocks ***\n",
      "*** Overflow with 7 datablocks ***\n",
      "*** Overflow with 10 datablocks ***\n",
      "*** Overflow with 7 datablocks ***\n",
      "*** Overflow with 6 datablocks ***\n",
      "*** Overflow with 7 datablocks ***\n",
      "*** Overflow with 11 datablocks ***\n",
      "*** Overflow with 6 datablocks ***\n",
      "*** Overflow with 5 datablocks ***\n",
      "*** Overflow with 6 datablocks ***\n",
      "*** Overflow with 6 datablocks ***\n",
      "*** Overflow with 5 datablocks ***\n",
      "*** Overflow with 6 datablocks ***\n",
      "*** Overflow with 4 datablocks ***\n",
      "*** Overflow with 7 datablocks ***\n"
     ]
    },
    {
     "name": "stderr",
     "output_type": "stream",
     "text": [
      "WARNING:wyrm.types:Discarding data that was longer than the ring buffer.\n"
     ]
    },
    {
     "name": "stdout",
     "output_type": "stream",
     "text": [
      "*** Overflow with 6 datablocks ***\n",
      "*** Overflow with 5 datablocks ***\n",
      "*** Overflow with 11 datablocks ***\n",
      "*** Overflow with 6 datablocks ***\n",
      "*** Overflow with 6 datablocks ***\n",
      "sending signal! - 70 False - 3837.8261049657235 -- 3.999999999999994\n",
      "*** Overflow with 6 datablocks ***\n",
      "*** Overflow with 8 datablocks ***\n",
      "*** Overflow with 8 datablocks ***\n",
      "*** Overflow with 6 datablocks ***\n",
      "*** Overflow with 4 datablocks ***\n",
      "*** Overflow with 6 datablocks ***\n",
      "*** Overflow with 10 datablocks ***\n",
      "*** Overflow with 12 datablocks ***\n",
      "*** Overflow with 11 datablocks ***\n",
      "*** Overflow with 7 datablocks ***\n",
      "*** Overflow with 6 datablocks ***\n",
      "*** Overflow with 8 datablocks ***\n",
      "*** Overflow with 10 datablocks ***\n",
      "*** Overflow with 7 datablocks ***\n",
      "*** Overflow with 7 datablocks ***\n"
     ]
    },
    {
     "name": "stderr",
     "output_type": "stream",
     "text": [
      "WARNING:wyrm.types:Discarding data that was longer than the ring buffer.\n"
     ]
    },
    {
     "name": "stdout",
     "output_type": "stream",
     "text": [
      "*** Overflow with 9 datablocks ***\n",
      "*** Overflow with 7 datablocks ***\n",
      "*** Overflow with 8 datablocks ***\n",
      "*** Overflow with 7 datablocks ***\n",
      "*** Overflow with 5 datablocks ***\n",
      "*** Overflow with 6 datablocks ***\n",
      "*** Overflow with 8 datablocks ***\n",
      "*** Overflow with 12 datablocks ***\n",
      "*** Overflow with 6 datablocks ***\n",
      "sending signal! - 71 False - 3960.9646793155057 -- 4.049999999999994\n",
      "*** Overflow with 7 datablocks ***\n",
      "*** Overflow with 5 datablocks ***\n",
      "*** Overflow with 6 datablocks ***\n",
      "*** Overflow with 5 datablocks ***\n",
      "*** Overflow with 7 datablocks ***\n",
      "*** Overflow with 6 datablocks ***\n",
      "*** Overflow with 5 datablocks ***\n",
      "*** Overflow with 7 datablocks ***\n",
      "*** Overflow with 6 datablocks ***\n",
      "*** Overflow with 5 datablocks ***\n",
      "*** Overflow with 6 datablocks ***\n",
      "*** Overflow with 6 datablocks ***\n",
      "*** Overflow with 4 datablocks ***\n",
      "*** Overflow with 8 datablocks ***\n"
     ]
    },
    {
     "name": "stderr",
     "output_type": "stream",
     "text": [
      "WARNING:wyrm.types:Discarding data that was longer than the ring buffer.\n"
     ]
    },
    {
     "name": "stdout",
     "output_type": "stream",
     "text": [
      "*** Overflow with 8 datablocks ***\n",
      "*** Overflow with 6 datablocks ***\n",
      "*** Overflow with 6 datablocks ***\n",
      "*** Overflow with 7 datablocks ***\n",
      "*** Overflow with 5 datablocks ***\n",
      "*** Overflow with 6 datablocks ***\n",
      "*** Overflow with 6 datablocks ***\n",
      "*** Overflow with 6 datablocks ***\n",
      "*** Overflow with 9 datablocks ***\n",
      "*** Overflow with 7 datablocks ***\n",
      "*** Overflow with 5 datablocks ***\n",
      "*** Overflow with 6 datablocks ***\n",
      "*** Overflow with 6 datablocks ***\n",
      "*** Overflow with 12 datablocks ***\n",
      "*** Overflow with 6 datablocks ***\n",
      "*** Overflow with 4 datablocks ***\n",
      "*** Overflow with 6 datablocks ***\n",
      "*** Overflow with 8 datablocks ***\n",
      "*** Overflow with 4 datablocks ***\n",
      "*** Overflow with 6 datablocks ***\n",
      "*** Overflow with 6 datablocks ***\n",
      "*** Overflow with 6 datablocks ***\n"
     ]
    },
    {
     "name": "stderr",
     "output_type": "stream",
     "text": [
      "WARNING:wyrm.types:Discarding data that was longer than the ring buffer.\n"
     ]
    },
    {
     "name": "stdout",
     "output_type": "stream",
     "text": [
      "*** Overflow with 7 datablocks ***\n",
      "*** Overflow with 7 datablocks ***\n",
      "*** Overflow with 4 datablocks ***\n",
      "*** Overflow with 6 datablocks ***\n",
      "*** Overflow with 6 datablocks ***\n",
      "sending signal! - 73 False - 4100.733207257936 -- 4.099999999999993\n",
      "*** Overflow with 6 datablocks ***\n",
      "*** Overflow with 7 datablocks ***\n",
      "*** Overflow with 9 datablocks ***\n",
      "*** Overflow with 9 datablocks ***\n",
      "*** Overflow with 6 datablocks ***\n",
      "*** Overflow with 7 datablocks ***\n",
      "*** Overflow with 7 datablocks ***\n",
      "*** Overflow with 7 datablocks ***\n",
      "*** Overflow with 10 datablocks ***\n",
      "*** Overflow with 4 datablocks ***\n",
      "*** Overflow with 8 datablocks ***\n",
      "*** Overflow with 6 datablocks ***\n",
      "*** Overflow with 8 datablocks ***\n",
      "*** Overflow with 13 datablocks ***\n",
      "*** Overflow with 7 datablocks ***\n",
      "*** Overflow with 8 datablocks ***\n",
      "*** Overflow with 7 datablocks ***\n"
     ]
    },
    {
     "name": "stderr",
     "output_type": "stream",
     "text": [
      "WARNING:wyrm.types:Discarding data that was longer than the ring buffer.\n"
     ]
    },
    {
     "name": "stdout",
     "output_type": "stream",
     "text": [
      "*** Overflow with 5 datablocks ***\n",
      "*** Overflow with 6 datablocks ***\n",
      "*** Overflow with 8 datablocks ***\n",
      "*** Overflow with 6 datablocks ***\n",
      "*** Overflow with 6 datablocks ***\n",
      "*** Overflow with 6 datablocks ***\n",
      "*** Overflow with 6 datablocks ***\n",
      "*** Overflow with 7 datablocks ***\n",
      "*** Overflow with 9 datablocks ***\n",
      "sending signal! - 74 False - 4220.889683895917 -- 4.149999999999993\n",
      "*** Overflow with 8 datablocks ***\n",
      "*** Overflow with 7 datablocks ***\n",
      "*** Overflow with 6 datablocks ***\n",
      "*** Overflow with 7 datablocks ***\n",
      "*** Overflow with 9 datablocks ***\n",
      "*** Overflow with 8 datablocks ***\n",
      "*** Overflow with 6 datablocks ***\n",
      "*** Overflow with 5 datablocks ***\n",
      "*** Overflow with 6 datablocks ***\n",
      "*** Overflow with 6 datablocks ***\n",
      "*** Overflow with 6 datablocks ***\n",
      "*** Overflow with 7 datablocks ***\n",
      "*** Overflow with 5 datablocks ***\n",
      "*** Overflow with 6 datablocks ***\n",
      "*** Overflow with 7 datablocks ***\n",
      "*** Overflow with 5 datablocks ***\n",
      "*** Overflow with 7 datablocks ***\n",
      "*** Overflow with 6 datablocks ***\n",
      "*** Overflow with 5 datablocks ***\n"
     ]
    },
    {
     "name": "stderr",
     "output_type": "stream",
     "text": [
      "WARNING:wyrm.types:Discarding data that was longer than the ring buffer.\n"
     ]
    },
    {
     "name": "stdout",
     "output_type": "stream",
     "text": [
      "*** Overflow with 7 datablocks ***\n",
      "*** Overflow with 7 datablocks ***\n",
      "*** Overflow with 5 datablocks ***\n",
      "*** Overflow with 7 datablocks ***\n",
      "*** Overflow with 8 datablocks ***\n",
      "*** Overflow with 10 datablocks ***\n",
      "*** Overflow with 6 datablocks ***\n",
      "*** Overflow with 5 datablocks ***\n",
      "*** Overflow with 7 datablocks ***\n",
      "*** Overflow with 8 datablocks ***\n",
      "*** Overflow with 4 datablocks ***\n",
      "sending signal! - 75 False - 4349.278782500759 -- 4.199999999999993\n",
      "*** Overflow with 8 datablocks ***\n",
      "*** Overflow with 6 datablocks ***\n",
      "*** Overflow with 4 datablocks ***\n",
      "*** Overflow with 9 datablocks ***\n",
      "*** Overflow with 8 datablocks ***\n",
      "FLIPPING/GOING THE THE MIDDLE AGAIN\n",
      "*** Overflow with 7 datablocks ***\n",
      "*** Overflow with 8 datablocks ***\n",
      "*** Overflow with 5 datablocks ***\n",
      "*** Overflow with 7 datablocks ***\n",
      "*** Overflow with 7 datablocks ***\n",
      "*** Overflow with 7 datablocks ***\n",
      "*** Overflow with 6 datablocks ***\n",
      "*** Overflow with 6 datablocks ***\n",
      "*** Overflow with 7 datablocks ***\n"
     ]
    },
    {
     "name": "stderr",
     "output_type": "stream",
     "text": [
      "WARNING:wyrm.types:Discarding data that was longer than the ring buffer.\n"
     ]
    },
    {
     "name": "stdout",
     "output_type": "stream",
     "text": [
      "*** Overflow with 6 datablocks ***\n",
      "*** Overflow with 7 datablocks ***\n",
      "*** Overflow with 6 datablocks ***\n",
      "*** Overflow with 9 datablocks ***\n",
      "*** Overflow with 9 datablocks ***\n",
      "*** Overflow with 5 datablocks ***\n",
      "*** Overflow with 7 datablocks ***\n",
      "*** Overflow with 8 datablocks ***\n",
      "*** Overflow with 6 datablocks ***\n",
      "*** Overflow with 8 datablocks ***\n",
      "*** Overflow with 6 datablocks ***\n",
      "*** Overflow with 7 datablocks ***\n",
      "*** Overflow with 10 datablocks ***\n",
      "*** Overflow with 7 datablocks ***\n",
      "*** Overflow with 5 datablocks ***\n",
      "*** Overflow with 6 datablocks ***\n",
      "*** Overflow with 6 datablocks ***\n",
      "*** Overflow with 5 datablocks ***\n",
      "*** Overflow with 6 datablocks ***\n",
      "*** Overflow with 6 datablocks ***\n",
      "*** Overflow with 6 datablocks ***\n",
      "*** Overflow with 6 datablocks ***\n",
      "*** Overflow with 4 datablocks ***\n",
      "*** Overflow with 8 datablocks ***\n",
      "*** Overflow with 4 datablocks ***\n",
      "*** Overflow with 6 datablocks ***\n",
      "*** Overflow with 6 datablocks ***\n"
     ]
    },
    {
     "name": "stderr",
     "output_type": "stream",
     "text": [
      "WARNING:wyrm.types:Discarding data that was longer than the ring buffer.\n"
     ]
    },
    {
     "name": "stdout",
     "output_type": "stream",
     "text": [
      "*** Overflow with 5 datablocks ***\n",
      "*** Overflow with 7 datablocks ***\n",
      "*** Overflow with 6 datablocks ***\n",
      "sending signal! - 77 False - 4510.975658566106 -- 4.249999999999993\n",
      "*** Overflow with 6 datablocks ***\n",
      "*** Overflow with 6 datablocks ***\n",
      "*** Overflow with 6 datablocks ***\n",
      "*** Overflow with 6 datablocks ***\n",
      "*** Overflow with 6 datablocks ***\n",
      "*** Overflow with 6 datablocks ***\n",
      "*** Overflow with 5 datablocks ***\n",
      "*** Overflow with 7 datablocks ***\n",
      "*** Overflow with 6 datablocks ***\n",
      "*** Overflow with 10 datablocks ***\n",
      "*** Overflow with 7 datablocks ***\n",
      "*** Overflow with 5 datablocks ***\n",
      "*** Overflow with 7 datablocks ***\n",
      "*** Overflow with 5 datablocks ***\n",
      "*** Overflow with 7 datablocks ***\n",
      "*** Overflow with 7 datablocks ***\n",
      "*** Overflow with 5 datablocks ***\n",
      "*** Overflow with 6 datablocks ***\n",
      "*** Overflow with 7 datablocks ***\n",
      "*** Overflow with 6 datablocks ***\n",
      "*** Overflow with 6 datablocks ***\n"
     ]
    },
    {
     "name": "stderr",
     "output_type": "stream",
     "text": [
      "WARNING:wyrm.types:Discarding data that was longer than the ring buffer.\n"
     ]
    },
    {
     "name": "stdout",
     "output_type": "stream",
     "text": [
      "*** Overflow with 6 datablocks ***\n",
      "*** Overflow with 5 datablocks ***\n",
      "*** Overflow with 7 datablocks ***\n",
      "*** Overflow with 7 datablocks ***\n",
      "*** Overflow with 7 datablocks ***\n",
      "sending signal! - 78 False - 4628.2747964515875 -- 4.299999999999993\n",
      "*** Overflow with 6 datablocks ***\n",
      "*** Overflow with 9 datablocks ***\n",
      "*** Overflow with 7 datablocks ***\n",
      "*** Overflow with 8 datablocks ***\n",
      "*** Overflow with 7 datablocks ***\n",
      "*** Overflow with 9 datablocks ***\n",
      "*** Overflow with 5 datablocks ***\n",
      "*** Overflow with 11 datablocks ***\n",
      "*** Overflow with 8 datablocks ***\n",
      "*** Overflow with 10 datablocks ***\n",
      "*** Overflow with 8 datablocks ***\n",
      "*** Overflow with 9 datablocks ***\n",
      "*** Overflow with 8 datablocks ***\n",
      "*** Overflow with 9 datablocks ***\n",
      "*** Overflow with 8 datablocks ***\n",
      "*** Overflow with 7 datablocks ***\n"
     ]
    },
    {
     "name": "stderr",
     "output_type": "stream",
     "text": [
      "WARNING:wyrm.types:Discarding data that was longer than the ring buffer.\n"
     ]
    },
    {
     "name": "stdout",
     "output_type": "stream",
     "text": [
      "*** Overflow with 10 datablocks ***\n",
      "*** Overflow with 9 datablocks ***\n",
      "*** Overflow with 8 datablocks ***\n",
      "*** Overflow with 7 datablocks ***\n",
      "*** Overflow with 10 datablocks ***\n",
      "*** Overflow with 12 datablocks ***\n",
      "sending signal! - 79 False - 4771.305000811257 -- 4.3499999999999925\n",
      "*** Overflow with 9 datablocks ***\n",
      "*** Overflow with 6 datablocks ***\n",
      "*** Overflow with 10 datablocks ***\n",
      "*** Overflow with 10 datablocks ***\n",
      "*** Overflow with 6 datablocks ***\n",
      "*** Overflow with 8 datablocks ***\n",
      "*** Overflow with 10 datablocks ***\n",
      "*** Overflow with 10 datablocks ***\n",
      "*** Overflow with 6 datablocks ***\n",
      "*** Overflow with 7 datablocks ***\n",
      "*** Overflow with 11 datablocks ***\n",
      "*** Overflow with 13 datablocks ***\n"
     ]
    },
    {
     "name": "stderr",
     "output_type": "stream",
     "text": [
      "WARNING:wyrm.types:Discarding data that was longer than the ring buffer.\n"
     ]
    },
    {
     "name": "stdout",
     "output_type": "stream",
     "text": [
      "*** Overflow with 13 datablocks ***\n",
      "*** Overflow with 10 datablocks ***\n",
      "*** Overflow with 8 datablocks ***\n",
      "*** Overflow with 7 datablocks ***\n",
      "*** Overflow with 5 datablocks ***\n",
      "*** Overflow with 8 datablocks ***\n",
      "*** Overflow with 12 datablocks ***\n",
      "*** Overflow with 7 datablocks ***\n",
      "*** Overflow with 8 datablocks ***\n",
      "*** Overflow with 7 datablocks ***\n",
      "*** Overflow with 8 datablocks ***\n",
      "*** Overflow with 6 datablocks ***\n",
      "*** Overflow with 7 datablocks ***\n",
      "*** Overflow with 7 datablocks ***\n",
      "*** Overflow with 4 datablocks ***\n",
      "sending signal! - 80 False - 4901.203096355667 -- 4.399999999999992\n",
      "*** Overflow with 7 datablocks ***\n",
      "*** Overflow with 5 datablocks ***\n",
      "*** Overflow with 6 datablocks ***\n",
      "*** Overflow with 4 datablocks ***\n",
      "*** Overflow with 6 datablocks ***\n",
      "*** Overflow with 6 datablocks ***\n",
      "*** Overflow with 6 datablocks ***\n",
      "*** Overflow with 6 datablocks ***\n",
      "*** Overflow with 6 datablocks ***\n",
      "*** Overflow with 5 datablocks ***\n",
      "*** Overflow with 7 datablocks ***\n",
      "*** Overflow with 6 datablocks ***\n",
      "*** Overflow with 6 datablocks ***\n",
      "*** Overflow with 8 datablocks ***\n"
     ]
    },
    {
     "name": "stderr",
     "output_type": "stream",
     "text": [
      "WARNING:wyrm.types:Discarding data that was longer than the ring buffer.\n"
     ]
    },
    {
     "name": "stdout",
     "output_type": "stream",
     "text": [
      "*** Overflow with 11 datablocks ***\n",
      "*** Overflow with 10 datablocks ***\n",
      "*** Overflow with 12 datablocks ***\n",
      "*** Overflow with 11 datablocks ***\n",
      "*** Overflow with 6 datablocks ***\n",
      "*** Overflow with 5 datablocks ***\n",
      "*** Overflow with 7 datablocks ***\n",
      "*** Overflow with 5 datablocks ***\n",
      "*** Overflow with 6 datablocks ***\n",
      "*** Overflow with 6 datablocks ***\n",
      "*** Overflow with 5 datablocks ***\n",
      "*** Overflow with 6 datablocks ***\n",
      "*** Overflow with 7 datablocks ***\n",
      "*** Overflow with 8 datablocks ***\n",
      "*** Overflow with 6 datablocks ***\n",
      "*** Overflow with 9 datablocks ***\n",
      "*** Overflow with 6 datablocks ***\n",
      "*** Overflow with 6 datablocks ***\n",
      "*** Overflow with 7 datablocks ***\n",
      "*** Overflow with 7 datablocks ***\n"
     ]
    },
    {
     "name": "stderr",
     "output_type": "stream",
     "text": [
      "WARNING:wyrm.types:Discarding data that was longer than the ring buffer.\n"
     ]
    },
    {
     "name": "stdout",
     "output_type": "stream",
     "text": [
      "*** Overflow with 10 datablocks ***\n",
      "*** Overflow with 8 datablocks ***\n",
      "*** Overflow with 8 datablocks ***\n",
      "*** Overflow with 9 datablocks ***\n",
      "sending signal! - 82 False - 5060.661908873353 -- 4.449999999999992\n",
      "*** Overflow with 7 datablocks ***\n",
      "*** Overflow with 6 datablocks ***\n",
      "*** Overflow with 7 datablocks ***\n",
      "*** Overflow with 9 datablocks ***\n",
      "*** Overflow with 7 datablocks ***\n",
      "*** Overflow with 13 datablocks ***\n",
      "*** Overflow with 6 datablocks ***\n",
      "*** Overflow with 7 datablocks ***\n",
      "*** Overflow with 11 datablocks ***\n",
      "*** Overflow with 7 datablocks ***\n",
      "*** Overflow with 5 datablocks ***\n",
      "*** Overflow with 6 datablocks ***\n",
      "*** Overflow with 6 datablocks ***\n",
      "*** Overflow with 7 datablocks ***\n"
     ]
    },
    {
     "name": "stderr",
     "output_type": "stream",
     "text": [
      "WARNING:wyrm.types:Discarding data that was longer than the ring buffer.\n"
     ]
    },
    {
     "name": "stdout",
     "output_type": "stream",
     "text": [
      "*** Overflow with 6 datablocks ***\n",
      "*** Overflow with 5 datablocks ***\n",
      "*** Overflow with 7 datablocks ***\n",
      "*** Overflow with 7 datablocks ***\n",
      "*** Overflow with 5 datablocks ***\n",
      "*** Overflow with 11 datablocks ***\n",
      "sending signal! - 83 False - 5203.613014538081 -- 4.499999999999992\n",
      "*** Overflow with 7 datablocks ***\n",
      "*** Overflow with 7 datablocks ***\n",
      "*** Overflow with 8 datablocks ***\n",
      "*** Overflow with 10 datablocks ***\n",
      "*** Overflow with 8 datablocks ***\n",
      "*** Overflow with 8 datablocks ***\n",
      "*** Overflow with 17 datablocks ***\n",
      "*** Overflow with 6 datablocks ***\n",
      "*** Overflow with 6 datablocks ***\n",
      "*** Overflow with 6 datablocks ***\n",
      "*** Overflow with 5 datablocks ***\n"
     ]
    },
    {
     "name": "stderr",
     "output_type": "stream",
     "text": [
      "WARNING:wyrm.types:Discarding data that was longer than the ring buffer.\n"
     ]
    },
    {
     "name": "stdout",
     "output_type": "stream",
     "text": [
      "*** Overflow with 6 datablocks ***\n",
      "*** Overflow with 7 datablocks ***\n",
      "*** Overflow with 6 datablocks ***\n",
      "*** Overflow with 7 datablocks ***\n",
      "*** Overflow with 6 datablocks ***\n",
      "*** Overflow with 6 datablocks ***\n",
      "*** Overflow with 6 datablocks ***\n",
      "*** Overflow with 7 datablocks ***\n",
      "*** Overflow with 6 datablocks ***\n",
      "*** Overflow with 9 datablocks ***\n",
      "*** Overflow with 6 datablocks ***\n",
      "*** Overflow with 7 datablocks ***\n",
      "*** Overflow with 5 datablocks ***\n",
      "*** Overflow with 7 datablocks ***\n",
      "*** Overflow with 8 datablocks ***\n",
      "*** Overflow with 8 datablocks ***\n",
      "*** Overflow with 9 datablocks ***\n"
     ]
    },
    {
     "name": "stderr",
     "output_type": "stream",
     "text": [
      "WARNING:wyrm.types:Discarding data that was longer than the ring buffer.\n"
     ]
    },
    {
     "name": "stdout",
     "output_type": "stream",
     "text": [
      "*** Overflow with 8 datablocks ***\n",
      "*** Overflow with 6 datablocks ***\n",
      "*** Overflow with 9 datablocks ***\n",
      "*** Overflow with 6 datablocks ***\n",
      "sending signal! - 85 False - 5352.7045266842215 -- 4.549999999999992\n",
      "*** Overflow with 9 datablocks ***\n",
      "*** Overflow with 6 datablocks ***\n",
      "*** Overflow with 6 datablocks ***\n",
      "*** Overflow with 9 datablocks ***\n",
      "*** Overflow with 9 datablocks ***\n",
      "*** Overflow with 9 datablocks ***\n",
      "*** Overflow with 9 datablocks ***\n",
      "*** Overflow with 17 datablocks ***\n",
      "*** Overflow with 17 datablocks ***\n",
      "*** Overflow with 13 datablocks ***\n"
     ]
    },
    {
     "name": "stderr",
     "output_type": "stream",
     "text": [
      "WARNING:wyrm.types:Discarding data that was longer than the ring buffer.\n"
     ]
    },
    {
     "name": "stdout",
     "output_type": "stream",
     "text": [
      "*** Overflow with 10 datablocks ***\n",
      "*** Overflow with 8 datablocks ***\n",
      "*** Overflow with 10 datablocks ***\n",
      "*** Overflow with 7 datablocks ***\n",
      "*** Overflow with 7 datablocks ***\n",
      "*** Overflow with 6 datablocks ***\n",
      "*** Overflow with 6 datablocks ***\n",
      "*** Overflow with 7 datablocks ***\n",
      "*** Overflow with 9 datablocks ***\n",
      "*** Overflow with 7 datablocks ***\n",
      "*** Overflow with 6 datablocks ***\n",
      "*** Overflow with 7 datablocks ***\n",
      "*** Overflow with 6 datablocks ***\n",
      "*** Overflow with 6 datablocks ***\n",
      "*** Overflow with 8 datablocks ***\n",
      "*** Overflow with 7 datablocks ***\n"
     ]
    },
    {
     "name": "stderr",
     "output_type": "stream",
     "text": [
      "WARNING:wyrm.types:Discarding data that was longer than the ring buffer.\n"
     ]
    },
    {
     "name": "stdout",
     "output_type": "stream",
     "text": [
      "*** Overflow with 7 datablocks ***\n",
      "*** Overflow with 8 datablocks ***\n",
      "*** Overflow with 6 datablocks ***\n",
      "*** Overflow with 6 datablocks ***\n",
      "sending signal! - 87 False - 5468.741963064184 -- 4.599999999999992\n",
      "*** Overflow with 9 datablocks ***\n",
      "*** Overflow with 7 datablocks ***\n",
      "*** Overflow with 8 datablocks ***\n",
      "*** Overflow with 6 datablocks ***\n",
      "*** Overflow with 6 datablocks ***\n",
      "*** Overflow with 9 datablocks ***\n",
      "*** Overflow with 6 datablocks ***\n",
      "*** Overflow with 7 datablocks ***\n",
      "*** Overflow with 9 datablocks ***\n",
      "*** Overflow with 8 datablocks ***\n",
      "*** Overflow with 6 datablocks ***\n"
     ]
    },
    {
     "name": "stderr",
     "output_type": "stream",
     "text": [
      "WARNING:wyrm.types:Discarding data that was longer than the ring buffer.\n"
     ]
    },
    {
     "name": "stdout",
     "output_type": "stream",
     "text": [
      "*** Overflow with 5 datablocks ***\n",
      "*** Overflow with 8 datablocks ***\n",
      "*** Overflow with 8 datablocks ***\n",
      "*** Overflow with 7 datablocks ***\n",
      "*** Overflow with 5 datablocks ***\n",
      "*** Overflow with 7 datablocks ***\n",
      "*** Overflow with 9 datablocks ***\n",
      "*** Overflow with 6 datablocks ***\n",
      "*** Overflow with 9 datablocks ***\n",
      "*** Overflow with 9 datablocks ***\n",
      "*** Overflow with 5 datablocks ***\n",
      "*** Overflow with 6 datablocks ***\n",
      "*** Overflow with 9 datablocks ***\n",
      "*** Overflow with 6 datablocks ***\n",
      "*** Overflow with 5 datablocks ***\n",
      "*** Overflow with 6 datablocks ***\n",
      "*** Overflow with 5 datablocks ***\n",
      "*** Overflow with 7 datablocks ***\n"
     ]
    },
    {
     "name": "stderr",
     "output_type": "stream",
     "text": [
      "WARNING:wyrm.types:Discarding data that was longer than the ring buffer.\n"
     ]
    },
    {
     "name": "stdout",
     "output_type": "stream",
     "text": [
      "*** Overflow with 6 datablocks ***\n",
      "*** Overflow with 5 datablocks ***\n",
      "*** Overflow with 8 datablocks ***\n",
      "*** Overflow with 5 datablocks ***\n",
      "sending signal! - 89 False - 5628.103997668775 -- 4.6499999999999915\n",
      "*** Overflow with 6 datablocks ***\n",
      "*** Overflow with 7 datablocks ***\n",
      "*** Overflow with 10 datablocks ***\n",
      "*** Overflow with 8 datablocks ***\n",
      "*** Overflow with 7 datablocks ***\n",
      "*** Overflow with 6 datablocks ***\n",
      "*** Overflow with 6 datablocks ***\n",
      "*** Overflow with 6 datablocks ***\n",
      "*** Overflow with 8 datablocks ***\n",
      "*** Overflow with 9 datablocks ***\n",
      "*** Overflow with 6 datablocks ***\n"
     ]
    },
    {
     "name": "stderr",
     "output_type": "stream",
     "text": [
      "WARNING:wyrm.types:Discarding data that was longer than the ring buffer.\n"
     ]
    },
    {
     "name": "stdout",
     "output_type": "stream",
     "text": [
      "*** Overflow with 7 datablocks ***\n",
      "*** Overflow with 9 datablocks ***\n",
      "*** Overflow with 5 datablocks ***\n",
      "*** Overflow with 5 datablocks ***\n",
      "*** Overflow with 8 datablocks ***\n",
      "*** Overflow with 7 datablocks ***\n",
      "*** Overflow with 5 datablocks ***\n",
      "*** Overflow with 8 datablocks ***\n",
      "*** Overflow with 7 datablocks ***\n",
      "*** Overflow with 10 datablocks ***\n",
      "*** Overflow with 6 datablocks ***\n",
      "*** Overflow with 5 datablocks ***\n",
      "*** Overflow with 7 datablocks ***\n",
      "*** Overflow with 7 datablocks ***\n"
     ]
    },
    {
     "name": "stderr",
     "output_type": "stream",
     "text": [
      "WARNING:wyrm.types:Discarding data that was longer than the ring buffer.\n"
     ]
    },
    {
     "name": "stdout",
     "output_type": "stream",
     "text": [
      "*** Overflow with 5 datablocks ***\n",
      "*** Overflow with 7 datablocks ***\n",
      "*** Overflow with 6 datablocks ***\n",
      "*** Overflow with 6 datablocks ***\n",
      "*** Overflow with 6 datablocks ***\n",
      "sending signal! - 91 False - 5760.823659191845 -- 4.699999999999991\n",
      "*** Overflow with 5 datablocks ***\n",
      "*** Overflow with 5 datablocks ***\n",
      "*** Overflow with 6 datablocks ***\n",
      "*** Overflow with 6 datablocks ***\n",
      "*** Overflow with 6 datablocks ***\n",
      "*** Overflow with 7 datablocks ***\n",
      "*** Overflow with 5 datablocks ***\n",
      "*** Overflow with 6 datablocks ***\n",
      "*** Overflow with 11 datablocks ***\n",
      "*** Overflow with 5 datablocks ***\n"
     ]
    },
    {
     "name": "stderr",
     "output_type": "stream",
     "text": [
      "WARNING:wyrm.types:Discarding data that was longer than the ring buffer.\n"
     ]
    },
    {
     "name": "stdout",
     "output_type": "stream",
     "text": [
      "*** Overflow with 5 datablocks ***\n",
      "*** Overflow with 6 datablocks ***\n",
      "*** Overflow with 6 datablocks ***\n",
      "*** Overflow with 6 datablocks ***\n",
      "*** Overflow with 6 datablocks ***\n",
      "*** Overflow with 6 datablocks ***\n",
      "*** Overflow with 5 datablocks ***\n",
      "*** Overflow with 6 datablocks ***\n",
      "*** Overflow with 9 datablocks ***\n",
      "*** Overflow with 5 datablocks ***\n",
      "*** Overflow with 7 datablocks ***\n",
      "*** Overflow with 7 datablocks ***\n",
      "*** Overflow with 10 datablocks ***\n",
      "*** Overflow with 5 datablocks ***\n",
      "*** Overflow with 7 datablocks ***\n"
     ]
    },
    {
     "name": "stderr",
     "output_type": "stream",
     "text": [
      "WARNING:wyrm.types:Discarding data that was longer than the ring buffer.\n"
     ]
    },
    {
     "name": "stdout",
     "output_type": "stream",
     "text": [
      "*** Overflow with 8 datablocks ***\n",
      "*** Overflow with 5 datablocks ***\n",
      "*** Overflow with 5 datablocks ***\n",
      "*** Overflow with 5 datablocks ***\n",
      "*** Overflow with 5 datablocks ***\n",
      "*** Overflow with 7 datablocks ***\n",
      "*** Overflow with 6 datablocks ***\n",
      "*** Overflow with 5 datablocks ***\n",
      "*** Overflow with 6 datablocks ***\n",
      "*** Overflow with 6 datablocks ***\n",
      "*** Overflow with 6 datablocks ***\n",
      "*** Overflow with 5 datablocks ***\n",
      "*** Overflow with 10 datablocks ***\n",
      "*** Overflow with 6 datablocks ***\n",
      "*** Overflow with 6 datablocks ***\n"
     ]
    },
    {
     "name": "stderr",
     "output_type": "stream",
     "text": [
      "WARNING:wyrm.types:Discarding data that was longer than the ring buffer.\n"
     ]
    },
    {
     "name": "stdout",
     "output_type": "stream",
     "text": [
      "*** Overflow with 5 datablocks ***\n",
      "*** Overflow with 6 datablocks ***\n",
      "sending signal! - 94 False - 5900.546023814058 -- 4.749999999999991\n",
      "*** Overflow with 6 datablocks ***\n",
      "*** Overflow with 5 datablocks ***\n",
      "*** Overflow with 5 datablocks ***\n",
      "*** Overflow with 6 datablocks ***\n",
      "*** Overflow with 6 datablocks ***\n",
      "*** Overflow with 6 datablocks ***\n",
      "*** Overflow with 6 datablocks ***\n",
      "*** Overflow with 6 datablocks ***\n",
      "*** Overflow with 8 datablocks ***\n",
      "*** Overflow with 7 datablocks ***\n",
      "*** Overflow with 7 datablocks ***\n"
     ]
    },
    {
     "name": "stderr",
     "output_type": "stream",
     "text": [
      "WARNING:wyrm.types:Discarding data that was longer than the ring buffer.\n"
     ]
    },
    {
     "name": "stdout",
     "output_type": "stream",
     "text": [
      "*** Overflow with 10 datablocks ***\n",
      "*** Overflow with 8 datablocks ***\n",
      "*** Overflow with 6 datablocks ***\n",
      "*** Overflow with 7 datablocks ***\n",
      "*** Overflow with 6 datablocks ***\n",
      "*** Overflow with 5 datablocks ***\n",
      "*** Overflow with 6 datablocks ***\n",
      "*** Overflow with 5 datablocks ***\n",
      "*** Overflow with 6 datablocks ***\n",
      "*** Overflow with 9 datablocks ***\n",
      "*** Overflow with 6 datablocks ***\n",
      "*** Overflow with 7 datablocks ***\n"
     ]
    },
    {
     "name": "stderr",
     "output_type": "stream",
     "text": [
      "WARNING:wyrm.types:Discarding data that was longer than the ring buffer.\n"
     ]
    },
    {
     "name": "stdout",
     "output_type": "stream",
     "text": [
      "*** Overflow with 9 datablocks ***\n",
      "*** Overflow with 6 datablocks ***\n",
      "*** Overflow with 6 datablocks ***\n",
      "*** Overflow with 5 datablocks ***\n",
      "*** Overflow with 7 datablocks ***\n",
      "*** Overflow with 6 datablocks ***\n",
      "sending signal! - 96 False - 6037.89302204508 -- 4.799999999999991\n",
      "*** Overflow with 5 datablocks ***\n",
      "*** Overflow with 7 datablocks ***\n",
      "*** Overflow with 5 datablocks ***\n",
      "*** Overflow with 6 datablocks ***\n",
      "*** Overflow with 9 datablocks ***\n",
      "*** Overflow with 8 datablocks ***\n",
      "*** Overflow with 10 datablocks ***\n"
     ]
    },
    {
     "name": "stderr",
     "output_type": "stream",
     "text": [
      "WARNING:wyrm.types:Discarding data that was longer than the ring buffer.\n"
     ]
    },
    {
     "name": "stdout",
     "output_type": "stream",
     "text": [
      "*** Overflow with 6 datablocks ***\n",
      "*** Overflow with 7 datablocks ***\n",
      "*** Overflow with 6 datablocks ***\n",
      "*** Overflow with 9 datablocks ***\n",
      "*** Overflow with 7 datablocks ***\n",
      "*** Overflow with 9 datablocks ***\n",
      "*** Overflow with 8 datablocks ***\n",
      "*** Overflow with 6 datablocks ***\n",
      "*** Overflow with 6 datablocks ***\n",
      "*** Overflow with 8 datablocks ***\n",
      "*** Overflow with 6 datablocks ***\n",
      "*** Overflow with 6 datablocks ***\n",
      "*** Overflow with 8 datablocks ***\n",
      "*** Overflow with 9 datablocks ***\n",
      "*** Overflow with 7 datablocks ***\n"
     ]
    },
    {
     "name": "stderr",
     "output_type": "stream",
     "text": [
      "WARNING:wyrm.types:Discarding data that was longer than the ring buffer.\n"
     ]
    },
    {
     "name": "stdout",
     "output_type": "stream",
     "text": [
      "*** Overflow with 6 datablocks ***\n",
      "*** Overflow with 6 datablocks ***\n",
      "*** Overflow with 7 datablocks ***\n",
      "*** Overflow with 7 datablocks ***\n",
      "*** Overflow with 7 datablocks ***\n",
      "*** Overflow with 6 datablocks ***\n",
      "*** Overflow with 7 datablocks ***\n",
      "*** Overflow with 8 datablocks ***\n",
      "*** Overflow with 5 datablocks ***\n",
      "*** Overflow with 7 datablocks ***\n",
      "*** Overflow with 6 datablocks ***\n",
      "*** Overflow with 6 datablocks ***\n",
      "*** Overflow with 6 datablocks ***\n",
      "*** Overflow with 11 datablocks ***\n",
      "*** Overflow with 6 datablocks ***\n",
      "*** Overflow with 7 datablocks ***\n",
      "*** Overflow with 6 datablocks ***\n"
     ]
    },
    {
     "name": "stderr",
     "output_type": "stream",
     "text": [
      "WARNING:wyrm.types:Discarding data that was longer than the ring buffer.\n"
     ]
    },
    {
     "name": "stdout",
     "output_type": "stream",
     "text": [
      "*** Overflow with 6 datablocks ***\n",
      "*** Overflow with 6 datablocks ***\n",
      "*** Overflow with 6 datablocks ***\n",
      "*** Overflow with 6 datablocks ***\n",
      "sending signal! - 99 False - 6189.680167456628 -- 4.849999999999991\n",
      "*** Overflow with 7 datablocks ***\n",
      "*** Overflow with 5 datablocks ***\n",
      "*** Overflow with 9 datablocks ***\n",
      "*** Overflow with 8 datablocks ***\n",
      "*** Overflow with 6 datablocks ***\n",
      "*** Overflow with 4 datablocks ***\n",
      "*** Overflow with 7 datablocks ***\n",
      "*** Overflow with 7 datablocks ***\n",
      "*** Overflow with 6 datablocks ***\n",
      "*** Overflow with 9 datablocks ***\n",
      "*** Overflow with 8 datablocks ***\n"
     ]
    },
    {
     "name": "stderr",
     "output_type": "stream",
     "text": [
      "WARNING:wyrm.types:Discarding data that was longer than the ring buffer.\n"
     ]
    },
    {
     "name": "stdout",
     "output_type": "stream",
     "text": [
      "*** Overflow with 6 datablocks ***\n",
      "*** Overflow with 7 datablocks ***\n",
      "*** Overflow with 5 datablocks ***\n",
      "*** Overflow with 7 datablocks ***\n",
      "*** Overflow with 6 datablocks ***\n",
      "*** Overflow with 5 datablocks ***\n",
      "*** Overflow with 7 datablocks ***\n",
      "*** Overflow with 6 datablocks ***\n",
      "*** Overflow with 6 datablocks ***\n",
      "*** Overflow with 7 datablocks ***\n",
      "*** Overflow with 6 datablocks ***\n",
      "*** Overflow with 6 datablocks ***\n",
      "*** Overflow with 6 datablocks ***\n",
      "*** Overflow with 7 datablocks ***\n",
      "*** Overflow with 8 datablocks ***\n",
      "*** Overflow with 6 datablocks ***\n"
     ]
    },
    {
     "name": "stderr",
     "output_type": "stream",
     "text": [
      "WARNING:wyrm.types:Discarding data that was longer than the ring buffer.\n"
     ]
    },
    {
     "name": "stdout",
     "output_type": "stream",
     "text": [
      "*** Overflow with 7 datablocks ***\n",
      "*** Overflow with 5 datablocks ***\n",
      "*** Overflow with 5 datablocks ***\n",
      "*** Overflow with 6 datablocks ***\n",
      "*** Overflow with 5 datablocks ***\n",
      "sending signal! - 101 False - 6352.049302981539 -- 4.899999999999991\n",
      "*** Overflow with 7 datablocks ***\n",
      "*** Overflow with 6 datablocks ***\n",
      "*** Overflow with 5 datablocks ***\n",
      "*** Overflow with 7 datablocks ***\n",
      "*** Overflow with 6 datablocks ***\n",
      "*** Overflow with 5 datablocks ***\n",
      "*** Overflow with 6 datablocks ***\n",
      "*** Overflow with 7 datablocks ***\n",
      "*** Overflow with 9 datablocks ***\n",
      "*** Overflow with 5 datablocks ***\n"
     ]
    },
    {
     "name": "stderr",
     "output_type": "stream",
     "text": [
      "WARNING:wyrm.types:Discarding data that was longer than the ring buffer.\n"
     ]
    },
    {
     "name": "stdout",
     "output_type": "stream",
     "text": [
      "*** Overflow with 6 datablocks ***\n",
      "*** Overflow with 5 datablocks ***\n",
      "*** Overflow with 7 datablocks ***\n",
      "*** Overflow with 6 datablocks ***\n",
      "*** Overflow with 4 datablocks ***\n",
      "*** Overflow with 7 datablocks ***\n",
      "*** Overflow with 4 datablocks ***\n",
      "*** Overflow with 6 datablocks ***\n",
      "*** Overflow with 6 datablocks ***\n",
      "*** Overflow with 5 datablocks ***\n",
      "*** Overflow with 6 datablocks ***\n",
      "*** Overflow with 6 datablocks ***\n",
      "*** Overflow with 6 datablocks ***\n",
      "*** Overflow with 6 datablocks ***\n",
      "*** Overflow with 6 datablocks ***\n",
      "*** Overflow with 6 datablocks ***\n",
      "*** Overflow with 6 datablocks ***\n"
     ]
    },
    {
     "name": "stderr",
     "output_type": "stream",
     "text": [
      "WARNING:wyrm.types:Discarding data that was longer than the ring buffer.\n"
     ]
    },
    {
     "name": "stdout",
     "output_type": "stream",
     "text": [
      "*** Overflow with 6 datablocks ***\n",
      "*** Overflow with 5 datablocks ***\n",
      "*** Overflow with 7 datablocks ***\n",
      "*** Overflow with 4 datablocks ***\n",
      "*** Overflow with 6 datablocks ***\n",
      "*** Overflow with 6 datablocks ***\n",
      "*** Overflow with 6 datablocks ***\n",
      "*** Overflow with 6 datablocks ***\n",
      "*** Overflow with 8 datablocks ***\n",
      "*** Overflow with 5 datablocks ***\n",
      "*** Overflow with 6 datablocks ***\n",
      "*** Overflow with 5 datablocks ***\n",
      "*** Overflow with 9 datablocks ***\n",
      "*** Overflow with 7 datablocks ***\n",
      "*** Overflow with 7 datablocks ***\n"
     ]
    },
    {
     "name": "stderr",
     "output_type": "stream",
     "text": [
      "WARNING:wyrm.types:Discarding data that was longer than the ring buffer.\n"
     ]
    },
    {
     "name": "stdout",
     "output_type": "stream",
     "text": [
      "*** Overflow with 4 datablocks ***\n",
      "*** Overflow with 6 datablocks ***\n",
      "*** Overflow with 6 datablocks ***\n",
      "*** Overflow with 5 datablocks ***\n",
      "sending signal! - 104 False - 6512.412936909591 -- 4.94999999999999\n",
      "*** Overflow with 6 datablocks ***\n",
      "*** Overflow with 8 datablocks ***\n",
      "*** Overflow with 5 datablocks ***\n",
      "*** Overflow with 6 datablocks ***\n",
      "*** Overflow with 9 datablocks ***\n",
      "*** Overflow with 6 datablocks ***\n",
      "*** Overflow with 5 datablocks ***\n",
      "*** Overflow with 6 datablocks ***\n",
      "*** Overflow with 6 datablocks ***\n",
      "*** Overflow with 6 datablocks ***\n",
      "*** Overflow with 7 datablocks ***\n",
      "*** Overflow with 6 datablocks ***\n"
     ]
    },
    {
     "name": "stderr",
     "output_type": "stream",
     "text": [
      "WARNING:wyrm.types:Discarding data that was longer than the ring buffer.\n"
     ]
    },
    {
     "name": "stdout",
     "output_type": "stream",
     "text": [
      "*** Overflow with 5 datablocks ***\n",
      "*** Overflow with 7 datablocks ***\n",
      "*** Overflow with 4 datablocks ***\n",
      "*** Overflow with 6 datablocks ***\n",
      "*** Overflow with 5 datablocks ***\n",
      "*** Overflow with 5 datablocks ***\n",
      "*** Overflow with 7 datablocks ***\n",
      "*** Overflow with 5 datablocks ***\n",
      "*** Overflow with 7 datablocks ***\n",
      "*** Overflow with 10 datablocks ***\n",
      "*** Overflow with 7 datablocks ***\n",
      "*** Overflow with 6 datablocks ***\n",
      "*** Overflow with 6 datablocks ***\n",
      "*** Overflow with 6 datablocks ***\n",
      "*** Overflow with 6 datablocks ***\n",
      "*** Overflow with 6 datablocks ***\n",
      "*** Overflow with 6 datablocks ***\n",
      "*** Overflow with 6 datablocks ***\n",
      "*** Overflow with 6 datablocks ***\n",
      "*** Overflow with 6 datablocks ***\n"
     ]
    },
    {
     "name": "stderr",
     "output_type": "stream",
     "text": [
      "WARNING:wyrm.types:Discarding data that was longer than the ring buffer.\n"
     ]
    },
    {
     "name": "stdout",
     "output_type": "stream",
     "text": [
      "*** Overflow with 5 datablocks ***\n",
      "*** Overflow with 6 datablocks ***\n",
      "*** Overflow with 7 datablocks ***\n",
      "*** Overflow with 4 datablocks ***\n",
      "*** Overflow with 7 datablocks ***\n",
      "*** Overflow with 6 datablocks ***\n",
      "sending signal! - 106 False - 6694.1495028322715 -- 4.99999999999999\n",
      "*** Overflow with 5 datablocks ***\n",
      "*** Overflow with 6 datablocks ***\n",
      "*** Overflow with 5 datablocks ***\n",
      "*** Overflow with 8 datablocks ***\n",
      "*** Overflow with 7 datablocks ***\n",
      "*** Overflow with 6 datablocks ***\n",
      "*** Overflow with 9 datablocks ***\n",
      "*** Overflow with 9 datablocks ***\n",
      "*** Overflow with 6 datablocks ***\n",
      "*** Overflow with 6 datablocks ***\n",
      "*** Overflow with 7 datablocks ***\n"
     ]
    },
    {
     "name": "stderr",
     "output_type": "stream",
     "text": [
      "WARNING:wyrm.types:Discarding data that was longer than the ring buffer.\n"
     ]
    },
    {
     "name": "stdout",
     "output_type": "stream",
     "text": [
      "*** Overflow with 6 datablocks ***\n",
      "*** Overflow with 7 datablocks ***\n",
      "*** Overflow with 8 datablocks ***\n",
      "*** Overflow with 8 datablocks ***\n",
      "*** Overflow with 7 datablocks ***\n",
      "*** Overflow with 6 datablocks ***\n",
      "*** Overflow with 8 datablocks ***\n",
      "*** Overflow with 6 datablocks ***\n",
      "*** Overflow with 4 datablocks ***\n",
      "*** Overflow with 9 datablocks ***\n",
      "*** Overflow with 6 datablocks ***\n",
      "*** Overflow with 6 datablocks ***\n",
      "*** Overflow with 6 datablocks ***\n",
      "*** Overflow with 8 datablocks ***\n"
     ]
    },
    {
     "name": "stderr",
     "output_type": "stream",
     "text": [
      "WARNING:wyrm.types:Discarding data that was longer than the ring buffer.\n"
     ]
    },
    {
     "name": "stdout",
     "output_type": "stream",
     "text": [
      "*** Overflow with 8 datablocks ***\n",
      "*** Overflow with 8 datablocks ***\n",
      "*** Overflow with 6 datablocks ***\n",
      "*** Overflow with 6 datablocks ***\n",
      "*** Overflow with 8 datablocks ***\n",
      "*** Overflow with 6 datablocks ***\n",
      "*** Overflow with 6 datablocks ***\n",
      "*** Overflow with 8 datablocks ***\n",
      "*** Overflow with 6 datablocks ***\n",
      "*** Overflow with 10 datablocks ***\n",
      "*** Overflow with 7 datablocks ***\n",
      "*** Overflow with 5 datablocks ***\n",
      "*** Overflow with 6 datablocks ***\n",
      "*** Overflow with 9 datablocks ***\n",
      "*** Overflow with 7 datablocks ***\n"
     ]
    },
    {
     "name": "stderr",
     "output_type": "stream",
     "text": [
      "WARNING:wyrm.types:Discarding data that was longer than the ring buffer.\n"
     ]
    },
    {
     "name": "stdout",
     "output_type": "stream",
     "text": [
      "*** Overflow with 6 datablocks ***\n",
      "*** Overflow with 6 datablocks ***\n",
      "*** Overflow with 6 datablocks ***\n",
      "*** Overflow with 5 datablocks ***\n",
      "sending signal! - 109 False - 6850.1908381073545 -- 5.04999999999999\n",
      "*** Overflow with 6 datablocks ***\n",
      "*** Overflow with 4 datablocks ***\n",
      "*** Overflow with 7 datablocks ***\n",
      "*** Overflow with 5 datablocks ***\n",
      "*** Overflow with 8 datablocks ***\n",
      "*** Overflow with 9 datablocks ***\n",
      "*** Overflow with 6 datablocks ***\n",
      "*** Overflow with 6 datablocks ***\n",
      "*** Overflow with 4 datablocks ***\n",
      "*** Overflow with 8 datablocks ***\n",
      "*** Overflow with 6 datablocks ***\n"
     ]
    },
    {
     "name": "stderr",
     "output_type": "stream",
     "text": [
      "WARNING:wyrm.types:Discarding data that was longer than the ring buffer.\n"
     ]
    },
    {
     "name": "stdout",
     "output_type": "stream",
     "text": [
      "*** Overflow with 7 datablocks ***\n",
      "*** Overflow with 11 datablocks ***\n",
      "*** Overflow with 6 datablocks ***\n",
      "*** Overflow with 6 datablocks ***\n",
      "*** Overflow with 8 datablocks ***\n",
      "*** Overflow with 7 datablocks ***\n",
      "*** Overflow with 6 datablocks ***\n",
      "*** Overflow with 7 datablocks ***\n",
      "*** Overflow with 6 datablocks ***\n",
      "*** Overflow with 7 datablocks ***\n"
     ]
    },
    {
     "name": "stderr",
     "output_type": "stream",
     "text": [
      "WARNING:wyrm.types:Discarding data that was longer than the ring buffer.\n"
     ]
    },
    {
     "name": "stdout",
     "output_type": "stream",
     "text": [
      "*** Overflow with 6 datablocks ***\n",
      "*** Overflow with 6 datablocks ***\n",
      "*** Overflow with 9 datablocks ***\n",
      "*** Overflow with 10 datablocks ***\n",
      "*** Overflow with 6 datablocks ***\n",
      "sending signal! - 111 False - 7043.75786837717 -- 5.09999999999999\n",
      "*** Overflow with 6 datablocks ***\n",
      "*** Overflow with 7 datablocks ***\n",
      "*** Overflow with 6 datablocks ***\n",
      "*** Overflow with 8 datablocks ***\n",
      "*** Overflow with 10 datablocks ***\n",
      "*** Overflow with 8 datablocks ***\n",
      "*** Overflow with 7 datablocks ***\n"
     ]
    },
    {
     "name": "stderr",
     "output_type": "stream",
     "text": [
      "WARNING:wyrm.types:Discarding data that was longer than the ring buffer.\n"
     ]
    },
    {
     "name": "stdout",
     "output_type": "stream",
     "text": [
      "*** Overflow with 8 datablocks ***\n",
      "*** Overflow with 9 datablocks ***\n",
      "*** Overflow with 4 datablocks ***\n",
      "*** Overflow with 7 datablocks ***\n",
      "*** Overflow with 7 datablocks ***\n",
      "*** Overflow with 7 datablocks ***\n",
      "*** Overflow with 6 datablocks ***\n",
      "*** Overflow with 6 datablocks ***\n",
      "*** Overflow with 7 datablocks ***\n",
      "*** Overflow with 10 datablocks ***\n",
      "*** Overflow with 4 datablocks ***\n"
     ]
    },
    {
     "name": "stderr",
     "output_type": "stream",
     "text": [
      "WARNING:wyrm.types:Discarding data that was longer than the ring buffer.\n"
     ]
    },
    {
     "name": "stdout",
     "output_type": "stream",
     "text": [
      "*** Overflow with 6 datablocks ***\n",
      "*** Overflow with 9 datablocks ***\n",
      "*** Overflow with 8 datablocks ***\n",
      "*** Overflow with 6 datablocks ***\n",
      "*** Overflow with 6 datablocks ***\n",
      "*** Overflow with 7 datablocks ***\n",
      "*** Overflow with 5 datablocks ***\n",
      "*** Overflow with 9 datablocks ***\n",
      "*** Overflow with 7 datablocks ***\n",
      "*** Overflow with 8 datablocks ***\n"
     ]
    },
    {
     "name": "stderr",
     "output_type": "stream",
     "text": [
      "WARNING:wyrm.types:Discarding data that was longer than the ring buffer.\n"
     ]
    },
    {
     "name": "stdout",
     "output_type": "stream",
     "text": [
      "*** Overflow with 8 datablocks ***\n",
      "*** Overflow with 9 datablocks ***\n",
      "*** Overflow with 7 datablocks ***\n",
      "*** Overflow with 7 datablocks ***\n",
      "*** Overflow with 6 datablocks ***\n",
      "*** Overflow with 9 datablocks ***\n",
      "*** Overflow with 6 datablocks ***\n",
      "*** Overflow with 6 datablocks ***\n",
      "*** Overflow with 7 datablocks ***\n",
      "*** Overflow with 7 datablocks ***\n",
      "*** Overflow with 10 datablocks ***\n",
      "*** Overflow with 8 datablocks ***\n"
     ]
    },
    {
     "name": "stderr",
     "output_type": "stream",
     "text": [
      "WARNING:wyrm.types:Discarding data that was longer than the ring buffer.\n"
     ]
    },
    {
     "name": "stdout",
     "output_type": "stream",
     "text": [
      "*** Overflow with 6 datablocks ***\n",
      "*** Overflow with 11 datablocks ***\n",
      "*** Overflow with 6 datablocks ***\n",
      "sending signal! - 115 False - 7238.713708222532 -- 5.14999999999999\n",
      "*** Overflow with 7 datablocks ***\n",
      "*** Overflow with 6 datablocks ***\n",
      "*** Overflow with 5 datablocks ***\n",
      "*** Overflow with 6 datablocks ***\n",
      "*** Overflow with 5 datablocks ***\n",
      "*** Overflow with 6 datablocks ***\n",
      "*** Overflow with 6 datablocks ***\n",
      "*** Overflow with 5 datablocks ***\n",
      "*** Overflow with 7 datablocks ***\n",
      "*** Overflow with 11 datablocks ***\n"
     ]
    },
    {
     "name": "stderr",
     "output_type": "stream",
     "text": [
      "WARNING:wyrm.types:Discarding data that was longer than the ring buffer.\n"
     ]
    },
    {
     "name": "stdout",
     "output_type": "stream",
     "text": [
      "*** Overflow with 7 datablocks ***\n",
      "*** Overflow with 3 datablocks ***\n",
      "*** Overflow with 10 datablocks ***\n",
      "*** Overflow with 7 datablocks ***\n",
      "*** Overflow with 7 datablocks ***\n",
      "*** Overflow with 8 datablocks ***\n",
      "*** Overflow with 4 datablocks ***\n",
      "*** Overflow with 7 datablocks ***\n",
      "*** Overflow with 6 datablocks ***\n",
      "*** Overflow with 7 datablocks ***\n",
      "*** Overflow with 7 datablocks ***\n",
      "*** Overflow with 7 datablocks ***\n",
      "*** Overflow with 7 datablocks ***\n",
      "*** Overflow with 10 datablocks ***\n",
      "*** Overflow with 5 datablocks ***\n"
     ]
    },
    {
     "name": "stderr",
     "output_type": "stream",
     "text": [
      "WARNING:wyrm.types:Discarding data that was longer than the ring buffer.\n"
     ]
    },
    {
     "name": "stdout",
     "output_type": "stream",
     "text": [
      "*** Overflow with 8 datablocks ***\n",
      "*** Overflow with 7 datablocks ***\n",
      "*** Overflow with 6 datablocks ***\n",
      "*** Overflow with 5 datablocks ***\n",
      "*** Overflow with 7 datablocks ***\n",
      "*** Overflow with 6 datablocks ***\n",
      "*** Overflow with 4 datablocks ***\n",
      "sending signal! - 117 False - 7473.6110044963425 -- 5.1999999999999895\n",
      "*** Overflow with 7 datablocks ***\n",
      "*** Overflow with 5 datablocks ***\n",
      "*** Overflow with 6 datablocks ***\n",
      "*** Overflow with 6 datablocks ***\n",
      "*** Overflow with 5 datablocks ***\n",
      "*** Overflow with 6 datablocks ***\n",
      "*** Overflow with 7 datablocks ***\n"
     ]
    },
    {
     "name": "stderr",
     "output_type": "stream",
     "text": [
      "WARNING:wyrm.types:Discarding data that was longer than the ring buffer.\n"
     ]
    },
    {
     "name": "stdout",
     "output_type": "stream",
     "text": [
      "*** Overflow with 7 datablocks ***\n",
      "*** Overflow with 8 datablocks ***\n",
      "*** Overflow with 7 datablocks ***\n",
      "*** Overflow with 7 datablocks ***\n",
      "*** Overflow with 6 datablocks ***\n",
      "*** Overflow with 7 datablocks ***\n",
      "*** Overflow with 6 datablocks ***\n",
      "*** Overflow with 5 datablocks ***\n",
      "*** Overflow with 6 datablocks ***\n",
      "*** Overflow with 9 datablocks ***\n",
      "*** Overflow with 7 datablocks ***\n",
      "*** Overflow with 6 datablocks ***\n",
      "*** Overflow with 11 datablocks ***\n",
      "*** Overflow with 7 datablocks ***\n"
     ]
    },
    {
     "name": "stderr",
     "output_type": "stream",
     "text": [
      "WARNING:wyrm.types:Discarding data that was longer than the ring buffer.\n"
     ]
    },
    {
     "name": "stdout",
     "output_type": "stream",
     "text": [
      "*** Overflow with 6 datablocks ***\n",
      "*** Overflow with 6 datablocks ***\n",
      "*** Overflow with 5 datablocks ***\n",
      "*** Overflow with 6 datablocks ***\n",
      "*** Overflow with 7 datablocks ***\n",
      "*** Overflow with 5 datablocks ***\n",
      "*** Overflow with 6 datablocks ***\n",
      "*** Overflow with 6 datablocks ***\n",
      "*** Overflow with 6 datablocks ***\n",
      "*** Overflow with 6 datablocks ***\n",
      "*** Overflow with 8 datablocks ***\n",
      "*** Overflow with 5 datablocks ***\n",
      "*** Overflow with 7 datablocks ***\n",
      "*** Overflow with 8 datablocks ***\n",
      "*** Overflow with 8 datablocks ***\n"
     ]
    },
    {
     "name": "stderr",
     "output_type": "stream",
     "text": [
      "WARNING:wyrm.types:Discarding data that was longer than the ring buffer.\n"
     ]
    },
    {
     "name": "stdout",
     "output_type": "stream",
     "text": [
      "*** Overflow with 6 datablocks ***\n",
      "*** Overflow with 6 datablocks ***\n",
      "*** Overflow with 6 datablocks ***\n",
      "*** Overflow with 6 datablocks ***\n",
      "*** Overflow with 6 datablocks ***\n",
      "*** Overflow with 7 datablocks ***\n",
      "sending signal! - 120 False - 7685.830505096664 -- 5.249999999999989\n",
      "*** Overflow with 6 datablocks ***\n",
      "*** Overflow with 6 datablocks ***\n",
      "*** Overflow with 8 datablocks ***\n",
      "*** Overflow with 9 datablocks ***\n",
      "*** Overflow with 8 datablocks ***\n",
      "*** Overflow with 6 datablocks ***\n",
      "*** Overflow with 9 datablocks ***\n",
      "*** Overflow with 8 datablocks ***\n"
     ]
    },
    {
     "name": "stderr",
     "output_type": "stream",
     "text": [
      "WARNING:wyrm.types:Discarding data that was longer than the ring buffer.\n"
     ]
    },
    {
     "name": "stdout",
     "output_type": "stream",
     "text": [
      "*** Overflow with 6 datablocks ***\n",
      "*** Overflow with 7 datablocks ***\n",
      "*** Overflow with 7 datablocks ***\n",
      "*** Overflow with 6 datablocks ***\n",
      "*** Overflow with 9 datablocks ***\n",
      "*** Overflow with 6 datablocks ***\n",
      "*** Overflow with 5 datablocks ***\n",
      "*** Overflow with 7 datablocks ***\n",
      "*** Overflow with 6 datablocks ***\n",
      "*** Overflow with 4 datablocks ***\n",
      "*** Overflow with 8 datablocks ***\n",
      "FLIPPING/GOING THE THE MIDDLE AGAIN\n",
      "*** Overflow with 6 datablocks ***\n",
      "*** Overflow with 11 datablocks ***\n"
     ]
    },
    {
     "name": "stderr",
     "output_type": "stream",
     "text": [
      "WARNING:wyrm.types:Discarding data that was longer than the ring buffer.\n"
     ]
    },
    {
     "name": "stdout",
     "output_type": "stream",
     "text": [
      "*** Overflow with 9 datablocks ***\n",
      "*** Overflow with 5 datablocks ***\n",
      "*** Overflow with 6 datablocks ***\n",
      "*** Overflow with 6 datablocks ***\n",
      "*** Overflow with 6 datablocks ***\n",
      "*** Overflow with 5 datablocks ***\n",
      "*** Overflow with 7 datablocks ***\n",
      "*** Overflow with 6 datablocks ***\n",
      "*** Overflow with 6 datablocks ***\n",
      "*** Overflow with 8 datablocks ***\n",
      "*** Overflow with 10 datablocks ***\n",
      "*** Overflow with 6 datablocks ***\n",
      "*** Overflow with 9 datablocks ***\n",
      "*** Overflow with 7 datablocks ***\n"
     ]
    },
    {
     "name": "stderr",
     "output_type": "stream",
     "text": [
      "WARNING:wyrm.types:Discarding data that was longer than the ring buffer.\n"
     ]
    },
    {
     "name": "stdout",
     "output_type": "stream",
     "text": [
      "*** Overflow with 6 datablocks ***\n",
      "*** Overflow with 6 datablocks ***\n",
      "*** Overflow with 6 datablocks ***\n",
      "*** Overflow with 6 datablocks ***\n",
      "sending signal! - 123 False - 7870.078400807732 -- 5.299999999999989\n",
      "*** Overflow with 6 datablocks ***\n",
      "*** Overflow with 6 datablocks ***\n",
      "*** Overflow with 7 datablocks ***\n",
      "*** Overflow with 6 datablocks ***\n",
      "*** Overflow with 7 datablocks ***\n",
      "*** Overflow with 9 datablocks ***\n",
      "*** Overflow with 8 datablocks ***\n",
      "*** Overflow with 6 datablocks ***\n",
      "*** Overflow with 11 datablocks ***\n"
     ]
    },
    {
     "name": "stderr",
     "output_type": "stream",
     "text": [
      "WARNING:wyrm.types:Discarding data that was longer than the ring buffer.\n"
     ]
    },
    {
     "name": "stdout",
     "output_type": "stream",
     "text": [
      "*** Overflow with 9 datablocks ***\n",
      "*** Overflow with 6 datablocks ***\n",
      "*** Overflow with 5 datablocks ***\n",
      "*** Overflow with 6 datablocks ***\n",
      "*** Overflow with 7 datablocks ***\n",
      "*** Overflow with 8 datablocks ***\n",
      "*** Overflow with 6 datablocks ***\n",
      "*** Overflow with 8 datablocks ***\n",
      "*** Overflow with 6 datablocks ***\n",
      "*** Overflow with 9 datablocks ***\n",
      "*** Overflow with 6 datablocks ***\n",
      "*** Overflow with 8 datablocks ***\n",
      "*** Overflow with 7 datablocks ***\n"
     ]
    },
    {
     "name": "stderr",
     "output_type": "stream",
     "text": [
      "WARNING:wyrm.types:Discarding data that was longer than the ring buffer.\n"
     ]
    },
    {
     "name": "stdout",
     "output_type": "stream",
     "text": [
      "*** Overflow with 6 datablocks ***\n",
      "*** Overflow with 6 datablocks ***\n",
      "*** Overflow with 6 datablocks ***\n",
      "*** Overflow with 6 datablocks ***\n",
      "*** Overflow with 7 datablocks ***\n",
      "*** Overflow with 8 datablocks ***\n",
      "*** Overflow with 7 datablocks ***\n",
      "*** Overflow with 4 datablocks ***\n",
      "*** Overflow with 10 datablocks ***\n",
      "*** Overflow with 7 datablocks ***\n",
      "*** Overflow with 8 datablocks ***\n",
      "*** Overflow with 5 datablocks ***\n",
      "*** Overflow with 6 datablocks ***\n",
      "*** Overflow with 7 datablocks ***\n",
      "*** Overflow with 6 datablocks ***\n"
     ]
    },
    {
     "name": "stderr",
     "output_type": "stream",
     "text": [
      "WARNING:wyrm.types:Discarding data that was longer than the ring buffer.\n"
     ]
    },
    {
     "name": "stdout",
     "output_type": "stream",
     "text": [
      "*** Overflow with 7 datablocks ***\n",
      "*** Overflow with 5 datablocks ***\n",
      "*** Overflow with 6 datablocks ***\n",
      "*** Overflow with 4 datablocks ***\n",
      "*** Overflow with 8 datablocks ***\n",
      "sending signal! - 126 False - 8036.897519835274 -- 5.349999999999989\n",
      "*** Overflow with 6 datablocks ***\n",
      "*** Overflow with 6 datablocks ***\n",
      "*** Overflow with 7 datablocks ***\n",
      "*** Overflow with 8 datablocks ***\n",
      "*** Overflow with 10 datablocks ***\n",
      "*** Overflow with 6 datablocks ***\n",
      "*** Overflow with 5 datablocks ***\n",
      "*** Overflow with 8 datablocks ***\n",
      "*** Overflow with 7 datablocks ***\n",
      "*** Overflow with 6 datablocks ***\n",
      "*** Overflow with 5 datablocks ***\n"
     ]
    },
    {
     "name": "stderr",
     "output_type": "stream",
     "text": [
      "WARNING:wyrm.types:Discarding data that was longer than the ring buffer.\n"
     ]
    },
    {
     "name": "stdout",
     "output_type": "stream",
     "text": [
      "*** Overflow with 7 datablocks ***\n",
      "*** Overflow with 8 datablocks ***\n",
      "*** Overflow with 8 datablocks ***\n",
      "*** Overflow with 6 datablocks ***\n",
      "*** Overflow with 7 datablocks ***\n",
      "*** Overflow with 5 datablocks ***\n",
      "*** Overflow with 6 datablocks ***\n",
      "*** Overflow with 6 datablocks ***\n",
      "*** Overflow with 6 datablocks ***\n",
      "*** Overflow with 5 datablocks ***\n",
      "*** Overflow with 4 datablocks ***\n",
      "*** Overflow with 6 datablocks ***\n",
      "*** Overflow with 11 datablocks ***\n",
      "*** Overflow with 7 datablocks ***\n",
      "*** Overflow with 6 datablocks ***\n",
      "*** Overflow with 5 datablocks ***\n",
      "*** Overflow with 6 datablocks ***\n",
      "*** Overflow with 6 datablocks ***\n",
      "*** Overflow with 5 datablocks ***\n",
      "*** Overflow with 6 datablocks ***\n"
     ]
    },
    {
     "name": "stderr",
     "output_type": "stream",
     "text": [
      "WARNING:wyrm.types:Discarding data that was longer than the ring buffer.\n"
     ]
    },
    {
     "name": "stdout",
     "output_type": "stream",
     "text": [
      "*** Overflow with 5 datablocks ***\n",
      "*** Overflow with 6 datablocks ***\n",
      "*** Overflow with 6 datablocks ***\n",
      "*** Overflow with 5 datablocks ***\n",
      "*** Overflow with 6 datablocks ***\n",
      "*** Overflow with 7 datablocks ***\n",
      "*** Overflow with 5 datablocks ***\n",
      "*** Overflow with 6 datablocks ***\n",
      "sending signal! - 128 False - 8285.002774174953 -- 5.399999999999989\n",
      "*** Overflow with 5 datablocks ***\n",
      "*** Overflow with 6 datablocks ***\n",
      "*** Overflow with 6 datablocks ***\n",
      "*** Overflow with 4 datablocks ***\n",
      "*** Overflow with 7 datablocks ***\n",
      "*** Overflow with 10 datablocks ***\n",
      "*** Overflow with 7 datablocks ***\n",
      "*** Overflow with 6 datablocks ***\n",
      "*** Overflow with 6 datablocks ***\n",
      "*** Overflow with 6 datablocks ***\n",
      "*** Overflow with 6 datablocks ***\n"
     ]
    },
    {
     "name": "stderr",
     "output_type": "stream",
     "text": [
      "WARNING:wyrm.types:Discarding data that was longer than the ring buffer.\n"
     ]
    },
    {
     "name": "stdout",
     "output_type": "stream",
     "text": [
      "*** Overflow with 6 datablocks ***\n",
      "*** Overflow with 6 datablocks ***\n",
      "*** Overflow with 7 datablocks ***\n",
      "*** Overflow with 8 datablocks ***\n",
      "*** Overflow with 7 datablocks ***\n",
      "*** Overflow with 6 datablocks ***\n",
      "*** Overflow with 5 datablocks ***\n",
      "*** Overflow with 6 datablocks ***\n",
      "*** Overflow with 7 datablocks ***\n",
      "*** Overflow with 6 datablocks ***\n",
      "*** Overflow with 6 datablocks ***\n",
      "*** Overflow with 6 datablocks ***\n",
      "*** Overflow with 6 datablocks ***\n",
      "*** Overflow with 9 datablocks ***\n",
      "*** Overflow with 8 datablocks ***\n",
      "*** Overflow with 8 datablocks ***\n",
      "*** Overflow with 6 datablocks ***\n"
     ]
    },
    {
     "name": "stderr",
     "output_type": "stream",
     "text": [
      "WARNING:wyrm.types:Discarding data that was longer than the ring buffer.\n"
     ]
    },
    {
     "name": "stdout",
     "output_type": "stream",
     "text": [
      "*** Overflow with 6 datablocks ***\n",
      "*** Overflow with 7 datablocks ***\n",
      "*** Overflow with 7 datablocks ***\n",
      "*** Overflow with 5 datablocks ***\n",
      "*** Overflow with 7 datablocks ***\n",
      "*** Overflow with 6 datablocks ***\n",
      "*** Overflow with 9 datablocks ***\n",
      "*** Overflow with 5 datablocks ***\n",
      "*** Overflow with 6 datablocks ***\n",
      "*** Overflow with 8 datablocks ***\n",
      "*** Overflow with 5 datablocks ***\n",
      "*** Overflow with 7 datablocks ***\n",
      "*** Overflow with 6 datablocks ***\n",
      "*** Overflow with 10 datablocks ***\n"
     ]
    },
    {
     "name": "stderr",
     "output_type": "stream",
     "text": [
      "WARNING:wyrm.types:Discarding data that was longer than the ring buffer.\n"
     ]
    },
    {
     "name": "stdout",
     "output_type": "stream",
     "text": [
      "*** Overflow with 7 datablocks ***\n",
      "*** Overflow with 5 datablocks ***\n",
      "*** Overflow with 7 datablocks ***\n",
      "sending signal! - 131 False - 8478.744078113374 -- 5.449999999999989\n",
      "*** Overflow with 6 datablocks ***\n",
      "*** Overflow with 6 datablocks ***\n",
      "*** Overflow with 7 datablocks ***\n",
      "*** Overflow with 7 datablocks ***\n",
      "*** Overflow with 5 datablocks ***\n",
      "*** Overflow with 7 datablocks ***\n",
      "*** Overflow with 7 datablocks ***\n",
      "*** Overflow with 7 datablocks ***\n"
     ]
    },
    {
     "name": "stderr",
     "output_type": "stream",
     "text": [
      "WARNING:wyrm.types:Discarding data that was longer than the ring buffer.\n"
     ]
    },
    {
     "name": "stdout",
     "output_type": "stream",
     "text": [
      "*** Overflow with 5 datablocks ***\n",
      "*** Overflow with 8 datablocks ***\n",
      "*** Overflow with 9 datablocks ***\n",
      "*** Overflow with 7 datablocks ***\n",
      "*** Overflow with 8 datablocks ***\n",
      "*** Overflow with 6 datablocks ***\n",
      "*** Overflow with 6 datablocks ***\n",
      "*** Overflow with 8 datablocks ***\n",
      "*** Overflow with 5 datablocks ***\n",
      "*** Overflow with 8 datablocks ***\n",
      "*** Overflow with 10 datablocks ***\n"
     ]
    },
    {
     "name": "stderr",
     "output_type": "stream",
     "text": [
      "WARNING:wyrm.types:Discarding data that was longer than the ring buffer.\n"
     ]
    },
    {
     "name": "stdout",
     "output_type": "stream",
     "text": [
      "*** Overflow with 7 datablocks ***\n",
      "*** Overflow with 10 datablocks ***\n",
      "*** Overflow with 7 datablocks ***\n",
      "*** Overflow with 6 datablocks ***\n",
      "*** Overflow with 5 datablocks ***\n",
      "*** Overflow with 7 datablocks ***\n",
      "*** Overflow with 5 datablocks ***\n",
      "*** Overflow with 6 datablocks ***\n",
      "*** Overflow with 7 datablocks ***\n",
      "*** Overflow with 11 datablocks ***\n",
      "*** Overflow with 6 datablocks ***\n",
      "*** Overflow with 6 datablocks ***\n",
      "*** Overflow with 8 datablocks ***\n"
     ]
    },
    {
     "name": "stderr",
     "output_type": "stream",
     "text": [
      "WARNING:wyrm.types:Discarding data that was longer than the ring buffer.\n"
     ]
    },
    {
     "name": "stdout",
     "output_type": "stream",
     "text": [
      "*** Overflow with 7 datablocks ***\n",
      "*** Overflow with 7 datablocks ***\n",
      "*** Overflow with 5 datablocks ***\n",
      "*** Overflow with 7 datablocks ***\n",
      "sending signal! - 134 False - 8714.86790451578 -- 5.4999999999999885\n",
      "*** Overflow with 8 datablocks ***\n",
      "*** Overflow with 4 datablocks ***\n",
      "*** Overflow with 8 datablocks ***\n",
      "*** Overflow with 9 datablocks ***\n",
      "*** Overflow with 7 datablocks ***\n",
      "*** Overflow with 6 datablocks ***\n",
      "*** Overflow with 6 datablocks ***\n",
      "*** Overflow with 6 datablocks ***\n",
      "*** Overflow with 11 datablocks ***\n"
     ]
    },
    {
     "name": "stderr",
     "output_type": "stream",
     "text": [
      "WARNING:wyrm.types:Discarding data that was longer than the ring buffer.\n"
     ]
    },
    {
     "name": "stdout",
     "output_type": "stream",
     "text": [
      "*** Overflow with 6 datablocks ***\n",
      "*** Overflow with 5 datablocks ***\n",
      "*** Overflow with 6 datablocks ***\n",
      "*** Overflow with 6 datablocks ***\n",
      "*** Overflow with 6 datablocks ***\n",
      "*** Overflow with 7 datablocks ***\n",
      "*** Overflow with 7 datablocks ***\n",
      "*** Overflow with 9 datablocks ***\n",
      "*** Overflow with 5 datablocks ***\n",
      "*** Overflow with 8 datablocks ***\n",
      "*** Overflow with 6 datablocks ***\n",
      "*** Overflow with 5 datablocks ***\n",
      "*** Overflow with 7 datablocks ***\n",
      "*** Overflow with 7 datablocks ***\n",
      "*** Overflow with 6 datablocks ***\n",
      "*** Overflow with 5 datablocks ***\n"
     ]
    },
    {
     "name": "stderr",
     "output_type": "stream",
     "text": [
      "WARNING:wyrm.types:Discarding data that was longer than the ring buffer.\n"
     ]
    },
    {
     "name": "stdout",
     "output_type": "stream",
     "text": [
      "*** Overflow with 7 datablocks ***\n",
      "*** Overflow with 6 datablocks ***\n",
      "*** Overflow with 5 datablocks ***\n",
      "*** Overflow with 6 datablocks ***\n",
      "*** Overflow with 5 datablocks ***\n",
      "*** Overflow with 6 datablocks ***\n",
      "*** Overflow with 7 datablocks ***\n",
      "*** Overflow with 4 datablocks ***\n",
      "*** Overflow with 8 datablocks ***\n",
      "*** Overflow with 6 datablocks ***\n",
      "*** Overflow with 4 datablocks ***\n",
      "*** Overflow with 7 datablocks ***\n",
      "*** Overflow with 6 datablocks ***\n",
      "*** Overflow with 11 datablocks ***\n",
      "*** Overflow with 4 datablocks ***\n",
      "*** Overflow with 6 datablocks ***\n"
     ]
    },
    {
     "name": "stderr",
     "output_type": "stream",
     "text": [
      "WARNING:wyrm.types:Discarding data that was longer than the ring buffer.\n"
     ]
    },
    {
     "name": "stdout",
     "output_type": "stream",
     "text": [
      "*** Overflow with 6 datablocks ***\n",
      "*** Overflow with 6 datablocks ***\n",
      "*** Overflow with 6 datablocks ***\n",
      "*** Overflow with 5 datablocks ***\n",
      "sending signal! - 137 False - 8951.817287352867 -- 5.549999999999988\n",
      "*** Overflow with 6 datablocks ***\n",
      "*** Overflow with 6 datablocks ***\n",
      "*** Overflow with 5 datablocks ***\n",
      "*** Overflow with 7 datablocks ***\n",
      "*** Overflow with 8 datablocks ***\n",
      "*** Overflow with 5 datablocks ***\n",
      "*** Overflow with 6 datablocks ***\n",
      "*** Overflow with 6 datablocks ***\n",
      "*** Overflow with 5 datablocks ***\n",
      "*** Overflow with 9 datablocks ***\n",
      "*** Overflow with 8 datablocks ***\n"
     ]
    },
    {
     "name": "stderr",
     "output_type": "stream",
     "text": [
      "WARNING:wyrm.types:Discarding data that was longer than the ring buffer.\n"
     ]
    },
    {
     "name": "stdout",
     "output_type": "stream",
     "text": [
      "*** Overflow with 7 datablocks ***\n",
      "*** Overflow with 5 datablocks ***\n",
      "*** Overflow with 7 datablocks ***\n",
      "*** Overflow with 7 datablocks ***\n",
      "*** Overflow with 5 datablocks ***\n",
      "*** Overflow with 6 datablocks ***\n",
      "*** Overflow with 7 datablocks ***\n",
      "*** Overflow with 6 datablocks ***\n",
      "*** Overflow with 6 datablocks ***\n",
      "*** Overflow with 6 datablocks ***\n",
      "*** Overflow with 5 datablocks ***\n",
      "*** Overflow with 7 datablocks ***\n",
      "*** Overflow with 7 datablocks ***\n",
      "*** Overflow with 8 datablocks ***\n"
     ]
    },
    {
     "name": "stderr",
     "output_type": "stream",
     "text": [
      "WARNING:wyrm.types:Discarding data that was longer than the ring buffer.\n"
     ]
    },
    {
     "name": "stdout",
     "output_type": "stream",
     "text": [
      "*** Overflow with 5 datablocks ***\n",
      "*** Overflow with 8 datablocks ***\n",
      "*** Overflow with 6 datablocks ***\n",
      "*** Overflow with 7 datablocks ***\n",
      "*** Overflow with 6 datablocks ***\n",
      "*** Overflow with 6 datablocks ***\n",
      "*** Overflow with 7 datablocks ***\n",
      "*** Overflow with 5 datablocks ***\n",
      "*** Overflow with 6 datablocks ***\n",
      "*** Overflow with 7 datablocks ***\n",
      "*** Overflow with 6 datablocks ***\n",
      "*** Overflow with 8 datablocks ***\n",
      "*** Overflow with 7 datablocks ***\n",
      "*** Overflow with 8 datablocks ***\n",
      "*** Overflow with 6 datablocks ***\n"
     ]
    },
    {
     "name": "stderr",
     "output_type": "stream",
     "text": [
      "WARNING:wyrm.types:Discarding data that was longer than the ring buffer.\n"
     ]
    },
    {
     "name": "stdout",
     "output_type": "stream",
     "text": [
      "*** Overflow with 7 datablocks ***\n",
      "*** Overflow with 6 datablocks ***\n",
      "*** Overflow with 6 datablocks ***\n",
      "*** Overflow with 6 datablocks ***\n",
      "sending signal! - 140 False - 9195.79113436111 -- 5.599999999999988\n",
      "*** Overflow with 7 datablocks ***\n",
      "*** Overflow with 6 datablocks ***\n",
      "*** Overflow with 7 datablocks ***\n",
      "*** Overflow with 7 datablocks ***\n",
      "*** Overflow with 9 datablocks ***\n",
      "*** Overflow with 6 datablocks ***\n",
      "*** Overflow with 5 datablocks ***\n",
      "*** Overflow with 6 datablocks ***\n",
      "*** Overflow with 6 datablocks ***\n",
      "*** Overflow with 7 datablocks ***\n"
     ]
    },
    {
     "name": "stderr",
     "output_type": "stream",
     "text": [
      "WARNING:wyrm.types:Discarding data that was longer than the ring buffer.\n"
     ]
    },
    {
     "name": "stdout",
     "output_type": "stream",
     "text": [
      "*** Overflow with 8 datablocks ***\n",
      "*** Overflow with 7 datablocks ***\n",
      "*** Overflow with 8 datablocks ***\n",
      "*** Overflow with 10 datablocks ***\n",
      "*** Overflow with 7 datablocks ***\n",
      "*** Overflow with 5 datablocks ***\n",
      "*** Overflow with 6 datablocks ***\n",
      "*** Overflow with 6 datablocks ***\n",
      "*** Overflow with 5 datablocks ***\n",
      "*** Overflow with 10 datablocks ***\n",
      "*** Overflow with 6 datablocks ***\n",
      "*** Overflow with 8 datablocks ***\n"
     ]
    },
    {
     "name": "stderr",
     "output_type": "stream",
     "text": [
      "WARNING:wyrm.types:Discarding data that was longer than the ring buffer.\n"
     ]
    },
    {
     "name": "stdout",
     "output_type": "stream",
     "text": [
      "*** Overflow with 10 datablocks ***\n",
      "*** Overflow with 5 datablocks ***\n",
      "*** Overflow with 7 datablocks ***\n",
      "*** Overflow with 8 datablocks ***\n",
      "*** Overflow with 8 datablocks ***\n",
      "*** Overflow with 7 datablocks ***\n",
      "*** Overflow with 6 datablocks ***\n",
      "*** Overflow with 6 datablocks ***\n",
      "*** Overflow with 7 datablocks ***\n",
      "*** Overflow with 8 datablocks ***\n",
      "*** Overflow with 6 datablocks ***\n",
      "*** Overflow with 7 datablocks ***\n"
     ]
    },
    {
     "name": "stderr",
     "output_type": "stream",
     "text": [
      "WARNING:wyrm.types:Discarding data that was longer than the ring buffer.\n"
     ]
    },
    {
     "name": "stdout",
     "output_type": "stream",
     "text": [
      "*** Overflow with 8 datablocks ***\n",
      "*** Overflow with 9 datablocks ***\n",
      "*** Overflow with 8 datablocks ***\n",
      "*** Overflow with 6 datablocks ***\n",
      "sending signal! - 143 False - 9435.881110256454 -- 5.649999999999988\n",
      "*** Overflow with 6 datablocks ***\n",
      "*** Overflow with 6 datablocks ***\n",
      "*** Overflow with 6 datablocks ***\n",
      "*** Overflow with 7 datablocks ***\n",
      "*** Overflow with 7 datablocks ***\n",
      "*** Overflow with 9 datablocks ***\n",
      "*** Overflow with 6 datablocks ***\n",
      "*** Overflow with 6 datablocks ***\n",
      "*** Overflow with 8 datablocks ***\n",
      "*** Overflow with 8 datablocks ***\n"
     ]
    },
    {
     "name": "stderr",
     "output_type": "stream",
     "text": [
      "WARNING:wyrm.types:Discarding data that was longer than the ring buffer.\n"
     ]
    },
    {
     "name": "stdout",
     "output_type": "stream",
     "text": [
      "*** Overflow with 8 datablocks ***\n",
      "*** Overflow with 5 datablocks ***\n",
      "*** Overflow with 6 datablocks ***\n",
      "*** Overflow with 9 datablocks ***\n",
      "*** Overflow with 6 datablocks ***\n",
      "*** Overflow with 6 datablocks ***\n",
      "*** Overflow with 9 datablocks ***\n",
      "*** Overflow with 7 datablocks ***\n",
      "*** Overflow with 7 datablocks ***\n",
      "*** Overflow with 7 datablocks ***\n",
      "*** Overflow with 6 datablocks ***\n",
      "*** Overflow with 6 datablocks ***\n",
      "*** Overflow with 9 datablocks ***\n"
     ]
    },
    {
     "name": "stderr",
     "output_type": "stream",
     "text": [
      "WARNING:wyrm.types:Discarding data that was longer than the ring buffer.\n"
     ]
    },
    {
     "name": "stdout",
     "output_type": "stream",
     "text": [
      "*** Overflow with 6 datablocks ***\n",
      "*** Overflow with 7 datablocks ***\n",
      "*** Overflow with 7 datablocks ***\n",
      "*** Overflow with 8 datablocks ***\n",
      "*** Overflow with 9 datablocks ***\n",
      "*** Overflow with 7 datablocks ***\n",
      "*** Overflow with 7 datablocks ***\n",
      "*** Overflow with 7 datablocks ***\n",
      "*** Overflow with 8 datablocks ***\n",
      "*** Overflow with 9 datablocks ***\n",
      "*** Overflow with 6 datablocks ***\n",
      "*** Overflow with 5 datablocks ***\n",
      "*** Overflow with 6 datablocks ***\n",
      "*** Overflow with 10 datablocks ***\n",
      "*** Overflow with 8 datablocks ***\n",
      "*** Overflow with 5 datablocks ***\n",
      "*** Overflow with 6 datablocks ***\n"
     ]
    },
    {
     "name": "stderr",
     "output_type": "stream",
     "text": [
      "WARNING:wyrm.types:Discarding data that was longer than the ring buffer.\n"
     ]
    },
    {
     "name": "stdout",
     "output_type": "stream",
     "text": [
      "*** Overflow with 7 datablocks ***\n",
      "*** Overflow with 4 datablocks ***\n",
      "*** Overflow with 7 datablocks ***\n",
      "sending signal! - 146 False - 9667.504419489436 -- 5.699999999999988\n",
      "*** Overflow with 7 datablocks ***\n",
      "*** Overflow with 4 datablocks ***\n",
      "*** Overflow with 7 datablocks ***\n",
      "*** Overflow with 5 datablocks ***\n",
      "*** Overflow with 6 datablocks ***\n",
      "*** Overflow with 8 datablocks ***\n",
      "*** Overflow with 7 datablocks ***\n",
      "*** Overflow with 5 datablocks ***\n",
      "*** Overflow with 7 datablocks ***\n",
      "*** Overflow with 12 datablocks ***\n",
      "*** Overflow with 6 datablocks ***\n",
      "*** Overflow with 6 datablocks ***\n",
      "*** Overflow with 9 datablocks ***\n"
     ]
    },
    {
     "name": "stderr",
     "output_type": "stream",
     "text": [
      "WARNING:wyrm.types:Discarding data that was longer than the ring buffer.\n"
     ]
    },
    {
     "name": "stdout",
     "output_type": "stream",
     "text": [
      "*** Overflow with 7 datablocks ***\n",
      "*** Overflow with 8 datablocks ***\n",
      "*** Overflow with 6 datablocks ***\n",
      "*** Overflow with 5 datablocks ***\n",
      "*** Overflow with 6 datablocks ***\n",
      "*** Overflow with 8 datablocks ***\n",
      "*** Overflow with 6 datablocks ***\n",
      "*** Overflow with 5 datablocks ***\n",
      "*** Overflow with 7 datablocks ***\n",
      "*** Overflow with 8 datablocks ***\n",
      "*** Overflow with 4 datablocks ***\n",
      "*** Overflow with 8 datablocks ***\n",
      "*** Overflow with 7 datablocks ***\n",
      "*** Overflow with 8 datablocks ***\n",
      "*** Overflow with 6 datablocks ***\n",
      "*** Overflow with 7 datablocks ***\n",
      "*** Overflow with 7 datablocks ***\n",
      "*** Overflow with 7 datablocks ***\n",
      "*** Overflow with 6 datablocks ***\n"
     ]
    },
    {
     "name": "stderr",
     "output_type": "stream",
     "text": [
      "WARNING:wyrm.types:Discarding data that was longer than the ring buffer.\n"
     ]
    },
    {
     "name": "stdout",
     "output_type": "stream",
     "text": [
      "*** Overflow with 6 datablocks ***\n",
      "*** Overflow with 6 datablocks ***\n",
      "*** Overflow with 6 datablocks ***\n",
      "*** Overflow with 6 datablocks ***\n",
      "*** Overflow with 7 datablocks ***\n",
      "*** Overflow with 6 datablocks ***\n",
      "*** Overflow with 5 datablocks ***\n",
      "*** Overflow with 5 datablocks ***\n",
      "sending signal! - 148 False - 9976.89946840045 -- 5.749999999999988\n",
      "*** Overflow with 7 datablocks ***\n",
      "*** Overflow with 7 datablocks ***\n",
      "*** Overflow with 6 datablocks ***\n",
      "*** Overflow with 5 datablocks ***\n",
      "*** Overflow with 8 datablocks ***\n",
      "*** Overflow with 7 datablocks ***\n",
      "*** Overflow with 6 datablocks ***\n",
      "*** Overflow with 6 datablocks ***\n",
      "*** Overflow with 6 datablocks ***\n",
      "*** Overflow with 6 datablocks ***\n",
      "*** Overflow with 6 datablocks ***\n"
     ]
    },
    {
     "name": "stderr",
     "output_type": "stream",
     "text": [
      "WARNING:wyrm.types:Discarding data that was longer than the ring buffer.\n"
     ]
    },
    {
     "name": "stdout",
     "output_type": "stream",
     "text": [
      "*** Overflow with 6 datablocks ***\n",
      "*** Overflow with 6 datablocks ***\n",
      "*** Overflow with 6 datablocks ***\n",
      "*** Overflow with 7 datablocks ***\n",
      "*** Overflow with 5 datablocks ***\n",
      "*** Overflow with 6 datablocks ***\n",
      "*** Overflow with 7 datablocks ***\n",
      "*** Overflow with 6 datablocks ***\n",
      "*** Overflow with 9 datablocks ***\n",
      "*** Overflow with 5 datablocks ***\n",
      "*** Overflow with 6 datablocks ***\n",
      "*** Overflow with 6 datablocks ***\n",
      "*** Overflow with 7 datablocks ***\n",
      "*** Overflow with 9 datablocks ***\n",
      "*** Overflow with 6 datablocks ***\n",
      "*** Overflow with 5 datablocks ***\n",
      "*** Overflow with 5 datablocks ***\n",
      "*** Overflow with 5 datablocks ***\n"
     ]
    },
    {
     "name": "stderr",
     "output_type": "stream",
     "text": [
      "WARNING:wyrm.types:Discarding data that was longer than the ring buffer.\n"
     ]
    },
    {
     "name": "stdout",
     "output_type": "stream",
     "text": [
      "*** Overflow with 7 datablocks ***\n",
      "*** Overflow with 7 datablocks ***\n",
      "*** Overflow with 6 datablocks ***\n",
      "*** Overflow with 6 datablocks ***\n",
      "*** Overflow with 6 datablocks ***\n",
      "*** Overflow with 6 datablocks ***\n",
      "*** Overflow with 6 datablocks ***\n",
      "*** Overflow with 7 datablocks ***\n",
      "*** Overflow with 5 datablocks ***\n",
      "*** Overflow with 7 datablocks ***\n",
      "*** Overflow with 8 datablocks ***\n",
      "*** Overflow with 6 datablocks ***\n",
      "*** Overflow with 7 datablocks ***\n",
      "*** Overflow with 6 datablocks ***\n",
      "*** Overflow with 7 datablocks ***\n",
      "*** Overflow with 7 datablocks ***\n",
      "*** Overflow with 6 datablocks ***\n",
      "*** Overflow with 5 datablocks ***\n"
     ]
    },
    {
     "name": "stderr",
     "output_type": "stream",
     "text": [
      "WARNING:wyrm.types:Discarding data that was longer than the ring buffer.\n"
     ]
    },
    {
     "name": "stdout",
     "output_type": "stream",
     "text": [
      "*** Overflow with 5 datablocks ***\n",
      "*** Overflow with 7 datablocks ***\n",
      "*** Overflow with 6 datablocks ***\n",
      "*** Overflow with 5 datablocks ***\n",
      "sending signal! - 151 False - 10169.072208769512 -- 5.799999999999987\n",
      "*** Overflow with 6 datablocks ***\n",
      "*** Overflow with 6 datablocks ***\n",
      "*** Overflow with 6 datablocks ***\n",
      "*** Overflow with 5 datablocks ***\n",
      "*** Overflow with 7 datablocks ***\n",
      "*** Overflow with 6 datablocks ***\n",
      "*** Overflow with 5 datablocks ***\n",
      "*** Overflow with 6 datablocks ***\n",
      "*** Overflow with 9 datablocks ***\n",
      "*** Overflow with 6 datablocks ***\n",
      "*** Overflow with 6 datablocks ***\n"
     ]
    },
    {
     "name": "stderr",
     "output_type": "stream",
     "text": [
      "WARNING:wyrm.types:Discarding data that was longer than the ring buffer.\n"
     ]
    },
    {
     "name": "stdout",
     "output_type": "stream",
     "text": [
      "*** Overflow with 6 datablocks ***\n",
      "*** Overflow with 8 datablocks ***\n",
      "*** Overflow with 6 datablocks ***\n",
      "*** Overflow with 6 datablocks ***\n",
      "*** Overflow with 7 datablocks ***\n",
      "*** Overflow with 6 datablocks ***\n",
      "*** Overflow with 6 datablocks ***\n",
      "*** Overflow with 7 datablocks ***\n",
      "*** Overflow with 7 datablocks ***\n",
      "*** Overflow with 7 datablocks ***\n",
      "*** Overflow with 9 datablocks ***\n",
      "*** Overflow with 6 datablocks ***\n",
      "*** Overflow with 10 datablocks ***\n"
     ]
    },
    {
     "name": "stderr",
     "output_type": "stream",
     "text": [
      "WARNING:wyrm.types:Discarding data that was longer than the ring buffer.\n"
     ]
    },
    {
     "name": "stdout",
     "output_type": "stream",
     "text": [
      "*** Overflow with 6 datablocks ***\n",
      "*** Overflow with 6 datablocks ***\n",
      "*** Overflow with 6 datablocks ***\n",
      "*** Overflow with 5 datablocks ***\n",
      "*** Overflow with 7 datablocks ***\n",
      "*** Overflow with 5 datablocks ***\n",
      "*** Overflow with 6 datablocks ***\n",
      "*** Overflow with 7 datablocks ***\n",
      "*** Overflow with 5 datablocks ***\n",
      "*** Overflow with 11 datablocks ***\n",
      "*** Overflow with 4 datablocks ***\n",
      "*** Overflow with 6 datablocks ***\n",
      "*** Overflow with 6 datablocks ***\n",
      "*** Overflow with 6 datablocks ***\n",
      "*** Overflow with 7 datablocks ***\n",
      "*** Overflow with 5 datablocks ***\n"
     ]
    },
    {
     "name": "stderr",
     "output_type": "stream",
     "text": [
      "WARNING:wyrm.types:Discarding data that was longer than the ring buffer.\n"
     ]
    },
    {
     "name": "stdout",
     "output_type": "stream",
     "text": [
      "*** Overflow with 7 datablocks ***\n",
      "*** Overflow with 6 datablocks ***\n",
      "*** Overflow with 6 datablocks ***\n",
      "*** Overflow with 7 datablocks ***\n",
      "*** Overflow with 6 datablocks ***\n",
      "sending signal! - 154 False - 10381.727950162756 -- 5.849999999999987\n",
      "*** Overflow with 6 datablocks ***\n",
      "*** Overflow with 6 datablocks ***\n",
      "*** Overflow with 7 datablocks ***\n",
      "*** Overflow with 6 datablocks ***\n",
      "*** Overflow with 6 datablocks ***\n",
      "*** Overflow with 6 datablocks ***\n",
      "*** Overflow with 6 datablocks ***\n",
      "*** Overflow with 7 datablocks ***\n",
      "*** Overflow with 8 datablocks ***\n"
     ]
    },
    {
     "name": "stderr",
     "output_type": "stream",
     "text": [
      "WARNING:wyrm.types:Discarding data that was longer than the ring buffer.\n"
     ]
    },
    {
     "name": "stdout",
     "output_type": "stream",
     "text": [
      "*** Overflow with 7 datablocks ***\n",
      "*** Overflow with 5 datablocks ***\n",
      "*** Overflow with 7 datablocks ***\n",
      "*** Overflow with 7 datablocks ***\n",
      "*** Overflow with 7 datablocks ***\n",
      "*** Overflow with 6 datablocks ***\n",
      "*** Overflow with 5 datablocks ***\n",
      "*** Overflow with 7 datablocks ***\n",
      "*** Overflow with 8 datablocks ***\n",
      "*** Overflow with 8 datablocks ***\n",
      "*** Overflow with 7 datablocks ***\n",
      "*** Overflow with 6 datablocks ***\n",
      "*** Overflow with 7 datablocks ***\n"
     ]
    },
    {
     "name": "stderr",
     "output_type": "stream",
     "text": [
      "WARNING:wyrm.types:Discarding data that was longer than the ring buffer.\n"
     ]
    },
    {
     "name": "stdout",
     "output_type": "stream",
     "text": [
      "*** Overflow with 7 datablocks ***\n",
      "*** Overflow with 8 datablocks ***\n",
      "*** Overflow with 7 datablocks ***\n",
      "*** Overflow with 7 datablocks ***\n",
      "*** Overflow with 5 datablocks ***\n",
      "*** Overflow with 6 datablocks ***\n",
      "*** Overflow with 7 datablocks ***\n",
      "*** Overflow with 6 datablocks ***\n",
      "*** Overflow with 8 datablocks ***\n",
      "*** Overflow with 6 datablocks ***\n",
      "*** Overflow with 9 datablocks ***\n",
      "*** Overflow with 5 datablocks ***\n",
      "*** Overflow with 7 datablocks ***\n"
     ]
    },
    {
     "name": "stderr",
     "output_type": "stream",
     "text": [
      "WARNING:wyrm.types:Discarding data that was longer than the ring buffer.\n"
     ]
    },
    {
     "name": "stdout",
     "output_type": "stream",
     "text": [
      "*** Overflow with 7 datablocks ***\n",
      "*** Overflow with 5 datablocks ***\n",
      "*** Overflow with 6 datablocks ***\n",
      "*** Overflow with 6 datablocks ***\n",
      "sending signal! - 157 False - 10662.207740457317 -- 5.899999999999987\n",
      "*** Overflow with 5 datablocks ***\n",
      "*** Overflow with 8 datablocks ***\n",
      "*** Overflow with 5 datablocks ***\n",
      "*** Overflow with 11 datablocks ***\n",
      "*** Overflow with 8 datablocks ***\n",
      "*** Overflow with 7 datablocks ***\n",
      "*** Overflow with 6 datablocks ***\n",
      "*** Overflow with 8 datablocks ***\n"
     ]
    },
    {
     "name": "stderr",
     "output_type": "stream",
     "text": [
      "WARNING:wyrm.types:Discarding data that was longer than the ring buffer.\n"
     ]
    },
    {
     "name": "stdout",
     "output_type": "stream",
     "text": [
      "*** Overflow with 8 datablocks ***\n",
      "*** Overflow with 6 datablocks ***\n",
      "*** Overflow with 6 datablocks ***\n",
      "*** Overflow with 7 datablocks ***\n",
      "*** Overflow with 9 datablocks ***\n",
      "*** Overflow with 5 datablocks ***\n",
      "*** Overflow with 7 datablocks ***\n",
      "*** Overflow with 8 datablocks ***\n",
      "*** Overflow with 9 datablocks ***\n",
      "*** Overflow with 5 datablocks ***\n",
      "*** Overflow with 6 datablocks ***\n"
     ]
    },
    {
     "name": "stderr",
     "output_type": "stream",
     "text": [
      "WARNING:wyrm.types:Discarding data that was longer than the ring buffer.\n"
     ]
    },
    {
     "name": "stdout",
     "output_type": "stream",
     "text": [
      "*** Overflow with 6 datablocks ***\n",
      "*** Overflow with 6 datablocks ***\n",
      "*** Overflow with 9 datablocks ***\n",
      "*** Overflow with 6 datablocks ***\n",
      "*** Overflow with 8 datablocks ***\n",
      "*** Overflow with 7 datablocks ***\n",
      "*** Overflow with 8 datablocks ***\n",
      "*** Overflow with 5 datablocks ***\n",
      "*** Overflow with 6 datablocks ***\n",
      "*** Overflow with 7 datablocks ***\n",
      "*** Overflow with 9 datablocks ***\n"
     ]
    },
    {
     "name": "stderr",
     "output_type": "stream",
     "text": [
      "WARNING:wyrm.types:Discarding data that was longer than the ring buffer.\n"
     ]
    },
    {
     "name": "stdout",
     "output_type": "stream",
     "text": [
      "*** Overflow with 7 datablocks ***\n",
      "*** Overflow with 10 datablocks ***\n",
      "*** Overflow with 6 datablocks ***\n",
      "*** Overflow with 7 datablocks ***\n",
      "*** Overflow with 6 datablocks ***\n",
      "*** Overflow with 6 datablocks ***\n",
      "*** Overflow with 8 datablocks ***\n",
      "*** Overflow with 7 datablocks ***\n",
      "*** Overflow with 8 datablocks ***\n",
      "*** Overflow with 9 datablocks ***\n",
      "*** Overflow with 5 datablocks ***\n",
      "*** Overflow with 8 datablocks ***\n",
      "*** Overflow with 6 datablocks ***\n",
      "*** Overflow with 7 datablocks ***\n"
     ]
    },
    {
     "name": "stderr",
     "output_type": "stream",
     "text": [
      "WARNING:wyrm.types:Discarding data that was longer than the ring buffer.\n"
     ]
    },
    {
     "name": "stdout",
     "output_type": "stream",
     "text": [
      "*** Overflow with 5 datablocks ***\n",
      "*** Overflow with 6 datablocks ***\n",
      "*** Overflow with 7 datablocks ***\n",
      "*** Overflow with 6 datablocks ***\n",
      "sending signal! - 161 False - 10913.707631046645 -- 5.949999999999987\n",
      "*** Overflow with 6 datablocks ***\n",
      "*** Overflow with 5 datablocks ***\n",
      "*** Overflow with 6 datablocks ***\n",
      "*** Overflow with 14 datablocks ***\n",
      "*** Overflow with 8 datablocks ***\n",
      "*** Overflow with 7 datablocks ***\n",
      "*** Overflow with 6 datablocks ***\n",
      "*** Overflow with 6 datablocks ***\n",
      "*** Overflow with 5 datablocks ***\n"
     ]
    },
    {
     "name": "stderr",
     "output_type": "stream",
     "text": [
      "WARNING:wyrm.types:Discarding data that was longer than the ring buffer.\n"
     ]
    },
    {
     "name": "stdout",
     "output_type": "stream",
     "text": [
      "*** Overflow with 7 datablocks ***\n",
      "*** Overflow with 13 datablocks ***\n",
      "*** Overflow with 5 datablocks ***\n",
      "*** Overflow with 8 datablocks ***\n",
      "*** Overflow with 6 datablocks ***\n",
      "*** Overflow with 7 datablocks ***\n",
      "*** Overflow with 7 datablocks ***\n",
      "*** Overflow with 7 datablocks ***\n",
      "*** Overflow with 6 datablocks ***\n",
      "*** Overflow with 6 datablocks ***\n",
      "*** Overflow with 7 datablocks ***\n",
      "*** Overflow with 5 datablocks ***\n"
     ]
    },
    {
     "name": "stderr",
     "output_type": "stream",
     "text": [
      "WARNING:wyrm.types:Discarding data that was longer than the ring buffer.\n"
     ]
    },
    {
     "name": "stdout",
     "output_type": "stream",
     "text": [
      "*** Overflow with 14 datablocks ***\n",
      "*** Overflow with 7 datablocks ***\n",
      "*** Overflow with 8 datablocks ***\n",
      "*** Overflow with 9 datablocks ***\n",
      "*** Overflow with 5 datablocks ***\n",
      "*** Overflow with 6 datablocks ***\n",
      "*** Overflow with 6 datablocks ***\n",
      "*** Overflow with 7 datablocks ***\n",
      "*** Overflow with 8 datablocks ***\n",
      "*** Overflow with 7 datablocks ***\n",
      "*** Overflow with 5 datablocks ***\n",
      "*** Overflow with 6 datablocks ***\n"
     ]
    },
    {
     "name": "stderr",
     "output_type": "stream",
     "text": [
      "WARNING:wyrm.types:Discarding data that was longer than the ring buffer.\n"
     ]
    },
    {
     "name": "stdout",
     "output_type": "stream",
     "text": [
      "*** Overflow with 10 datablocks ***\n",
      "*** Overflow with 6 datablocks ***\n",
      "*** Overflow with 6 datablocks ***\n",
      "*** Overflow with 6 datablocks ***\n",
      "*** Overflow with 6 datablocks ***\n",
      "*** Overflow with 4 datablocks ***\n",
      "sending signal! - 164 False - 11164.370774664303 -- 5.999999999999987\n",
      "*** Overflow with 6 datablocks ***\n",
      "*** Overflow with 7 datablocks ***\n",
      "*** Overflow with 5 datablocks ***\n",
      "*** Overflow with 8 datablocks ***\n",
      "*** Overflow with 6 datablocks ***\n",
      "*** Overflow with 7 datablocks ***\n",
      "*** Overflow with 7 datablocks ***\n"
     ]
    },
    {
     "name": "stderr",
     "output_type": "stream",
     "text": [
      "WARNING:wyrm.types:Discarding data that was longer than the ring buffer.\n"
     ]
    },
    {
     "name": "stdout",
     "output_type": "stream",
     "text": [
      "*** Overflow with 3 datablocks ***\n",
      "*** Overflow with 12 datablocks ***\n",
      "*** Overflow with 7 datablocks ***\n",
      "*** Overflow with 6 datablocks ***\n",
      "*** Overflow with 6 datablocks ***\n",
      "*** Overflow with 8 datablocks ***\n",
      "*** Overflow with 5 datablocks ***\n",
      "*** Overflow with 7 datablocks ***\n",
      "*** Overflow with 7 datablocks ***\n",
      "*** Overflow with 6 datablocks ***\n",
      "*** Overflow with 6 datablocks ***\n",
      "*** Overflow with 7 datablocks ***\n",
      "*** Overflow with 7 datablocks ***\n",
      "*** Overflow with 5 datablocks ***\n"
     ]
    },
    {
     "name": "stderr",
     "output_type": "stream",
     "text": [
      "WARNING:wyrm.types:Discarding data that was longer than the ring buffer.\n"
     ]
    },
    {
     "name": "stdout",
     "output_type": "stream",
     "text": [
      "*** Overflow with 8 datablocks ***\n",
      "*** Overflow with 7 datablocks ***\n",
      "*** Overflow with 6 datablocks ***\n",
      "*** Overflow with 7 datablocks ***\n",
      "*** Overflow with 7 datablocks ***\n",
      "*** Overflow with 7 datablocks ***\n",
      "*** Overflow with 6 datablocks ***\n",
      "*** Overflow with 8 datablocks ***\n",
      "*** Overflow with 8 datablocks ***\n",
      "*** Overflow with 11 datablocks ***\n",
      "*** Overflow with 5 datablocks ***\n",
      "*** Overflow with 7 datablocks ***\n",
      "*** Overflow with 5 datablocks ***\n",
      "*** Overflow with 8 datablocks ***\n",
      "*** Overflow with 8 datablocks ***\n"
     ]
    },
    {
     "name": "stderr",
     "output_type": "stream",
     "text": [
      "WARNING:wyrm.types:Discarding data that was longer than the ring buffer.\n"
     ]
    },
    {
     "name": "stdout",
     "output_type": "stream",
     "text": [
      "*** Overflow with 8 datablocks ***\n",
      "*** Overflow with 6 datablocks ***\n",
      "*** Overflow with 6 datablocks ***\n",
      "*** Overflow with 9 datablocks ***\n",
      "*** Overflow with 7 datablocks ***\n",
      "sending signal! - 167 False - 11459.369233990186 -- 6.0499999999999865\n",
      "*** Overflow with 8 datablocks ***\n",
      "*** Overflow with 7 datablocks ***\n",
      "*** Overflow with 7 datablocks ***\n",
      "*** Overflow with 6 datablocks ***\n",
      "*** Overflow with 5 datablocks ***\n",
      "*** Overflow with 5 datablocks ***\n",
      "*** Overflow with 6 datablocks ***\n",
      "*** Overflow with 9 datablocks ***\n"
     ]
    },
    {
     "name": "stderr",
     "output_type": "stream",
     "text": [
      "WARNING:wyrm.types:Discarding data that was longer than the ring buffer.\n"
     ]
    },
    {
     "name": "stdout",
     "output_type": "stream",
     "text": [
      "*** Overflow with 8 datablocks ***\n",
      "*** Overflow with 6 datablocks ***\n",
      "*** Overflow with 7 datablocks ***\n",
      "*** Overflow with 6 datablocks ***\n",
      "*** Overflow with 6 datablocks ***\n",
      "*** Overflow with 7 datablocks ***\n",
      "*** Overflow with 7 datablocks ***\n",
      "*** Overflow with 5 datablocks ***\n",
      "*** Overflow with 9 datablocks ***\n",
      "*** Overflow with 9 datablocks ***\n",
      "*** Overflow with 6 datablocks ***\n",
      "*** Overflow with 7 datablocks ***\n",
      "*** Overflow with 10 datablocks ***\n",
      "*** Overflow with 6 datablocks ***\n"
     ]
    },
    {
     "name": "stderr",
     "output_type": "stream",
     "text": [
      "WARNING:wyrm.types:Discarding data that was longer than the ring buffer.\n"
     ]
    },
    {
     "name": "stdout",
     "output_type": "stream",
     "text": [
      "*** Overflow with 6 datablocks ***\n",
      "*** Overflow with 6 datablocks ***\n",
      "*** Overflow with 7 datablocks ***\n",
      "*** Overflow with 5 datablocks ***\n",
      "*** Overflow with 6 datablocks ***\n",
      "*** Overflow with 6 datablocks ***\n",
      "*** Overflow with 6 datablocks ***\n",
      "*** Overflow with 6 datablocks ***\n",
      "*** Overflow with 12 datablocks ***\n",
      "*** Overflow with 6 datablocks ***\n",
      "*** Overflow with 5 datablocks ***\n"
     ]
    },
    {
     "name": "stderr",
     "output_type": "stream",
     "text": [
      "WARNING:wyrm.types:Discarding data that was longer than the ring buffer.\n"
     ]
    },
    {
     "name": "stdout",
     "output_type": "stream",
     "text": [
      "*** Overflow with 6 datablocks ***\n",
      "*** Overflow with 7 datablocks ***\n",
      "*** Overflow with 10 datablocks ***\n",
      "*** Overflow with 5 datablocks ***\n",
      "*** Overflow with 7 datablocks ***\n",
      "*** Overflow with 7 datablocks ***\n",
      "*** Overflow with 7 datablocks ***\n",
      "*** Overflow with 7 datablocks ***\n",
      "*** Overflow with 9 datablocks ***\n",
      "*** Overflow with 7 datablocks ***\n",
      "*** Overflow with 9 datablocks ***\n"
     ]
    },
    {
     "name": "stderr",
     "output_type": "stream",
     "text": [
      "WARNING:wyrm.types:Discarding data that was longer than the ring buffer.\n"
     ]
    },
    {
     "name": "stdout",
     "output_type": "stream",
     "text": [
      "*** Overflow with 8 datablocks ***\n",
      "*** Overflow with 9 datablocks ***\n",
      "*** Overflow with 7 datablocks ***\n",
      "sending signal! - 171 False - 11711.583608989095 -- 6.099999999999986\n",
      "*** Overflow with 7 datablocks ***\n",
      "*** Overflow with 7 datablocks ***\n",
      "*** Overflow with 8 datablocks ***\n",
      "*** Overflow with 7 datablocks ***\n",
      "*** Overflow with 11 datablocks ***\n",
      "*** Overflow with 6 datablocks ***\n",
      "*** Overflow with 5 datablocks ***\n",
      "*** Overflow with 7 datablocks ***\n"
     ]
    },
    {
     "name": "stderr",
     "output_type": "stream",
     "text": [
      "WARNING:wyrm.types:Discarding data that was longer than the ring buffer.\n"
     ]
    },
    {
     "name": "stdout",
     "output_type": "stream",
     "text": [
      "*** Overflow with 6 datablocks ***\n",
      "*** Overflow with 6 datablocks ***\n",
      "*** Overflow with 12 datablocks ***\n",
      "*** Overflow with 6 datablocks ***\n",
      "*** Overflow with 11 datablocks ***\n",
      "*** Overflow with 5 datablocks ***\n",
      "*** Overflow with 8 datablocks ***\n",
      "*** Overflow with 10 datablocks ***\n",
      "*** Overflow with 8 datablocks ***\n",
      "*** Overflow with 7 datablocks ***\n",
      "*** Overflow with 6 datablocks ***\n",
      "*** Overflow with 7 datablocks ***\n",
      "*** Overflow with 10 datablocks ***\n",
      "*** Overflow with 6 datablocks ***\n"
     ]
    },
    {
     "name": "stderr",
     "output_type": "stream",
     "text": [
      "WARNING:wyrm.types:Discarding data that was longer than the ring buffer.\n"
     ]
    },
    {
     "name": "stdout",
     "output_type": "stream",
     "text": [
      "*** Overflow with 6 datablocks ***\n",
      "*** Overflow with 6 datablocks ***\n",
      "*** Overflow with 6 datablocks ***\n",
      "*** Overflow with 4 datablocks ***\n",
      "*** Overflow with 6 datablocks ***\n",
      "*** Overflow with 4 datablocks ***\n",
      "*** Overflow with 6 datablocks ***\n",
      "*** Overflow with 5 datablocks ***\n",
      "*** Overflow with 6 datablocks ***\n",
      "*** Overflow with 11 datablocks ***\n",
      "*** Overflow with 6 datablocks ***\n",
      "*** Overflow with 6 datablocks ***\n",
      "*** Overflow with 10 datablocks ***\n",
      "*** Overflow with 8 datablocks ***\n",
      "*** Overflow with 6 datablocks ***\n",
      "*** Overflow with 6 datablocks ***\n",
      "*** Overflow with 6 datablocks ***\n",
      "*** Overflow with 5 datablocks ***\n",
      "*** Overflow with 6 datablocks ***\n",
      "*** Overflow with 5 datablocks ***\n"
     ]
    },
    {
     "name": "stderr",
     "output_type": "stream",
     "text": [
      "WARNING:wyrm.types:Discarding data that was longer than the ring buffer.\n"
     ]
    },
    {
     "name": "stdout",
     "output_type": "stream",
     "text": [
      "*** Overflow with 6 datablocks ***\n",
      "FLIPPING/GOING THE THE MIDDLE AGAIN\n",
      "*** Overflow with 6 datablocks ***\n",
      "*** Overflow with 5 datablocks ***\n",
      "*** Overflow with 7 datablocks ***\n",
      "*** Overflow with 4 datablocks ***\n",
      "sending signal! - 174 False - 12019.096552683095 -- 6.149999999999986\n",
      "*** Overflow with 6 datablocks ***\n",
      "*** Overflow with 6 datablocks ***\n",
      "*** Overflow with 6 datablocks ***\n",
      "*** Overflow with 8 datablocks ***\n",
      "*** Overflow with 6 datablocks ***\n",
      "*** Overflow with 7 datablocks ***\n",
      "*** Overflow with 5 datablocks ***\n",
      "*** Overflow with 7 datablocks ***\n",
      "*** Overflow with 11 datablocks ***\n",
      "*** Overflow with 6 datablocks ***\n",
      "*** Overflow with 7 datablocks ***\n",
      "*** Overflow with 7 datablocks ***\n",
      "*** Overflow with 8 datablocks ***\n",
      "*** Overflow with 8 datablocks ***\n"
     ]
    },
    {
     "name": "stderr",
     "output_type": "stream",
     "text": [
      "WARNING:wyrm.types:Discarding data that was longer than the ring buffer.\n"
     ]
    },
    {
     "name": "stdout",
     "output_type": "stream",
     "text": [
      "*** Overflow with 6 datablocks ***\n",
      "*** Overflow with 5 datablocks ***\n",
      "*** Overflow with 7 datablocks ***\n",
      "*** Overflow with 11 datablocks ***\n",
      "*** Overflow with 6 datablocks ***\n",
      "*** Overflow with 6 datablocks ***\n",
      "*** Overflow with 4 datablocks ***\n",
      "*** Overflow with 7 datablocks ***\n",
      "*** Overflow with 5 datablocks ***\n",
      "*** Overflow with 6 datablocks ***\n",
      "*** Overflow with 6 datablocks ***\n",
      "*** Overflow with 10 datablocks ***\n",
      "*** Overflow with 7 datablocks ***\n",
      "*** Overflow with 5 datablocks ***\n",
      "*** Overflow with 6 datablocks ***\n",
      "*** Overflow with 5 datablocks ***\n",
      "*** Overflow with 6 datablocks ***\n",
      "*** Overflow with 6 datablocks ***\n"
     ]
    },
    {
     "name": "stderr",
     "output_type": "stream",
     "text": [
      "WARNING:wyrm.types:Discarding data that was longer than the ring buffer.\n"
     ]
    },
    {
     "name": "stdout",
     "output_type": "stream",
     "text": [
      "*** Overflow with 5 datablocks ***\n",
      "*** Overflow with 6 datablocks ***\n",
      "*** Overflow with 5 datablocks ***\n",
      "*** Overflow with 6 datablocks ***\n",
      "*** Overflow with 3 datablocks ***\n",
      "*** Overflow with 7 datablocks ***\n",
      "*** Overflow with 6 datablocks ***\n",
      "*** Overflow with 5 datablocks ***\n",
      "*** Overflow with 10 datablocks ***\n",
      "*** Overflow with 6 datablocks ***\n",
      "*** Overflow with 7 datablocks ***\n",
      "*** Overflow with 7 datablocks ***\n",
      "*** Overflow with 9 datablocks ***\n",
      "*** Overflow with 5 datablocks ***\n",
      "*** Overflow with 6 datablocks ***\n",
      "*** Overflow with 4 datablocks ***\n",
      "*** Overflow with 7 datablocks ***\n",
      "*** Overflow with 6 datablocks ***\n",
      "*** Overflow with 5 datablocks ***\n"
     ]
    },
    {
     "name": "stderr",
     "output_type": "stream",
     "text": [
      "WARNING:wyrm.types:Discarding data that was longer than the ring buffer.\n"
     ]
    },
    {
     "name": "stdout",
     "output_type": "stream",
     "text": [
      "*** Overflow with 6 datablocks ***\n",
      "*** Overflow with 5 datablocks ***\n",
      "sending signal! - 177 False - 12317.001790160568 -- 6.199999999999986\n",
      "*** Overflow with 6 datablocks ***\n",
      "*** Overflow with 7 datablocks ***\n",
      "*** Overflow with 4 datablocks ***\n",
      "*** Overflow with 7 datablocks ***\n",
      "*** Overflow with 6 datablocks ***\n",
      "*** Overflow with 5 datablocks ***\n",
      "*** Overflow with 6 datablocks ***\n",
      "*** Overflow with 6 datablocks ***\n",
      "*** Overflow with 6 datablocks ***\n",
      "*** Overflow with 8 datablocks ***\n",
      "*** Overflow with 10 datablocks ***\n",
      "*** Overflow with 7 datablocks ***\n",
      "*** Overflow with 5 datablocks ***\n",
      "*** Overflow with 7 datablocks ***\n"
     ]
    },
    {
     "name": "stderr",
     "output_type": "stream",
     "text": [
      "WARNING:wyrm.types:Discarding data that was longer than the ring buffer.\n"
     ]
    },
    {
     "name": "stdout",
     "output_type": "stream",
     "text": [
      "*** Overflow with 7 datablocks ***\n",
      "*** Overflow with 5 datablocks ***\n",
      "*** Overflow with 6 datablocks ***\n",
      "*** Overflow with 8 datablocks ***\n",
      "*** Overflow with 9 datablocks ***\n",
      "*** Overflow with 7 datablocks ***\n",
      "*** Overflow with 6 datablocks ***\n",
      "*** Overflow with 7 datablocks ***\n",
      "*** Overflow with 7 datablocks ***\n",
      "*** Overflow with 5 datablocks ***\n",
      "*** Overflow with 9 datablocks ***\n",
      "*** Overflow with 7 datablocks ***\n",
      "*** Overflow with 8 datablocks ***\n",
      "*** Overflow with 7 datablocks ***\n",
      "*** Overflow with 9 datablocks ***\n"
     ]
    },
    {
     "name": "stderr",
     "output_type": "stream",
     "text": [
      "WARNING:wyrm.types:Discarding data that was longer than the ring buffer.\n"
     ]
    },
    {
     "name": "stdout",
     "output_type": "stream",
     "text": [
      "*** Overflow with 4 datablocks ***\n",
      "*** Overflow with 6 datablocks ***\n",
      "*** Overflow with 5 datablocks ***\n",
      "*** Overflow with 5 datablocks ***\n",
      "*** Overflow with 6 datablocks ***\n",
      "*** Overflow with 6 datablocks ***\n",
      "*** Overflow with 6 datablocks ***\n",
      "*** Overflow with 6 datablocks ***\n",
      "sending signal! - 179 False - 12644.911059808534 -- 6.249999999999986\n",
      "*** Overflow with 7 datablocks ***\n",
      "*** Overflow with 10 datablocks ***\n",
      "*** Overflow with 5 datablocks ***\n",
      "*** Overflow with 6 datablocks ***\n",
      "*** Overflow with 6 datablocks ***\n",
      "*** Overflow with 8 datablocks ***\n",
      "*** Overflow with 6 datablocks ***\n",
      "*** Overflow with 6 datablocks ***\n",
      "*** Overflow with 6 datablocks ***\n"
     ]
    },
    {
     "name": "stderr",
     "output_type": "stream",
     "text": [
      "WARNING:wyrm.types:Discarding data that was longer than the ring buffer.\n"
     ]
    },
    {
     "name": "stdout",
     "output_type": "stream",
     "text": [
      "*** Overflow with 6 datablocks ***\n",
      "*** Overflow with 5 datablocks ***\n",
      "*** Overflow with 6 datablocks ***\n",
      "*** Overflow with 7 datablocks ***\n",
      "*** Overflow with 7 datablocks ***\n",
      "*** Overflow with 7 datablocks ***\n",
      "*** Overflow with 7 datablocks ***\n",
      "*** Overflow with 8 datablocks ***\n",
      "*** Overflow with 9 datablocks ***\n",
      "*** Overflow with 5 datablocks ***\n",
      "*** Overflow with 5 datablocks ***\n",
      "*** Overflow with 6 datablocks ***\n",
      "*** Overflow with 6 datablocks ***\n",
      "*** Overflow with 6 datablocks ***\n",
      "*** Overflow with 7 datablocks ***\n"
     ]
    },
    {
     "name": "stderr",
     "output_type": "stream",
     "text": [
      "WARNING:wyrm.types:Discarding data that was longer than the ring buffer.\n"
     ]
    },
    {
     "name": "stdout",
     "output_type": "stream",
     "text": [
      "*** Overflow with 6 datablocks ***\n",
      "*** Overflow with 8 datablocks ***\n",
      "*** Overflow with 7 datablocks ***\n",
      "*** Overflow with 7 datablocks ***\n",
      "*** Overflow with 6 datablocks ***\n",
      "*** Overflow with 7 datablocks ***\n",
      "*** Overflow with 6 datablocks ***\n",
      "*** Overflow with 6 datablocks ***\n",
      "*** Overflow with 6 datablocks ***\n",
      "*** Overflow with 9 datablocks ***\n",
      "*** Overflow with 6 datablocks ***\n",
      "*** Overflow with 5 datablocks ***\n",
      "*** Overflow with 6 datablocks ***\n",
      "*** Overflow with 10 datablocks ***\n",
      "*** Overflow with 8 datablocks ***\n",
      "*** Overflow with 6 datablocks ***\n"
     ]
    },
    {
     "name": "stderr",
     "output_type": "stream",
     "text": [
      "WARNING:wyrm.types:Discarding data that was longer than the ring buffer.\n"
     ]
    },
    {
     "name": "stdout",
     "output_type": "stream",
     "text": [
      "*** Overflow with 6 datablocks ***\n",
      "*** Overflow with 8 datablocks ***\n",
      "*** Overflow with 6 datablocks ***\n",
      "*** Overflow with 5 datablocks ***\n",
      "*** Overflow with 7 datablocks ***\n",
      "*** Overflow with 3 datablocks ***\n",
      "sending signal! - 182 False - 12912.780223423975 -- 6.299999999999986\n",
      "*** Overflow with 7 datablocks ***\n",
      "*** Overflow with 7 datablocks ***\n",
      "*** Overflow with 7 datablocks ***\n",
      "*** Overflow with 6 datablocks ***\n",
      "*** Overflow with 8 datablocks ***\n",
      "*** Overflow with 7 datablocks ***\n",
      "*** Overflow with 15 datablocks ***\n",
      "*** Overflow with 6 datablocks ***\n"
     ]
    },
    {
     "name": "stderr",
     "output_type": "stream",
     "text": [
      "WARNING:wyrm.types:Discarding data that was longer than the ring buffer.\n"
     ]
    },
    {
     "name": "stdout",
     "output_type": "stream",
     "text": [
      "*** Overflow with 7 datablocks ***\n",
      "*** Overflow with 6 datablocks ***\n",
      "*** Overflow with 5 datablocks ***\n",
      "*** Overflow with 7 datablocks ***\n",
      "*** Overflow with 6 datablocks ***\n",
      "*** Overflow with 5 datablocks ***\n",
      "*** Overflow with 7 datablocks ***\n",
      "*** Overflow with 7 datablocks ***\n",
      "*** Overflow with 5 datablocks ***\n",
      "*** Overflow with 8 datablocks ***\n",
      "*** Overflow with 7 datablocks ***\n"
     ]
    },
    {
     "name": "stderr",
     "output_type": "stream",
     "text": [
      "WARNING:wyrm.types:Discarding data that was longer than the ring buffer.\n"
     ]
    },
    {
     "name": "stdout",
     "output_type": "stream",
     "text": [
      "*** Overflow with 5 datablocks ***\n",
      "*** Overflow with 11 datablocks ***\n",
      "*** Overflow with 6 datablocks ***\n",
      "*** Overflow with 6 datablocks ***\n",
      "*** Overflow with 9 datablocks ***\n",
      "*** Overflow with 8 datablocks ***\n",
      "*** Overflow with 7 datablocks ***\n",
      "*** Overflow with 7 datablocks ***\n",
      "*** Overflow with 9 datablocks ***\n",
      "*** Overflow with 10 datablocks ***\n",
      "*** Overflow with 8 datablocks ***\n",
      "*** Overflow with 8 datablocks ***\n",
      "*** Overflow with 9 datablocks ***\n"
     ]
    },
    {
     "name": "stderr",
     "output_type": "stream",
     "text": [
      "WARNING:wyrm.types:Discarding data that was longer than the ring buffer.\n"
     ]
    },
    {
     "name": "stdout",
     "output_type": "stream",
     "text": [
      "*** Overflow with 9 datablocks ***\n",
      "*** Overflow with 6 datablocks ***\n",
      "*** Overflow with 6 datablocks ***\n",
      "*** Overflow with 6 datablocks ***\n",
      "*** Overflow with 7 datablocks ***\n",
      "*** Overflow with 9 datablocks ***\n",
      "*** Overflow with 5 datablocks ***\n",
      "*** Overflow with 14 datablocks ***\n",
      "*** Overflow with 7 datablocks ***\n",
      "*** Overflow with 5 datablocks ***\n",
      "*** Overflow with 6 datablocks ***\n",
      "*** Overflow with 7 datablocks ***\n",
      "*** Overflow with 5 datablocks ***\n",
      "*** Overflow with 6 datablocks ***\n",
      "*** Overflow with 7 datablocks ***\n"
     ]
    },
    {
     "name": "stderr",
     "output_type": "stream",
     "text": [
      "WARNING:wyrm.types:Discarding data that was longer than the ring buffer.\n"
     ]
    },
    {
     "name": "stdout",
     "output_type": "stream",
     "text": [
      "*** Overflow with 6 datablocks ***\n",
      "*** Overflow with 14 datablocks ***\n",
      "*** Overflow with 5 datablocks ***\n",
      "sending signal! - 186 False - 13243.004333463103 -- 6.349999999999985\n",
      "*** Overflow with 5 datablocks ***\n",
      "*** Overflow with 7 datablocks ***\n",
      "*** Overflow with 5 datablocks ***\n",
      "*** Overflow with 6 datablocks ***\n",
      "*** Overflow with 7 datablocks ***\n",
      "*** Overflow with 6 datablocks ***\n",
      "*** Overflow with 6 datablocks ***\n",
      "*** Overflow with 11 datablocks ***\n",
      "*** Overflow with 6 datablocks ***\n",
      "*** Overflow with 4 datablocks ***\n",
      "*** Overflow with 9 datablocks ***\n"
     ]
    },
    {
     "name": "stderr",
     "output_type": "stream",
     "text": [
      "WARNING:wyrm.types:Discarding data that was longer than the ring buffer.\n"
     ]
    },
    {
     "name": "stdout",
     "output_type": "stream",
     "text": [
      "*** Overflow with 7 datablocks ***\n",
      "*** Overflow with 7 datablocks ***\n",
      "*** Overflow with 5 datablocks ***\n",
      "*** Overflow with 6 datablocks ***\n",
      "*** Overflow with 6 datablocks ***\n",
      "*** Overflow with 10 datablocks ***\n",
      "*** Overflow with 7 datablocks ***\n",
      "*** Overflow with 6 datablocks ***\n",
      "*** Overflow with 8 datablocks ***\n",
      "*** Overflow with 6 datablocks ***\n",
      "*** Overflow with 5 datablocks ***\n",
      "*** Overflow with 7 datablocks ***\n",
      "*** Overflow with 10 datablocks ***\n",
      "*** Overflow with 6 datablocks ***\n",
      "*** Overflow with 10 datablocks ***\n"
     ]
    },
    {
     "name": "stderr",
     "output_type": "stream",
     "text": [
      "WARNING:wyrm.types:Discarding data that was longer than the ring buffer.\n"
     ]
    },
    {
     "name": "stdout",
     "output_type": "stream",
     "text": [
      "*** Overflow with 6 datablocks ***\n",
      "*** Overflow with 5 datablocks ***\n",
      "*** Overflow with 6 datablocks ***\n",
      "*** Overflow with 4 datablocks ***\n",
      "*** Overflow with 8 datablocks ***\n",
      "*** Overflow with 8 datablocks ***\n",
      "*** Overflow with 5 datablocks ***\n",
      "*** Overflow with 6 datablocks ***\n",
      "*** Overflow with 12 datablocks ***\n",
      "*** Overflow with 6 datablocks ***\n",
      "*** Overflow with 6 datablocks ***\n",
      "*** Overflow with 6 datablocks ***\n",
      "*** Overflow with 7 datablocks ***\n",
      "*** Overflow with 6 datablocks ***\n"
     ]
    },
    {
     "name": "stderr",
     "output_type": "stream",
     "text": [
      "WARNING:wyrm.types:Discarding data that was longer than the ring buffer.\n"
     ]
    },
    {
     "name": "stdout",
     "output_type": "stream",
     "text": [
      "*** Overflow with 6 datablocks ***\n",
      "*** Overflow with 9 datablocks ***\n",
      "*** Overflow with 6 datablocks ***\n",
      "*** Overflow with 11 datablocks ***\n",
      "sending signal! - 189 False - 13589.857531227963 -- 6.399999999999985\n",
      "*** Overflow with 5 datablocks ***\n",
      "*** Overflow with 6 datablocks ***\n",
      "*** Overflow with 7 datablocks ***\n",
      "*** Overflow with 9 datablocks ***\n",
      "*** Overflow with 6 datablocks ***\n",
      "*** Overflow with 6 datablocks ***\n",
      "*** Overflow with 6 datablocks ***\n",
      "*** Overflow with 7 datablocks ***\n",
      "*** Overflow with 15 datablocks ***\n"
     ]
    },
    {
     "name": "stderr",
     "output_type": "stream",
     "text": [
      "WARNING:wyrm.types:Discarding data that was longer than the ring buffer.\n"
     ]
    },
    {
     "name": "stdout",
     "output_type": "stream",
     "text": [
      "*** Overflow with 6 datablocks ***\n",
      "*** Overflow with 5 datablocks ***\n",
      "*** Overflow with 7 datablocks ***\n",
      "*** Overflow with 7 datablocks ***\n",
      "*** Overflow with 5 datablocks ***\n",
      "*** Overflow with 7 datablocks ***\n",
      "*** Overflow with 6 datablocks ***\n",
      "*** Overflow with 7 datablocks ***\n",
      "*** Overflow with 13 datablocks ***\n",
      "*** Overflow with 5 datablocks ***\n",
      "*** Overflow with 6 datablocks ***\n",
      "*** Overflow with 9 datablocks ***\n",
      "*** Overflow with 5 datablocks ***\n"
     ]
    },
    {
     "name": "stderr",
     "output_type": "stream",
     "text": [
      "WARNING:wyrm.types:Discarding data that was longer than the ring buffer.\n"
     ]
    },
    {
     "name": "stdout",
     "output_type": "stream",
     "text": [
      "*** Overflow with 8 datablocks ***\n",
      "*** Overflow with 6 datablocks ***\n",
      "*** Overflow with 11 datablocks ***\n",
      "*** Overflow with 7 datablocks ***\n",
      "*** Overflow with 15 datablocks ***\n",
      "*** Overflow with 6 datablocks ***\n",
      "*** Overflow with 5 datablocks ***\n",
      "*** Overflow with 8 datablocks ***\n",
      "*** Overflow with 7 datablocks ***\n",
      "*** Overflow with 5 datablocks ***\n",
      "*** Overflow with 7 datablocks ***\n"
     ]
    },
    {
     "name": "stderr",
     "output_type": "stream",
     "text": [
      "WARNING:wyrm.types:Discarding data that was longer than the ring buffer.\n"
     ]
    },
    {
     "name": "stdout",
     "output_type": "stream",
     "text": [
      "*** Overflow with 6 datablocks ***\n",
      "*** Overflow with 10 datablocks ***\n",
      "*** Overflow with 11 datablocks ***\n",
      "*** Overflow with 6 datablocks ***\n",
      "*** Overflow with 7 datablocks ***\n",
      "sending signal! - 192 False - 13895.506882565662 -- 6.449999999999985\n",
      "*** Overflow with 7 datablocks ***\n",
      "*** Overflow with 6 datablocks ***\n",
      "*** Overflow with 6 datablocks ***\n",
      "*** Overflow with 12 datablocks ***\n",
      "*** Overflow with 6 datablocks ***\n",
      "*** Overflow with 7 datablocks ***\n"
     ]
    },
    {
     "name": "stderr",
     "output_type": "stream",
     "text": [
      "WARNING:wyrm.types:Discarding data that was longer than the ring buffer.\n"
     ]
    },
    {
     "name": "stdout",
     "output_type": "stream",
     "text": [
      "*** Overflow with 16 datablocks ***\n",
      "*** Overflow with 7 datablocks ***\n",
      "*** Overflow with 6 datablocks ***\n",
      "*** Overflow with 5 datablocks ***\n",
      "*** Overflow with 7 datablocks ***\n",
      "*** Overflow with 6 datablocks ***\n",
      "*** Overflow with 9 datablocks ***\n",
      "*** Overflow with 7 datablocks ***\n",
      "*** Overflow with 8 datablocks ***\n",
      "*** Overflow with 12 datablocks ***\n",
      "*** Overflow with 5 datablocks ***\n",
      "*** Overflow with 6 datablocks ***\n"
     ]
    },
    {
     "name": "stderr",
     "output_type": "stream",
     "text": [
      "WARNING:wyrm.types:Discarding data that was longer than the ring buffer.\n"
     ]
    },
    {
     "name": "stdout",
     "output_type": "stream",
     "text": [
      "*** Overflow with 7 datablocks ***\n",
      "*** Overflow with 7 datablocks ***\n",
      "*** Overflow with 8 datablocks ***\n",
      "*** Overflow with 8 datablocks ***\n",
      "*** Overflow with 8 datablocks ***\n",
      "*** Overflow with 6 datablocks ***\n",
      "*** Overflow with 11 datablocks ***\n",
      "*** Overflow with 7 datablocks ***\n",
      "*** Overflow with 5 datablocks ***\n",
      "*** Overflow with 6 datablocks ***\n",
      "*** Overflow with 7 datablocks ***\n",
      "*** Overflow with 5 datablocks ***\n",
      "*** Overflow with 8 datablocks ***\n",
      "*** Overflow with 7 datablocks ***\n"
     ]
    },
    {
     "name": "stderr",
     "output_type": "stream",
     "text": [
      "WARNING:wyrm.types:Discarding data that was longer than the ring buffer.\n"
     ]
    },
    {
     "name": "stdout",
     "output_type": "stream",
     "text": [
      "*** Overflow with 6 datablocks ***\n",
      "*** Overflow with 11 datablocks ***\n",
      "*** Overflow with 6 datablocks ***\n",
      "*** Overflow with 6 datablocks ***\n",
      "*** Overflow with 6 datablocks ***\n",
      "*** Overflow with 8 datablocks ***\n",
      "*** Overflow with 8 datablocks ***\n",
      "*** Overflow with 6 datablocks ***\n",
      "*** Overflow with 7 datablocks ***\n",
      "*** Overflow with 7 datablocks ***\n",
      "*** Overflow with 11 datablocks ***\n"
     ]
    },
    {
     "name": "stderr",
     "output_type": "stream",
     "text": [
      "WARNING:wyrm.types:Discarding data that was longer than the ring buffer.\n"
     ]
    },
    {
     "name": "stdout",
     "output_type": "stream",
     "text": [
      "*** Overflow with 6 datablocks ***\n",
      "*** Overflow with 5 datablocks ***\n",
      "*** Overflow with 7 datablocks ***\n",
      "*** Overflow with 6 datablocks ***\n",
      "sending signal! - 196 False - 14261.70166385897 -- 6.499999999999985\n",
      "*** Overflow with 6 datablocks ***\n",
      "*** Overflow with 6 datablocks ***\n",
      "*** Overflow with 7 datablocks ***\n",
      "*** Overflow with 6 datablocks ***\n",
      "*** Overflow with 12 datablocks ***\n",
      "*** Overflow with 5 datablocks ***\n",
      "*** Overflow with 8 datablocks ***\n"
     ]
    },
    {
     "name": "stderr",
     "output_type": "stream",
     "text": [
      "WARNING:wyrm.types:Discarding data that was longer than the ring buffer.\n"
     ]
    },
    {
     "name": "stdout",
     "output_type": "stream",
     "text": [
      "*** Overflow with 7 datablocks ***\n",
      "*** Overflow with 6 datablocks ***\n",
      "*** Overflow with 5 datablocks ***\n",
      "*** Overflow with 8 datablocks ***\n",
      "*** Overflow with 5 datablocks ***\n",
      "*** Overflow with 6 datablocks ***\n",
      "*** Overflow with 12 datablocks ***\n",
      "*** Overflow with 6 datablocks ***\n",
      "*** Overflow with 7 datablocks ***\n",
      "*** Overflow with 7 datablocks ***\n"
     ]
    },
    {
     "name": "stderr",
     "output_type": "stream",
     "text": [
      "WARNING:wyrm.types:Discarding data that was longer than the ring buffer.\n"
     ]
    },
    {
     "name": "stdout",
     "output_type": "stream",
     "text": [
      "*** Overflow with 8 datablocks ***\n",
      "*** Overflow with 10 datablocks ***\n",
      "*** Overflow with 9 datablocks ***\n",
      "*** Overflow with 8 datablocks ***\n",
      "*** Overflow with 6 datablocks ***\n",
      "*** Overflow with 16 datablocks ***\n",
      "*** Overflow with 7 datablocks ***\n",
      "*** Overflow with 6 datablocks ***\n",
      "*** Overflow with 6 datablocks ***\n"
     ]
    },
    {
     "name": "stderr",
     "output_type": "stream",
     "text": [
      "WARNING:wyrm.types:Discarding data that was longer than the ring buffer.\n"
     ]
    },
    {
     "name": "stdout",
     "output_type": "stream",
     "text": [
      "*** Overflow with 7 datablocks ***\n",
      "*** Overflow with 8 datablocks ***\n",
      "*** Overflow with 7 datablocks ***\n",
      "*** Overflow with 10 datablocks ***\n",
      "*** Overflow with 7 datablocks ***\n",
      "*** Overflow with 13 datablocks ***\n",
      "*** Overflow with 4 datablocks ***\n",
      "*** Overflow with 7 datablocks ***\n",
      "*** Overflow with 8 datablocks ***\n",
      "*** Overflow with 10 datablocks ***\n"
     ]
    },
    {
     "name": "stderr",
     "output_type": "stream",
     "text": [
      "WARNING:wyrm.types:Discarding data that was longer than the ring buffer.\n"
     ]
    },
    {
     "name": "stdout",
     "output_type": "stream",
     "text": [
      "*** Overflow with 7 datablocks ***\n",
      "*** Overflow with 8 datablocks ***\n",
      "*** Overflow with 9 datablocks ***\n",
      "*** Overflow with 5 datablocks ***\n",
      "sending signal! - 200 False - 14610.840378161738 -- 6.549999999999985\n",
      "*** Overflow with 12 datablocks ***\n",
      "*** Overflow with 5 datablocks ***\n",
      "*** Overflow with 6 datablocks ***\n",
      "*** Overflow with 4 datablocks ***\n",
      "*** Overflow with 10 datablocks ***\n",
      "*** Overflow with 8 datablocks ***\n",
      "*** Overflow with 6 datablocks ***\n",
      "*** Overflow with 8 datablocks ***\n",
      "*** Overflow with 7 datablocks ***\n"
     ]
    },
    {
     "name": "stderr",
     "output_type": "stream",
     "text": [
      "WARNING:wyrm.types:Discarding data that was longer than the ring buffer.\n"
     ]
    },
    {
     "name": "stdout",
     "output_type": "stream",
     "text": [
      "*** Overflow with 12 datablocks ***\n",
      "*** Overflow with 7 datablocks ***\n",
      "*** Overflow with 5 datablocks ***\n",
      "*** Overflow with 7 datablocks ***\n",
      "*** Overflow with 6 datablocks ***\n",
      "*** Overflow with 5 datablocks ***\n",
      "*** Overflow with 7 datablocks ***\n",
      "*** Overflow with 7 datablocks ***\n",
      "*** Overflow with 5 datablocks ***\n",
      "*** Overflow with 11 datablocks ***\n",
      "*** Overflow with 5 datablocks ***\n",
      "*** Overflow with 7 datablocks ***\n",
      "*** Overflow with 9 datablocks ***\n",
      "*** Overflow with 4 datablocks ***\n",
      "*** Overflow with 6 datablocks ***\n"
     ]
    },
    {
     "name": "stderr",
     "output_type": "stream",
     "text": [
      "WARNING:wyrm.types:Discarding data that was longer than the ring buffer.\n"
     ]
    },
    {
     "name": "stdout",
     "output_type": "stream",
     "text": [
      "*** Overflow with 8 datablocks ***\n",
      "*** Overflow with 7 datablocks ***\n",
      "*** Overflow with 5 datablocks ***\n",
      "*** Overflow with 6 datablocks ***\n",
      "*** Overflow with 7 datablocks ***\n",
      "*** Overflow with 5 datablocks ***\n",
      "*** Overflow with 6 datablocks ***\n",
      "*** Overflow with 7 datablocks ***\n",
      "*** Overflow with 5 datablocks ***\n",
      "*** Overflow with 9 datablocks ***\n",
      "*** Overflow with 9 datablocks ***\n",
      "*** Overflow with 7 datablocks ***\n",
      "*** Overflow with 7 datablocks ***\n",
      "*** Overflow with 6 datablocks ***\n",
      "*** Overflow with 6 datablocks ***\n",
      "*** Overflow with 7 datablocks ***\n"
     ]
    },
    {
     "name": "stderr",
     "output_type": "stream",
     "text": [
      "WARNING:wyrm.types:Discarding data that was longer than the ring buffer.\n"
     ]
    },
    {
     "name": "stdout",
     "output_type": "stream",
     "text": [
      "*** Overflow with 5 datablocks ***\n",
      "*** Overflow with 7 datablocks ***\n",
      "*** Overflow with 6 datablocks ***\n",
      "*** Overflow with 6 datablocks ***\n",
      "*** Overflow with 6 datablocks ***\n",
      "*** Overflow with 6 datablocks ***\n",
      "*** Overflow with 6 datablocks ***\n",
      "sending signal! - 203 False - 14991.813567771 -- 6.5999999999999845\n",
      "*** Overflow with 7 datablocks ***\n",
      "*** Overflow with 6 datablocks ***\n",
      "*** Overflow with 8 datablocks ***\n",
      "*** Overflow with 6 datablocks ***\n",
      "*** Overflow with 7 datablocks ***\n",
      "*** Overflow with 7 datablocks ***\n",
      "*** Overflow with 6 datablocks ***\n"
     ]
    },
    {
     "name": "stderr",
     "output_type": "stream",
     "text": [
      "WARNING:wyrm.types:Discarding data that was longer than the ring buffer.\n"
     ]
    },
    {
     "name": "stdout",
     "output_type": "stream",
     "text": [
      "*** Overflow with 7 datablocks ***\n",
      "*** Overflow with 7 datablocks ***\n",
      "*** Overflow with 6 datablocks ***\n",
      "*** Overflow with 6 datablocks ***\n",
      "*** Overflow with 6 datablocks ***\n",
      "*** Overflow with 8 datablocks ***\n",
      "*** Overflow with 6 datablocks ***\n",
      "*** Overflow with 7 datablocks ***\n",
      "*** Overflow with 7 datablocks ***\n",
      "*** Overflow with 6 datablocks ***\n",
      "*** Overflow with 6 datablocks ***\n",
      "*** Overflow with 6 datablocks ***\n",
      "*** Overflow with 7 datablocks ***\n",
      "*** Overflow with 6 datablocks ***\n"
     ]
    },
    {
     "name": "stderr",
     "output_type": "stream",
     "text": [
      "WARNING:wyrm.types:Discarding data that was longer than the ring buffer.\n"
     ]
    },
    {
     "name": "stdout",
     "output_type": "stream",
     "text": [
      "*** Overflow with 7 datablocks ***\n",
      "*** Overflow with 8 datablocks ***\n",
      "*** Overflow with 5 datablocks ***\n",
      "*** Overflow with 7 datablocks ***\n",
      "*** Overflow with 6 datablocks ***\n",
      "*** Overflow with 4 datablocks ***\n",
      "*** Overflow with 8 datablocks ***\n",
      "*** Overflow with 6 datablocks ***\n",
      "*** Overflow with 4 datablocks ***\n",
      "*** Overflow with 10 datablocks ***\n",
      "*** Overflow with 6 datablocks ***\n",
      "*** Overflow with 6 datablocks ***\n"
     ]
    },
    {
     "name": "stderr",
     "output_type": "stream",
     "text": [
      "WARNING:wyrm.types:Discarding data that was longer than the ring buffer.\n"
     ]
    },
    {
     "name": "stdout",
     "output_type": "stream",
     "text": [
      "*** Overflow with 6 datablocks ***\n",
      "*** Overflow with 8 datablocks ***\n",
      "*** Overflow with 8 datablocks ***\n",
      "*** Overflow with 8 datablocks ***\n",
      "*** Overflow with 6 datablocks ***\n",
      "*** Overflow with 6 datablocks ***\n",
      "*** Overflow with 6 datablocks ***\n",
      "*** Overflow with 7 datablocks ***\n",
      "*** Overflow with 7 datablocks ***\n",
      "*** Overflow with 8 datablocks ***\n",
      "*** Overflow with 7 datablocks ***\n"
     ]
    },
    {
     "name": "stderr",
     "output_type": "stream",
     "text": [
      "WARNING:wyrm.types:Discarding data that was longer than the ring buffer.\n"
     ]
    },
    {
     "name": "stdout",
     "output_type": "stream",
     "text": [
      "*** Overflow with 6 datablocks ***\n",
      "*** Overflow with 8 datablocks ***\n",
      "*** Overflow with 5 datablocks ***\n",
      "*** Overflow with 6 datablocks ***\n",
      "*** Overflow with 6 datablocks ***\n",
      "*** Overflow with 6 datablocks ***\n",
      "sending signal! - 207 False - 15304.552496068773 -- 6.649999999999984\n",
      "*** Overflow with 6 datablocks ***\n",
      "*** Overflow with 6 datablocks ***\n",
      "*** Overflow with 7 datablocks ***\n",
      "*** Overflow with 9 datablocks ***\n",
      "*** Overflow with 8 datablocks ***\n",
      "*** Overflow with 7 datablocks ***\n"
     ]
    },
    {
     "name": "stderr",
     "output_type": "stream",
     "text": [
      "WARNING:wyrm.types:Discarding data that was longer than the ring buffer.\n"
     ]
    },
    {
     "name": "stdout",
     "output_type": "stream",
     "text": [
      "*** Overflow with 7 datablocks ***\n",
      "*** Overflow with 6 datablocks ***\n",
      "*** Overflow with 7 datablocks ***\n",
      "*** Overflow with 7 datablocks ***\n",
      "*** Overflow with 4 datablocks ***\n",
      "*** Overflow with 8 datablocks ***\n",
      "*** Overflow with 6 datablocks ***\n",
      "*** Overflow with 7 datablocks ***\n",
      "*** Overflow with 7 datablocks ***\n",
      "*** Overflow with 8 datablocks ***\n",
      "*** Overflow with 10 datablocks ***\n",
      "*** Overflow with 6 datablocks ***\n"
     ]
    },
    {
     "name": "stderr",
     "output_type": "stream",
     "text": [
      "WARNING:wyrm.types:Discarding data that was longer than the ring buffer.\n"
     ]
    },
    {
     "name": "stdout",
     "output_type": "stream",
     "text": [
      "*** Overflow with 7 datablocks ***\n",
      "*** Overflow with 6 datablocks ***\n",
      "*** Overflow with 6 datablocks ***\n",
      "*** Overflow with 6 datablocks ***\n",
      "*** Overflow with 7 datablocks ***\n",
      "*** Overflow with 6 datablocks ***\n",
      "*** Overflow with 8 datablocks ***\n",
      "*** Overflow with 4 datablocks ***\n",
      "*** Overflow with 8 datablocks ***\n",
      "*** Overflow with 7 datablocks ***\n"
     ]
    },
    {
     "name": "stderr",
     "output_type": "stream",
     "text": [
      "WARNING:wyrm.types:Discarding data that was longer than the ring buffer.\n"
     ]
    },
    {
     "name": "stdout",
     "output_type": "stream",
     "text": [
      "*** Overflow with 5 datablocks ***\n",
      "*** Overflow with 8 datablocks ***\n",
      "*** Overflow with 10 datablocks ***\n",
      "*** Overflow with 6 datablocks ***\n",
      "*** Overflow with 8 datablocks ***\n",
      "*** Overflow with 7 datablocks ***\n",
      "*** Overflow with 7 datablocks ***\n",
      "*** Overflow with 7 datablocks ***\n",
      "*** Overflow with 8 datablocks ***\n",
      "*** Overflow with 9 datablocks ***\n",
      "*** Overflow with 8 datablocks ***\n"
     ]
    },
    {
     "name": "stderr",
     "output_type": "stream",
     "text": [
      "WARNING:wyrm.types:Discarding data that was longer than the ring buffer.\n"
     ]
    },
    {
     "name": "stdout",
     "output_type": "stream",
     "text": [
      "*** Overflow with 4 datablocks ***\n",
      "*** Overflow with 8 datablocks ***\n",
      "*** Overflow with 8 datablocks ***\n",
      "*** Overflow with 7 datablocks ***\n",
      "*** Overflow with 9 datablocks ***\n",
      "*** Overflow with 4 datablocks ***\n",
      "*** Overflow with 8 datablocks ***\n",
      "*** Overflow with 6 datablocks ***\n",
      "*** Overflow with 4 datablocks ***\n",
      "*** Overflow with 6 datablocks ***\n",
      "*** Overflow with 5 datablocks ***\n",
      "*** Overflow with 12 datablocks ***\n",
      "*** Overflow with 9 datablocks ***\n",
      "*** Overflow with 6 datablocks ***\n",
      "*** Overflow with 6 datablocks ***\n"
     ]
    },
    {
     "name": "stderr",
     "output_type": "stream",
     "text": [
      "WARNING:wyrm.types:Discarding data that was longer than the ring buffer.\n"
     ]
    },
    {
     "name": "stdout",
     "output_type": "stream",
     "text": [
      "*** Overflow with 7 datablocks ***\n",
      "*** Overflow with 5 datablocks ***\n",
      "*** Overflow with 6 datablocks ***\n",
      "*** Overflow with 7 datablocks ***\n",
      "*** Overflow with 8 datablocks ***\n",
      "*** Overflow with 5 datablocks ***\n",
      "*** Overflow with 8 datablocks ***\n",
      "*** Overflow with 8 datablocks ***\n",
      "*** Overflow with 4 datablocks ***\n",
      "*** Overflow with 9 datablocks ***\n",
      "*** Overflow with 9 datablocks ***\n",
      "*** Overflow with 8 datablocks ***\n",
      "*** Overflow with 8 datablocks ***\n",
      "*** Overflow with 6 datablocks ***\n",
      "*** Overflow with 4 datablocks ***\n",
      "*** Overflow with 4 datablocks ***\n",
      "*** Overflow with 5 datablocks ***\n",
      "*** Overflow with 6 datablocks ***\n",
      "*** Overflow with 5 datablocks ***\n",
      "*** Overflow with 4 datablocks ***\n",
      "*** Overflow with 9 datablocks ***\n",
      "*** Overflow with 35 datablocks ***\n",
      "*** Overflow with 7 datablocks ***\n",
      "*** Overflow with 6 datablocks ***\n",
      "*** Overflow with 5 datablocks ***\n",
      "*** Overflow with 13 datablocks ***\n",
      "*** Overflow with 18 datablocks ***\n",
      "*** Overflow with 15 datablocks ***\n",
      "*** Overflow with 5 datablocks ***\n",
      "*** Overflow with 8 datablocks ***\n",
      "*** Overflow with 211 datablocks ***\n",
      "*** Overflow with 821 datablocks ***\n",
      "*** Overflow with 18 datablocks ***\n",
      "*** Overflow with 6 datablocks ***\n",
      "*** Overflow with 4 datablocks ***\n",
      "*** Overflow with 3 datablocks ***\n",
      "*** Overflow with 3 datablocks ***\n",
      "*** Overflow with 2 datablocks ***\n",
      "*** Overflow with 2 datablocks ***\n",
      "*** Overflow with 4 datablocks ***\n",
      "*** Overflow with 2 datablocks ***\n",
      "*** Overflow with 4 datablocks ***\n",
      "*** Overflow with 4 datablocks ***\n",
      "*** Overflow with 2 datablocks ***\n",
      "*** Overflow with 3 datablocks ***\n",
      "*** Overflow with 3 datablocks ***\n",
      "*** Overflow with 4 datablocks ***\n",
      "*** Overflow with 4 datablocks ***\n",
      "*** Overflow with 2 datablocks ***\n",
      "*** Overflow with 3 datablocks ***\n",
      "*** Overflow with 3 datablocks ***\n",
      "*** Overflow with 3 datablocks ***\n",
      "*** Overflow with 2 datablocks ***\n",
      "*** Overflow with 4 datablocks ***\n",
      "*** Overflow with 2 datablocks ***\n",
      "*** Overflow with 4 datablocks ***\n",
      "*** Overflow with 3 datablocks ***\n",
      "*** Overflow with 3 datablocks ***\n",
      "*** Overflow with 2 datablocks ***\n",
      "*** Overflow with 5 datablocks ***\n",
      "*** Overflow with 2 datablocks ***\n",
      "*** Overflow with 3 datablocks ***\n",
      "*** Overflow with 3 datablocks ***\n",
      "*** Overflow with 3 datablocks ***\n",
      "*** Overflow with 2 datablocks ***\n",
      "sending signal! - 212 False - 15705.846026312789 -- 6.699999999999984\n",
      "*** Overflow with 5 datablocks ***\n",
      "*** Overflow with 4 datablocks ***\n",
      "*** Overflow with 2 datablocks ***\n",
      "*** Overflow with 4 datablocks ***\n",
      "*** Overflow with 2 datablocks ***\n",
      "*** Overflow with 6 datablocks ***\n",
      "*** Overflow with 5 datablocks ***\n",
      "*** Overflow with 5 datablocks ***\n",
      "*** Overflow with 3 datablocks ***\n",
      "*** Overflow with 6 datablocks ***\n",
      "*** Overflow with 5 datablocks ***\n",
      "FLIPPING/GOING THE THE MIDDLE AGAIN\n",
      "*** Overflow with 6 datablocks ***\n",
      "*** Overflow with 4 datablocks ***\n",
      "*** Overflow with 6 datablocks ***\n",
      "*** Overflow with 3 datablocks ***\n",
      "*** Overflow with 6 datablocks ***\n",
      "*** Overflow with 6 datablocks ***\n",
      "*** Overflow with 4 datablocks ***\n",
      "*** Overflow with 5 datablocks ***\n",
      "*** Overflow with 5 datablocks ***\n",
      "*** Overflow with 4 datablocks ***\n",
      "*** Overflow with 4 datablocks ***\n",
      "*** Overflow with 2 datablocks ***\n",
      "*** Overflow with 4 datablocks ***\n",
      "*** Overflow with 2 datablocks ***\n",
      "*** Overflow with 3 datablocks ***\n",
      "*** Overflow with 2 datablocks ***\n",
      "*** Overflow with 3 datablocks ***\n",
      "*** Overflow with 3 datablocks ***\n",
      "*** Overflow with 4 datablocks ***\n",
      "*** Overflow with 4 datablocks ***\n",
      "*** Overflow with 5 datablocks ***\n",
      "*** Overflow with 4 datablocks ***\n",
      "*** Overflow with 6 datablocks ***\n",
      "*** Overflow with 4 datablocks ***\n",
      "*** Overflow with 6 datablocks ***\n",
      "*** Overflow with 4 datablocks ***\n",
      "*** Overflow with 5 datablocks ***\n",
      "*** Overflow with 5 datablocks ***\n",
      "*** Overflow with 5 datablocks ***\n",
      "*** Overflow with 5 datablocks ***\n",
      "*** Overflow with 3 datablocks ***\n",
      "*** Overflow with 6 datablocks ***\n",
      "*** Overflow with 5 datablocks ***\n",
      "*** Overflow with 5 datablocks ***\n",
      "*** Overflow with 5 datablocks ***\n",
      "*** Overflow with 5 datablocks ***\n",
      "*** Overflow with 3 datablocks ***\n",
      "*** Overflow with 5 datablocks ***\n",
      "*** Overflow with 2 datablocks ***\n",
      "*** Overflow with 3 datablocks ***\n",
      "*** Overflow with 2 datablocks ***\n",
      "*** Overflow with 3 datablocks ***\n",
      "*** Overflow with 3 datablocks ***\n",
      "*** Overflow with 2 datablocks ***\n",
      "*** Overflow with 3 datablocks ***\n",
      "*** Overflow with 2 datablocks ***\n",
      "*** Overflow with 3 datablocks ***\n",
      "*** Overflow with 2 datablocks ***\n",
      "*** Overflow with 4 datablocks ***\n",
      "*** Overflow with 2 datablocks ***\n",
      "*** Overflow with 3 datablocks ***\n",
      "*** Overflow with 3 datablocks ***\n",
      "*** Overflow with 4 datablocks ***\n",
      "*** Overflow with 2 datablocks ***\n",
      "*** Overflow with 3 datablocks ***\n",
      "*** Overflow with 3 datablocks ***\n",
      "*** Overflow with 3 datablocks ***\n",
      "*** Overflow with 3 datablocks ***\n",
      "*** Overflow with 28 datablocks ***\n",
      "*** Overflow with 5 datablocks ***\n",
      "*** Overflow with 4 datablocks ***\n",
      "*** Overflow with 5 datablocks ***\n",
      "*** Overflow with 5 datablocks ***\n",
      "*** Overflow with 5 datablocks ***\n",
      "*** Overflow with 5 datablocks ***\n",
      "*** Overflow with 4 datablocks ***\n",
      "*** Overflow with 5 datablocks ***\n",
      "*** Overflow with 5 datablocks ***\n",
      "*** Overflow with 2 datablocks ***\n",
      "*** Overflow with 3 datablocks ***\n",
      "*** Overflow with 2 datablocks ***\n",
      "*** Overflow with 4 datablocks ***\n",
      "*** Overflow with 2 datablocks ***\n",
      "*** Overflow with 3 datablocks ***\n",
      "*** Overflow with 2 datablocks ***\n",
      "*** Overflow with 4 datablocks ***\n",
      "*** Overflow with 2 datablocks ***\n",
      "*** Overflow with 2 datablocks ***\n",
      "*** Overflow with 3 datablocks ***\n",
      "*** Overflow with 2 datablocks ***\n",
      "*** Overflow with 3 datablocks ***\n",
      "*** Overflow with 44 datablocks ***\n",
      "*** Overflow with 5 datablocks ***\n",
      "*** Overflow with 5 datablocks ***\n",
      "*** Overflow with 4 datablocks ***\n",
      "*** Overflow with 5 datablocks ***\n",
      "*** Overflow with 5 datablocks ***\n",
      "*** Overflow with 3 datablocks ***\n",
      "*** Overflow with 2 datablocks ***\n",
      "*** Overflow with 5 datablocks ***\n",
      "*** Overflow with 3 datablocks ***\n",
      "*** Overflow with 2 datablocks ***\n",
      "*** Overflow with 4 datablocks ***\n",
      "*** Overflow with 2 datablocks ***\n",
      "*** Overflow with 2 datablocks ***\n",
      "*** Overflow with 3 datablocks ***\n",
      "*** Overflow with 2 datablocks ***\n",
      "*** Overflow with 6 datablocks ***\n",
      "*** Overflow with 3 datablocks ***\n",
      "*** Overflow with 4 datablocks ***\n",
      "*** Overflow with 4 datablocks ***\n"
     ]
    },
    {
     "name": "stderr",
     "output_type": "stream",
     "text": [
      "WARNING:wyrm.types:Discarding data that was longer than the ring buffer.\n"
     ]
    },
    {
     "name": "stdout",
     "output_type": "stream",
     "text": [
      "*** Overflow with 4 datablocks ***\n",
      "*** Overflow with 5 datablocks ***\n",
      "*** Overflow with 4 datablocks ***\n",
      "*** Overflow with 5 datablocks ***\n",
      "*** Overflow with 5 datablocks ***\n",
      "*** Overflow with 4 datablocks ***\n",
      "*** Overflow with 5 datablocks ***\n",
      "*** Overflow with 5 datablocks ***\n",
      "*** Overflow with 4 datablocks ***\n",
      "*** Overflow with 6 datablocks ***\n",
      "*** Overflow with 6 datablocks ***\n",
      "*** Overflow with 4 datablocks ***\n",
      "*** Overflow with 2 datablocks ***\n",
      "*** Overflow with 5 datablocks ***\n",
      "*** Overflow with 4 datablocks ***\n",
      "*** Overflow with 2 datablocks ***\n",
      "*** Overflow with 5 datablocks ***\n",
      "*** Overflow with 4 datablocks ***\n",
      "*** Overflow with 2 datablocks ***\n",
      "*** Overflow with 3 datablocks ***\n",
      "*** Overflow with 2 datablocks ***\n",
      "*** Overflow with 4 datablocks ***\n",
      "*** Overflow with 4 datablocks ***\n",
      "*** Overflow with 10 datablocks ***\n",
      "*** Overflow with 3 datablocks ***\n",
      "*** Overflow with 2 datablocks ***\n",
      "*** Overflow with 5 datablocks ***\n",
      "*** Overflow with 3 datablocks ***\n",
      "*** Overflow with 5 datablocks ***\n",
      "*** Overflow with 5 datablocks ***\n",
      "*** Overflow with 6 datablocks ***\n",
      "*** Overflow with 2 datablocks ***\n",
      "*** Overflow with 2 datablocks ***\n",
      "*** Overflow with 5 datablocks ***\n",
      "*** Overflow with 3 datablocks ***\n",
      "*** Overflow with 4 datablocks ***\n",
      "*** Overflow with 4 datablocks ***\n",
      "*** Overflow with 5 datablocks ***\n",
      "*** Overflow with 2 datablocks ***\n",
      "*** Overflow with 4 datablocks ***\n",
      "*** Overflow with 8 datablocks ***\n",
      "*** Overflow with 4 datablocks ***\n",
      "*** Overflow with 5 datablocks ***\n",
      "*** Overflow with 6 datablocks ***\n",
      "*** Overflow with 6 datablocks ***\n",
      "*** Overflow with 6 datablocks ***\n",
      "*** Overflow with 5 datablocks ***\n",
      "*** Overflow with 5 datablocks ***\n",
      "*** Overflow with 5 datablocks ***\n",
      "*** Overflow with 4 datablocks ***\n",
      "*** Overflow with 5 datablocks ***\n",
      "*** Overflow with 5 datablocks ***\n",
      "*** Overflow with 5 datablocks ***\n",
      "*** Overflow with 4 datablocks ***\n",
      "*** Overflow with 6 datablocks ***\n",
      "*** Overflow with 5 datablocks ***\n",
      "*** Overflow with 5 datablocks ***\n",
      "*** Overflow with 2 datablocks ***\n",
      "*** Overflow with 3 datablocks ***\n",
      "*** Overflow with 3 datablocks ***\n",
      "*** Overflow with 2 datablocks ***\n",
      "*** Overflow with 2 datablocks ***\n",
      "*** Overflow with 3 datablocks ***\n",
      "*** Overflow with 5 datablocks ***\n",
      "*** Overflow with 3 datablocks ***\n",
      "*** Overflow with 5 datablocks ***\n",
      "*** Overflow with 6 datablocks ***\n",
      "*** Overflow with 7 datablocks ***\n",
      "*** Overflow with 3 datablocks ***\n",
      "*** Overflow with 17 datablocks ***\n",
      "*** Overflow with 8 datablocks ***\n",
      "*** Overflow with 2 datablocks ***\n",
      "*** Overflow with 2 datablocks ***\n",
      "*** Overflow with 4 datablocks ***\n",
      "*** Overflow with 2 datablocks ***\n",
      "*** Overflow with 4 datablocks ***\n",
      "*** Overflow with 2 datablocks ***\n",
      "*** Overflow with 2 datablocks ***\n",
      "*** Overflow with 2 datablocks ***\n",
      "*** Overflow with 15 datablocks ***\n",
      "*** Overflow with 2 datablocks ***\n",
      "*** Overflow with 2 datablocks ***\n",
      "*** Overflow with 4 datablocks ***\n",
      "*** Overflow with 3 datablocks ***\n",
      "*** Overflow with 13 datablocks ***\n",
      "*** Overflow with 3 datablocks ***\n",
      "*** Overflow with 3 datablocks ***\n",
      "*** Overflow with 4 datablocks ***\n",
      "*** Overflow with 5 datablocks ***\n",
      "*** Overflow with 5 datablocks ***\n",
      "*** Overflow with 5 datablocks ***\n",
      "*** Overflow with 5 datablocks ***\n",
      "*** Overflow with 3 datablocks ***\n",
      "*** Overflow with 6 datablocks ***\n",
      "*** Overflow with 4 datablocks ***\n",
      "*** Overflow with 6 datablocks ***\n",
      "*** Overflow with 3 datablocks ***\n",
      "*** Overflow with 5 datablocks ***\n",
      "*** Overflow with 6 datablocks ***\n",
      "*** Overflow with 5 datablocks ***\n",
      "*** Overflow with 3 datablocks ***\n",
      "*** Overflow with 6 datablocks ***\n",
      "*** Overflow with 4 datablocks ***\n",
      "*** Overflow with 6 datablocks ***\n",
      "*** Overflow with 5 datablocks ***\n",
      "*** Overflow with 4 datablocks ***\n",
      "*** Overflow with 3 datablocks ***\n",
      "*** Overflow with 6 datablocks ***\n",
      "*** Overflow with 5 datablocks ***\n",
      "*** Overflow with 5 datablocks ***\n",
      "*** Overflow with 5 datablocks ***\n",
      "*** Overflow with 4 datablocks ***\n",
      "*** Overflow with 6 datablocks ***\n",
      "*** Overflow with 5 datablocks ***\n",
      "*** Overflow with 6 datablocks ***\n",
      "*** Overflow with 4 datablocks ***\n",
      "*** Overflow with 5 datablocks ***\n",
      "*** Overflow with 3 datablocks ***\n",
      "*** Overflow with 6 datablocks ***\n",
      "*** Overflow with 4 datablocks ***\n",
      "*** Overflow with 6 datablocks ***\n",
      "*** Overflow with 4 datablocks ***\n",
      "*** Overflow with 5 datablocks ***\n",
      "*** Overflow with 5 datablocks ***\n",
      "*** Overflow with 5 datablocks ***\n",
      "*** Overflow with 6 datablocks ***\n",
      "*** Overflow with 4 datablocks ***\n",
      "*** Overflow with 4 datablocks ***\n",
      "*** Overflow with 5 datablocks ***\n",
      "*** Overflow with 6 datablocks ***\n",
      "*** Overflow with 4 datablocks ***\n",
      "*** Overflow with 3 datablocks ***\n",
      "*** Overflow with 3 datablocks ***\n",
      "*** Overflow with 2 datablocks ***\n",
      "*** Overflow with 2 datablocks ***\n",
      "*** Overflow with 3 datablocks ***\n",
      "*** Overflow with 3 datablocks ***\n",
      "*** Overflow with 3 datablocks ***\n",
      "*** Overflow with 5 datablocks ***\n",
      "*** Overflow with 4 datablocks ***\n",
      "*** Overflow with 5 datablocks ***\n",
      "*** Overflow with 5 datablocks ***\n",
      "*** Overflow with 5 datablocks ***\n",
      "*** Overflow with 4 datablocks ***\n",
      "*** Overflow with 5 datablocks ***\n",
      "*** Overflow with 4 datablocks ***\n",
      "*** Overflow with 6 datablocks ***\n",
      "*** Overflow with 4 datablocks ***\n",
      "*** Overflow with 5 datablocks ***\n",
      "*** Overflow with 3 datablocks ***\n",
      "*** Overflow with 6 datablocks ***\n",
      "*** Overflow with 4 datablocks ***\n",
      "*** Overflow with 6 datablocks ***\n",
      "*** Overflow with 3 datablocks ***\n",
      "*** Overflow with 5 datablocks ***\n",
      "*** Overflow with 5 datablocks ***\n",
      "*** Overflow with 5 datablocks ***\n",
      "*** Overflow with 4 datablocks ***\n",
      "*** Overflow with 6 datablocks ***\n",
      "*** Overflow with 5 datablocks ***\n",
      "*** Overflow with 5 datablocks ***\n",
      "*** Overflow with 6 datablocks ***\n",
      "*** Overflow with 4 datablocks ***\n",
      "*** Overflow with 6 datablocks ***\n",
      "*** Overflow with 4 datablocks ***\n",
      "*** Overflow with 5 datablocks ***\n",
      "*** Overflow with 5 datablocks ***\n",
      "*** Overflow with 6 datablocks ***\n",
      "*** Overflow with 5 datablocks ***\n",
      "*** Overflow with 5 datablocks ***\n",
      "*** Overflow with 3 datablocks ***\n",
      "*** Overflow with 5 datablocks ***\n",
      "sending signal! - 213 False - 16082.21196657235 -- 6.749999999999984\n",
      "*** Overflow with 6 datablocks ***\n",
      "*** Overflow with 5 datablocks ***\n",
      "*** Overflow with 5 datablocks ***\n",
      "*** Overflow with 4 datablocks ***\n",
      "*** Overflow with 5 datablocks ***\n",
      "*** Overflow with 5 datablocks ***\n",
      "*** Overflow with 6 datablocks ***\n",
      "*** Overflow with 3 datablocks ***\n",
      "sending signal -- I ! - 175700 - 213 - True - -1\n",
      "sending signal! - 213 False - 5.242519365548593 -- 0.25\n",
      "sending signal! - 213 False - 13.976250595111965 -- 0.3\n",
      "sending signal! - 213 False - 15.240266205623191 -- 0.35\n",
      "*** Overflow with 3 datablocks ***\n",
      "*** Overflow with 5 datablocks ***\n",
      "*** Overflow with 5 datablocks ***\n",
      "*** Overflow with 5 datablocks ***\n",
      "*** Overflow with 11 datablocks ***\n",
      "*** Overflow with 4 datablocks ***\n",
      "*** Overflow with 6 datablocks ***\n",
      "*** Overflow with 5 datablocks ***\n",
      "*** Overflow with 6 datablocks ***\n",
      "*** Overflow with 5 datablocks ***\n",
      "*** Overflow with 6 datablocks ***\n",
      "*** Overflow with 7 datablocks ***\n",
      "*** Overflow with 5 datablocks ***\n",
      "*** Overflow with 7 datablocks ***\n",
      "*** Overflow with 6 datablocks ***\n",
      "*** Overflow with 4 datablocks ***\n",
      "*** Overflow with 3 datablocks ***\n",
      "*** Overflow with 5 datablocks ***\n",
      "*** Overflow with 6 datablocks ***\n",
      "*** Overflow with 5 datablocks ***\n",
      "*** Overflow with 5 datablocks ***\n",
      "*** Overflow with 5 datablocks ***\n",
      "*** Overflow with 5 datablocks ***\n",
      "*** Overflow with 4 datablocks ***\n",
      "*** Overflow with 6 datablocks ***\n",
      "*** Overflow with 4 datablocks ***\n",
      "*** Overflow with 6 datablocks ***\n",
      "*** Overflow with 3 datablocks ***\n",
      "*** Overflow with 6 datablocks ***\n",
      "*** Overflow with 5 datablocks ***\n",
      "*** Overflow with 5 datablocks ***\n",
      "*** Overflow with 5 datablocks ***\n",
      "*** Overflow with 4 datablocks ***\n",
      "*** Overflow with 5 datablocks ***\n",
      "*** Overflow with 5 datablocks ***\n",
      "*** Overflow with 6 datablocks ***\n",
      "*** Overflow with 4 datablocks ***\n",
      "*** Overflow with 6 datablocks ***\n",
      "*** Overflow with 4 datablocks ***\n",
      "*** Overflow with 5 datablocks ***\n",
      "sending signal -- I ! - 175700 - 213 - True - -1\n",
      "sending signal! - 213 False - 5.347577328390314 -- 0.25\n",
      "sending signal! - 213 False - 16.22523175825753 -- 0.3\n",
      "sending signal! - 213 False - 35.94597749338225 -- 0.35\n",
      "*** Overflow with 6 datablocks ***\n",
      "*** Overflow with 5 datablocks ***\n",
      "sending signal! - 213 False - 68.22750179347074 -- 0.39999999999999997\n",
      "sending signal! - 213 False - 99.13447902159176 -- 0.44999999999999996\n",
      "*** Overflow with 5 datablocks ***\n",
      "*** Overflow with 4 datablocks ***\n",
      "sending signal! - 213 False - 131.134005493413 -- 0.49999999999999994\n",
      "sending signal! - 213 False - 156.98548360127626 -- 0.5499999999999999\n",
      "*** Overflow with 3 datablocks ***\n",
      "*** Overflow with 6 datablocks ***\n",
      "*** Overflow with 6 datablocks ***\n",
      "sending signal! - 213 False - 179.75828469422282 -- 0.6\n",
      "sending signal! - 213 False - 209.60362103738575 -- 0.65\n",
      "*** Overflow with 6 datablocks ***\n",
      "*** Overflow with 6 datablocks ***\n",
      "*** Overflow with 6 datablocks ***\n",
      "sending signal! - 213 False - 240.79242860313875 -- 0.7000000000000001\n",
      "sending signal! - 213 False - 297.9465145395967 -- 0.7500000000000001\n",
      "*** Overflow with 6 datablocks ***\n",
      "*** Overflow with 6 datablocks ***\n",
      "*** Overflow with 4 datablocks ***\n",
      "sending signal! - 213 False - 360.5923933645683 -- 0.8000000000000002\n",
      "sending signal! - 213 False - 389.3540819713963 -- 0.8500000000000002\n",
      "*** Overflow with 5 datablocks ***\n",
      "*** Overflow with 3 datablocks ***\n",
      "*** Overflow with 6 datablocks ***\n",
      "*** Overflow with 4 datablocks ***\n",
      "*** Overflow with 6 datablocks ***\n",
      "sending signal! - 213 False - 430.77404490393843 -- 0.9000000000000002\n",
      "*** Overflow with 3 datablocks ***\n",
      "*** Overflow with 5 datablocks ***\n",
      "sending signal! - 213 False - 472.60692053840563 -- 0.9500000000000003\n",
      "*** Overflow with 6 datablocks ***\n",
      "*** Overflow with 4 datablocks ***\n",
      "*** Overflow with 5 datablocks ***\n",
      "sending signal! - 213 False - 508.3850475280954 -- 1.0000000000000002\n",
      "*** Overflow with 5 datablocks ***\n",
      "*** Overflow with 5 datablocks ***\n",
      "*** Overflow with 5 datablocks ***\n",
      "sending signal! - 213 False - 552.190558623741 -- 1.0500000000000003\n",
      "*** Overflow with 5 datablocks ***\n",
      "*** Overflow with 4 datablocks ***\n",
      "sending signal! - 213 False - 576.490443806385 -- 1.1000000000000003\n",
      "*** Overflow with 5 datablocks ***\n",
      "*** Overflow with 4 datablocks ***\n",
      "*** Overflow with 6 datablocks ***\n",
      "*** Overflow with 4 datablocks ***\n",
      "*** Overflow with 5 datablocks ***\n",
      "*** Overflow with 3 datablocks ***\n",
      "*** Overflow with 6 datablocks ***\n",
      "*** Overflow with 4 datablocks ***\n",
      "*** Overflow with 6 datablocks ***\n",
      "*** Overflow with 3 datablocks ***\n",
      "*** Overflow with 5 datablocks ***\n",
      "*** Overflow with 5 datablocks ***\n",
      "*** Overflow with 5 datablocks ***\n",
      "*** Overflow with 5 datablocks ***\n",
      "*** Overflow with 5 datablocks ***\n",
      "*** Overflow with 4 datablocks ***\n",
      "*** Overflow with 6 datablocks ***\n",
      "*** Overflow with 4 datablocks ***\n",
      "*** Overflow with 5 datablocks ***\n",
      "*** Overflow with 3 datablocks ***\n",
      "*** Overflow with 5 datablocks ***\n",
      "*** Overflow with 3 datablocks ***\n",
      "*** Overflow with 5 datablocks ***\n",
      "*** Overflow with 5 datablocks ***\n",
      "*** Overflow with 6 datablocks ***\n",
      "*** Overflow with 4 datablocks ***\n",
      "*** Overflow with 6 datablocks ***\n",
      "*** Overflow with 6 datablocks ***\n",
      "*** Overflow with 4 datablocks ***\n",
      "*** Overflow with 6 datablocks ***\n",
      "*** Overflow with 4 datablocks ***\n",
      "*** Overflow with 6 datablocks ***\n",
      "*** Overflow with 4 datablocks ***\n",
      "*** Overflow with 8 datablocks ***\n",
      "*** Overflow with 7 datablocks ***\n",
      "*** Overflow with 6 datablocks ***\n",
      "*** Overflow with 5 datablocks ***\n",
      "*** Overflow with 6 datablocks ***\n",
      "*** Overflow with 6 datablocks ***\n",
      "*** Overflow with 5 datablocks ***\n",
      "*** Overflow with 7 datablocks ***\n",
      "*** Overflow with 4 datablocks ***\n",
      "*** Overflow with 8 datablocks ***\n",
      "*** Overflow with 6 datablocks ***\n",
      "*** Overflow with 4 datablocks ***\n",
      "*** Overflow with 6 datablocks ***\n",
      "*** Overflow with 4 datablocks ***\n",
      "*** Overflow with 5 datablocks ***\n",
      "*** Overflow with 5 datablocks ***\n",
      "*** Overflow with 6 datablocks ***\n",
      "*** Overflow with 8 datablocks ***\n",
      "*** Overflow with 7 datablocks ***\n",
      "*** Overflow with 8 datablocks ***\n",
      "*** Overflow with 5 datablocks ***\n",
      "*** Overflow with 5 datablocks ***\n",
      "*** Overflow with 5 datablocks ***\n",
      "*** Overflow with 5 datablocks ***\n",
      "*** Overflow with 4 datablocks ***\n",
      "*** Overflow with 6 datablocks ***\n",
      "*** Overflow with 4 datablocks ***\n",
      "*** Overflow with 10 datablocks ***\n",
      "*** Overflow with 5 datablocks ***\n",
      "*** Overflow with 5 datablocks ***\n",
      "*** Overflow with 5 datablocks ***\n",
      "*** Overflow with 6 datablocks ***\n",
      "*** Overflow with 7 datablocks ***\n",
      "*** Overflow with 5 datablocks ***\n",
      "*** Overflow with 6 datablocks ***\n",
      "*** Overflow with 4 datablocks ***\n",
      "*** Overflow with 6 datablocks ***\n",
      "*** Overflow with 4 datablocks ***\n",
      "*** Overflow with 5 datablocks ***\n",
      "*** Overflow with 5 datablocks ***\n",
      "sending signal -- I ! - 175700 - 213 - True - -1\n",
      "sending signal! - 213 False - 8.134240487143936 -- 0.2\n",
      "sending signal -- I ! - 175700 - 213 - True - -1\n",
      "sending signal! - 213 False - 8.94310066834994 -- 0.2\n",
      "*** Overflow with 9 datablocks ***\n",
      "*** Overflow with 6 datablocks ***\n",
      "*** Overflow with 3 datablocks ***\n",
      "sending signal -- I ! - 175700 - 213 - True - -1\n",
      "sending signal! - 213 False - 8.940140484426394 -- 0.2\n",
      "*** Overflow with 5 datablocks ***\n",
      "sending signal -- I ! - 175700 - 213 - True - -1\n",
      "sending signal! - 213 False - 8.167528238815096 -- 0.2\n",
      "sending signal -- I ! - 175700 - 213 - True - -1\n",
      "sending signal! - 213 False - 8.963523845788309 -- 0.2\n",
      "*** Overflow with 6 datablocks ***\n",
      "*** Overflow with 6 datablocks ***\n",
      "*** Overflow with 12 datablocks ***\n",
      "*** Overflow with 5 datablocks ***\n",
      "*** Overflow with 7 datablocks ***\n",
      "*** Overflow with 7 datablocks ***\n",
      "*** Overflow with 4 datablocks ***\n",
      "sending signal -- I ! - 175700 - 213 - True - -1\n",
      "sending signal! - 213 False - 9.935823655109527 -- 0.2\n",
      "*** Overflow with 7 datablocks ***\n",
      "*** Overflow with 6 datablocks ***\n",
      "*** Overflow with 5 datablocks ***\n",
      "*** Overflow with 2 datablocks ***\n",
      "*** Overflow with 11 datablocks ***\n",
      "sending signal -- I ! - 175700 - 213 - True - -1\n",
      "sending signal! - 213 False - 10.000460213332286 -- 0.2\n",
      "sending signal! - 213 False - 22.070040298318656 -- 0.25\n",
      "*** Overflow with 5 datablocks ***\n",
      "*** Overflow with 6 datablocks ***\n",
      "sending signal -- I ! - 175700 - 213 - True - -1\n",
      "sending signal! - 213 False - 9.087473215863477 -- 0.2\n",
      "sending signal -- I ! - 175700 - 213 - True - -1\n",
      "sending signal! - 213 False - 9.091750090839831 -- 0.2\n",
      "*** Overflow with 6 datablocks ***\n",
      "*** Overflow with 6 datablocks ***\n",
      "*** Overflow with 6 datablocks ***\n",
      "*** Overflow with 6 datablocks ***\n",
      "*** Overflow with 6 datablocks ***\n",
      "*** Overflow with 6 datablocks ***\n",
      "*** Overflow with 6 datablocks ***\n",
      "sending signal -- I ! - 175700 - 213 - True - -1\n",
      "sending signal! - 213 False - 10.06793382189625 -- 0.2\n",
      "sending signal -- I ! - 175700 - 213 - True - -1\n",
      "sending signal! - 213 False - 8.35318196080846 -- 0.2\n",
      "sending signal -- I ! - 175700 - 213 - True - -1\n",
      "sending signal! - 213 False - 12.737323939913397 -- 0.2\n",
      "*** Overflow with 12 datablocks ***\n",
      "*** Overflow with 6 datablocks ***\n",
      "*** Overflow with 6 datablocks ***\n",
      "*** Overflow with 6 datablocks ***\n",
      "*** Overflow with 6 datablocks ***\n",
      "*** Overflow with 7 datablocks ***\n",
      "*** Overflow with 7 datablocks ***\n",
      "sending signal -- I ! - 175700 - 213 - True - -1\n",
      "sending signal! - 213 False - 7.962824117664319 -- 0.2\n",
      "sending signal -- I ! - 175700 - 213 - True - -1\n",
      "sending signal! - 213 False - 7.534925665780066 -- 0.2\n",
      "sending signal -- I ! - 175700 - 213 - True - -1\n",
      "sending signal! - 213 False - 9.1925282998325 -- 0.2\n",
      "*** Overflow with 5 datablocks ***\n",
      "*** Overflow with 7 datablocks ***\n",
      "*** Overflow with 6 datablocks ***\n",
      "*** Overflow with 4 datablocks ***\n",
      "*** Overflow with 6 datablocks ***\n",
      "*** Overflow with 7 datablocks ***\n",
      "*** Overflow with 6 datablocks ***\n",
      "*** Overflow with 7 datablocks ***\n",
      "*** Overflow with 8 datablocks ***\n",
      "*** Overflow with 8 datablocks ***\n",
      "*** Overflow with 5 datablocks ***\n",
      "*** Overflow with 7 datablocks ***\n",
      "*** Overflow with 6 datablocks ***\n",
      "*** Overflow with 11 datablocks ***\n",
      "*** Overflow with 4 datablocks ***\n",
      "*** Overflow with 6 datablocks ***\n",
      "*** Overflow with 3 datablocks ***\n",
      "*** Overflow with 7 datablocks ***\n",
      "*** Overflow with 5 datablocks ***\n",
      "*** Overflow with 3 datablocks ***\n",
      "*** Overflow with 7 datablocks ***\n",
      "*** Overflow with 5 datablocks ***\n",
      "*** Overflow with 13 datablocks ***\n",
      "*** Overflow with 3 datablocks ***\n",
      "*** Overflow with 4 datablocks ***\n",
      "*** Overflow with 5 datablocks ***\n",
      "*** Overflow with 2 datablocks ***\n",
      "*** Overflow with 4 datablocks ***\n",
      "*** Overflow with 3 datablocks ***\n",
      "*** Overflow with 3 datablocks ***\n",
      "*** Overflow with 3 datablocks ***\n",
      "*** Overflow with 3 datablocks ***\n",
      "*** Overflow with 3 datablocks ***\n",
      "*** Overflow with 5 datablocks ***\n",
      "*** Overflow with 4 datablocks ***\n",
      "*** Overflow with 6 datablocks ***\n",
      "*** Overflow with 3 datablocks ***\n",
      "*** Overflow with 5 datablocks ***\n",
      "*** Overflow with 6 datablocks ***\n"
     ]
    },
    {
     "name": "stderr",
     "output_type": "stream",
     "text": [
      "WARNING:wyrm.types:Discarding data that was longer than the ring buffer.\n"
     ]
    },
    {
     "name": "stdout",
     "output_type": "stream",
     "text": [
      "*** Overflow with 6 datablocks ***\n",
      "*** Overflow with 8 datablocks ***\n",
      "*** Overflow with 4 datablocks ***\n",
      "*** Overflow with 6 datablocks ***\n",
      "*** Overflow with 7 datablocks ***\n",
      "*** Overflow with 5 datablocks ***\n",
      "*** Overflow with 6 datablocks ***\n",
      "*** Overflow with 9 datablocks ***\n",
      "*** Overflow with 8 datablocks ***\n",
      "*** Overflow with 5 datablocks ***\n",
      "*** Overflow with 4 datablocks ***\n",
      "*** Overflow with 5 datablocks ***\n",
      "*** Overflow with 9 datablocks ***\n",
      "*** Overflow with 7 datablocks ***\n",
      "*** Overflow with 6 datablocks ***\n",
      "*** Overflow with 5 datablocks ***\n",
      "*** Overflow with 5 datablocks ***\n",
      "*** Overflow with 9 datablocks ***\n",
      "sending signal! - 214 False - 658.2743209672211 -- 1.1500000000000004\n",
      "*** Overflow with 5 datablocks ***\n",
      "*** Overflow with 7 datablocks ***\n",
      "*** Overflow with 9 datablocks ***\n",
      "sending signal! - 214 False - 721.4457172126886 -- 1.2000000000000004\n",
      "*** Overflow with 3 datablocks ***\n",
      "*** Overflow with 6 datablocks ***\n",
      "*** Overflow with 6 datablocks ***\n",
      "sending signal! - 214 False - 811.5647051260632 -- 1.2500000000000004\n",
      "*** Overflow with 5 datablocks ***\n",
      "*** Overflow with 5 datablocks ***\n",
      "*** Overflow with 9 datablocks ***\n",
      "sending signal! - 214 False - 917.9321453266124 -- 1.3000000000000005\n",
      "*** Overflow with 9 datablocks ***\n",
      "*** Overflow with 8 datablocks ***\n",
      "*** Overflow with 4 datablocks ***\n",
      "sending signal! - 214 False - 980.0417858665571 -- 1.3500000000000005\n",
      "*** Overflow with 10 datablocks ***\n",
      "*** Overflow with 7 datablocks ***\n",
      "sending signal! - 214 False - 1091.174302941119 -- 1.4000000000000006\n",
      "*** Overflow with 10 datablocks ***\n",
      "*** Overflow with 6 datablocks ***\n",
      "*** Overflow with 6 datablocks ***\n",
      "sending signal! - 214 False - 1188.952388686331 -- 1.4500000000000006\n",
      "*** Overflow with 5 datablocks ***\n",
      "*** Overflow with 7 datablocks ***\n",
      "*** Overflow with 9 datablocks ***\n",
      "sending signal! - 214 False - 1277.0297340758113 -- 1.5000000000000007\n",
      "*** Overflow with 7 datablocks ***\n",
      "*** Overflow with 7 datablocks ***\n",
      "*** Overflow with 9 datablocks ***\n",
      "*** Overflow with 8 datablocks ***\n",
      "sending signal! - 214 False - 1372.9563868925716 -- 1.5500000000000007\n",
      "*** Overflow with 11 datablocks ***\n",
      "*** Overflow with 6 datablocks ***\n",
      "*** Overflow with 7 datablocks ***\n",
      "*** Overflow with 7 datablocks ***\n",
      "sending signal! - 214 False - 1484.3987507235543 -- 1.6000000000000008\n",
      "*** Overflow with 8 datablocks ***\n",
      "*** Overflow with 8 datablocks ***\n",
      "*** Overflow with 11 datablocks ***\n",
      "*** Overflow with 7 datablocks ***\n",
      "sending signal! - 214 False - 1585.3356302156242 -- 1.6500000000000008\n",
      "*** Overflow with 10 datablocks ***\n",
      "*** Overflow with 7 datablocks ***\n",
      "*** Overflow with 8 datablocks ***\n",
      "sending signal! - 214 False - 1672.1879389636053 -- 1.7000000000000008\n",
      "*** Overflow with 5 datablocks ***\n",
      "*** Overflow with 6 datablocks ***\n",
      "*** Overflow with 6 datablocks ***\n",
      "sending signal! - 214 False - 1788.97740788675 -- 1.7500000000000009\n",
      "*** Overflow with 5 datablocks ***\n",
      "*** Overflow with 7 datablocks ***\n",
      "sending signal! - 214 False - 1894.5714197898224 -- 1.800000000000001\n",
      "*** Overflow with 7 datablocks ***\n",
      "*** Overflow with 6 datablocks ***\n",
      "*** Overflow with 6 datablocks ***\n",
      "sending signal! - 214 False - 1990.670184124839 -- 1.850000000000001\n",
      "*** Overflow with 8 datablocks ***\n",
      "*** Overflow with 10 datablocks ***\n",
      "*** Overflow with 8 datablocks ***\n",
      "sending signal! - 214 False - 2081.2535128902473 -- 1.900000000000001\n",
      "*** Overflow with 9 datablocks ***\n",
      "*** Overflow with 8 datablocks ***\n",
      "*** Overflow with 7 datablocks ***\n",
      "sending signal! - 214 False - 2181.9442522096506 -- 1.950000000000001\n",
      "*** Overflow with 8 datablocks ***\n",
      "*** Overflow with 9 datablocks ***\n",
      "*** Overflow with 7 datablocks ***\n",
      "sending signal! - 214 False - 2309.8933476778993 -- 2.000000000000001\n",
      "*** Overflow with 10 datablocks ***\n",
      "*** Overflow with 10 datablocks ***\n",
      "*** Overflow with 9 datablocks ***\n",
      "*** Overflow with 11 datablocks ***\n",
      "sending signal! - 214 False - 2454.657987223128 -- 2.0500000000000007\n",
      "*** Overflow with 8 datablocks ***\n",
      "*** Overflow with 8 datablocks ***\n",
      "*** Overflow with 10 datablocks ***\n",
      "*** Overflow with 7 datablocks ***\n",
      "*** Overflow with 9 datablocks ***\n",
      "*** Overflow with 12 datablocks ***\n",
      "sending signal! - 214 False - 2576.573193878443 -- 2.1000000000000005\n",
      "*** Overflow with 7 datablocks ***\n",
      "*** Overflow with 9 datablocks ***\n",
      "*** Overflow with 8 datablocks ***\n",
      "*** Overflow with 7 datablocks ***\n",
      "*** Overflow with 5 datablocks ***\n",
      "sending signal! - 214 False - 2723.754649696169 -- 2.1500000000000004\n",
      "*** Overflow with 7 datablocks ***\n",
      "*** Overflow with 7 datablocks ***\n",
      "*** Overflow with 6 datablocks ***\n",
      "*** Overflow with 8 datablocks ***\n",
      "sending signal! - 214 False - 2796.32223938703 -- 2.2\n",
      "*** Overflow with 6 datablocks ***\n",
      "*** Overflow with 7 datablocks ***\n",
      "*** Overflow with 6 datablocks ***\n",
      "*** Overflow with 6 datablocks ***\n",
      "*** Overflow with 8 datablocks ***\n",
      "sending signal! - 214 False - 2936.3945048255277 -- 2.25\n",
      "*** Overflow with 5 datablocks ***\n",
      "*** Overflow with 7 datablocks ***\n",
      "*** Overflow with 6 datablocks ***\n",
      "*** Overflow with 8 datablocks ***\n",
      "*** Overflow with 5 datablocks ***\n",
      "*** Overflow with 7 datablocks ***\n",
      "*** Overflow with 7 datablocks ***\n",
      "*** Overflow with 6 datablocks ***\n",
      "*** Overflow with 9 datablocks ***\n",
      "*** Overflow with 7 datablocks ***\n",
      "*** Overflow with 7 datablocks ***\n",
      "sending signal -- I ! - 198000 - 214 - True - -1\n",
      "sending signal! - 214 False - 10.093887435487556 -- 0.2\n",
      "sending signal -- I ! - 198000 - 214 - True - -1\n",
      "sending signal! - 214 False - 9.180124136935033 -- 0.2\n",
      "*** Overflow with 7 datablocks ***\n",
      "*** Overflow with 8 datablocks ***\n",
      "*** Overflow with 6 datablocks ***\n",
      "*** Overflow with 7 datablocks ***\n",
      "*** Overflow with 6 datablocks ***\n",
      "*** Overflow with 6 datablocks ***\n",
      "*** Overflow with 6 datablocks ***\n",
      "sending signal -- I ! - 198000 - 214 - True - -1\n",
      "sending signal! - 214 False - 9.31960874279157 -- 0.2\n",
      "sending signal! - 214 False - 22.585350976682754 -- 0.25\n",
      "*** Overflow with 9 datablocks ***\n",
      "*** Overflow with 7 datablocks ***\n",
      "*** Overflow with 6 datablocks ***\n",
      "*** Overflow with 6 datablocks ***\n",
      "sending signal -- I ! - 198000 - 214 - True - -1\n",
      "sending signal! - 214 False - 10.284103036393757 -- 0.2\n",
      "*** Overflow with 7 datablocks ***\n",
      "*** Overflow with 7 datablocks ***\n",
      "sending signal -- I ! - 198000 - 214 - True - -1\n",
      "sending signal! - 214 False - 7.637850217241151 -- 0.2\n",
      "*** Overflow with 7 datablocks ***\n",
      "*** Overflow with 9 datablocks ***\n",
      "*** Overflow with 6 datablocks ***\n",
      "*** Overflow with 7 datablocks ***\n",
      "*** Overflow with 7 datablocks ***\n",
      "*** Overflow with 9 datablocks ***\n",
      "*** Overflow with 8 datablocks ***\n",
      "*** Overflow with 7 datablocks ***\n",
      "*** Overflow with 6 datablocks ***\n",
      "sending signal -- I ! - 198000 - 214 - True - -1\n",
      "sending signal! - 214 False - 8.674193678314754 -- 0.2\n",
      "sending signal! - 214 False - 21.92376692714943 -- 0.25\n",
      "*** Overflow with 6 datablocks ***\n",
      "*** Overflow with 6 datablocks ***\n",
      "*** Overflow with 7 datablocks ***\n",
      "*** Overflow with 11 datablocks ***\n",
      "*** Overflow with 7 datablocks ***\n",
      "*** Overflow with 8 datablocks ***\n",
      "*** Overflow with 9 datablocks ***\n",
      "*** Overflow with 6 datablocks ***\n",
      "*** Overflow with 7 datablocks ***\n",
      "*** Overflow with 9 datablocks ***\n",
      "sending signal -- I ! - 198000 - 214 - True - -1\n",
      "sending signal! - 214 False - 6.667779610366965 -- 0.2\n",
      "*** Overflow with 7 datablocks ***\n",
      "*** Overflow with 6 datablocks ***\n",
      "*** Overflow with 12 datablocks ***\n",
      "*** Overflow with 7 datablocks ***\n",
      "*** Overflow with 6 datablocks ***\n",
      "*** Overflow with 6 datablocks ***\n",
      "*** Overflow with 6 datablocks ***\n",
      "*** Overflow with 7 datablocks ***\n",
      "*** Overflow with 6 datablocks ***\n",
      "*** Overflow with 6 datablocks ***\n",
      "*** Overflow with 7 datablocks ***\n",
      "*** Overflow with 7 datablocks ***\n",
      "*** Overflow with 7 datablocks ***\n",
      "*** Overflow with 5 datablocks ***\n",
      "*** Overflow with 8 datablocks ***\n",
      "*** Overflow with 5 datablocks ***\n",
      "*** Overflow with 8 datablocks ***\n",
      "*** Overflow with 6 datablocks ***\n",
      "*** Overflow with 6 datablocks ***\n",
      "*** Overflow with 6 datablocks ***\n",
      "*** Overflow with 6 datablocks ***\n",
      "*** Overflow with 6 datablocks ***\n",
      "*** Overflow with 7 datablocks ***\n",
      "*** Overflow with 5 datablocks ***\n",
      "*** Overflow with 6 datablocks ***\n",
      "*** Overflow with 6 datablocks ***\n",
      "*** Overflow with 7 datablocks ***\n",
      "*** Overflow with 5 datablocks ***\n",
      "*** Overflow with 7 datablocks ***\n",
      "*** Overflow with 6 datablocks ***\n",
      "*** Overflow with 9 datablocks ***\n",
      "*** Overflow with 6 datablocks ***\n",
      "*** Overflow with 7 datablocks ***\n",
      "*** Overflow with 6 datablocks ***\n",
      "*** Overflow with 7 datablocks ***\n",
      "*** Overflow with 6 datablocks ***\n",
      "*** Overflow with 5 datablocks ***\n",
      "*** Overflow with 7 datablocks ***\n",
      "*** Overflow with 9 datablocks ***\n",
      "*** Overflow with 9 datablocks ***\n",
      "*** Overflow with 7 datablocks ***\n",
      "*** Overflow with 5 datablocks ***\n",
      "*** Overflow with 6 datablocks ***\n",
      "*** Overflow with 6 datablocks ***\n",
      "*** Overflow with 6 datablocks ***\n",
      "*** Overflow with 6 datablocks ***\n",
      "*** Overflow with 5 datablocks ***\n",
      "*** Overflow with 6 datablocks ***\n",
      "*** Overflow with 6 datablocks ***\n",
      "*** Overflow with 6 datablocks ***\n",
      "*** Overflow with 6 datablocks ***\n",
      "*** Overflow with 6 datablocks ***\n",
      "*** Overflow with 5 datablocks ***\n",
      "*** Overflow with 6 datablocks ***\n",
      "*** Overflow with 5 datablocks ***\n",
      "*** Overflow with 6 datablocks ***\n",
      "*** Overflow with 6 datablocks ***\n",
      "*** Overflow with 5 datablocks ***\n",
      "*** Overflow with 6 datablocks ***\n",
      "*** Overflow with 5 datablocks ***\n",
      "*** Overflow with 8 datablocks ***\n",
      "*** Overflow with 7 datablocks ***\n",
      "*** Overflow with 6 datablocks ***\n",
      "*** Overflow with 8 datablocks ***\n",
      "*** Overflow with 5 datablocks ***\n",
      "*** Overflow with 7 datablocks ***\n",
      "*** Overflow with 6 datablocks ***\n",
      "*** Overflow with 6 datablocks ***\n",
      "*** Overflow with 6 datablocks ***\n",
      "sending signal -- I ! - 198000 - 214 - True - -1\n",
      "sending signal! - 214 False - 8.214802614243725 -- 0.2\n",
      "sending signal! - 214 False - 18.954003013730624 -- 0.25\n",
      "*** Overflow with 7 datablocks ***\n",
      "*** Overflow with 6 datablocks ***\n",
      "*** Overflow with 6 datablocks ***\n",
      "*** Overflow with 7 datablocks ***\n",
      "*** Overflow with 5 datablocks ***\n",
      "*** Overflow with 6 datablocks ***\n",
      "*** Overflow with 7 datablocks ***\n",
      "*** Overflow with 5 datablocks ***\n",
      "*** Overflow with 8 datablocks ***\n",
      "*** Overflow with 4 datablocks ***\n",
      "*** Overflow with 6 datablocks ***\n"
     ]
    },
    {
     "name": "stderr",
     "output_type": "stream",
     "text": [
      "WARNING:wyrm.types:Discarding data that was longer than the ring buffer.\n"
     ]
    },
    {
     "name": "stdout",
     "output_type": "stream",
     "text": [
      "*** Overflow with 7 datablocks ***\n",
      "*** Overflow with 7 datablocks ***\n",
      "*** Overflow with 12 datablocks ***\n",
      "*** Overflow with 10 datablocks ***\n",
      "*** Overflow with 10 datablocks ***\n",
      "*** Overflow with 5 datablocks ***\n",
      "*** Overflow with 6 datablocks ***\n",
      "*** Overflow with 6 datablocks ***\n",
      "sending signal! - 215 False - 3122.35523581041 -- 2.3\n",
      "*** Overflow with 6 datablocks ***\n",
      "*** Overflow with 5 datablocks ***\n",
      "*** Overflow with 6 datablocks ***\n",
      "*** Overflow with 5 datablocks ***\n",
      "*** Overflow with 5 datablocks ***\n",
      "*** Overflow with 6 datablocks ***\n",
      "sending signal! - 215 False - 3246.1689385608643 -- 2.3499999999999996\n",
      "*** Overflow with 5 datablocks ***\n",
      "*** Overflow with 6 datablocks ***\n",
      "*** Overflow with 8 datablocks ***\n",
      "*** Overflow with 10 datablocks ***\n",
      "*** Overflow with 8 datablocks ***\n",
      "*** Overflow with 5 datablocks ***\n",
      "sending signal! - 215 False - 3363.2699072400073 -- 2.3999999999999995\n",
      "*** Overflow with 9 datablocks ***\n",
      "*** Overflow with 7 datablocks ***\n",
      "*** Overflow with 7 datablocks ***\n",
      "*** Overflow with 5 datablocks ***\n",
      "*** Overflow with 7 datablocks ***\n",
      "sending signal! - 215 False - 3541.789005788518 -- 2.4499999999999993\n",
      "*** Overflow with 6 datablocks ***\n",
      "*** Overflow with 7 datablocks ***\n",
      "*** Overflow with 6 datablocks ***\n",
      "*** Overflow with 9 datablocks ***\n",
      "*** Overflow with 6 datablocks ***\n",
      "*** Overflow with 6 datablocks ***\n",
      "sending signal! - 215 False - 3699.56374175359 -- 2.499999999999999\n",
      "*** Overflow with 7 datablocks ***\n",
      "*** Overflow with 7 datablocks ***\n",
      "*** Overflow with 8 datablocks ***\n",
      "*** Overflow with 5 datablocks ***\n",
      "*** Overflow with 6 datablocks ***\n",
      "*** Overflow with 7 datablocks ***\n",
      "sending signal! - 215 False - 3856.2817856778374 -- 2.549999999999999\n",
      "*** Overflow with 8 datablocks ***\n",
      "*** Overflow with 6 datablocks ***\n",
      "*** Overflow with 7 datablocks ***\n",
      "*** Overflow with 7 datablocks ***\n",
      "*** Overflow with 5 datablocks ***\n",
      "*** Overflow with 6 datablocks ***\n",
      "*** Overflow with 6 datablocks ***\n",
      "*** Overflow with 6 datablocks ***\n",
      "*** Overflow with 6 datablocks ***\n",
      "sending signal! - 215 False - 4022.841698604083 -- 2.5999999999999988\n",
      "*** Overflow with 7 datablocks ***\n",
      "*** Overflow with 5 datablocks ***\n",
      "*** Overflow with 6 datablocks ***\n",
      "*** Overflow with 7 datablocks ***\n",
      "*** Overflow with 6 datablocks ***\n",
      "*** Overflow with 6 datablocks ***\n",
      "*** Overflow with 6 datablocks ***\n",
      "*** Overflow with 5 datablocks ***\n",
      "sending signal! - 215 False - 4174.8986875975825 -- 2.6499999999999986\n",
      "*** Overflow with 7 datablocks ***\n",
      "*** Overflow with 6 datablocks ***\n",
      "*** Overflow with 5 datablocks ***\n",
      "*** Overflow with 5 datablocks ***\n",
      "*** Overflow with 6 datablocks ***\n",
      "*** Overflow with 6 datablocks ***\n",
      "*** Overflow with 6 datablocks ***\n",
      "*** Overflow with 5 datablocks ***\n",
      "sending signal! - 215 False - 4330.908776529778 -- 2.6999999999999984\n",
      "*** Overflow with 6 datablocks ***\n",
      "*** Overflow with 7 datablocks ***\n",
      "*** Overflow with 5 datablocks ***\n",
      "*** Overflow with 6 datablocks ***\n",
      "*** Overflow with 5 datablocks ***\n",
      "*** Overflow with 7 datablocks ***\n",
      "sending signal! - 215 False - 4463.050710844947 -- 2.7499999999999982\n",
      "*** Overflow with 4 datablocks ***\n",
      "*** Overflow with 6 datablocks ***\n",
      "*** Overflow with 8 datablocks ***\n",
      "*** Overflow with 4 datablocks ***\n",
      "*** Overflow with 6 datablocks ***\n",
      "*** Overflow with 6 datablocks ***\n",
      "*** Overflow with 5 datablocks ***\n",
      "sending signal! - 215 False - 4609.699966770679 -- 2.799999999999998\n",
      "*** Overflow with 6 datablocks ***\n",
      "*** Overflow with 7 datablocks ***\n",
      "*** Overflow with 7 datablocks ***\n",
      "*** Overflow with 8 datablocks ***\n",
      "*** Overflow with 8 datablocks ***\n",
      "*** Overflow with 7 datablocks ***\n",
      "*** Overflow with 8 datablocks ***\n",
      "sending signal! - 215 False - 4737.254990867283 -- 2.849999999999998\n",
      "*** Overflow with 4 datablocks ***\n",
      "*** Overflow with 8 datablocks ***\n",
      "*** Overflow with 8 datablocks ***\n",
      "*** Overflow with 6 datablocks ***\n",
      "*** Overflow with 6 datablocks ***\n",
      "*** Overflow with 7 datablocks ***\n",
      "*** Overflow with 7 datablocks ***\n",
      "*** Overflow with 7 datablocks ***\n",
      "*** Overflow with 5 datablocks ***\n",
      "*** Overflow with 6 datablocks ***\n",
      "*** Overflow with 5 datablocks ***\n",
      "*** Overflow with 6 datablocks ***\n",
      "*** Overflow with 7 datablocks ***\n",
      "*** Overflow with 6 datablocks ***\n",
      "*** Overflow with 8 datablocks ***\n",
      "*** Overflow with 5 datablocks ***\n",
      "*** Overflow with 5 datablocks ***\n",
      "*** Overflow with 8 datablocks ***\n",
      "*** Overflow with 9 datablocks ***\n",
      "*** Overflow with 7 datablocks ***\n",
      "*** Overflow with 14 datablocks ***\n",
      "*** Overflow with 6 datablocks ***\n",
      "*** Overflow with 9 datablocks ***\n",
      "*** Overflow with 6 datablocks ***\n",
      "*** Overflow with 5 datablocks ***\n",
      "*** Overflow with 6 datablocks ***\n",
      "*** Overflow with 6 datablocks ***\n",
      "*** Overflow with 6 datablocks ***\n",
      "*** Overflow with 6 datablocks ***\n",
      "*** Overflow with 5 datablocks ***\n",
      "*** Overflow with 5 datablocks ***\n",
      "*** Overflow with 6 datablocks ***\n",
      "*** Overflow with 5 datablocks ***\n",
      "*** Overflow with 7 datablocks ***\n",
      "*** Overflow with 4 datablocks ***\n",
      "*** Overflow with 6 datablocks ***\n",
      "*** Overflow with 6 datablocks ***\n",
      "*** Overflow with 5 datablocks ***\n",
      "*** Overflow with 6 datablocks ***\n",
      "*** Overflow with 6 datablocks ***\n",
      "*** Overflow with 5 datablocks ***\n",
      "*** Overflow with 7 datablocks ***\n",
      "*** Overflow with 6 datablocks ***\n",
      "*** Overflow with 5 datablocks ***\n",
      "*** Overflow with 5 datablocks ***\n",
      "*** Overflow with 6 datablocks ***\n",
      "*** Overflow with 6 datablocks ***\n",
      "*** Overflow with 4 datablocks ***\n",
      "*** Overflow with 7 datablocks ***\n",
      "*** Overflow with 6 datablocks ***\n",
      "*** Overflow with 6 datablocks ***\n",
      "*** Overflow with 7 datablocks ***\n",
      "*** Overflow with 7 datablocks ***\n",
      "*** Overflow with 6 datablocks ***\n",
      "*** Overflow with 6 datablocks ***\n",
      "*** Overflow with 7 datablocks ***\n",
      "*** Overflow with 6 datablocks ***\n",
      "*** Overflow with 7 datablocks ***\n",
      "*** Overflow with 6 datablocks ***\n",
      "*** Overflow with 6 datablocks ***\n",
      "*** Overflow with 6 datablocks ***\n",
      "*** Overflow with 8 datablocks ***\n",
      "*** Overflow with 6 datablocks ***\n",
      "*** Overflow with 7 datablocks ***\n",
      "*** Overflow with 8 datablocks ***\n",
      "*** Overflow with 6 datablocks ***\n",
      "*** Overflow with 7 datablocks ***\n",
      "*** Overflow with 9 datablocks ***\n",
      "*** Overflow with 7 datablocks ***\n",
      "*** Overflow with 5 datablocks ***\n",
      "*** Overflow with 7 datablocks ***\n",
      "*** Overflow with 6 datablocks ***\n",
      "*** Overflow with 6 datablocks ***\n",
      "*** Overflow with 7 datablocks ***\n",
      "*** Overflow with 6 datablocks ***\n",
      "*** Overflow with 6 datablocks ***\n",
      "*** Overflow with 6 datablocks ***\n",
      "*** Overflow with 7 datablocks ***\n",
      "*** Overflow with 6 datablocks ***\n",
      "*** Overflow with 6 datablocks ***\n",
      "*** Overflow with 6 datablocks ***\n",
      "*** Overflow with 6 datablocks ***\n"
     ]
    },
    {
     "name": "stderr",
     "output_type": "stream",
     "text": [
      "WARNING:wyrm.types:Discarding data that was longer than the ring buffer.\n"
     ]
    },
    {
     "name": "stdout",
     "output_type": "stream",
     "text": [
      "*** Overflow with 6 datablocks ***\n",
      "*** Overflow with 8 datablocks ***\n",
      "*** Overflow with 5 datablocks ***\n",
      "*** Overflow with 7 datablocks ***\n",
      "*** Overflow with 6 datablocks ***\n",
      "FLIPPING/GOING THE THE MIDDLE AGAIN\n",
      "*** Overflow with 8 datablocks ***\n",
      "*** Overflow with 7 datablocks ***\n",
      "*** Overflow with 6 datablocks ***\n",
      "*** Overflow with 6 datablocks ***\n",
      "sending signal! - 216 False - 4905.849539895254 -- 2.8999999999999977\n",
      "*** Overflow with 7 datablocks ***\n",
      "*** Overflow with 5 datablocks ***\n",
      "*** Overflow with 7 datablocks ***\n",
      "*** Overflow with 6 datablocks ***\n",
      "*** Overflow with 11 datablocks ***\n",
      "sending signal! - 216 False - 5064.985926733397 -- 2.9499999999999975\n",
      "*** Overflow with 5 datablocks ***\n",
      "*** Overflow with 10 datablocks ***\n",
      "*** Overflow with 8 datablocks ***\n",
      "*** Overflow with 7 datablocks ***\n",
      "*** Overflow with 8 datablocks ***\n",
      "*** Overflow with 9 datablocks ***\n",
      "*** Overflow with 7 datablocks ***\n",
      "sending signal! - 216 False - 5240.135845484459 -- 2.9999999999999973\n",
      "*** Overflow with 9 datablocks ***\n",
      "*** Overflow with 6 datablocks ***\n",
      "*** Overflow with 8 datablocks ***\n",
      "*** Overflow with 7 datablocks ***\n",
      "*** Overflow with 6 datablocks ***\n",
      "*** Overflow with 5 datablocks ***\n",
      "*** Overflow with 8 datablocks ***\n",
      "sending signal! - 216 False - 5424.92090680359 -- 3.049999999999997\n",
      "*** Overflow with 8 datablocks ***\n",
      "*** Overflow with 8 datablocks ***\n",
      "*** Overflow with 5 datablocks ***\n",
      "*** Overflow with 7 datablocks ***\n",
      "*** Overflow with 6 datablocks ***\n",
      "*** Overflow with 8 datablocks ***\n",
      "*** Overflow with 6 datablocks ***\n",
      "*** Overflow with 8 datablocks ***\n",
      "*** Overflow with 6 datablocks ***\n",
      "*** Overflow with 7 datablocks ***\n",
      "*** Overflow with 5 datablocks ***\n",
      "sending signal! - 216 False - 5647.556558269365 -- 3.099999999999997\n",
      "*** Overflow with 7 datablocks ***\n",
      "*** Overflow with 5 datablocks ***\n",
      "*** Overflow with 6 datablocks ***\n",
      "*** Overflow with 6 datablocks ***\n",
      "*** Overflow with 5 datablocks ***\n",
      "*** Overflow with 6 datablocks ***\n",
      "sending signal! - 216 False - 5811.629878328367 -- 3.149999999999997\n",
      "*** Overflow with 5 datablocks ***\n",
      "*** Overflow with 6 datablocks ***\n",
      "*** Overflow with 6 datablocks ***\n",
      "*** Overflow with 5 datablocks ***\n",
      "*** Overflow with 6 datablocks ***\n",
      "sending signal! - 216 False - 5980.258151264121 -- 3.1999999999999966\n",
      "*** Overflow with 7 datablocks ***\n",
      "*** Overflow with 10 datablocks ***\n",
      "*** Overflow with 8 datablocks ***\n",
      "*** Overflow with 10 datablocks ***\n",
      "*** Overflow with 4 datablocks ***\n",
      "*** Overflow with 8 datablocks ***\n",
      "*** Overflow with 8 datablocks ***\n",
      "*** Overflow with 9 datablocks ***\n",
      "*** Overflow with 8 datablocks ***\n",
      "*** Overflow with 9 datablocks ***\n",
      "*** Overflow with 8 datablocks ***\n",
      "*** Overflow with 6 datablocks ***\n",
      "*** Overflow with 7 datablocks ***\n",
      "*** Overflow with 9 datablocks ***\n",
      "*** Overflow with 8 datablocks ***\n",
      "*** Overflow with 7 datablocks ***\n",
      "*** Overflow with 7 datablocks ***\n",
      "*** Overflow with 6 datablocks ***\n",
      "*** Overflow with 9 datablocks ***\n",
      "*** Overflow with 6 datablocks ***\n",
      "*** Overflow with 5 datablocks ***\n",
      "*** Overflow with 7 datablocks ***\n",
      "*** Overflow with 7 datablocks ***\n",
      "*** Overflow with 8 datablocks ***\n",
      "*** Overflow with 6 datablocks ***\n",
      "*** Overflow with 6 datablocks ***\n",
      "*** Overflow with 7 datablocks ***\n",
      "*** Overflow with 5 datablocks ***\n",
      "*** Overflow with 8 datablocks ***\n",
      "*** Overflow with 6 datablocks ***\n",
      "*** Overflow with 8 datablocks ***\n",
      "*** Overflow with 8 datablocks ***\n",
      "*** Overflow with 6 datablocks ***\n",
      "*** Overflow with 8 datablocks ***\n",
      "*** Overflow with 6 datablocks ***\n",
      "*** Overflow with 6 datablocks ***\n",
      "*** Overflow with 7 datablocks ***\n",
      "*** Overflow with 8 datablocks ***\n",
      "*** Overflow with 9 datablocks ***\n",
      "*** Overflow with 8 datablocks ***\n",
      "*** Overflow with 8 datablocks ***\n",
      "*** Overflow with 8 datablocks ***\n",
      "*** Overflow with 8 datablocks ***\n",
      "*** Overflow with 6 datablocks ***\n",
      "*** Overflow with 6 datablocks ***\n",
      "*** Overflow with 5 datablocks ***\n",
      "*** Overflow with 7 datablocks ***\n",
      "*** Overflow with 7 datablocks ***\n",
      "*** Overflow with 7 datablocks ***\n",
      "*** Overflow with 6 datablocks ***\n",
      "*** Overflow with 6 datablocks ***\n",
      "*** Overflow with 8 datablocks ***\n",
      "*** Overflow with 4 datablocks ***\n",
      "*** Overflow with 8 datablocks ***\n",
      "*** Overflow with 7 datablocks ***\n",
      "*** Overflow with 7 datablocks ***\n",
      "*** Overflow with 4 datablocks ***\n",
      "*** Overflow with 8 datablocks ***\n",
      "*** Overflow with 6 datablocks ***\n",
      "*** Overflow with 6 datablocks ***\n",
      "*** Overflow with 6 datablocks ***\n",
      "*** Overflow with 7 datablocks ***\n",
      "*** Overflow with 5 datablocks ***\n"
     ]
    },
    {
     "name": "stderr",
     "output_type": "stream",
     "text": [
      "WARNING:wyrm.types:Discarding data that was longer than the ring buffer.\n"
     ]
    },
    {
     "name": "stdout",
     "output_type": "stream",
     "text": [
      "*** Overflow with 6 datablocks ***\n",
      "*** Overflow with 7 datablocks ***\n",
      "*** Overflow with 6 datablocks ***\n",
      "*** Overflow with 6 datablocks ***\n",
      "*** Overflow with 6 datablocks ***\n",
      "*** Overflow with 5 datablocks ***\n",
      "*** Overflow with 6 datablocks ***\n",
      "*** Overflow with 5 datablocks ***\n",
      "sending signal! - 217 False - 6140.81495794372 -- 3.2499999999999964\n",
      "*** Overflow with 8 datablocks ***\n",
      "*** Overflow with 6 datablocks ***\n",
      "*** Overflow with 7 datablocks ***\n",
      "*** Overflow with 5 datablocks ***\n",
      "*** Overflow with 7 datablocks ***\n",
      "*** Overflow with 8 datablocks ***\n",
      "*** Overflow with 8 datablocks ***\n",
      "*** Overflow with 5 datablocks ***\n",
      "sending signal! - 217 False - 6365.695975667666 -- 3.2999999999999963\n",
      "*** Overflow with 7 datablocks ***\n",
      "*** Overflow with 7 datablocks ***\n",
      "*** Overflow with 6 datablocks ***\n",
      "*** Overflow with 8 datablocks ***\n",
      "*** Overflow with 9 datablocks ***\n",
      "*** Overflow with 8 datablocks ***\n",
      "*** Overflow with 8 datablocks ***\n",
      "*** Overflow with 8 datablocks ***\n",
      "*** Overflow with 7 datablocks ***\n",
      "sending signal! - 217 False - 6588.54917306013 -- 3.349999999999996\n",
      "*** Overflow with 6 datablocks ***\n",
      "*** Overflow with 6 datablocks ***\n",
      "*** Overflow with 7 datablocks ***\n",
      "*** Overflow with 5 datablocks ***\n",
      "*** Overflow with 6 datablocks ***\n",
      "*** Overflow with 7 datablocks ***\n",
      "*** Overflow with 5 datablocks ***\n",
      "*** Overflow with 7 datablocks ***\n",
      "sending signal! - 217 False - 6812.227125052558 -- 3.399999999999996\n",
      "*** Overflow with 6 datablocks ***\n",
      "*** Overflow with 5 datablocks ***\n",
      "*** Overflow with 7 datablocks ***\n",
      "*** Overflow with 8 datablocks ***\n",
      "*** Overflow with 5 datablocks ***\n",
      "*** Overflow with 9 datablocks ***\n",
      "*** Overflow with 7 datablocks ***\n",
      "*** Overflow with 7 datablocks ***\n",
      "*** Overflow with 6 datablocks ***\n",
      "*** Overflow with 8 datablocks ***\n",
      "sending signal! - 217 False - 7076.015948266367 -- 3.4499999999999957\n",
      "*** Overflow with 6 datablocks ***\n",
      "*** Overflow with 4 datablocks ***\n",
      "*** Overflow with 6 datablocks ***\n",
      "*** Overflow with 6 datablocks ***\n",
      "*** Overflow with 5 datablocks ***\n",
      "*** Overflow with 6 datablocks ***\n",
      "*** Overflow with 7 datablocks ***\n",
      "*** Overflow with 5 datablocks ***\n",
      "*** Overflow with 6 datablocks ***\n",
      "*** Overflow with 7 datablocks ***\n",
      "*** Overflow with 5 datablocks ***\n",
      "*** Overflow with 6 datablocks ***\n",
      "*** Overflow with 6 datablocks ***\n",
      "*** Overflow with 6 datablocks ***\n",
      "*** Overflow with 7 datablocks ***\n",
      "*** Overflow with 8 datablocks ***\n",
      "*** Overflow with 5 datablocks ***\n",
      "*** Overflow with 7 datablocks ***\n",
      "*** Overflow with 6 datablocks ***\n",
      "*** Overflow with 4 datablocks ***\n",
      "*** Overflow with 10 datablocks ***\n",
      "*** Overflow with 6 datablocks ***\n",
      "*** Overflow with 6 datablocks ***\n",
      "*** Overflow with 5 datablocks ***\n",
      "*** Overflow with 7 datablocks ***\n",
      "*** Overflow with 6 datablocks ***\n",
      "*** Overflow with 5 datablocks ***\n",
      "*** Overflow with 7 datablocks ***\n",
      "*** Overflow with 5 datablocks ***\n",
      "*** Overflow with 8 datablocks ***\n",
      "*** Overflow with 5 datablocks ***\n",
      "*** Overflow with 7 datablocks ***\n",
      "*** Overflow with 5 datablocks ***\n",
      "*** Overflow with 6 datablocks ***\n",
      "*** Overflow with 6 datablocks ***\n",
      "*** Overflow with 6 datablocks ***\n",
      "*** Overflow with 6 datablocks ***\n",
      "*** Overflow with 5 datablocks ***\n",
      "*** Overflow with 6 datablocks ***\n",
      "*** Overflow with 6 datablocks ***\n",
      "*** Overflow with 5 datablocks ***\n",
      "*** Overflow with 6 datablocks ***\n",
      "*** Overflow with 5 datablocks ***\n",
      "*** Overflow with 6 datablocks ***\n",
      "*** Overflow with 7 datablocks ***\n",
      "*** Overflow with 5 datablocks ***\n",
      "*** Overflow with 5 datablocks ***\n",
      "*** Overflow with 5 datablocks ***\n",
      "*** Overflow with 7 datablocks ***\n",
      "*** Overflow with 6 datablocks ***\n",
      "*** Overflow with 5 datablocks ***\n",
      "*** Overflow with 6 datablocks ***\n",
      "*** Overflow with 9 datablocks ***\n"
     ]
    },
    {
     "name": "stderr",
     "output_type": "stream",
     "text": [
      "WARNING:wyrm.types:Discarding data that was longer than the ring buffer.\n"
     ]
    },
    {
     "name": "stdout",
     "output_type": "stream",
     "text": [
      "*** Overflow with 7 datablocks ***\n",
      "*** Overflow with 5 datablocks ***\n",
      "*** Overflow with 6 datablocks ***\n",
      "*** Overflow with 6 datablocks ***\n",
      "*** Overflow with 8 datablocks ***\n",
      "*** Overflow with 7 datablocks ***\n",
      "*** Overflow with 6 datablocks ***\n",
      "*** Overflow with 7 datablocks ***\n",
      "*** Overflow with 6 datablocks ***\n",
      "*** Overflow with 8 datablocks ***\n",
      "*** Overflow with 6 datablocks ***\n",
      "sending signal! - 218 False - 7297.633658104878 -- 3.4999999999999956\n",
      "*** Overflow with 8 datablocks ***\n",
      "*** Overflow with 5 datablocks ***\n",
      "*** Overflow with 8 datablocks ***\n",
      "*** Overflow with 7 datablocks ***\n",
      "*** Overflow with 8 datablocks ***\n",
      "*** Overflow with 6 datablocks ***\n",
      "*** Overflow with 7 datablocks ***\n",
      "*** Overflow with 7 datablocks ***\n",
      "sending signal! - 218 False - 7537.702827527849 -- 3.5499999999999954\n",
      "*** Overflow with 7 datablocks ***\n",
      "*** Overflow with 9 datablocks ***\n",
      "*** Overflow with 7 datablocks ***\n",
      "*** Overflow with 8 datablocks ***\n",
      "*** Overflow with 12 datablocks ***\n",
      "*** Overflow with 6 datablocks ***\n",
      "*** Overflow with 6 datablocks ***\n",
      "*** Overflow with 7 datablocks ***\n",
      "*** Overflow with 5 datablocks ***\n",
      "sending signal! - 218 False - 7768.837022507765 -- 3.599999999999995\n",
      "*** Overflow with 7 datablocks ***\n",
      "*** Overflow with 9 datablocks ***\n",
      "*** Overflow with 7 datablocks ***\n",
      "*** Overflow with 11 datablocks ***\n",
      "*** Overflow with 8 datablocks ***\n",
      "*** Overflow with 6 datablocks ***\n",
      "*** Overflow with 6 datablocks ***\n",
      "*** Overflow with 6 datablocks ***\n",
      "*** Overflow with 7 datablocks ***\n",
      "*** Overflow with 6 datablocks ***\n",
      "*** Overflow with 7 datablocks ***\n",
      "*** Overflow with 9 datablocks ***\n",
      "*** Overflow with 6 datablocks ***\n",
      "*** Overflow with 6 datablocks ***\n",
      "*** Overflow with 6 datablocks ***\n",
      "*** Overflow with 12 datablocks ***\n",
      "*** Overflow with 9 datablocks ***\n",
      "*** Overflow with 8 datablocks ***\n",
      "*** Overflow with 5 datablocks ***\n",
      "*** Overflow with 7 datablocks ***\n",
      "*** Overflow with 5 datablocks ***\n",
      "*** Overflow with 6 datablocks ***\n",
      "*** Overflow with 5 datablocks ***\n",
      "*** Overflow with 2 datablocks ***\n",
      "*** Overflow with 6 datablocks ***\n",
      "*** Overflow with 10 datablocks ***\n",
      "*** Overflow with 5 datablocks ***\n",
      "*** Overflow with 5 datablocks ***\n",
      "*** Overflow with 5 datablocks ***\n",
      "*** Overflow with 6 datablocks ***\n",
      "*** Overflow with 11 datablocks ***\n",
      "*** Overflow with 5 datablocks ***\n",
      "*** Overflow with 6 datablocks ***\n",
      "*** Overflow with 6 datablocks ***\n",
      "*** Overflow with 6 datablocks ***\n",
      "*** Overflow with 6 datablocks ***\n",
      "*** Overflow with 6 datablocks ***\n",
      "*** Overflow with 5 datablocks ***\n",
      "*** Overflow with 7 datablocks ***\n",
      "*** Overflow with 9 datablocks ***\n"
     ]
    },
    {
     "name": "stderr",
     "output_type": "stream",
     "text": [
      "WARNING:wyrm.types:Discarding data that was longer than the ring buffer.\n"
     ]
    },
    {
     "name": "stdout",
     "output_type": "stream",
     "text": [
      "*** Overflow with 6 datablocks ***\n",
      "*** Overflow with 5 datablocks ***\n",
      "*** Overflow with 6 datablocks ***\n",
      "*** Overflow with 4 datablocks ***\n",
      "*** Overflow with 7 datablocks ***\n",
      "*** Overflow with 7 datablocks ***\n",
      "sending signal! - 219 False - 7969.107769050375 -- 3.649999999999995\n",
      "*** Overflow with 5 datablocks ***\n",
      "*** Overflow with 3 datablocks ***\n",
      "*** Overflow with 13 datablocks ***\n",
      "*** Overflow with 6 datablocks ***\n",
      "*** Overflow with 5 datablocks ***\n",
      "*** Overflow with 7 datablocks ***\n",
      "*** Overflow with 6 datablocks ***\n",
      "*** Overflow with 10 datablocks ***\n",
      "sending signal! - 219 False - 8241.397882016692 -- 3.699999999999995\n",
      "*** Overflow with 7 datablocks ***\n",
      "*** Overflow with 5 datablocks ***\n",
      "*** Overflow with 8 datablocks ***\n",
      "*** Overflow with 7 datablocks ***\n",
      "*** Overflow with 10 datablocks ***\n",
      "*** Overflow with 7 datablocks ***\n",
      "*** Overflow with 6 datablocks ***\n",
      "*** Overflow with 7 datablocks ***\n",
      "sending signal! - 219 False - 8431.945680508403 -- 3.7499999999999947\n",
      "*** Overflow with 6 datablocks ***\n",
      "*** Overflow with 6 datablocks ***\n",
      "*** Overflow with 8 datablocks ***\n",
      "*** Overflow with 7 datablocks ***\n",
      "*** Overflow with 7 datablocks ***\n",
      "*** Overflow with 5 datablocks ***\n",
      "*** Overflow with 7 datablocks ***\n",
      "*** Overflow with 6 datablocks ***\n",
      "*** Overflow with 6 datablocks ***\n",
      "*** Overflow with 7 datablocks ***\n",
      "*** Overflow with 10 datablocks ***\n",
      "*** Overflow with 8 datablocks ***\n",
      "*** Overflow with 10 datablocks ***\n",
      "*** Overflow with 8 datablocks ***\n",
      "*** Overflow with 6 datablocks ***\n",
      "*** Overflow with 6 datablocks ***\n",
      "*** Overflow with 6 datablocks ***\n",
      "*** Overflow with 7 datablocks ***\n",
      "*** Overflow with 5 datablocks ***\n",
      "*** Overflow with 7 datablocks ***\n",
      "*** Overflow with 6 datablocks ***\n",
      "*** Overflow with 9 datablocks ***\n",
      "*** Overflow with 5 datablocks ***\n",
      "*** Overflow with 7 datablocks ***\n"
     ]
    },
    {
     "name": "stderr",
     "output_type": "stream",
     "text": [
      "WARNING:wyrm.types:Discarding data that was longer than the ring buffer.\n"
     ]
    },
    {
     "name": "stdout",
     "output_type": "stream",
     "text": [
      "*** Overflow with 6 datablocks ***\n",
      "*** Overflow with 6 datablocks ***\n",
      "*** Overflow with 6 datablocks ***\n",
      "*** Overflow with 7 datablocks ***\n",
      "*** Overflow with 7 datablocks ***\n",
      "*** Overflow with 7 datablocks ***\n",
      "*** Overflow with 9 datablocks ***\n",
      "*** Overflow with 8 datablocks ***\n",
      "*** Overflow with 7 datablocks ***\n",
      "*** Overflow with 9 datablocks ***\n",
      "*** Overflow with 5 datablocks ***\n",
      "*** Overflow with 7 datablocks ***\n",
      "sending signal! - 220 False - 8692.502594975047 -- 3.7999999999999945\n",
      "*** Overflow with 6 datablocks ***\n",
      "*** Overflow with 7 datablocks ***\n",
      "*** Overflow with 7 datablocks ***\n",
      "*** Overflow with 6 datablocks ***\n",
      "*** Overflow with 6 datablocks ***\n",
      "*** Overflow with 6 datablocks ***\n",
      "*** Overflow with 5 datablocks ***\n",
      "*** Overflow with 7 datablocks ***\n",
      "*** Overflow with 5 datablocks ***\n",
      "*** Overflow with 6 datablocks ***\n",
      "*** Overflow with 5 datablocks ***\n",
      "*** Overflow with 6 datablocks ***\n",
      "*** Overflow with 7 datablocks ***\n",
      "*** Overflow with 5 datablocks ***\n",
      "*** Overflow with 6 datablocks ***\n",
      "*** Overflow with 7 datablocks ***\n",
      "*** Overflow with 6 datablocks ***\n",
      "*** Overflow with 7 datablocks ***\n",
      "*** Overflow with 6 datablocks ***\n",
      "*** Overflow with 6 datablocks ***\n",
      "*** Overflow with 6 datablocks ***\n",
      "*** Overflow with 5 datablocks ***\n",
      "*** Overflow with 6 datablocks ***\n",
      "*** Overflow with 7 datablocks ***\n",
      "*** Overflow with 6 datablocks ***\n",
      "*** Overflow with 6 datablocks ***\n",
      "*** Overflow with 6 datablocks ***\n",
      "*** Overflow with 5 datablocks ***\n",
      "*** Overflow with 5 datablocks ***\n"
     ]
    },
    {
     "name": "stderr",
     "output_type": "stream",
     "text": [
      "WARNING:wyrm.types:Discarding data that was longer than the ring buffer.\n"
     ]
    },
    {
     "name": "stdout",
     "output_type": "stream",
     "text": [
      "*** Overflow with 6 datablocks ***\n",
      "*** Overflow with 5 datablocks ***\n",
      "*** Overflow with 6 datablocks ***\n",
      "*** Overflow with 6 datablocks ***\n",
      "sending signal! - 221 False - 8920.473533582122 -- 3.8499999999999943\n",
      "*** Overflow with 6 datablocks ***\n",
      "*** Overflow with 6 datablocks ***\n",
      "*** Overflow with 8 datablocks ***\n",
      "*** Overflow with 7 datablocks ***\n",
      "*** Overflow with 6 datablocks ***\n",
      "*** Overflow with 6 datablocks ***\n",
      "*** Overflow with 7 datablocks ***\n",
      "*** Overflow with 7 datablocks ***\n",
      "*** Overflow with 6 datablocks ***\n",
      "*** Overflow with 11 datablocks ***\n",
      "*** Overflow with 7 datablocks ***\n",
      "sending signal! - 221 False - 9165.10146670325 -- 3.899999999999994\n",
      "*** Overflow with 7 datablocks ***\n",
      "*** Overflow with 5 datablocks ***\n",
      "*** Overflow with 7 datablocks ***\n",
      "*** Overflow with 6 datablocks ***\n",
      "*** Overflow with 6 datablocks ***\n",
      "*** Overflow with 8 datablocks ***\n",
      "*** Overflow with 6 datablocks ***\n",
      "*** Overflow with 6 datablocks ***\n",
      "*** Overflow with 6 datablocks ***\n",
      "*** Overflow with 7 datablocks ***\n",
      "*** Overflow with 6 datablocks ***\n",
      "*** Overflow with 6 datablocks ***\n",
      "*** Overflow with 6 datablocks ***\n",
      "*** Overflow with 6 datablocks ***\n",
      "*** Overflow with 6 datablocks ***\n",
      "*** Overflow with 6 datablocks ***\n"
     ]
    },
    {
     "name": "stderr",
     "output_type": "stream",
     "text": [
      "WARNING:wyrm.types:Discarding data that was longer than the ring buffer.\n"
     ]
    },
    {
     "name": "stdout",
     "output_type": "stream",
     "text": [
      "*** Overflow with 9 datablocks ***\n",
      "*** Overflow with 8 datablocks ***\n",
      "*** Overflow with 8 datablocks ***\n",
      "*** Overflow with 7 datablocks ***\n",
      "*** Overflow with 6 datablocks ***\n",
      "*** Overflow with 8 datablocks ***\n",
      "*** Overflow with 8 datablocks ***\n",
      "*** Overflow with 8 datablocks ***\n",
      "*** Overflow with 11 datablocks ***\n",
      "*** Overflow with 5 datablocks ***\n",
      "*** Overflow with 6 datablocks ***\n",
      "*** Overflow with 6 datablocks ***\n",
      "*** Overflow with 6 datablocks ***\n",
      "sending signal! - 222 False - 9378.545265483463 -- 3.949999999999994\n",
      "*** Overflow with 6 datablocks ***\n",
      "*** Overflow with 5 datablocks ***\n",
      "*** Overflow with 5 datablocks ***\n",
      "*** Overflow with 6 datablocks ***\n",
      "*** Overflow with 6 datablocks ***\n",
      "*** Overflow with 6 datablocks ***\n",
      "*** Overflow with 5 datablocks ***\n",
      "*** Overflow with 6 datablocks ***\n",
      "*** Overflow with 5 datablocks ***\n",
      "*** Overflow with 5 datablocks ***\n",
      "*** Overflow with 7 datablocks ***\n",
      "*** Overflow with 5 datablocks ***\n",
      "*** Overflow with 6 datablocks ***\n",
      "*** Overflow with 8 datablocks ***\n",
      "*** Overflow with 8 datablocks ***\n",
      "*** Overflow with 6 datablocks ***\n",
      "*** Overflow with 6 datablocks ***\n"
     ]
    },
    {
     "name": "stderr",
     "output_type": "stream",
     "text": [
      "WARNING:wyrm.types:Discarding data that was longer than the ring buffer.\n"
     ]
    },
    {
     "name": "stdout",
     "output_type": "stream",
     "text": [
      "*** Overflow with 7 datablocks ***\n",
      "*** Overflow with 6 datablocks ***\n",
      "*** Overflow with 6 datablocks ***\n",
      "*** Overflow with 6 datablocks ***\n",
      "*** Overflow with 6 datablocks ***\n",
      "*** Overflow with 6 datablocks ***\n",
      "*** Overflow with 7 datablocks ***\n",
      "*** Overflow with 7 datablocks ***\n",
      "*** Overflow with 7 datablocks ***\n",
      "*** Overflow with 6 datablocks ***\n",
      "*** Overflow with 7 datablocks ***\n",
      "*** Overflow with 6 datablocks ***\n",
      "sending signal! - 223 False - 9582.335750497281 -- 3.999999999999994\n",
      "*** Overflow with 6 datablocks ***\n",
      "*** Overflow with 8 datablocks ***\n",
      "*** Overflow with 6 datablocks ***\n",
      "*** Overflow with 6 datablocks ***\n",
      "*** Overflow with 6 datablocks ***\n",
      "*** Overflow with 6 datablocks ***\n",
      "*** Overflow with 7 datablocks ***\n",
      "*** Overflow with 5 datablocks ***\n",
      "*** Overflow with 7 datablocks ***\n",
      "*** Overflow with 6 datablocks ***\n",
      "*** Overflow with 5 datablocks ***\n",
      "*** Overflow with 7 datablocks ***\n",
      "*** Overflow with 10 datablocks ***\n",
      "*** Overflow with 6 datablocks ***\n",
      "*** Overflow with 5 datablocks ***\n",
      "*** Overflow with 8 datablocks ***\n",
      "*** Overflow with 8 datablocks ***\n"
     ]
    },
    {
     "name": "stderr",
     "output_type": "stream",
     "text": [
      "WARNING:wyrm.types:Discarding data that was longer than the ring buffer.\n"
     ]
    },
    {
     "name": "stdout",
     "output_type": "stream",
     "text": [
      "*** Overflow with 8 datablocks ***\n",
      "*** Overflow with 8 datablocks ***\n",
      "*** Overflow with 6 datablocks ***\n",
      "*** Overflow with 7 datablocks ***\n",
      "*** Overflow with 6 datablocks ***\n",
      "*** Overflow with 5 datablocks ***\n",
      "*** Overflow with 6 datablocks ***\n",
      "*** Overflow with 8 datablocks ***\n",
      "*** Overflow with 5 datablocks ***\n",
      "*** Overflow with 6 datablocks ***\n",
      "sending signal! - 224 False - 9813.616845372777 -- 4.049999999999994\n",
      "*** Overflow with 6 datablocks ***\n",
      "*** Overflow with 5 datablocks ***\n",
      "*** Overflow with 8 datablocks ***\n",
      "*** Overflow with 13 datablocks ***\n",
      "*** Overflow with 7 datablocks ***\n",
      "*** Overflow with 8 datablocks ***\n",
      "*** Overflow with 6 datablocks ***\n",
      "*** Overflow with 6 datablocks ***\n",
      "*** Overflow with 6 datablocks ***\n",
      "*** Overflow with 6 datablocks ***\n"
     ]
    },
    {
     "name": "stderr",
     "output_type": "stream",
     "text": [
      "WARNING:wyrm.types:Discarding data that was longer than the ring buffer.\n"
     ]
    },
    {
     "name": "stdout",
     "output_type": "stream",
     "text": [
      "*** Overflow with 5 datablocks ***\n",
      "*** Overflow with 7 datablocks ***\n",
      "*** Overflow with 8 datablocks ***\n",
      "*** Overflow with 8 datablocks ***\n",
      "*** Overflow with 7 datablocks ***\n",
      "*** Overflow with 7 datablocks ***\n",
      "*** Overflow with 6 datablocks ***\n",
      "*** Overflow with 8 datablocks ***\n",
      "*** Overflow with 9 datablocks ***\n",
      "*** Overflow with 7 datablocks ***\n",
      "*** Overflow with 6 datablocks ***\n",
      "*** Overflow with 9 datablocks ***\n",
      "*** Overflow with 9 datablocks ***\n",
      "*** Overflow with 8 datablocks ***\n",
      "*** Overflow with 6 datablocks ***\n",
      "*** Overflow with 4 datablocks ***\n",
      "*** Overflow with 6 datablocks ***\n",
      "*** Overflow with 6 datablocks ***\n",
      "*** Overflow with 6 datablocks ***\n"
     ]
    },
    {
     "name": "stderr",
     "output_type": "stream",
     "text": [
      "WARNING:wyrm.types:Discarding data that was longer than the ring buffer.\n"
     ]
    },
    {
     "name": "stdout",
     "output_type": "stream",
     "text": [
      "*** Overflow with 6 datablocks ***\n",
      "*** Overflow with 6 datablocks ***\n",
      "*** Overflow with 6 datablocks ***\n",
      "*** Overflow with 8 datablocks ***\n",
      "sending signal! - 226 False - 10096.693439566125 -- 4.099999999999993\n",
      "*** Overflow with 8 datablocks ***\n",
      "*** Overflow with 7 datablocks ***\n",
      "*** Overflow with 7 datablocks ***\n",
      "*** Overflow with 6 datablocks ***\n",
      "*** Overflow with 10 datablocks ***\n",
      "*** Overflow with 6 datablocks ***\n",
      "*** Overflow with 5 datablocks ***\n",
      "*** Overflow with 7 datablocks ***\n",
      "*** Overflow with 8 datablocks ***\n",
      "*** Overflow with 8 datablocks ***\n",
      "*** Overflow with 5 datablocks ***\n",
      "*** Overflow with 7 datablocks ***\n"
     ]
    },
    {
     "name": "stderr",
     "output_type": "stream",
     "text": [
      "WARNING:wyrm.types:Discarding data that was longer than the ring buffer.\n"
     ]
    },
    {
     "name": "stdout",
     "output_type": "stream",
     "text": [
      "*** Overflow with 8 datablocks ***\n",
      "*** Overflow with 7 datablocks ***\n",
      "*** Overflow with 5 datablocks ***\n",
      "*** Overflow with 7 datablocks ***\n",
      "*** Overflow with 7 datablocks ***\n",
      "*** Overflow with 6 datablocks ***\n",
      "*** Overflow with 6 datablocks ***\n",
      "*** Overflow with 6 datablocks ***\n",
      "*** Overflow with 7 datablocks ***\n",
      "*** Overflow with 8 datablocks ***\n",
      "*** Overflow with 7 datablocks ***\n",
      "*** Overflow with 6 datablocks ***\n",
      "*** Overflow with 8 datablocks ***\n",
      "*** Overflow with 10 datablocks ***\n",
      "*** Overflow with 5 datablocks ***\n",
      "*** Overflow with 6 datablocks ***\n"
     ]
    },
    {
     "name": "stderr",
     "output_type": "stream",
     "text": [
      "WARNING:wyrm.types:Discarding data that was longer than the ring buffer.\n"
     ]
    },
    {
     "name": "stdout",
     "output_type": "stream",
     "text": [
      "*** Overflow with 8 datablocks ***\n",
      "*** Overflow with 7 datablocks ***\n",
      "*** Overflow with 7 datablocks ***\n",
      "sending signal! - 228 False - 10353.976596155542 -- 4.149999999999993\n",
      "*** Overflow with 9 datablocks ***\n",
      "*** Overflow with 7 datablocks ***\n",
      "*** Overflow with 6 datablocks ***\n",
      "*** Overflow with 5 datablocks ***\n",
      "*** Overflow with 6 datablocks ***\n",
      "*** Overflow with 5 datablocks ***\n",
      "*** Overflow with 5 datablocks ***\n",
      "*** Overflow with 6 datablocks ***\n",
      "*** Overflow with 4 datablocks ***\n",
      "*** Overflow with 7 datablocks ***\n",
      "*** Overflow with 9 datablocks ***\n",
      "*** Overflow with 7 datablocks ***\n",
      "*** Overflow with 7 datablocks ***\n",
      "*** Overflow with 8 datablocks ***\n",
      "*** Overflow with 6 datablocks ***\n",
      "*** Overflow with 6 datablocks ***\n"
     ]
    },
    {
     "name": "stderr",
     "output_type": "stream",
     "text": [
      "WARNING:wyrm.types:Discarding data that was longer than the ring buffer.\n"
     ]
    },
    {
     "name": "stdout",
     "output_type": "stream",
     "text": [
      "*** Overflow with 7 datablocks ***\n",
      "*** Overflow with 7 datablocks ***\n",
      "*** Overflow with 7 datablocks ***\n",
      "*** Overflow with 5 datablocks ***\n",
      "*** Overflow with 7 datablocks ***\n",
      "*** Overflow with 7 datablocks ***\n",
      "*** Overflow with 4 datablocks ***\n",
      "*** Overflow with 7 datablocks ***\n",
      "*** Overflow with 9 datablocks ***\n",
      "sending signal! - 229 False - 10673.71804311192 -- 4.199999999999993\n",
      "*** Overflow with 6 datablocks ***\n",
      "*** Overflow with 4 datablocks ***\n",
      "*** Overflow with 6 datablocks ***\n",
      "*** Overflow with 7 datablocks ***\n",
      "*** Overflow with 5 datablocks ***\n",
      "*** Overflow with 6 datablocks ***\n",
      "*** Overflow with 6 datablocks ***\n",
      "*** Overflow with 6 datablocks ***\n",
      "*** Overflow with 6 datablocks ***\n"
     ]
    },
    {
     "name": "stderr",
     "output_type": "stream",
     "text": [
      "WARNING:wyrm.types:Discarding data that was longer than the ring buffer.\n"
     ]
    },
    {
     "name": "stdout",
     "output_type": "stream",
     "text": [
      "*** Overflow with 6 datablocks ***\n",
      "*** Overflow with 7 datablocks ***\n",
      "*** Overflow with 7 datablocks ***\n",
      "*** Overflow with 6 datablocks ***\n",
      "*** Overflow with 7 datablocks ***\n",
      "*** Overflow with 7 datablocks ***\n",
      "*** Overflow with 6 datablocks ***\n",
      "*** Overflow with 5 datablocks ***\n",
      "*** Overflow with 7 datablocks ***\n",
      "*** Overflow with 6 datablocks ***\n",
      "*** Overflow with 8 datablocks ***\n",
      "*** Overflow with 6 datablocks ***\n",
      "*** Overflow with 7 datablocks ***\n",
      "*** Overflow with 11 datablocks ***\n"
     ]
    },
    {
     "name": "stderr",
     "output_type": "stream",
     "text": [
      "WARNING:wyrm.types:Discarding data that was longer than the ring buffer.\n"
     ]
    },
    {
     "name": "stdout",
     "output_type": "stream",
     "text": [
      "*** Overflow with 7 datablocks ***\n",
      "*** Overflow with 7 datablocks ***\n",
      "*** Overflow with 5 datablocks ***\n",
      "*** Overflow with 7 datablocks ***\n",
      "*** Overflow with 8 datablocks ***\n",
      "*** Overflow with 6 datablocks ***\n",
      "*** Overflow with 6 datablocks ***\n",
      "sending signal! - 231 False - 10993.8214391243 -- 4.249999999999993\n",
      "*** Overflow with 6 datablocks ***\n",
      "*** Overflow with 8 datablocks ***\n",
      "*** Overflow with 5 datablocks ***\n",
      "*** Overflow with 7 datablocks ***\n",
      "*** Overflow with 6 datablocks ***\n",
      "*** Overflow with 7 datablocks ***\n",
      "*** Overflow with 8 datablocks ***\n"
     ]
    },
    {
     "name": "stderr",
     "output_type": "stream",
     "text": [
      "WARNING:wyrm.types:Discarding data that was longer than the ring buffer.\n"
     ]
    },
    {
     "name": "stdout",
     "output_type": "stream",
     "text": [
      "*** Overflow with 7 datablocks ***\n",
      "*** Overflow with 6 datablocks ***\n",
      "*** Overflow with 5 datablocks ***\n",
      "*** Overflow with 7 datablocks ***\n",
      "*** Overflow with 7 datablocks ***\n",
      "*** Overflow with 7 datablocks ***\n",
      "*** Overflow with 5 datablocks ***\n",
      "*** Overflow with 7 datablocks ***\n",
      "*** Overflow with 6 datablocks ***\n",
      "*** Overflow with 6 datablocks ***\n",
      "*** Overflow with 6 datablocks ***\n",
      "*** Overflow with 7 datablocks ***\n"
     ]
    },
    {
     "name": "stderr",
     "output_type": "stream",
     "text": [
      "WARNING:wyrm.types:Discarding data that was longer than the ring buffer.\n"
     ]
    },
    {
     "name": "stdout",
     "output_type": "stream",
     "text": [
      "*** Overflow with 5 datablocks ***\n",
      "*** Overflow with 10 datablocks ***\n",
      "*** Overflow with 7 datablocks ***\n",
      "*** Overflow with 7 datablocks ***\n",
      "*** Overflow with 7 datablocks ***\n",
      "*** Overflow with 6 datablocks ***\n",
      "*** Overflow with 9 datablocks ***\n",
      "*** Overflow with 7 datablocks ***\n",
      "*** Overflow with 7 datablocks ***\n",
      "*** Overflow with 12 datablocks ***\n"
     ]
    },
    {
     "name": "stderr",
     "output_type": "stream",
     "text": [
      "WARNING:wyrm.types:Discarding data that was longer than the ring buffer.\n"
     ]
    },
    {
     "name": "stdout",
     "output_type": "stream",
     "text": [
      "*** Overflow with 8 datablocks ***\n",
      "*** Overflow with 8 datablocks ***\n",
      "*** Overflow with 14 datablocks ***\n",
      "*** Overflow with 6 datablocks ***\n",
      "sending signal! - 234 False - 11315.447705090972 -- 4.299999999999993\n",
      "*** Overflow with 9 datablocks ***\n",
      "*** Overflow with 8 datablocks ***\n",
      "*** Overflow with 7 datablocks ***\n",
      "*** Overflow with 6 datablocks ***\n",
      "*** Overflow with 6 datablocks ***\n",
      "*** Overflow with 5 datablocks ***\n",
      "*** Overflow with 6 datablocks ***\n",
      "*** Overflow with 7 datablocks ***\n",
      "*** Overflow with 4 datablocks ***\n"
     ]
    },
    {
     "name": "stderr",
     "output_type": "stream",
     "text": [
      "WARNING:wyrm.types:Discarding data that was longer than the ring buffer.\n"
     ]
    },
    {
     "name": "stdout",
     "output_type": "stream",
     "text": [
      "*** Overflow with 7 datablocks ***\n",
      "*** Overflow with 7 datablocks ***\n",
      "*** Overflow with 9 datablocks ***\n",
      "*** Overflow with 8 datablocks ***\n",
      "*** Overflow with 5 datablocks ***\n",
      "*** Overflow with 7 datablocks ***\n",
      "*** Overflow with 7 datablocks ***\n",
      "*** Overflow with 6 datablocks ***\n",
      "*** Overflow with 6 datablocks ***\n",
      "*** Overflow with 6 datablocks ***\n",
      "*** Overflow with 7 datablocks ***\n",
      "*** Overflow with 6 datablocks ***\n",
      "*** Overflow with 9 datablocks ***\n",
      "*** Overflow with 6 datablocks ***\n"
     ]
    },
    {
     "name": "stderr",
     "output_type": "stream",
     "text": [
      "WARNING:wyrm.types:Discarding data that was longer than the ring buffer.\n"
     ]
    },
    {
     "name": "stdout",
     "output_type": "stream",
     "text": [
      "*** Overflow with 6 datablocks ***\n",
      "*** Overflow with 6 datablocks ***\n",
      "*** Overflow with 8 datablocks ***\n",
      "*** Overflow with 6 datablocks ***\n",
      "*** Overflow with 6 datablocks ***\n",
      "sending signal! - 236 False - 11645.82654904627 -- 4.3499999999999925\n",
      "*** Overflow with 8 datablocks ***\n",
      "*** Overflow with 6 datablocks ***\n",
      "*** Overflow with 5 datablocks ***\n",
      "*** Overflow with 9 datablocks ***\n",
      "*** Overflow with 7 datablocks ***\n",
      "*** Overflow with 6 datablocks ***\n"
     ]
    },
    {
     "name": "stderr",
     "output_type": "stream",
     "text": [
      "WARNING:wyrm.types:Discarding data that was longer than the ring buffer.\n"
     ]
    },
    {
     "name": "stdout",
     "output_type": "stream",
     "text": [
      "*** Overflow with 5 datablocks ***\n",
      "*** Overflow with 7 datablocks ***\n",
      "*** Overflow with 9 datablocks ***\n",
      "*** Overflow with 6 datablocks ***\n",
      "*** Overflow with 9 datablocks ***\n",
      "*** Overflow with 7 datablocks ***\n",
      "*** Overflow with 6 datablocks ***\n",
      "*** Overflow with 7 datablocks ***\n",
      "*** Overflow with 9 datablocks ***\n",
      "*** Overflow with 6 datablocks ***\n",
      "*** Overflow with 12 datablocks ***\n",
      "*** Overflow with 8 datablocks ***\n",
      "*** Overflow with 10 datablocks ***\n"
     ]
    },
    {
     "name": "stderr",
     "output_type": "stream",
     "text": [
      "WARNING:wyrm.types:Discarding data that was longer than the ring buffer.\n"
     ]
    },
    {
     "name": "stdout",
     "output_type": "stream",
     "text": [
      "*** Overflow with 7 datablocks ***\n",
      "*** Overflow with 7 datablocks ***\n",
      "*** Overflow with 6 datablocks ***\n",
      "*** Overflow with 8 datablocks ***\n",
      "*** Overflow with 4 datablocks ***\n",
      "*** Overflow with 6 datablocks ***\n",
      "*** Overflow with 6 datablocks ***\n",
      "*** Overflow with 6 datablocks ***\n",
      "*** Overflow with 6 datablocks ***\n",
      "*** Overflow with 6 datablocks ***\n",
      "*** Overflow with 7 datablocks ***\n",
      "*** Overflow with 9 datablocks ***\n",
      "*** Overflow with 11 datablocks ***\n",
      "*** Overflow with 6 datablocks ***\n",
      "*** Overflow with 8 datablocks ***\n"
     ]
    },
    {
     "name": "stderr",
     "output_type": "stream",
     "text": [
      "WARNING:wyrm.types:Discarding data that was longer than the ring buffer.\n"
     ]
    },
    {
     "name": "stdout",
     "output_type": "stream",
     "text": [
      "*** Overflow with 7 datablocks ***\n",
      "*** Overflow with 6 datablocks ***\n",
      "*** Overflow with 6 datablocks ***\n",
      "sending signal! - 239 False - 11906.983865933566 -- 4.399999999999992\n",
      "*** Overflow with 6 datablocks ***\n",
      "*** Overflow with 6 datablocks ***\n",
      "*** Overflow with 6 datablocks ***\n",
      "*** Overflow with 5 datablocks ***\n",
      "*** Overflow with 7 datablocks ***\n",
      "*** Overflow with 5 datablocks ***\n",
      "*** Overflow with 5 datablocks ***\n",
      "*** Overflow with 6 datablocks ***\n",
      "*** Overflow with 6 datablocks ***\n",
      "*** Overflow with 7 datablocks ***\n",
      "*** Overflow with 8 datablocks ***\n"
     ]
    },
    {
     "name": "stderr",
     "output_type": "stream",
     "text": [
      "WARNING:wyrm.types:Discarding data that was longer than the ring buffer.\n"
     ]
    },
    {
     "name": "stdout",
     "output_type": "stream",
     "text": [
      "*** Overflow with 6 datablocks ***\n",
      "*** Overflow with 6 datablocks ***\n",
      "*** Overflow with 6 datablocks ***\n",
      "*** Overflow with 6 datablocks ***\n",
      "*** Overflow with 5 datablocks ***\n",
      "*** Overflow with 6 datablocks ***\n",
      "*** Overflow with 6 datablocks ***\n",
      "*** Overflow with 6 datablocks ***\n",
      "*** Overflow with 6 datablocks ***\n",
      "*** Overflow with 7 datablocks ***\n",
      "*** Overflow with 10 datablocks ***\n",
      "*** Overflow with 7 datablocks ***\n",
      "*** Overflow with 6 datablocks ***\n"
     ]
    },
    {
     "name": "stderr",
     "output_type": "stream",
     "text": [
      "WARNING:wyrm.types:Discarding data that was longer than the ring buffer.\n"
     ]
    },
    {
     "name": "stdout",
     "output_type": "stream",
     "text": [
      "*** Overflow with 9 datablocks ***\n",
      "*** Overflow with 6 datablocks ***\n",
      "*** Overflow with 5 datablocks ***\n",
      "*** Overflow with 7 datablocks ***\n",
      "*** Overflow with 7 datablocks ***\n",
      "sending signal! - 241 False - 12141.057250847181 -- 4.449999999999992\n",
      "*** Overflow with 7 datablocks ***\n",
      "*** Overflow with 6 datablocks ***\n",
      "*** Overflow with 7 datablocks ***\n",
      "*** Overflow with 6 datablocks ***\n",
      "*** Overflow with 6 datablocks ***\n",
      "*** Overflow with 9 datablocks ***\n"
     ]
    },
    {
     "name": "stderr",
     "output_type": "stream",
     "text": [
      "WARNING:wyrm.types:Discarding data that was longer than the ring buffer.\n"
     ]
    },
    {
     "name": "stdout",
     "output_type": "stream",
     "text": [
      "*** Overflow with 8 datablocks ***\n",
      "*** Overflow with 7 datablocks ***\n",
      "*** Overflow with 10 datablocks ***\n",
      "*** Overflow with 6 datablocks ***\n",
      "*** Overflow with 8 datablocks ***\n",
      "*** Overflow with 6 datablocks ***\n",
      "*** Overflow with 6 datablocks ***\n",
      "*** Overflow with 8 datablocks ***\n",
      "*** Overflow with 6 datablocks ***\n",
      "*** Overflow with 7 datablocks ***\n",
      "*** Overflow with 10 datablocks ***\n",
      "*** Overflow with 8 datablocks ***\n",
      "*** Overflow with 7 datablocks ***\n",
      "*** Overflow with 8 datablocks ***\n",
      "*** Overflow with 9 datablocks ***\n"
     ]
    },
    {
     "name": "stderr",
     "output_type": "stream",
     "text": [
      "WARNING:wyrm.types:Discarding data that was longer than the ring buffer.\n"
     ]
    },
    {
     "name": "stdout",
     "output_type": "stream",
     "text": [
      "*** Overflow with 4 datablocks ***\n",
      "*** Overflow with 7 datablocks ***\n",
      "*** Overflow with 7 datablocks ***\n",
      "*** Overflow with 8 datablocks ***\n",
      "*** Overflow with 5 datablocks ***\n",
      "*** Overflow with 10 datablocks ***\n",
      "*** Overflow with 6 datablocks ***\n",
      "*** Overflow with 9 datablocks ***\n",
      "*** Overflow with 6 datablocks ***\n",
      "*** Overflow with 6 datablocks ***\n",
      "*** Overflow with 6 datablocks ***\n",
      "*** Overflow with 6 datablocks ***\n",
      "*** Overflow with 11 datablocks ***\n"
     ]
    },
    {
     "name": "stderr",
     "output_type": "stream",
     "text": [
      "WARNING:wyrm.types:Discarding data that was longer than the ring buffer.\n"
     ]
    },
    {
     "name": "stdout",
     "output_type": "stream",
     "text": [
      "*** Overflow with 7 datablocks ***\n",
      "*** Overflow with 5 datablocks ***\n",
      "*** Overflow with 8 datablocks ***\n",
      "sending signal! - 244 False - 12467.07121292187 -- 4.499999999999992\n",
      "*** Overflow with 9 datablocks ***\n",
      "*** Overflow with 6 datablocks ***\n",
      "*** Overflow with 6 datablocks ***\n",
      "FLIPPING/GOING THE THE MIDDLE AGAIN\n",
      "*** Overflow with 6 datablocks ***\n",
      "*** Overflow with 7 datablocks ***\n",
      "*** Overflow with 5 datablocks ***\n",
      "*** Overflow with 15 datablocks ***\n",
      "*** Overflow with 6 datablocks ***\n",
      "*** Overflow with 10 datablocks ***\n",
      "*** Overflow with 4 datablocks ***\n",
      "*** Overflow with 6 datablocks ***\n"
     ]
    },
    {
     "name": "stderr",
     "output_type": "stream",
     "text": [
      "WARNING:wyrm.types:Discarding data that was longer than the ring buffer.\n"
     ]
    },
    {
     "name": "stdout",
     "output_type": "stream",
     "text": [
      "*** Overflow with 5 datablocks ***\n",
      "*** Overflow with 6 datablocks ***\n",
      "*** Overflow with 6 datablocks ***\n",
      "*** Overflow with 4 datablocks ***\n",
      "*** Overflow with 6 datablocks ***\n",
      "*** Overflow with 5 datablocks ***\n",
      "*** Overflow with 6 datablocks ***\n",
      "*** Overflow with 6 datablocks ***\n",
      "*** Overflow with 6 datablocks ***\n",
      "*** Overflow with 10 datablocks ***\n",
      "*** Overflow with 7 datablocks ***\n",
      "*** Overflow with 5 datablocks ***\n",
      "*** Overflow with 9 datablocks ***\n",
      "*** Overflow with 9 datablocks ***\n",
      "*** Overflow with 5 datablocks ***\n",
      "*** Overflow with 6 datablocks ***\n",
      "*** Overflow with 4 datablocks ***\n",
      "*** Overflow with 6 datablocks ***\n"
     ]
    },
    {
     "name": "stderr",
     "output_type": "stream",
     "text": [
      "WARNING:wyrm.types:Discarding data that was longer than the ring buffer.\n"
     ]
    },
    {
     "name": "stdout",
     "output_type": "stream",
     "text": [
      "*** Overflow with 6 datablocks ***\n",
      "*** Overflow with 5 datablocks ***\n",
      "*** Overflow with 6 datablocks ***\n",
      "*** Overflow with 7 datablocks ***\n",
      "*** Overflow with 5 datablocks ***\n",
      "sending signal! - 246 False - 12776.296921049974 -- 4.549999999999992\n",
      "*** Overflow with 6 datablocks ***\n",
      "*** Overflow with 6 datablocks ***\n",
      "*** Overflow with 7 datablocks ***\n",
      "*** Overflow with 5 datablocks ***\n",
      "*** Overflow with 6 datablocks ***\n",
      "*** Overflow with 6 datablocks ***\n",
      "*** Overflow with 6 datablocks ***\n",
      "*** Overflow with 5 datablocks ***\n",
      "*** Overflow with 7 datablocks ***\n",
      "*** Overflow with 8 datablocks ***\n"
     ]
    },
    {
     "name": "stderr",
     "output_type": "stream",
     "text": [
      "WARNING:wyrm.types:Discarding data that was longer than the ring buffer.\n"
     ]
    },
    {
     "name": "stdout",
     "output_type": "stream",
     "text": [
      "*** Overflow with 9 datablocks ***\n",
      "*** Overflow with 7 datablocks ***\n",
      "*** Overflow with 7 datablocks ***\n",
      "*** Overflow with 8 datablocks ***\n",
      "*** Overflow with 8 datablocks ***\n",
      "*** Overflow with 5 datablocks ***\n",
      "*** Overflow with 6 datablocks ***\n",
      "*** Overflow with 6 datablocks ***\n",
      "*** Overflow with 6 datablocks ***\n",
      "*** Overflow with 12 datablocks ***\n",
      "*** Overflow with 8 datablocks ***\n"
     ]
    },
    {
     "name": "stderr",
     "output_type": "stream",
     "text": [
      "WARNING:wyrm.types:Discarding data that was longer than the ring buffer.\n"
     ]
    },
    {
     "name": "stdout",
     "output_type": "stream",
     "text": [
      "*** Overflow with 5 datablocks ***\n",
      "*** Overflow with 5 datablocks ***\n",
      "*** Overflow with 9 datablocks ***\n",
      "*** Overflow with 9 datablocks ***\n",
      "*** Overflow with 7 datablocks ***\n",
      "*** Overflow with 6 datablocks ***\n",
      "sending signal! - 248 False - 13064.948616559832 -- 4.599999999999992\n",
      "*** Overflow with 6 datablocks ***\n",
      "*** Overflow with 7 datablocks ***\n",
      "*** Overflow with 7 datablocks ***\n",
      "*** Overflow with 8 datablocks ***\n",
      "*** Overflow with 12 datablocks ***\n",
      "*** Overflow with 9 datablocks ***\n",
      "*** Overflow with 7 datablocks ***\n"
     ]
    },
    {
     "name": "stderr",
     "output_type": "stream",
     "text": [
      "WARNING:wyrm.types:Discarding data that was longer than the ring buffer.\n"
     ]
    },
    {
     "name": "stdout",
     "output_type": "stream",
     "text": [
      "*** Overflow with 10 datablocks ***\n",
      "*** Overflow with 7 datablocks ***\n",
      "*** Overflow with 6 datablocks ***\n",
      "*** Overflow with 5 datablocks ***\n",
      "*** Overflow with 6 datablocks ***\n",
      "*** Overflow with 8 datablocks ***\n",
      "*** Overflow with 9 datablocks ***\n",
      "*** Overflow with 7 datablocks ***\n",
      "*** Overflow with 7 datablocks ***\n",
      "*** Overflow with 6 datablocks ***\n",
      "*** Overflow with 6 datablocks ***\n",
      "*** Overflow with 6 datablocks ***\n",
      "*** Overflow with 9 datablocks ***\n",
      "*** Overflow with 9 datablocks ***\n"
     ]
    },
    {
     "name": "stderr",
     "output_type": "stream",
     "text": [
      "WARNING:wyrm.types:Discarding data that was longer than the ring buffer.\n"
     ]
    },
    {
     "name": "stdout",
     "output_type": "stream",
     "text": [
      "*** Overflow with 6 datablocks ***\n",
      "*** Overflow with 6 datablocks ***\n",
      "*** Overflow with 6 datablocks ***\n",
      "*** Overflow with 7 datablocks ***\n",
      "*** Overflow with 5 datablocks ***\n",
      "*** Overflow with 6 datablocks ***\n",
      "*** Overflow with 6 datablocks ***\n",
      "*** Overflow with 6 datablocks ***\n",
      "*** Overflow with 11 datablocks ***\n",
      "*** Overflow with 4 datablocks ***\n",
      "*** Overflow with 6 datablocks ***\n",
      "*** Overflow with 7 datablocks ***\n",
      "*** Overflow with 5 datablocks ***\n",
      "*** Overflow with 10 datablocks ***\n",
      "*** Overflow with 8 datablocks ***\n"
     ]
    },
    {
     "name": "stderr",
     "output_type": "stream",
     "text": [
      "WARNING:wyrm.types:Discarding data that was longer than the ring buffer.\n"
     ]
    },
    {
     "name": "stdout",
     "output_type": "stream",
     "text": [
      "*** Overflow with 8 datablocks ***\n",
      "*** Overflow with 7 datablocks ***\n",
      "*** Overflow with 6 datablocks ***\n",
      "*** Overflow with 7 datablocks ***\n",
      "sending signal! - 251 False - 13339.031718072063 -- 4.6499999999999915\n",
      "*** Overflow with 7 datablocks ***\n",
      "*** Overflow with 8 datablocks ***\n",
      "*** Overflow with 9 datablocks ***\n",
      "*** Overflow with 6 datablocks ***\n",
      "*** Overflow with 6 datablocks ***\n",
      "*** Overflow with 6 datablocks ***\n",
      "*** Overflow with 5 datablocks ***\n",
      "*** Overflow with 6 datablocks ***\n",
      "*** Overflow with 7 datablocks ***\n",
      "*** Overflow with 9 datablocks ***\n",
      "*** Overflow with 5 datablocks ***\n",
      "*** Overflow with 7 datablocks ***\n",
      "*** Overflow with 6 datablocks ***\n",
      "*** Overflow with 5 datablocks ***\n",
      "*** Overflow with 8 datablocks ***\n"
     ]
    },
    {
     "name": "stderr",
     "output_type": "stream",
     "text": [
      "WARNING:wyrm.types:Discarding data that was longer than the ring buffer.\n"
     ]
    },
    {
     "name": "stdout",
     "output_type": "stream",
     "text": [
      "*** Overflow with 5 datablocks ***\n",
      "*** Overflow with 6 datablocks ***\n",
      "*** Overflow with 6 datablocks ***\n",
      "*** Overflow with 6 datablocks ***\n",
      "*** Overflow with 5 datablocks ***\n",
      "*** Overflow with 5 datablocks ***\n",
      "*** Overflow with 5 datablocks ***\n",
      "*** Overflow with 6 datablocks ***\n",
      "*** Overflow with 9 datablocks ***\n",
      "*** Overflow with 8 datablocks ***\n",
      "*** Overflow with 5 datablocks ***\n",
      "*** Overflow with 6 datablocks ***\n",
      "*** Overflow with 6 datablocks ***\n",
      "*** Overflow with 10 datablocks ***\n",
      "*** Overflow with 6 datablocks ***\n",
      "*** Overflow with 6 datablocks ***\n",
      "*** Overflow with 4 datablocks ***\n",
      "*** Overflow with 6 datablocks ***\n",
      "*** Overflow with 6 datablocks ***\n",
      "*** Overflow with 6 datablocks ***\n",
      "*** Overflow with 6 datablocks ***\n"
     ]
    },
    {
     "name": "stderr",
     "output_type": "stream",
     "text": [
      "WARNING:wyrm.types:Discarding data that was longer than the ring buffer.\n"
     ]
    },
    {
     "name": "stdout",
     "output_type": "stream",
     "text": [
      "*** Overflow with 5 datablocks ***\n",
      "*** Overflow with 6 datablocks ***\n",
      "*** Overflow with 6 datablocks ***\n",
      "*** Overflow with 5 datablocks ***\n",
      "*** Overflow with 6 datablocks ***\n",
      "sending signal! - 253 False - 13648.333244198295 -- 4.699999999999991\n",
      "*** Overflow with 6 datablocks ***\n",
      "*** Overflow with 6 datablocks ***\n",
      "*** Overflow with 7 datablocks ***\n",
      "*** Overflow with 7 datablocks ***\n",
      "*** Overflow with 6 datablocks ***\n",
      "*** Overflow with 6 datablocks ***\n",
      "*** Overflow with 5 datablocks ***\n",
      "*** Overflow with 6 datablocks ***\n",
      "*** Overflow with 11 datablocks ***\n",
      "*** Overflow with 6 datablocks ***\n",
      "*** Overflow with 6 datablocks ***\n",
      "*** Overflow with 5 datablocks ***\n",
      "*** Overflow with 6 datablocks ***\n",
      "*** Overflow with 6 datablocks ***\n",
      "*** Overflow with 6 datablocks ***\n",
      "*** Overflow with 6 datablocks ***\n",
      "*** Overflow with 5 datablocks ***\n"
     ]
    },
    {
     "name": "stderr",
     "output_type": "stream",
     "text": [
      "WARNING:wyrm.types:Discarding data that was longer than the ring buffer.\n"
     ]
    },
    {
     "name": "stdout",
     "output_type": "stream",
     "text": [
      "*** Overflow with 6 datablocks ***\n",
      "*** Overflow with 6 datablocks ***\n",
      "*** Overflow with 4 datablocks ***\n",
      "*** Overflow with 6 datablocks ***\n",
      "*** Overflow with 6 datablocks ***\n",
      "*** Overflow with 5 datablocks ***\n",
      "*** Overflow with 6 datablocks ***\n",
      "*** Overflow with 5 datablocks ***\n",
      "*** Overflow with 13 datablocks ***\n",
      "*** Overflow with 5 datablocks ***\n",
      "*** Overflow with 6 datablocks ***\n",
      "*** Overflow with 4 datablocks ***\n",
      "*** Overflow with 7 datablocks ***\n",
      "*** Overflow with 11 datablocks ***\n",
      "*** Overflow with 8 datablocks ***\n"
     ]
    },
    {
     "name": "stderr",
     "output_type": "stream",
     "text": [
      "WARNING:wyrm.types:Discarding data that was longer than the ring buffer.\n"
     ]
    },
    {
     "name": "stdout",
     "output_type": "stream",
     "text": [
      "*** Overflow with 7 datablocks ***\n",
      "*** Overflow with 9 datablocks ***\n",
      "sending signal! - 255 False - 13871.701331631875 -- 4.749999999999991\n",
      "*** Overflow with 5 datablocks ***\n",
      "*** Overflow with 8 datablocks ***\n",
      "*** Overflow with 7 datablocks ***\n",
      "*** Overflow with 7 datablocks ***\n",
      "*** Overflow with 6 datablocks ***\n",
      "*** Overflow with 6 datablocks ***\n",
      "*** Overflow with 12 datablocks ***\n",
      "*** Overflow with 7 datablocks ***\n",
      "*** Overflow with 9 datablocks ***\n",
      "*** Overflow with 8 datablocks ***\n",
      "*** Overflow with 9 datablocks ***\n",
      "*** Overflow with 7 datablocks ***\n",
      "*** Overflow with 6 datablocks ***\n"
     ]
    },
    {
     "name": "stderr",
     "output_type": "stream",
     "text": [
      "WARNING:wyrm.types:Discarding data that was longer than the ring buffer.\n"
     ]
    },
    {
     "name": "stdout",
     "output_type": "stream",
     "text": [
      "*** Overflow with 6 datablocks ***\n",
      "*** Overflow with 6 datablocks ***\n",
      "*** Overflow with 7 datablocks ***\n",
      "*** Overflow with 5 datablocks ***\n",
      "*** Overflow with 7 datablocks ***\n",
      "*** Overflow with 4 datablocks ***\n",
      "*** Overflow with 7 datablocks ***\n",
      "*** Overflow with 6 datablocks ***\n",
      "*** Overflow with 8 datablocks ***\n",
      "*** Overflow with 6 datablocks ***\n",
      "*** Overflow with 7 datablocks ***\n",
      "*** Overflow with 6 datablocks ***\n",
      "*** Overflow with 6 datablocks ***\n",
      "*** Overflow with 8 datablocks ***\n",
      "*** Overflow with 9 datablocks ***\n",
      "*** Overflow with 6 datablocks ***\n",
      "*** Overflow with 6 datablocks ***\n",
      "*** Overflow with 6 datablocks ***\n",
      "*** Overflow with 7 datablocks ***\n"
     ]
    },
    {
     "name": "stderr",
     "output_type": "stream",
     "text": [
      "WARNING:wyrm.types:Discarding data that was longer than the ring buffer.\n"
     ]
    },
    {
     "name": "stdout",
     "output_type": "stream",
     "text": [
      "*** Overflow with 5 datablocks ***\n",
      "*** Overflow with 6 datablocks ***\n",
      "*** Overflow with 7 datablocks ***\n",
      "*** Overflow with 6 datablocks ***\n",
      "sending signal! - 257 False - 14205.504434508415 -- 4.799999999999991\n",
      "*** Overflow with 6 datablocks ***\n",
      "*** Overflow with 6 datablocks ***\n",
      "*** Overflow with 6 datablocks ***\n",
      "*** Overflow with 6 datablocks ***\n",
      "*** Overflow with 8 datablocks ***\n",
      "*** Overflow with 9 datablocks ***\n",
      "*** Overflow with 6 datablocks ***\n",
      "*** Overflow with 5 datablocks ***\n",
      "*** Overflow with 10 datablocks ***\n",
      "*** Overflow with 6 datablocks ***\n",
      "*** Overflow with 6 datablocks ***\n",
      "*** Overflow with 6 datablocks ***\n",
      "*** Overflow with 7 datablocks ***\n",
      "*** Overflow with 7 datablocks ***\n"
     ]
    },
    {
     "name": "stderr",
     "output_type": "stream",
     "text": [
      "WARNING:wyrm.types:Discarding data that was longer than the ring buffer.\n"
     ]
    },
    {
     "name": "stdout",
     "output_type": "stream",
     "text": [
      "*** Overflow with 7 datablocks ***\n",
      "*** Overflow with 6 datablocks ***\n",
      "*** Overflow with 7 datablocks ***\n",
      "*** Overflow with 6 datablocks ***\n",
      "*** Overflow with 5 datablocks ***\n",
      "*** Overflow with 6 datablocks ***\n",
      "*** Overflow with 6 datablocks ***\n",
      "*** Overflow with 6 datablocks ***\n",
      "*** Overflow with 6 datablocks ***\n",
      "*** Overflow with 7 datablocks ***\n",
      "*** Overflow with 6 datablocks ***\n",
      "*** Overflow with 8 datablocks ***\n",
      "*** Overflow with 8 datablocks ***\n",
      "*** Overflow with 4 datablocks ***\n",
      "*** Overflow with 6 datablocks ***\n",
      "*** Overflow with 7 datablocks ***\n",
      "*** Overflow with 5 datablocks ***\n",
      "*** Overflow with 6 datablocks ***\n",
      "*** Overflow with 4 datablocks ***\n",
      "*** Overflow with 6 datablocks ***\n",
      "*** Overflow with 6 datablocks ***\n"
     ]
    },
    {
     "name": "stderr",
     "output_type": "stream",
     "text": [
      "WARNING:wyrm.types:Discarding data that was longer than the ring buffer.\n"
     ]
    },
    {
     "name": "stdout",
     "output_type": "stream",
     "text": [
      "*** Overflow with 5 datablocks ***\n",
      "*** Overflow with 6 datablocks ***\n",
      "*** Overflow with 6 datablocks ***\n",
      "*** Overflow with 5 datablocks ***\n",
      "sending signal! - 259 False - 14506.25599310405 -- 4.849999999999991\n",
      "*** Overflow with 7 datablocks ***\n",
      "*** Overflow with 6 datablocks ***\n",
      "*** Overflow with 5 datablocks ***\n",
      "*** Overflow with 6 datablocks ***\n",
      "*** Overflow with 6 datablocks ***\n",
      "*** Overflow with 8 datablocks ***\n",
      "*** Overflow with 8 datablocks ***\n",
      "*** Overflow with 6 datablocks ***\n",
      "*** Overflow with 8 datablocks ***\n",
      "*** Overflow with 6 datablocks ***\n",
      "*** Overflow with 7 datablocks ***\n",
      "*** Overflow with 6 datablocks ***\n",
      "*** Overflow with 6 datablocks ***\n",
      "*** Overflow with 9 datablocks ***\n",
      "*** Overflow with 6 datablocks ***\n"
     ]
    },
    {
     "name": "stderr",
     "output_type": "stream",
     "text": [
      "WARNING:wyrm.types:Discarding data that was longer than the ring buffer.\n"
     ]
    },
    {
     "name": "stdout",
     "output_type": "stream",
     "text": [
      "*** Overflow with 6 datablocks ***\n",
      "*** Overflow with 6 datablocks ***\n",
      "*** Overflow with 6 datablocks ***\n",
      "*** Overflow with 7 datablocks ***\n",
      "*** Overflow with 5 datablocks ***\n",
      "*** Overflow with 7 datablocks ***\n",
      "*** Overflow with 7 datablocks ***\n",
      "*** Overflow with 4 datablocks ***\n",
      "*** Overflow with 6 datablocks ***\n",
      "*** Overflow with 4 datablocks ***\n",
      "*** Overflow with 7 datablocks ***\n",
      "*** Overflow with 7 datablocks ***\n",
      "*** Overflow with 8 datablocks ***\n",
      "*** Overflow with 6 datablocks ***\n",
      "*** Overflow with 7 datablocks ***\n",
      "*** Overflow with 6 datablocks ***\n",
      "*** Overflow with 6 datablocks ***\n",
      "*** Overflow with 6 datablocks ***\n"
     ]
    },
    {
     "name": "stderr",
     "output_type": "stream",
     "text": [
      "WARNING:wyrm.types:Discarding data that was longer than the ring buffer.\n"
     ]
    },
    {
     "name": "stdout",
     "output_type": "stream",
     "text": [
      "*** Overflow with 7 datablocks ***\n",
      "*** Overflow with 6 datablocks ***\n",
      "*** Overflow with 6 datablocks ***\n",
      "sending signal! - 261 False - 14806.344060353087 -- 4.899999999999991\n",
      "*** Overflow with 7 datablocks ***\n",
      "*** Overflow with 7 datablocks ***\n",
      "*** Overflow with 6 datablocks ***\n",
      "*** Overflow with 6 datablocks ***\n",
      "*** Overflow with 7 datablocks ***\n",
      "*** Overflow with 6 datablocks ***\n",
      "*** Overflow with 7 datablocks ***\n",
      "*** Overflow with 8 datablocks ***\n",
      "*** Overflow with 6 datablocks ***\n",
      "*** Overflow with 5 datablocks ***\n",
      "*** Overflow with 12 datablocks ***\n",
      "*** Overflow with 7 datablocks ***\n"
     ]
    },
    {
     "name": "stderr",
     "output_type": "stream",
     "text": [
      "WARNING:wyrm.types:Discarding data that was longer than the ring buffer.\n"
     ]
    },
    {
     "name": "stdout",
     "output_type": "stream",
     "text": [
      "*** Overflow with 9 datablocks ***\n",
      "*** Overflow with 8 datablocks ***\n",
      "*** Overflow with 9 datablocks ***\n",
      "*** Overflow with 7 datablocks ***\n",
      "*** Overflow with 8 datablocks ***\n",
      "*** Overflow with 5 datablocks ***\n",
      "*** Overflow with 7 datablocks ***\n",
      "*** Overflow with 7 datablocks ***\n",
      "*** Overflow with 6 datablocks ***\n",
      "*** Overflow with 6 datablocks ***\n",
      "*** Overflow with 7 datablocks ***\n",
      "*** Overflow with 5 datablocks ***\n",
      "*** Overflow with 11 datablocks ***\n"
     ]
    },
    {
     "name": "stderr",
     "output_type": "stream",
     "text": [
      "WARNING:wyrm.types:Discarding data that was longer than the ring buffer.\n"
     ]
    },
    {
     "name": "stdout",
     "output_type": "stream",
     "text": [
      "*** Overflow with 7 datablocks ***\n",
      "*** Overflow with 8 datablocks ***\n",
      "*** Overflow with 8 datablocks ***\n",
      "*** Overflow with 7 datablocks ***\n",
      "sending signal! - 263 False - 15197.887276938707 -- 4.94999999999999\n",
      "*** Overflow with 7 datablocks ***\n",
      "*** Overflow with 5 datablocks ***\n",
      "*** Overflow with 7 datablocks ***\n",
      "*** Overflow with 6 datablocks ***\n",
      "*** Overflow with 5 datablocks ***\n",
      "*** Overflow with 9 datablocks ***\n",
      "*** Overflow with 6 datablocks ***\n",
      "*** Overflow with 8 datablocks ***\n",
      "*** Overflow with 13 datablocks ***\n"
     ]
    },
    {
     "name": "stderr",
     "output_type": "stream",
     "text": [
      "WARNING:wyrm.types:Discarding data that was longer than the ring buffer.\n"
     ]
    },
    {
     "name": "stdout",
     "output_type": "stream",
     "text": [
      "*** Overflow with 7 datablocks ***\n",
      "*** Overflow with 5 datablocks ***\n",
      "*** Overflow with 7 datablocks ***\n",
      "*** Overflow with 8 datablocks ***\n",
      "*** Overflow with 7 datablocks ***\n",
      "*** Overflow with 7 datablocks ***\n",
      "*** Overflow with 6 datablocks ***\n",
      "*** Overflow with 6 datablocks ***\n",
      "*** Overflow with 10 datablocks ***\n",
      "*** Overflow with 5 datablocks ***\n",
      "*** Overflow with 5 datablocks ***\n",
      "*** Overflow with 8 datablocks ***\n",
      "*** Overflow with 4 datablocks ***\n",
      "*** Overflow with 6 datablocks ***\n",
      "*** Overflow with 8 datablocks ***\n",
      "*** Overflow with 6 datablocks ***\n"
     ]
    },
    {
     "name": "stderr",
     "output_type": "stream",
     "text": [
      "WARNING:wyrm.types:Discarding data that was longer than the ring buffer.\n"
     ]
    },
    {
     "name": "stdout",
     "output_type": "stream",
     "text": [
      "*** Overflow with 6 datablocks ***\n",
      "*** Overflow with 6 datablocks ***\n",
      "*** Overflow with 4 datablocks ***\n",
      "*** Overflow with 6 datablocks ***\n",
      "*** Overflow with 6 datablocks ***\n",
      "*** Overflow with 5 datablocks ***\n",
      "*** Overflow with 9 datablocks ***\n",
      "*** Overflow with 7 datablocks ***\n",
      "*** Overflow with 7 datablocks ***\n",
      "*** Overflow with 7 datablocks ***\n",
      "*** Overflow with 6 datablocks ***\n",
      "*** Overflow with 9 datablocks ***\n"
     ]
    },
    {
     "name": "stderr",
     "output_type": "stream",
     "text": [
      "WARNING:wyrm.types:Discarding data that was longer than the ring buffer.\n"
     ]
    },
    {
     "name": "stdout",
     "output_type": "stream",
     "text": [
      "*** Overflow with 8 datablocks ***\n",
      "*** Overflow with 10 datablocks ***\n",
      "*** Overflow with 8 datablocks ***\n",
      "*** Overflow with 5 datablocks ***\n",
      "sending signal! - 266 False - 15582.766105761502 -- 4.99999999999999\n",
      "*** Overflow with 7 datablocks ***\n",
      "*** Overflow with 7 datablocks ***\n",
      "*** Overflow with 8 datablocks ***\n",
      "*** Overflow with 8 datablocks ***\n",
      "*** Overflow with 5 datablocks ***\n",
      "*** Overflow with 9 datablocks ***\n",
      "*** Overflow with 8 datablocks ***\n",
      "*** Overflow with 6 datablocks ***\n",
      "*** Overflow with 5 datablocks ***\n",
      "*** Overflow with 6 datablocks ***\n"
     ]
    },
    {
     "name": "stderr",
     "output_type": "stream",
     "text": [
      "WARNING:wyrm.types:Discarding data that was longer than the ring buffer.\n"
     ]
    },
    {
     "name": "stdout",
     "output_type": "stream",
     "text": [
      "*** Overflow with 9 datablocks ***\n",
      "*** Overflow with 5 datablocks ***\n",
      "*** Overflow with 6 datablocks ***\n",
      "*** Overflow with 7 datablocks ***\n",
      "*** Overflow with 5 datablocks ***\n",
      "*** Overflow with 6 datablocks ***\n",
      "*** Overflow with 6 datablocks ***\n",
      "*** Overflow with 5 datablocks ***\n",
      "*** Overflow with 8 datablocks ***\n",
      "*** Overflow with 9 datablocks ***\n",
      "*** Overflow with 6 datablocks ***\n",
      "*** Overflow with 5 datablocks ***\n"
     ]
    },
    {
     "name": "stderr",
     "output_type": "stream",
     "text": [
      "WARNING:wyrm.types:Discarding data that was longer than the ring buffer.\n"
     ]
    },
    {
     "name": "stdout",
     "output_type": "stream",
     "text": [
      "*** Overflow with 10 datablocks ***\n",
      "*** Overflow with 8 datablocks ***\n",
      "*** Overflow with 9 datablocks ***\n",
      "*** Overflow with 8 datablocks ***\n",
      "*** Overflow with 7 datablocks ***\n",
      "*** Overflow with 6 datablocks ***\n",
      "*** Overflow with 6 datablocks ***\n",
      "*** Overflow with 6 datablocks ***\n",
      "*** Overflow with 6 datablocks ***\n",
      "*** Overflow with 11 datablocks ***\n",
      "*** Overflow with 6 datablocks ***\n",
      "*** Overflow with 7 datablocks ***\n",
      "*** Overflow with 11 datablocks ***\n",
      "*** Overflow with 7 datablocks ***\n"
     ]
    },
    {
     "name": "stderr",
     "output_type": "stream",
     "text": [
      "WARNING:wyrm.types:Discarding data that was longer than the ring buffer.\n"
     ]
    },
    {
     "name": "stdout",
     "output_type": "stream",
     "text": [
      "*** Overflow with 6 datablocks ***\n",
      "*** Overflow with 5 datablocks ***\n",
      "sending signal! - 269 False - 15922.540057150436 -- 5.04999999999999\n",
      "*** Overflow with 6 datablocks ***\n",
      "*** Overflow with 6 datablocks ***\n",
      "*** Overflow with 6 datablocks ***\n",
      "*** Overflow with 5 datablocks ***\n",
      "*** Overflow with 6 datablocks ***\n",
      "*** Overflow with 5 datablocks ***\n",
      "*** Overflow with 9 datablocks ***\n",
      "*** Overflow with 4 datablocks ***\n",
      "*** Overflow with 7 datablocks ***\n",
      "*** Overflow with 7 datablocks ***\n",
      "*** Overflow with 12 datablocks ***\n",
      "*** Overflow with 7 datablocks ***\n"
     ]
    },
    {
     "name": "stderr",
     "output_type": "stream",
     "text": [
      "WARNING:wyrm.types:Discarding data that was longer than the ring buffer.\n"
     ]
    },
    {
     "name": "stdout",
     "output_type": "stream",
     "text": [
      "*** Overflow with 6 datablocks ***\n",
      "*** Overflow with 10 datablocks ***\n",
      "*** Overflow with 5 datablocks ***\n",
      "*** Overflow with 8 datablocks ***\n",
      "*** Overflow with 7 datablocks ***\n",
      "*** Overflow with 9 datablocks ***\n",
      "*** Overflow with 6 datablocks ***\n",
      "*** Overflow with 6 datablocks ***\n",
      "*** Overflow with 7 datablocks ***\n",
      "*** Overflow with 10 datablocks ***\n",
      "*** Overflow with 7 datablocks ***\n",
      "*** Overflow with 9 datablocks ***\n"
     ]
    },
    {
     "name": "stderr",
     "output_type": "stream",
     "text": [
      "WARNING:wyrm.types:Discarding data that was longer than the ring buffer.\n"
     ]
    },
    {
     "name": "stdout",
     "output_type": "stream",
     "text": [
      "*** Overflow with 10 datablocks ***\n",
      "*** Overflow with 7 datablocks ***\n",
      "*** Overflow with 7 datablocks ***\n",
      "*** Overflow with 9 datablocks ***\n",
      "*** Overflow with 5 datablocks ***\n",
      "*** Overflow with 7 datablocks ***\n",
      "sending signal! - 271 False - 16282.712013240742 -- 5.09999999999999\n",
      "*** Overflow with 5 datablocks ***\n",
      "*** Overflow with 8 datablocks ***\n",
      "*** Overflow with 6 datablocks ***\n",
      "*** Overflow with 5 datablocks ***\n",
      "*** Overflow with 6 datablocks ***\n",
      "*** Overflow with 7 datablocks ***\n",
      "*** Overflow with 8 datablocks ***\n",
      "*** Overflow with 5 datablocks ***\n"
     ]
    },
    {
     "name": "stderr",
     "output_type": "stream",
     "text": [
      "WARNING:wyrm.types:Discarding data that was longer than the ring buffer.\n"
     ]
    },
    {
     "name": "stdout",
     "output_type": "stream",
     "text": [
      "*** Overflow with 7 datablocks ***\n",
      "*** Overflow with 7 datablocks ***\n",
      "*** Overflow with 5 datablocks ***\n",
      "*** Overflow with 6 datablocks ***\n",
      "*** Overflow with 10 datablocks ***\n",
      "*** Overflow with 8 datablocks ***\n",
      "*** Overflow with 5 datablocks ***\n",
      "*** Overflow with 7 datablocks ***\n",
      "*** Overflow with 8 datablocks ***\n",
      "*** Overflow with 8 datablocks ***\n",
      "*** Overflow with 5 datablocks ***\n",
      "*** Overflow with 6 datablocks ***\n",
      "*** Overflow with 12 datablocks ***\n",
      "*** Overflow with 7 datablocks ***\n"
     ]
    },
    {
     "name": "stderr",
     "output_type": "stream",
     "text": [
      "WARNING:wyrm.types:Discarding data that was longer than the ring buffer.\n"
     ]
    },
    {
     "name": "stdout",
     "output_type": "stream",
     "text": [
      "*** Overflow with 8 datablocks ***\n",
      "*** Overflow with 8 datablocks ***\n",
      "*** Overflow with 8 datablocks ***\n",
      "*** Overflow with 8 datablocks ***\n",
      "*** Overflow with 5 datablocks ***\n",
      "*** Overflow with 6 datablocks ***\n",
      "*** Overflow with 9 datablocks ***\n",
      "*** Overflow with 8 datablocks ***\n",
      "*** Overflow with 6 datablocks ***\n",
      "*** Overflow with 6 datablocks ***\n",
      "*** Overflow with 4 datablocks ***\n",
      "*** Overflow with 6 datablocks ***\n",
      "*** Overflow with 8 datablocks ***\n",
      "*** Overflow with 7 datablocks ***\n",
      "*** Overflow with 5 datablocks ***\n",
      "*** Overflow with 6 datablocks ***\n",
      "*** Overflow with 5 datablocks ***\n"
     ]
    },
    {
     "name": "stderr",
     "output_type": "stream",
     "text": [
      "WARNING:wyrm.types:Discarding data that was longer than the ring buffer.\n"
     ]
    },
    {
     "name": "stdout",
     "output_type": "stream",
     "text": [
      "*** Overflow with 6 datablocks ***\n",
      "*** Overflow with 6 datablocks ***\n",
      "*** Overflow with 5 datablocks ***\n",
      "*** Overflow with 6 datablocks ***\n",
      "sending signal! - 274 False - 16710.73075591828 -- 5.14999999999999\n",
      "*** Overflow with 4 datablocks ***\n",
      "*** Overflow with 6 datablocks ***\n",
      "*** Overflow with 6 datablocks ***\n",
      "*** Overflow with 6 datablocks ***\n",
      "*** Overflow with 6 datablocks ***\n",
      "*** Overflow with 11 datablocks ***\n",
      "*** Overflow with 6 datablocks ***\n",
      "*** Overflow with 6 datablocks ***\n",
      "*** Overflow with 6 datablocks ***\n",
      "*** Overflow with 6 datablocks ***\n",
      "*** Overflow with 5 datablocks ***\n",
      "*** Overflow with 6 datablocks ***\n",
      "*** Overflow with 8 datablocks ***\n"
     ]
    },
    {
     "name": "stderr",
     "output_type": "stream",
     "text": [
      "WARNING:wyrm.types:Discarding data that was longer than the ring buffer.\n"
     ]
    },
    {
     "name": "stdout",
     "output_type": "stream",
     "text": [
      "*** Overflow with 8 datablocks ***\n",
      "*** Overflow with 8 datablocks ***\n",
      "*** Overflow with 5 datablocks ***\n",
      "*** Overflow with 7 datablocks ***\n",
      "*** Overflow with 6 datablocks ***\n",
      "*** Overflow with 6 datablocks ***\n",
      "*** Overflow with 7 datablocks ***\n",
      "*** Overflow with 7 datablocks ***\n",
      "*** Overflow with 6 datablocks ***\n",
      "*** Overflow with 6 datablocks ***\n",
      "*** Overflow with 6 datablocks ***\n",
      "*** Overflow with 5 datablocks ***\n",
      "*** Overflow with 7 datablocks ***\n",
      "*** Overflow with 6 datablocks ***\n",
      "*** Overflow with 7 datablocks ***\n",
      "*** Overflow with 8 datablocks ***\n",
      "*** Overflow with 8 datablocks ***\n"
     ]
    },
    {
     "name": "stderr",
     "output_type": "stream",
     "text": [
      "WARNING:wyrm.types:Discarding data that was longer than the ring buffer.\n"
     ]
    },
    {
     "name": "stdout",
     "output_type": "stream",
     "text": [
      "*** Overflow with 6 datablocks ***\n",
      "*** Overflow with 5 datablocks ***\n",
      "*** Overflow with 6 datablocks ***\n",
      "*** Overflow with 6 datablocks ***\n",
      "*** Overflow with 5 datablocks ***\n",
      "*** Overflow with 5 datablocks ***\n",
      "*** Overflow with 8 datablocks ***\n",
      "sending signal! - 276 False - 17069.946883898137 -- 5.1999999999999895\n",
      "*** Overflow with 5 datablocks ***\n",
      "*** Overflow with 6 datablocks ***\n",
      "*** Overflow with 9 datablocks ***\n",
      "*** Overflow with 5 datablocks ***\n",
      "*** Overflow with 6 datablocks ***\n",
      "*** Overflow with 7 datablocks ***\n",
      "*** Overflow with 6 datablocks ***\n",
      "*** Overflow with 6 datablocks ***\n",
      "*** Overflow with 8 datablocks ***\n",
      "*** Overflow with 6 datablocks ***\n",
      "*** Overflow with 6 datablocks ***\n"
     ]
    },
    {
     "name": "stderr",
     "output_type": "stream",
     "text": [
      "WARNING:wyrm.types:Discarding data that was longer than the ring buffer.\n"
     ]
    },
    {
     "name": "stdout",
     "output_type": "stream",
     "text": [
      "*** Overflow with 6 datablocks ***\n",
      "*** Overflow with 8 datablocks ***\n",
      "*** Overflow with 5 datablocks ***\n",
      "*** Overflow with 7 datablocks ***\n",
      "*** Overflow with 6 datablocks ***\n",
      "*** Overflow with 5 datablocks ***\n",
      "*** Overflow with 7 datablocks ***\n",
      "*** Overflow with 6 datablocks ***\n",
      "*** Overflow with 5 datablocks ***\n",
      "*** Overflow with 9 datablocks ***\n",
      "*** Overflow with 6 datablocks ***\n",
      "*** Overflow with 5 datablocks ***\n",
      "*** Overflow with 6 datablocks ***\n",
      "*** Overflow with 7 datablocks ***\n",
      "*** Overflow with 8 datablocks ***\n",
      "*** Overflow with 6 datablocks ***\n"
     ]
    },
    {
     "name": "stderr",
     "output_type": "stream",
     "text": [
      "WARNING:wyrm.types:Discarding data that was longer than the ring buffer.\n"
     ]
    },
    {
     "name": "stdout",
     "output_type": "stream",
     "text": [
      "*** Overflow with 6 datablocks ***\n",
      "*** Overflow with 4 datablocks ***\n",
      "*** Overflow with 8 datablocks ***\n",
      "*** Overflow with 6 datablocks ***\n",
      "*** Overflow with 4 datablocks ***\n",
      "*** Overflow with 7 datablocks ***\n",
      "*** Overflow with 5 datablocks ***\n",
      "*** Overflow with 6 datablocks ***\n",
      "*** Overflow with 9 datablocks ***\n",
      "*** Overflow with 8 datablocks ***\n",
      "*** Overflow with 5 datablocks ***\n",
      "*** Overflow with 5 datablocks ***\n",
      "*** Overflow with 8 datablocks ***\n",
      "*** Overflow with 10 datablocks ***\n"
     ]
    },
    {
     "name": "stderr",
     "output_type": "stream",
     "text": [
      "WARNING:wyrm.types:Discarding data that was longer than the ring buffer.\n"
     ]
    },
    {
     "name": "stdout",
     "output_type": "stream",
     "text": [
      "*** Overflow with 5 datablocks ***\n",
      "*** Overflow with 7 datablocks ***\n",
      "sending signal! - 279 False - 17401.618106847625 -- 5.249999999999989\n",
      "*** Overflow with 6 datablocks ***\n",
      "*** Overflow with 5 datablocks ***\n",
      "*** Overflow with 6 datablocks ***\n",
      "*** Overflow with 6 datablocks ***\n",
      "*** Overflow with 4 datablocks ***\n",
      "*** Overflow with 8 datablocks ***\n",
      "*** Overflow with 8 datablocks ***\n",
      "*** Overflow with 7 datablocks ***\n"
     ]
    },
    {
     "name": "stderr",
     "output_type": "stream",
     "text": [
      "WARNING:wyrm.types:Discarding data that was longer than the ring buffer.\n"
     ]
    },
    {
     "name": "stdout",
     "output_type": "stream",
     "text": [
      "*** Overflow with 7 datablocks ***\n",
      "*** Overflow with 5 datablocks ***\n",
      "*** Overflow with 10 datablocks ***\n",
      "*** Overflow with 8 datablocks ***\n",
      "*** Overflow with 10 datablocks ***\n",
      "*** Overflow with 8 datablocks ***\n",
      "*** Overflow with 6 datablocks ***\n",
      "*** Overflow with 8 datablocks ***\n",
      "*** Overflow with 8 datablocks ***\n",
      "*** Overflow with 6 datablocks ***\n",
      "*** Overflow with 10 datablocks ***\n",
      "*** Overflow with 8 datablocks ***\n",
      "*** Overflow with 8 datablocks ***\n",
      "*** Overflow with 10 datablocks ***\n"
     ]
    },
    {
     "name": "stderr",
     "output_type": "stream",
     "text": [
      "WARNING:wyrm.types:Discarding data that was longer than the ring buffer.\n"
     ]
    },
    {
     "name": "stdout",
     "output_type": "stream",
     "text": [
      "*** Overflow with 5 datablocks ***\n",
      "*** Overflow with 6 datablocks ***\n",
      "*** Overflow with 7 datablocks ***\n",
      "*** Overflow with 5 datablocks ***\n",
      "*** Overflow with 5 datablocks ***\n",
      "*** Overflow with 5 datablocks ***\n",
      "*** Overflow with 6 datablocks ***\n",
      "*** Overflow with 12 datablocks ***\n",
      "*** Overflow with 5 datablocks ***\n",
      "*** Overflow with 6 datablocks ***\n",
      "*** Overflow with 6 datablocks ***\n",
      "*** Overflow with 5 datablocks ***\n",
      "*** Overflow with 12 datablocks ***\n"
     ]
    },
    {
     "name": "stderr",
     "output_type": "stream",
     "text": [
      "WARNING:wyrm.types:Discarding data that was longer than the ring buffer.\n"
     ]
    },
    {
     "name": "stdout",
     "output_type": "stream",
     "text": [
      "*** Overflow with 6 datablocks ***\n",
      "*** Overflow with 7 datablocks ***\n",
      "sending signal! - 282 False - 17839.672962703284 -- 5.299999999999989\n",
      "*** Overflow with 7 datablocks ***\n",
      "*** Overflow with 9 datablocks ***\n",
      "*** Overflow with 6 datablocks ***\n",
      "*** Overflow with 6 datablocks ***\n",
      "*** Overflow with 7 datablocks ***\n",
      "*** Overflow with 6 datablocks ***\n",
      "*** Overflow with 8 datablocks ***\n",
      "*** Overflow with 7 datablocks ***\n",
      "*** Overflow with 8 datablocks ***\n",
      "*** Overflow with 7 datablocks ***\n",
      "*** Overflow with 10 datablocks ***\n"
     ]
    },
    {
     "name": "stderr",
     "output_type": "stream",
     "text": [
      "WARNING:wyrm.types:Discarding data that was longer than the ring buffer.\n"
     ]
    },
    {
     "name": "stdout",
     "output_type": "stream",
     "text": [
      "*** Overflow with 8 datablocks ***\n",
      "*** Overflow with 8 datablocks ***\n",
      "*** Overflow with 8 datablocks ***\n",
      "*** Overflow with 7 datablocks ***\n",
      "*** Overflow with 8 datablocks ***\n",
      "*** Overflow with 7 datablocks ***\n",
      "*** Overflow with 6 datablocks ***\n",
      "*** Overflow with 7 datablocks ***\n",
      "*** Overflow with 9 datablocks ***\n",
      "*** Overflow with 6 datablocks ***\n",
      "*** Overflow with 5 datablocks ***\n",
      "*** Overflow with 5 datablocks ***\n",
      "*** Overflow with 5 datablocks ***\n",
      "*** Overflow with 10 datablocks ***\n"
     ]
    },
    {
     "name": "stderr",
     "output_type": "stream",
     "text": [
      "WARNING:wyrm.types:Discarding data that was longer than the ring buffer.\n"
     ]
    },
    {
     "name": "stdout",
     "output_type": "stream",
     "text": [
      "*** Overflow with 6 datablocks ***\n",
      "*** Overflow with 5 datablocks ***\n",
      "*** Overflow with 6 datablocks ***\n",
      "*** Overflow with 6 datablocks ***\n",
      "*** Overflow with 6 datablocks ***\n",
      "*** Overflow with 5 datablocks ***\n",
      "sending signal! - 284 False - 18245.933889076336 -- 5.349999999999989\n",
      "*** Overflow with 8 datablocks ***\n",
      "*** Overflow with 6 datablocks ***\n",
      "*** Overflow with 6 datablocks ***\n",
      "*** Overflow with 11 datablocks ***\n",
      "*** Overflow with 5 datablocks ***\n",
      "*** Overflow with 8 datablocks ***\n",
      "*** Overflow with 10 datablocks ***\n",
      "*** Overflow with 7 datablocks ***\n",
      "*** Overflow with 6 datablocks ***\n"
     ]
    },
    {
     "name": "stderr",
     "output_type": "stream",
     "text": [
      "WARNING:wyrm.types:Discarding data that was longer than the ring buffer.\n"
     ]
    },
    {
     "name": "stdout",
     "output_type": "stream",
     "text": [
      "*** Overflow with 7 datablocks ***\n",
      "*** Overflow with 5 datablocks ***\n",
      "*** Overflow with 7 datablocks ***\n",
      "*** Overflow with 8 datablocks ***\n",
      "*** Overflow with 8 datablocks ***\n",
      "*** Overflow with 7 datablocks ***\n",
      "*** Overflow with 6 datablocks ***\n",
      "*** Overflow with 5 datablocks ***\n",
      "*** Overflow with 8 datablocks ***\n",
      "*** Overflow with 8 datablocks ***\n",
      "*** Overflow with 4 datablocks ***\n",
      "*** Overflow with 6 datablocks ***\n",
      "*** Overflow with 11 datablocks ***\n",
      "*** Overflow with 7 datablocks ***\n",
      "*** Overflow with 5 datablocks ***\n",
      "*** Overflow with 5 datablocks ***\n",
      "*** Overflow with 6 datablocks ***\n",
      "*** Overflow with 5 datablocks ***\n"
     ]
    },
    {
     "name": "stderr",
     "output_type": "stream",
     "text": [
      "WARNING:wyrm.types:Discarding data that was longer than the ring buffer.\n"
     ]
    },
    {
     "name": "stdout",
     "output_type": "stream",
     "text": [
      "*** Overflow with 7 datablocks ***\n",
      "*** Overflow with 4 datablocks ***\n",
      "*** Overflow with 5 datablocks ***\n",
      "*** Overflow with 6 datablocks ***\n",
      "*** Overflow with 5 datablocks ***\n",
      "*** Overflow with 6 datablocks ***\n",
      "*** Overflow with 6 datablocks ***\n",
      "*** Overflow with 6 datablocks ***\n",
      "*** Overflow with 7 datablocks ***\n",
      "*** Overflow with 6 datablocks ***\n",
      "*** Overflow with 5 datablocks ***\n",
      "*** Overflow with 6 datablocks ***\n",
      "*** Overflow with 9 datablocks ***\n",
      "*** Overflow with 8 datablocks ***\n",
      "*** Overflow with 11 datablocks ***\n",
      "*** Overflow with 6 datablocks ***\n",
      "*** Overflow with 5 datablocks ***\n",
      "*** Overflow with 5 datablocks ***\n",
      "*** Overflow with 5 datablocks ***\n"
     ]
    },
    {
     "name": "stderr",
     "output_type": "stream",
     "text": [
      "WARNING:wyrm.types:Discarding data that was longer than the ring buffer.\n"
     ]
    },
    {
     "name": "stdout",
     "output_type": "stream",
     "text": [
      "*** Overflow with 6 datablocks ***\n",
      "*** Overflow with 4 datablocks ***\n",
      "*** Overflow with 6 datablocks ***\n",
      "*** Overflow with 7 datablocks ***\n",
      "sending signal! - 287 False - 18667.5115583245 -- 5.399999999999989\n",
      "*** Overflow with 5 datablocks ***\n",
      "*** Overflow with 6 datablocks ***\n",
      "*** Overflow with 4 datablocks ***\n",
      "*** Overflow with 8 datablocks ***\n",
      "*** Overflow with 8 datablocks ***\n",
      "*** Overflow with 6 datablocks ***\n",
      "*** Overflow with 5 datablocks ***\n",
      "*** Overflow with 6 datablocks ***\n",
      "*** Overflow with 6 datablocks ***\n",
      "*** Overflow with 11 datablocks ***\n",
      "*** Overflow with 6 datablocks ***\n",
      "*** Overflow with 6 datablocks ***\n",
      "*** Overflow with 6 datablocks ***\n",
      "*** Overflow with 5 datablocks ***\n",
      "*** Overflow with 6 datablocks ***\n"
     ]
    },
    {
     "name": "stderr",
     "output_type": "stream",
     "text": [
      "WARNING:wyrm.types:Discarding data that was longer than the ring buffer.\n"
     ]
    },
    {
     "name": "stdout",
     "output_type": "stream",
     "text": [
      "*** Overflow with 6 datablocks ***\n",
      "*** Overflow with 5 datablocks ***\n",
      "*** Overflow with 6 datablocks ***\n",
      "*** Overflow with 5 datablocks ***\n",
      "*** Overflow with 6 datablocks ***\n",
      "*** Overflow with 6 datablocks ***\n",
      "*** Overflow with 5 datablocks ***\n",
      "*** Overflow with 7 datablocks ***\n",
      "*** Overflow with 4 datablocks ***\n",
      "*** Overflow with 12 datablocks ***\n",
      "*** Overflow with 6 datablocks ***\n",
      "*** Overflow with 8 datablocks ***\n",
      "*** Overflow with 8 datablocks ***\n",
      "*** Overflow with 9 datablocks ***\n",
      "*** Overflow with 7 datablocks ***\n",
      "*** Overflow with 6 datablocks ***\n",
      "*** Overflow with 4 datablocks ***\n",
      "*** Overflow with 6 datablocks ***\n",
      "*** Overflow with 6 datablocks ***\n"
     ]
    },
    {
     "name": "stderr",
     "output_type": "stream",
     "text": [
      "WARNING:wyrm.types:Discarding data that was longer than the ring buffer.\n"
     ]
    },
    {
     "name": "stdout",
     "output_type": "stream",
     "text": [
      "*** Overflow with 6 datablocks ***\n",
      "*** Overflow with 6 datablocks ***\n",
      "*** Overflow with 5 datablocks ***\n",
      "*** Overflow with 6 datablocks ***\n",
      "sending signal! - 289 False - 19050.049655808853 -- 5.449999999999989\n",
      "*** Overflow with 5 datablocks ***\n",
      "*** Overflow with 8 datablocks ***\n",
      "*** Overflow with 7 datablocks ***\n",
      "*** Overflow with 5 datablocks ***\n",
      "*** Overflow with 10 datablocks ***\n",
      "*** Overflow with 7 datablocks ***\n",
      "*** Overflow with 6 datablocks ***\n",
      "*** Overflow with 6 datablocks ***\n",
      "*** Overflow with 6 datablocks ***\n"
     ]
    },
    {
     "name": "stderr",
     "output_type": "stream",
     "text": [
      "WARNING:wyrm.types:Discarding data that was longer than the ring buffer.\n"
     ]
    },
    {
     "name": "stdout",
     "output_type": "stream",
     "text": [
      "*** Overflow with 11 datablocks ***\n",
      "*** Overflow with 5 datablocks ***\n",
      "*** Overflow with 7 datablocks ***\n",
      "*** Overflow with 12 datablocks ***\n",
      "*** Overflow with 8 datablocks ***\n",
      "*** Overflow with 9 datablocks ***\n",
      "*** Overflow with 5 datablocks ***\n",
      "*** Overflow with 7 datablocks ***\n",
      "*** Overflow with 6 datablocks ***\n",
      "*** Overflow with 8 datablocks ***\n",
      "*** Overflow with 6 datablocks ***\n",
      "*** Overflow with 7 datablocks ***\n",
      "*** Overflow with 9 datablocks ***\n"
     ]
    },
    {
     "name": "stderr",
     "output_type": "stream",
     "text": [
      "WARNING:wyrm.types:Discarding data that was longer than the ring buffer.\n"
     ]
    },
    {
     "name": "stdout",
     "output_type": "stream",
     "text": [
      "*** Overflow with 8 datablocks ***\n",
      "*** Overflow with 6 datablocks ***\n",
      "*** Overflow with 6 datablocks ***\n",
      "*** Overflow with 6 datablocks ***\n",
      "*** Overflow with 7 datablocks ***\n",
      "*** Overflow with 5 datablocks ***\n",
      "*** Overflow with 6 datablocks ***\n",
      "*** Overflow with 7 datablocks ***\n",
      "*** Overflow with 5 datablocks ***\n",
      "*** Overflow with 14 datablocks ***\n",
      "*** Overflow with 6 datablocks ***\n",
      "*** Overflow with 8 datablocks ***\n",
      "*** Overflow with 8 datablocks ***\n",
      "*** Overflow with 7 datablocks ***\n"
     ]
    },
    {
     "name": "stderr",
     "output_type": "stream",
     "text": [
      "WARNING:wyrm.types:Discarding data that was longer than the ring buffer.\n"
     ]
    },
    {
     "name": "stdout",
     "output_type": "stream",
     "text": [
      "*** Overflow with 9 datablocks ***\n",
      "*** Overflow with 8 datablocks ***\n",
      "*** Overflow with 6 datablocks ***\n",
      "*** Overflow with 8 datablocks ***\n",
      "sending signal! - 292 False - 19425.28706380519 -- 5.4999999999999885\n",
      "*** Overflow with 6 datablocks ***\n",
      "*** Overflow with 7 datablocks ***\n",
      "*** Overflow with 7 datablocks ***\n",
      "*** Overflow with 6 datablocks ***\n",
      "*** Overflow with 8 datablocks ***\n",
      "*** Overflow with 8 datablocks ***\n",
      "FLIPPING/GOING THE THE MIDDLE AGAIN\n",
      "*** Overflow with 8 datablocks ***\n",
      "*** Overflow with 7 datablocks ***\n",
      "*** Overflow with 5 datablocks ***\n",
      "*** Overflow with 8 datablocks ***\n",
      "*** Overflow with 6 datablocks ***\n",
      "*** Overflow with 6 datablocks ***\n"
     ]
    },
    {
     "name": "stderr",
     "output_type": "stream",
     "text": [
      "WARNING:wyrm.types:Discarding data that was longer than the ring buffer.\n"
     ]
    },
    {
     "name": "stdout",
     "output_type": "stream",
     "text": [
      "*** Overflow with 6 datablocks ***\n",
      "*** Overflow with 6 datablocks ***\n",
      "*** Overflow with 7 datablocks ***\n",
      "*** Overflow with 7 datablocks ***\n",
      "*** Overflow with 8 datablocks ***\n",
      "*** Overflow with 8 datablocks ***\n",
      "*** Overflow with 11 datablocks ***\n",
      "*** Overflow with 7 datablocks ***\n",
      "*** Overflow with 6 datablocks ***\n",
      "*** Overflow with 6 datablocks ***\n",
      "*** Overflow with 6 datablocks ***\n",
      "*** Overflow with 6 datablocks ***\n",
      "*** Overflow with 6 datablocks ***\n",
      "*** Overflow with 7 datablocks ***\n"
     ]
    },
    {
     "name": "stderr",
     "output_type": "stream",
     "text": [
      "WARNING:wyrm.types:Discarding data that was longer than the ring buffer.\n"
     ]
    },
    {
     "name": "stdout",
     "output_type": "stream",
     "text": [
      "*** Overflow with 6 datablocks ***\n",
      "*** Overflow with 10 datablocks ***\n",
      "*** Overflow with 7 datablocks ***\n",
      "*** Overflow with 7 datablocks ***\n",
      "*** Overflow with 9 datablocks ***\n",
      "*** Overflow with 7 datablocks ***\n",
      "*** Overflow with 6 datablocks ***\n",
      "*** Overflow with 7 datablocks ***\n",
      "*** Overflow with 6 datablocks ***\n",
      "*** Overflow with 7 datablocks ***\n",
      "*** Overflow with 9 datablocks ***\n",
      "*** Overflow with 5 datablocks ***\n",
      "*** Overflow with 9 datablocks ***\n",
      "*** Overflow with 6 datablocks ***\n"
     ]
    },
    {
     "name": "stderr",
     "output_type": "stream",
     "text": [
      "WARNING:wyrm.types:Discarding data that was longer than the ring buffer.\n"
     ]
    },
    {
     "name": "stdout",
     "output_type": "stream",
     "text": [
      "*** Overflow with 6 datablocks ***\n",
      "*** Overflow with 6 datablocks ***\n",
      "*** Overflow with 10 datablocks ***\n",
      "sending signal! - 295 False - 19866.935539497892 -- 5.549999999999988\n",
      "*** Overflow with 7 datablocks ***\n",
      "*** Overflow with 8 datablocks ***\n",
      "*** Overflow with 7 datablocks ***\n",
      "*** Overflow with 5 datablocks ***\n",
      "*** Overflow with 6 datablocks ***\n",
      "*** Overflow with 5 datablocks ***\n",
      "*** Overflow with 9 datablocks ***\n",
      "*** Overflow with 7 datablocks ***\n",
      "*** Overflow with 6 datablocks ***\n",
      "*** Overflow with 5 datablocks ***\n",
      "*** Overflow with 7 datablocks ***\n",
      "*** Overflow with 7 datablocks ***\n",
      "*** Overflow with 7 datablocks ***\n",
      "*** Overflow with 6 datablocks ***\n",
      "*** Overflow with 6 datablocks ***\n"
     ]
    },
    {
     "name": "stderr",
     "output_type": "stream",
     "text": [
      "WARNING:wyrm.types:Discarding data that was longer than the ring buffer.\n"
     ]
    },
    {
     "name": "stdout",
     "output_type": "stream",
     "text": [
      "*** Overflow with 6 datablocks ***\n",
      "*** Overflow with 6 datablocks ***\n",
      "*** Overflow with 6 datablocks ***\n",
      "*** Overflow with 6 datablocks ***\n",
      "*** Overflow with 6 datablocks ***\n",
      "*** Overflow with 6 datablocks ***\n",
      "*** Overflow with 6 datablocks ***\n",
      "*** Overflow with 7 datablocks ***\n",
      "*** Overflow with 7 datablocks ***\n",
      "*** Overflow with 7 datablocks ***\n",
      "*** Overflow with 6 datablocks ***\n",
      "*** Overflow with 6 datablocks ***\n",
      "*** Overflow with 7 datablocks ***\n",
      "*** Overflow with 10 datablocks ***\n",
      "*** Overflow with 8 datablocks ***\n"
     ]
    },
    {
     "name": "stderr",
     "output_type": "stream",
     "text": [
      "WARNING:wyrm.types:Discarding data that was longer than the ring buffer.\n"
     ]
    },
    {
     "name": "stdout",
     "output_type": "stream",
     "text": [
      "*** Overflow with 7 datablocks ***\n",
      "*** Overflow with 6 datablocks ***\n",
      "*** Overflow with 7 datablocks ***\n",
      "*** Overflow with 6 datablocks ***\n",
      "*** Overflow with 6 datablocks ***\n",
      "*** Overflow with 8 datablocks ***\n",
      "*** Overflow with 6 datablocks ***\n",
      "sending signal! - 297 False - 20227.1730679813 -- 5.599999999999988\n",
      "*** Overflow with 5 datablocks ***\n",
      "*** Overflow with 11 datablocks ***\n",
      "*** Overflow with 6 datablocks ***\n",
      "*** Overflow with 7 datablocks ***\n",
      "*** Overflow with 7 datablocks ***\n",
      "*** Overflow with 5 datablocks ***\n",
      "*** Overflow with 9 datablocks ***\n",
      "*** Overflow with 6 datablocks ***\n",
      "*** Overflow with 6 datablocks ***\n"
     ]
    },
    {
     "name": "stderr",
     "output_type": "stream",
     "text": [
      "WARNING:wyrm.types:Discarding data that was longer than the ring buffer.\n"
     ]
    },
    {
     "name": "stdout",
     "output_type": "stream",
     "text": [
      "*** Overflow with 5 datablocks ***\n",
      "*** Overflow with 7 datablocks ***\n",
      "*** Overflow with 7 datablocks ***\n",
      "*** Overflow with 5 datablocks ***\n",
      "*** Overflow with 8 datablocks ***\n",
      "*** Overflow with 6 datablocks ***\n",
      "*** Overflow with 6 datablocks ***\n",
      "*** Overflow with 6 datablocks ***\n",
      "*** Overflow with 6 datablocks ***\n",
      "*** Overflow with 7 datablocks ***\n",
      "*** Overflow with 6 datablocks ***\n",
      "*** Overflow with 9 datablocks ***\n",
      "*** Overflow with 8 datablocks ***\n",
      "*** Overflow with 10 datablocks ***\n",
      "*** Overflow with 8 datablocks ***\n",
      "*** Overflow with 6 datablocks ***\n"
     ]
    },
    {
     "name": "stderr",
     "output_type": "stream",
     "text": [
      "WARNING:wyrm.types:Discarding data that was longer than the ring buffer.\n"
     ]
    },
    {
     "name": "stdout",
     "output_type": "stream",
     "text": [
      "*** Overflow with 6 datablocks ***\n",
      "*** Overflow with 6 datablocks ***\n",
      "*** Overflow with 7 datablocks ***\n",
      "*** Overflow with 6 datablocks ***\n",
      "*** Overflow with 8 datablocks ***\n",
      "*** Overflow with 7 datablocks ***\n",
      "*** Overflow with 8 datablocks ***\n",
      "*** Overflow with 7 datablocks ***\n",
      "*** Overflow with 5 datablocks ***\n",
      "*** Overflow with 6 datablocks ***\n",
      "*** Overflow with 5 datablocks ***\n",
      "*** Overflow with 7 datablocks ***\n",
      "*** Overflow with 7 datablocks ***\n",
      "*** Overflow with 8 datablocks ***\n",
      "*** Overflow with 9 datablocks ***\n"
     ]
    },
    {
     "name": "stderr",
     "output_type": "stream",
     "text": [
      "WARNING:wyrm.types:Discarding data that was longer than the ring buffer.\n"
     ]
    },
    {
     "name": "stdout",
     "output_type": "stream",
     "text": [
      "*** Overflow with 5 datablocks ***\n",
      "*** Overflow with 7 datablocks ***\n",
      "*** Overflow with 6 datablocks ***\n",
      "*** Overflow with 6 datablocks ***\n",
      "sending signal! - 300 False - 20621.873394605765 -- 5.649999999999988\n",
      "*** Overflow with 6 datablocks ***\n",
      "*** Overflow with 6 datablocks ***\n",
      "*** Overflow with 6 datablocks ***\n",
      "*** Overflow with 6 datablocks ***\n",
      "*** Overflow with 7 datablocks ***\n",
      "*** Overflow with 9 datablocks ***\n",
      "*** Overflow with 4 datablocks ***\n",
      "*** Overflow with 6 datablocks ***\n",
      "*** Overflow with 7 datablocks ***\n",
      "*** Overflow with 7 datablocks ***\n",
      "*** Overflow with 8 datablocks ***\n"
     ]
    },
    {
     "name": "stderr",
     "output_type": "stream",
     "text": [
      "WARNING:wyrm.types:Discarding data that was longer than the ring buffer.\n"
     ]
    },
    {
     "name": "stdout",
     "output_type": "stream",
     "text": [
      "*** Overflow with 6 datablocks ***\n",
      "*** Overflow with 5 datablocks ***\n",
      "*** Overflow with 7 datablocks ***\n",
      "*** Overflow with 9 datablocks ***\n",
      "*** Overflow with 7 datablocks ***\n",
      "*** Overflow with 8 datablocks ***\n",
      "*** Overflow with 6 datablocks ***\n",
      "*** Overflow with 6 datablocks ***\n",
      "*** Overflow with 9 datablocks ***\n",
      "*** Overflow with 5 datablocks ***\n",
      "*** Overflow with 6 datablocks ***\n",
      "*** Overflow with 8 datablocks ***\n",
      "*** Overflow with 8 datablocks ***\n"
     ]
    },
    {
     "name": "stderr",
     "output_type": "stream",
     "text": [
      "WARNING:wyrm.types:Discarding data that was longer than the ring buffer.\n"
     ]
    },
    {
     "name": "stdout",
     "output_type": "stream",
     "text": [
      "*** Overflow with 10 datablocks ***\n",
      "*** Overflow with 7 datablocks ***\n",
      "*** Overflow with 7 datablocks ***\n",
      "*** Overflow with 6 datablocks ***\n",
      "*** Overflow with 7 datablocks ***\n",
      "*** Overflow with 8 datablocks ***\n",
      "*** Overflow with 8 datablocks ***\n",
      "*** Overflow with 6 datablocks ***\n",
      "*** Overflow with 7 datablocks ***\n",
      "*** Overflow with 7 datablocks ***\n",
      "*** Overflow with 5 datablocks ***\n",
      "*** Overflow with 6 datablocks ***\n",
      "*** Overflow with 9 datablocks ***\n",
      "*** Overflow with 7 datablocks ***\n"
     ]
    },
    {
     "name": "stderr",
     "output_type": "stream",
     "text": [
      "WARNING:wyrm.types:Discarding data that was longer than the ring buffer.\n"
     ]
    },
    {
     "name": "stdout",
     "output_type": "stream",
     "text": [
      "*** Overflow with 5 datablocks ***\n",
      "*** Overflow with 7 datablocks ***\n",
      "*** Overflow with 6 datablocks ***\n",
      "sending signal! - 303 False - 21081.678065393284 -- 5.699999999999988\n",
      "*** Overflow with 7 datablocks ***\n",
      "*** Overflow with 5 datablocks ***\n",
      "*** Overflow with 6 datablocks ***\n",
      "*** Overflow with 6 datablocks ***\n",
      "*** Overflow with 7 datablocks ***\n",
      "*** Overflow with 7 datablocks ***\n",
      "*** Overflow with 6 datablocks ***\n",
      "*** Overflow with 6 datablocks ***\n",
      "*** Overflow with 9 datablocks ***\n",
      "*** Overflow with 12 datablocks ***\n",
      "*** Overflow with 6 datablocks ***\n",
      "*** Overflow with 6 datablocks ***\n",
      "*** Overflow with 5 datablocks ***\n"
     ]
    },
    {
     "name": "stderr",
     "output_type": "stream",
     "text": [
      "WARNING:wyrm.types:Discarding data that was longer than the ring buffer.\n"
     ]
    },
    {
     "name": "stdout",
     "output_type": "stream",
     "text": [
      "*** Overflow with 8 datablocks ***\n",
      "*** Overflow with 6 datablocks ***\n",
      "*** Overflow with 6 datablocks ***\n",
      "*** Overflow with 6 datablocks ***\n",
      "*** Overflow with 7 datablocks ***\n",
      "*** Overflow with 7 datablocks ***\n",
      "*** Overflow with 5 datablocks ***\n",
      "*** Overflow with 7 datablocks ***\n",
      "*** Overflow with 6 datablocks ***\n",
      "*** Overflow with 6 datablocks ***\n",
      "*** Overflow with 6 datablocks ***\n",
      "*** Overflow with 8 datablocks ***\n",
      "*** Overflow with 8 datablocks ***\n",
      "*** Overflow with 10 datablocks ***\n"
     ]
    },
    {
     "name": "stderr",
     "output_type": "stream",
     "text": [
      "WARNING:wyrm.types:Discarding data that was longer than the ring buffer.\n"
     ]
    },
    {
     "name": "stdout",
     "output_type": "stream",
     "text": [
      "*** Overflow with 5 datablocks ***\n",
      "*** Overflow with 7 datablocks ***\n",
      "*** Overflow with 8 datablocks ***\n",
      "*** Overflow with 8 datablocks ***\n",
      "*** Overflow with 5 datablocks ***\n",
      "*** Overflow with 6 datablocks ***\n",
      "*** Overflow with 6 datablocks ***\n",
      "*** Overflow with 4 datablocks ***\n",
      "*** Overflow with 7 datablocks ***\n",
      "*** Overflow with 3 datablocks ***\n",
      "*** Overflow with 6 datablocks ***\n",
      "*** Overflow with 7 datablocks ***\n",
      "*** Overflow with 9 datablocks ***\n",
      "*** Overflow with 6 datablocks ***\n",
      "*** Overflow with 6 datablocks ***\n"
     ]
    },
    {
     "name": "stderr",
     "output_type": "stream",
     "text": [
      "WARNING:wyrm.types:Discarding data that was longer than the ring buffer.\n"
     ]
    },
    {
     "name": "stdout",
     "output_type": "stream",
     "text": [
      "*** Overflow with 7 datablocks ***\n",
      "*** Overflow with 5 datablocks ***\n",
      "sending signal! - 306 False - 21525.728592962616 -- 5.749999999999988\n",
      "*** Overflow with 7 datablocks ***\n",
      "*** Overflow with 6 datablocks ***\n",
      "*** Overflow with 6 datablocks ***\n",
      "*** Overflow with 6 datablocks ***\n",
      "*** Overflow with 6 datablocks ***\n",
      "*** Overflow with 6 datablocks ***\n",
      "*** Overflow with 6 datablocks ***\n",
      "*** Overflow with 9 datablocks ***\n",
      "*** Overflow with 15 datablocks ***\n",
      "*** Overflow with 12 datablocks ***\n",
      "*** Overflow with 8 datablocks ***\n"
     ]
    },
    {
     "name": "stderr",
     "output_type": "stream",
     "text": [
      "WARNING:wyrm.types:Discarding data that was longer than the ring buffer.\n"
     ]
    },
    {
     "name": "stdout",
     "output_type": "stream",
     "text": [
      "*** Overflow with 10 datablocks ***\n",
      "*** Overflow with 10 datablocks ***\n",
      "*** Overflow with 7 datablocks ***\n",
      "*** Overflow with 6 datablocks ***\n",
      "*** Overflow with 6 datablocks ***\n",
      "*** Overflow with 6 datablocks ***\n",
      "*** Overflow with 6 datablocks ***\n",
      "*** Overflow with 7 datablocks ***\n",
      "*** Overflow with 7 datablocks ***\n",
      "*** Overflow with 9 datablocks ***\n",
      "*** Overflow with 5 datablocks ***\n",
      "*** Overflow with 5 datablocks ***\n",
      "*** Overflow with 4 datablocks ***\n",
      "*** Overflow with 6 datablocks ***\n",
      "*** Overflow with 6 datablocks ***\n",
      "*** Overflow with 4 datablocks ***\n"
     ]
    },
    {
     "name": "stderr",
     "output_type": "stream",
     "text": [
      "WARNING:wyrm.types:Discarding data that was longer than the ring buffer.\n"
     ]
    },
    {
     "name": "stdout",
     "output_type": "stream",
     "text": [
      "*** Overflow with 6 datablocks ***\n",
      "*** Overflow with 5 datablocks ***\n",
      "*** Overflow with 5 datablocks ***\n",
      "*** Overflow with 5 datablocks ***\n",
      "*** Overflow with 5 datablocks ***\n",
      "*** Overflow with 8 datablocks ***\n",
      "sending signal! - 308 False - 21923.165522374962 -- 5.799999999999987\n",
      "*** Overflow with 8 datablocks ***\n",
      "*** Overflow with 7 datablocks ***\n",
      "*** Overflow with 6 datablocks ***\n",
      "*** Overflow with 7 datablocks ***\n",
      "*** Overflow with 5 datablocks ***\n",
      "*** Overflow with 7 datablocks ***\n"
     ]
    },
    {
     "name": "stderr",
     "output_type": "stream",
     "text": [
      "WARNING:wyrm.types:Discarding data that was longer than the ring buffer.\n"
     ]
    },
    {
     "name": "stdout",
     "output_type": "stream",
     "text": [
      "*** Overflow with 6 datablocks ***\n",
      "*** Overflow with 9 datablocks ***\n",
      "*** Overflow with 9 datablocks ***\n",
      "*** Overflow with 6 datablocks ***\n",
      "*** Overflow with 9 datablocks ***\n",
      "*** Overflow with 8 datablocks ***\n",
      "*** Overflow with 6 datablocks ***\n",
      "*** Overflow with 5 datablocks ***\n",
      "*** Overflow with 5 datablocks ***\n",
      "*** Overflow with 7 datablocks ***\n",
      "*** Overflow with 9 datablocks ***\n",
      "*** Overflow with 9 datablocks ***\n",
      "*** Overflow with 8 datablocks ***\n",
      "*** Overflow with 7 datablocks ***\n"
     ]
    },
    {
     "name": "stderr",
     "output_type": "stream",
     "text": [
      "WARNING:wyrm.types:Discarding data that was longer than the ring buffer.\n"
     ]
    },
    {
     "name": "stdout",
     "output_type": "stream",
     "text": [
      "*** Overflow with 9 datablocks ***\n",
      "*** Overflow with 6 datablocks ***\n",
      "*** Overflow with 9 datablocks ***\n",
      "*** Overflow with 7 datablocks ***\n",
      "*** Overflow with 5 datablocks ***\n",
      "*** Overflow with 6 datablocks ***\n",
      "*** Overflow with 7 datablocks ***\n",
      "*** Overflow with 5 datablocks ***\n",
      "*** Overflow with 9 datablocks ***\n",
      "*** Overflow with 8 datablocks ***\n",
      "*** Overflow with 10 datablocks ***\n",
      "*** Overflow with 6 datablocks ***\n",
      "*** Overflow with 7 datablocks ***\n",
      "*** Overflow with 8 datablocks ***\n",
      "*** Overflow with 6 datablocks ***\n"
     ]
    },
    {
     "name": "stderr",
     "output_type": "stream",
     "text": [
      "WARNING:wyrm.types:Discarding data that was longer than the ring buffer.\n"
     ]
    },
    {
     "name": "stdout",
     "output_type": "stream",
     "text": [
      "*** Overflow with 7 datablocks ***\n",
      "*** Overflow with 5 datablocks ***\n",
      "*** Overflow with 8 datablocks ***\n",
      "*** Overflow with 5 datablocks ***\n",
      "*** Overflow with 9 datablocks ***\n",
      "*** Overflow with 5 datablocks ***\n",
      "*** Overflow with 7 datablocks ***\n",
      "*** Overflow with 6 datablocks ***\n",
      "*** Overflow with 6 datablocks ***\n",
      "*** Overflow with 8 datablocks ***\n",
      "*** Overflow with 7 datablocks ***\n",
      "*** Overflow with 6 datablocks ***\n",
      "*** Overflow with 5 datablocks ***\n",
      "*** Overflow with 7 datablocks ***\n"
     ]
    },
    {
     "name": "stderr",
     "output_type": "stream",
     "text": [
      "WARNING:wyrm.types:Discarding data that was longer than the ring buffer.\n"
     ]
    },
    {
     "name": "stdout",
     "output_type": "stream",
     "text": [
      "*** Overflow with 7 datablocks ***\n",
      "sending signal! - 312 False - 22335.31265941844 -- 5.849999999999987\n",
      "*** Overflow with 6 datablocks ***\n",
      "*** Overflow with 9 datablocks ***\n",
      "*** Overflow with 6 datablocks ***\n",
      "*** Overflow with 6 datablocks ***\n",
      "*** Overflow with 9 datablocks ***\n",
      "*** Overflow with 8 datablocks ***\n",
      "*** Overflow with 7 datablocks ***\n",
      "*** Overflow with 9 datablocks ***\n",
      "*** Overflow with 8 datablocks ***\n"
     ]
    },
    {
     "name": "stderr",
     "output_type": "stream",
     "text": [
      "WARNING:wyrm.types:Discarding data that was longer than the ring buffer.\n"
     ]
    },
    {
     "name": "stdout",
     "output_type": "stream",
     "text": [
      "*** Overflow with 5 datablocks ***\n",
      "*** Overflow with 8 datablocks ***\n",
      "*** Overflow with 11 datablocks ***\n",
      "*** Overflow with 6 datablocks ***\n",
      "*** Overflow with 7 datablocks ***\n",
      "*** Overflow with 7 datablocks ***\n",
      "*** Overflow with 6 datablocks ***\n",
      "*** Overflow with 5 datablocks ***\n",
      "*** Overflow with 6 datablocks ***\n",
      "*** Overflow with 7 datablocks ***\n",
      "*** Overflow with 8 datablocks ***\n",
      "*** Overflow with 8 datablocks ***\n",
      "*** Overflow with 10 datablocks ***\n"
     ]
    },
    {
     "name": "stderr",
     "output_type": "stream",
     "text": [
      "WARNING:wyrm.types:Discarding data that was longer than the ring buffer.\n"
     ]
    },
    {
     "name": "stdout",
     "output_type": "stream",
     "text": [
      "*** Overflow with 7 datablocks ***\n",
      "*** Overflow with 8 datablocks ***\n",
      "*** Overflow with 6 datablocks ***\n",
      "*** Overflow with 4 datablocks ***\n",
      "*** Overflow with 6 datablocks ***\n",
      "*** Overflow with 8 datablocks ***\n",
      "*** Overflow with 4 datablocks ***\n",
      "*** Overflow with 3 datablocks ***\n",
      "*** Overflow with 6 datablocks ***\n",
      "*** Overflow with 5 datablocks ***\n",
      "*** Overflow with 5 datablocks ***\n",
      "*** Overflow with 5 datablocks ***\n",
      "*** Overflow with 5 datablocks ***\n"
     ]
    },
    {
     "name": "stderr",
     "output_type": "stream",
     "text": [
      "WARNING:wyrm.types:Discarding data that was longer than the ring buffer.\n"
     ]
    },
    {
     "name": "stdout",
     "output_type": "stream",
     "text": [
      "*** Overflow with 6 datablocks ***\n",
      "*** Overflow with 4 datablocks ***\n",
      "*** Overflow with 6 datablocks ***\n",
      "*** Overflow with 4 datablocks ***\n",
      "sending signal! - 315 False - 22820.666629422343 -- 5.899999999999987\n",
      "*** Overflow with 7 datablocks ***\n",
      "*** Overflow with 5 datablocks ***\n",
      "*** Overflow with 4 datablocks ***\n",
      "*** Overflow with 5 datablocks ***\n",
      "*** Overflow with 4 datablocks ***\n",
      "*** Overflow with 6 datablocks ***\n",
      "*** Overflow with 6 datablocks ***\n"
     ]
    },
    {
     "name": "stderr",
     "output_type": "stream",
     "text": [
      "WARNING:wyrm.types:Discarding data that was longer than the ring buffer.\n"
     ]
    },
    {
     "name": "stdout",
     "output_type": "stream",
     "text": [
      "*** Overflow with 5 datablocks ***\n",
      "*** Overflow with 5 datablocks ***\n",
      "*** Overflow with 7 datablocks ***\n",
      "*** Overflow with 5 datablocks ***\n",
      "*** Overflow with 5 datablocks ***\n",
      "*** Overflow with 4 datablocks ***\n",
      "*** Overflow with 5 datablocks ***\n",
      "*** Overflow with 6 datablocks ***\n",
      "*** Overflow with 6 datablocks ***\n",
      "*** Overflow with 4 datablocks ***\n"
     ]
    },
    {
     "name": "stderr",
     "output_type": "stream",
     "text": [
      "WARNING:wyrm.types:Discarding data that was longer than the ring buffer.\n"
     ]
    },
    {
     "name": "stdout",
     "output_type": "stream",
     "text": [
      "*** Overflow with 8 datablocks ***\n",
      "*** Overflow with 6 datablocks ***\n",
      "*** Overflow with 5 datablocks ***\n",
      "*** Overflow with 8 datablocks ***\n",
      "*** Overflow with 5 datablocks ***\n",
      "*** Overflow with 5 datablocks ***\n",
      "*** Overflow with 5 datablocks ***\n",
      "*** Overflow with 7 datablocks ***\n",
      "*** Overflow with 5 datablocks ***\n",
      "*** Overflow with 3 datablocks ***\n",
      "*** Overflow with 5 datablocks ***\n",
      "*** Overflow with 5 datablocks ***\n"
     ]
    },
    {
     "name": "stderr",
     "output_type": "stream",
     "text": [
      "WARNING:wyrm.types:Discarding data that was longer than the ring buffer.\n"
     ]
    },
    {
     "name": "stdout",
     "output_type": "stream",
     "text": [
      "*** Overflow with 6 datablocks ***\n",
      "*** Overflow with 5 datablocks ***\n",
      "*** Overflow with 3 datablocks ***\n",
      "*** Overflow with 5 datablocks ***\n",
      "*** Overflow with 5 datablocks ***\n",
      "*** Overflow with 6 datablocks ***\n",
      "*** Overflow with 4 datablocks ***\n",
      "*** Overflow with 4 datablocks ***\n",
      "*** Overflow with 6 datablocks ***\n",
      "*** Overflow with 5 datablocks ***\n",
      "*** Overflow with 5 datablocks ***\n"
     ]
    },
    {
     "name": "stderr",
     "output_type": "stream",
     "text": [
      "WARNING:wyrm.types:Discarding data that was longer than the ring buffer.\n"
     ]
    },
    {
     "name": "stdout",
     "output_type": "stream",
     "text": [
      "*** Overflow with 7 datablocks ***\n",
      "*** Overflow with 5 datablocks ***\n",
      "*** Overflow with 5 datablocks ***\n",
      "*** Overflow with 5 datablocks ***\n",
      "*** Overflow with 5 datablocks ***\n",
      "*** Overflow with 9 datablocks ***\n",
      "*** Overflow with 5 datablocks ***\n",
      "*** Overflow with 6 datablocks ***\n"
     ]
    },
    {
     "name": "stderr",
     "output_type": "stream",
     "text": [
      "WARNING:wyrm.types:Discarding data that was longer than the ring buffer.\n"
     ]
    },
    {
     "name": "stdout",
     "output_type": "stream",
     "text": [
      "*** Overflow with 5 datablocks ***\n",
      "*** Overflow with 5 datablocks ***\n",
      "*** Overflow with 5 datablocks ***\n",
      "*** Overflow with 5 datablocks ***\n",
      "*** Overflow with 8 datablocks ***\n",
      "sending signal! - 320 False - 23318.145957963312 -- 5.949999999999987\n",
      "*** Overflow with 2 datablocks ***\n",
      "*** Overflow with 5 datablocks ***\n",
      "*** Overflow with 7 datablocks ***\n",
      "*** Overflow with 7 datablocks ***\n",
      "*** Overflow with 4 datablocks ***\n",
      "*** Overflow with 4 datablocks ***\n",
      "*** Overflow with 4 datablocks ***\n",
      "*** Overflow with 5 datablocks ***\n",
      "*** Overflow with 5 datablocks ***\n",
      "*** Overflow with 7 datablocks ***\n",
      "*** Overflow with 8 datablocks ***\n"
     ]
    },
    {
     "name": "stderr",
     "output_type": "stream",
     "text": [
      "WARNING:wyrm.types:Discarding data that was longer than the ring buffer.\n"
     ]
    },
    {
     "name": "stdout",
     "output_type": "stream",
     "text": [
      "*** Overflow with 4 datablocks ***\n",
      "*** Overflow with 6 datablocks ***\n",
      "*** Overflow with 10 datablocks ***\n",
      "*** Overflow with 5 datablocks ***\n",
      "*** Overflow with 6 datablocks ***\n",
      "*** Overflow with 12 datablocks ***\n",
      "*** Overflow with 4 datablocks ***\n",
      "*** Overflow with 6 datablocks ***\n",
      "*** Overflow with 4 datablocks ***\n",
      "*** Overflow with 9 datablocks ***\n",
      "*** Overflow with 6 datablocks ***\n",
      "*** Overflow with 6 datablocks ***\n",
      "*** Overflow with 3 datablocks ***\n",
      "*** Overflow with 3 datablocks ***\n",
      "*** Overflow with 8 datablocks ***\n",
      "*** Overflow with 5 datablocks ***\n",
      "*** Overflow with 4 datablocks ***\n",
      "*** Overflow with 6 datablocks ***\n",
      "*** Overflow with 4 datablocks ***\n",
      "*** Overflow with 5 datablocks ***\n",
      "*** Overflow with 5 datablocks ***\n",
      "*** Overflow with 5 datablocks ***\n",
      "*** Overflow with 2 datablocks ***\n",
      "*** Overflow with 5 datablocks ***\n",
      "*** Overflow with 7 datablocks ***\n",
      "*** Overflow with 5 datablocks ***\n",
      "sending signal -- I ! - 5400 - 324 - True - -1\n",
      "sending signal! - 324 False - 12.863052773227526 -- 0.2\n",
      "*** Overflow with 4 datablocks ***\n",
      "*** Overflow with 6 datablocks ***\n",
      "*** Overflow with 3 datablocks ***\n"
     ]
    },
    {
     "name": "stderr",
     "output_type": "stream",
     "text": [
      "WARNING:wyrm.types:Discarding data that was longer than the ring buffer.\n"
     ]
    },
    {
     "name": "stdout",
     "output_type": "stream",
     "text": [
      "*** Overflow with 10 datablocks ***\n",
      "*** Overflow with 4 datablocks ***\n",
      "*** Overflow with 4 datablocks ***\n",
      "*** Overflow with 5 datablocks ***\n",
      "*** Overflow with 6 datablocks ***\n",
      "*** Overflow with 5 datablocks ***\n",
      "*** Overflow with 4 datablocks ***\n",
      "*** Overflow with 4 datablocks ***\n",
      "*** Overflow with 5 datablocks ***\n",
      "*** Overflow with 5 datablocks ***\n"
     ]
    },
    {
     "name": "stderr",
     "output_type": "stream",
     "text": [
      "WARNING:wyrm.types:Discarding data that was longer than the ring buffer.\n"
     ]
    },
    {
     "name": "stdout",
     "output_type": "stream",
     "text": [
      "*** Overflow with 5 datablocks ***\n",
      "*** Overflow with 4 datablocks ***\n",
      "*** Overflow with 5 datablocks ***\n",
      "sending signal! - 326 False - 23844.65678190619 -- 5.999999999999987\n",
      "*** Overflow with 5 datablocks ***\n",
      "*** Overflow with 6 datablocks ***\n",
      "*** Overflow with 6 datablocks ***\n",
      "*** Overflow with 4 datablocks ***\n",
      "*** Overflow with 3 datablocks ***\n"
     ]
    },
    {
     "name": "stderr",
     "output_type": "stream",
     "text": [
      "WARNING:wyrm.types:Discarding data that was longer than the ring buffer.\n"
     ]
    },
    {
     "name": "stdout",
     "output_type": "stream",
     "text": [
      "*** Overflow with 6 datablocks ***\n",
      "*** Overflow with 4 datablocks ***\n",
      "*** Overflow with 6 datablocks ***\n",
      "*** Overflow with 5 datablocks ***\n",
      "*** Overflow with 5 datablocks ***\n",
      "*** Overflow with 8 datablocks ***\n",
      "*** Overflow with 6 datablocks ***\n",
      "*** Overflow with 2 datablocks ***\n",
      "*** Overflow with 7 datablocks ***\n",
      "*** Overflow with 5 datablocks ***\n",
      "*** Overflow with 8 datablocks ***\n",
      "*** Overflow with 4 datablocks ***\n",
      "*** Overflow with 5 datablocks ***\n",
      "*** Overflow with 10 datablocks ***\n",
      "*** Overflow with 6 datablocks ***\n",
      "*** Overflow with 4 datablocks ***\n",
      "*** Overflow with 8 datablocks ***\n",
      "*** Overflow with 2 datablocks ***\n",
      "*** Overflow with 5 datablocks ***\n",
      "*** Overflow with 4 datablocks ***\n",
      "*** Overflow with 6 datablocks ***\n",
      "*** Overflow with 5 datablocks ***\n",
      "*** Overflow with 9 datablocks ***\n",
      "*** Overflow with 5 datablocks ***\n",
      "*** Overflow with 7 datablocks ***\n"
     ]
    },
    {
     "name": "stderr",
     "output_type": "stream",
     "text": [
      "WARNING:wyrm.types:Discarding data that was longer than the ring buffer.\n"
     ]
    },
    {
     "name": "stdout",
     "output_type": "stream",
     "text": [
      "*** Overflow with 6 datablocks ***\n",
      "*** Overflow with 5 datablocks ***\n",
      "*** Overflow with 5 datablocks ***\n",
      "*** Overflow with 4 datablocks ***\n",
      "*** Overflow with 5 datablocks ***\n",
      "*** Overflow with 3 datablocks ***\n",
      "*** Overflow with 7 datablocks ***\n",
      "*** Overflow with 5 datablocks ***\n",
      "*** Overflow with 6 datablocks ***\n",
      "*** Overflow with 4 datablocks ***\n",
      "*** Overflow with 6 datablocks ***\n",
      "*** Overflow with 6 datablocks ***\n",
      "*** Overflow with 7 datablocks ***\n",
      "*** Overflow with 4 datablocks ***\n",
      "*** Overflow with 4 datablocks ***\n",
      "*** Overflow with 5 datablocks ***\n",
      "*** Overflow with 6 datablocks ***\n",
      "*** Overflow with 5 datablocks ***\n",
      "*** Overflow with 5 datablocks ***\n",
      "*** Overflow with 3 datablocks ***\n"
     ]
    },
    {
     "name": "stderr",
     "output_type": "stream",
     "text": [
      "WARNING:wyrm.types:Discarding data that was longer than the ring buffer.\n"
     ]
    },
    {
     "name": "stdout",
     "output_type": "stream",
     "text": [
      "*** Overflow with 3 datablocks ***\n",
      "*** Overflow with 7 datablocks ***\n",
      "*** Overflow with 6 datablocks ***\n",
      "*** Overflow with 4 datablocks ***\n",
      "*** Overflow with 6 datablocks ***\n",
      "sending signal! - 332 False - 24391.251446679944 -- 6.0499999999999865\n",
      "*** Overflow with 4 datablocks ***\n",
      "*** Overflow with 5 datablocks ***\n",
      "*** Overflow with 6 datablocks ***\n",
      "*** Overflow with 5 datablocks ***\n",
      "*** Overflow with 6 datablocks ***\n",
      "*** Overflow with 6 datablocks ***\n",
      "*** Overflow with 5 datablocks ***\n",
      "*** Overflow with 5 datablocks ***\n",
      "sending signal -- I ! - 4700 - 333 - True - -1\n",
      "sending signal! - 333 False - 12.977257669600371 -- 0.2\n",
      "*** Overflow with 5 datablocks ***\n",
      "*** Overflow with 4 datablocks ***\n",
      "*** Overflow with 10 datablocks ***\n",
      "*** Overflow with 5 datablocks ***\n",
      "*** Overflow with 7 datablocks ***\n",
      "*** Overflow with 5 datablocks ***\n",
      "*** Overflow with 4 datablocks ***\n",
      "*** Overflow with 6 datablocks ***\n",
      "*** Overflow with 4 datablocks ***\n",
      "*** Overflow with 5 datablocks ***\n",
      "*** Overflow with 5 datablocks ***\n",
      "*** Overflow with 6 datablocks ***\n",
      "*** Overflow with 3 datablocks ***\n",
      "*** Overflow with 5 datablocks ***\n",
      "*** Overflow with 5 datablocks ***\n",
      "*** Overflow with 5 datablocks ***\n",
      "*** Overflow with 5 datablocks ***\n",
      "*** Overflow with 8 datablocks ***\n",
      "*** Overflow with 5 datablocks ***\n",
      "*** Overflow with 5 datablocks ***\n",
      "*** Overflow with 5 datablocks ***\n",
      "*** Overflow with 4 datablocks ***\n",
      "*** Overflow with 6 datablocks ***\n",
      "*** Overflow with 5 datablocks ***\n",
      "*** Overflow with 5 datablocks ***\n",
      "*** Overflow with 5 datablocks ***\n",
      "*** Overflow with 9 datablocks ***\n",
      "*** Overflow with 5 datablocks ***\n",
      "*** Overflow with 6 datablocks ***\n",
      "*** Overflow with 4 datablocks ***\n",
      "*** Overflow with 8 datablocks ***\n",
      "*** Overflow with 6 datablocks ***\n",
      "*** Overflow with 5 datablocks ***\n",
      "*** Overflow with 6 datablocks ***\n",
      "*** Overflow with 7 datablocks ***\n",
      "*** Overflow with 4 datablocks ***\n",
      "*** Overflow with 6 datablocks ***\n",
      "*** Overflow with 5 datablocks ***\n",
      "*** Overflow with 6 datablocks ***\n",
      "*** Overflow with 4 datablocks ***\n",
      "*** Overflow with 5 datablocks ***\n",
      "*** Overflow with 6 datablocks ***\n",
      "*** Overflow with 4 datablocks ***\n",
      "*** Overflow with 4 datablocks ***\n"
     ]
    },
    {
     "name": "stderr",
     "output_type": "stream",
     "text": [
      "WARNING:wyrm.types:Discarding data that was longer than the ring buffer.\n"
     ]
    },
    {
     "name": "stdout",
     "output_type": "stream",
     "text": [
      "*** Overflow with 5 datablocks ***\n",
      "*** Overflow with 5 datablocks ***\n",
      "sending signal! - 339 False - 24875.721611906614 -- 6.099999999999986\n",
      "*** Overflow with 5 datablocks ***\n",
      "*** Overflow with 6 datablocks ***\n",
      "*** Overflow with 4 datablocks ***\n",
      "*** Overflow with 4 datablocks ***\n",
      "*** Overflow with 5 datablocks ***\n",
      "*** Overflow with 6 datablocks ***\n",
      "*** Overflow with 4 datablocks ***\n",
      "*** Overflow with 6 datablocks ***\n",
      "*** Overflow with 7 datablocks ***\n",
      "*** Overflow with 10 datablocks ***\n",
      "*** Overflow with 7 datablocks ***\n",
      "*** Overflow with 7 datablocks ***\n",
      "*** Overflow with 8 datablocks ***\n",
      "*** Overflow with 6 datablocks ***\n",
      "*** Overflow with 5 datablocks ***\n",
      "*** Overflow with 5 datablocks ***\n",
      "*** Overflow with 7 datablocks ***\n",
      "*** Overflow with 6 datablocks ***\n",
      "*** Overflow with 6 datablocks ***\n",
      "*** Overflow with 5 datablocks ***\n",
      "*** Overflow with 5 datablocks ***\n",
      "*** Overflow with 7 datablocks ***\n"
     ]
    },
    {
     "name": "stderr",
     "output_type": "stream",
     "text": [
      "WARNING:wyrm.types:Discarding data that was longer than the ring buffer.\n"
     ]
    },
    {
     "name": "stdout",
     "output_type": "stream",
     "text": [
      "*** Overflow with 3 datablocks ***\n",
      "*** Overflow with 5 datablocks ***\n",
      "*** Overflow with 5 datablocks ***\n",
      "*** Overflow with 7 datablocks ***\n",
      "*** Overflow with 5 datablocks ***\n",
      "*** Overflow with 5 datablocks ***\n",
      "*** Overflow with 6 datablocks ***\n",
      "*** Overflow with 4 datablocks ***\n",
      "*** Overflow with 6 datablocks ***\n"
     ]
    },
    {
     "name": "stderr",
     "output_type": "stream",
     "text": [
      "WARNING:wyrm.types:Discarding data that was longer than the ring buffer.\n"
     ]
    },
    {
     "name": "stdout",
     "output_type": "stream",
     "text": [
      "*** Overflow with 3 datablocks ***\n",
      "*** Overflow with 6 datablocks ***\n",
      "*** Overflow with 4 datablocks ***\n",
      "*** Overflow with 5 datablocks ***\n",
      "*** Overflow with 4 datablocks ***\n",
      "*** Overflow with 5 datablocks ***\n",
      "*** Overflow with 5 datablocks ***\n",
      "*** Overflow with 6 datablocks ***\n",
      "*** Overflow with 3 datablocks ***\n",
      "*** Overflow with 6 datablocks ***\n",
      "*** Overflow with 9 datablocks ***\n",
      "*** Overflow with 6 datablocks ***\n",
      "*** Overflow with 5 datablocks ***\n",
      "*** Overflow with 4 datablocks ***\n",
      "*** Overflow with 5 datablocks ***\n",
      "*** Overflow with 5 datablocks ***\n",
      "*** Overflow with 5 datablocks ***\n",
      "*** Overflow with 5 datablocks ***\n",
      "*** Overflow with 3 datablocks ***\n",
      "*** Overflow with 6 datablocks ***\n",
      "*** Overflow with 4 datablocks ***\n",
      "*** Overflow with 6 datablocks ***\n",
      "*** Overflow with 4 datablocks ***\n",
      "*** Overflow with 4 datablocks ***\n",
      "*** Overflow with 5 datablocks ***\n",
      "*** Overflow with 5 datablocks ***\n",
      "*** Overflow with 4 datablocks ***\n",
      "*** Overflow with 6 datablocks ***\n",
      "*** Overflow with 3 datablocks ***\n",
      "*** Overflow with 6 datablocks ***\n"
     ]
    },
    {
     "name": "stderr",
     "output_type": "stream",
     "text": [
      "WARNING:wyrm.types:Discarding data that was longer than the ring buffer.\n"
     ]
    },
    {
     "name": "stdout",
     "output_type": "stream",
     "text": [
      "*** Overflow with 4 datablocks ***\n",
      "*** Overflow with 5 datablocks ***\n",
      "*** Overflow with 4 datablocks ***\n",
      "sending signal! - 346 False - 25371.859938589023 -- 6.149999999999986\n",
      "*** Overflow with 9 datablocks ***\n",
      "*** Overflow with 5 datablocks ***\n",
      "*** Overflow with 4 datablocks ***\n",
      "*** Overflow with 5 datablocks ***\n",
      "*** Overflow with 6 datablocks ***\n",
      "*** Overflow with 4 datablocks ***\n",
      "*** Overflow with 3 datablocks ***\n",
      "*** Overflow with 6 datablocks ***\n",
      "*** Overflow with 4 datablocks ***\n",
      "*** Overflow with 6 datablocks ***\n",
      "*** Overflow with 8 datablocks ***\n",
      "*** Overflow with 4 datablocks ***\n",
      "*** Overflow with 6 datablocks ***\n",
      "*** Overflow with 4 datablocks ***\n",
      "*** Overflow with 8 datablocks ***\n",
      "*** Overflow with 7 datablocks ***\n",
      "*** Overflow with 6 datablocks ***\n",
      "*** Overflow with 4 datablocks ***\n",
      "*** Overflow with 8 datablocks ***\n",
      "*** Overflow with 5 datablocks ***\n",
      "*** Overflow with 5 datablocks ***\n",
      "*** Overflow with 3 datablocks ***\n",
      "*** Overflow with 6 datablocks ***\n",
      "*** Overflow with 5 datablocks ***\n",
      "*** Overflow with 5 datablocks ***\n",
      "*** Overflow with 6 datablocks ***\n",
      "*** Overflow with 4 datablocks ***\n",
      "*** Overflow with 4 datablocks ***\n",
      "*** Overflow with 5 datablocks ***\n",
      "*** Overflow with 5 datablocks ***\n",
      "*** Overflow with 4 datablocks ***\n",
      "*** Overflow with 6 datablocks ***\n",
      "*** Overflow with 3 datablocks ***\n",
      "*** Overflow with 6 datablocks ***\n",
      "*** Overflow with 4 datablocks ***\n",
      "*** Overflow with 7 datablocks ***\n"
     ]
    },
    {
     "name": "stderr",
     "output_type": "stream",
     "text": [
      "WARNING:wyrm.types:Discarding data that was longer than the ring buffer.\n"
     ]
    },
    {
     "name": "stdout",
     "output_type": "stream",
     "text": [
      "*** Overflow with 3 datablocks ***\n",
      "*** Overflow with 5 datablocks ***\n",
      "*** Overflow with 4 datablocks ***\n",
      "*** Overflow with 6 datablocks ***\n",
      "*** Overflow with 5 datablocks ***\n",
      "*** Overflow with 4 datablocks ***\n",
      "*** Overflow with 4 datablocks ***\n",
      "*** Overflow with 6 datablocks ***\n",
      "*** Overflow with 3 datablocks ***\n"
     ]
    },
    {
     "name": "stderr",
     "output_type": "stream",
     "text": [
      "WARNING:wyrm.types:Discarding data that was longer than the ring buffer.\n"
     ]
    },
    {
     "name": "stdout",
     "output_type": "stream",
     "text": [
      "*** Overflow with 7 datablocks ***\n",
      "*** Overflow with 5 datablocks ***\n",
      "*** Overflow with 4 datablocks ***\n",
      "*** Overflow with 7 datablocks ***\n",
      "*** Overflow with 5 datablocks ***\n",
      "*** Overflow with 6 datablocks ***\n",
      "*** Overflow with 5 datablocks ***\n",
      "*** Overflow with 5 datablocks ***\n",
      "*** Overflow with 5 datablocks ***\n",
      "*** Overflow with 4 datablocks ***\n",
      "*** Overflow with 8 datablocks ***\n",
      "*** Overflow with 3 datablocks ***\n",
      "*** Overflow with 6 datablocks ***\n",
      "*** Overflow with 6 datablocks ***\n",
      "sending signal! - 352 False - 25987.05924871279 -- 6.199999999999986\n",
      "*** Overflow with 4 datablocks ***\n",
      "*** Overflow with 6 datablocks ***\n",
      "*** Overflow with 4 datablocks ***\n",
      "*** Overflow with 4 datablocks ***\n",
      "*** Overflow with 5 datablocks ***\n",
      "*** Overflow with 5 datablocks ***\n"
     ]
    },
    {
     "name": "stderr",
     "output_type": "stream",
     "text": [
      "WARNING:wyrm.types:Discarding data that was longer than the ring buffer.\n"
     ]
    },
    {
     "name": "stdout",
     "output_type": "stream",
     "text": [
      "*** Overflow with 5 datablocks ***\n",
      "*** Overflow with 5 datablocks ***\n",
      "*** Overflow with 3 datablocks ***\n",
      "*** Overflow with 6 datablocks ***\n",
      "*** Overflow with 5 datablocks ***\n",
      "*** Overflow with 5 datablocks ***\n",
      "*** Overflow with 3 datablocks ***\n",
      "*** Overflow with 6 datablocks ***\n"
     ]
    },
    {
     "name": "stderr",
     "output_type": "stream",
     "text": [
      "WARNING:wyrm.types:Discarding data that was longer than the ring buffer.\n"
     ]
    },
    {
     "name": "stdout",
     "output_type": "stream",
     "text": [
      "*** Overflow with 5 datablocks ***\n",
      "*** Overflow with 5 datablocks ***\n",
      "*** Overflow with 7 datablocks ***\n",
      "*** Overflow with 5 datablocks ***\n",
      "*** Overflow with 7 datablocks ***\n",
      "*** Overflow with 7 datablocks ***\n",
      "*** Overflow with 5 datablocks ***\n",
      "*** Overflow with 6 datablocks ***\n",
      "*** Overflow with 5 datablocks ***\n",
      "*** Overflow with 7 datablocks ***\n",
      "*** Overflow with 5 datablocks ***\n",
      "*** Overflow with 4 datablocks ***\n",
      "*** Overflow with 6 datablocks ***\n",
      "*** Overflow with 3 datablocks ***\n",
      "*** Overflow with 6 datablocks ***\n",
      "*** Overflow with 4 datablocks ***\n",
      "*** Overflow with 5 datablocks ***\n",
      "*** Overflow with 4 datablocks ***\n",
      "*** Overflow with 5 datablocks ***\n",
      "*** Overflow with 5 datablocks ***\n",
      "*** Overflow with 5 datablocks ***\n",
      "*** Overflow with 4 datablocks ***\n",
      "*** Overflow with 5 datablocks ***\n",
      "*** Overflow with 4 datablocks ***\n"
     ]
    },
    {
     "name": "stderr",
     "output_type": "stream",
     "text": [
      "WARNING:wyrm.types:Discarding data that was longer than the ring buffer.\n"
     ]
    },
    {
     "name": "stdout",
     "output_type": "stream",
     "text": [
      "*** Overflow with 5 datablocks ***\n",
      "*** Overflow with 4 datablocks ***\n",
      "*** Overflow with 9 datablocks ***\n",
      "*** Overflow with 6 datablocks ***\n",
      "*** Overflow with 5 datablocks ***\n",
      "*** Overflow with 5 datablocks ***\n",
      "*** Overflow with 5 datablocks ***\n",
      "*** Overflow with 4 datablocks ***\n",
      "*** Overflow with 4 datablocks ***\n"
     ]
    },
    {
     "name": "stderr",
     "output_type": "stream",
     "text": [
      "WARNING:wyrm.types:Discarding data that was longer than the ring buffer.\n"
     ]
    },
    {
     "name": "stdout",
     "output_type": "stream",
     "text": [
      "*** Overflow with 10 datablocks ***\n",
      "*** Overflow with 3 datablocks ***\n",
      "*** Overflow with 6 datablocks ***\n",
      "*** Overflow with 4 datablocks ***\n",
      "*** Overflow with 6 datablocks ***\n",
      "*** Overflow with 4 datablocks ***\n",
      "*** Overflow with 4 datablocks ***\n",
      "*** Overflow with 5 datablocks ***\n",
      "*** Overflow with 6 datablocks ***\n",
      "*** Overflow with 7 datablocks ***\n",
      "*** Overflow with 4 datablocks ***\n",
      "*** Overflow with 6 datablocks ***\n",
      "sending signal! - 358 False - 26478.606476618716 -- 6.249999999999986\n",
      "*** Overflow with 5 datablocks ***\n",
      "*** Overflow with 8 datablocks ***\n",
      "*** Overflow with 6 datablocks ***\n",
      "*** Overflow with 6 datablocks ***\n",
      "*** Overflow with 6 datablocks ***\n",
      "*** Overflow with 6 datablocks ***\n",
      "*** Overflow with 5 datablocks ***\n",
      "*** Overflow with 5 datablocks ***\n",
      "*** Overflow with 4 datablocks ***\n",
      "*** Overflow with 6 datablocks ***\n",
      "*** Overflow with 3 datablocks ***\n",
      "*** Overflow with 6 datablocks ***\n",
      "*** Overflow with 6 datablocks ***\n",
      "*** Overflow with 11 datablocks ***\n"
     ]
    },
    {
     "name": "stderr",
     "output_type": "stream",
     "text": [
      "WARNING:wyrm.types:Discarding data that was longer than the ring buffer.\n"
     ]
    },
    {
     "name": "stdout",
     "output_type": "stream",
     "text": [
      "*** Overflow with 7 datablocks ***\n",
      "*** Overflow with 4 datablocks ***\n",
      "*** Overflow with 5 datablocks ***\n",
      "*** Overflow with 6 datablocks ***\n",
      "*** Overflow with 6 datablocks ***\n",
      "*** Overflow with 6 datablocks ***\n",
      "*** Overflow with 3 datablocks ***\n",
      "*** Overflow with 9 datablocks ***\n",
      "*** Overflow with 4 datablocks ***\n",
      "*** Overflow with 5 datablocks ***\n",
      "*** Overflow with 5 datablocks ***\n",
      "*** Overflow with 5 datablocks ***\n",
      "*** Overflow with 8 datablocks ***\n",
      "*** Overflow with 6 datablocks ***\n",
      "*** Overflow with 5 datablocks ***\n",
      "*** Overflow with 6 datablocks ***\n",
      "*** Overflow with 7 datablocks ***\n",
      "*** Overflow with 5 datablocks ***\n",
      "*** Overflow with 6 datablocks ***\n",
      "*** Overflow with 6 datablocks ***\n",
      "*** Overflow with 5 datablocks ***\n",
      "*** Overflow with 6 datablocks ***\n",
      "*** Overflow with 4 datablocks ***\n",
      "*** Overflow with 5 datablocks ***\n",
      "*** Overflow with 5 datablocks ***\n",
      "*** Overflow with 7 datablocks ***\n",
      "*** Overflow with 4 datablocks ***\n",
      "*** Overflow with 6 datablocks ***\n",
      "*** Overflow with 5 datablocks ***\n",
      "*** Overflow with 5 datablocks ***\n",
      "*** Overflow with 5 datablocks ***\n",
      "*** Overflow with 4 datablocks ***\n",
      "*** Overflow with 6 datablocks ***\n",
      "*** Overflow with 5 datablocks ***\n",
      "*** Overflow with 6 datablocks ***\n",
      "*** Overflow with 5 datablocks ***\n",
      "*** Overflow with 6 datablocks ***\n",
      "*** Overflow with 4 datablocks ***\n",
      "*** Overflow with 4 datablocks ***\n",
      "*** Overflow with 6 datablocks ***\n",
      "*** Overflow with 4 datablocks ***\n",
      "sending signal! - 364 False - 26995.3851566459 -- 6.299999999999986\n",
      "*** Overflow with 6 datablocks ***\n",
      "*** Overflow with 4 datablocks ***\n",
      "*** Overflow with 6 datablocks ***\n",
      "*** Overflow with 3 datablocks ***\n",
      "*** Overflow with 6 datablocks ***\n"
     ]
    },
    {
     "name": "stderr",
     "output_type": "stream",
     "text": [
      "WARNING:wyrm.types:Discarding data that was longer than the ring buffer.\n"
     ]
    },
    {
     "name": "stdout",
     "output_type": "stream",
     "text": [
      "*** Overflow with 5 datablocks ***\n",
      "*** Overflow with 5 datablocks ***\n",
      "*** Overflow with 4 datablocks ***\n",
      "*** Overflow with 5 datablocks ***\n",
      "*** Overflow with 5 datablocks ***\n",
      "*** Overflow with 5 datablocks ***\n",
      "*** Overflow with 6 datablocks ***\n",
      "*** Overflow with 4 datablocks ***\n",
      "*** Overflow with 4 datablocks ***\n"
     ]
    },
    {
     "name": "stderr",
     "output_type": "stream",
     "text": [
      "WARNING:wyrm.types:Discarding data that was longer than the ring buffer.\n"
     ]
    },
    {
     "name": "stdout",
     "output_type": "stream",
     "text": [
      "*** Overflow with 6 datablocks ***\n",
      "*** Overflow with 5 datablocks ***\n",
      "*** Overflow with 6 datablocks ***\n",
      "*** Overflow with 5 datablocks ***\n",
      "*** Overflow with 10 datablocks ***\n",
      "*** Overflow with 4 datablocks ***\n",
      "*** Overflow with 5 datablocks ***\n",
      "*** Overflow with 6 datablocks ***\n",
      "*** Overflow with 5 datablocks ***\n",
      "*** Overflow with 7 datablocks ***\n",
      "*** Overflow with 5 datablocks ***\n",
      "*** Overflow with 5 datablocks ***\n",
      "*** Overflow with 8 datablocks ***\n",
      "*** Overflow with 7 datablocks ***\n",
      "*** Overflow with 5 datablocks ***\n",
      "*** Overflow with 6 datablocks ***\n",
      "*** Overflow with 7 datablocks ***\n",
      "*** Overflow with 6 datablocks ***\n",
      "*** Overflow with 6 datablocks ***\n",
      "*** Overflow with 5 datablocks ***\n",
      "*** Overflow with 6 datablocks ***\n",
      "*** Overflow with 6 datablocks ***\n",
      "*** Overflow with 5 datablocks ***\n",
      "*** Overflow with 6 datablocks ***\n",
      "*** Overflow with 7 datablocks ***\n",
      "*** Overflow with 9 datablocks ***\n",
      "*** Overflow with 9 datablocks ***\n",
      "*** Overflow with 5 datablocks ***\n",
      "*** Overflow with 6 datablocks ***\n",
      "*** Overflow with 7 datablocks ***\n",
      "*** Overflow with 5 datablocks ***\n",
      "*** Overflow with 5 datablocks ***\n",
      "*** Overflow with 5 datablocks ***\n",
      "*** Overflow with 8 datablocks ***\n",
      "*** Overflow with 6 datablocks ***\n",
      "*** Overflow with 5 datablocks ***\n",
      "*** Overflow with 6 datablocks ***\n"
     ]
    },
    {
     "name": "stderr",
     "output_type": "stream",
     "text": [
      "WARNING:wyrm.types:Discarding data that was longer than the ring buffer.\n"
     ]
    },
    {
     "name": "stdout",
     "output_type": "stream",
     "text": [
      "*** Overflow with 7 datablocks ***\n",
      "*** Overflow with 5 datablocks ***\n",
      "*** Overflow with 5 datablocks ***\n",
      "*** Overflow with 7 datablocks ***\n",
      "sending signal! - 371 False - 27511.078641515604 -- 6.349999999999985\n",
      "*** Overflow with 8 datablocks ***\n",
      "*** Overflow with 5 datablocks ***\n",
      "*** Overflow with 6 datablocks ***\n",
      "*** Overflow with 4 datablocks ***\n",
      "*** Overflow with 7 datablocks ***\n"
     ]
    },
    {
     "name": "stderr",
     "output_type": "stream",
     "text": [
      "WARNING:wyrm.types:Discarding data that was longer than the ring buffer.\n"
     ]
    },
    {
     "name": "stdout",
     "output_type": "stream",
     "text": [
      "*** Overflow with 5 datablocks ***\n",
      "*** Overflow with 4 datablocks ***\n",
      "*** Overflow with 5 datablocks ***\n",
      "*** Overflow with 6 datablocks ***\n",
      "*** Overflow with 7 datablocks ***\n",
      "*** Overflow with 5 datablocks ***\n",
      "*** Overflow with 6 datablocks ***\n",
      "FLIPPING/GOING THE THE MIDDLE AGAIN\n",
      "*** Overflow with 6 datablocks ***\n",
      "*** Overflow with 6 datablocks ***\n"
     ]
    },
    {
     "name": "stderr",
     "output_type": "stream",
     "text": [
      "WARNING:wyrm.types:Discarding data that was longer than the ring buffer.\n"
     ]
    },
    {
     "name": "stdout",
     "output_type": "stream",
     "text": [
      "*** Overflow with 7 datablocks ***\n",
      "*** Overflow with 5 datablocks ***\n",
      "*** Overflow with 5 datablocks ***\n",
      "*** Overflow with 6 datablocks ***\n",
      "*** Overflow with 9 datablocks ***\n",
      "*** Overflow with 4 datablocks ***\n",
      "*** Overflow with 6 datablocks ***\n",
      "*** Overflow with 5 datablocks ***\n",
      "*** Overflow with 6 datablocks ***\n",
      "*** Overflow with 7 datablocks ***\n",
      "*** Overflow with 5 datablocks ***\n",
      "*** Overflow with 5 datablocks ***\n",
      "*** Overflow with 7 datablocks ***\n",
      "*** Overflow with 6 datablocks ***\n",
      "*** Overflow with 5 datablocks ***\n",
      "*** Overflow with 4 datablocks ***\n",
      "*** Overflow with 5 datablocks ***\n",
      "*** Overflow with 9 datablocks ***\n",
      "*** Overflow with 7 datablocks ***\n",
      "*** Overflow with 4 datablocks ***\n",
      "*** Overflow with 4 datablocks ***\n",
      "*** Overflow with 9 datablocks ***\n",
      "*** Overflow with 5 datablocks ***\n",
      "*** Overflow with 4 datablocks ***\n",
      "*** Overflow with 5 datablocks ***\n",
      "*** Overflow with 7 datablocks ***\n",
      "*** Overflow with 5 datablocks ***\n",
      "*** Overflow with 5 datablocks ***\n",
      "*** Overflow with 4 datablocks ***\n",
      "*** Overflow with 5 datablocks ***\n",
      "*** Overflow with 8 datablocks ***\n",
      "*** Overflow with 5 datablocks ***\n",
      "*** Overflow with 4 datablocks ***\n",
      "*** Overflow with 5 datablocks ***\n",
      "*** Overflow with 10 datablocks ***\n",
      "*** Overflow with 5 datablocks ***\n",
      "*** Overflow with 5 datablocks ***\n",
      "*** Overflow with 5 datablocks ***\n",
      "*** Overflow with 9 datablocks ***\n",
      "*** Overflow with 4 datablocks ***\n",
      "*** Overflow with 5 datablocks ***\n",
      "*** Overflow with 5 datablocks ***\n",
      "*** Overflow with 6 datablocks ***\n"
     ]
    },
    {
     "name": "stderr",
     "output_type": "stream",
     "text": [
      "WARNING:wyrm.types:Discarding data that was longer than the ring buffer.\n"
     ]
    },
    {
     "name": "stdout",
     "output_type": "stream",
     "text": [
      "*** Overflow with 5 datablocks ***\n",
      "*** Overflow with 5 datablocks ***\n",
      "sending signal! - 378 False - 28038.82013191385 -- 6.399999999999985\n",
      "*** Overflow with 3 datablocks ***\n",
      "*** Overflow with 6 datablocks ***\n",
      "*** Overflow with 6 datablocks ***\n",
      "*** Overflow with 9 datablocks ***\n",
      "*** Overflow with 4 datablocks ***\n",
      "*** Overflow with 5 datablocks ***\n",
      "*** Overflow with 6 datablocks ***\n"
     ]
    },
    {
     "name": "stderr",
     "output_type": "stream",
     "text": [
      "WARNING:wyrm.types:Discarding data that was longer than the ring buffer.\n"
     ]
    },
    {
     "name": "stdout",
     "output_type": "stream",
     "text": [
      "*** Overflow with 8 datablocks ***\n",
      "*** Overflow with 4 datablocks ***\n",
      "*** Overflow with 5 datablocks ***\n",
      "*** Overflow with 6 datablocks ***\n",
      "*** Overflow with 7 datablocks ***\n",
      "*** Overflow with 5 datablocks ***\n",
      "*** Overflow with 5 datablocks ***\n",
      "*** Overflow with 5 datablocks ***\n",
      "*** Overflow with 7 datablocks ***\n",
      "*** Overflow with 6 datablocks ***\n",
      "*** Overflow with 5 datablocks ***\n",
      "*** Overflow with 5 datablocks ***\n",
      "*** Overflow with 4 datablocks ***\n",
      "*** Overflow with 6 datablocks ***\n",
      "*** Overflow with 5 datablocks ***\n",
      "*** Overflow with 6 datablocks ***\n",
      "*** Overflow with 6 datablocks ***\n",
      "*** Overflow with 5 datablocks ***\n",
      "*** Overflow with 7 datablocks ***\n"
     ]
    },
    {
     "name": "stderr",
     "output_type": "stream",
     "text": [
      "WARNING:wyrm.types:Discarding data that was longer than the ring buffer.\n"
     ]
    },
    {
     "name": "stdout",
     "output_type": "stream",
     "text": [
      "*** Overflow with 6 datablocks ***\n",
      "*** Overflow with 5 datablocks ***\n",
      "*** Overflow with 6 datablocks ***\n",
      "*** Overflow with 8 datablocks ***\n",
      "*** Overflow with 4 datablocks ***\n",
      "*** Overflow with 5 datablocks ***\n",
      "*** Overflow with 4 datablocks ***\n",
      "*** Overflow with 5 datablocks ***\n",
      "*** Overflow with 5 datablocks ***\n",
      "*** Overflow with 5 datablocks ***\n"
     ]
    },
    {
     "name": "stderr",
     "output_type": "stream",
     "text": [
      "WARNING:wyrm.types:Discarding data that was longer than the ring buffer.\n"
     ]
    },
    {
     "name": "stdout",
     "output_type": "stream",
     "text": [
      "*** Overflow with 5 datablocks ***\n",
      "*** Overflow with 5 datablocks ***\n",
      "*** Overflow with 8 datablocks ***\n",
      "*** Overflow with 6 datablocks ***\n",
      "*** Overflow with 5 datablocks ***\n",
      "*** Overflow with 6 datablocks ***\n",
      "*** Overflow with 4 datablocks ***\n",
      "*** Overflow with 5 datablocks ***\n"
     ]
    },
    {
     "name": "stderr",
     "output_type": "stream",
     "text": [
      "WARNING:wyrm.types:Discarding data that was longer than the ring buffer.\n"
     ]
    },
    {
     "name": "stdout",
     "output_type": "stream",
     "text": [
      "*** Overflow with 5 datablocks ***\n",
      "*** Overflow with 5 datablocks ***\n",
      "*** Overflow with 2 datablocks ***\n",
      "*** Overflow with 6 datablocks ***\n",
      "*** Overflow with 5 datablocks ***\n",
      "*** Overflow with 10 datablocks ***\n",
      "*** Overflow with 3 datablocks ***\n",
      "*** Overflow with 6 datablocks ***\n",
      "sending signal! - 384 False - 28507.761397626327 -- 6.449999999999985\n",
      "*** Overflow with 5 datablocks ***\n",
      "*** Overflow with 9 datablocks ***\n",
      "*** Overflow with 6 datablocks ***\n",
      "*** Overflow with 4 datablocks ***\n",
      "*** Overflow with 11 datablocks ***\n",
      "*** Overflow with 5 datablocks ***\n",
      "*** Overflow with 5 datablocks ***\n",
      "*** Overflow with 7 datablocks ***\n",
      "*** Overflow with 8 datablocks ***\n",
      "*** Overflow with 5 datablocks ***\n",
      "*** Overflow with 6 datablocks ***\n",
      "*** Overflow with 9 datablocks ***\n",
      "*** Overflow with 4 datablocks ***\n",
      "*** Overflow with 9 datablocks ***\n",
      "*** Overflow with 6 datablocks ***\n",
      "*** Overflow with 6 datablocks ***\n",
      "*** Overflow with 5 datablocks ***\n",
      "*** Overflow with 6 datablocks ***\n",
      "*** Overflow with 3 datablocks ***\n",
      "*** Overflow with 6 datablocks ***\n",
      "*** Overflow with 3 datablocks ***\n",
      "*** Overflow with 11 datablocks ***\n",
      "*** Overflow with 5 datablocks ***\n",
      "*** Overflow with 6 datablocks ***\n",
      "*** Overflow with 10 datablocks ***\n",
      "*** Overflow with 4 datablocks ***\n",
      "*** Overflow with 3 datablocks ***\n",
      "*** Overflow with 6 datablocks ***\n",
      "*** Overflow with 6 datablocks ***\n",
      "*** Overflow with 6 datablocks ***\n",
      "*** Overflow with 9 datablocks ***\n",
      "*** Overflow with 6 datablocks ***\n",
      "*** Overflow with 3 datablocks ***\n",
      "*** Overflow with 5 datablocks ***\n",
      "*** Overflow with 5 datablocks ***\n",
      "*** Overflow with 5 datablocks ***\n",
      "*** Overflow with 5 datablocks ***\n",
      "*** Overflow with 4 datablocks ***\n",
      "*** Overflow with 3 datablocks ***\n"
     ]
    },
    {
     "name": "stderr",
     "output_type": "stream",
     "text": [
      "WARNING:wyrm.types:Discarding data that was longer than the ring buffer.\n"
     ]
    },
    {
     "name": "stdout",
     "output_type": "stream",
     "text": [
      "*** Overflow with 7 datablocks ***\n",
      "*** Overflow with 5 datablocks ***\n",
      "*** Overflow with 4 datablocks ***\n",
      "*** Overflow with 5 datablocks ***\n",
      "*** Overflow with 5 datablocks ***\n",
      "*** Overflow with 9 datablocks ***\n",
      "*** Overflow with 5 datablocks ***\n",
      "*** Overflow with 5 datablocks ***\n",
      "*** Overflow with 5 datablocks ***\n"
     ]
    },
    {
     "name": "stderr",
     "output_type": "stream",
     "text": [
      "WARNING:wyrm.types:Discarding data that was longer than the ring buffer.\n"
     ]
    },
    {
     "name": "stdout",
     "output_type": "stream",
     "text": [
      "*** Overflow with 5 datablocks ***\n",
      "*** Overflow with 6 datablocks ***\n",
      "*** Overflow with 5 datablocks ***\n",
      "*** Overflow with 4 datablocks ***\n",
      "*** Overflow with 2 datablocks ***\n",
      "*** Overflow with 5 datablocks ***\n",
      "*** Overflow with 8 datablocks ***\n",
      "*** Overflow with 5 datablocks ***\n",
      "*** Overflow with 5 datablocks ***\n",
      "*** Overflow with 5 datablocks ***\n"
     ]
    },
    {
     "name": "stderr",
     "output_type": "stream",
     "text": [
      "WARNING:wyrm.types:Discarding data that was longer than the ring buffer.\n"
     ]
    },
    {
     "name": "stdout",
     "output_type": "stream",
     "text": [
      "*** Overflow with 7 datablocks ***\n",
      "*** Overflow with 6 datablocks ***\n",
      "*** Overflow with 4 datablocks ***\n",
      "sending signal! - 391 False - 29002.159806598986 -- 6.499999999999985\n",
      "*** Overflow with 5 datablocks ***\n",
      "*** Overflow with 3 datablocks ***\n",
      "*** Overflow with 8 datablocks ***\n",
      "*** Overflow with 4 datablocks ***\n",
      "*** Overflow with 6 datablocks ***\n",
      "*** Overflow with 4 datablocks ***\n",
      "*** Overflow with 6 datablocks ***\n",
      "*** Overflow with 7 datablocks ***\n",
      "*** Overflow with 7 datablocks ***\n",
      "*** Overflow with 5 datablocks ***\n",
      "*** Overflow with 5 datablocks ***\n",
      "*** Overflow with 4 datablocks ***\n",
      "*** Overflow with 6 datablocks ***\n",
      "*** Overflow with 4 datablocks ***\n",
      "*** Overflow with 5 datablocks ***\n"
     ]
    },
    {
     "name": "stderr",
     "output_type": "stream",
     "text": [
      "WARNING:wyrm.types:Discarding data that was longer than the ring buffer.\n"
     ]
    },
    {
     "name": "stdout",
     "output_type": "stream",
     "text": [
      "*** Overflow with 7 datablocks ***\n",
      "*** Overflow with 6 datablocks ***\n",
      "*** Overflow with 6 datablocks ***\n",
      "*** Overflow with 5 datablocks ***\n",
      "*** Overflow with 4 datablocks ***\n",
      "*** Overflow with 3 datablocks ***\n",
      "*** Overflow with 6 datablocks ***\n",
      "*** Overflow with 5 datablocks ***\n"
     ]
    },
    {
     "name": "stderr",
     "output_type": "stream",
     "text": [
      "WARNING:wyrm.types:Discarding data that was longer than the ring buffer.\n"
     ]
    },
    {
     "name": "stdout",
     "output_type": "stream",
     "text": [
      "*** Overflow with 5 datablocks ***\n",
      "*** Overflow with 2 datablocks ***\n",
      "*** Overflow with 8 datablocks ***\n",
      "*** Overflow with 8 datablocks ***\n",
      "*** Overflow with 7 datablocks ***\n",
      "*** Overflow with 5 datablocks ***\n",
      "*** Overflow with 5 datablocks ***\n",
      "*** Overflow with 4 datablocks ***\n",
      "*** Overflow with 10 datablocks ***\n",
      "*** Overflow with 6 datablocks ***\n",
      "*** Overflow with 6 datablocks ***\n",
      "*** Overflow with 5 datablocks ***\n",
      "*** Overflow with 9 datablocks ***\n",
      "*** Overflow with 5 datablocks ***\n",
      "*** Overflow with 6 datablocks ***\n",
      "*** Overflow with 6 datablocks ***\n",
      "*** Overflow with 3 datablocks ***\n",
      "*** Overflow with 4 datablocks ***\n",
      "*** Overflow with 7 datablocks ***\n",
      "*** Overflow with 6 datablocks ***\n",
      "*** Overflow with 7 datablocks ***\n",
      "*** Overflow with 5 datablocks ***\n",
      "*** Overflow with 5 datablocks ***\n",
      "*** Overflow with 5 datablocks ***\n",
      "*** Overflow with 5 datablocks ***\n",
      "*** Overflow with 6 datablocks ***\n",
      "*** Overflow with 12 datablocks ***\n",
      "*** Overflow with 5 datablocks ***\n",
      "*** Overflow with 5 datablocks ***\n",
      "*** Overflow with 5 datablocks ***\n",
      "*** Overflow with 5 datablocks ***\n",
      "*** Overflow with 8 datablocks ***\n",
      "*** Overflow with 5 datablocks ***\n",
      "*** Overflow with 6 datablocks ***\n",
      "*** Overflow with 5 datablocks ***\n",
      "sending signal! - 398 False - 29622.587812602764 -- 6.549999999999985\n",
      "*** Overflow with 6 datablocks ***\n",
      "*** Overflow with 3 datablocks ***\n",
      "*** Overflow with 6 datablocks ***\n",
      "*** Overflow with 5 datablocks ***\n",
      "*** Overflow with 3 datablocks ***\n",
      "*** Overflow with 4 datablocks ***\n",
      "*** Overflow with 10 datablocks ***\n",
      "*** Overflow with 5 datablocks ***\n",
      "*** Overflow with 5 datablocks ***\n",
      "*** Overflow with 5 datablocks ***\n",
      "*** Overflow with 4 datablocks ***\n",
      "*** Overflow with 6 datablocks ***\n",
      "*** Overflow with 6 datablocks ***\n",
      "*** Overflow with 4 datablocks ***\n"
     ]
    },
    {
     "name": "stderr",
     "output_type": "stream",
     "text": [
      "WARNING:wyrm.types:Discarding data that was longer than the ring buffer.\n"
     ]
    },
    {
     "name": "stdout",
     "output_type": "stream",
     "text": [
      "*** Overflow with 2 datablocks ***\n",
      "*** Overflow with 7 datablocks ***\n",
      "*** Overflow with 6 datablocks ***\n",
      "*** Overflow with 5 datablocks ***\n",
      "*** Overflow with 6 datablocks ***\n",
      "*** Overflow with 9 datablocks ***\n",
      "*** Overflow with 4 datablocks ***\n",
      "*** Overflow with 5 datablocks ***\n",
      "*** Overflow with 6 datablocks ***\n",
      "*** Overflow with 7 datablocks ***\n",
      "*** Overflow with 5 datablocks ***\n",
      "*** Overflow with 6 datablocks ***\n",
      "*** Overflow with 4 datablocks ***\n",
      "*** Overflow with 5 datablocks ***\n",
      "*** Overflow with 5 datablocks ***\n",
      "*** Overflow with 5 datablocks ***\n",
      "*** Overflow with 5 datablocks ***\n",
      "*** Overflow with 6 datablocks ***\n",
      "*** Overflow with 4 datablocks ***\n",
      "*** Overflow with 8 datablocks ***\n"
     ]
    },
    {
     "name": "stderr",
     "output_type": "stream",
     "text": [
      "WARNING:wyrm.types:Discarding data that was longer than the ring buffer.\n"
     ]
    },
    {
     "name": "stdout",
     "output_type": "stream",
     "text": [
      "*** Overflow with 4 datablocks ***\n",
      "*** Overflow with 4 datablocks ***\n",
      "*** Overflow with 5 datablocks ***\n",
      "*** Overflow with 5 datablocks ***\n",
      "*** Overflow with 5 datablocks ***\n",
      "*** Overflow with 5 datablocks ***\n",
      "*** Overflow with 2 datablocks ***\n",
      "*** Overflow with 6 datablocks ***\n",
      "*** Overflow with 5 datablocks ***\n",
      "*** Overflow with 5 datablocks ***\n"
     ]
    },
    {
     "name": "stderr",
     "output_type": "stream",
     "text": [
      "WARNING:wyrm.types:Discarding data that was longer than the ring buffer.\n"
     ]
    },
    {
     "name": "stdout",
     "output_type": "stream",
     "text": [
      "*** Overflow with 7 datablocks ***\n",
      "*** Overflow with 4 datablocks ***\n",
      "*** Overflow with 5 datablocks ***\n",
      "*** Overflow with 4 datablocks ***\n",
      "*** Overflow with 4 datablocks ***\n",
      "*** Overflow with 5 datablocks ***\n",
      "*** Overflow with 5 datablocks ***\n",
      "*** Overflow with 4 datablocks ***\n",
      "*** Overflow with 6 datablocks ***\n",
      "*** Overflow with 6 datablocks ***\n",
      "*** Overflow with 6 datablocks ***\n",
      "*** Overflow with 6 datablocks ***\n",
      "*** Overflow with 8 datablocks ***\n",
      "*** Overflow with 9 datablocks ***\n",
      "*** Overflow with 4 datablocks ***\n",
      "*** Overflow with 5 datablocks ***\n",
      "sending signal! - 405 False - 30146.96639167156 -- 6.5999999999999845\n",
      "*** Overflow with 8 datablocks ***\n",
      "*** Overflow with 5 datablocks ***\n",
      "*** Overflow with 6 datablocks ***\n",
      "*** Overflow with 5 datablocks ***\n",
      "*** Overflow with 9 datablocks ***\n",
      "*** Overflow with 13 datablocks ***\n",
      "*** Overflow with 4 datablocks ***\n",
      "*** Overflow with 6 datablocks ***\n",
      "*** Overflow with 5 datablocks ***\n",
      "*** Overflow with 5 datablocks ***\n",
      "*** Overflow with 3 datablocks ***\n",
      "*** Overflow with 6 datablocks ***\n",
      "*** Overflow with 5 datablocks ***\n"
     ]
    },
    {
     "name": "stderr",
     "output_type": "stream",
     "text": [
      "WARNING:wyrm.types:Discarding data that was longer than the ring buffer.\n"
     ]
    },
    {
     "name": "stdout",
     "output_type": "stream",
     "text": [
      "*** Overflow with 6 datablocks ***\n",
      "*** Overflow with 6 datablocks ***\n",
      "*** Overflow with 4 datablocks ***\n",
      "*** Overflow with 6 datablocks ***\n",
      "*** Overflow with 7 datablocks ***\n",
      "*** Overflow with 4 datablocks ***\n",
      "*** Overflow with 6 datablocks ***\n",
      "*** Overflow with 3 datablocks ***\n",
      "*** Overflow with 6 datablocks ***\n",
      "*** Overflow with 7 datablocks ***\n",
      "*** Overflow with 5 datablocks ***\n"
     ]
    },
    {
     "name": "stderr",
     "output_type": "stream",
     "text": [
      "WARNING:wyrm.types:Discarding data that was longer than the ring buffer.\n"
     ]
    },
    {
     "name": "stdout",
     "output_type": "stream",
     "text": [
      "*** Overflow with 5 datablocks ***\n",
      "*** Overflow with 4 datablocks ***\n",
      "*** Overflow with 5 datablocks ***\n",
      "*** Overflow with 6 datablocks ***\n",
      "*** Overflow with 6 datablocks ***\n",
      "*** Overflow with 5 datablocks ***\n",
      "*** Overflow with 5 datablocks ***\n",
      "*** Overflow with 5 datablocks ***\n",
      "*** Overflow with 4 datablocks ***\n"
     ]
    },
    {
     "name": "stderr",
     "output_type": "stream",
     "text": [
      "WARNING:wyrm.types:Discarding data that was longer than the ring buffer.\n"
     ]
    },
    {
     "name": "stdout",
     "output_type": "stream",
     "text": [
      "*** Overflow with 3 datablocks ***\n",
      "*** Overflow with 6 datablocks ***\n",
      "*** Overflow with 6 datablocks ***\n",
      "*** Overflow with 6 datablocks ***\n",
      "*** Overflow with 5 datablocks ***\n",
      "*** Overflow with 6 datablocks ***\n",
      "*** Overflow with 5 datablocks ***\n",
      "*** Overflow with 3 datablocks ***\n",
      "*** Overflow with 7 datablocks ***\n",
      "*** Overflow with 9 datablocks ***\n",
      "*** Overflow with 5 datablocks ***\n",
      "*** Overflow with 4 datablocks ***\n",
      "*** Overflow with 9 datablocks ***\n",
      "*** Overflow with 7 datablocks ***\n",
      "*** Overflow with 4 datablocks ***\n",
      "*** Overflow with 5 datablocks ***\n",
      "*** Overflow with 9 datablocks ***\n",
      "*** Overflow with 4 datablocks ***\n",
      "*** Overflow with 6 datablocks ***\n",
      "*** Overflow with 3 datablocks ***\n",
      "*** Overflow with 6 datablocks ***\n",
      "*** Overflow with 7 datablocks ***\n",
      "*** Overflow with 4 datablocks ***\n",
      "*** Overflow with 6 datablocks ***\n",
      "*** Overflow with 7 datablocks ***\n",
      "*** Overflow with 9 datablocks ***\n",
      "*** Overflow with 5 datablocks ***\n",
      "*** Overflow with 3 datablocks ***\n",
      "sending signal! - 412 False - 30672.52962953667 -- 6.649999999999984\n",
      "*** Overflow with 6 datablocks ***\n",
      "*** Overflow with 6 datablocks ***\n",
      "*** Overflow with 4 datablocks ***\n",
      "*** Overflow with 3 datablocks ***\n",
      "*** Overflow with 5 datablocks ***\n",
      "*** Overflow with 6 datablocks ***\n",
      "*** Overflow with 4 datablocks ***\n",
      "*** Overflow with 8 datablocks ***\n",
      "*** Overflow with 4 datablocks ***\n",
      "*** Overflow with 6 datablocks ***\n",
      "*** Overflow with 8 datablocks ***\n",
      "*** Overflow with 4 datablocks ***\n",
      "*** Overflow with 6 datablocks ***\n"
     ]
    },
    {
     "ename": "MemoryError",
     "evalue": "cannot allocate memory for array",
     "output_type": "error",
     "traceback": [
      "\u001b[0;31m---------------------------------------------------------------------------\u001b[0m",
      "\u001b[0;31mMemoryError\u001b[0m                               Traceback (most recent call last)",
      "\u001b[0;32m<ipython-input-93-7287f1f735ed>\u001b[0m in \u001b[0;36m<module>\u001b[0;34m()\u001b[0m\n\u001b[0;32m----> 1\u001b[0;31m \u001b[0mnf_trial\u001b[0m\u001b[0;34m(\u001b[0m\u001b[0;36m1\u001b[0m\u001b[0;34m,\u001b[0m \u001b[0mthres\u001b[0m\u001b[0;34m)\u001b[0m\u001b[0;34m\u001b[0m\u001b[0m\n\u001b[0m",
      "\u001b[0;32m~/.conda/envs/rt/lib/python3.6/site-packages/memory_profiler.py\u001b[0m in \u001b[0;36mwrapper\u001b[0;34m(*args, **kwargs)\u001b[0m\n\u001b[1;32m   1072\u001b[0m         \u001b[0;32mdef\u001b[0m \u001b[0mwrapper\u001b[0m\u001b[0;34m(\u001b[0m\u001b[0;34m*\u001b[0m\u001b[0margs\u001b[0m\u001b[0;34m,\u001b[0m \u001b[0;34m**\u001b[0m\u001b[0mkwargs\u001b[0m\u001b[0;34m)\u001b[0m\u001b[0;34m:\u001b[0m\u001b[0;34m\u001b[0m\u001b[0m\n\u001b[1;32m   1073\u001b[0m             \u001b[0mprof\u001b[0m \u001b[0;34m=\u001b[0m \u001b[0mLineProfiler\u001b[0m\u001b[0;34m(\u001b[0m\u001b[0mbackend\u001b[0m\u001b[0;34m=\u001b[0m\u001b[0mbackend\u001b[0m\u001b[0;34m)\u001b[0m\u001b[0;34m\u001b[0m\u001b[0m\n\u001b[0;32m-> 1074\u001b[0;31m             \u001b[0mval\u001b[0m \u001b[0;34m=\u001b[0m \u001b[0mprof\u001b[0m\u001b[0;34m(\u001b[0m\u001b[0mfunc\u001b[0m\u001b[0;34m)\u001b[0m\u001b[0;34m(\u001b[0m\u001b[0;34m*\u001b[0m\u001b[0margs\u001b[0m\u001b[0;34m,\u001b[0m \u001b[0;34m**\u001b[0m\u001b[0mkwargs\u001b[0m\u001b[0;34m)\u001b[0m\u001b[0;34m\u001b[0m\u001b[0m\n\u001b[0m\u001b[1;32m   1075\u001b[0m             \u001b[0mshow_results\u001b[0m\u001b[0;34m(\u001b[0m\u001b[0mprof\u001b[0m\u001b[0;34m,\u001b[0m \u001b[0mstream\u001b[0m\u001b[0;34m=\u001b[0m\u001b[0mstream\u001b[0m\u001b[0;34m,\u001b[0m \u001b[0mprecision\u001b[0m\u001b[0;34m=\u001b[0m\u001b[0mprecision\u001b[0m\u001b[0;34m)\u001b[0m\u001b[0;34m\u001b[0m\u001b[0m\n\u001b[1;32m   1076\u001b[0m             \u001b[0;32mreturn\u001b[0m \u001b[0mval\u001b[0m\u001b[0;34m\u001b[0m\u001b[0m\n",
      "\u001b[0;32m~/.conda/envs/rt/lib/python3.6/site-packages/memory_profiler.py\u001b[0m in \u001b[0;36mf\u001b[0;34m(*args, **kwds)\u001b[0m\n\u001b[1;32m    658\u001b[0m             \u001b[0mself\u001b[0m\u001b[0;34m.\u001b[0m\u001b[0menable_by_count\u001b[0m\u001b[0;34m(\u001b[0m\u001b[0;34m)\u001b[0m\u001b[0;34m\u001b[0m\u001b[0m\n\u001b[1;32m    659\u001b[0m             \u001b[0;32mtry\u001b[0m\u001b[0;34m:\u001b[0m\u001b[0;34m\u001b[0m\u001b[0m\n\u001b[0;32m--> 660\u001b[0;31m                 \u001b[0;32mreturn\u001b[0m \u001b[0mfunc\u001b[0m\u001b[0;34m(\u001b[0m\u001b[0;34m*\u001b[0m\u001b[0margs\u001b[0m\u001b[0;34m,\u001b[0m \u001b[0;34m**\u001b[0m\u001b[0mkwds\u001b[0m\u001b[0;34m)\u001b[0m\u001b[0;34m\u001b[0m\u001b[0m\n\u001b[0m\u001b[1;32m    661\u001b[0m             \u001b[0;32mfinally\u001b[0m\u001b[0;34m:\u001b[0m\u001b[0;34m\u001b[0m\u001b[0m\n\u001b[1;32m    662\u001b[0m                 \u001b[0mself\u001b[0m\u001b[0;34m.\u001b[0m\u001b[0mdisable_by_count\u001b[0m\u001b[0;34m(\u001b[0m\u001b[0;34m)\u001b[0m\u001b[0;34m\u001b[0m\u001b[0m\n",
      "\u001b[0;32m<ipython-input-92-2335fb02f3be>\u001b[0m in \u001b[0;36mnf_trial\u001b[0;34m(task, thr, count)\u001b[0m\n\u001b[1;32m    168\u001b[0m \u001b[0;34m\u001b[0m\u001b[0m\n\u001b[1;32m    169\u001b[0m             \u001b[0malld\u001b[0m\u001b[0;34m.\u001b[0m\u001b[0mextend\u001b[0m\u001b[0;34m(\u001b[0m\u001b[0meeg_cnt\u001b[0m\u001b[0;34m.\u001b[0m\u001b[0mdata\u001b[0m\u001b[0;34m)\u001b[0m\u001b[0;34m\u001b[0m\u001b[0m\n\u001b[0;32m--> 170\u001b[0;31m             \u001b[0malld_ica\u001b[0m\u001b[0;34m.\u001b[0m\u001b[0mextend\u001b[0m\u001b[0;34m(\u001b[0m\u001b[0mdata\u001b[0m\u001b[0;34m)\u001b[0m\u001b[0;34m\u001b[0m\u001b[0m\n\u001b[0m\u001b[1;32m    171\u001b[0m \u001b[0;34m\u001b[0m\u001b[0m\n\u001b[1;32m    172\u001b[0m             \u001b[0;32mfor\u001b[0m \u001b[0mm\u001b[0m \u001b[0;32min\u001b[0m \u001b[0mmarker\u001b[0m\u001b[0;34m:\u001b[0m\u001b[0;34m\u001b[0m\u001b[0m\n",
      "\u001b[0;32m~/.conda/envs/rt/lib/python3.6/site-packages/dynarray/dynamic_array.py\u001b[0m in \u001b[0;36mextend\u001b[0;34m(self, values)\u001b[0m\n\u001b[1;32m    179\u001b[0m         \u001b[0;32mif\u001b[0m \u001b[0mrequired_size\u001b[0m \u001b[0;34m>=\u001b[0m \u001b[0mself\u001b[0m\u001b[0;34m.\u001b[0m\u001b[0m_capacity\u001b[0m\u001b[0;34m:\u001b[0m\u001b[0;34m\u001b[0m\u001b[0m\n\u001b[1;32m    180\u001b[0m             self._grow(max(self._capacity * 2,\n\u001b[0;32m--> 181\u001b[0;31m                            required_size))\n\u001b[0m\u001b[1;32m    182\u001b[0m \u001b[0;34m\u001b[0m\u001b[0m\n\u001b[1;32m    183\u001b[0m         \u001b[0mself\u001b[0m\u001b[0;34m.\u001b[0m\u001b[0m_data\u001b[0m\u001b[0;34m[\u001b[0m\u001b[0mself\u001b[0m\u001b[0;34m.\u001b[0m\u001b[0m_size\u001b[0m\u001b[0;34m:\u001b[0m\u001b[0mrequired_size\u001b[0m\u001b[0;34m]\u001b[0m \u001b[0;34m=\u001b[0m \u001b[0mvalues\u001b[0m\u001b[0;34m\u001b[0m\u001b[0m\n",
      "\u001b[0;32m~/.conda/envs/rt/lib/python3.6/site-packages/dynarray/dynamic_array.py\u001b[0m in \u001b[0;36m_grow\u001b[0;34m(self, new_size)\u001b[0m\n\u001b[1;32m    111\u001b[0m \u001b[0;34m\u001b[0m\u001b[0m\n\u001b[1;32m    112\u001b[0m         \u001b[0;32mtry\u001b[0m\u001b[0;34m:\u001b[0m\u001b[0;34m\u001b[0m\u001b[0m\n\u001b[0;32m--> 113\u001b[0;31m             \u001b[0mself\u001b[0m\u001b[0;34m.\u001b[0m\u001b[0m_data\u001b[0m\u001b[0;34m.\u001b[0m\u001b[0mresize\u001b[0m\u001b[0;34m(\u001b[0m\u001b[0;34m(\u001b[0m\u001b[0;34m(\u001b[0m\u001b[0mnew_size\u001b[0m\u001b[0;34m,\u001b[0m\u001b[0;34m)\u001b[0m \u001b[0;34m+\u001b[0m \u001b[0mself\u001b[0m\u001b[0;34m.\u001b[0m\u001b[0m_get_trailing_dimensions\u001b[0m\u001b[0;34m(\u001b[0m\u001b[0;34m)\u001b[0m\u001b[0;34m)\u001b[0m\u001b[0;34m)\u001b[0m\u001b[0;34m\u001b[0m\u001b[0m\n\u001b[0m\u001b[1;32m    114\u001b[0m         \u001b[0;32mexcept\u001b[0m \u001b[0mValueError\u001b[0m \u001b[0;32mas\u001b[0m \u001b[0me\u001b[0m\u001b[0;34m:\u001b[0m\u001b[0;34m\u001b[0m\u001b[0m\n\u001b[1;32m    115\u001b[0m             \u001b[0;32mif\u001b[0m \u001b[0;34m'an array that references'\u001b[0m \u001b[0;32min\u001b[0m \u001b[0me\u001b[0m\u001b[0;34m.\u001b[0m\u001b[0mmessage\u001b[0m\u001b[0;34m:\u001b[0m\u001b[0;34m\u001b[0m\u001b[0m\n",
      "\u001b[0;31mMemoryError\u001b[0m: cannot allocate memory for array"
     ]
    },
    {
     "name": "stdout",
     "output_type": "stream",
     "text": [
      "*** Overflow with 6 datablocks ***\n",
      "*** Overflow with 4 datablocks ***\n",
      "*** Overflow with 7 datablocks ***\n",
      "*** Overflow with 8 datablocks ***\n",
      "*** Overflow with 4 datablocks ***\n",
      "*** Overflow with 5 datablocks ***\n",
      "*** Overflow with 4 datablocks ***\n",
      "*** Overflow with 4 datablocks ***\n",
      "*** Overflow with 2 datablocks ***\n",
      "*** Overflow with 3 datablocks ***\n",
      "*** Overflow with 3 datablocks ***\n",
      "*** Overflow with 3 datablocks ***\n",
      "*** Overflow with 3 datablocks ***\n",
      "*** Overflow with 4 datablocks ***\n",
      "*** Overflow with 2 datablocks ***\n",
      "*** Overflow with 3 datablocks ***\n",
      "*** Overflow with 3 datablocks ***\n",
      "*** Overflow with 4 datablocks ***\n",
      "*** Overflow with 9 datablocks ***\n",
      "*** Overflow with 3 datablocks ***\n",
      "*** Overflow with 6 datablocks ***\n",
      "*** Overflow with 2 datablocks ***\n",
      "*** Overflow with 4 datablocks ***\n",
      "*** Overflow with 4 datablocks ***\n",
      "*** Overflow with 4 datablocks ***\n",
      "*** Overflow with 4 datablocks ***\n",
      "*** Overflow with 6 datablocks ***\n",
      "*** Overflow with 5 datablocks ***\n",
      "*** Overflow with 5 datablocks ***\n",
      "*** Overflow with 4 datablocks ***\n",
      "*** Overflow with 5 datablocks ***\n",
      "*** Overflow with 3 datablocks ***\n",
      "*** Overflow with 2 datablocks ***\n",
      "*** Overflow with 4 datablocks ***\n",
      "*** Overflow with 2 datablocks ***\n",
      "*** Overflow with 2 datablocks ***\n",
      "*** Overflow with 2 datablocks ***\n",
      "*** Overflow with 3 datablocks ***\n",
      "*** Overflow with 3 datablocks ***\n",
      "*** Overflow with 2 datablocks ***\n",
      "*** Overflow with 4 datablocks ***\n",
      "*** Overflow with 2 datablocks ***\n",
      "*** Overflow with 2 datablocks ***\n",
      "*** Overflow with 2 datablocks ***\n",
      "*** Overflow with 6 datablocks ***\n",
      "*** Overflow with 2 datablocks ***\n",
      "*** Overflow with 6 datablocks ***\n",
      "*** Overflow with 4 datablocks ***\n",
      "*** Overflow with 5 datablocks ***\n",
      "*** Overflow with 4 datablocks ***\n",
      "*** Overflow with 5 datablocks ***\n",
      "*** Overflow with 5 datablocks ***\n",
      "*** Overflow with 5 datablocks ***\n",
      "*** Overflow with 4 datablocks ***\n",
      "*** Overflow with 6 datablocks ***\n",
      "*** Overflow with 5 datablocks ***\n",
      "*** Overflow with 3 datablocks ***\n",
      "*** Overflow with 2 datablocks ***\n",
      "*** Overflow with 3 datablocks ***\n",
      "*** Overflow with 3 datablocks ***\n",
      "*** Overflow with 2 datablocks ***\n",
      "*** Overflow with 3 datablocks ***\n",
      "*** Overflow with 4 datablocks ***\n",
      "*** Overflow with 2 datablocks ***\n",
      "*** Overflow with 3 datablocks ***\n",
      "*** Overflow with 5 datablocks ***\n",
      "*** Overflow with 4 datablocks ***\n",
      "*** Overflow with 6 datablocks ***\n",
      "*** Overflow with 6 datablocks ***\n",
      "*** Overflow with 4 datablocks ***\n",
      "*** Overflow with 3 datablocks ***\n",
      "*** Overflow with 4 datablocks ***\n",
      "*** Overflow with 2 datablocks ***\n",
      "*** Overflow with 3 datablocks ***\n",
      "*** Overflow with 2 datablocks ***\n",
      "*** Overflow with 4 datablocks ***\n",
      "*** Overflow with 3 datablocks ***\n",
      "*** Overflow with 5 datablocks ***\n",
      "*** Overflow with 6 datablocks ***\n",
      "*** Overflow with 5 datablocks ***\n",
      "*** Overflow with 5 datablocks ***\n",
      "*** Overflow with 5 datablocks ***\n",
      "*** Overflow with 2 datablocks ***\n",
      "*** Overflow with 3 datablocks ***\n",
      "*** Overflow with 3 datablocks ***\n",
      "*** Overflow with 4 datablocks ***\n",
      "*** Overflow with 2 datablocks ***\n",
      "*** Overflow with 3 datablocks ***\n",
      "*** Overflow with 2 datablocks ***\n",
      "*** Overflow with 3 datablocks ***\n",
      "*** Overflow with 4 datablocks ***\n",
      "*** Overflow with 6 datablocks ***\n",
      "*** Overflow with 4 datablocks ***\n",
      "*** Overflow with 6 datablocks ***\n",
      "*** Overflow with 2 datablocks ***\n",
      "*** Overflow with 4 datablocks ***\n",
      "*** Overflow with 2 datablocks ***\n",
      "*** Overflow with 3 datablocks ***\n",
      "*** Overflow with 2 datablocks ***\n",
      "*** Overflow with 2 datablocks ***\n",
      "*** Overflow with 4 datablocks ***\n",
      "*** Overflow with 3 datablocks ***\n",
      "*** Overflow with 3 datablocks ***\n",
      "*** Overflow with 3 datablocks ***\n",
      "*** Overflow with 2 datablocks ***\n",
      "*** Overflow with 5 datablocks ***\n",
      "*** Overflow with 4 datablocks ***\n",
      "*** Overflow with 5 datablocks ***\n",
      "*** Overflow with 3 datablocks ***\n",
      "*** Overflow with 2 datablocks ***\n",
      "*** Overflow with 5 datablocks ***\n",
      "*** Overflow with 3 datablocks ***\n",
      "*** Overflow with 2 datablocks ***\n",
      "*** Overflow with 3 datablocks ***\n",
      "*** Overflow with 3 datablocks ***\n",
      "*** Overflow with 2 datablocks ***\n",
      "*** Overflow with 2 datablocks ***\n",
      "*** Overflow with 4 datablocks ***\n",
      "*** Overflow with 3 datablocks ***\n",
      "*** Overflow with 3 datablocks ***\n",
      "*** Overflow with 3 datablocks ***\n",
      "*** Overflow with 2 datablocks ***\n",
      "*** Overflow with 2 datablocks ***\n",
      "*** Overflow with 4 datablocks ***\n",
      "*** Overflow with 3 datablocks ***\n",
      "*** Overflow with 3 datablocks ***\n",
      "*** Overflow with 3 datablocks ***\n",
      "*** Overflow with 2 datablocks ***\n",
      "*** Overflow with 5 datablocks ***\n",
      "*** Overflow with 2 datablocks ***\n",
      "*** Overflow with 3 datablocks ***\n",
      "*** Overflow with 2 datablocks ***\n",
      "*** Overflow with 4 datablocks ***\n",
      "*** Overflow with 2 datablocks ***\n",
      "*** Overflow with 6 datablocks ***\n",
      "*** Overflow with 4 datablocks ***\n",
      "*** Overflow with 6 datablocks ***\n",
      "*** Overflow with 5 datablocks ***\n",
      "*** Overflow with 4 datablocks ***\n",
      "*** Overflow with 5 datablocks ***\n",
      "*** Overflow with 6 datablocks ***\n",
      "*** Overflow with 5 datablocks ***\n",
      "*** Overflow with 4 datablocks ***\n",
      "*** Overflow with 4 datablocks ***\n",
      "*** Overflow with 5 datablocks ***\n",
      "*** Overflow with 6 datablocks ***\n",
      "*** Overflow with 4 datablocks ***\n",
      "*** Overflow with 4 datablocks ***\n",
      "*** Overflow with 4 datablocks ***\n",
      "*** Overflow with 6 datablocks ***\n",
      "*** Overflow with 5 datablocks ***\n",
      "*** Overflow with 5 datablocks ***\n",
      "*** Overflow with 4 datablocks ***\n",
      "*** Overflow with 5 datablocks ***\n",
      "*** Overflow with 5 datablocks ***\n",
      "*** Overflow with 5 datablocks ***\n",
      "*** Overflow with 4 datablocks ***\n",
      "*** Overflow with 3 datablocks ***\n",
      "*** Overflow with 3 datablocks ***\n",
      "*** Overflow with 2 datablocks ***\n",
      "*** Overflow with 2 datablocks ***\n",
      "*** Overflow with 4 datablocks ***\n",
      "*** Overflow with 6 datablocks ***\n",
      "*** Overflow with 5 datablocks ***\n",
      "*** Overflow with 5 datablocks ***\n",
      "*** Overflow with 5 datablocks ***\n",
      "*** Overflow with 6 datablocks ***\n",
      "*** Overflow with 8 datablocks ***\n",
      "*** Overflow with 4 datablocks ***\n",
      "*** Overflow with 5 datablocks ***\n",
      "*** Overflow with 3 datablocks ***\n",
      "*** Overflow with 6 datablocks ***\n",
      "*** Overflow with 4 datablocks ***\n",
      "*** Overflow with 6 datablocks ***\n",
      "*** Overflow with 4 datablocks ***\n",
      "*** Overflow with 4 datablocks ***\n",
      "*** Overflow with 5 datablocks ***\n",
      "*** Overflow with 5 datablocks ***\n",
      "*** Overflow with 4 datablocks ***\n",
      "*** Overflow with 7 datablocks ***\n",
      "*** Overflow with 8 datablocks ***\n",
      "*** Overflow with 5 datablocks ***\n",
      "*** Overflow with 4 datablocks ***\n",
      "*** Overflow with 3 datablocks ***\n",
      "*** Overflow with 6 datablocks ***\n",
      "*** Overflow with 5 datablocks ***\n",
      "*** Overflow with 5 datablocks ***\n",
      "*** Overflow with 2 datablocks ***\n",
      "*** Overflow with 7 datablocks ***\n",
      "*** Overflow with 5 datablocks ***\n",
      "*** Overflow with 5 datablocks ***\n",
      "*** Overflow with 5 datablocks ***\n",
      "*** Overflow with 5 datablocks ***\n",
      "*** Overflow with 5 datablocks ***\n",
      "*** Overflow with 8 datablocks ***\n",
      "*** Overflow with 2 datablocks ***\n",
      "*** Overflow with 3 datablocks ***\n",
      "*** Overflow with 3 datablocks ***\n",
      "*** Overflow with 2 datablocks ***\n",
      "*** Overflow with 2 datablocks ***\n",
      "*** Overflow with 6 datablocks ***\n",
      "*** Overflow with 5 datablocks ***\n",
      "*** Overflow with 6 datablocks ***\n",
      "*** Overflow with 6 datablocks ***\n",
      "*** Overflow with 4 datablocks ***\n",
      "*** Overflow with 2 datablocks ***\n",
      "*** Overflow with 4 datablocks ***\n",
      "*** Overflow with 2 datablocks ***\n",
      "*** Overflow with 5 datablocks ***\n",
      "*** Overflow with 5 datablocks ***\n",
      "*** Overflow with 6 datablocks ***\n",
      "*** Overflow with 7 datablocks ***\n",
      "*** Overflow with 4 datablocks ***\n",
      "*** Overflow with 6 datablocks ***\n",
      "*** Overflow with 4 datablocks ***\n",
      "*** Overflow with 6 datablocks ***\n",
      "*** Overflow with 9 datablocks ***\n",
      "*** Overflow with 4 datablocks ***\n",
      "*** Overflow with 5 datablocks ***\n",
      "*** Overflow with 4 datablocks ***\n",
      "*** Overflow with 3 datablocks ***\n",
      "*** Overflow with 2 datablocks ***\n",
      "*** Overflow with 2 datablocks ***\n",
      "*** Overflow with 4 datablocks ***\n",
      "*** Overflow with 6 datablocks ***\n",
      "*** Overflow with 4 datablocks ***\n",
      "*** Overflow with 3 datablocks ***\n",
      "*** Overflow with 3 datablocks ***\n",
      "*** Overflow with 3 datablocks ***\n",
      "*** Overflow with 2 datablocks ***\n",
      "*** Overflow with 3 datablocks ***\n",
      "*** Overflow with 4 datablocks ***\n",
      "*** Overflow with 2 datablocks ***\n",
      "*** Overflow with 2 datablocks ***\n",
      "*** Overflow with 4 datablocks ***\n",
      "*** Overflow with 2 datablocks ***\n",
      "*** Overflow with 4 datablocks ***\n",
      "*** Overflow with 2 datablocks ***\n",
      "*** Overflow with 3 datablocks ***\n",
      "*** Overflow with 2 datablocks ***\n",
      "*** Overflow with 4 datablocks ***\n",
      "*** Overflow with 2 datablocks ***\n",
      "*** Overflow with 6 datablocks ***\n",
      "*** Overflow with 4 datablocks ***\n",
      "*** Overflow with 2 datablocks ***\n",
      "*** Overflow with 6 datablocks ***\n",
      "*** Overflow with 7 datablocks ***\n",
      "*** Overflow with 4 datablocks ***\n",
      "*** Overflow with 5 datablocks ***\n",
      "*** Overflow with 5 datablocks ***\n",
      "*** Overflow with 5 datablocks ***\n",
      "*** Overflow with 5 datablocks ***\n",
      "*** Overflow with 5 datablocks ***\n",
      "*** Overflow with 6 datablocks ***\n",
      "*** Overflow with 6 datablocks ***\n",
      "*** Overflow with 5 datablocks ***\n",
      "*** Overflow with 6 datablocks ***\n",
      "*** Overflow with 3 datablocks ***\n",
      "*** Overflow with 2 datablocks ***\n",
      "*** Overflow with 5 datablocks ***\n",
      "*** Overflow with 6 datablocks ***\n",
      "*** Overflow with 5 datablocks ***\n",
      "*** Overflow with 5 datablocks ***\n",
      "*** Overflow with 4 datablocks ***\n",
      "*** Overflow with 5 datablocks ***\n",
      "*** Overflow with 5 datablocks ***\n",
      "*** Overflow with 5 datablocks ***\n",
      "*** Overflow with 8 datablocks ***\n",
      "*** Overflow with 4 datablocks ***\n",
      "*** Overflow with 6 datablocks ***\n",
      "*** Overflow with 5 datablocks ***\n",
      "*** Overflow with 5 datablocks ***\n",
      "*** Overflow with 3 datablocks ***\n",
      "*** Overflow with 5 datablocks ***\n",
      "*** Overflow with 5 datablocks ***\n",
      "*** Overflow with 5 datablocks ***\n",
      "*** Overflow with 3 datablocks ***\n",
      "*** Overflow with 6 datablocks ***\n",
      "*** Overflow with 4 datablocks ***\n",
      "*** Overflow with 5 datablocks ***\n",
      "*** Overflow with 5 datablocks ***\n",
      "*** Overflow with 5 datablocks ***\n",
      "*** Overflow with 2 datablocks ***\n",
      "*** Overflow with 3 datablocks ***\n",
      "*** Overflow with 3 datablocks ***\n",
      "*** Overflow with 2 datablocks ***\n",
      "*** Overflow with 3 datablocks ***\n",
      "*** Overflow with 3 datablocks ***\n",
      "*** Overflow with 2 datablocks ***\n",
      "*** Overflow with 2 datablocks ***\n",
      "*** Overflow with 3 datablocks ***\n",
      "*** Overflow with 3 datablocks ***\n",
      "*** Overflow with 2 datablocks ***\n",
      "*** Overflow with 3 datablocks ***\n",
      "*** Overflow with 3 datablocks ***\n",
      "*** Overflow with 2 datablocks ***\n",
      "*** Overflow with 3 datablocks ***\n",
      "*** Overflow with 2 datablocks ***\n",
      "*** Overflow with 3 datablocks ***\n",
      "*** Overflow with 4 datablocks ***\n",
      "*** Overflow with 5 datablocks ***\n",
      "*** Overflow with 5 datablocks ***\n",
      "*** Overflow with 5 datablocks ***\n",
      "*** Overflow with 2 datablocks ***\n",
      "*** Overflow with 3 datablocks ***\n",
      "*** Overflow with 5 datablocks ***\n",
      "*** Overflow with 4 datablocks ***\n",
      "*** Overflow with 5 datablocks ***\n",
      "*** Overflow with 5 datablocks ***\n",
      "*** Overflow with 5 datablocks ***\n",
      "*** Overflow with 5 datablocks ***\n",
      "*** Overflow with 4 datablocks ***\n",
      "*** Overflow with 5 datablocks ***\n",
      "*** Overflow with 5 datablocks ***\n",
      "*** Overflow with 4 datablocks ***\n",
      "*** Overflow with 3 datablocks ***\n",
      "*** Overflow with 4 datablocks ***\n",
      "*** Overflow with 2 datablocks ***\n",
      "*** Overflow with 3 datablocks ***\n",
      "*** Overflow with 3 datablocks ***\n",
      "*** Overflow with 4 datablocks ***\n",
      "*** Overflow with 4 datablocks ***\n",
      "*** Overflow with 2 datablocks ***\n",
      "*** Overflow with 3 datablocks ***\n",
      "*** Overflow with 3 datablocks ***\n",
      "*** Overflow with 3 datablocks ***\n",
      "*** Overflow with 3 datablocks ***\n",
      "*** Overflow with 3 datablocks ***\n",
      "*** Overflow with 2 datablocks ***\n",
      "*** Overflow with 2 datablocks ***\n",
      "*** Overflow with 4 datablocks ***\n",
      "*** Overflow with 3 datablocks ***\n",
      "*** Overflow with 3 datablocks ***\n",
      "*** Overflow with 3 datablocks ***\n",
      "*** Overflow with 4 datablocks ***\n",
      "*** Overflow with 3 datablocks ***\n",
      "*** Overflow with 4 datablocks ***\n",
      "*** Overflow with 5 datablocks ***\n",
      "*** Overflow with 5 datablocks ***\n",
      "*** Overflow with 6 datablocks ***\n",
      "*** Overflow with 4 datablocks ***\n",
      "*** Overflow with 5 datablocks ***\n",
      "*** Overflow with 4 datablocks ***\n",
      "*** Overflow with 5 datablocks ***\n",
      "*** Overflow with 5 datablocks ***\n",
      "*** Overflow with 5 datablocks ***\n",
      "*** Overflow with 3 datablocks ***\n",
      "*** Overflow with 6 datablocks ***\n",
      "*** Overflow with 5 datablocks ***\n",
      "*** Overflow with 5 datablocks ***\n",
      "*** Overflow with 5 datablocks ***\n",
      "*** Overflow with 5 datablocks ***\n",
      "*** Overflow with 4 datablocks ***\n",
      "*** Overflow with 5 datablocks ***\n",
      "*** Overflow with 6 datablocks ***\n",
      "*** Overflow with 4 datablocks ***\n",
      "*** Overflow with 6 datablocks ***\n",
      "*** Overflow with 3 datablocks ***\n",
      "*** Overflow with 5 datablocks ***\n",
      "*** Overflow with 6 datablocks ***\n",
      "*** Overflow with 5 datablocks ***\n",
      "*** Overflow with 4 datablocks ***\n",
      "*** Overflow with 6 datablocks ***\n",
      "*** Overflow with 4 datablocks ***\n",
      "*** Overflow with 5 datablocks ***\n",
      "*** Overflow with 6 datablocks ***\n",
      "*** Overflow with 4 datablocks ***\n",
      "*** Overflow with 3 datablocks ***\n",
      "*** Overflow with 5 datablocks ***\n",
      "*** Overflow with 6 datablocks ***\n",
      "*** Overflow with 5 datablocks ***\n",
      "*** Overflow with 2 datablocks ***\n",
      "*** Overflow with 4 datablocks ***\n",
      "*** Overflow with 4 datablocks ***\n",
      "*** Overflow with 2 datablocks ***\n",
      "*** Overflow with 3 datablocks ***\n",
      "*** Overflow with 2 datablocks ***\n",
      "*** Overflow with 2 datablocks ***\n",
      "*** Overflow with 4 datablocks ***\n",
      "*** Overflow with 4 datablocks ***\n",
      "*** Overflow with 5 datablocks ***\n",
      "*** Overflow with 4 datablocks ***\n",
      "*** Overflow with 5 datablocks ***\n",
      "*** Overflow with 5 datablocks ***\n",
      "*** Overflow with 5 datablocks ***\n",
      "*** Overflow with 5 datablocks ***\n",
      "*** Overflow with 3 datablocks ***\n",
      "*** Overflow with 5 datablocks ***\n",
      "*** Overflow with 6 datablocks ***\n",
      "*** Overflow with 5 datablocks ***\n",
      "*** Overflow with 4 datablocks ***\n",
      "*** Overflow with 4 datablocks ***\n",
      "*** Overflow with 3 datablocks ***\n",
      "*** Overflow with 2 datablocks ***\n",
      "*** Overflow with 5 datablocks ***\n",
      "*** Overflow with 4 datablocks ***\n",
      "*** Overflow with 4 datablocks ***\n",
      "*** Overflow with 5 datablocks ***\n",
      "*** Overflow with 6 datablocks ***\n",
      "*** Overflow with 5 datablocks ***\n",
      "*** Overflow with 3 datablocks ***\n",
      "*** Overflow with 5 datablocks ***\n",
      "*** Overflow with 5 datablocks ***\n",
      "*** Overflow with 3 datablocks ***\n",
      "*** Overflow with 2 datablocks ***\n",
      "*** Overflow with 2 datablocks ***\n",
      "*** Overflow with 4 datablocks ***\n",
      "*** Overflow with 4 datablocks ***\n",
      "*** Overflow with 2 datablocks ***\n",
      "*** Overflow with 3 datablocks ***\n",
      "*** Overflow with 2 datablocks ***\n",
      "*** Overflow with 3 datablocks ***\n",
      "*** Overflow with 3 datablocks ***\n",
      "*** Overflow with 2 datablocks ***\n",
      "*** Overflow with 3 datablocks ***\n",
      "*** Overflow with 2 datablocks ***\n",
      "*** Overflow with 3 datablocks ***\n",
      "*** Overflow with 3 datablocks ***\n",
      "*** Overflow with 2 datablocks ***\n",
      "*** Overflow with 3 datablocks ***\n",
      "*** Overflow with 5 datablocks ***\n",
      "*** Overflow with 4 datablocks ***\n",
      "*** Overflow with 5 datablocks ***\n",
      "*** Overflow with 6 datablocks ***\n",
      "*** Overflow with 5 datablocks ***\n",
      "*** Overflow with 5 datablocks ***\n",
      "*** Overflow with 3 datablocks ***\n",
      "*** Overflow with 5 datablocks ***\n",
      "*** Overflow with 7 datablocks ***\n",
      "*** Overflow with 5 datablocks ***\n",
      "*** Overflow with 6 datablocks ***\n",
      "*** Overflow with 4 datablocks ***\n",
      "*** Overflow with 5 datablocks ***\n",
      "*** Overflow with 4 datablocks ***\n",
      "*** Overflow with 2 datablocks ***\n",
      "*** Overflow with 3 datablocks ***\n",
      "*** Overflow with 5 datablocks ***\n",
      "*** Overflow with 2 datablocks ***\n",
      "*** Overflow with 4 datablocks ***\n",
      "*** Overflow with 4 datablocks ***\n",
      "*** Overflow with 4 datablocks ***\n",
      "*** Overflow with 3 datablocks ***\n",
      "*** Overflow with 2 datablocks ***\n",
      "*** Overflow with 4 datablocks ***\n",
      "*** Overflow with 3 datablocks ***\n",
      "*** Overflow with 3 datablocks ***\n",
      "*** Overflow with 3 datablocks ***\n",
      "*** Overflow with 3 datablocks ***\n",
      "*** Overflow with 5 datablocks ***\n",
      "*** Overflow with 3 datablocks ***\n",
      "*** Overflow with 2 datablocks ***\n",
      "*** Overflow with 5 datablocks ***\n",
      "*** Overflow with 6 datablocks ***\n",
      "*** Overflow with 4 datablocks ***\n",
      "*** Overflow with 4 datablocks ***\n",
      "*** Overflow with 5 datablocks ***\n",
      "*** Overflow with 5 datablocks ***\n",
      "*** Overflow with 4 datablocks ***\n",
      "*** Overflow with 4 datablocks ***\n",
      "*** Overflow with 5 datablocks ***\n",
      "*** Overflow with 2 datablocks ***\n",
      "*** Overflow with 3 datablocks ***\n",
      "*** Overflow with 5 datablocks ***\n",
      "*** Overflow with 2 datablocks ***\n",
      "*** Overflow with 3 datablocks ***\n",
      "*** Overflow with 3 datablocks ***\n",
      "*** Overflow with 2 datablocks ***\n",
      "*** Overflow with 2 datablocks ***\n",
      "*** Overflow with 3 datablocks ***\n",
      "*** Overflow with 3 datablocks ***\n",
      "*** Overflow with 2 datablocks ***\n",
      "*** Overflow with 2 datablocks ***\n",
      "*** Overflow with 6 datablocks ***\n",
      "*** Overflow with 5 datablocks ***\n",
      "*** Overflow with 5 datablocks ***\n",
      "*** Overflow with 5 datablocks ***\n",
      "*** Overflow with 5 datablocks ***\n",
      "*** Overflow with 4 datablocks ***\n",
      "*** Overflow with 5 datablocks ***\n",
      "*** Overflow with 2 datablocks ***\n",
      "*** Overflow with 4 datablocks ***\n",
      "*** Overflow with 2 datablocks ***\n",
      "*** Overflow with 2 datablocks ***\n",
      "*** Overflow with 3 datablocks ***\n",
      "*** Overflow with 3 datablocks ***\n",
      "*** Overflow with 2 datablocks ***\n",
      "*** Overflow with 4 datablocks ***\n",
      "*** Overflow with 2 datablocks ***\n",
      "*** Overflow with 2 datablocks ***\n",
      "*** Overflow with 4 datablocks ***\n",
      "*** Overflow with 4 datablocks ***\n",
      "*** Overflow with 3 datablocks ***\n",
      "*** Overflow with 4 datablocks ***\n",
      "*** Overflow with 4 datablocks ***\n",
      "*** Overflow with 2 datablocks ***\n",
      "*** Overflow with 4 datablocks ***\n",
      "*** Overflow with 2 datablocks ***\n",
      "*** Overflow with 4 datablocks ***\n",
      "*** Overflow with 5 datablocks ***\n",
      "*** Overflow with 7 datablocks ***\n",
      "*** Overflow with 5 datablocks ***\n",
      "*** Overflow with 6 datablocks ***\n",
      "*** Overflow with 5 datablocks ***\n",
      "*** Overflow with 4 datablocks ***\n",
      "*** Overflow with 6 datablocks ***\n",
      "*** Overflow with 2 datablocks ***\n",
      "*** Overflow with 4 datablocks ***\n",
      "*** Overflow with 2 datablocks ***\n",
      "*** Overflow with 3 datablocks ***\n",
      "*** Overflow with 3 datablocks ***\n",
      "*** Overflow with 4 datablocks ***\n",
      "*** Overflow with 4 datablocks ***\n",
      "*** Overflow with 2 datablocks ***\n",
      "*** Overflow with 3 datablocks ***\n",
      "*** Overflow with 4 datablocks ***\n",
      "*** Overflow with 3 datablocks ***\n",
      "*** Overflow with 2 datablocks ***\n",
      "*** Overflow with 3 datablocks ***\n",
      "*** Overflow with 4 datablocks ***\n",
      "*** Overflow with 5 datablocks ***\n",
      "*** Overflow with 5 datablocks ***\n",
      "*** Overflow with 5 datablocks ***\n",
      "*** Overflow with 5 datablocks ***\n",
      "*** Overflow with 4 datablocks ***\n",
      "*** Overflow with 5 datablocks ***\n",
      "*** Overflow with 5 datablocks ***\n",
      "*** Overflow with 5 datablocks ***\n",
      "*** Overflow with 6 datablocks ***\n",
      "*** Overflow with 2 datablocks ***\n",
      "*** Overflow with 4 datablocks ***\n",
      "*** Overflow with 2 datablocks ***\n",
      "*** Overflow with 5 datablocks ***\n",
      "*** Overflow with 6 datablocks ***\n",
      "*** Overflow with 4 datablocks ***\n",
      "*** Overflow with 5 datablocks ***\n",
      "*** Overflow with 5 datablocks ***\n",
      "*** Overflow with 3 datablocks ***\n",
      "*** Overflow with 6 datablocks ***\n",
      "*** Overflow with 5 datablocks ***\n",
      "*** Overflow with 4 datablocks ***\n",
      "*** Overflow with 4 datablocks ***\n",
      "*** Overflow with 5 datablocks ***\n",
      "*** Overflow with 3 datablocks ***\n",
      "*** Overflow with 2 datablocks ***\n",
      "*** Overflow with 2 datablocks ***\n",
      "*** Overflow with 4 datablocks ***\n",
      "*** Overflow with 2 datablocks ***\n",
      "*** Overflow with 2 datablocks ***\n",
      "*** Overflow with 3 datablocks ***\n",
      "*** Overflow with 3 datablocks ***\n",
      "*** Overflow with 2 datablocks ***\n",
      "*** Overflow with 2 datablocks ***\n",
      "*** Overflow with 5 datablocks ***\n",
      "*** Overflow with 3 datablocks ***\n",
      "*** Overflow with 3 datablocks ***\n",
      "*** Overflow with 5 datablocks ***\n",
      "*** Overflow with 6 datablocks ***\n",
      "*** Overflow with 4 datablocks ***\n",
      "*** Overflow with 5 datablocks ***\n",
      "*** Overflow with 4 datablocks ***\n",
      "*** Overflow with 5 datablocks ***\n",
      "*** Overflow with 6 datablocks ***\n",
      "*** Overflow with 5 datablocks ***\n",
      "*** Overflow with 5 datablocks ***\n",
      "*** Overflow with 3 datablocks ***\n",
      "*** Overflow with 5 datablocks ***\n",
      "*** Overflow with 6 datablocks ***\n",
      "*** Overflow with 5 datablocks ***\n",
      "*** Overflow with 4 datablocks ***\n",
      "*** Overflow with 2 datablocks ***\n",
      "*** Overflow with 3 datablocks ***\n",
      "*** Overflow with 3 datablocks ***\n",
      "*** Overflow with 2 datablocks ***\n",
      "*** Overflow with 5 datablocks ***\n",
      "*** Overflow with 5 datablocks ***\n",
      "*** Overflow with 4 datablocks ***\n",
      "*** Overflow with 4 datablocks ***\n",
      "*** Overflow with 5 datablocks ***\n",
      "*** Overflow with 5 datablocks ***\n",
      "*** Overflow with 4 datablocks ***\n",
      "*** Overflow with 2 datablocks ***\n",
      "*** Overflow with 3 datablocks ***\n",
      "*** Overflow with 4 datablocks ***\n",
      "*** Overflow with 4 datablocks ***\n",
      "*** Overflow with 4 datablocks ***\n",
      "*** Overflow with 2 datablocks ***\n",
      "*** Overflow with 5 datablocks ***\n",
      "*** Overflow with 2 datablocks ***\n",
      "*** Overflow with 5 datablocks ***\n",
      "*** Overflow with 5 datablocks ***\n",
      "*** Overflow with 5 datablocks ***\n",
      "*** Overflow with 2 datablocks ***\n",
      "*** Overflow with 3 datablocks ***\n",
      "*** Overflow with 2 datablocks ***\n",
      "*** Overflow with 2 datablocks ***\n",
      "*** Overflow with 4 datablocks ***\n",
      "*** Overflow with 2 datablocks ***\n",
      "*** Overflow with 3 datablocks ***\n",
      "*** Overflow with 2 datablocks ***\n",
      "*** Overflow with 4 datablocks ***\n",
      "*** Overflow with 2 datablocks ***\n",
      "*** Overflow with 5 datablocks ***\n",
      "*** Overflow with 3 datablocks ***\n",
      "*** Overflow with 5 datablocks ***\n",
      "*** Overflow with 3 datablocks ***\n",
      "*** Overflow with 5 datablocks ***\n",
      "*** Overflow with 2 datablocks ***\n",
      "*** Overflow with 3 datablocks ***\n",
      "*** Overflow with 2 datablocks ***\n",
      "*** Overflow with 3 datablocks ***\n",
      "*** Overflow with 3 datablocks ***\n",
      "*** Overflow with 4 datablocks ***\n",
      "*** Overflow with 2 datablocks ***\n",
      "*** Overflow with 3 datablocks ***\n",
      "*** Overflow with 2 datablocks ***\n",
      "*** Overflow with 3 datablocks ***\n",
      "*** Overflow with 2 datablocks ***\n",
      "*** Overflow with 2 datablocks ***\n",
      "*** Overflow with 4 datablocks ***\n",
      "*** Overflow with 2 datablocks ***\n",
      "*** Overflow with 4 datablocks ***\n",
      "*** Overflow with 2 datablocks ***\n",
      "*** Overflow with 4 datablocks ***\n",
      "*** Overflow with 2 datablocks ***\n",
      "*** Overflow with 5 datablocks ***\n",
      "*** Overflow with 5 datablocks ***\n",
      "*** Overflow with 5 datablocks ***\n",
      "*** Overflow with 4 datablocks ***\n",
      "*** Overflow with 5 datablocks ***\n",
      "*** Overflow with 5 datablocks ***\n",
      "*** Overflow with 5 datablocks ***\n",
      "*** Overflow with 4 datablocks ***\n",
      "*** Overflow with 6 datablocks ***\n",
      "*** Overflow with 4 datablocks ***\n",
      "*** Overflow with 6 datablocks ***\n",
      "*** Overflow with 2 datablocks ***\n",
      "*** Overflow with 3 datablocks ***\n",
      "*** Overflow with 3 datablocks ***\n",
      "*** Overflow with 3 datablocks ***\n",
      "*** Overflow with 6 datablocks ***\n",
      "*** Overflow with 6 datablocks ***\n",
      "*** Overflow with 5 datablocks ***\n",
      "*** Overflow with 3 datablocks ***\n",
      "*** Overflow with 6 datablocks ***\n",
      "*** Overflow with 3 datablocks ***\n",
      "*** Overflow with 5 datablocks ***\n",
      "*** Overflow with 5 datablocks ***\n",
      "*** Overflow with 4 datablocks ***\n",
      "*** Overflow with 5 datablocks ***\n",
      "*** Overflow with 3 datablocks ***\n",
      "*** Overflow with 2 datablocks ***\n",
      "*** Overflow with 2 datablocks ***\n",
      "*** Overflow with 4 datablocks ***\n",
      "*** Overflow with 2 datablocks ***\n",
      "*** Overflow with 3 datablocks ***\n",
      "*** Overflow with 2 datablocks ***\n",
      "*** Overflow with 3 datablocks ***\n",
      "*** Overflow with 3 datablocks ***\n",
      "*** Overflow with 3 datablocks ***\n",
      "*** Overflow with 3 datablocks ***\n",
      "*** Overflow with 3 datablocks ***\n",
      "*** Overflow with 2 datablocks ***\n",
      "*** Overflow with 3 datablocks ***\n",
      "*** Overflow with 5 datablocks ***\n",
      "*** Overflow with 5 datablocks ***\n",
      "*** Overflow with 5 datablocks ***\n",
      "*** Overflow with 5 datablocks ***\n",
      "*** Overflow with 2 datablocks ***\n",
      "*** Overflow with 6 datablocks ***\n",
      "*** Overflow with 5 datablocks ***\n",
      "*** Overflow with 5 datablocks ***\n",
      "*** Overflow with 5 datablocks ***\n",
      "*** Overflow with 2 datablocks ***\n",
      "*** Overflow with 5 datablocks ***\n",
      "*** Overflow with 6 datablocks ***\n",
      "*** Overflow with 4 datablocks ***\n",
      "*** Overflow with 6 datablocks ***\n",
      "*** Overflow with 3 datablocks ***\n",
      "*** Overflow with 6 datablocks ***\n",
      "*** Overflow with 3 datablocks ***\n",
      "*** Overflow with 2 datablocks ***\n",
      "*** Overflow with 4 datablocks ***\n",
      "*** Overflow with 3 datablocks ***\n",
      "*** Overflow with 5 datablocks ***\n",
      "*** Overflow with 5 datablocks ***\n",
      "*** Overflow with 4 datablocks ***\n",
      "*** Overflow with 4 datablocks ***\n",
      "*** Overflow with 6 datablocks ***\n",
      "*** Overflow with 4 datablocks ***\n",
      "*** Overflow with 6 datablocks ***\n",
      "*** Overflow with 4 datablocks ***\n",
      "*** Overflow with 4 datablocks ***\n",
      "*** Overflow with 5 datablocks ***\n",
      "*** Overflow with 5 datablocks ***\n",
      "*** Overflow with 5 datablocks ***\n",
      "*** Overflow with 5 datablocks ***\n",
      "*** Overflow with 4 datablocks ***\n",
      "*** Overflow with 5 datablocks ***\n",
      "*** Overflow with 3 datablocks ***\n",
      "*** Overflow with 5 datablocks ***\n",
      "*** Overflow with 4 datablocks ***\n",
      "*** Overflow with 5 datablocks ***\n",
      "*** Overflow with 5 datablocks ***\n",
      "*** Overflow with 5 datablocks ***\n",
      "*** Overflow with 4 datablocks ***\n",
      "*** Overflow with 6 datablocks ***\n",
      "*** Overflow with 2 datablocks ***\n",
      "*** Overflow with 3 datablocks ***\n",
      "*** Overflow with 3 datablocks ***\n",
      "*** Overflow with 2 datablocks ***\n",
      "*** Overflow with 2 datablocks ***\n",
      "*** Overflow with 4 datablocks ***\n",
      "*** Overflow with 2 datablocks ***\n",
      "*** Overflow with 2 datablocks ***\n",
      "*** Overflow with 3 datablocks ***\n",
      "*** Overflow with 3 datablocks ***\n",
      "*** Overflow with 2 datablocks ***\n",
      "*** Overflow with 2 datablocks ***\n",
      "*** Overflow with 6 datablocks ***\n",
      "*** Overflow with 5 datablocks ***\n",
      "*** Overflow with 5 datablocks ***\n",
      "*** Overflow with 5 datablocks ***\n",
      "*** Overflow with 3 datablocks ***\n",
      "*** Overflow with 2 datablocks ***\n",
      "*** Overflow with 3 datablocks ***\n",
      "*** Overflow with 3 datablocks ***\n",
      "*** Overflow with 2 datablocks ***\n",
      "*** Overflow with 2 datablocks ***\n",
      "*** Overflow with 4 datablocks ***\n",
      "*** Overflow with 2 datablocks ***\n",
      "*** Overflow with 3 datablocks ***\n",
      "*** Overflow with 2 datablocks ***\n",
      "*** Overflow with 3 datablocks ***\n",
      "*** Overflow with 3 datablocks ***\n",
      "*** Overflow with 4 datablocks ***\n",
      "*** Overflow with 5 datablocks ***\n",
      "*** Overflow with 5 datablocks ***\n",
      "*** Overflow with 4 datablocks ***\n",
      "*** Overflow with 5 datablocks ***\n",
      "*** Overflow with 5 datablocks ***\n",
      "*** Overflow with 6 datablocks ***\n",
      "*** Overflow with 4 datablocks ***\n",
      "*** Overflow with 5 datablocks ***\n",
      "*** Overflow with 4 datablocks ***\n",
      "*** Overflow with 6 datablocks ***\n",
      "*** Overflow with 4 datablocks ***\n",
      "*** Overflow with 5 datablocks ***\n",
      "*** Overflow with 2 datablocks ***\n",
      "*** Overflow with 6 datablocks ***\n",
      "*** Overflow with 4 datablocks ***\n",
      "*** Overflow with 6 datablocks ***\n",
      "*** Overflow with 2 datablocks ***\n",
      "*** Overflow with 2 datablocks ***\n",
      "*** Overflow with 4 datablocks ***\n",
      "*** Overflow with 2 datablocks ***\n",
      "*** Overflow with 2 datablocks ***\n",
      "*** Overflow with 3 datablocks ***\n",
      "*** Overflow with 3 datablocks ***\n",
      "*** Overflow with 2 datablocks ***\n",
      "*** Overflow with 2 datablocks ***\n",
      "*** Overflow with 4 datablocks ***\n",
      "*** Overflow with 4 datablocks ***\n",
      "*** Overflow with 6 datablocks ***\n",
      "*** Overflow with 2 datablocks ***\n",
      "*** Overflow with 4 datablocks ***\n",
      "FLIPPING/GOING THE THE MIDDLE AGAIN\n",
      "*** Overflow with 2 datablocks ***\n",
      "*** Overflow with 3 datablocks ***\n",
      "*** Overflow with 2 datablocks ***\n",
      "*** Overflow with 4 datablocks ***\n",
      "*** Overflow with 2 datablocks ***\n",
      "*** Overflow with 2 datablocks ***\n",
      "*** Overflow with 3 datablocks ***\n",
      "*** Overflow with 3 datablocks ***\n",
      "*** Overflow with 2 datablocks ***\n",
      "*** Overflow with 4 datablocks ***\n",
      "*** Overflow with 4 datablocks ***\n",
      "*** Overflow with 6 datablocks ***\n",
      "*** Overflow with 4 datablocks ***\n",
      "*** Overflow with 3 datablocks ***\n",
      "*** Overflow with 3 datablocks ***\n",
      "*** Overflow with 2 datablocks ***\n",
      "*** Overflow with 3 datablocks ***\n",
      "*** Overflow with 4 datablocks ***\n",
      "*** Overflow with 2 datablocks ***\n",
      "*** Overflow with 2 datablocks ***\n",
      "*** Overflow with 4 datablocks ***\n",
      "*** Overflow with 2 datablocks ***\n",
      "*** Overflow with 2 datablocks ***\n",
      "*** Overflow with 4 datablocks ***\n",
      "*** Overflow with 2 datablocks ***\n",
      "*** Overflow with 2 datablocks ***\n",
      "*** Overflow with 4 datablocks ***\n",
      "*** Overflow with 3 datablocks ***\n",
      "*** Overflow with 2 datablocks ***\n",
      "*** Overflow with 6 datablocks ***\n",
      "*** Overflow with 8 datablocks ***\n",
      "*** Overflow with 4 datablocks ***\n",
      "*** Overflow with 4 datablocks ***\n",
      "*** Overflow with 5 datablocks ***\n",
      "*** Overflow with 5 datablocks ***\n",
      "*** Overflow with 4 datablocks ***\n",
      "*** Overflow with 2 datablocks ***\n",
      "*** Overflow with 5 datablocks ***\n",
      "*** Overflow with 5 datablocks ***\n",
      "*** Overflow with 4 datablocks ***\n",
      "*** Overflow with 6 datablocks ***\n",
      "*** Overflow with 4 datablocks ***\n",
      "*** Overflow with 5 datablocks ***\n",
      "*** Overflow with 6 datablocks ***\n",
      "*** Overflow with 5 datablocks ***\n",
      "*** Overflow with 5 datablocks ***\n",
      "*** Overflow with 6 datablocks ***\n",
      "*** Overflow with 6 datablocks ***\n",
      "*** Overflow with 4 datablocks ***\n",
      "*** Overflow with 3 datablocks ***\n",
      "*** Overflow with 2 datablocks ***\n",
      "*** Overflow with 3 datablocks ***\n",
      "*** Overflow with 5 datablocks ***\n",
      "*** Overflow with 3 datablocks ***\n",
      "*** Overflow with 6 datablocks ***\n",
      "*** Overflow with 4 datablocks ***\n",
      "*** Overflow with 6 datablocks ***\n",
      "*** Overflow with 4 datablocks ***\n",
      "*** Overflow with 4 datablocks ***\n",
      "*** Overflow with 5 datablocks ***\n",
      "*** Overflow with 6 datablocks ***\n",
      "*** Overflow with 4 datablocks ***\n",
      "*** Overflow with 2 datablocks ***\n",
      "*** Overflow with 3 datablocks ***\n",
      "*** Overflow with 3 datablocks ***\n",
      "*** Overflow with 2 datablocks ***\n",
      "*** Overflow with 4 datablocks ***\n",
      "*** Overflow with 3 datablocks ***\n",
      "*** Overflow with 4 datablocks ***\n",
      "*** Overflow with 3 datablocks ***\n",
      "*** Overflow with 2 datablocks ***\n",
      "*** Overflow with 2 datablocks ***\n",
      "*** Overflow with 4 datablocks ***\n",
      "*** Overflow with 4 datablocks ***\n",
      "*** Overflow with 5 datablocks ***\n",
      "*** Overflow with 2 datablocks ***\n",
      "*** Overflow with 6 datablocks ***\n",
      "*** Overflow with 3 datablocks ***\n",
      "*** Overflow with 3 datablocks ***\n",
      "*** Overflow with 3 datablocks ***\n",
      "*** Overflow with 3 datablocks ***\n",
      "*** Overflow with 6 datablocks ***\n",
      "*** Overflow with 4 datablocks ***\n",
      "*** Overflow with 6 datablocks ***\n",
      "*** Overflow with 5 datablocks ***\n",
      "*** Overflow with 5 datablocks ***\n",
      "*** Overflow with 4 datablocks ***\n",
      "*** Overflow with 5 datablocks ***\n",
      "*** Overflow with 6 datablocks ***\n",
      "*** Overflow with 4 datablocks ***\n",
      "*** Overflow with 5 datablocks ***\n",
      "*** Overflow with 4 datablocks ***\n",
      "*** Overflow with 2 datablocks ***\n",
      "*** Overflow with 4 datablocks ***\n",
      "*** Overflow with 2 datablocks ***\n",
      "*** Overflow with 2 datablocks ***\n",
      "*** Overflow with 4 datablocks ***\n",
      "*** Overflow with 2 datablocks ***\n",
      "*** Overflow with 2 datablocks ***\n",
      "*** Overflow with 5 datablocks ***\n",
      "*** Overflow with 3 datablocks ***\n",
      "*** Overflow with 2 datablocks ***\n",
      "*** Overflow with 2 datablocks ***\n",
      "*** Overflow with 4 datablocks ***\n",
      "*** Overflow with 2 datablocks ***\n",
      "*** Overflow with 3 datablocks ***\n",
      "*** Overflow with 3 datablocks ***\n",
      "*** Overflow with 3 datablocks ***\n",
      "*** Overflow with 2 datablocks ***\n",
      "*** Overflow with 2 datablocks ***\n",
      "*** Overflow with 4 datablocks ***\n",
      "*** Overflow with 3 datablocks ***\n",
      "*** Overflow with 3 datablocks ***\n",
      "*** Overflow with 3 datablocks ***\n",
      "*** Overflow with 2 datablocks ***\n",
      "*** Overflow with 3 datablocks ***\n",
      "*** Overflow with 4 datablocks ***\n",
      "*** Overflow with 4 datablocks ***\n",
      "*** Overflow with 2 datablocks ***\n",
      "*** Overflow with 3 datablocks ***\n",
      "*** Overflow with 2 datablocks ***\n",
      "*** Overflow with 6 datablocks ***\n",
      "*** Overflow with 3 datablocks ***\n",
      "*** Overflow with 6 datablocks ***\n",
      "*** Overflow with 4 datablocks ***\n",
      "*** Overflow with 5 datablocks ***\n",
      "*** Overflow with 5 datablocks ***\n",
      "*** Overflow with 5 datablocks ***\n",
      "*** Overflow with 5 datablocks ***\n",
      "*** Overflow with 6 datablocks ***\n",
      "*** Overflow with 3 datablocks ***\n",
      "*** Overflow with 6 datablocks ***\n",
      "*** Overflow with 6 datablocks ***\n",
      "*** Overflow with 4 datablocks ***\n",
      "*** Overflow with 5 datablocks ***\n",
      "*** Overflow with 4 datablocks ***\n",
      "*** Overflow with 5 datablocks ***\n",
      "*** Overflow with 5 datablocks ***\n",
      "*** Overflow with 6 datablocks ***\n",
      "*** Overflow with 4 datablocks ***\n",
      "*** Overflow with 6 datablocks ***\n",
      "*** Overflow with 4 datablocks ***\n",
      "*** Overflow with 5 datablocks ***\n",
      "*** Overflow with 6 datablocks ***\n",
      "*** Overflow with 4 datablocks ***\n",
      "*** Overflow with 3 datablocks ***\n",
      "*** Overflow with 6 datablocks ***\n",
      "*** Overflow with 5 datablocks ***\n",
      "*** Overflow with 5 datablocks ***\n",
      "*** Overflow with 6 datablocks ***\n",
      "*** Overflow with 4 datablocks ***\n",
      "*** Overflow with 6 datablocks ***\n",
      "*** Overflow with 3 datablocks ***\n",
      "*** Overflow with 6 datablocks ***\n",
      "*** Overflow with 5 datablocks ***\n",
      "*** Overflow with 4 datablocks ***\n",
      "*** Overflow with 4 datablocks ***\n",
      "*** Overflow with 6 datablocks ***\n",
      "*** Overflow with 4 datablocks ***\n",
      "*** Overflow with 7 datablocks ***\n",
      "*** Overflow with 4 datablocks ***\n",
      "*** Overflow with 2 datablocks ***\n",
      "*** Overflow with 3 datablocks ***\n",
      "*** Overflow with 2 datablocks ***\n",
      "*** Overflow with 4 datablocks ***\n",
      "*** Overflow with 2 datablocks ***\n",
      "*** Overflow with 5 datablocks ***\n",
      "*** Overflow with 2 datablocks ***\n",
      "*** Overflow with 5 datablocks ***\n",
      "*** Overflow with 5 datablocks ***\n",
      "*** Overflow with 4 datablocks ***\n",
      "*** Overflow with 6 datablocks ***\n",
      "*** Overflow with 4 datablocks ***\n",
      "*** Overflow with 6 datablocks ***\n",
      "*** Overflow with 5 datablocks ***\n",
      "*** Overflow with 4 datablocks ***\n",
      "*** Overflow with 5 datablocks ***\n",
      "*** Overflow with 4 datablocks ***\n",
      "*** Overflow with 6 datablocks ***\n",
      "*** Overflow with 4 datablocks ***\n",
      "*** Overflow with 5 datablocks ***\n",
      "*** Overflow with 4 datablocks ***\n",
      "*** Overflow with 7 datablocks ***\n",
      "*** Overflow with 3 datablocks ***\n",
      "*** Overflow with 6 datablocks ***\n",
      "*** Overflow with 5 datablocks ***\n",
      "*** Overflow with 4 datablocks ***\n",
      "*** Overflow with 4 datablocks ***\n",
      "*** Overflow with 4 datablocks ***\n",
      "*** Overflow with 2 datablocks ***\n",
      "*** Overflow with 3 datablocks ***\n",
      "*** Overflow with 3 datablocks ***\n",
      "*** Overflow with 2 datablocks ***\n",
      "*** Overflow with 3 datablocks ***\n",
      "*** Overflow with 4 datablocks ***\n",
      "*** Overflow with 2 datablocks ***\n",
      "*** Overflow with 5 datablocks ***\n",
      "*** Overflow with 6 datablocks ***\n",
      "*** Overflow with 6 datablocks ***\n",
      "*** Overflow with 3 datablocks ***\n",
      "*** Overflow with 5 datablocks ***\n",
      "*** Overflow with 4 datablocks ***\n",
      "*** Overflow with 6 datablocks ***\n",
      "*** Overflow with 4 datablocks ***\n",
      "*** Overflow with 6 datablocks ***\n",
      "*** Overflow with 5 datablocks ***\n",
      "*** Overflow with 5 datablocks ***\n",
      "*** Overflow with 4 datablocks ***\n",
      "*** Overflow with 5 datablocks ***\n",
      "*** Overflow with 5 datablocks ***\n",
      "*** Overflow with 5 datablocks ***\n",
      "*** Overflow with 4 datablocks ***\n",
      "*** Overflow with 5 datablocks ***\n",
      "*** Overflow with 5 datablocks ***\n",
      "*** Overflow with 5 datablocks ***\n",
      "*** Overflow with 5 datablocks ***\n",
      "*** Overflow with 5 datablocks ***\n",
      "*** Overflow with 4 datablocks ***\n",
      "*** Overflow with 5 datablocks ***\n",
      "*** Overflow with 5 datablocks ***\n",
      "*** Overflow with 4 datablocks ***\n",
      "*** Overflow with 4 datablocks ***\n",
      "*** Overflow with 2 datablocks ***\n",
      "*** Overflow with 4 datablocks ***\n",
      "*** Overflow with 5 datablocks ***\n",
      "*** Overflow with 5 datablocks ***\n",
      "*** Overflow with 6 datablocks ***\n",
      "*** Overflow with 6 datablocks ***\n",
      "*** Overflow with 4 datablocks ***\n",
      "*** Overflow with 4 datablocks ***\n",
      "*** Overflow with 4 datablocks ***\n",
      "*** Overflow with 4 datablocks ***\n",
      "*** Overflow with 4 datablocks ***\n",
      "*** Overflow with 3 datablocks ***\n",
      "*** Overflow with 4 datablocks ***\n",
      "*** Overflow with 2 datablocks ***\n",
      "*** Overflow with 3 datablocks ***\n",
      "*** Overflow with 5 datablocks ***\n",
      "*** Overflow with 3 datablocks ***\n",
      "*** Overflow with 5 datablocks ***\n",
      "*** Overflow with 4 datablocks ***\n",
      "*** Overflow with 3 datablocks ***\n",
      "*** Overflow with 4 datablocks ***\n",
      "*** Overflow with 5 datablocks ***\n",
      "*** Overflow with 4 datablocks ***\n",
      "*** Overflow with 5 datablocks ***\n",
      "*** Overflow with 5 datablocks ***\n",
      "*** Overflow with 5 datablocks ***\n",
      "*** Overflow with 4 datablocks ***\n",
      "*** Overflow with 5 datablocks ***\n",
      "*** Overflow with 2 datablocks ***\n",
      "*** Overflow with 4 datablocks ***\n",
      "*** Overflow with 4 datablocks ***\n",
      "*** Overflow with 4 datablocks ***\n",
      "*** Overflow with 3 datablocks ***\n",
      "*** Overflow with 3 datablocks ***\n",
      "*** Overflow with 2 datablocks ***\n",
      "*** Overflow with 2 datablocks ***\n",
      "*** Overflow with 4 datablocks ***\n",
      "*** Overflow with 2 datablocks ***\n",
      "*** Overflow with 5 datablocks ***\n",
      "*** Overflow with 3 datablocks ***\n",
      "*** Overflow with 4 datablocks ***\n",
      "*** Overflow with 4 datablocks ***\n",
      "*** Overflow with 3 datablocks ***\n",
      "*** Overflow with 3 datablocks ***\n",
      "*** Overflow with 4 datablocks ***\n",
      "*** Overflow with 4 datablocks ***\n",
      "*** Overflow with 5 datablocks ***\n",
      "*** Overflow with 5 datablocks ***\n",
      "*** Overflow with 5 datablocks ***\n",
      "*** Overflow with 6 datablocks ***\n",
      "*** Overflow with 2 datablocks ***\n",
      "*** Overflow with 2 datablocks ***\n",
      "*** Overflow with 3 datablocks ***\n",
      "*** Overflow with 4 datablocks ***\n",
      "*** Overflow with 2 datablocks ***\n",
      "*** Overflow with 7 datablocks ***\n",
      "*** Overflow with 4 datablocks ***\n",
      "*** Overflow with 5 datablocks ***\n",
      "*** Overflow with 9 datablocks ***\n",
      "*** Overflow with 3 datablocks ***\n",
      "*** Overflow with 6 datablocks ***\n",
      "*** Overflow with 4 datablocks ***\n",
      "*** Overflow with 5 datablocks ***\n",
      "*** Overflow with 4 datablocks ***\n",
      "*** Overflow with 5 datablocks ***\n",
      "*** Overflow with 6 datablocks ***\n",
      "*** Overflow with 5 datablocks ***\n",
      "*** Overflow with 5 datablocks ***\n",
      "*** Overflow with 3 datablocks ***\n",
      "*** Overflow with 6 datablocks ***\n",
      "*** Overflow with 4 datablocks ***\n",
      "*** Overflow with 5 datablocks ***\n",
      "*** Overflow with 4 datablocks ***\n",
      "*** Overflow with 6 datablocks ***\n",
      "*** Overflow with 4 datablocks ***\n",
      "*** Overflow with 5 datablocks ***\n",
      "*** Overflow with 5 datablocks ***\n",
      "*** Overflow with 5 datablocks ***\n",
      "*** Overflow with 2 datablocks ***\n",
      "*** Overflow with 5 datablocks ***\n",
      "*** Overflow with 3 datablocks ***\n",
      "*** Overflow with 2 datablocks ***\n",
      "*** Overflow with 6 datablocks ***\n",
      "*** Overflow with 5 datablocks ***\n",
      "*** Overflow with 4 datablocks ***\n",
      "*** Overflow with 2 datablocks ***\n",
      "*** Overflow with 4 datablocks ***\n",
      "*** Overflow with 2 datablocks ***\n",
      "*** Overflow with 5 datablocks ***\n",
      "*** Overflow with 5 datablocks ***\n",
      "*** Overflow with 4 datablocks ***\n",
      "*** Overflow with 5 datablocks ***\n",
      "*** Overflow with 2 datablocks ***\n",
      "*** Overflow with 8 datablocks ***\n",
      "*** Overflow with 4 datablocks ***\n",
      "*** Overflow with 3 datablocks ***\n",
      "*** Overflow with 6 datablocks ***\n",
      "*** Overflow with 5 datablocks ***\n",
      "*** Overflow with 5 datablocks ***\n",
      "*** Overflow with 5 datablocks ***\n",
      "*** Overflow with 2 datablocks ***\n",
      "*** Overflow with 5 datablocks ***\n",
      "*** Overflow with 2 datablocks ***\n",
      "*** Overflow with 4 datablocks ***\n",
      "*** Overflow with 3 datablocks ***\n",
      "*** Overflow with 5 datablocks ***\n",
      "*** Overflow with 2 datablocks ***\n",
      "*** Overflow with 4 datablocks ***\n",
      "*** Overflow with 2 datablocks ***\n",
      "*** Overflow with 3 datablocks ***\n",
      "*** Overflow with 3 datablocks ***\n",
      "*** Overflow with 3 datablocks ***\n",
      "*** Overflow with 2 datablocks ***\n",
      "*** Overflow with 6 datablocks ***\n",
      "*** Overflow with 6 datablocks ***\n",
      "*** Overflow with 5 datablocks ***\n",
      "*** Overflow with 4 datablocks ***\n",
      "*** Overflow with 6 datablocks ***\n",
      "*** Overflow with 3 datablocks ***\n",
      "*** Overflow with 6 datablocks ***\n",
      "*** Overflow with 5 datablocks ***\n",
      "*** Overflow with 4 datablocks ***\n",
      "*** Overflow with 3 datablocks ***\n",
      "*** Overflow with 7 datablocks ***\n",
      "*** Overflow with 5 datablocks ***\n",
      "*** Overflow with 6 datablocks ***\n",
      "*** Overflow with 5 datablocks ***\n",
      "*** Overflow with 3 datablocks ***\n",
      "*** Overflow with 5 datablocks ***\n",
      "*** Overflow with 5 datablocks ***\n",
      "*** Overflow with 5 datablocks ***\n",
      "*** Overflow with 5 datablocks ***\n",
      "*** Overflow with 5 datablocks ***\n",
      "*** Overflow with 2 datablocks ***\n",
      "*** Overflow with 6 datablocks ***\n",
      "*** Overflow with 3 datablocks ***\n",
      "*** Overflow with 6 datablocks ***\n",
      "*** Overflow with 2 datablocks ***\n",
      "*** Overflow with 5 datablocks ***\n",
      "*** Overflow with 4 datablocks ***\n",
      "*** Overflow with 7 datablocks ***\n",
      "*** Overflow with 2 datablocks ***\n",
      "*** Overflow with 2 datablocks ***\n",
      "*** Overflow with 4 datablocks ***\n",
      "*** Overflow with 2 datablocks ***\n",
      "*** Overflow with 2 datablocks ***\n",
      "*** Overflow with 6 datablocks ***\n",
      "*** Overflow with 4 datablocks ***\n",
      "*** Overflow with 5 datablocks ***\n",
      "*** Overflow with 3 datablocks ***\n",
      "*** Overflow with 3 datablocks ***\n",
      "*** Overflow with 4 datablocks ***\n",
      "*** Overflow with 2 datablocks ***\n",
      "*** Overflow with 4 datablocks ***\n",
      "*** Overflow with 3 datablocks ***\n",
      "*** Overflow with 3 datablocks ***\n",
      "*** Overflow with 3 datablocks ***\n",
      "*** Overflow with 2 datablocks ***\n",
      "*** Overflow with 6 datablocks ***\n",
      "*** Overflow with 4 datablocks ***\n",
      "*** Overflow with 5 datablocks ***\n",
      "*** Overflow with 3 datablocks ***\n",
      "*** Overflow with 2 datablocks ***\n",
      "*** Overflow with 3 datablocks ***\n",
      "*** Overflow with 5 datablocks ***\n",
      "*** Overflow with 3 datablocks ***\n",
      "*** Overflow with 6 datablocks ***\n",
      "*** Overflow with 4 datablocks ***\n",
      "*** Overflow with 6 datablocks ***\n",
      "*** Overflow with 4 datablocks ***\n",
      "*** Overflow with 5 datablocks ***\n",
      "*** Overflow with 5 datablocks ***\n",
      "*** Overflow with 5 datablocks ***\n",
      "*** Overflow with 6 datablocks ***\n",
      "*** Overflow with 4 datablocks ***\n",
      "*** Overflow with 4 datablocks ***\n",
      "*** Overflow with 5 datablocks ***\n",
      "*** Overflow with 5 datablocks ***\n",
      "*** Overflow with 5 datablocks ***\n",
      "*** Overflow with 5 datablocks ***\n",
      "*** Overflow with 3 datablocks ***\n",
      "*** Overflow with 6 datablocks ***\n",
      "*** Overflow with 5 datablocks ***\n",
      "*** Overflow with 6 datablocks ***\n",
      "*** Overflow with 4 datablocks ***\n",
      "*** Overflow with 4 datablocks ***\n",
      "*** Overflow with 5 datablocks ***\n",
      "*** Overflow with 5 datablocks ***\n",
      "*** Overflow with 2 datablocks ***\n",
      "*** Overflow with 4 datablocks ***\n",
      "*** Overflow with 2 datablocks ***\n",
      "*** Overflow with 2 datablocks ***\n",
      "*** Overflow with 3 datablocks ***\n",
      "*** Overflow with 3 datablocks ***\n",
      "*** Overflow with 3 datablocks ***\n",
      "*** Overflow with 2 datablocks ***\n",
      "*** Overflow with 5 datablocks ***\n",
      "*** Overflow with 3 datablocks ***\n",
      "*** Overflow with 2 datablocks ***\n",
      "*** Overflow with 3 datablocks ***\n",
      "*** Overflow with 2 datablocks ***\n",
      "*** Overflow with 2 datablocks ***\n",
      "*** Overflow with 3 datablocks ***\n",
      "*** Overflow with 3 datablocks ***\n",
      "*** Overflow with 3 datablocks ***\n",
      "*** Overflow with 5 datablocks ***\n",
      "*** Overflow with 4 datablocks ***\n",
      "*** Overflow with 5 datablocks ***\n",
      "*** Overflow with 5 datablocks ***\n",
      "*** Overflow with 5 datablocks ***\n",
      "*** Overflow with 5 datablocks ***\n",
      "*** Overflow with 6 datablocks ***\n",
      "*** Overflow with 3 datablocks ***\n",
      "*** Overflow with 6 datablocks ***\n",
      "*** Overflow with 2 datablocks ***\n",
      "*** Overflow with 5 datablocks ***\n",
      "*** Overflow with 4 datablocks ***\n",
      "*** Overflow with 6 datablocks ***\n",
      "*** Overflow with 5 datablocks ***\n",
      "*** Overflow with 5 datablocks ***\n",
      "*** Overflow with 2 datablocks ***\n",
      "*** Overflow with 4 datablocks ***\n",
      "*** Overflow with 4 datablocks ***\n",
      "*** Overflow with 3 datablocks ***\n",
      "*** Overflow with 3 datablocks ***\n",
      "*** Overflow with 4 datablocks ***\n",
      "*** Overflow with 5 datablocks ***\n",
      "*** Overflow with 2 datablocks ***\n",
      "*** Overflow with 3 datablocks ***\n",
      "*** Overflow with 2 datablocks ***\n",
      "*** Overflow with 2 datablocks ***\n",
      "*** Overflow with 4 datablocks ***\n",
      "*** Overflow with 5 datablocks ***\n",
      "*** Overflow with 6 datablocks ***\n",
      "*** Overflow with 5 datablocks ***\n",
      "*** Overflow with 4 datablocks ***\n",
      "*** Overflow with 2 datablocks ***\n",
      "*** Overflow with 3 datablocks ***\n",
      "*** Overflow with 4 datablocks ***\n",
      "*** Overflow with 4 datablocks ***\n",
      "*** Overflow with 3 datablocks ***\n",
      "*** Overflow with 3 datablocks ***\n",
      "*** Overflow with 2 datablocks ***\n",
      "*** Overflow with 3 datablocks ***\n",
      "*** Overflow with 4 datablocks ***\n",
      "*** Overflow with 2 datablocks ***\n",
      "*** Overflow with 5 datablocks ***\n",
      "*** Overflow with 5 datablocks ***\n",
      "*** Overflow with 4 datablocks ***\n",
      "*** Overflow with 5 datablocks ***\n",
      "*** Overflow with 6 datablocks ***\n",
      "*** Overflow with 5 datablocks ***\n",
      "*** Overflow with 4 datablocks ***\n",
      "*** Overflow with 5 datablocks ***\n",
      "*** Overflow with 4 datablocks ***\n",
      "*** Overflow with 5 datablocks ***\n",
      "*** Overflow with 5 datablocks ***\n",
      "*** Overflow with 5 datablocks ***\n",
      "*** Overflow with 4 datablocks ***\n",
      "*** Overflow with 4 datablocks ***\n",
      "*** Overflow with 3 datablocks ***\n",
      "*** Overflow with 3 datablocks ***\n",
      "*** Overflow with 3 datablocks ***\n",
      "*** Overflow with 2 datablocks ***\n",
      "*** Overflow with 5 datablocks ***\n",
      "*** Overflow with 3 datablocks ***\n",
      "*** Overflow with 3 datablocks ***\n",
      "*** Overflow with 3 datablocks ***\n",
      "*** Overflow with 3 datablocks ***\n",
      "*** Overflow with 4 datablocks ***\n",
      "*** Overflow with 5 datablocks ***\n",
      "*** Overflow with 3 datablocks ***\n",
      "*** Overflow with 4 datablocks ***\n",
      "*** Overflow with 4 datablocks ***\n",
      "*** Overflow with 4 datablocks ***\n",
      "*** Overflow with 5 datablocks ***\n",
      "*** Overflow with 3 datablocks ***\n",
      "*** Overflow with 6 datablocks ***\n",
      "*** Overflow with 4 datablocks ***\n",
      "*** Overflow with 5 datablocks ***\n",
      "*** Overflow with 4 datablocks ***\n",
      "*** Overflow with 5 datablocks ***\n",
      "*** Overflow with 5 datablocks ***\n",
      "*** Overflow with 5 datablocks ***\n",
      "*** Overflow with 4 datablocks ***\n",
      "*** Overflow with 4 datablocks ***\n",
      "*** Overflow with 3 datablocks ***\n",
      "*** Overflow with 3 datablocks ***\n",
      "*** Overflow with 5 datablocks ***\n",
      "*** Overflow with 5 datablocks ***\n",
      "*** Overflow with 5 datablocks ***\n",
      "*** Overflow with 5 datablocks ***\n",
      "*** Overflow with 3 datablocks ***\n",
      "*** Overflow with 6 datablocks ***\n",
      "*** Overflow with 6 datablocks ***\n",
      "*** Overflow with 5 datablocks ***\n",
      "*** Overflow with 4 datablocks ***\n",
      "*** Overflow with 4 datablocks ***\n",
      "*** Overflow with 5 datablocks ***\n",
      "*** Overflow with 5 datablocks ***\n",
      "*** Overflow with 4 datablocks ***\n",
      "*** Overflow with 5 datablocks ***\n",
      "*** Overflow with 4 datablocks ***\n",
      "*** Overflow with 6 datablocks ***\n",
      "*** Overflow with 6 datablocks ***\n",
      "*** Overflow with 4 datablocks ***\n",
      "*** Overflow with 5 datablocks ***\n",
      "*** Overflow with 4 datablocks ***\n",
      "*** Overflow with 6 datablocks ***\n",
      "*** Overflow with 5 datablocks ***\n",
      "*** Overflow with 5 datablocks ***\n",
      "*** Overflow with 4 datablocks ***\n",
      "*** Overflow with 4 datablocks ***\n",
      "*** Overflow with 3 datablocks ***\n",
      "*** Overflow with 2 datablocks ***\n",
      "*** Overflow with 6 datablocks ***\n",
      "*** Overflow with 5 datablocks ***\n",
      "*** Overflow with 5 datablocks ***\n",
      "*** Overflow with 4 datablocks ***\n",
      "*** Overflow with 5 datablocks ***\n",
      "*** Overflow with 6 datablocks ***\n",
      "*** Overflow with 5 datablocks ***\n",
      "*** Overflow with 5 datablocks ***\n",
      "*** Overflow with 4 datablocks ***\n",
      "*** Overflow with 5 datablocks ***\n",
      "*** Overflow with 3 datablocks ***\n",
      "*** Overflow with 2 datablocks ***\n",
      "*** Overflow with 5 datablocks ***\n",
      "*** Overflow with 3 datablocks ***\n",
      "*** Overflow with 4 datablocks ***\n",
      "*** Overflow with 5 datablocks ***\n",
      "*** Overflow with 6 datablocks ***\n",
      "*** Overflow with 4 datablocks ***\n",
      "*** Overflow with 5 datablocks ***\n",
      "*** Overflow with 4 datablocks ***\n",
      "*** Overflow with 4 datablocks ***\n",
      "*** Overflow with 4 datablocks ***\n",
      "*** Overflow with 3 datablocks ***\n",
      "*** Overflow with 6 datablocks ***\n",
      "*** Overflow with 6 datablocks ***\n",
      "*** Overflow with 4 datablocks ***\n",
      "*** Overflow with 5 datablocks ***\n",
      "*** Overflow with 4 datablocks ***\n",
      "*** Overflow with 5 datablocks ***\n",
      "*** Overflow with 5 datablocks ***\n",
      "*** Overflow with 2 datablocks ***\n",
      "*** Overflow with 4 datablocks ***\n",
      "*** Overflow with 3 datablocks ***\n",
      "*** Overflow with 3 datablocks ***\n",
      "*** Overflow with 3 datablocks ***\n",
      "*** Overflow with 3 datablocks ***\n",
      "*** Overflow with 5 datablocks ***\n",
      "*** Overflow with 2 datablocks ***\n",
      "*** Overflow with 3 datablocks ***\n",
      "*** Overflow with 5 datablocks ***\n",
      "*** Overflow with 3 datablocks ***\n",
      "*** Overflow with 6 datablocks ***\n",
      "*** Overflow with 2 datablocks ***\n",
      "*** Overflow with 3 datablocks ***\n",
      "*** Overflow with 2 datablocks ***\n",
      "*** Overflow with 4 datablocks ***\n",
      "*** Overflow with 4 datablocks ***\n",
      "*** Overflow with 2 datablocks ***\n",
      "*** Overflow with 3 datablocks ***\n",
      "*** Overflow with 2 datablocks ***\n",
      "*** Overflow with 4 datablocks ***\n",
      "*** Overflow with 3 datablocks ***\n",
      "*** Overflow with 3 datablocks ***\n",
      "*** Overflow with 3 datablocks ***\n",
      "*** Overflow with 3 datablocks ***\n",
      "*** Overflow with 2 datablocks ***\n",
      "*** Overflow with 6 datablocks ***\n",
      "*** Overflow with 3 datablocks ***\n",
      "*** Overflow with 5 datablocks ***\n",
      "*** Overflow with 5 datablocks ***\n",
      "*** Overflow with 5 datablocks ***\n",
      "*** Overflow with 5 datablocks ***\n",
      "*** Overflow with 2 datablocks ***\n",
      "*** Overflow with 3 datablocks ***\n",
      "*** Overflow with 4 datablocks ***\n",
      "*** Overflow with 5 datablocks ***\n",
      "*** Overflow with 6 datablocks ***\n",
      "*** Overflow with 3 datablocks ***\n",
      "*** Overflow with 2 datablocks ***\n",
      "*** Overflow with 4 datablocks ***\n",
      "*** Overflow with 2 datablocks ***\n",
      "*** Overflow with 6 datablocks ***\n",
      "*** Overflow with 4 datablocks ***\n",
      "*** Overflow with 4 datablocks ***\n",
      "*** Overflow with 5 datablocks ***\n",
      "*** Overflow with 4 datablocks ***\n",
      "*** Overflow with 5 datablocks ***\n",
      "*** Overflow with 6 datablocks ***\n",
      "*** Overflow with 3 datablocks ***\n",
      "*** Overflow with 3 datablocks ***\n",
      "*** Overflow with 2 datablocks ***\n",
      "*** Overflow with 3 datablocks ***\n",
      "*** Overflow with 2 datablocks ***\n",
      "*** Overflow with 3 datablocks ***\n",
      "*** Overflow with 3 datablocks ***\n",
      "*** Overflow with 5 datablocks ***\n",
      "*** Overflow with 3 datablocks ***\n",
      "*** Overflow with 2 datablocks ***\n",
      "*** Overflow with 4 datablocks ***\n",
      "*** Overflow with 2 datablocks ***\n",
      "*** Overflow with 4 datablocks ***\n",
      "*** Overflow with 2 datablocks ***\n",
      "*** Overflow with 5 datablocks ***\n",
      "*** Overflow with 6 datablocks ***\n",
      "*** Overflow with 3 datablocks ***\n",
      "*** Overflow with 2 datablocks ***\n",
      "*** Overflow with 4 datablocks ***\n",
      "*** Overflow with 2 datablocks ***\n",
      "*** Overflow with 3 datablocks ***\n",
      "*** Overflow with 3 datablocks ***\n",
      "*** Overflow with 4 datablocks ***\n",
      "*** Overflow with 4 datablocks ***\n",
      "*** Overflow with 2 datablocks ***\n",
      "*** Overflow with 2 datablocks ***\n",
      "*** Overflow with 5 datablocks ***\n",
      "*** Overflow with 3 datablocks ***\n",
      "*** Overflow with 2 datablocks ***\n",
      "*** Overflow with 4 datablocks ***\n",
      "*** Overflow with 2 datablocks ***\n",
      "*** Overflow with 3 datablocks ***\n",
      "*** Overflow with 3 datablocks ***\n",
      "*** Overflow with 3 datablocks ***\n",
      "*** Overflow with 2 datablocks ***\n",
      "*** Overflow with 4 datablocks ***\n",
      "*** Overflow with 2 datablocks ***\n",
      "*** Overflow with 4 datablocks ***\n",
      "*** Overflow with 6 datablocks ***\n",
      "*** Overflow with 3 datablocks ***\n",
      "*** Overflow with 7 datablocks ***\n",
      "*** Overflow with 5 datablocks ***\n",
      "*** Overflow with 5 datablocks ***\n",
      "*** Overflow with 5 datablocks ***\n",
      "*** Overflow with 4 datablocks ***\n",
      "*** Overflow with 4 datablocks ***\n",
      "*** Overflow with 5 datablocks ***\n",
      "*** Overflow with 5 datablocks ***\n",
      "*** Overflow with 5 datablocks ***\n",
      "*** Overflow with 5 datablocks ***\n",
      "*** Overflow with 4 datablocks ***\n",
      "*** Overflow with 5 datablocks ***\n",
      "*** Overflow with 3 datablocks ***\n",
      "*** Overflow with 3 datablocks ***\n",
      "*** Overflow with 6 datablocks ***\n",
      "*** Overflow with 5 datablocks ***\n",
      "*** Overflow with 5 datablocks ***\n",
      "*** Overflow with 4 datablocks ***\n",
      "*** Overflow with 4 datablocks ***\n",
      "*** Overflow with 5 datablocks ***\n",
      "*** Overflow with 4 datablocks ***\n",
      "*** Overflow with 3 datablocks ***\n",
      "*** Overflow with 6 datablocks ***\n",
      "*** Overflow with 6 datablocks ***\n",
      "*** Overflow with 3 datablocks ***\n",
      "*** Overflow with 2 datablocks ***\n",
      "*** Overflow with 2 datablocks ***\n",
      "*** Overflow with 4 datablocks ***\n",
      "*** Overflow with 3 datablocks ***\n",
      "*** Overflow with 3 datablocks ***\n",
      "*** Overflow with 3 datablocks ***\n",
      "*** Overflow with 2 datablocks ***\n",
      "*** Overflow with 2 datablocks ***\n",
      "*** Overflow with 4 datablocks ***\n",
      "*** Overflow with 4 datablocks ***\n",
      "*** Overflow with 2 datablocks ***\n",
      "*** Overflow with 4 datablocks ***\n",
      "*** Overflow with 2 datablocks ***\n",
      "*** Overflow with 5 datablocks ***\n",
      "*** Overflow with 2 datablocks ***\n",
      "*** Overflow with 3 datablocks ***\n",
      "*** Overflow with 2 datablocks ***\n",
      "*** Overflow with 4 datablocks ***\n",
      "*** Overflow with 2 datablocks ***\n",
      "*** Overflow with 4 datablocks ***\n",
      "*** Overflow with 2 datablocks ***\n",
      "*** Overflow with 3 datablocks ***\n",
      "*** Overflow with 2 datablocks ***\n",
      "*** Overflow with 4 datablocks ***\n",
      "*** Overflow with 2 datablocks ***\n",
      "*** Overflow with 4 datablocks ***\n",
      "*** Overflow with 4 datablocks ***\n",
      "*** Overflow with 2 datablocks ***\n",
      "*** Overflow with 6 datablocks ***\n",
      "*** Overflow with 2 datablocks ***\n",
      "*** Overflow with 5 datablocks ***\n",
      "*** Overflow with 3 datablocks ***\n",
      "*** Overflow with 2 datablocks ***\n",
      "*** Overflow with 3 datablocks ***\n",
      "*** Overflow with 4 datablocks ***\n",
      "*** Overflow with 9 datablocks ***\n",
      "*** Overflow with 5 datablocks ***\n",
      "*** Overflow with 4 datablocks ***\n",
      "*** Overflow with 5 datablocks ***\n",
      "*** Overflow with 5 datablocks ***\n",
      "*** Overflow with 6 datablocks ***\n",
      "*** Overflow with 4 datablocks ***\n",
      "*** Overflow with 5 datablocks ***\n",
      "*** Overflow with 3 datablocks ***\n",
      "*** Overflow with 9 datablocks ***\n",
      "*** Overflow with 6 datablocks ***\n",
      "*** Overflow with 3 datablocks ***\n",
      "*** Overflow with 5 datablocks ***\n",
      "*** Overflow with 7 datablocks ***\n",
      "*** Overflow with 5 datablocks ***\n",
      "*** Overflow with 5 datablocks ***\n",
      "*** Overflow with 4 datablocks ***\n",
      "*** Overflow with 4 datablocks ***\n",
      "*** Overflow with 6 datablocks ***\n",
      "*** Overflow with 3 datablocks ***\n",
      "*** Overflow with 4 datablocks ***\n",
      "*** Overflow with 4 datablocks ***\n",
      "*** Overflow with 5 datablocks ***\n",
      "*** Overflow with 6 datablocks ***\n",
      "*** Overflow with 5 datablocks ***\n",
      "*** Overflow with 5 datablocks ***\n",
      "*** Overflow with 4 datablocks ***\n",
      "*** Overflow with 4 datablocks ***\n",
      "*** Overflow with 5 datablocks ***\n",
      "*** Overflow with 5 datablocks ***\n",
      "*** Overflow with 4 datablocks ***\n",
      "*** Overflow with 5 datablocks ***\n",
      "*** Overflow with 4 datablocks ***\n",
      "*** Overflow with 3 datablocks ***\n",
      "*** Overflow with 3 datablocks ***\n",
      "*** Overflow with 2 datablocks ***\n",
      "*** Overflow with 7 datablocks ***\n",
      "*** Overflow with 2 datablocks ***\n",
      "*** Overflow with 3 datablocks ***\n",
      "*** Overflow with 3 datablocks ***\n",
      "*** Overflow with 2 datablocks ***\n",
      "*** Overflow with 2 datablocks ***\n",
      "*** Overflow with 3 datablocks ***\n",
      "*** Overflow with 3 datablocks ***\n",
      "*** Overflow with 2 datablocks ***\n",
      "*** Overflow with 5 datablocks ***\n",
      "*** Overflow with 2 datablocks ***\n",
      "*** Overflow with 4 datablocks ***\n",
      "*** Overflow with 4 datablocks ***\n",
      "*** Overflow with 4 datablocks ***\n",
      "*** Overflow with 4 datablocks ***\n",
      "*** Overflow with 5 datablocks ***\n",
      "*** Overflow with 5 datablocks ***\n",
      "*** Overflow with 4 datablocks ***\n",
      "*** Overflow with 8 datablocks ***\n",
      "*** Overflow with 6 datablocks ***\n",
      "*** Overflow with 4 datablocks ***\n",
      "*** Overflow with 5 datablocks ***\n",
      "*** Overflow with 5 datablocks ***\n",
      "*** Overflow with 3 datablocks ***\n",
      "*** Overflow with 2 datablocks ***\n",
      "*** Overflow with 5 datablocks ***\n",
      "*** Overflow with 3 datablocks ***\n",
      "*** Overflow with 3 datablocks ***\n",
      "*** Overflow with 4 datablocks ***\n",
      "*** Overflow with 2 datablocks ***\n",
      "*** Overflow with 2 datablocks ***\n",
      "*** Overflow with 3 datablocks ***\n",
      "*** Overflow with 2 datablocks ***\n",
      "*** Overflow with 3 datablocks ***\n",
      "*** Overflow with 2 datablocks ***\n",
      "*** Overflow with 4 datablocks ***\n",
      "*** Overflow with 4 datablocks ***\n",
      "*** Overflow with 3 datablocks ***\n",
      "*** Overflow with 2 datablocks ***\n",
      "*** Overflow with 2 datablocks ***\n",
      "*** Overflow with 2 datablocks ***\n",
      "*** Overflow with 5 datablocks ***\n",
      "*** Overflow with 5 datablocks ***\n",
      "*** Overflow with 5 datablocks ***\n",
      "*** Overflow with 3 datablocks ***\n",
      "*** Overflow with 9 datablocks ***\n",
      "*** Overflow with 6 datablocks ***\n",
      "*** Overflow with 3 datablocks ***\n",
      "*** Overflow with 5 datablocks ***\n",
      "*** Overflow with 6 datablocks ***\n",
      "*** Overflow with 4 datablocks ***\n",
      "*** Overflow with 6 datablocks ***\n",
      "*** Overflow with 5 datablocks ***\n",
      "*** Overflow with 2 datablocks ***\n",
      "*** Overflow with 5 datablocks ***\n",
      "*** Overflow with 4 datablocks ***\n",
      "*** Overflow with 2 datablocks ***\n",
      "*** Overflow with 5 datablocks ***\n",
      "*** Overflow with 4 datablocks ***\n",
      "*** Overflow with 2 datablocks ***\n",
      "*** Overflow with 2 datablocks ***\n",
      "*** Overflow with 4 datablocks ***\n",
      "*** Overflow with 5 datablocks ***\n",
      "*** Overflow with 6 datablocks ***\n",
      "*** Overflow with 4 datablocks ***\n",
      "*** Overflow with 5 datablocks ***\n",
      "*** Overflow with 4 datablocks ***\n",
      "*** Overflow with 6 datablocks ***\n",
      "*** Overflow with 4 datablocks ***\n",
      "*** Overflow with 5 datablocks ***\n",
      "*** Overflow with 3 datablocks ***\n",
      "*** Overflow with 7 datablocks ***\n",
      "*** Overflow with 3 datablocks ***\n",
      "*** Overflow with 3 datablocks ***\n",
      "*** Overflow with 4 datablocks ***\n",
      "*** Overflow with 4 datablocks ***\n",
      "*** Overflow with 2 datablocks ***\n",
      "*** Overflow with 3 datablocks ***\n",
      "*** Overflow with 3 datablocks ***\n",
      "*** Overflow with 2 datablocks ***\n",
      "*** Overflow with 3 datablocks ***\n",
      "*** Overflow with 4 datablocks ***\n",
      "*** Overflow with 2 datablocks ***\n",
      "*** Overflow with 3 datablocks ***\n",
      "*** Overflow with 3 datablocks ***\n",
      "*** Overflow with 3 datablocks ***\n",
      "*** Overflow with 2 datablocks ***\n",
      "*** Overflow with 2 datablocks ***\n",
      "*** Overflow with 4 datablocks ***\n",
      "*** Overflow with 4 datablocks ***\n",
      "*** Overflow with 4 datablocks ***\n",
      "*** Overflow with 4 datablocks ***\n",
      "*** Overflow with 5 datablocks ***\n",
      "*** Overflow with 4 datablocks ***\n",
      "*** Overflow with 2 datablocks ***\n",
      "*** Overflow with 3 datablocks ***\n",
      "*** Overflow with 3 datablocks ***\n",
      "*** Overflow with 5 datablocks ***\n",
      "*** Overflow with 3 datablocks ***\n",
      "*** Overflow with 2 datablocks ***\n",
      "*** Overflow with 4 datablocks ***\n",
      "*** Overflow with 2 datablocks ***\n",
      "*** Overflow with 5 datablocks ***\n",
      "*** Overflow with 5 datablocks ***\n",
      "*** Overflow with 3 datablocks ***\n",
      "*** Overflow with 10 datablocks ***\n",
      "*** Overflow with 4 datablocks ***\n",
      "*** Overflow with 4 datablocks ***\n",
      "*** Overflow with 5 datablocks ***\n",
      "*** Overflow with 5 datablocks ***\n",
      "*** Overflow with 5 datablocks ***\n",
      "*** Overflow with 5 datablocks ***\n",
      "*** Overflow with 4 datablocks ***\n",
      "*** Overflow with 6 datablocks ***\n",
      "*** Overflow with 9 datablocks ***\n",
      "*** Overflow with 4 datablocks ***\n",
      "*** Overflow with 5 datablocks ***\n",
      "*** Overflow with 3 datablocks ***\n",
      "*** Overflow with 6 datablocks ***\n",
      "*** Overflow with 4 datablocks ***\n",
      "*** Overflow with 6 datablocks ***\n",
      "*** Overflow with 4 datablocks ***\n",
      "*** Overflow with 5 datablocks ***\n",
      "*** Overflow with 7 datablocks ***\n",
      "*** Overflow with 3 datablocks ***\n",
      "*** Overflow with 5 datablocks ***\n",
      "*** Overflow with 4 datablocks ***\n",
      "*** Overflow with 3 datablocks ***\n",
      "*** Overflow with 3 datablocks ***\n",
      "*** Overflow with 2 datablocks ***\n",
      "*** Overflow with 5 datablocks ***\n",
      "*** Overflow with 4 datablocks ***\n",
      "*** Overflow with 2 datablocks ***\n",
      "*** Overflow with 6 datablocks ***\n",
      "*** Overflow with 6 datablocks ***\n",
      "*** Overflow with 4 datablocks ***\n",
      "*** Overflow with 5 datablocks ***\n",
      "*** Overflow with 4 datablocks ***\n",
      "*** Overflow with 8 datablocks ***\n",
      "*** Overflow with 5 datablocks ***\n",
      "*** Overflow with 13 datablocks ***\n",
      "*** Overflow with 6 datablocks ***\n",
      "*** Overflow with 5 datablocks ***\n",
      "*** Overflow with 7 datablocks ***\n",
      "*** Overflow with 8 datablocks ***\n",
      "*** Overflow with 4 datablocks ***\n",
      "*** Overflow with 6 datablocks ***\n",
      "*** Overflow with 6 datablocks ***\n",
      "*** Overflow with 6 datablocks ***\n",
      "*** Overflow with 13 datablocks ***\n",
      "*** Overflow with 9 datablocks ***\n",
      "*** Overflow with 5 datablocks ***\n",
      "*** Overflow with 8 datablocks ***\n",
      "*** Overflow with 7 datablocks ***\n",
      "*** Overflow with 6 datablocks ***\n",
      "*** Overflow with 3 datablocks ***\n",
      "*** Overflow with 5 datablocks ***\n",
      "*** Overflow with 6 datablocks ***\n",
      "*** Overflow with 10 datablocks ***\n",
      "*** Overflow with 7 datablocks ***\n",
      "*** Overflow with 6 datablocks ***\n",
      "*** Overflow with 5 datablocks ***\n",
      "*** Overflow with 6 datablocks ***\n",
      "*** Overflow with 6 datablocks ***\n",
      "*** Overflow with 6 datablocks ***\n",
      "*** Overflow with 5 datablocks ***\n",
      "*** Overflow with 4 datablocks ***\n",
      "*** Overflow with 8 datablocks ***\n",
      "*** Overflow with 6 datablocks ***\n",
      "*** Overflow with 4 datablocks ***\n",
      "*** Overflow with 6 datablocks ***\n",
      "*** Overflow with 11 datablocks ***\n",
      "*** Overflow with 8 datablocks ***\n",
      "*** Overflow with 7 datablocks ***\n",
      "*** Overflow with 10 datablocks ***\n",
      "*** Overflow with 12 datablocks ***\n",
      "*** Overflow with 13 datablocks ***\n",
      "*** Overflow with 6 datablocks ***\n",
      "*** Overflow with 6 datablocks ***\n",
      "*** Overflow with 6 datablocks ***\n",
      "*** Overflow with 6 datablocks ***\n",
      "*** Overflow with 6 datablocks ***\n",
      "*** Overflow with 6 datablocks ***\n",
      "*** Overflow with 5 datablocks ***\n",
      "*** Overflow with 13 datablocks ***\n",
      "*** Overflow with 21 datablocks ***\n",
      "*** Overflow with 6 datablocks ***\n",
      "*** Overflow with 4 datablocks ***\n",
      "*** Overflow with 5 datablocks ***\n",
      "*** Overflow with 5 datablocks ***\n",
      "*** Overflow with 6 datablocks ***\n",
      "*** Overflow with 5 datablocks ***\n",
      "*** Overflow with 5 datablocks ***\n",
      "*** Overflow with 6 datablocks ***\n",
      "*** Overflow with 8 datablocks ***\n",
      "*** Overflow with 5 datablocks ***\n",
      "*** Overflow with 5 datablocks ***\n",
      "*** Overflow with 4 datablocks ***\n",
      "*** Overflow with 6 datablocks ***\n",
      "*** Overflow with 3 datablocks ***\n",
      "*** Overflow with 6 datablocks ***\n",
      "*** Overflow with 6 datablocks ***\n",
      "*** Overflow with 5 datablocks ***\n",
      "*** Overflow with 10 datablocks ***\n",
      "*** Overflow with 6 datablocks ***\n",
      "*** Overflow with 3 datablocks ***\n",
      "*** Overflow with 5 datablocks ***\n",
      "*** Overflow with 6 datablocks ***\n",
      "*** Overflow with 6 datablocks ***\n",
      "*** Overflow with 6 datablocks ***\n",
      "*** Overflow with 4 datablocks ***\n",
      "*** Overflow with 5 datablocks ***\n",
      "*** Overflow with 12 datablocks ***\n",
      "*** Overflow with 8 datablocks ***\n",
      "*** Overflow with 6 datablocks ***\n",
      "*** Overflow with 6 datablocks ***\n",
      "*** Overflow with 6 datablocks ***\n",
      "*** Overflow with 7 datablocks ***\n",
      "*** Overflow with 6 datablocks ***\n",
      "*** Overflow with 7 datablocks ***\n",
      "*** Overflow with 8 datablocks ***\n",
      "*** Overflow with 12 datablocks ***\n",
      "*** Overflow with 7 datablocks ***\n",
      "*** Overflow with 6 datablocks ***\n",
      "*** Overflow with 4 datablocks ***\n",
      "*** Overflow with 6 datablocks ***\n",
      "*** Overflow with 8 datablocks ***\n",
      "*** Overflow with 6 datablocks ***\n",
      "*** Overflow with 6 datablocks ***\n",
      "*** Overflow with 6 datablocks ***\n",
      "*** Overflow with 13 datablocks ***\n",
      "*** Overflow with 8 datablocks ***\n",
      "*** Overflow with 6 datablocks ***\n",
      "*** Overflow with 5 datablocks ***\n",
      "*** Overflow with 7 datablocks ***\n",
      "*** Overflow with 2 datablocks ***\n",
      "*** Overflow with 11 datablocks ***\n",
      "*** Overflow with 11 datablocks ***\n",
      "*** Overflow with 9 datablocks ***\n",
      "*** Overflow with 13 datablocks ***\n",
      "*** Overflow with 6 datablocks ***\n",
      "*** Overflow with 4 datablocks ***\n",
      "*** Overflow with 9 datablocks ***\n",
      "*** Overflow with 7 datablocks ***\n",
      "*** Overflow with 7 datablocks ***\n",
      "*** Overflow with 6 datablocks ***\n",
      "*** Overflow with 7 datablocks ***\n",
      "*** Overflow with 7 datablocks ***\n",
      "*** Overflow with 11 datablocks ***\n",
      "*** Overflow with 6 datablocks ***\n",
      "*** Overflow with 4 datablocks ***\n",
      "*** Overflow with 6 datablocks ***\n",
      "*** Overflow with 6 datablocks ***\n",
      "*** Overflow with 7 datablocks ***\n",
      "*** Overflow with 7 datablocks ***\n",
      "*** Overflow with 7 datablocks ***\n",
      "*** Overflow with 7 datablocks ***\n",
      "*** Overflow with 11 datablocks ***\n",
      "*** Overflow with 8 datablocks ***\n",
      "*** Overflow with 7 datablocks ***\n",
      "*** Overflow with 9 datablocks ***\n",
      "*** Overflow with 6 datablocks ***\n",
      "*** Overflow with 6 datablocks ***\n",
      "*** Overflow with 8 datablocks ***\n",
      "*** Overflow with 5 datablocks ***\n",
      "*** Overflow with 7 datablocks ***\n",
      "*** Overflow with 10 datablocks ***\n",
      "*** Overflow with 2 datablocks ***\n",
      "*** Overflow with 3 datablocks ***\n",
      "*** Overflow with 2 datablocks ***\n",
      "*** Overflow with 3 datablocks ***\n",
      "*** Overflow with 3 datablocks ***\n",
      "*** Overflow with 3 datablocks ***\n",
      "*** Overflow with 3 datablocks ***\n",
      "*** Overflow with 4 datablocks ***\n",
      "*** Overflow with 3 datablocks ***\n",
      "*** Overflow with 5 datablocks ***\n",
      "*** Overflow with 5 datablocks ***\n",
      "*** Overflow with 6 datablocks ***\n",
      "*** Overflow with 6 datablocks ***\n",
      "*** Overflow with 5 datablocks ***\n",
      "*** Overflow with 7 datablocks ***\n",
      "*** Overflow with 7 datablocks ***\n",
      "*** Overflow with 5 datablocks ***\n",
      "*** Overflow with 8 datablocks ***\n",
      "*** Overflow with 6 datablocks ***\n",
      "*** Overflow with 4 datablocks ***\n",
      "*** Overflow with 7 datablocks ***\n",
      "*** Overflow with 8 datablocks ***\n",
      "*** Overflow with 6 datablocks ***\n",
      "*** Overflow with 5 datablocks ***\n",
      "*** Overflow with 5 datablocks ***\n",
      "*** Overflow with 4 datablocks ***\n",
      "*** Overflow with 8 datablocks ***\n",
      "*** Overflow with 6 datablocks ***\n",
      "*** Overflow with 5 datablocks ***\n",
      "*** Overflow with 7 datablocks ***\n",
      "*** Overflow with 7 datablocks ***\n",
      "*** Overflow with 6 datablocks ***\n",
      "*** Overflow with 8 datablocks ***\n",
      "*** Overflow with 6 datablocks ***\n",
      "*** Overflow with 7 datablocks ***\n",
      "*** Overflow with 5 datablocks ***\n",
      "*** Overflow with 7 datablocks ***\n",
      "*** Overflow with 7 datablocks ***\n",
      "*** Overflow with 9 datablocks ***\n",
      "*** Overflow with 6 datablocks ***\n",
      "*** Overflow with 8 datablocks ***\n",
      "*** Overflow with 7 datablocks ***\n",
      "*** Overflow with 8 datablocks ***\n",
      "*** Overflow with 7 datablocks ***\n",
      "*** Overflow with 5 datablocks ***\n",
      "*** Overflow with 8 datablocks ***\n",
      "*** Overflow with 6 datablocks ***\n",
      "*** Overflow with 6 datablocks ***\n",
      "*** Overflow with 6 datablocks ***\n",
      "*** Overflow with 7 datablocks ***\n",
      "*** Overflow with 5 datablocks ***\n",
      "*** Overflow with 7 datablocks ***\n",
      "*** Overflow with 6 datablocks ***\n",
      "*** Overflow with 6 datablocks ***\n",
      "*** Overflow with 6 datablocks ***\n",
      "*** Overflow with 12 datablocks ***\n",
      "*** Overflow with 12 datablocks ***\n",
      "*** Overflow with 9 datablocks ***\n",
      "*** Overflow with 9 datablocks ***\n",
      "*** Overflow with 10 datablocks ***\n",
      "*** Overflow with 14 datablocks ***\n",
      "*** Overflow with 7 datablocks ***\n",
      "*** Overflow with 8 datablocks ***\n",
      "*** Overflow with 6 datablocks ***\n",
      "*** Overflow with 6 datablocks ***\n",
      "*** Overflow with 7 datablocks ***\n",
      "*** Overflow with 8 datablocks ***\n",
      "*** Overflow with 11 datablocks ***\n",
      "FLIPPING/GOING THE THE MIDDLE AGAIN\n",
      "*** Overflow with 11 datablocks ***\n",
      "*** Overflow with 8 datablocks ***\n",
      "*** Overflow with 12 datablocks ***\n",
      "*** Overflow with 9 datablocks ***\n",
      "*** Overflow with 5 datablocks ***\n",
      "*** Overflow with 8 datablocks ***\n",
      "*** Overflow with 5 datablocks ***\n",
      "*** Overflow with 6 datablocks ***\n",
      "*** Overflow with 7 datablocks ***\n",
      "*** Overflow with 6 datablocks ***\n",
      "*** Overflow with 6 datablocks ***\n",
      "*** Overflow with 6 datablocks ***\n",
      "*** Overflow with 5 datablocks ***\n",
      "*** Overflow with 6 datablocks ***\n",
      "*** Overflow with 9 datablocks ***\n",
      "*** Overflow with 5 datablocks ***\n",
      "*** Overflow with 7 datablocks ***\n",
      "*** Overflow with 6 datablocks ***\n",
      "*** Overflow with 6 datablocks ***\n",
      "*** Overflow with 6 datablocks ***\n",
      "*** Overflow with 6 datablocks ***\n",
      "*** Overflow with 6 datablocks ***\n",
      "*** Overflow with 6 datablocks ***\n",
      "*** Overflow with 6 datablocks ***\n",
      "*** Overflow with 8 datablocks ***\n",
      "*** Overflow with 7 datablocks ***\n",
      "*** Overflow with 5 datablocks ***\n",
      "*** Overflow with 9 datablocks ***\n",
      "*** Overflow with 7 datablocks ***\n",
      "*** Overflow with 7 datablocks ***\n",
      "*** Overflow with 8 datablocks ***\n",
      "*** Overflow with 5 datablocks ***\n",
      "*** Overflow with 5 datablocks ***\n",
      "*** Overflow with 6 datablocks ***\n",
      "*** Overflow with 9 datablocks ***\n",
      "*** Overflow with 6 datablocks ***\n",
      "*** Overflow with 6 datablocks ***\n",
      "*** Overflow with 6 datablocks ***\n",
      "*** Overflow with 7 datablocks ***\n",
      "*** Overflow with 5 datablocks ***\n",
      "*** Overflow with 6 datablocks ***\n",
      "*** Overflow with 5 datablocks ***\n",
      "*** Overflow with 7 datablocks ***\n",
      "*** Overflow with 6 datablocks ***\n",
      "*** Overflow with 7 datablocks ***\n",
      "*** Overflow with 6 datablocks ***\n",
      "*** Overflow with 5 datablocks ***\n",
      "*** Overflow with 6 datablocks ***\n",
      "*** Overflow with 7 datablocks ***\n",
      "*** Overflow with 5 datablocks ***\n",
      "*** Overflow with 6 datablocks ***\n",
      "*** Overflow with 6 datablocks ***\n",
      "*** Overflow with 6 datablocks ***\n",
      "*** Overflow with 5 datablocks ***\n",
      "*** Overflow with 6 datablocks ***\n",
      "*** Overflow with 7 datablocks ***\n",
      "*** Overflow with 5 datablocks ***\n",
      "*** Overflow with 6 datablocks ***\n",
      "*** Overflow with 4 datablocks ***\n",
      "*** Overflow with 8 datablocks ***\n",
      "*** Overflow with 7 datablocks ***\n",
      "*** Overflow with 6 datablocks ***\n",
      "*** Overflow with 5 datablocks ***\n",
      "*** Overflow with 6 datablocks ***\n",
      "*** Overflow with 7 datablocks ***\n",
      "*** Overflow with 5 datablocks ***\n",
      "*** Overflow with 6 datablocks ***\n",
      "*** Overflow with 5 datablocks ***\n",
      "*** Overflow with 6 datablocks ***\n",
      "*** Overflow with 7 datablocks ***\n",
      "*** Overflow with 4 datablocks ***\n",
      "*** Overflow with 6 datablocks ***\n",
      "*** Overflow with 8 datablocks ***\n",
      "*** Overflow with 6 datablocks ***\n",
      "*** Overflow with 5 datablocks ***\n",
      "*** Overflow with 5 datablocks ***\n",
      "*** Overflow with 8 datablocks ***\n",
      "*** Overflow with 5 datablocks ***\n",
      "*** Overflow with 5 datablocks ***\n",
      "*** Overflow with 8 datablocks ***\n",
      "*** Overflow with 6 datablocks ***\n",
      "*** Overflow with 7 datablocks ***\n",
      "*** Overflow with 5 datablocks ***\n",
      "*** Overflow with 7 datablocks ***\n",
      "*** Overflow with 8 datablocks ***\n",
      "*** Overflow with 5 datablocks ***\n",
      "*** Overflow with 7 datablocks ***\n",
      "*** Overflow with 6 datablocks ***\n",
      "*** Overflow with 6 datablocks ***\n",
      "*** Overflow with 7 datablocks ***\n",
      "*** Overflow with 8 datablocks ***\n",
      "*** Overflow with 7 datablocks ***\n",
      "*** Overflow with 7 datablocks ***\n",
      "*** Overflow with 6 datablocks ***\n",
      "*** Overflow with 7 datablocks ***\n",
      "*** Overflow with 6 datablocks ***\n",
      "*** Overflow with 5 datablocks ***\n",
      "*** Overflow with 7 datablocks ***\n",
      "*** Overflow with 6 datablocks ***\n",
      "*** Overflow with 6 datablocks ***\n",
      "*** Overflow with 6 datablocks ***\n",
      "*** Overflow with 9 datablocks ***\n",
      "*** Overflow with 7 datablocks ***\n",
      "*** Overflow with 7 datablocks ***\n",
      "*** Overflow with 7 datablocks ***\n",
      "*** Overflow with 6 datablocks ***\n",
      "*** Overflow with 5 datablocks ***\n",
      "*** Overflow with 6 datablocks ***\n",
      "*** Overflow with 5 datablocks ***\n",
      "*** Overflow with 6 datablocks ***\n",
      "*** Overflow with 6 datablocks ***\n",
      "*** Overflow with 8 datablocks ***\n",
      "*** Overflow with 8 datablocks ***\n",
      "*** Overflow with 7 datablocks ***\n",
      "*** Overflow with 7 datablocks ***\n",
      "*** Overflow with 6 datablocks ***\n",
      "*** Overflow with 5 datablocks ***\n",
      "*** Overflow with 8 datablocks ***\n",
      "*** Overflow with 6 datablocks ***\n",
      "*** Overflow with 6 datablocks ***\n",
      "*** Overflow with 6 datablocks ***\n",
      "*** Overflow with 6 datablocks ***\n",
      "*** Overflow with 5 datablocks ***\n",
      "*** Overflow with 7 datablocks ***\n",
      "*** Overflow with 5 datablocks ***\n",
      "*** Overflow with 6 datablocks ***\n",
      "*** Overflow with 6 datablocks ***\n",
      "*** Overflow with 5 datablocks ***\n",
      "*** Overflow with 6 datablocks ***\n",
      "*** Overflow with 6 datablocks ***\n",
      "*** Overflow with 7 datablocks ***\n",
      "*** Overflow with 4 datablocks ***\n",
      "*** Overflow with 6 datablocks ***\n",
      "*** Overflow with 5 datablocks ***\n",
      "*** Overflow with 6 datablocks ***\n",
      "*** Overflow with 9 datablocks ***\n",
      "*** Overflow with 5 datablocks ***\n",
      "*** Overflow with 6 datablocks ***\n",
      "*** Overflow with 6 datablocks ***\n",
      "*** Overflow with 6 datablocks ***\n",
      "*** Overflow with 7 datablocks ***\n",
      "*** Overflow with 6 datablocks ***\n",
      "*** Overflow with 14 datablocks ***\n",
      "*** Overflow with 11 datablocks ***\n",
      "*** Overflow with 5 datablocks ***\n",
      "*** Overflow with 9 datablocks ***\n",
      "*** Overflow with 10 datablocks ***\n",
      "*** Overflow with 7 datablocks ***\n",
      "*** Overflow with 7 datablocks ***\n",
      "*** Overflow with 6 datablocks ***\n",
      "*** Overflow with 8 datablocks ***\n",
      "*** Overflow with 7 datablocks ***\n",
      "*** Overflow with 6 datablocks ***\n",
      "*** Overflow with 5 datablocks ***\n",
      "*** Overflow with 8 datablocks ***\n",
      "*** Overflow with 7 datablocks ***\n",
      "*** Overflow with 10 datablocks ***\n",
      "*** Overflow with 11 datablocks ***\n",
      "*** Overflow with 8 datablocks ***\n",
      "*** Overflow with 10 datablocks ***\n",
      "*** Overflow with 7 datablocks ***\n",
      "*** Overflow with 5 datablocks ***\n"
     ]
    },
    {
     "name": "stderr",
     "output_type": "stream",
     "text": [
      "Process Receiver-13:1:\n",
      "ERROR:asyncio:Task was destroyed but it is pending!\n",
      "task: <Task pending coro=<marker_reader.<locals>.check_stop_loop() running at ../../mushu/libmushu/ampdecorator.py:396> wait_for=<Future finished result=None>>\n",
      "Traceback (most recent call last):\n",
      "  File \"/home/nfcontrol/.conda/envs/rt/lib/python3.6/multiprocessing/process.py\", line 258, in _bootstrap\n",
      "    self.run()\n",
      "  File \"../../mushu/libmushu/driver/bptools/bptools.py\", line 223, in run\n",
      "    (block, points, markerCount, data, markers) = self.GetData(rawdata, channelCount)\n",
      "  File \"../../mushu/libmushu/driver/bptools/bptools.py\", line 125, in GetData\n",
      "    value = unpack('<f', rawdata[index:index + 4])\n",
      "  File \"../../mushu/libmushu/driver/bptools/bptools.py\", line 125, in GetData\n",
      "    value = unpack('<f', rawdata[index:index + 4])\n",
      "  File \"/home/nfcontrol/.conda/envs/rt/lib/python3.6/site-packages/memory_profiler.py\", line 692, in trace_memory_usage\n",
      "    def trace_memory_usage(self, frame, event, arg):\n",
      "KeyboardInterrupt\n",
      "Process DataCurator-13:\n",
      "Traceback (most recent call last):\n",
      "  File \"/home/nfcontrol/.conda/envs/rt/lib/python3.6/multiprocessing/process.py\", line 258, in _bootstrap\n",
      "    self.run()\n",
      "  File \"../../mushu/libmushu/driver/bptools/datacurator.py\", line 217, in run\n",
      "    loop.run_forever()\n",
      "  File \"/home/nfcontrol/.conda/envs/rt/lib/python3.6/asyncio/base_events.py\", line 422, in run_forever\n",
      "    \"\"\"Run until stop() is called.\"\"\"\n",
      "  File \"/home/nfcontrol/.conda/envs/rt/lib/python3.6/asyncio/base_events.py\", line 1434, in _run_once\n",
      "    ntodo = len(self._ready)\n",
      "  File \"/home/nfcontrol/.conda/envs/rt/lib/python3.6/asyncio/events.py\", line 145, in _run\n",
      "    self._callback(*self._args)\n",
      "  File \"../../mushu/libmushu/driver/bptools/datacurator.py\", line 145, in check_stop_loop\n",
      "    while not killswitch.is_set():\n",
      "  File \"/home/nfcontrol/.conda/envs/rt/lib/python3.6/multiprocessing/synchronize.py\", line 341, in is_set\n",
      "    self._flag.release()\n",
      "  File \"/home/nfcontrol/.conda/envs/rt/lib/python3.6/multiprocessing/synchronize.py\", line 341, in is_set\n",
      "    self._flag.release()\n",
      "  File \"/home/nfcontrol/.conda/envs/rt/lib/python3.6/site-packages/memory_profiler.py\", line 709, in trace_memory_usage\n",
      "    if self._original_trace_function is not None:\n",
      "KeyboardInterrupt\n",
      "Exception ignored in: <module 'threading' from '/home/nfcontrol/.conda/envs/rt/lib/python3.6/threading.py'>\n",
      "Traceback (most recent call last):\n",
      "  File \"/home/nfcontrol/.conda/envs/rt/lib/python3.6/threading.py\", line 1294, in _shutdown\n",
      "    t.join()\n",
      "  File \"/home/nfcontrol/.conda/envs/rt/lib/python3.6/threading.py\", line 1056, in join\n",
      "    self._wait_for_tstate_lock()\n",
      "  File \"/home/nfcontrol/.conda/envs/rt/lib/python3.6/threading.py\", line 1072, in _wait_for_tstate_lock\n",
      "    elif lock.acquire(block, timeout):\n",
      "KeyboardInterrupt\n"
     ]
    }
   ],
   "source": [
    "nf_trial(1, thres)"
   ]
  },
  {
   "cell_type": "markdown",
   "metadata": {},
   "source": [
    "## RS #3"
   ]
  },
  {
   "cell_type": "code",
   "execution_count": 15,
   "metadata": {},
   "outputs": [
    {
     "name": "stdout",
     "output_type": "stream",
     "text": [
      "Number of channels: 64\n",
      "Sampling interval: 200.0\n",
      "Resolutions: [0.5, 0.5, 0.5, 0.5, 0.5, 0.5, 0.5, 0.5, 0.5, 0.5, 0.5, 0.5, 0.5, 0.5, 0.5, 0.5, 0.5, 0.5, 0.5, 0.5, 0.5, 0.5, 0.5, 0.5, 0.5, 0.5, 0.5, 0.5, 0.5, 0.5, 0.5, 10.0, 0.5, 0.5, 0.5, 0.5, 0.5, 0.5, 0.5, 0.5, 0.5, 0.5, 0.5, 0.5, 0.5, 0.5, 0.5, 0.5, 0.5, 0.5, 0.5, 0.5, 0.5, 0.5, 0.5, 0.5, 0.5, 0.5, 0.5, 0.5, 0.5, 0.5, 0.5, 0.5]\n",
      "Channel Names: ['Fp1', 'Fp2', 'F3', 'F4', 'C3', 'C4', 'P3', 'P4', 'O1', 'O2', 'F7', 'F8', 'T7', 'T8', 'P7', 'P8', 'Fz', 'Cz', 'Pz', 'Oz', 'FC1', 'FC2', 'CP1', 'CP2', 'FC5', 'FC6', 'CP5', 'CP6', 'TP9', 'TP10', 'POz', 'ECG', 'F1', 'F2', 'C1', 'C2', 'P1', 'P2', 'AF3', 'AF4', 'FC3', 'FC4', 'CP3', 'CP4', 'PO3', 'PO4', 'F5', 'F6', 'C5', 'C6', 'P5', 'P6', 'AF7', 'AF8', 'FT7', 'FT8', 'TP7', 'TP8', 'PO7', 'PO8', 'FT9', 'FT10', 'Fpz', 'CPz']\n",
      "hdr SamplingInterval = 200.00\n",
      "bwBPF: {'f_low': 12, 'f_high': 15, 'order': 3}\n",
      "bwHPF: {'f': 50, 'order': 3}\n",
      "bwSimpleAverager: {'taps': 300, 'f': 2}\n",
      "bwSimpleAverager: {'taps': 300, 'f': 2}\n",
      "thr: 1.00, dur: 0.20\n",
      "bcinet is passed on\n",
      "thr: 50.00, dur: 0.15\n",
      "bcinet is passed on\n",
      "sending signal -- I ! - 1700 - 1 - True - -1\n",
      "sending signal! - 1 False - 3.470489720121069 -- 0.25\n",
      "sending signal! - 2 False - 7.374717540142936 -- 0.3\n",
      "sending signal! - 3 False - 8.086492063101202 -- 0.35\n",
      "sending signal -- I ! - 600 - 44 - True - -1\n",
      "sending signal! - 44 False - 0.06587932663117384 -- 0.25\n",
      "sending signal -- I ! - 500 - 49 - True - -1\n",
      "sending signal! - 49 False - 0.03806336629893605 -- 0.25\n",
      "sending signal -- I ! - 600 - 52 - True - -1\n",
      "sending signal! - 52 False - 0.030863217742640104 -- 0.25\n",
      "sending signal -- I ! - 600 - 81 - True - -1\n",
      "sending signal! - 81 False - 0.05905579230733533 -- 0.25\n",
      "sending signal! - 83 False - 0.12834220081920128 -- 0.3\n",
      "sending signal -- I ! - 500 - 88 - True - -1\n",
      "sending signal! - 88 False - 0.026676460138382162 -- 0.25\n",
      "sending signal -- I ! - 900 - 94 - True - -1\n",
      "sending signal! - 94 False - 0.06548104110934096 -- 0.25\n",
      "sending signal -- I ! - 400 - 98 - True - -1\n",
      "sending signal! - 98 False - 0.05321976075671655 -- 0.25\n",
      "sending signal -- I ! - 1400 - 112 - True - -1\n",
      "sending signal! - 112 False - 0.050471229124903885 -- 0.25\n",
      "sending signal -- I ! - 500 - 114 - True - -1\n",
      "sending signal! - 114 False - 0.023172226544766476 -- 0.25\n",
      "sending signal -- I ! - 600 - 141 - True - -1\n",
      "sending signal! - 141 False - 0.053618035282594394 -- 0.25\n",
      "sending signal -- I ! - 700 - 164 - True - -1\n",
      "sending signal! - 164 False - 0.08576541756438692 -- 0.25\n",
      "sending signal -- I ! - 600 - 171 - True - -1\n",
      "sending signal! - 171 False - 0.050870223966163815 -- 0.25\n",
      "sending signal -- I ! - 800 - 174 - True - -1\n",
      "sending signal! - 174 False - 0.09292882630608207 -- 0.25\n",
      "sending signal -- I ! - 700 - 291 - True - -1\n",
      "sending signal! - 291 False - 0.11189284464013108 -- 0.25\n",
      "sending signal! - 293 False - 0.3001268017726346 -- 0.3\n",
      "sending signal -- I ! - 600 - 302 - True - -1\n",
      "sending signal! - 302 False - 0.0338334615398954 -- 0.25\n",
      "sending signal! - 304 False - 0.19504975250946924 -- 0.3\n",
      "sending signal -- I ! - 800 - 318 - True - -1\n",
      "sending signal! - 318 False - 0.04403507021366 -- 0.25\n",
      "sending signal! - 320 False - 0.1812168296653947 -- 0.3\n",
      "sending signal -- I ! - 700 - 325 - True - -1\n",
      "sending signal! - 325 False - 0.023271599532038428 -- 0.25\n",
      "sending signal -- I ! - 700 - 359 - True - -1\n",
      "sending signal! - 359 False - 0.10734269838271959 -- 0.25\n",
      "sending signal -- I ! - 700 - 379 - True - -1\n",
      "sending signal! - 379 False - 0.05213196163291517 -- 0.25\n",
      "sending signal -- I ! - 500 - 391 - True - -1\n",
      "sending signal! - 391 False - 0.04495467607621141 -- 0.25\n",
      "sending signal! - 393 False - 0.10225771574124198 -- 0.3\n",
      "sending signal -- I ! - 700 - 401 - True - -1\n",
      "sending signal! - 401 False - 0.028110254616963027 -- 0.25\n",
      "sending signal -- I ! - 800 - 498 - True - -1\n",
      "sending signal! - 498 False - 0.09771808003952182 -- 0.25\n",
      "sending signal! - 499 False - 0.14577286200425274 -- 0.3\n",
      "sending signal -- I ! - 700 - 563 - True - -1\n",
      "sending signal! - 563 False - 0.021044053765341988 -- 0.25\n",
      "sending signal -- I ! - 700 - 642 - True - -1\n",
      "sending signal! - 642 False - 0.19306511364084686 -- 0.25\n",
      "sending signal -- I ! - 800 - 647 - True - -1\n",
      "sending signal! - 647 False - 0.05816272015339863 -- 0.25\n",
      "sending signal -- I ! - 900 - 668 - True - -1\n",
      "sending signal! - 668 False - 0.08149871553829291 -- 0.25\n",
      "FLIPPING/GOING THE THE MIDDLE AGAIN\n",
      "sending signal -- I ! - 700 - 799 - True - -1\n",
      "sending signal! - 799 False - 0.07846060576966235 -- 0.25\n",
      "sending signal! - 801 False - 0.14398231506257742 -- 0.3\n",
      "sending signal -- I ! - 900 - 891 - True - -1\n",
      "sending signal! - 891 False - 0.07011472153642834 -- 0.25\n",
      "sending signal -- I ! - 900 - 936 - True - -1\n",
      "sending signal! - 936 False - 0.028944641679716342 -- 0.25\n",
      "sending signal -- I ! - 600 - 1015 - True - -1\n",
      "sending signal! - 1015 False - 0.047502389006853926 -- 0.25\n",
      "sending signal -- I ! - 1000 - 1042 - True - -1\n",
      "sending signal! - 1042 False - 0.019395817031688932 -- 0.25\n",
      "sending signal -- I ! - 600 - 1047 - True - -1\n",
      "sending signal! - 1047 False - 0.08684357222203286 -- 0.25\n",
      "sending signal -- I ! - 400 - 1103 - True - -1\n",
      "sending signal! - 1103 False - 0.14558059491914102 -- 0.25\n",
      "sending signal! - 1105 False - 0.3541390093811807 -- 0.3\n",
      "sending signal -- I ! - 600 - 1129 - True - -1\n",
      "sending signal! - 1129 False - 0.025369263188035153 -- 0.25\n",
      "sending signal -- I ! - 600 - 1149 - True - -1\n",
      "sending signal! - 1149 False - 0.02807337146926182 -- 0.25\n",
      "sending signal -- I ! - 800 - 1152 - True - -1\n",
      "sending signal! - 1152 False - 0.0855419885479088 -- 0.25\n",
      "sending signal -- I ! - 800 - 1175 - True - -1\n",
      "sending signal! - 1175 False - 0.0630884248479693 -- 0.25\n",
      "sending signal -- I ! - 700 - 1226 - True - -1\n",
      "sending signal! - 1226 False - 0.04689505495578699 -- 0.25\n",
      "sending signal -- I ! - 800 - 1276 - True - -1\n",
      "sending signal! - 1276 False - 0.0527706834181186 -- 0.25\n",
      "sending signal -- I ! - 700 - 1430 - True - -1\n",
      "sending signal! - 1430 False - 0.10431876138201213 -- 0.25\n",
      "FLIPPING/GOING THE THE MIDDLE AGAIN\n",
      "sending signal -- I ! - 700 - 1551 - True - -1\n",
      "sending signal! - 1551 False - 0.05839433442549808 -- 0.25\n",
      "sending signal -- I ! - 700 - 1554 - True - -1\n",
      "sending signal! - 1554 False - 0.06253413409893076 -- 0.25\n",
      "sending signal -- I ! - 1000 - 1561 - True - -1\n",
      "sending signal! - 1561 False - 0.02017417758748458 -- 0.25\n",
      "sending signal -- I ! - 700 - 1574 - True - -1\n",
      "sending signal! - 1574 False - 0.07597201305326177 -- 0.25\n",
      "sending signal -- I ! - 700 - 1577 - True - -1\n",
      "sending signal! - 1577 False - 0.04017795745879395 -- 0.25\n",
      "sending signal! - 1579 False - 0.1033880252941623 -- 0.3\n",
      "loop is stopped!\n",
      "amplifier stopped!\n"
     ]
    },
    {
     "data": {
      "text/plain": [
       "(DynamicArray(size=1063800, capacity=1894400)([[ -223. ,  -396.5,  -419.5, ..., -1100.5, -2526.5,   935. ],\n",
       "        [ -223.5,  -396.5,  -422.5, ..., -1099. , -2526.5,   942. ],\n",
       "        [ -223.5,  -396.5,  -419.5, ..., -1093.5, -2527. ,   953.5],\n",
       "        ...,\n",
       "        [   -3.5,  -206. ,  -714.5, ..., -1217. , -1111. , -1017.5],\n",
       "        [   -4. ,  -206.5,  -712. , ..., -1215. , -1110.5, -1026. ],\n",
       "        [   -5.5,  -206. ,  -708.5, ..., -1209. , -1111. , -1032. ]]),\n",
       " ['Fp1',\n",
       "  'Fp2',\n",
       "  'F3',\n",
       "  'F4',\n",
       "  'C3',\n",
       "  'C4',\n",
       "  'P3',\n",
       "  'P4',\n",
       "  'O1',\n",
       "  'O2',\n",
       "  'F7',\n",
       "  'F8',\n",
       "  'T7',\n",
       "  'T8',\n",
       "  'P7',\n",
       "  'P8',\n",
       "  'Fz',\n",
       "  'Cz',\n",
       "  'Pz',\n",
       "  'Oz',\n",
       "  'FC1',\n",
       "  'FC2',\n",
       "  'CP1',\n",
       "  'CP2',\n",
       "  'FC5',\n",
       "  'FC6',\n",
       "  'CP5',\n",
       "  'CP6',\n",
       "  'TP9',\n",
       "  'TP10',\n",
       "  'POz',\n",
       "  'ECG',\n",
       "  'F1',\n",
       "  'F2',\n",
       "  'C1',\n",
       "  'C2',\n",
       "  'P1',\n",
       "  'P2',\n",
       "  'AF3',\n",
       "  'AF4',\n",
       "  'FC3',\n",
       "  'FC4',\n",
       "  'CP3',\n",
       "  'CP4',\n",
       "  'PO3',\n",
       "  'PO4',\n",
       "  'F5',\n",
       "  'F6',\n",
       "  'C5',\n",
       "  'C6',\n",
       "  'P5',\n",
       "  'P6',\n",
       "  'AF7',\n",
       "  'AF8',\n",
       "  'FT7',\n",
       "  'FT8',\n",
       "  'TP7',\n",
       "  'TP8',\n",
       "  'PO7',\n",
       "  'PO8',\n",
       "  'FT9',\n",
       "  'FT10',\n",
       "  'Fpz',\n",
       "  'CPz'],\n",
       " 5000)"
      ]
     },
     "execution_count": 15,
     "metadata": {},
     "output_type": "execute_result"
    }
   ],
   "source": [
    "nf_trial(0)"
   ]
  },
  {
   "cell_type": "markdown",
   "metadata": {},
   "source": [
    "## SMR-NF #4"
   ]
  },
  {
   "cell_type": "code",
   "execution_count": 27,
   "metadata": {},
   "outputs": [
    {
     "ename": "NameError",
     "evalue": "name 'amp' is not defined",
     "output_type": "error",
     "traceback": [
      "\u001b[0;31m---------------------------------------------------------------------------\u001b[0m",
      "\u001b[0;31mNameError\u001b[0m                                 Traceback (most recent call last)",
      "\u001b[0;32m<ipython-input-27-7287f1f735ed>\u001b[0m in \u001b[0;36m<module>\u001b[0;34m()\u001b[0m\n\u001b[0;32m----> 1\u001b[0;31m \u001b[0mnf_trial\u001b[0m\u001b[0;34m(\u001b[0m\u001b[0;36m1\u001b[0m\u001b[0;34m,\u001b[0m \u001b[0mthres\u001b[0m\u001b[0;34m)\u001b[0m\u001b[0;34m\u001b[0m\u001b[0m\n\u001b[0m",
      "\u001b[0;32m<ipython-input-8-e41a1adfd623>\u001b[0m in \u001b[0;36mnf_trial\u001b[0;34m(task, thr, count)\u001b[0m\n\u001b[1;32m     23\u001b[0m     \u001b[0mbcinet\u001b[0m\u001b[0;34m.\u001b[0m\u001b[0mplay\u001b[0m\u001b[0;34m(\u001b[0m\u001b[0;34m)\u001b[0m\u001b[0;34m\u001b[0m\u001b[0m\n\u001b[1;32m     24\u001b[0m     \u001b[0mbcinet\u001b[0m\u001b[0;34m.\u001b[0m\u001b[0msend_signal\u001b[0m\u001b[0;34m(\u001b[0m\u001b[0mbcixml\u001b[0m\u001b[0;34m.\u001b[0m\u001b[0mBciSignal\u001b[0m\u001b[0;34m(\u001b[0m\u001b[0;34m{\u001b[0m\u001b[0;34m'emgThrContainer'\u001b[0m\u001b[0;34m:\u001b[0m \u001b[0;36m0.1\u001b[0m\u001b[0;34m}\u001b[0m\u001b[0;34m,\u001b[0m \u001b[0;32mNone\u001b[0m\u001b[0;34m,\u001b[0m \u001b[0mbcixml\u001b[0m\u001b[0;34m.\u001b[0m\u001b[0mCONTROL_SIGNAL\u001b[0m\u001b[0;34m)\u001b[0m\u001b[0;34m)\u001b[0m\u001b[0;34m\u001b[0m\u001b[0m\n\u001b[0;32m---> 25\u001b[0;31m     \u001b[0mamp\u001b[0m\u001b[0;34m.\u001b[0m\u001b[0mstart\u001b[0m\u001b[0;34m(\u001b[0m\u001b[0;34m)\u001b[0m\u001b[0;34m\u001b[0m\u001b[0m\n\u001b[0m\u001b[1;32m     26\u001b[0m \u001b[0;34m\u001b[0m\u001b[0m\n\u001b[1;32m     27\u001b[0m     \u001b[0mimportlib\u001b[0m\u001b[0;34m.\u001b[0m\u001b[0mreload\u001b[0m\u001b[0;34m(\u001b[0m\u001b[0msignaltracking\u001b[0m\u001b[0;34m)\u001b[0m\u001b[0;34m\u001b[0m\u001b[0m\n",
      "\u001b[0;31mNameError\u001b[0m: name 'amp' is not defined"
     ]
    }
   ],
   "source": [
    "nf_trial(1, thres)"
   ]
  },
  {
   "cell_type": "markdown",
   "metadata": {},
   "source": [
    "## RS #4"
   ]
  },
  {
   "cell_type": "code",
   "execution_count": null,
   "metadata": {},
   "outputs": [],
   "source": [
    "nf_trial(0)"
   ]
  },
  {
   "cell_type": "markdown",
   "metadata": {},
   "source": [
    "## SMR-NF #5"
   ]
  },
  {
   "cell_type": "code",
   "execution_count": null,
   "metadata": {},
   "outputs": [],
   "source": [
    "nf_trial(1, thres)"
   ]
  },
  {
   "cell_type": "markdown",
   "metadata": {},
   "source": [
    "## RS #5"
   ]
  },
  {
   "cell_type": "code",
   "execution_count": null,
   "metadata": {},
   "outputs": [],
   "source": [
    "nf_trial(0)"
   ]
  },
  {
   "cell_type": "markdown",
   "metadata": {},
   "source": [
    "## SMR-NF #6"
   ]
  },
  {
   "cell_type": "code",
   "execution_count": null,
   "metadata": {},
   "outputs": [],
   "source": [
    "nf_trial(1, thres)"
   ]
  },
  {
   "cell_type": "code",
   "execution_count": null,
   "metadata": {},
   "outputs": [],
   "source": [
    "# EMG\n",
    "# Scale corrected data to V (from uV)\n",
    "# PyQT Graph\n",
    "# Don't plot real-time data next time"
   ]
  }
 ],
 "metadata": {
  "kernelspec": {
   "display_name": "Python 2",
   "language": "python",
   "name": "python2"
  },
  "language_info": {
   "codemirror_mode": {
    "name": "ipython",
    "version": 2
   },
   "file_extension": ".py",
   "mimetype": "text/x-python",
   "name": "python",
   "nbconvert_exporter": "python",
   "pygments_lexer": "ipython2",
   "version": "2.7.13"
  }
 },
 "nbformat": 4,
 "nbformat_minor": 2
}
