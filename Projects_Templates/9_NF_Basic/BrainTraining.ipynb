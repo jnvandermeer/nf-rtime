{
 "cells": [
  {
   "cell_type": "markdown",
   "metadata": {},
   "source": [
    "# Brain Training\n",
    "This is the first notebook where everything regarding NF Training will come together"
   ]
  },
  {
   "cell_type": "markdown",
   "metadata": {},
   "source": [
    "## 1. Preparation I: modules and where to put files\n",
    "- double check all these parameters\n",
    "- change sub and sess according to the current participant and session (!)\n",
    "- double check the destination directory to be sure\n",
    "- don't use the Template Notebook (if you do so...), but copy/paste a notebook into a subject/session specific directory!\n",
    "- do not do this work just before a measurement. Have it prepared (and preferable tested!)"
   ]
  },
  {
   "cell_type": "code",
   "execution_count": 1,
   "metadata": {},
   "outputs": [],
   "source": [
    "# import (most of the) modules that we need\n",
    "import time\n",
    "import re\n",
    "import os\n",
    "from multiprocessing import Process\n",
    "from datetime import datetime\n",
    "import numpy as np\n",
    "import pylsl\n",
    "from nftools import guis\n",
    "from nftools.nftools import no_bad_samples, no_bad_channels, detect_channel_types\n",
    "import mne\n",
    "import dynarray\n",
    "import pickle\n",
    "from scipy import io as spio"
   ]
  },
  {
   "cell_type": "code",
   "execution_count": 2,
   "metadata": {},
   "outputs": [],
   "source": [
    "# use the qt event loop, disable warnings (they flood the screen)\n",
    "%matplotlib qt  \n",
    "# %gui qt\n",
    "\n",
    "import warnings; warnings.filterwarnings('ignore') \n",
    "mne.set_config('MNE_LOGGING_LEVEL', 'WARNING')"
   ]
  },
  {
   "cell_type": "markdown",
   "metadata": {},
   "source": [
    "## 2. Define sub, session and run numbers\n",
    "- this will also load all the available data - if they've already been recorded!"
   ]
  },
  {
   "cell_type": "code",
   "execution_count": 3,
   "metadata": {},
   "outputs": [],
   "source": [
    "# change these according to which sub-sess we have:\n",
    "sub = 4\n",
    "sess = 1\n",
    "run = 2"
   ]
  },
  {
   "cell_type": "code",
   "execution_count": 4,
   "metadata": {},
   "outputs": [
    {
     "name": "stdout",
     "output_type": "stream",
     "text": [
      "Directory  /home/johan/nf/rawdata/BrainTraining/bids/sub-04/sess-01/eeg  already exists\n",
      "found raw eyes open: \t\tsub-04_sess-01_task-eo_run-02.fif\n",
      "found raw eyes closed: \t\tsub-04_sess-01_task-ec_run-02.fif\n",
      "found ica eyeblink rejection:\tsub-04_sess-01_ica-ocular-rejection_run-02.pkl\n",
      "found csp alpha rejection: \tsub-04_sess-01_csp-alpha-rejection_run-02.pkl\n",
      "found calibration envelopes: \tsub-04_sess-01_calibration_envelopes_run-02.pkl\n",
      "found calibration parameters: \tsub-04_sess-01_calibration_parameters_run-02.pkl\n",
      "found raw nftraining: \t\tsub-04_sess-01_task-raw-nftraining_run-02.fif\n",
      "found rt-analyzed eeg: \t\tsub-04_sess-01_task-rtanalyzed-nftraining-eeg_run-02.fif\n",
      "found rt-analyzed emg: \t\tsub-04_sess-01_task-rtanalyzed-nftraining-emg_run-02.fif\n"
     ]
    }
   ],
   "source": [
    "# define where we put our stuff - prepare for BIDS Format Style\n",
    "save_dir = '/home/johan/nf/rawdata/BrainTraining/bids'\n",
    "this_save_dir = os.path.join(save_dir, 'sub-{:02d}'.format(sub), 'sess-{:02d}'.format(sess), 'eeg')\n",
    "\n",
    "# we should also ... MAKE this savedir! If it exists, we don't do anything.\n",
    "if not os.path.exists(this_save_dir):\n",
    "    os.makedirs(this_save_dir)\n",
    "    print(\"Directory \" , this_save_dir ,  \" Created \")\n",
    "else:    \n",
    "    print(\"Directory \" , this_save_dir ,  \" already exists\")   \n",
    "    \n",
    "    \n",
    "# expected files to be read/written:\n",
    "fname_raw_eo_run = os.path.join(this_save_dir, 'sub-{:02d}_sess-{:02d}_task-{}_run-{:02d}.fif'.format(sub, sess, 'eo', run))\n",
    "fname_raw_ec_run = os.path.join(this_save_dir, 'sub-{:02d}_sess-{:02d}_task-{}_run-{:02d}.fif'.format(sub, sess, 'ec', run))\n",
    "fname_ica_ocular_rejection = os.path.join(this_save_dir, 'sub-{:02d}_sess-{:02d}_ica-ocular-rejection_run-{:02d}.pkl'.format(sub, sess, run))\n",
    "fname_csp_alpha_rejection = os.path.join(this_save_dir, 'sub-{:02d}_sess-{:02d}_csp-alpha-rejection_run-{:02d}.pkl'.format(sub, sess, run))\n",
    "\n",
    "fname_calibration_envelopes = os.path.join(this_save_dir, 'sub-{:02d}_sess-{:02d}_calibration_envelopes_run-{:02d}.pkl'.format(sub, sess, run))\n",
    "fname_calibration_parameters = os.path.join(this_save_dir, 'sub-{:02d}_sess-{:02d}_calibration_parameters_run-{:02d}.pkl'.format(sub, sess, run))\n",
    "\n",
    "fname_raw_nftraining_run = os.path.join(this_save_dir, 'sub-{:02d}_sess-{:02d}_task-{}_run-{:02d}.fif'.format(sub, sess, 'raw-nftraining', run))\n",
    "fname_rtanalyzed_nftraining_eeg = os.path.join(this_save_dir, 'sub-{:02d}_sess-{:02d}_task-{}_run-{:02d}.fif'.format(sub, sess, 'rtanalyzed-nftraining-eeg', run))\n",
    "fname_rtanalyzed_nftraining_emg = os.path.join(this_save_dir, 'sub-{:02d}_sess-{:02d}_task-{}_run-{:02d}.fif'.format(sub, sess, 'rtanalyzed-nftraining-emg', run))\n",
    "\n",
    "\n",
    "\n",
    "# if files exist, load them\n",
    "if os.path.exists(fname_raw_eo_run):\n",
    "    print('found raw eyes open: \\t\\t' + os.path.basename(fname_raw_eo_run))\n",
    "    raw_eo = mne.io.read_raw_fif(fname_raw_eo_run, preload=True)\n",
    "if os.path.exists(fname_raw_ec_run):\n",
    "    print('found raw eyes closed: \\t\\t' + os.path.basename(fname_raw_ec_run))\n",
    "    raw_ec = mne.io.read_raw_fif(fname_raw_ec_run, preload=True)\n",
    "if os.path.exists(fname_ica_ocular_rejection):\n",
    "    print('found ica eyeblink rejection:\\t' + os.path.basename(fname_ica_ocular_rejection))\n",
    "    with open(fname_ica_ocular_rejection,'rb') as f:\n",
    "        ica_rejection = pickle.load(f)\n",
    "if os.path.exists(fname_csp_alpha_rejection):\n",
    "    print('found csp alpha rejection: \\t' + os.path.basename(fname_csp_alpha_rejection))\n",
    "    with open(fname_csp_alpha_rejection, 'rb') as f:\n",
    "        csp_rejection = pickle.load(f)\n",
    "\n",
    "if os.path.exists(fname_calibration_envelopes):\n",
    "    print('found calibration envelopes: \\t' + os.path.basename(fname_calibration_envelopes))\n",
    "    with open(fname_calibration_envelopes, 'rb') as f: \n",
    "        calibration_envelopes = pickle.load(f)\n",
    "    locals().update(calibration_envelopes)\n",
    "if os.path.exists(fname_calibration_parameters):\n",
    "    print('found calibration parameters: \\t' + os.path.basename(fname_calibration_parameters))\n",
    "    with open(fname_calibration_parameters, 'rb') as f: \n",
    "        calibration_parameters = pickle.load(f)\n",
    "    locals().update(calibration_parameters)\n",
    "        \n",
    "if os.path.exists(fname_raw_nftraining_run):\n",
    "    print('found raw nftraining: \\t\\t' + os.path.basename(fname_raw_nftraining_run))\n",
    "    raw_nftraining = mne.io.read_raw_fif(fname_raw_nftraining_run)\n",
    "if os.path.exists(fname_rtanalyzed_nftraining_eeg):\n",
    "    print('found rt-analyzed eeg: \\t\\t' + os.path.basename(fname_rtanalyzed_nftraining_eeg))\n",
    "    rtanalyzed_nftraining_eeg = mne.io.read_raw_fif(fname_rtanalyzed_nftraining_eeg)\n",
    "if os.path.exists(fname_rtanalyzed_nftraining_emg):\n",
    "    print('found rt-analyzed emg: \\t\\t' + os.path.basename(fname_rtanalyzed_nftraining_emg))\n",
    "    rtanalyzed_nftraining_emg = mne.io.read_raw_fif(fname_rtanalyzed_nftraining_emg)        "
   ]
  },
  {
   "cell_type": "markdown",
   "metadata": {},
   "source": [
    "## 3. Preparion, II: Fix/check the EEG Cap\n",
    "\n",
    "- fix the EEG Cap\n",
    "- check with openBCI GUI if the signals look OK, once they do:\n",
    "- run the `python raw_eo_data --stream`, followed by `/start`\n",
    "- the light on the usb stick should go <font color=\"red\">RED</font>\n",
    "- (re)-start the Cap or USB if it doesn't work, followed by commands above"
   ]
  },
  {
   "cell_type": "markdown",
   "metadata": {},
   "source": [
    "## 4. Connect to the real-time Data Stream"
   ]
  },
  {
   "cell_type": "code",
   "execution_count": 5,
   "metadata": {},
   "outputs": [
    {
     "name": "stdout",
     "output_type": "stream",
     "text": [
      "['someidentifier123']\n"
     ]
    }
   ],
   "source": [
    "# prints out which streams are currently available\n",
    "stream_ids = [ pylsl.stream_inlet(s).info().source_id() for s in pylsl.resolve_streams() ]\n",
    "print(stream_ids)"
   ]
  },
  {
   "cell_type": "markdown",
   "metadata": {},
   "source": [
    "- copy/paste the eeg lab name (left of the 2 outputs) into stream_id variable:\n",
    "- thake the one that says **eeg**, not aux!"
   ]
  },
  {
   "cell_type": "code",
   "execution_count": 6,
   "metadata": {},
   "outputs": [
    {
     "name": "stdout",
     "output_type": "stream",
     "text": [
      "someidentifier123\n"
     ]
    }
   ],
   "source": [
    "# 'subscribe' to a data stream; grab all essential(s), fs, names, etc\n",
    "# stream_id = 'openbci_eeg_id134'\n",
    "\n",
    "# eeg_stream_id = [stream_id for stream_id in stream_ids if re.match('.*_eeg_.*', stream_id)]\n",
    "eeg_stream_id = [stream_id for stream_id in stream_ids if re.match('.*some.*', stream_id)]\n",
    "if len(eeg_stream_id)>0:\n",
    "    eeg_stream_id=eeg_stream_id[0]\n",
    "print(eeg_stream_id)"
   ]
  },
  {
   "cell_type": "code",
   "execution_count": 7,
   "metadata": {},
   "outputs": [
    {
     "name": "stdout",
     "output_type": "stream",
     "text": [
      "name = Playback-3\n",
      "sampling_freq = 500\n",
      "channel_count = 32\n",
      "channel_format = 1\n"
     ]
    }
   ],
   "source": [
    "# try grabbing all the information from that stream:\n",
    "data_stream=pylsl.resolve_byprop(\"source_id\", eeg_stream_id, timeout=5.0)\n",
    "if data_stream:\n",
    "    data_inlet=pylsl.stream_inlet(data_stream[0], max_buflen=10)\n",
    "    stream_info = data_inlet.info()\n",
    "    stream_Fs = stream_info.nominal_srate()\n",
    "    stream_xml = stream_info.desc()\n",
    "    chans_xml = stream_xml.child(\"channels\")\n",
    "    chan_xml_list = []\n",
    "    ch = chans_xml.child(\"channel\")\n",
    "    while ch.name() == \"channel\":\n",
    "        chan_xml_list.append(ch)\n",
    "        ch = ch.next_sibling(\"channel\")\n",
    "    channel_names = [ch_xml.child_value(\"label\") for ch_xml in chan_xml_list]\n",
    "    data_inlet_dt = data_inlet.time_correction(timeout=5.0)\n",
    "    sampling_freq = data_stream[0].nominal_srate()\n",
    "    print('name = %s' % data_stream[0].name())\n",
    "    print('sampling_freq = %d' % sampling_freq)\n",
    "    print('channel_count = %d' % data_stream[0].channel_count())\n",
    "    print('channel_format = %d' % data_stream[0].channel_format())\n",
    "else:\n",
    "    raise Exception('No Data Stream Found - Is your EEG Cap running?')"
   ]
  },
  {
   "cell_type": "markdown",
   "metadata": {},
   "source": [
    "## 5.1 Measure Some Data (Eye Open)\n",
    "- Inform that the following measurement is an eye open measurement.\n",
    "- Subjects are allowed to blink as normal\n",
    "- duration about 2 minutes\n",
    "- might have to re-run this in order to fix a channel from being busted\n",
    "- when ready press 'stop acquisition' and close window"
   ]
  },
  {
   "cell_type": "code",
   "execution_count": 9,
   "metadata": {},
   "outputs": [],
   "source": [
    "# we put the incoming data in here:\n",
    "np_eo = dynarray.DynamicArray((None, len(channel_names)))\n",
    "\n",
    "# init/open the window in which we visualize data\n",
    "w=guis.AcquireData(sampling_freq, channel_names)\n",
    "\n",
    "# before we start, pull everything from the buffer (empty it)\n",
    "data_inlet.pull_chunk()\n",
    "while data_inlet.samples_available(): data_inlet.pull_chunk() \n",
    "    \n",
    "# then start acquiring data as long as button 'stop' not pressed:\n",
    "w.RUNLOOP=True\n",
    "while w.RUNLOOP:\n",
    "\n",
    "    if not data_inlet.samples_available():\n",
    "        w.update(None)\n",
    "    else:\n",
    "        \n",
    "        chunk_data, chunk_times = data_inlet.pull_chunk(timeout=0.0) # grab from LSL\n",
    "\n",
    "        np_eo.extend(chunk_data) # add to our list\n",
    "        w.update(chunk_data) # update the GUI window        "
   ]
  },
  {
   "cell_type": "code",
   "execution_count": 10,
   "metadata": {},
   "outputs": [],
   "source": [
    "# and we make the MNE data file from it\n",
    "raw_eo = mne.io.RawArray(np.transpose(np_eo)*1E-6,\n",
    "                        mne.create_info(channel_names, \n",
    "                                    sampling_freq, \n",
    "                                    detect_channel_types(channel_names), \n",
    "                                    'standard_1020'\n",
    "                        )\n",
    "                   )"
   ]
  },
  {
   "cell_type": "markdown",
   "metadata": {},
   "source": [
    "## 5.2 Inspect the eo data  (run1)\n",
    "- scroll through the data see if the EEG signal is what you expect\n",
    "- mark bad channels (that cannot be rescued)\n",
    "- mark bad segments"
   ]
  },
  {
   "cell_type": "code",
   "execution_count": 11,
   "metadata": {},
   "outputs": [],
   "source": [
    "# we use a simple display filter\n",
    "raw_eo_copy = raw_eo.copy()\n",
    "raw_eo_copy.filter(1, 40).plot();"
   ]
  },
  {
   "cell_type": "markdown",
   "metadata": {},
   "source": [
    "- save this raw data to disk (filename taken care of)"
   ]
  },
  {
   "cell_type": "code",
   "execution_count": 12,
   "metadata": {},
   "outputs": [
    {
     "name": "stdout",
     "output_type": "stream",
     "text": [
      "saved: /home/johan/nf/rawdata/BrainTraining/bids/sub-04/sess-01/eeg/sub-04_sess-01_task-eo_run-02.fif\n"
     ]
    }
   ],
   "source": [
    "raw_eo.set_annotations(raw_eo_copy.annotations)\n",
    "raw_eo.info = raw_eo_copy.info\n",
    "\n",
    "this_raw_fname = 'sub-{:02d}_sess-{:02d}_task-{}_run-{:02d}.fif'.format(sub, sess, 'eo', run)\n",
    "fname_raw_eo_run = os.path.join(this_save_dir, this_raw_fname)\n",
    "\n",
    "raw_eo.save(fname_raw_eo_run, overwrite=True)\n",
    "print('saved: ' + fname_raw_eo_run)"
   ]
  },
  {
   "cell_type": "markdown",
   "metadata": {},
   "source": [
    "## 5.3 Measure Some Data (Eye Closed)\n",
    "- Inform your subject to keep the eye closed, then start the measurement\n",
    "- duration about 1 minute"
   ]
  },
  {
   "cell_type": "code",
   "execution_count": 13,
   "metadata": {},
   "outputs": [],
   "source": [
    "# we put the incoming data in here:\n",
    "np_ec = dynarray.DynamicArray((None, len(channel_names)))\n",
    "\n",
    "# init/open the window in which we visualize data\n",
    "w=guis.AcquireData(sampling_freq, channel_names)\n",
    "\n",
    "# before we start, pull everything from the buffer (empty it)\n",
    "data_inlet.pull_chunk()\n",
    "while data_inlet.samples_available(): data_inlet.pull_chunk() \n",
    "    \n",
    "# then start acquiring data as long as button 'stop' not pressed:\n",
    "w.RUNLOOP=True\n",
    "while w.RUNLOOP:\n",
    "\n",
    "    if not data_inlet.samples_available():\n",
    "        w.update(None)\n",
    "    else:\n",
    "        \n",
    "        chunk_data, chunk_times = data_inlet.pull_chunk(timeout=0.0) # grab from LSL\n",
    "\n",
    "        np_ec.extend(chunk_data) # add to our list\n",
    "        w.update(chunk_data) # update the GUI window        "
   ]
  },
  {
   "cell_type": "code",
   "execution_count": 14,
   "metadata": {},
   "outputs": [
    {
     "name": "stdout",
     "output_type": "stream",
     "text": [
      "setting bad chanels in the data set to be the same as previous dataset\n",
      "[]\n",
      "Do not change bad channels further - re-do eo and ec if needed!\n"
     ]
    }
   ],
   "source": [
    "# and we make the MNE data file from it        \n",
    "raw_ec = mne.io.RawArray(np.transpose(np_ec)*1E-6,\n",
    "                        mne.create_info(channel_names, \n",
    "                                    sampling_freq, \n",
    "                                    detect_channel_types(channel_names), \n",
    "                                    'standard_1020'\n",
    "                               )\n",
    "                       )\n",
    "raw_ec.info['bads'] = raw_eo.info['bads']\n",
    "print('setting bad chanels in the data set to be the same as previous dataset')\n",
    "print(raw_ec.info['bads'])\n",
    "print('Do not change bad channels further - re-do eo and ec if needed!')"
   ]
  },
  {
   "cell_type": "markdown",
   "metadata": {},
   "source": [
    "## 5.4 Inspect the ec data\n",
    "- scroll through the data see if the EEG signal is what you expect\n",
    "- mark bad channels (that cannot be rescued)\n",
    "- mark bad segments"
   ]
  },
  {
   "cell_type": "code",
   "execution_count": 15,
   "metadata": {},
   "outputs": [],
   "source": [
    "# we use a simple display filter\n",
    "raw_ec_copy = raw_ec.copy()\n",
    "raw_ec_copy.filter(1, 35).plot();"
   ]
  },
  {
   "cell_type": "code",
   "execution_count": 19,
   "metadata": {},
   "outputs": [
    {
     "name": "stdout",
     "output_type": "stream",
     "text": [
      "saved AGAIN: /home/johan/nf/rawdata/BrainTraining/bids/sub-04/sess-01/eeg/sub-04_sess-01_task-eo_run-02.fif\n"
     ]
    }
   ],
   "source": [
    "# check bad channels in eo, compare to ec\n",
    "if not raw_ec_copy.info['bads'] == raw_eo.info['bads']:\n",
    "    # raise Exception('Bad Channels are not the same between the two datasets - fix this first')\n",
    "    all_bads = list(set(raw_ec_copy.info['bads'] + raw_eo.info['bads']))\n",
    "    raw_eo.info['bads'] = all_bads\n",
    "    raw_ec.info['bads'] = all_bads\n",
    "    \n",
    "    # save raw_eo again\n",
    "    raw_eo.save(fname_raw_eo_run, overwrite=True)\n",
    "    print('saved AGAIN: ' + fname_raw_eo_run)"
   ]
  },
  {
   "cell_type": "markdown",
   "metadata": {},
   "source": [
    "- save this raw data to disk (filename taken care of)"
   ]
  },
  {
   "cell_type": "code",
   "execution_count": 21,
   "metadata": {},
   "outputs": [
    {
     "name": "stdout",
     "output_type": "stream",
     "text": [
      "saved: /home/johan/nf/rawdata/BrainTraining/bids/sub-04/sess-01/eeg/sub-04_sess-01_task-ec_run-02.fif\n"
     ]
    }
   ],
   "source": [
    "raw_ec.set_annotations(raw_ec_copy.annotations)\n",
    "raw_ec.info = raw_ec_copy.info\n",
    "\n",
    "this_raw_fname = 'sub-{:02d}_sess-{:02d}_task-{}_run-{:02d}.fif'.format(sub, sess, 'ec', run)\n",
    "fname_raw_ec_run = os.path.join(this_save_dir, this_raw_fname)\n",
    "\n",
    "raw_ec.save(fname_raw_ec_run, overwrite=True)\n",
    "print('saved: ' + fname_raw_ec_run)"
   ]
  },
  {
   "cell_type": "markdown",
   "metadata": {},
   "source": [
    "## 6.1 Handle the Ocular Artifacts\n",
    "- this will automatically read in the EO data  (run1)\n",
    "- and run the ICA analysis\n",
    "- your job is to select the component most resembling ocular artifact\n",
    "- and the matrix will/should be saved"
   ]
  },
  {
   "cell_type": "code",
   "execution_count": 22,
   "metadata": {},
   "outputs": [
    {
     "name": "stdout",
     "output_type": "stream",
     "text": [
      "apply filter: 3 to 45\n",
      "Dropped 597 outliers\n",
      "ICA/CSP time elapsed = 6.330122947692871s\n",
      "Table drawing time elapsed = 6.9557061195373535s\n",
      "Created an ICA Spatial Filter\n",
      "<pynfb.signal_processing.filters.SpatialRejection object at 0x7fd76f290f28>\n"
     ]
    }
   ],
   "source": [
    "# apply the annotations and bad channel mask to get a matrix of 'good' data:\n",
    "clean_raw = no_bad_channels(\n",
    "    no_bad_samples(\n",
    "        raw_eo.filter(3, 40).notch_filter((25, 31.25, 50))\n",
    "    )\n",
    ");\n",
    "\n",
    "\n",
    "# run the ICA analysis -- the ICA analysis already applies a 3-40 Hz filter!!\n",
    "from pynfb.protocols.ssd.topomap_selector_ica import ICADialog\n",
    "\n",
    "ica_rejection, _, _, ica_unmixing_matrix, _, _ = ICADialog.get_rejection(\n",
    "    clean_raw.get_data().T, \n",
    "    clean_raw.ch_names,\n",
    "    clean_raw.info['sfreq'],\n",
    "    decomposition=None\n",
    ")\n",
    "\n",
    "\n",
    "bad_channel_mask = [ch not in raw_eo.info['bads'] for ch in raw_eo.ch_names]\n",
    "ica_rejection = ica_rejection.expand_by_mask(bad_channel_mask)\n",
    "\n",
    "print('Created an ICA Spatial Filter')\n",
    "print(ica_rejection)"
   ]
  },
  {
   "cell_type": "markdown",
   "metadata": {},
   "source": [
    "## 6.2 Save the ocular Rejection\n",
    "- close all open windows"
   ]
  },
  {
   "cell_type": "code",
   "execution_count": 23,
   "metadata": {},
   "outputs": [
    {
     "name": "stdout",
     "output_type": "stream",
     "text": [
      "saved: /home/johan/nf/rawdata/BrainTraining/bids/sub-04/sess-01/eeg/sub-04_sess-01_ica-ocular-rejection_run-02.pkl\n"
     ]
    }
   ],
   "source": [
    "# we save the ICA for ocular rejection:\n",
    "# save the ICA rejection \n",
    "this_raw_fname = 'sub-{:02d}_sess-{:02d}_ica-ocular-rejection_run-{:02d}.pkl'.format(sub, sess, run)\n",
    "fname_ica_ocular_rejection = os.path.join(this_save_dir, this_raw_fname)\n",
    "\n",
    "with open(fname_ica_ocular_rejection, 'wb') as f: pickle.dump(ica_rejection, f)\n",
    "print('saved: ' + fname_ica_ocular_rejection)\n",
    "\n",
    "# save it also as a .txt matrix (for matlab)\n",
    "np.savetxt(re.sub('.pkl$','.txt', fname_ica_ocular_rejection), ica_rejection.val)"
   ]
  },
  {
   "cell_type": "markdown",
   "metadata": {},
   "source": [
    "## 6.3 Check how ocular Rejection has been applied to the data"
   ]
  },
  {
   "cell_type": "code",
   "execution_count": 24,
   "metadata": {},
   "outputs": [],
   "source": [
    "no_bad_samples(raw_eo.filter(1, None).notch_filter((25, 31.25, 50))).plot();"
   ]
  },
  {
   "cell_type": "code",
   "execution_count": 25,
   "metadata": {},
   "outputs": [],
   "source": [
    "raw_eo_ica_applied = mne.io.RawArray(ica_rejection.apply(raw_eo.get_data().T).T, \n",
    "        mne.create_info(raw_eo.ch_names, \n",
    "                        raw_eo.info['sfreq'],\n",
    "                        detect_channel_types(raw_eo.ch_names), \n",
    "                        'standard_1020')\n",
    "               )\n",
    "raw_eo_ica_applied.set_annotations(raw_eo.annotations)\n",
    "no_bad_samples(raw_eo_ica_applied.filter(1, None).notch_filter((25, 31.25, 50))).plot();"
   ]
  },
  {
   "cell_type": "markdown",
   "metadata": {},
   "source": [
    "## 6.4 Handle Alpha Power Suppression with CSP"
   ]
  },
  {
   "cell_type": "code",
   "execution_count": 26,
   "metadata": {},
   "outputs": [],
   "source": [
    "# we concatenate the 'eo' and the 'ec' data, and put it into a giant 'raw' (compare with and without)\n",
    "clean_raw_eo = no_bad_channels(\n",
    "    no_bad_samples(\n",
    "        raw_eo.copy().filter(3, 40).notch_filter((25, 31.25, 50))\n",
    "    )\n",
    ")\n",
    "\n",
    "clean_raw_ec = no_bad_channels(\n",
    "    no_bad_samples(\n",
    "        raw_ec.copy().filter(3, 40).notch_filter((25, 31.25, 50))\n",
    "    )\n",
    ")"
   ]
  },
  {
   "cell_type": "code",
   "execution_count": 41,
   "metadata": {},
   "outputs": [
    {
     "data": {
      "text/plain": [
       "<RawArray  |  None, n_channels x n_times : 31 x 18687 (37.4 sec), ~4.5 MB, data loaded>"
      ]
     },
     "execution_count": 41,
     "metadata": {},
     "output_type": "execute_result"
    }
   ],
   "source": [
    "bad_channel_mask = [ch not in raw_eo.info['bads'] for ch in raw_eo.ch_names]\n",
    "shrunk_ica_rejection = ica_rejection.shrink_by_mask(bad_channel_mask)\n",
    "\n",
    "eoec_ica_applied = mne.io.RawArray(\n",
    "    shrunk_ica_rejection.apply(np.hstack((clean_raw_eo.get_data(), clean_raw_ec.get_data())).T).T,\n",
    "    mne.create_info(clean_raw_eo.ch_names, \n",
    "                        clean_raw_eo.info['sfreq'],\n",
    "                        detect_channel_types(clean_raw_eo.ch_names), \n",
    "                        'standard_1020')\n",
    ")\n",
    "\n",
    "eoec = mne.concatenate_raws([clean_raw_eo, clean_raw_ec])\n",
    "eoec_ica_applied.set_annotations(eoec.annotations)"
   ]
  },
  {
   "cell_type": "code",
   "execution_count": 28,
   "metadata": {},
   "outputs": [
    {
     "name": "stdout",
     "output_type": "stream",
     "text": [
      "apply filter: 3 to 45\n",
      "Dropped 256 outliers\n",
      "ICA/CSP time elapsed = 0.04753375053405762s\n",
      "Table drawing time elapsed = 6.385865688323975s\n"
     ]
    }
   ],
   "source": [
    "# label what is 'eo' and what is 'ec':\n",
    "labels_for_csp = np.hstack((np.zeros(clean_raw_eo.last_samp+1), np.ones(clean_raw_ec.last_samp+1)))\n",
    "\n",
    "    \n",
    "# bring up the GUI for CSP filtering of the data:\n",
    "csp_rejection, filter, topography, _, bandpass, to_all = ICADialog.get_rejection(\n",
    "    eoec_ica_applied.get_data().T,\n",
    "    eoec_ica_applied.ch_names, \n",
    "    eoec_ica_applied.info['sfreq'],\n",
    "    mode='csp', \n",
    "    _stimulus_split=False,\n",
    "    labels=labels_for_csp, # will convert to 0-1 vector for each sample in x\n",
    "    marks=None)\n",
    "\n",
    "bad_channel_mask = [ch not in raw_eo.info['bads'] for ch in raw_eo.ch_names]\n",
    "csp_rejection = csp_rejection.expand_by_mask(bad_channel_mask)"
   ]
  },
  {
   "cell_type": "markdown",
   "metadata": {},
   "source": [
    "## 6.5 Save the Alpha Power Rejection\n",
    "- close all open windows"
   ]
  },
  {
   "cell_type": "code",
   "execution_count": 30,
   "metadata": {},
   "outputs": [
    {
     "name": "stdout",
     "output_type": "stream",
     "text": [
      "saved: /home/johan/nf/rawdata/BrainTraining/bids/sub-04/sess-01/eeg/sub-04_sess-01_csp-alpha-rejection_run-02.pkl\n"
     ]
    }
   ],
   "source": [
    "# we save the ICA for ocular rejection:\n",
    "# save the ICA rejection \n",
    "this_raw_fname = 'sub-{:02d}_sess-{:02d}_csp-alpha-rejection_run-{:02d}.pkl'.format(sub, sess, run)\n",
    "fname_csp_alpha_rejection = os.path.join(this_save_dir, this_raw_fname)\n",
    "\n",
    "with open(fname_csp_alpha_rejection, 'wb') as f: pickle.dump(csp_rejection, f)\n",
    "print('saved: ' + fname_csp_alpha_rejection)\n",
    "\n",
    "# save it also as .txt matrix (for matlab)\n",
    "np.savetxt(re.sub('.pkl$','.txt', fname_csp_alpha_rejection), csp_rejection.val)"
   ]
  },
  {
   "cell_type": "code",
   "execution_count": 31,
   "metadata": {},
   "outputs": [
    {
     "data": {
      "text/plain": [
       "<RawArray  |  None, n_channels x n_times : 31 x 18687 (37.4 sec), ~4.5 MB, data loaded>"
      ]
     },
     "execution_count": 31,
     "metadata": {},
     "output_type": "execute_result"
    }
   ],
   "source": [
    "bad_channel_mask = [ch not in raw_eo.info['bads'] for ch in raw_eo.ch_names]\n",
    "shrunk_csp_rejection = csp_rejection.shrink_by_mask(bad_channel_mask)\n",
    "\n",
    "eoec_csp_and_ica_applied = mne.io.RawArray(\n",
    "    shrunk_csp_rejection.apply(eoec_ica_applied.get_data().T).T,\n",
    "    mne.create_info(eoec_ica_applied.ch_names, \n",
    "                        eoec_ica_applied.info['sfreq'],\n",
    "                        detect_channel_types(eoec_ica_applied.ch_names), \n",
    "                        'standard_1020',\n",
    "               )\n",
    ")\n",
    "\n",
    "eoec_csp_and_ica_applied.set_annotations(eoec_ica_applied.annotations)\n"
   ]
  },
  {
   "cell_type": "markdown",
   "metadata": {},
   "source": [
    "## 6.6 Inspect Alpha Power Rejection (or any of the above)\n",
    "- close all open windows"
   ]
  },
  {
   "cell_type": "code",
   "execution_count": 32,
   "metadata": {},
   "outputs": [],
   "source": [
    "eoec.plot();"
   ]
  },
  {
   "cell_type": "code",
   "execution_count": 98,
   "metadata": {},
   "outputs": [],
   "source": [
    "eoec_ica_applied.plot();"
   ]
  },
  {
   "cell_type": "code",
   "execution_count": 33,
   "metadata": {},
   "outputs": [],
   "source": [
    "eoec_csp_and_ica_applied.plot();"
   ]
  },
  {
   "cell_type": "code",
   "execution_count": 79,
   "metadata": {},
   "outputs": [],
   "source": [
    "eoec.plot_psd();"
   ]
  },
  {
   "cell_type": "code",
   "execution_count": 80,
   "metadata": {},
   "outputs": [],
   "source": [
    "eoec_ica_applied.plot_psd();"
   ]
  },
  {
   "cell_type": "code",
   "execution_count": 82,
   "metadata": {},
   "outputs": [],
   "source": [
    "eoec_csp_and_ica_applied.plot_psd();"
   ]
  },
  {
   "cell_type": "markdown",
   "metadata": {},
   "source": [
    "# 7. Neurofeedback"
   ]
  },
  {
   "cell_type": "markdown",
   "metadata": {},
   "source": [
    "### 7.1 Start up the Stimulus on Computer\n",
    "- connect via WiFi\n",
    "    - ip address = 10.42.0.1\n",
    "    - host = stim-pc\n",
    "    - password = PASSWORD, OR 12345678\n",
    "- ideally this should already be up and running, so you can skip over these more fast"
   ]
  },
  {
   "cell_type": "code",
   "execution_count": 8,
   "metadata": {},
   "outputs": [],
   "source": [
    "from callpyff import bcinetwork, bcixml\n",
    "bcinet = bcinetwork.BciNetwork('10.42.0.1', bcinetwork.FC_PORT, bcinetwork.GUI_PORT, 'bcixml')"
   ]
  },
  {
   "cell_type": "code",
   "execution_count": 9,
   "metadata": {},
   "outputs": [
    {
     "name": "stdout",
     "output_type": "stream",
     "text": [
      "['TestD2', 'MovingRhomb', 'EOEC', 'LibetClock', 'BrainWaveTraining_II', 'TobiQLAdapter', 'VisualOddballVE', 'EyetrackerFeedback', 'HexoSpeller', 'P300_Rectangle', 'ERPHex', 'BrainWaveTraining', 'StopVigilanceTask', 'FeedbackCursorArrow', 'TrivialPong', 'CheckerboardVEP', 'HexoSpellerVE', 'BoringClock', 'nback_verbal', 'Lesson01', 'BrainPong', 'CakeSpellerVE', 'MovingRhombGL', 'RestingState', 'NFBasicThermometer', 'RSVPSpeller', 'EEGfMRILocalizer', 'MultiVisualOddball', 'Lesson01b', 'GoalKeeper', 'CenterSpellerVE', 'Oddball', 'EyetrackerRawdata', 'StroopFeedback', 'ERPMatrix', 'Lesson04', 'Lesson05', 'Lesson06', 'VisualOddball', 'Lesson02', 'Lesson03']\n"
     ]
    }
   ],
   "source": [
    "print(bcinet.getAvailableFeedbacks())"
   ]
  },
  {
   "cell_type": "code",
   "execution_count": 10,
   "metadata": {},
   "outputs": [],
   "source": [
    "bcinet.send_init('BrainWaveTraining_II')"
   ]
  },
  {
   "cell_type": "code",
   "execution_count": 11,
   "metadata": {},
   "outputs": [],
   "source": [
    "# tell the stimulus about the monitor\n",
    "bcinet.send_signal(bcixml.BciSignal({'EX_TESTNFNOISE': False},None, bcixml.INTERACTION_SIGNAL))\n",
    "bcinet.send_signal(bcixml.BciSignal({'MONITOR_PIXWIDTH': 1366},None, bcixml.INTERACTION_SIGNAL))\n",
    "bcinet.send_signal(bcixml.BciSignal({'MONITOR_PIXHEIGHT': 768},None, bcixml.INTERACTION_SIGNAL))\n",
    "bcinet.send_signal(bcixml.BciSignal({'MONITOR_FULLSCR': True},None, bcixml.INTERACTION_SIGNAL))"
   ]
  },
  {
   "cell_type": "markdown",
   "metadata": {},
   "source": [
    "### 7.2 Start the process that will monitor events from the Stimulation Laptop\n",
    " - this will listen on UDP port 6500 for any incoming markers\n",
    " - This is to convert signals from the Presentation into annotations\n",
    " - grab markers in the NF loop with: `while not marker_queue.empty():`"
   ]
  },
  {
   "cell_type": "code",
   "execution_count": 40,
   "metadata": {},
   "outputs": [
    {
     "name": "stdout",
     "output_type": "stream",
     "text": [
      "10.42.0.200:6500\n"
     ]
    },
    {
     "ename": "NameError",
     "evalue": "name 'bcinet' is not defined",
     "output_type": "error",
     "traceback": [
      "\u001b[0;31m---------------------------------------------------------------------------\u001b[0m",
      "\u001b[0;31mNameError\u001b[0m                                 Traceback (most recent call last)",
      "\u001b[0;32m<ipython-input-40-52d3ea55f9ad>\u001b[0m in \u001b[0;36m<module>\u001b[0;34m\u001b[0m\n\u001b[1;32m      4\u001b[0m \u001b[0mport\u001b[0m \u001b[0;34m=\u001b[0m \u001b[0;36m6500\u001b[0m\u001b[0;34m\u001b[0m\u001b[0;34m\u001b[0m\u001b[0m\n\u001b[1;32m      5\u001b[0m \u001b[0mprint\u001b[0m\u001b[0;34m(\u001b[0m\u001b[0mip_address\u001b[0m\u001b[0;34m+\u001b[0m\u001b[0;34m\":\"\u001b[0m\u001b[0;34m+\u001b[0m\u001b[0mstr\u001b[0m\u001b[0;34m(\u001b[0m\u001b[0mport\u001b[0m\u001b[0;34m)\u001b[0m\u001b[0;34m)\u001b[0m\u001b[0;34m\u001b[0m\u001b[0;34m\u001b[0m\u001b[0m\n\u001b[0;32m----> 6\u001b[0;31m \u001b[0mbcinet\u001b[0m\u001b[0;34m.\u001b[0m\u001b[0msend_signal\u001b[0m\u001b[0;34m(\u001b[0m\u001b[0mbcixml\u001b[0m\u001b[0;34m.\u001b[0m\u001b[0mBciSignal\u001b[0m\u001b[0;34m(\u001b[0m\u001b[0;34m{\u001b[0m\u001b[0;34m'EVENT_destip'\u001b[0m\u001b[0;34m:\u001b[0m \u001b[0mip_address\u001b[0m\u001b[0;34m}\u001b[0m\u001b[0;34m,\u001b[0m\u001b[0;32mNone\u001b[0m\u001b[0;34m,\u001b[0m \u001b[0mbcixml\u001b[0m\u001b[0;34m.\u001b[0m\u001b[0mINTERACTION_SIGNAL\u001b[0m\u001b[0;34m)\u001b[0m\u001b[0;34m)\u001b[0m\u001b[0;34m\u001b[0m\u001b[0;34m\u001b[0m\u001b[0m\n\u001b[0m\u001b[1;32m      7\u001b[0m \u001b[0mbcinet\u001b[0m\u001b[0;34m.\u001b[0m\u001b[0msend_signal\u001b[0m\u001b[0;34m(\u001b[0m\u001b[0mbcixml\u001b[0m\u001b[0;34m.\u001b[0m\u001b[0mBciSignal\u001b[0m\u001b[0;34m(\u001b[0m\u001b[0;34m{\u001b[0m\u001b[0;34m'EVENT_destport'\u001b[0m\u001b[0;34m:\u001b[0m \u001b[0mport\u001b[0m\u001b[0;34m}\u001b[0m\u001b[0;34m,\u001b[0m\u001b[0;32mNone\u001b[0m\u001b[0;34m,\u001b[0m \u001b[0mbcixml\u001b[0m\u001b[0;34m.\u001b[0m\u001b[0mINTERACTION_SIGNAL\u001b[0m\u001b[0;34m)\u001b[0m\u001b[0;34m)\u001b[0m\u001b[0;34m\u001b[0m\u001b[0;34m\u001b[0m\u001b[0m\n",
      "\u001b[0;31mNameError\u001b[0m: name 'bcinet' is not defined"
     ]
    }
   ],
   "source": [
    "# tell the stimulus computer where markers need to be sent to:\n",
    "import socket\n",
    "ip_address = socket.gethostbyname(socket.getfqdn())\n",
    "port = 6500\n",
    "print(ip_address+\":\"+str(port))\n",
    "bcinet.send_signal(bcixml.BciSignal({'EVENT_destip': ip_address},None, bcixml.INTERACTION_SIGNAL))\n",
    "bcinet.send_signal(bcixml.BciSignal({'EVENT_destport': port},None, bcixml.INTERACTION_SIGNAL))"
   ]
  },
  {
   "cell_type": "code",
   "execution_count": 2,
   "metadata": {},
   "outputs": [],
   "source": [
    "def my_marker_server(marker_queue, stop_server, server_port):\n",
    "    \n",
    "    import socket\n",
    "\n",
    "    sock = socket.socket(socket.AF_INET, socket.SOCK_DGRAM)\n",
    "    server_address = ''\n",
    "\n",
    "    server = (server_address, server_port)\n",
    "    sock.bind(server)\n",
    "    print(\"Listening on \" + server_address + \":\" + str(server_port))\n",
    "    \n",
    "    while not stop_server.is_set():\n",
    "        payload, client_address = sock.recvfrom(1)\n",
    "        marker_queue.put(payload)\n",
    "        print(payload)\n",
    "    print('finished')\n",
    "    sock.close()\n",
    "    \n",
    "    "
   ]
  },
  {
   "cell_type": "code",
   "execution_count": 3,
   "metadata": {},
   "outputs": [
    {
     "name": "stdout",
     "output_type": "stream",
     "text": [
      "Listening on :6500\n",
      "b'h'\n",
      "finished\n"
     ]
    }
   ],
   "source": [
    "from multiprocessing import Process, Queue, Event\n",
    "import time\n",
    "# from libmushu.ampdecorator import marker_reader\n",
    "# import time\n",
    "if not 'marker_queue' in locals():\n",
    "    marker_queue = Queue()\n",
    "if not 'stop_server' in locals():\n",
    "    stop_server = Event()\n",
    "\n",
    "stop_server.set()\n",
    "time.sleep(0.5)\n",
    "stop_server.clear()\n",
    "\n",
    "#tcp_reader = Process(target=marker_reader, args=(\n",
    "#    marker_queue,\n",
    "#    Event().set(),\n",
    "#    Event(),\n",
    "#    stop_server,\n",
    "#    6050\n",
    "#    )\n",
    "#)\n",
    "\n",
    "my_udp_server = Process(target=my_marker_server, args=(marker_queue, stop_server, 6500))\n",
    "\n",
    "# tcp_reader.start()\n",
    "my_udp_server.start()\n",
    "# stop the server with: \n",
    "# stop_server.set()\n",
    "# tcp_reader.join()"
   ]
  },
  {
   "cell_type": "code",
   "execution_count": 14,
   "metadata": {},
   "outputs": [
    {
     "data": {
      "text/plain": [
       "False"
      ]
     },
     "execution_count": 14,
     "metadata": {},
     "output_type": "execute_result"
    }
   ],
   "source": [
    "my_udp_server.is_alive()"
   ]
  },
  {
   "cell_type": "code",
   "execution_count": 12,
   "metadata": {},
   "outputs": [],
   "source": [
    "stop_server.set()"
   ]
  },
  {
   "cell_type": "code",
   "execution_count": 13,
   "metadata": {},
   "outputs": [
    {
     "data": {
      "text/plain": [
       "True"
      ]
     },
     "execution_count": 13,
     "metadata": {},
     "output_type": "execute_result"
    }
   ],
   "source": [
    "marker_queue.empty()"
   ]
  },
  {
   "cell_type": "code",
   "execution_count": 16,
   "metadata": {},
   "outputs": [],
   "source": [
    "my_udp_server.join()"
   ]
  },
  {
   "cell_type": "markdown",
   "metadata": {},
   "source": [
    "##  7.3 Definition of the Real-Time analysis Steps"
   ]
  },
  {
   "cell_type": "code",
   "execution_count": 14,
   "metadata": {},
   "outputs": [],
   "source": [
    "from pynfb.signal_processing.filters import (FilterSequence, \n",
    "                                             CFIRBandEnvelopeDetector, \n",
    "                                             ExponentialSmoother,\n",
    "                                             SpatialFilter,\n",
    "                                             ButterFilter,\n",
    "                                             ButterBandEnvelopeDetector,\n",
    "                                             ScalarButterFilter,\n",
    "                                             MASmoother,\n",
    "                                             FFTBandEnvelopeDetector,\n",
    "                                            )"
   ]
  },
  {
   "cell_type": "code",
   "execution_count": 15,
   "metadata": {},
   "outputs": [],
   "source": [
    "# Define Filter Sequence for NF\n",
    "\n",
    "# Which channel do we select for the EEG - we do C3.\n",
    "rt_eeg_channels = ['Oz']\n",
    "rt_eeg_channels_mask = np.where([ch in rt_eeg_channels for ch in channel_names], 1, 0)/len(rt_eeg_channels)\n",
    "eeg_channel_select = SpatialFilter(rt_eeg_channels_mask)\n",
    "\n",
    "preprocess_filters_eeg = FilterSequence([\n",
    "    ica_rejection,\n",
    "    csp_rejection,\n",
    "    eeg_channel_select,\n",
    "])\n",
    "envelope_filter_eeg = CFIRBandEnvelopeDetector([12, 15], sampling_freq, MASmoother(150))\n",
    "butter_visualization_eeg = ButterFilter([12, 15], sampling_freq, 1)\n",
    "\n",
    "\n",
    "# Processing of the EMG - this is basically our second channel...\n",
    "# rt_emg_channels = ['T3','T4','Fp1','Fp2']\n",
    "rt_emg_channels = ['T7','T8','FC5','FC6']\n",
    "rt_emg_channels_mask = np.where([ch in rt_emg_channels for ch in channel_names], 1, 0)/len(rt_emg_channels)\n",
    "emg_channel_select = SpatialFilter(rt_emg_channels_mask)\n",
    "\n",
    "preprocess_filters_emg = FilterSequence([\n",
    "    emg_channel_select,\n",
    "])\n",
    "\n",
    "envelope_filter_emg = ButterBandEnvelopeDetector([55, 100], sampling_freq, MASmoother(150))\n",
    "butter_visualization_emg = ButterFilter([55, 100], sampling_freq, 1)"
   ]
  },
  {
   "cell_type": "markdown",
   "metadata": {},
   "source": [
    "## 7.4 Set the threshold based on EEG/EMG data using previous rt analysis steps on EOEC\n",
    "This will:\n",
    "- apply the RT filters to our existing data\n",
    "- calibrate the signaltracking objects (that send stuff to the Stimulus) properly\n",
    "- set all the scalings"
   ]
  },
  {
   "cell_type": "code",
   "execution_count": 16,
   "metadata": {},
   "outputs": [
    {
     "name": "stdout",
     "output_type": "stream",
     "text": [
      "median eeg envelope: 1.7376975029597426\n",
      "median emg envelope: 1.4702871441617194\n",
      "saved: /home/johan/nf/rawdata/BrainTraining/bids/sub-04/sess-01/eeg/sub-04_sess-01_calibration_envelopes_run-02.pkl\n",
      "saved: /home/johan/nf/rawdata/BrainTraining/bids/sub-04/sess-01/eeg/sub-04_sess-01_calibration_envelopes_run-02.mat\n"
     ]
    }
   ],
   "source": [
    "eoec_rawraw = mne.concatenate_raws([raw_eo.copy(), raw_ec.copy()]).filter(1, None)\n",
    "# eoec_rawraw.plot();\n",
    "\n",
    "eeg_vec = envelope_filter_eeg.apply(preprocess_filters_eeg.apply(eoec_rawraw.get_data().T))*1E6\n",
    "emg_vec = envelope_filter_emg.apply(preprocess_filters_emg.apply(eoec_rawraw.get_data().T))*1E6\n",
    "\n",
    "median_eeg = np.median(eeg_vec)\n",
    "print('median eeg envelope: ' + str(median_eeg))\n",
    "\n",
    "median_emg = np.median(emg_vec)\n",
    "print('median emg envelope: ' + str(median_emg))\n",
    "\n",
    "# save the eeg_vec and emg_vec also as .pkl and .mat file\n",
    "calibration_envelopes = {'median_eeg':median_eeg, 'median_emg':median_emg, 'eeg_vec':eeg_vec, 'emg_vec':emg_vec}\n",
    "\n",
    "\n",
    "# save it\n",
    "this_raw_fname = 'sub-{:02d}_sess-{:02d}_calibration_envelopes_run-{:02d}.pkl'.format(sub, sess, run)\n",
    "fname_calibration_envelopes = os.path.join(this_save_dir, this_raw_fname)\n",
    "with open(fname_calibration_envelopes, 'wb') as f: pickle.dump(calibration_envelopes, f)\n",
    "print('saved: ' + fname_calibration_envelopes)\n",
    "spio.savemat(re.sub('.pkl$','.mat', fname_calibration_envelopes), calibration_envelopes)\n",
    "print('saved: ' + re.sub('.pkl$','.mat', fname_calibration_envelopes))"
   ]
  },
  {
   "cell_type": "markdown",
   "metadata": {},
   "source": [
    "## 7.5 Define all thresholds based on these simulations"
   ]
  },
  {
   "cell_type": "code",
   "execution_count": 17,
   "metadata": {},
   "outputs": [
    {
     "name": "stdout",
     "output_type": "stream",
     "text": [
      "saved: /home/johan/nf/rawdata/BrainTraining/bids/sub-04/sess-01/eeg/sub-04_sess-01_calibration_parameters_run-02.pkl\n",
      "saved: /home/johan/nf/rawdata/BrainTraining/bids/sub-04/sess-01/eeg/sub-04_sess-01_calibration_parameters_run-02.mat\n"
     ]
    }
   ],
   "source": [
    "EEG_THR = 3.0 * median_eeg\n",
    "EEG_DUR = 0.20\n",
    "EEG_STSCALING = 10 * median_eeg\n",
    "\n",
    "EMG_THR = 10.0 * median_emg\n",
    "EMG_DUR = 0.25\n",
    "EMG_STSCALING = 20 * median_emg\n",
    "\n",
    "calibration_parameters = {'EEG_THR':EEG_THR, \n",
    "                          'EEG_DUR':EEG_DUR, \n",
    "                          'EEG_STSCALING': EEG_STSCALING, \n",
    "                          'EMG_THR':EMG_THR,\n",
    "                          'EMG_DUR':EMG_DUR,\n",
    "                          'EMG_STSCALING':EMG_STSCALING\n",
    "                         }\n",
    "\n",
    "# save those too\n",
    "this_raw_fname = 'sub-{:02d}_sess-{:02d}_calibration_parameters_run-{:02d}.pkl'.format(sub, sess, run)\n",
    "fname_calibration_parameters = os.path.join(this_save_dir, this_raw_fname)\n",
    "with open(fname_calibration_parameters, 'wb') as f: pickle.dump(calibration_parameters, f)\n",
    "print('saved: ' + fname_calibration_parameters)\n",
    "spio.savemat(re.sub('.pkl$','.mat', fname_calibration_parameters), calibration_parameters)\n",
    "print('saved: ' + re.sub('.pkl$','.mat', fname_calibration_parameters))"
   ]
  },
  {
   "cell_type": "markdown",
   "metadata": {},
   "source": [
    "## 7.6 pass thresholds onto signaltracking"
   ]
  },
  {
   "cell_type": "code",
   "execution_count": 18,
   "metadata": {},
   "outputs": [
    {
     "name": "stdout",
     "output_type": "stream",
     "text": [
      "thr: 5.21, dur: 0.20\n",
      "bcinet is passed on\n",
      "thr: 14.70, dur: 0.25\n",
      "bcinet is passed on\n"
     ]
    }
   ],
   "source": [
    "from nftools.nftools import signaltracking\n",
    "\n",
    "# these objects can send variables over to the stimulus\n",
    "# parameters to convert the filtered EEG signal to the stimulus\n",
    "# the following parameter should come out of the EEG data, as our initial threshold to use:\n",
    "# global_std_band=5\n",
    "\n",
    "from nftools.nftools import signaltracking\n",
    "track_for_eeg_stimuli = signaltracking.sending_to_nfstim(\n",
    "    sampling_freq,\n",
    "    thr=EEG_THR, \n",
    "    dur=EEG_DUR, \n",
    "    feedback_type='eeg', \n",
    "    max4audio=1.2, \n",
    "    bcinet=bcinet, \n",
    "    st_scaling=EEG_STSCALING,\n",
    "    verbose=False\n",
    ")\n",
    "\n",
    "# parameters to convert the filtered EMG signal to the stimulus\n",
    "track_for_emg_stimuli = signaltracking.sending_to_nfstim(\n",
    "    sampling_freq,\n",
    "    thr=EMG_THR, \n",
    "    dur=EMG_DUR, \n",
    "    feedback_type='emg', \n",
    "    bcinet=bcinet, \n",
    "    st_scaling=EMG_STSCALING,\n",
    "    verbose=False\n",
    ")"
   ]
  },
  {
   "cell_type": "markdown",
   "metadata": {},
   "source": [
    "# 8 The Training"
   ]
  },
  {
   "cell_type": "markdown",
   "metadata": {},
   "source": [
    "### 8.1 Start the NF Stimulation\n",
    " - you still have to press <ENTER> to actually start the stimulus, but Not Yet!!"
   ]
  },
  {
   "cell_type": "code",
   "execution_count": 19,
   "metadata": {},
   "outputs": [],
   "source": [
    "bcinet.play()"
   ]
  },
  {
   "cell_type": "markdown",
   "metadata": {},
   "source": [
    "## 8.2 make the windows for plotting\n",
    "- move them somewhere convenient"
   ]
  },
  {
   "cell_type": "code",
   "execution_count": 20,
   "metadata": {},
   "outputs": [],
   "source": [
    "# create our UI 'Experience' -- it can consist of 3 separate, movable windows (for now)\n",
    "# same window as before + 2 other windows - 1 for interaction with stim/thresholds; 1 for looking\n",
    "# at the analysis itself.\n",
    "w_acquire = guis.AcquireData(sampling_freq, channel_names)\n",
    "w_interaction = guis.NFChangeThresholds(track_for_eeg_stimuli, track_for_emg_stimuli)\n",
    "w_eeganalysis = guis.AnalyzeData(sampling_freq, ['EEG','env','thr','vmarker','amarker'],track_for_eeg_stimuli)\n",
    "w_emganalysis = guis.AnalyzeData(sampling_freq, ['EMG','env','thr','vmarker','amarker'],track_for_emg_stimuli)"
   ]
  },
  {
   "cell_type": "markdown",
   "metadata": {},
   "source": [
    "## 8.3 Staring the NF Loop"
   ]
  },
  {
   "cell_type": "code",
   "execution_count": 21,
   "metadata": {},
   "outputs": [
    {
     "name": "stdout",
     "output_type": "stream",
     "text": [
      "it should never happen that a marker is sent when the length is smaller than needed\n",
      "it should never happen that a marker is sent when the length is smaller than needed\n",
      "it should never happen that a marker is sent when the length is smaller than needed\n"
     ]
    }
   ],
   "source": [
    "# clear EEG Data buffer\n",
    "data_inlet.pull_chunk()\n",
    "while data_inlet.samples_available(): data_inlet.pull_chunk() \n",
    "\n",
    "# containers for data collection: \n",
    "time_nf = dynarray.DynamicArray()\n",
    "data_nf = dynarray.DynamicArray((None, len(channel_names)))\n",
    "data_analysis_eeg = dynarray.DynamicArray((None, 5))\n",
    "data_analysis_emg = dynarray.DynamicArray((None, 5))\n",
    "\n",
    "# collect markers from the Stimulation:\n",
    "stim_Annotations = mne.Annotations(0, 0, 'Start NF Loop')\n",
    "\n",
    "# collect markers from the interaction GUI:\n",
    "w_interaction.GUI_Annotations.append(time.time()-w_interaction.begin_time, 0, 'startloop')\n",
    "\n",
    "# start the loop\n",
    "w_acquire.RUNLOOP=True\n",
    "acquisition_start = datetime.now().strftime('%Y-%m-%d %H:%M:%S.%f')\n",
    "t_begin=time.time()\n",
    "while w_acquire.RUNLOOP:\n",
    "    \n",
    "    # check if the presentation gave any markers, and collect them\n",
    "    while not marker_queue.empty():\n",
    "        stim_time, stim_code = marker_queue.get()\n",
    "        stim_Annotations.append(time.time()-t_begin, 0, stim_code)\n",
    "    \n",
    "    \n",
    "    if not data_inlet.samples_available(): \n",
    "        w_acquire.update(None)\n",
    "    else:\n",
    "        chunk_data, chunk_times = data_inlet.pull_chunk() # grab from LSL\n",
    "\n",
    "        # update signal window so we can see raw signals\n",
    "        w_acquire.update(chunk_data) \n",
    "        \n",
    "        # store the raw data (and times)\n",
    "        time_nf.extend(chunk_times)\n",
    "        data_nf.extend(chunk_data)\n",
    "\n",
    "        # store the markers of the Stimulus computer\n",
    "        while not marker_queue.empty():\n",
    "            stim_time, stim_code = marker_queue.get()\n",
    "            stim_Annotations.append(stim_time, 0, stim_code)\n",
    "\n",
    "        \n",
    "        #\n",
    "        # EEG Signal processing\n",
    "        #\n",
    "        \n",
    "        # apply spatial and temporal filters to the raw signal; for EEG and EMG:\n",
    "        preprocessed_eeg = preprocess_filters_eeg.apply(chunk_data)        \n",
    "        envelope_eeg = envelope_filter_eeg.apply(preprocessed_eeg)\n",
    "\n",
    "\n",
    "        # check if it's above threshold or not; send markers to stimulus computer\n",
    "        visual_markers_eeg, audio_markers_eeg = track_for_eeg_stimuli.check_above_threshold(envelope_eeg)  \n",
    "        # send the signal  to stimulus computer, too\n",
    "        track_for_eeg_stimuli.send_data_signal(envelope_eeg) \n",
    "        \n",
    "\n",
    "        # visualize the processing steps\n",
    "        analysis_names_eeg = ('EEG', 'env', 'thr', 'vmarker', 'amarker')\n",
    "        analysis_data_eeg = np.vstack((\n",
    "            np.abs(butter_visualization_eeg.apply(preprocessed_eeg[:, None])[:, 0]),\n",
    "            envelope_eeg,\n",
    "            track_for_eeg_stimuli.thr * np.ones(preprocessed_eeg.shape),\n",
    "            visual_markers_eeg,\n",
    "            audio_markers_eeg,\n",
    "        )).T\n",
    "        \n",
    "        data_analysis_eeg.extend(analysis_data_eeg)  # store it for later conversion\n",
    "        w_eeganalysis.update(analysis_data_eeg) # update analysis window\n",
    "\n",
    "        \n",
    "        #\n",
    "        # EMG Signal Processing\n",
    "        #\n",
    "        \n",
    "        # do the same for the EMG NF, too:\n",
    "        # apply spatial and temporal filters to the raw signal; for EEG and EMG:\n",
    "        preprocessed_emg = preprocess_filters_emg.apply(chunk_data)\n",
    "        envelope_emg = envelope_filter_emg.apply(preprocessed_emg)\n",
    "        \n",
    "        # check if it's above threshold or not; send markers to stimulus computer\n",
    "        visual_markers_emg, audio_markers_emg = track_for_emg_stimuli.check_above_threshold(envelope_emg) \n",
    "        # send the signal  to stimulus computer, too\n",
    "        track_for_emg_stimuli.send_data_signal(envelope_emg) \n",
    "\n",
    "        # visualize the processing steps\n",
    "        analysis_names_emg = ('EMG', 'env', 'thr', 'vmarker', 'amarker')\n",
    "        analysis_data_emg = np.vstack((\n",
    "            np.abs(butter_visualization_emg.apply(preprocessed_emg[:, None])[:, 0]),\n",
    "            envelope_emg,\n",
    "            track_for_emg_stimuli.thr * np.ones(preprocessed_emg.shape),\n",
    "            visual_markers_emg,\n",
    "            audio_markers_emg,\n",
    "        )).T\n",
    "        \n",
    "        data_analysis_emg.extend(analysis_data_emg)  # store it for later conversion\n",
    "        w_emganalysis.update(analysis_data_emg) # update analysis window\n"
   ]
  },
  {
   "cell_type": "markdown",
   "metadata": {},
   "source": [
    "## 8.4 Now the participant will do the training\n",
    "- start it up on the NF Laptop now\n",
    "- wait until the training is done\n",
    "- then stop the loop as normal"
   ]
  },
  {
   "cell_type": "markdown",
   "metadata": {},
   "source": [
    "## 8.5 save all the gathered data to disk"
   ]
  },
  {
   "cell_type": "code",
   "execution_count": 22,
   "metadata": {},
   "outputs": [],
   "source": [
    "# handle annotations, since w_interaction starts before data acquisition\n",
    "annots = w_interaction.GUI_Annotations.copy()\n",
    "tdelta = datetime.strptime(acquisition_start,'%Y-%m-%d %H:%M:%S.%f').timestamp() - annots.orig_time\n",
    "annots.onset -= tdelta\n",
    "annots.orig_time=None\n",
    "\n",
    "starting_annots = annots[list(map(lambda d: re.match('start.*', d) is not None, annots.description))]\n",
    "starting_annots.onset = 0.1*np.ones(len(starting_annots))\n",
    "starting_annots.orig_time = None\n",
    "\n",
    "# handle also these:\n",
    "# stim_Annotations ... process them\n",
    "all_annotations = starting_annots + annots + stim_Annotations\n"
   ]
  },
  {
   "cell_type": "code",
   "execution_count": 23,
   "metadata": {},
   "outputs": [
    {
     "name": "stdout",
     "output_type": "stream",
     "text": [
      "saved: /home/johan/nf/rawdata/BrainTraining/bids/sub-04/sess-01/eeg/sub-04_sess-01_task-raw-nftraining_run-02.fif\n"
     ]
    }
   ],
   "source": [
    "# and we make the MNE data file from it        \n",
    "raw_nftraining = mne.io.RawArray(np.transpose(data_nf)*1E-6,\n",
    "                        mne.create_info(channel_names, \n",
    "                                    sampling_freq, \n",
    "                                    detect_channel_types(channel_names), \n",
    "                                    'standard_1020'\n",
    "                           )\n",
    "                     )\n",
    "# saving the raw data\n",
    "this_raw_fname = 'sub-{:02d}_sess-{:02d}_task-{}_run-{:02d}.fif'.format(sub, sess, 'raw-nftraining', run)\n",
    "fname_raw_nftraining_run = os.path.join(this_save_dir, this_raw_fname)\n",
    "\n",
    "raw_nftraining.set_annotations(all_annotations)\n",
    "raw_nftraining.save(fname_raw_nftraining_run, overwrite=True)\n",
    "print('saved: ' + fname_raw_nftraining_run)"
   ]
  },
  {
   "cell_type": "code",
   "execution_count": 24,
   "metadata": {},
   "outputs": [
    {
     "name": "stdout",
     "output_type": "stream",
     "text": [
      "saved: /home/johan/nf/rawdata/BrainTraining/bids/sub-04/sess-01/eeg/sub-04_sess-01_task-rtanalyzed-nftraining-eeg_run-02.fif\n"
     ]
    }
   ],
   "source": [
    "# and we make the MNE data file from it\n",
    "rtanalyzed_nftraining_eeg = mne.io.RawArray(np.transpose(np.array(data_analysis_eeg) * [1E-6, 1E-6, 1E-6, 1, 1]),\n",
    "                        mne.create_info(analysis_names_eeg, \n",
    "                                    sampling_freq, \n",
    "                                    ['eeg','eeg','eeg','stim','stim'], \n",
    "                                    None)\n",
    "                       )\n",
    "this_raw_fname = 'sub-{:02d}_sess-{:02d}_task-{}_run-{:02d}.fif'.format(sub, sess, 'rtanalyzed-nftraining-eeg', run)\n",
    "fname_rtanalyzed_nftraining_eeg = os.path.join(this_save_dir, this_raw_fname)\n",
    "\n",
    "rtanalyzed_nftraining_eeg.set_annotations(all_annotations)\n",
    "rtanalyzed_nftraining_eeg.save(fname_rtanalyzed_nftraining_eeg, overwrite=True)\n",
    "print('saved: ' + fname_rtanalyzed_nftraining_eeg)"
   ]
  },
  {
   "cell_type": "code",
   "execution_count": 25,
   "metadata": {},
   "outputs": [
    {
     "name": "stdout",
     "output_type": "stream",
     "text": [
      "saved: /home/johan/nf/rawdata/BrainTraining/bids/sub-04/sess-01/eeg/sub-04_sess-01_task-rtanalyzed-nftraining-emg_run-02.fif\n"
     ]
    }
   ],
   "source": [
    "# and we make the MNE data file from it\n",
    "rtanalyzed_nftraining_emg = mne.io.RawArray(np.transpose(np.array(data_analysis_emg) * [1E-6, 1E-6, 1E-6, 1, 1]),\n",
    "                        mne.create_info(analysis_names_emg, \n",
    "                                    sampling_freq, \n",
    "                                    ['emg','emg','emg','stim','stim'], \n",
    "                                    None)\n",
    "                       )\n",
    "this_raw_fname = 'sub-{:02d}_sess-{:02d}_task-{}_run-{:02d}.fif'.format(sub, sess, 'rtanalyzed-nftraining-emg', run)\n",
    "fname_rtanalyzed_nftraining_emg = os.path.join(this_save_dir, this_raw_fname)\n",
    "\n",
    "rtanalyzed_nftraining_emg.set_annotations(all_annotations)\n",
    "rtanalyzed_nftraining_emg.save(fname_rtanalyzed_nftraining_emg, overwrite=True)\n",
    "print('saved: ' + fname_rtanalyzed_nftraining_emg)"
   ]
  },
  {
   "cell_type": "markdown",
   "metadata": {},
   "source": [
    "## Done!"
   ]
  },
  {
   "cell_type": "code",
   "execution_count": 27,
   "metadata": {},
   "outputs": [
    {
     "data": {
      "image/png": "[encoded data removed]",
      "text/plain": [
       "<Figure size 1450x889 with 4 Axes>"
      ]
     },
     "execution_count": 27,
     "metadata": {},
     "output_type": "execute_result"
    }
   ],
   "source": [
    "rtanalyzed_nftraining_eeg.plot();"
   ]
  },
  {
   "cell_type": "code",
   "execution_count": null,
   "metadata": {},
   "outputs": [],
   "source": []
  }
 ],
 "metadata": {
  "kernelspec": {
   "display_name": "Python 3",
   "language": "python",
   "name": "python3"
  },
  "language_info": {
   "codemirror_mode": {
    "name": "ipython",
    "version": 3
   },
   "file_extension": ".py",
   "mimetype": "text/x-python",
   "name": "python",
   "nbconvert_exporter": "python",
   "pygments_lexer": "ipython3",
   "version": "3.7.3"
  }
 },
 "nbformat": 4,
 "nbformat_minor": 4
}
