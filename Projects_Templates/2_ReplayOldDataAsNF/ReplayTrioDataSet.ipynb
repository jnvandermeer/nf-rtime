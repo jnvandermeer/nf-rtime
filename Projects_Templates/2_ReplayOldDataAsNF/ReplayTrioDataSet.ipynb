{
 "cells": [
  {
   "cell_type": "markdown",
   "metadata": {},
   "source": [
    "# Getting Started Replaying Old Data\n",
    "\n",
    "- Work under a separate branch with git (i.e. git checkout -b my-new-branch)\n",
    "\n",
    "- Copy this ipynb file to a folder within your Projects folder - better not work within this (Projects_Templates/2_ReplayOldDataAsNF) folder. Come up with a nice name for the new folder.\n",
    "\n",
    "- Then enter your new folder within Projects (maybe 3_New_Assignment_Fancy_Analysis), and use the code in here for for your purposes as you see fit\n",
    "\n",
    "- you might wish to grab some data from Leipzig here: ldrive, under **Lab_MichaelB/Johan/nf/rawdata/ReplayDataTest**\n",
    "\n",
    "\n",
    "- the main gist of re-playing existing data is:\n",
    "    - that your first load everything into a big matrix with mne\n",
    "    - then initialize a specific **amp** (i.e., the \"replayamp\")\n",
    "    - then do exactly the same as normal, with a while True loop with calls to amp.get_data()\n",
    "    \n",
    "- you may wish to put all of the import statements at the top\n",
    "\n",
    "- if you get a module not found error, add the mushu folder to the python path. A good analogy is the matlab's 'addpath' utility.\n",
    "\n",
    "\n",
    "For example:\n",
    "```python\n",
    "sys.path.append('/home/nfcontrol/nf/nf-rtime/mushu/')      # this is to talk with the amplifer\n",
    "sys.path.append('/home/nfcontrol/nf/nf-rtime/wyrm/') \n",
    "```\n",
    "\n",
    "\n",
    "Not all of this code is useful! So remove the stuff you don't need, f.e. matplogib qt5, path appends, etc etc.\n",
    "\n",
    "    \n",
    "    \n",
    "\n",
    "\n"
   ]
  },
  {
   "cell_type": "code",
   "execution_count": 281,
   "metadata": {},
   "outputs": [],
   "source": [
    "import time\n",
    "import matplotlib"
   ]
  },
  {
   "cell_type": "code",
   "execution_count": 282,
   "metadata": {},
   "outputs": [],
   "source": [
    "# %matplotlib qt5 --> ipympl\n",
    "%matplotlib qt5"
   ]
  },
  {
   "cell_type": "code",
   "execution_count": 283,
   "metadata": {},
   "outputs": [],
   "source": [
    "import sys\n",
    "sys.path.append('C:/Users/nikitasK/repos/nf-rtime-master/mushu')\n",
    "sys.path.append('C:/Users/nikitasK/repos/nf-rtime-master/mushu/libmushu')\n",
    "\n",
    "import matplotlib\n",
    "\n",
    "#import scipy\n",
    "import numpy as np"
   ]
  },
  {
   "cell_type": "code",
   "execution_count": 284,
   "metadata": {},
   "outputs": [],
   "source": [
    "# matplotlib.use('Qt5Agg')\n",
    "\n",
    "import matplotlib.pyplot as plt"
   ]
  },
  {
   "cell_type": "code",
   "execution_count": 285,
   "metadata": {},
   "outputs": [],
   "source": [
    "import mne"
   ]
  },
  {
   "cell_type": "markdown",
   "metadata": {},
   "source": [
    "You will find this dataset in ldrive, under Lab_MichaelB/Johan/nf/rawdata/ReplayDataTest\n",
    "\n",
    "But, you can also re-play any of the other data sets using mne's read brain vision plugin, too.\n"
   ]
  },
  {
   "cell_type": "code",
   "execution_count": 286,
   "metadata": {},
   "outputs": [],
   "source": [
    "#raw=mne.io.read_raw_brainvision('L:/Lab_MichaelB/Johan/nf/rawdata/T0003/eeg/ExpPre-Run01_0001.vhdr', preload=True)\n",
    "f = open(\"L:/Lab_MichaelB/Johan/nf/rawdata/T0004/eeg/nk2.eeg\", \"r\")\n",
    "raw = np.fromfile(f, dtype=np.float32)"
   ]
  },
  {
   "cell_type": "code",
   "execution_count": 287,
   "metadata": {},
   "outputs": [],
   "source": [
    "raw=raw.reshape(round(len(raw)/64),64).transpose()"
   ]
  },
  {
   "cell_type": "code",
   "execution_count": 288,
   "metadata": {},
   "outputs": [],
   "source": [
    "n_samples = 500000\n",
    "m=raw[0:n_samples]\n",
    "m=np.array(m.transpose())\n",
    "#ch=raw.ch_names\n",
    "#fs=raw.info['sfreq']"
   ]
  },
  {
   "cell_type": "code",
   "execution_count": 289,
   "metadata": {},
   "outputs": [],
   "source": [
    "import libmushu\n",
    "amp = libmushu.get_amp('replayamp')"
   ]
  },
  {
   "cell_type": "code",
   "execution_count": 294,
   "metadata": {},
   "outputs": [],
   "source": [
    "amp.configure(m, (), ch, fs, realtime=True, blocksize_samples=20)"
   ]
  },
  {
   "cell_type": "code",
   "execution_count": 295,
   "metadata": {},
   "outputs": [],
   "source": [
    "amp.start()"
   ]
  },
  {
   "cell_type": "code",
   "execution_count": 296,
   "metadata": {},
   "outputs": [
    {
     "name": "stdout",
     "output_type": "stream",
     "text": [
      "[]\n",
      "0[]\n",
      "1[]\n",
      "2[]\n",
      "3[]\n",
      "4[]\n",
      "5[]\n",
      "6[]\n",
      "7[]\n",
      "8[]\n",
      "9[]\n",
      "10[]\n",
      "11[]\n",
      "12[]\n",
      "13[]\n",
      "14[]\n",
      "15[]\n",
      "16[]\n",
      "17[]\n",
      "18[]\n",
      "19[]\n",
      "20[]\n",
      "21[]\n",
      "22[]\n",
      "23[]\n",
      "24[]\n",
      "25[]\n",
      "26[]\n",
      "27[]\n",
      "28[]\n",
      "29[]\n",
      "30[]\n",
      "31[]\n",
      "32[]\n",
      "33[]\n",
      "34[]\n",
      "35[]\n",
      "36[]\n",
      "37[]\n",
      "38[]\n",
      "39[]\n",
      "40[]\n",
      "41[]\n",
      "42[]\n",
      "43[]\n",
      "44[]\n",
      "45[]\n",
      "46[]\n",
      "47[]\n",
      "48[]\n",
      "49[]\n",
      "50[]\n",
      "51[]\n",
      "52[]\n",
      "53[]\n",
      "54[]\n",
      "55[]\n",
      "56[]\n",
      "57[]\n",
      "58[]\n",
      "59[]\n",
      "60[]\n",
      "61[]\n",
      "62[]\n",
      "63[]\n",
      "64[]\n",
      "65[]\n",
      "66[]\n",
      "67[]\n",
      "68[]\n",
      "69[]\n",
      "70[]\n",
      "71[]\n",
      "72[]\n",
      "73[]\n",
      "74[]\n",
      "75[]\n",
      "76[]\n",
      "77[]\n",
      "78[]\n",
      "79[]\n",
      "80[]\n",
      "81[]\n",
      "82[]\n",
      "83[]\n",
      "84[]\n",
      "85[]\n",
      "86[]\n",
      "87[]\n",
      "88[]\n",
      "89[]\n",
      "90[]\n",
      "91[]\n",
      "92[]\n",
      "93[]\n",
      "94[]\n",
      "95[]\n",
      "96[]\n",
      "97[]\n",
      "98[]\n",
      "99[]\n",
      "100[]\n",
      "101[]\n",
      "102[]\n",
      "103[]\n",
      "104[]\n",
      "105[]\n",
      "106[]\n",
      "107[]\n",
      "108[]\n",
      "109[]\n",
      "110[]\n",
      "111[]\n",
      "112[]\n",
      "113[]\n",
      "114[]\n",
      "115[]\n",
      "116[]\n",
      "117[]\n",
      "118[]\n",
      "119[]\n",
      "120[]\n",
      "121[]\n",
      "122[]\n",
      "123[]\n",
      "124[]\n",
      "125[]\n",
      "126[]\n",
      "127[]\n",
      "128[]\n",
      "129[]\n",
      "130[]\n",
      "131[]\n",
      "132[]\n",
      "133[]\n",
      "134[]\n",
      "135[]\n",
      "136[]\n",
      "137[]\n",
      "138[]\n",
      "139[]\n",
      "140[]\n",
      "141[]\n",
      "142[]\n",
      "143[]\n",
      "144[]\n",
      "145[]\n",
      "146[]\n",
      "147[]\n",
      "148[]\n",
      "149[]\n",
      "150[]\n",
      "151[]\n",
      "152[]\n",
      "153[]\n",
      "154[]\n",
      "155[]\n",
      "156[]\n",
      "157[]\n",
      "158[]\n",
      "159[]\n",
      "160[]\n",
      "161[]\n",
      "162[]\n",
      "163[]\n",
      "164[]\n",
      "165[]\n",
      "166[]\n",
      "167[]\n",
      "168[]\n",
      "169[]\n",
      "170[]\n",
      "171[]\n",
      "172[]\n",
      "173[]\n",
      "174[]\n",
      "175[]\n",
      "176[]\n",
      "177[]\n",
      "178[]\n",
      "179[]\n",
      "180[]\n",
      "181[]\n",
      "182[]\n",
      "183[]\n",
      "184[]\n",
      "185[]\n",
      "186[]\n",
      "187[]\n",
      "188[]\n",
      "189[]\n",
      "190[]\n",
      "191[]\n",
      "192[]\n",
      "193[]\n",
      "194[]\n",
      "195[]\n",
      "196[]\n",
      "197[]\n",
      "198[]\n",
      "199"
     ]
    }
   ],
   "source": [
    "alld=[]\n",
    "allm=[]\n",
    "from mne.time_frequency import psd_welch\n",
    "import time\n",
    "starttime=time.time()\n",
    "newtime=starttime\n",
    "i=0;\n",
    "#bads = ['ECG']\n",
    "#raw_info = raw.info\n",
    "#raw_info['bads'] = bads\n",
    "#picks = mne.pick_types(raw_info, meg=False, eeg=True, eog=False, stim=False, include=[], exclude=bads)\n",
    "while time.time() - starttime < 100:\n",
    "\n",
    "    while time.time() - newtime < 0.5:\n",
    "        pass\n",
    "    else:\n",
    "        data, marker = amp.get_data()\n",
    "        \n",
    "        alld.append(data)\n",
    "        for m in marker:\n",
    "            allm.append(marker)\n",
    "        print(marker)\n",
    "            \n",
    "        \n",
    "        \n",
    "       # tmin = data\n",
    "\n",
    "        print('%d' % i, end='', flush=True)\n",
    "        # print(data.shape)\n",
    "        # print(marker)\n",
    "        i+=1\n",
    "        newtime+=0.5\n",
    "        \n"
   ]
  },
  {
   "cell_type": "code",
   "execution_count": 297,
   "metadata": {},
   "outputs": [
    {
     "name": "stdout",
     "output_type": "stream",
     "text": [
      "amplifier stopped!\n"
     ]
    }
   ],
   "source": [
    "amp.stop()"
   ]
  },
  {
   "cell_type": "code",
   "execution_count": 298,
   "metadata": {},
   "outputs": [
    {
     "name": "stdout",
     "output_type": "stream",
     "text": [
      "[]\n"
     ]
    }
   ],
   "source": [
    "print(allm)"
   ]
  },
  {
   "cell_type": "code",
   "execution_count": 299,
   "metadata": {},
   "outputs": [],
   "source": [
    "m=np.concatenate(alld)"
   ]
  },
  {
   "cell_type": "code",
   "execution_count": 300,
   "metadata": {},
   "outputs": [
    {
     "data": {
      "text/plain": [
       "(502760, 64)"
      ]
     },
     "execution_count": 300,
     "metadata": {},
     "output_type": "execute_result"
    }
   ],
   "source": [
    "m.shape"
   ]
  },
  {
   "cell_type": "code",
   "execution_count": 301,
   "metadata": {},
   "outputs": [
    {
     "name": "stdout",
     "output_type": "stream",
     "text": [
      "['Fp1', 'Fp2', 'F3', 'F4', 'C3', 'C4', 'P3', 'P4', 'O1', 'O2', 'F7', 'F8', 'T7', 'T8', 'P7', 'P8', 'Fz', 'Cz', 'Pz', 'Oz', 'FC1', 'FC2', 'CP1', 'CP2', 'FC5', 'FC6', 'CP5', 'CP6', 'TP9', 'TP10', 'POz', 'ECG', 'F1', 'F2', 'C1', 'C2', 'P1', 'P2', 'AF3', 'AF4', 'FC3', 'FC4', 'CP3', 'CP4', 'PO3', 'PO4', 'F5', 'F6', 'C5', 'C6', 'P5', 'P6', 'AF7', 'AF8', 'FT7', 'FT8', 'TP7', 'TP8', 'PO7', 'PO8', 'FT9', 'FT10', 'Fpz', 'CPz']\n",
      "The following EEG sensors did not have a position specified in the selected montage: ['TP9', 'TP10', 'ECG', 'FT9', 'FT10']. Their position has been left untouched.\n"
     ]
    },
    {
     "name": "stderr",
     "output_type": "stream",
     "text": [
      "<ipython-input-301-de26ed6c2470>:11: RuntimeWarning: The following EEG sensors did not have a position specified in the selected montage: ['TP9', 'TP10', 'ECG', 'FT9', 'FT10']. Their position has been left untouched.\n",
      "  montage = mne.channels.read_montage(kind='biosemi64')\n"
     ]
    }
   ],
   "source": [
    "## get markers and meta\n",
    "import struct\n",
    "import json\n",
    "fhj=open('L:/Lab_MichaelB/Johan/nf/rawdata/T0004/eeg/nk2.meta')\n",
    "meta=json.load(fhj)\n",
    "print(amp.get_channels()[:-1])\n",
    "info = mne.create_info(\n",
    "    ch_names=amp.get_channels()[:-1],\n",
    "    ch_types = ['eeg' for i in range(64)],\n",
    "    sfreq=meta['Sampling Frequency'],\n",
    "    montage = mne.channels.read_montage(kind='biosemi64')\n",
    ")\n"
   ]
  },
  {
   "cell_type": "code",
   "execution_count": 302,
   "metadata": {},
   "outputs": [
    {
     "data": {
      "text/plain": [
       "<Info | 16 non-empty fields\n",
       "    bads : list | 0 items\n",
       "    ch_names : list | Fp1, Fp2, F3, F4, C3, C4, P3, P4, O1, ...\n",
       "    chs : list | 64 items (EEG: 64)\n",
       "    comps : list | 0 items\n",
       "    custom_ref_applied : bool | False\n",
       "    dev_head_t : Transform | 3 items\n",
       "    dig : list | 62 items\n",
       "    events : list | 0 items\n",
       "    highpass : float | 0.0 Hz\n",
       "    hpi_meas : list | 0 items\n",
       "    hpi_results : list | 0 items\n",
       "    lowpass : float | 2500.0 Hz\n",
       "    nchan : int | 64\n",
       "    proc_history : list | 0 items\n",
       "    projs : list | 0 items\n",
       "    sfreq : float | 5000.0 Hz\n",
       "    acq_pars : NoneType\n",
       "    acq_stim : NoneType\n",
       "    buffer_size_sec : NoneType\n",
       "    ctf_head_t : NoneType\n",
       "    description : NoneType\n",
       "    dev_ctf_t : NoneType\n",
       "    experimenter : NoneType\n",
       "    file_id : NoneType\n",
       "    gantry_angle : NoneType\n",
       "    hpi_subsystem : NoneType\n",
       "    kit_system_id : NoneType\n",
       "    line_freq : NoneType\n",
       "    meas_date : NoneType\n",
       "    meas_id : NoneType\n",
       "    proj_id : NoneType\n",
       "    proj_name : NoneType\n",
       "    subject_info : NoneType\n",
       "    xplotter_layout : NoneType\n",
       ">"
      ]
     },
     "execution_count": 302,
     "metadata": {},
     "output_type": "execute_result"
    }
   ],
   "source": [
    "info"
   ]
  },
  {
   "cell_type": "code",
   "execution_count": 303,
   "metadata": {},
   "outputs": [],
   "source": [
    "## set up markers properly\n",
    "with open('L:/Lab_MichaelB/Johan/nf/rawdata/T0004/eeg/nk2.marker') as file:\n",
    "    content = file.readlines()\n",
    "# you may also want to remove whitespace characters like `\\n` at the end of each line\n",
    "content = [x.strip() for x in content] \n",
    "\n"
   ]
  },
  {
   "cell_type": "code",
   "execution_count": 304,
   "metadata": {},
   "outputs": [
    {
     "name": "stdout",
     "output_type": "stream",
     "text": [
      "Creating RawArray with float64 data, n_channels=64, n_times=502760\n",
      "    Range : 0 ... 502759 =      0.000 ...   100.552 secs\n",
      "Ready.\n",
      "Creating RawArray with float64 data, n_channels=1, n_times=502760\n",
      "    Range : 0 ... 502759 =      0.000 ...   100.552 secs\n",
      "Ready.\n",
      "4 events found\n",
      "Event IDs: [201 202 203 204]\n",
      "Applying average reference.\n",
      "Applying a custom EEG reference.\n"
     ]
    },
    {
     "data": {
      "text/plain": [
       "(<RawArray  |  None, n_channels x n_times : 65 x 502760 (100.6 sec), ~249.5 MB, data loaded>,\n",
       " array([   8.0625   ,    6.140625 ,    3.640625 , ..., -261.9609375,\n",
       "        -265.5859375, -269.234375 ]))"
      ]
     },
     "execution_count": 304,
     "metadata": {},
     "output_type": "execute_result"
    }
   ],
   "source": [
    "## get data\n",
    "from mne.time_frequency import psd_welch\n",
    "rt = np.transpose(m)\n",
    "rt_raw = mne.io.RawArray(rt, info)\n",
    "import re\n",
    "\n",
    "# create the marker matrix\n",
    "ev_arr=[]\n",
    "for i, item in enumerate(content):\n",
    "    out=re.split(\"[\\s|S|T]+\", item)\n",
    "    if 'Sync Off' in item:\n",
    "        sample = int(float(out[0])/1000*meta['Sampling Frequency'])\n",
    "        code = 250\n",
    "    else:\n",
    "        sample = int(float(out[0])/1000*meta['Sampling Frequency'])\n",
    "        code = int(out[1])\n",
    "\n",
    "    # print(out)\n",
    "    # print(sample)\n",
    "    ev_arr.append([sample, 0, code])\n",
    "    \n",
    "ev_arr = ev_arr[:4]\n",
    "    \n",
    "# create marker channel for MNE python:\n",
    "if ev_arr:\n",
    "    stim_info = mne.create_info(['STI'], rt_raw.info['sfreq'], ['stim'])\n",
    "    stim_data = np.zeros((1, len(rt_raw.times)))\n",
    "    stim_raw = mne.io.RawArray(stim_data, stim_info)\n",
    "    rt_raw.add_channels([stim_raw], force_update_info=True)\n",
    "\n",
    "    # create the marker matrix:\n",
    "    rt_raw.add_events(ev_arr)\n",
    "    \n",
    "    \n",
    "#n_samples = 50000\n",
    "tmin = -0.1\n",
    "events = mne.find_events(rt_raw)\n",
    "#rt_raw.resample(1000., npad='auto')\n",
    "mne.set_eeg_reference(rt_raw)"
   ]
  },
  {
   "cell_type": "code",
   "execution_count": 305,
   "metadata": {},
   "outputs": [
    {
     "name": "stdout",
     "output_type": "stream",
     "text": [
      "2 events found\n",
      "Event IDs: [201 202]\n",
      "2 matching events found\n",
      "No baseline correction applied\n",
      "Not setting metadata\n",
      "0 projection items activated\n",
      "2 events found\n",
      "Event IDs: [203 204]\n",
      "2 matching events found\n",
      "No baseline correction applied\n",
      "Not setting metadata\n",
      "0 projection items activated\n",
      "Effective window size : 3.277 (s)\n",
      "Effective window size : 3.277 (s)\n"
     ]
    }
   ],
   "source": [
    "## eyes open\n",
    "raw_eo = rt_raw.copy().crop(events[0][0]/raw_info['sfreq']-1, events[1][0]/raw_info['sfreq']+1)\n",
    "events_eo = mne.find_events(raw_eo)\n",
    "event_id_eo = dict(eo_start=201, eo_stop=202)\n",
    "epochs_eo = mne.Epochs(raw_eo, events=events_eo, event_id=event_id_eo, tmin=tmin, tmax=tmin+(n_samples/raw_info['sfreq']), baseline=None, picks=picks)\n",
    "\n",
    "## eyes closed\n",
    "raw_ec = rt_raw.copy().crop(events[2][0]/raw_info['sfreq']-1, events[3][0]/raw_info['sfreq']+1)\n",
    "events_ec = mne.find_events(raw_ec)\n",
    "event_id_ec = dict(ec_start=203, ec_stop=204)\n",
    "epochs_ec = mne.Epochs(raw_ec, events=events_ec, event_id=event_id_ec, tmin=tmin, tmax=tmin+(n_samples/raw_info['sfreq']), baseline=None, picks=picks)\n",
    "\n",
    "# do psds\n",
    "n_fft = 16384\n",
    "psd_eo, freqs_eo = psd_welch(raw_eo, fmin=2, fmax=25, n_fft=n_fft)\n",
    "psd_ec, freqs_ec = psd_welch(raw_ec, fmin=2, fmax=25, n_fft=n_fft)\n",
    "#freq_mask = freqs > 3 & freqs < 15\n",
    "log_psd_eo = 10 * np.log10(psd_eo)\n",
    "log_psd_ec = 10 * np.log10(psd_ec)\n",
    "fig, ax = plt.subplots(1, 2)\n",
    "psds_mean_eo = log_psd_eo.mean(0)\n",
    "psds_mean_ec = log_psd_ec.mean(0)\n",
    "psds_diff = log_psd_ec - log_psd_eo\n",
    "psds_diff_mean = psds_diff.mean(0)\n",
    "x=[freqs_eo[int(np.where(psds_diff_mean == np.max(psds_diff_mean))[0][0]-np.std(psds_diff_mean.round()))], \n",
    "   freqs_eo[int(np.where(psds_diff_mean == np.max(psds_diff_mean))[0][0]+np.std(psds_diff_mean).round())]]\n",
    "\n",
    "## plot psds\n",
    "ax[0].plot(freqs_eo, psds_mean_eo, color='r', label='Eyes open')\n",
    "ax[0].plot(freqs_ec, psds_mean_ec, color='b', label='Eyes closed')\n",
    "ax[0].plot(freqs_eo, psds_diff_mean, color='g', label='Difference')\n",
    "ax[0].vlines(x,\n",
    "             ymin=np.min(psds_diff_mean), ymax=np.max(psds_diff_mean)+5, colors='m',\n",
    "             label=('Suggested frequency bounds for NF: {} Hz and {} Hz').format(round(x[0]), round(x[1])))\n",
    "\n",
    "ax[0].legend()\n",
    "ax[0].set(title='Welch PSD (EEG)', xlabel='Frequency',\n",
    "          ylabel='Mean Power Spectral Density (dB)', \n",
    "          xticks=np.arange(round(np.min(freqs_ec)), round(np.max(freqs_eo)), step=2))\n",
    "\n",
    "## plot topomap\n",
    "im, fl = mne.viz.plot_topomap(psds_diff.T[np.where(psds_diff_mean == np.max(psds_diff_mean))[0][0]],\n",
    "                              pos=info, \n",
    "                              axes=ax[1], \n",
    "                              vmin=-np.max(psds_diff.T[np.where(psds_diff_mean == np.max(psds_diff_mean))[0][0]]), \n",
    "                              vmax=np.max(psds_diff.T[np.where(psds_diff_mean == np.max(psds_diff_mean))[0][0]])\n",
    "                             )\n",
    "cbar = fig.colorbar(im, ax=ax[1])\n",
    "cbarlabel = ('Power Spectral Density (dB) at {} Hz').format(freqs_eo[np.where(psds_diff_mean == np.max(psds_diff_mean))[0][0]])\n",
    "cbar.set_label(cbarlabel)\n",
    "fig.tight_layout()\n",
    "fig.show()"
   ]
  },
  {
   "cell_type": "code",
   "execution_count": null,
   "metadata": {},
   "outputs": [],
   "source": []
  }
 ],
 "metadata": {
  "kernelspec": {
   "display_name": "Python 3",
   "language": "python",
   "name": "python3"
  },
  "language_info": {
   "codemirror_mode": {
    "name": "ipython",
    "version": 3
   },
   "file_extension": ".py",
   "mimetype": "text/x-python",
   "name": "python",
   "nbconvert_exporter": "python",
   "pygments_lexer": "ipython3",
   "version": "3.5.4"
  }
 },
 "nbformat": 4,
 "nbformat_minor": 2
}
