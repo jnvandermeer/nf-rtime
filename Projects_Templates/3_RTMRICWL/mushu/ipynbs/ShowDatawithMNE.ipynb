{
 "cells": [
  {
   "cell_type": "markdown",
   "metadata": {},
   "source": [
    "## This notebook will check the functionality of BP Mushu interface\n",
    "\n",
    "In the end, it will plot the # of samples within each call of amp.get_data()\n"
   ]
  },
  {
   "cell_type": "markdown",
   "metadata": {},
   "source": [
    "Import the library - get the new amp"
   ]
  },
  {
   "cell_type": "code",
   "execution_count": 1,
   "metadata": {},
   "outputs": [
    {
     "name": "stdout",
     "output_type": "stream",
     "text": [
      "/home/nfcontrol/nf/nf-rtime/mushu\n"
     ]
    }
   ],
   "source": [
    "cd .."
   ]
  },
  {
   "cell_type": "code",
   "execution_count": 2,
   "metadata": {},
   "outputs": [],
   "source": [
    "import matplotlib.pyplot as plt"
   ]
  },
  {
   "cell_type": "code",
   "execution_count": 3,
   "metadata": {},
   "outputs": [],
   "source": [
    "import struct\n",
    "import json\n",
    "fhe=open('testsave3.eeg')\n",
    "fhm=open('testsave3.marker')\n",
    "fhj=open('testsave3.meta')"
   ]
  },
  {
   "cell_type": "markdown",
   "metadata": {},
   "source": [
    "### json = header"
   ]
  },
  {
   "cell_type": "code",
   "execution_count": 4,
   "metadata": {},
   "outputs": [
    {
     "name": "stdout",
     "output_type": "stream",
     "text": [
      "{'Channels': ['Ch-1', 'Ch-2', 'Ch-3', 'Ch-4', 'Ch-5', 'Ch-6', 'Ch-7', 'Ch-8', 'Ch-9', 'Ch-10', 'Ch-11', 'Ch-12', 'Ch-13', 'Ch-14', 'Ch-15', 'Ch-16', 'Ch-17', 'Ch-18', 'Ch-19', 'Ch-20', 'Ch-21', 'Ch-22', 'Ch-23', 'Ch-24', 'Ch-25', 'Ch-26', 'Ch-27', 'Ch-28', 'Ch-29', 'Ch-30', 'Ch-31', 'Ch-32', 'Ch-33', 'Ch-34', 'Ch-35', 'Ch-36', 'Ch-37', 'Ch-38', 'Ch-39', 'Ch-40', 'Ch-41', 'Ch-42', 'Ch-43', 'Ch-44', 'Ch-45', 'Ch-46', 'Ch-47', 'Ch-48', 'Ch-49', 'Ch-50', 'Ch-51', 'Ch-52', 'Ch-53', 'Ch-54', 'Ch-55', 'Ch-56', 'Ch-57', 'Ch-58', 'Ch-59', 'Ch-60', 'Ch-61', 'Ch-62', 'Ch-63', 'Ch-64'], 'Sampling Frequency': 5000, 'Amp': '<libmushu.driver.brainproducts.BPAmp object at 0x7fd8d024b9b0>'}\n"
     ]
    }
   ],
   "source": [
    "meta=json.load(fhj)\n",
    "print(meta)"
   ]
  },
  {
   "cell_type": "code",
   "execution_count": 5,
   "metadata": {},
   "outputs": [
    {
     "data": {
      "text/plain": [
       "['Ch-1',\n",
       " 'Ch-2',\n",
       " 'Ch-3',\n",
       " 'Ch-4',\n",
       " 'Ch-5',\n",
       " 'Ch-6',\n",
       " 'Ch-7',\n",
       " 'Ch-8',\n",
       " 'Ch-9',\n",
       " 'Ch-10',\n",
       " 'Ch-11',\n",
       " 'Ch-12',\n",
       " 'Ch-13',\n",
       " 'Ch-14',\n",
       " 'Ch-15',\n",
       " 'Ch-16',\n",
       " 'Ch-17',\n",
       " 'Ch-18',\n",
       " 'Ch-19',\n",
       " 'Ch-20',\n",
       " 'Ch-21',\n",
       " 'Ch-22',\n",
       " 'Ch-23',\n",
       " 'Ch-24',\n",
       " 'Ch-25',\n",
       " 'Ch-26',\n",
       " 'Ch-27',\n",
       " 'Ch-28',\n",
       " 'Ch-29',\n",
       " 'Ch-30',\n",
       " 'Ch-31',\n",
       " 'Ch-32',\n",
       " 'Ch-33',\n",
       " 'Ch-34',\n",
       " 'Ch-35',\n",
       " 'Ch-36',\n",
       " 'Ch-37',\n",
       " 'Ch-38',\n",
       " 'Ch-39',\n",
       " 'Ch-40',\n",
       " 'Ch-41',\n",
       " 'Ch-42',\n",
       " 'Ch-43',\n",
       " 'Ch-44',\n",
       " 'Ch-45',\n",
       " 'Ch-46',\n",
       " 'Ch-47',\n",
       " 'Ch-48',\n",
       " 'Ch-49',\n",
       " 'Ch-50',\n",
       " 'Ch-51',\n",
       " 'Ch-52',\n",
       " 'Ch-53',\n",
       " 'Ch-54',\n",
       " 'Ch-55',\n",
       " 'Ch-56',\n",
       " 'Ch-57',\n",
       " 'Ch-58',\n",
       " 'Ch-59',\n",
       " 'Ch-60',\n",
       " 'Ch-61',\n",
       " 'Ch-62',\n",
       " 'Ch-63',\n",
       " 'Ch-64']"
      ]
     },
     "execution_count": 5,
     "metadata": {},
     "output_type": "execute_result"
    }
   ],
   "source": [
    "meta['Channels']"
   ]
  },
  {
   "cell_type": "markdown",
   "metadata": {},
   "source": [
    "### binary = raw data"
   ]
  },
  {
   "cell_type": "code",
   "execution_count": 6,
   "metadata": {},
   "outputs": [],
   "source": [
    "import numpy as np\n",
    "\n",
    "f = open(\"testsave3.eeg\", \"r\")\n",
    "m = np.fromfile(f, dtype=np.uint32)"
   ]
  },
  {
   "cell_type": "code",
   "execution_count": 7,
   "metadata": {},
   "outputs": [
    {
     "data": {
      "text/plain": [
       "120400.0"
      ]
     },
     "execution_count": 7,
     "metadata": {},
     "output_type": "execute_result"
    }
   ],
   "source": [
    "len(m)/64"
   ]
  },
  {
   "cell_type": "code",
   "execution_count": 8,
   "metadata": {},
   "outputs": [],
   "source": [
    "m=m.reshape(64,round(len(m)/64))"
   ]
  },
  {
   "cell_type": "code",
   "execution_count": 9,
   "metadata": {},
   "outputs": [
    {
     "data": {
      "text/plain": [
       "(64, 120400)"
      ]
     },
     "execution_count": 9,
     "metadata": {},
     "output_type": "execute_result"
    }
   ],
   "source": [
    "m.shape"
   ]
  },
  {
   "cell_type": "code",
   "execution_count": 10,
   "metadata": {},
   "outputs": [],
   "source": [
    "import mne"
   ]
  },
  {
   "cell_type": "code",
   "execution_count": 11,
   "metadata": {},
   "outputs": [
    {
     "name": "stdout",
     "output_type": "stream",
     "text": [
      "Creating RawArray with float64 data, n_channels=64, n_times=120400\n",
      "    Range : 0 ... 120399 =      0.000 ...    24.080 secs\n",
      "Ready.\n",
      "<RawArray  |  None, n_channels x n_times : 64 x 120400 (24.1 sec), ~58.9 MB, data loaded>\n"
     ]
    }
   ],
   "source": [
    "# Generate some random data\n",
    "\n",
    "# Initialize an info structure\n",
    "info = mne.create_info(\n",
    "    ch_names=meta['Channels'],\n",
    "    ch_types = ['eeg' for i in range(64)],\n",
    "    sfreq=meta['Sampling Frequency']\n",
    ")\n",
    "\n",
    "custom_raw = mne.io.RawArray(m, info)\n",
    "print(custom_raw)"
   ]
  },
  {
   "cell_type": "markdown",
   "metadata": {},
   "source": [
    "### markers"
   ]
  },
  {
   "cell_type": "code",
   "execution_count": 12,
   "metadata": {},
   "outputs": [
    {
     "name": "stdout",
     "output_type": "stream",
     "text": [
      "['1.800000 Sync Off', '3700.700000 Sync Off', '5700.320000 Sync Off', '7800.460000 Sync Off', '9420.040000 Sync Off', '11480.140000 Sync Off', '13620.220000 Sync Off', '15680.320000 Sync Off', '17820.440000 Sync Off', '19900.540000 Sync Off', '21440.080000 Sync Off', '23560.180000 Sync Off']\n"
     ]
    }
   ],
   "source": [
    "with open('testsave3.marker') as file:\n",
    "    content = file.readlines()\n",
    "# you may also want to remove whitespace characters like `\\n` at the end of each line\n",
    "content = [x.strip() for x in content] \n",
    "print(content)\n",
    "\n",
    "import re\n",
    "\n",
    "# create the marker matrix"
   ]
  },
  {
   "cell_type": "code",
   "execution_count": 13,
   "metadata": {},
   "outputs": [
    {
     "data": {
      "text/plain": [
       "['1.800000 Sync Off',\n",
       " '3700.700000 Sync Off',\n",
       " '5700.320000 Sync Off',\n",
       " '7800.460000 Sync Off',\n",
       " '9420.040000 Sync Off',\n",
       " '11480.140000 Sync Off',\n",
       " '13620.220000 Sync Off',\n",
       " '15680.320000 Sync Off',\n",
       " '17820.440000 Sync Off',\n",
       " '19900.540000 Sync Off',\n",
       " '21440.080000 Sync Off',\n",
       " '23560.180000 Sync Off']"
      ]
     },
     "execution_count": 13,
     "metadata": {},
     "output_type": "execute_result"
    }
   ],
   "source": [
    "content"
   ]
  },
  {
   "cell_type": "code",
   "execution_count": 14,
   "metadata": {},
   "outputs": [
    {
     "name": "stdout",
     "output_type": "stream",
     "text": [
      "['1.800000', 'Sync', 'Off']\n",
      "['3700.700000', 'Sync', 'Off']\n",
      "['5700.320000', 'Sync', 'Off']\n",
      "['7800.460000', 'Sync', 'Off']\n",
      "['9420.040000', 'Sync', 'Off']\n",
      "['11480.140000', 'Sync', 'Off']\n",
      "['13620.220000', 'Sync', 'Off']\n",
      "['15680.320000', 'Sync', 'Off']\n",
      "['17820.440000', 'Sync', 'Off']\n",
      "['19900.540000', 'Sync', 'Off']\n",
      "['21440.080000', 'Sync', 'Off']\n",
      "['23560.180000', 'Sync', 'Off']\n",
      "Creating RawArray with float64 data, n_channels=1, n_times=120400\n",
      "    Range : 0 ... 120399 =      0.000 ...    24.080 secs\n",
      "Ready.\n"
     ]
    }
   ],
   "source": [
    "ev_arr=[]\n",
    "for i, item in enumerate(content):\n",
    "    \n",
    "    out=re.split(\"[\\s]+\", item)\n",
    "    sample = int(float(out[0])/1000*meta['Sampling Frequency'])\n",
    "    if out[1]=='Sync':\n",
    "        code = 250\n",
    "    else:\n",
    "        code = int(out[1])\n",
    "\n",
    "    print(out)\n",
    "    ev_arr.append([sample, 0, code])\n",
    "\n",
    "\n",
    "\n",
    "# create marker channel for MNE python:\n",
    "info = mne.create_info(['STI'], custom_raw.info['sfreq'], ['stim'])\n",
    "stim_data = np.zeros((1, len(custom_raw.times)))\n",
    "stim_raw = mne.io.RawArray(stim_data, info)\n",
    "custom_raw.add_channels([stim_raw], force_update_info=True)\n",
    "\n",
    "# create the marker matrix:\n",
    "custom_raw.add_events(ev_arr)"
   ]
  },
  {
   "cell_type": "code",
   "execution_count": 16,
   "metadata": {},
   "outputs": [],
   "source": [
    "%matplotlib qt5"
   ]
  },
  {
   "cell_type": "code",
   "execution_count": null,
   "metadata": {},
   "outputs": [],
   "source": [
    "custom_raw.plot()"
   ]
  },
  {
   "cell_type": "code",
   "execution_count": 25,
   "metadata": {},
   "outputs": [
    {
     "name": "stdout",
     "output_type": "stream",
     "text": [
      "Writing /home/nfcontrol/nf/nf-rtime/mushu/test2raw.fif\n",
      "Closing /home/nfcontrol/nf/nf-rtime/mushu/test2raw.fif [done]\n"
     ]
    }
   ],
   "source": [
    "custom_raw.save('test2raw.fif')"
   ]
  },
  {
   "cell_type": "code",
   "execution_count": null,
   "metadata": {},
   "outputs": [],
   "source": []
  }
 ],
 "metadata": {
  "kernelspec": {
   "display_name": "Python 3",
   "language": "python",
   "name": "python3"
  },
  "language_info": {
   "codemirror_mode": {
    "name": "ipython",
    "version": 3
   },
   "file_extension": ".py",
   "mimetype": "text/x-python",
   "name": "python",
   "nbconvert_exporter": "python",
   "pygments_lexer": "ipython3",
   "version": "3.6.6"
  }
 },
 "nbformat": 4,
 "nbformat_minor": 2
}
