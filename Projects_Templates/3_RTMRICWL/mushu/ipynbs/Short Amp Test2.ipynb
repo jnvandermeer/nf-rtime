{
 "cells": [
  {
   "cell_type": "markdown",
   "metadata": {},
   "source": [
    "# Test"
   ]
  },
  {
   "cell_type": "code",
   "execution_count": 1,
   "metadata": {},
   "outputs": [
    {
     "name": "stdout",
     "output_type": "stream",
     "text": [
      "/home/nfcontrol/nf/nf-rtime/mushu\n"
     ]
    }
   ],
   "source": [
    "cd .."
   ]
  },
  {
   "cell_type": "code",
   "execution_count": 2,
   "metadata": {},
   "outputs": [],
   "source": [
    "import libmushu\n",
    "amp = libmushu.get_amp('randomamp')"
   ]
  },
  {
   "cell_type": "code",
   "execution_count": 2,
   "metadata": {},
   "outputs": [
    {
     "name": "stdout",
     "output_type": "stream",
     "text": [
      "Starting UDP server\n",
      "Starting TCP server\n",
      "starting...\n",
      "stopping...\n"
     ]
    }
   ],
   "source": [
    "amp.configure(fs=1, channels=3)\n",
    "amp.start()"
   ]
  },
  {
   "cell_type": "code",
   "execution_count": 3,
   "metadata": {},
   "outputs": [
    {
     "name": "stdout",
     "output_type": "stream",
     "text": [
      "---\n",
      "[[618 227 680]]\n",
      "[]\n",
      "---\n",
      "[[790 945 703]]\n",
      "[]\n",
      "---\n",
      "[[197 362 982]]\n",
      "[]\n",
      "---\n",
      "[[142 340 311]]\n",
      "[]\n",
      "---\n",
      "[[949 418  68]]\n",
      "[]\n",
      "---\n",
      "[[192 135 870]]\n",
      "[]\n"
     ]
    }
   ],
   "source": [
    "import time\n",
    "starttime=time.time()\n",
    "while time.time() - starttime < 5:\n",
    "    time.sleep(.5)\n",
    "    data, marker = amp.get_data()\n",
    "    print('---')\n",
    "    print(data)\n",
    "    print(marker)"
   ]
  },
  {
   "cell_type": "code",
   "execution_count": 4,
   "metadata": {},
   "outputs": [
    {
     "name": "stdout",
     "output_type": "stream",
     "text": [
      "amplifier stopped!\n"
     ]
    }
   ],
   "source": [
    "amp.stop()"
   ]
  },
  {
   "cell_type": "code",
   "execution_count": 5,
   "metadata": {},
   "outputs": [
    {
     "data": {
      "text/plain": [
       "'/home/nfcontrol/repos/rt-cwl-eeg-fmri/mushu'"
      ]
     },
     "execution_count": 5,
     "metadata": {},
     "output_type": "execute_result"
    }
   ],
   "source": [
    "pwd\n"
   ]
  },
  {
   "cell_type": "code",
   "execution_count": null,
   "metadata": {
    "collapsed": true
   },
   "outputs": [],
   "source": []
  }
 ],
 "metadata": {
  "kernelspec": {
   "display_name": "Python 3",
   "language": "python",
   "name": "python3"
  },
  "language_info": {
   "codemirror_mode": {
    "name": "ipython",
    "version": 3
   },
   "file_extension": ".py",
   "mimetype": "text/x-python",
   "name": "python",
   "nbconvert_exporter": "python",
   "pygments_lexer": "ipython3",
   "version": "3.6.6"
  }
 },
 "nbformat": 4,
 "nbformat_minor": 2
}
