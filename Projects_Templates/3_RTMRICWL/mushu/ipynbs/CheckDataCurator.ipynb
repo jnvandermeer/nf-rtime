{
 "cells": [
  {
   "cell_type": "code",
   "execution_count": null,
   "metadata": {},
   "outputs": [
    {
     "name": "stdout",
     "output_type": "stream",
     "text": [
      "OK .. starting the DataCurator.\n"
     ]
    },
    {
     "name": "stderr",
     "output_type": "stream",
     "text": [
      "Process Receiver-1:1:\n",
      "Traceback (most recent call last):\n",
      "  File \"/home/nfcontrol/.conda/envs/rt-cwl-eeg-fmri/lib/python3.6/multiprocessing/process.py\", line 249, in _bootstrap\n",
      "    self.run()\n",
      "  File \"/home/nfcontrol/repos/rt-cwl-eeg-fmri/mushu/libmushu/driver/bptools/bptools.py\", line 162, in run\n",
      "    con.connect((self.ip_address, self.port))\n",
      "ConnectionRefusedError: [Errno 111] Connection refused\n",
      "Task exception was never retrieved\n",
      "future: <Task finished coro=<get_from_container() done, defined at /home/nfcontrol/repos/rt-cwl-eeg-fmri/mushu/libmushu/driver/bptools/datacurator.py:34> exception=AttributeError(\"'DataContainer' object has no attribute 'points'\",)>\n",
      "Traceback (most recent call last):\n",
      "  File \"/home/nfcontrol/repos/rt-cwl-eeg-fmri/mushu/libmushu/driver/bptools/datacurator.py\", line 64, in get_from_container\n",
      "    points_in_block = container.get_samples_in_block()\n",
      "  File \"/home/nfcontrol/repos/rt-cwl-eeg-fmri/mushu/libmushu/driver/bptools/container.py\", line 265, in get_samples_in_block\n",
      "    return self.points\n",
      "AttributeError: 'DataContainer' object has no attribute 'points'\n"
     ]
    }
   ],
   "source": [
    "from libmushu.driver.bptools.bptools import Receiver\n",
    "from libmushu.driver.bptools.container import DataContainer\n",
    "from libmushu.driver.bptools.datacurator import DataCurator\n",
    "\n",
    "import multiprocessing\n",
    "import asyncio\n",
    "import time\n",
    "\n",
    "\n",
    "datacurator = DataCurator('10.100.0.3', 51244)\n",
    "datacurator.start()\n",
    "\n",
    "alld=[]\n",
    "allm=[]\n",
    "import time\n",
    "starttime=time.time()\n",
    "# while time.time() - starttime < 20:\n",
    "time.sleep(20)\n",
    "data, markers = datacurator.get_data()\n",
    "alld.append(data)\n",
    "for m in markers:\n",
    "    allm.append(m)\n"
   ]
  },
  {
   "cell_type": "code",
   "execution_count": 2,
   "metadata": {},
   "outputs": [
    {
     "data": {
      "text/plain": [
       "19.98"
      ]
     },
     "execution_count": 2,
     "metadata": {},
     "output_type": "execute_result"
    }
   ],
   "source": [
    "len(alld[0])/5000"
   ]
  },
  {
   "cell_type": "code",
   "execution_count": 3,
   "metadata": {},
   "outputs": [
    {
     "data": {
      "text/plain": [
       "{'channelCount': 64,\n",
       " 'channelNames': ['Fp1',\n",
       "  'Fp2',\n",
       "  'F3',\n",
       "  'F4',\n",
       "  'C3',\n",
       "  'C4',\n",
       "  'P3',\n",
       "  'P4',\n",
       "  'O1',\n",
       "  'O2',\n",
       "  'F7',\n",
       "  'F8',\n",
       "  'T7',\n",
       "  'T8',\n",
       "  'P7',\n",
       "  'P8',\n",
       "  'Fz',\n",
       "  'Cz',\n",
       "  'Pz',\n",
       "  'Oz',\n",
       "  'FC1',\n",
       "  'FC2',\n",
       "  'CP1',\n",
       "  'CP2',\n",
       "  'FC5',\n",
       "  'FC6',\n",
       "  'CP5',\n",
       "  'CP6',\n",
       "  'TP9',\n",
       "  'TP10',\n",
       "  'POz',\n",
       "  'ECG',\n",
       "  'F1',\n",
       "  'F2',\n",
       "  'C1',\n",
       "  'C2',\n",
       "  'P1',\n",
       "  'P2',\n",
       "  'AF3',\n",
       "  'AF4',\n",
       "  'FC3',\n",
       "  'FC4',\n",
       "  'CP3',\n",
       "  'CP4',\n",
       "  'PO3',\n",
       "  'PO4',\n",
       "  'F5',\n",
       "  'F6',\n",
       "  'C5',\n",
       "  'C6',\n",
       "  'P5',\n",
       "  'P6',\n",
       "  'AF7',\n",
       "  'AF8',\n",
       "  'FT7',\n",
       "  'FT8',\n",
       "  'TP7',\n",
       "  'TP8',\n",
       "  'PO7',\n",
       "  'PO8',\n",
       "  'FT9',\n",
       "  'FT10',\n",
       "  'Fpz',\n",
       "  'CPz'],\n",
       " 'resolutions': [0.5,\n",
       "  0.5,\n",
       "  0.5,\n",
       "  0.5,\n",
       "  0.5,\n",
       "  0.5,\n",
       "  0.5,\n",
       "  0.5,\n",
       "  0.5,\n",
       "  0.5,\n",
       "  0.5,\n",
       "  0.5,\n",
       "  0.5,\n",
       "  0.5,\n",
       "  0.5,\n",
       "  0.5,\n",
       "  0.5,\n",
       "  0.5,\n",
       "  0.5,\n",
       "  0.5,\n",
       "  0.5,\n",
       "  0.5,\n",
       "  0.5,\n",
       "  0.5,\n",
       "  0.5,\n",
       "  0.5,\n",
       "  0.5,\n",
       "  0.5,\n",
       "  0.5,\n",
       "  0.5,\n",
       "  0.5,\n",
       "  10.0,\n",
       "  0.5,\n",
       "  0.5,\n",
       "  0.5,\n",
       "  0.5,\n",
       "  0.5,\n",
       "  0.5,\n",
       "  0.5,\n",
       "  0.5,\n",
       "  0.5,\n",
       "  0.5,\n",
       "  0.5,\n",
       "  0.5,\n",
       "  0.5,\n",
       "  0.5,\n",
       "  0.5,\n",
       "  0.5,\n",
       "  0.5,\n",
       "  0.5,\n",
       "  0.5,\n",
       "  0.5,\n",
       "  0.5,\n",
       "  0.5,\n",
       "  0.5,\n",
       "  0.5,\n",
       "  0.5,\n",
       "  0.5,\n",
       "  0.5,\n",
       "  0.5,\n",
       "  0.5,\n",
       "  0.5,\n",
       "  0.5,\n",
       "  0.5],\n",
       " 'samplingInterval': 200.0}"
      ]
     },
     "execution_count": 3,
     "metadata": {},
     "output_type": "execute_result"
    }
   ],
   "source": [
    "datacurator.get_hdr()"
   ]
  },
  {
   "cell_type": "code",
   "execution_count": 7,
   "metadata": {},
   "outputs": [],
   "source": [
    "m=datacurator.get_data()"
   ]
  },
  {
   "cell_type": "code",
   "execution_count": null,
   "metadata": {},
   "outputs": [],
   "source": []
  }
 ],
 "metadata": {
  "kernelspec": {
   "display_name": "Python 3",
   "language": "python",
   "name": "python3"
  },
  "language_info": {
   "codemirror_mode": {
    "name": "ipython",
    "version": 3
   },
   "file_extension": ".py",
   "mimetype": "text/x-python",
   "name": "python",
   "nbconvert_exporter": "python",
   "pygments_lexer": "ipython3",
   "version": "3.6.6"
  }
 },
 "nbformat": 4,
 "nbformat_minor": 2
}
