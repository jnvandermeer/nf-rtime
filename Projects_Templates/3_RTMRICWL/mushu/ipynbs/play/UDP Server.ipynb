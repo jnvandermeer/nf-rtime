{
 "cells": [
  {
   "cell_type": "code",
   "execution_count": 1,
   "metadata": {},
   "outputs": [
    {
     "name": "stdout",
     "output_type": "stream",
     "text": [
      "Starting UDP server\n",
      "Received 'Hello World!' from ('127.0.0.1', 51273)\n",
      "Send 'Hello World!' to ('127.0.0.1', 51273)\n"
     ]
    }
   ],
   "source": [
    "# UDP\n",
    "\n",
    "import asyncio\n",
    "\n",
    "class EchoServerProtocol:\n",
    "    def connection_made(self, transport):\n",
    "        self.transport = transport\n",
    "\n",
    "    def datagram_received(self, data, addr):\n",
    "        message = data.decode()\n",
    "        print('Received %r from %s' % (message, addr))\n",
    "        print('Send %r to %s' % (message, addr))\n",
    "        self.transport.sendto(data, addr)\n",
    "\n",
    "loop = asyncio.get_event_loop()\n",
    "print(\"Starting UDP server\")\n",
    "# One protocol instance will be created to serve all client requests\n",
    "listen = loop.create_datagram_endpoint(\n",
    "    EchoServerProtocol, local_addr=('127.0.0.1', 9999))\n",
    "transport, protocol = loop.run_until_complete(listen)\n",
    "\n",
    "try:\n",
    "    loop.run_forever()\n",
    "except KeyboardInterrupt:\n",
    "    pass\n",
    "\n",
    "transport.close()\n",
    "loop.close()\n"
   ]
  }
 ],
 "metadata": {
  "kernelspec": {
   "display_name": "Python 3",
   "language": "python",
   "name": "python3"
  },
  "language_info": {
   "codemirror_mode": {
    "name": "ipython",
    "version": 3
   },
   "file_extension": ".py",
   "mimetype": "text/x-python",
   "name": "python",
   "nbconvert_exporter": "python",
   "pygments_lexer": "ipython3",
   "version": "3.6.2"
  }
 },
 "nbformat": 4,
 "nbformat_minor": 2
}
