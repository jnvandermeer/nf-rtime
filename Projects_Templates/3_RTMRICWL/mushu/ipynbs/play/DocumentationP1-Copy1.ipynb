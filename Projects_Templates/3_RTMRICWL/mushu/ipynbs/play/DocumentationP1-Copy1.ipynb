{
 "cells": [
  {
   "cell_type": "markdown",
   "metadata": {},
   "source": [
    "## Methods in Amplifier class that need to be implemented\n",
    "\n",
    "These are the methods which should be used by users wishing to interface with the amp\n",
    "\n",
    "- configure\n",
    "\n",
    "- start\n",
    "\n",
    "- stop\n",
    "\n",
    "- get_data\n",
    "\n",
    "- get_channels\n",
    "\n",
    "- get_sampling_frequency\n",
    "\n",
    "- is_available\n",
    "\n",
    "## Workflow\n",
    "\n",
    "### On Starting the Amp\n",
    "\n",
    "Amplifier should be started separately for the Recorder Computer and the RT Interface Computer (the computer where RT - CWL EEG FMRI artifact correction takes place, or where Wyrm does its magic). I (don't think) it's possible that the amplifier can be started remotely with any API interface such as is the case with EGI and NeuroOne (and maybe others). So the way to go about it is to assume that amps can be started remotely, and work like that, and in the (special) case for BP Recorder, we add in the requirement that users have to press the 'Start' button separately.\n",
    "\n",
    "\n"
   ]
  },
  {
   "cell_type": "code",
   "execution_count": 1,
   "metadata": {},
   "outputs": [
    {
     "data": {
      "text/plain": [
       "3"
      ]
     },
     "execution_count": 1,
     "metadata": {},
     "output_type": "execute_result"
    }
   ],
   "source": [
    "1+2\n"
   ]
  },
  {
   "cell_type": "code",
   "execution_count": null,
   "metadata": {
    "collapsed": true
   },
   "outputs": [],
   "source": []
  }
 ],
 "metadata": {
  "kernelspec": {
   "display_name": "Python 3",
   "language": "python",
   "name": "python3"
  },
  "language_info": {
   "codemirror_mode": {
    "name": "ipython",
    "version": 3
   },
   "file_extension": ".py",
   "mimetype": "text/x-python",
   "name": "python",
   "nbconvert_exporter": "python",
   "pygments_lexer": "ipython3",
   "version": "3.6.2"
  }
 },
 "nbformat": 4,
 "nbformat_minor": 2
}
