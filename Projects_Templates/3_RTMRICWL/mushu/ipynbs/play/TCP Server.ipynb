{
 "cells": [
  {
   "cell_type": "code",
   "execution_count": null,
   "metadata": {
    "collapsed": true
   },
   "outputs": [],
   "source": [
    "import asyncio\n",
    "\n",
    "class EchoServerClientProtocol(asyncio.Protocol):\n",
    "    def connection_made(self, transport):\n",
    "        peername = transport.get_extra_info('peername')\n",
    "        print('Connection from {}'.format(peername))\n",
    "        self.transport = transport\n",
    "\n",
    "    def data_received(self, data):\n",
    "        message = data.decode()\n",
    "        print('Data received: {!r}'.format(message))\n",
    "\n",
    "        print('Send: {!r}'.format(message))\n",
    "        self.transport.write(data)\n",
    "\n",
    "        print('Close the client socket')\n",
    "        self.transport.close()\n",
    "\n",
    "loop = asyncio.get_event_loop()\n",
    "# Each client connection will create a new protocol instance\n",
    "coro = loop.create_server(EchoServerClientProtocol, '127.0.0.1', 7777)\n",
    "server = loop.run_until_complete(coro)\n",
    "\n",
    "# Serve requests until Ctrl+C is pressed\n",
    "print('Serving on {}'.format(server.sockets[0].getsockname()))\n",
    "try:\n",
    "    loop.run_forever()\n",
    "except KeyboardInterrupt:\n",
    "    pass\n",
    "\n",
    "# Close the server\n",
    "server.close()\n",
    "loop.run_until_complete(server.wait_closed())\n",
    "loop.close()"
   ]
  }
 ],
 "metadata": {
  "kernelspec": {
   "display_name": "Python 3",
   "language": "python",
   "name": "python3"
  },
  "language_info": {
   "codemirror_mode": {
    "name": "ipython",
    "version": 3
   },
   "file_extension": ".py",
   "mimetype": "text/x-python",
   "name": "python",
   "nbconvert_exporter": "python",
   "pygments_lexer": "ipython3",
   "version": "3.6.2"
  }
 },
 "nbformat": 4,
 "nbformat_minor": 2
}
