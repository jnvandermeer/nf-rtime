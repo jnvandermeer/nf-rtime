{
 "cells": [
  {
   "cell_type": "code",
   "execution_count": 6,
   "metadata": {},
   "outputs": [],
   "source": [
    "class First(object):\n",
    "    def __init__(self):\n",
    "        print(\"first\")\n",
    "\n",
    "class Second(First):\n",
    "    def __init__(self):\n",
    "        print(\"second\")\n",
    "\n",
    "class Third(First):\n",
    "    def __init__(self):\n",
    "        print(\"third\")\n",
    "\n",
    "class Fourth(Third, Second):\n",
    "    def __init__(self):\n",
    "        super(Fourth, self).__init__()\n",
    "        super(Fourth, self).__init__()\n",
    "        print(\"that's it\")"
   ]
  },
  {
   "cell_type": "code",
   "execution_count": 7,
   "metadata": {},
   "outputs": [
    {
     "name": "stdout",
     "output_type": "stream",
     "text": [
      "third\n",
      "third\n",
      "that's it\n"
     ]
    }
   ],
   "source": [
    "f=Fourth()"
   ]
  },
  {
   "cell_type": "code",
   "execution_count": 8,
   "metadata": {},
   "outputs": [],
   "source": [
    "class First(object):\n",
    "    def __init__(self):\n",
    "        super(First, self).__init__()\n",
    "        print(\"first\")\n",
    "\n",
    "class Second(object):\n",
    "    def __init__(self):\n",
    "        super(Second, self).__init__()\n",
    "        print(\"second\")\n",
    "\n",
    "class Third(First, Second):\n",
    "    def __init__(self):\n",
    "        super(Third, self).__init__()\n",
    "        print(\"third\")"
   ]
  },
  {
   "cell_type": "code",
   "execution_count": 9,
   "metadata": {},
   "outputs": [
    {
     "name": "stdout",
     "output_type": "stream",
     "text": [
      "second\n",
      "first\n",
      "third\n"
     ]
    },
    {
     "data": {
      "text/plain": [
       "<__main__.Third at 0x7f8d48a48668>"
      ]
     },
     "execution_count": 9,
     "metadata": {},
     "output_type": "execute_result"
    }
   ],
   "source": [
    "Third()"
   ]
  },
  {
   "cell_type": "code",
   "execution_count": null,
   "metadata": {},
   "outputs": [],
   "source": []
  }
 ],
 "metadata": {
  "kernelspec": {
   "display_name": "Python 3",
   "language": "python",
   "name": "python3"
  },
  "language_info": {
   "codemirror_mode": {
    "name": "ipython",
    "version": 3
   },
   "file_extension": ".py",
   "mimetype": "text/x-python",
   "name": "python",
   "nbconvert_exporter": "python",
   "pygments_lexer": "ipython3",
   "version": "3.6.2"
  }
 },
 "nbformat": 4,
 "nbformat_minor": 2
}
