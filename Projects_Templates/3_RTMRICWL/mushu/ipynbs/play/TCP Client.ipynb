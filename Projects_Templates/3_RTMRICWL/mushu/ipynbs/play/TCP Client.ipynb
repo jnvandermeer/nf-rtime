{
 "cells": [
  {
   "cell_type": "code",
   "execution_count": null,
   "metadata": {
    "collapsed": true
   },
   "outputs": [],
   "source": [
    "import asyncio\n",
    "\n",
    "class EchoClientProtocol(asyncio.Protocol):\n",
    "    def __init__(self, message, loop):\n",
    "        self.message = message\n",
    "        self.loop = loop\n",
    "\n",
    "    def connection_made(self, transport):\n",
    "        transport.write(self.message.encode())\n",
    "        print('Data sent: {!r}'.format(self.message))\n",
    "\n",
    "    def data_received(self, data):\n",
    "        print('Data received: {!r}'.format(data.decode()))\n",
    "\n",
    "    def connection_lost(self, exc):\n",
    "        print('The server closed the connection')\n",
    "        print('Stop the event loop')\n",
    "        self.loop.stop()\n",
    "\n",
    "loop = asyncio.get_event_loop()\n",
    "message = 'Hello World!'\n",
    "coro = loop.create_connection(lambda: EchoClientProtocol(message, loop),\n",
    "                              '127.0.0.1', 7777)\n",
    "loop.run_until_complete(coro)\n",
    "loop.run_forever()\n",
    "loop.close()"
   ]
  }
 ],
 "metadata": {
  "kernelspec": {
   "display_name": "Python 3",
   "language": "python",
   "name": "python3"
  },
  "language_info": {
   "codemirror_mode": {
    "name": "ipython",
    "version": 3
   },
   "file_extension": ".py",
   "mimetype": "text/x-python",
   "name": "python",
   "nbconvert_exporter": "python",
   "pygments_lexer": "ipython3",
   "version": "3.6.2"
  }
 },
 "nbformat": 4,
 "nbformat_minor": 2
}
