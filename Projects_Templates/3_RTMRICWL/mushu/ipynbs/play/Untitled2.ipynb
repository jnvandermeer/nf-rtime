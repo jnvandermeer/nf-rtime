{
 "cells": [
  {
   "cell_type": "code",
   "execution_count": 1,
   "metadata": {},
   "outputs": [],
   "source": [
    "def fa(number):\n",
    "    print(number)"
   ]
  },
  {
   "cell_type": "code",
   "execution_count": 25,
   "metadata": {},
   "outputs": [],
   "source": [
    "import multiprocessing\n",
    "import time\n",
    "import os\n",
    "import subprocess\n",
    "\n",
    "def fb(number):\n",
    "    \n",
    "    print('---------')\n",
    "    print(os.getpid())\n",
    "    print(__name__)\n",
    "    print('this process has started')\n",
    "    \n",
    "    def fc(number3):\n",
    "        print('---------')\n",
    "        print(os.getpid())\n",
    "        print(__name__)\n",
    "        print('n3 %d' % number3)\n",
    "        print('This process has started! started!!')\n",
    "\n",
    "        \n",
    "    print('this is after function definition')\n",
    "    testnum=3\n",
    "    print(testnum)\n",
    "    P=multiprocessing.Process(target=fc,args=(testnum, ))\n",
    "    print('this is after Process definition')\n",
    "    P.start()\n",
    "    print('I started Process P')\n",
    "    time.sleep(1)\n",
    "    print('I sleeped 1 sec')\n",
    "    P.join()\n",
    "    print('I joined Process P')\n",
    "        "
   ]
  },
  {
   "cell_type": "code",
   "execution_count": 24,
   "metadata": {},
   "outputs": [],
   "source": [
    "import subprocess\n"
   ]
  },
  {
   "cell_type": "code",
   "execution_count": 26,
   "metadata": {},
   "outputs": [],
   "source": [
    "P2=multiprocessing.Process(target=fb, args=(3, ))"
   ]
  },
  {
   "cell_type": "code",
   "execution_count": 27,
   "metadata": {},
   "outputs": [
    {
     "name": "stdout",
     "output_type": "stream",
     "text": [
      "---------\n",
      "11092\n",
      "__main__\n",
      "this process has started\n",
      "this is after function definition\n",
      "3\n",
      "this is after Process definition\n",
      "---------\n",
      "I started Process P\n",
      "11107\n",
      "__main__\n",
      "n3 3\n",
      "This process has started! started!!\n",
      "I sleeped 1 sec\n",
      "I joined Process P\n"
     ]
    }
   ],
   "source": [
    "P2.start()"
   ]
  },
  {
   "cell_type": "code",
   "execution_count": 28,
   "metadata": {},
   "outputs": [
    {
     "data": {
      "text/plain": [
       "10609"
      ]
     },
     "execution_count": 28,
     "metadata": {},
     "output_type": "execute_result"
    }
   ],
   "source": [
    "os.getpid()"
   ]
  },
  {
   "cell_type": "code",
   "execution_count": 29,
   "metadata": {},
   "outputs": [],
   "source": [
    "P2.join()"
   ]
  },
  {
   "cell_type": "code",
   "execution_count": null,
   "metadata": {},
   "outputs": [],
   "source": []
  }
 ],
 "metadata": {
  "kernelspec": {
   "display_name": "Python 3",
   "language": "python",
   "name": "python3"
  },
  "language_info": {
   "codemirror_mode": {
    "name": "ipython",
    "version": 3
   },
   "file_extension": ".py",
   "mimetype": "text/x-python",
   "name": "python",
   "nbconvert_exporter": "python",
   "pygments_lexer": "ipython3",
   "version": "3.6.2"
  }
 },
 "nbformat": 4,
 "nbformat_minor": 2
}
