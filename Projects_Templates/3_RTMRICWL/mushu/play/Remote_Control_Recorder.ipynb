{
 "cells": [
  {
   "cell_type": "code",
   "execution_count": 11,
   "metadata": {},
   "outputs": [],
   "source": [
    "import socket\n",
    "MSGLEN=1024\n",
    "\n",
    "class MySocket:\n",
    "    \"\"\"demonstration class only\n",
    "      - coded for clarity, not efficiency\n",
    "    \"\"\"\n",
    "\n",
    "    def __init__(self, sock=None):\n",
    "        if sock is None:\n",
    "            self.sock = socket.socket(\n",
    "                            socket.AF_INET, socket.SOCK_STREAM)\n",
    "        else:\n",
    "            self.sock = sock\n",
    "\n",
    "    def connect(self, host, port):\n",
    "        self.sock.connect((host, port))\n",
    "\n",
    "    def mysend(self, msg):\n",
    "        totalsent = 0\n",
    "        while totalsent < MSGLEN:\n",
    "            sent = self.sock.send(msg[totalsent:])\n",
    "            if sent == 0:\n",
    "                raise RuntimeError(\"socket connection broken\")\n",
    "            totalsent = totalsent + sent\n",
    "\n",
    "    def myreceive(self):\n",
    "        chunks = []\n",
    "        bytes_recd = 0\n",
    "        while bytes_recd < MSGLEN:\n",
    "            chunk = self.sock.recv(min(MSGLEN - bytes_recd, 2048))\n",
    "            if chunk == b'':\n",
    "                raise RuntimeError(\"socket connection broken\")\n",
    "            chunks.append(chunk)\n",
    "            bytes_recd = bytes_recd + len(chunk)\n",
    "        return b''.join(chunks)"
   ]
  },
  {
   "cell_type": "code",
   "execution_count": 18,
   "metadata": {},
   "outputs": [],
   "source": [
    "s=MySocket()\n",
    "s.connect(\"10.100.0.3\",6700)"
   ]
  },
  {
   "cell_type": "code",
   "execution_count": 19,
   "metadata": {},
   "outputs": [
    {
     "ename": "RuntimeError",
     "evalue": "socket connection broken",
     "output_type": "error",
     "traceback": [
      "\u001b[0;31m---------------------------------------------------------------------------\u001b[0m",
      "\u001b[0;31mRuntimeError\u001b[0m                              Traceback (most recent call last)",
      "\u001b[0;32m<ipython-input-19-3a4923e029f6>\u001b[0m in \u001b[0;36m<module>\u001b[0;34m()\u001b[0m\n\u001b[0;32m----> 1\u001b[0;31m \u001b[0ms\u001b[0m\u001b[0;34m.\u001b[0m\u001b[0mmysend\u001b[0m\u001b[0;34m(\u001b[0m\u001b[0;34mr'1C:\\Vision\\Workfiles\\NF_64chEEG.rwksp'\u001b[0m\u001b[0;34m.\u001b[0m\u001b[0mencode\u001b[0m\u001b[0;34m(\u001b[0m\u001b[0;34m)\u001b[0m\u001b[0;34m)\u001b[0m\u001b[0;34m\u001b[0m\u001b[0m\n\u001b[0m",
      "\u001b[0;32m<ipython-input-11-16949610d062>\u001b[0m in \u001b[0;36mmysend\u001b[0;34m(self, msg)\u001b[0m\n\u001b[1;32m     22\u001b[0m             \u001b[0msent\u001b[0m \u001b[0;34m=\u001b[0m \u001b[0mself\u001b[0m\u001b[0;34m.\u001b[0m\u001b[0msock\u001b[0m\u001b[0;34m.\u001b[0m\u001b[0msend\u001b[0m\u001b[0;34m(\u001b[0m\u001b[0mmsg\u001b[0m\u001b[0;34m[\u001b[0m\u001b[0mtotalsent\u001b[0m\u001b[0;34m:\u001b[0m\u001b[0;34m]\u001b[0m\u001b[0;34m)\u001b[0m\u001b[0;34m\u001b[0m\u001b[0m\n\u001b[1;32m     23\u001b[0m             \u001b[0;32mif\u001b[0m \u001b[0msent\u001b[0m \u001b[0;34m==\u001b[0m \u001b[0;36m0\u001b[0m\u001b[0;34m:\u001b[0m\u001b[0;34m\u001b[0m\u001b[0m\n\u001b[0;32m---> 24\u001b[0;31m                 \u001b[0;32mraise\u001b[0m \u001b[0mRuntimeError\u001b[0m\u001b[0;34m(\u001b[0m\u001b[0;34m\"socket connection broken\"\u001b[0m\u001b[0;34m)\u001b[0m\u001b[0;34m\u001b[0m\u001b[0m\n\u001b[0m\u001b[1;32m     25\u001b[0m             \u001b[0mtotalsent\u001b[0m \u001b[0;34m=\u001b[0m \u001b[0mtotalsent\u001b[0m \u001b[0;34m+\u001b[0m \u001b[0msent\u001b[0m\u001b[0;34m\u001b[0m\u001b[0m\n\u001b[1;32m     26\u001b[0m \u001b[0;34m\u001b[0m\u001b[0m\n",
      "\u001b[0;31mRuntimeError\u001b[0m: socket connection broken"
     ]
    }
   ],
   "source": [
    "s.mysend(r'1C:\\Vision\\Workfiles\\NF_64chEEG.rwksp'.encode())"
   ]
  },
  {
   "cell_type": "code",
   "execution_count": null,
   "metadata": {
    "collapsed": true
   },
   "outputs": [],
   "source": []
  }
 ],
 "metadata": {
  "kernelspec": {
   "display_name": "Python 3",
   "language": "python",
   "name": "python3"
  },
  "language_info": {
   "codemirror_mode": {
    "name": "ipython",
    "version": 3
   },
   "file_extension": ".py",
   "mimetype": "text/x-python",
   "name": "python",
   "nbconvert_exporter": "python",
   "pygments_lexer": "ipython3",
   "version": "3.6.2"
  }
 },
 "nbformat": 4,
 "nbformat_minor": 2
}
