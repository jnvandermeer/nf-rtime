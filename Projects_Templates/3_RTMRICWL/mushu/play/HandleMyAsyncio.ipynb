{
 "cells": [
  {
   "cell_type": "code",
   "execution_count": 1,
   "metadata": {},
   "outputs": [],
   "source": [
    "import time\n",
    "import multiprocessing\n",
    "import asyncio\n",
    "\n",
    "\n",
    "\n",
    "\n",
    "# define my async worker function\n",
    "async def worker1():\n",
    "    \n",
    "    num=0\n",
    "    while True:\n",
    "        num+=1\n",
    "        print(num)\n",
    "        time.sleep(1)\n",
    "        await asyncio.sleep(1)\n",
    "\n",
    "        \n",
    "# define the poison-pill function\n",
    "async def kill_loop(loop,event):\n",
    "    while True:\n",
    "        print(event.is_set())\n",
    "        if event.is_set():\n",
    "            loop.stop()\n",
    "        await asyncio.sleep(1)\n",
    "        \n",
    "async def print_something():\n",
    "    while True:\n",
    "        print('test')\n",
    "        await asyncio.sleep(1)\n",
    "\n",
    "\n",
    "# so .. this is the loop...\n",
    "def starting_up_the_loop(event):\n",
    "    loop = asyncio.get_event_loop()\n",
    "    loop.create_task(worker1())\n",
    "    loop.create_task(kill_loop(loop,event))\n",
    "    loop.create_task(print_something())\n",
    "    loop.run_forever()\n",
    "    \n",
    "    \n",
    "\n",
    "# so -- make a separate process, then.\n",
    "event=multiprocessing.Event()\n",
    "\n",
    "P=multiprocessing.Process(target=starting_up_the_loop,args=(event,))\n",
    "        \n",
    "    "
   ]
  },
  {
   "cell_type": "markdown",
   "metadata": {},
   "source": [
    "## Let's Start"
   ]
  },
  {
   "cell_type": "code",
   "execution_count": 2,
   "metadata": {},
   "outputs": [
    {
     "data": {
      "text/plain": [
       "<Process(Process-1, initial)>"
      ]
     },
     "execution_count": 2,
     "metadata": {},
     "output_type": "execute_result"
    }
   ],
   "source": [
    "P"
   ]
  },
  {
   "cell_type": "code",
   "execution_count": 3,
   "metadata": {},
   "outputs": [
    {
     "data": {
      "text/plain": [
       "False"
      ]
     },
     "execution_count": 3,
     "metadata": {},
     "output_type": "execute_result"
    }
   ],
   "source": [
    "event.is_set()"
   ]
  },
  {
   "cell_type": "code",
   "execution_count": 4,
   "metadata": {},
   "outputs": [
    {
     "name": "stdout",
     "output_type": "stream",
     "text": [
      "1\n",
      "False\n",
      "test\n",
      "2\n",
      "False\n",
      "test\n",
      "3\n",
      "True\n"
     ]
    }
   ],
   "source": [
    "P.start()"
   ]
  },
  {
   "cell_type": "markdown",
   "metadata": {},
   "source": [
    "## The event Loop within the Process started - let's shut it down"
   ]
  },
  {
   "cell_type": "code",
   "execution_count": 5,
   "metadata": {},
   "outputs": [],
   "source": [
    "event.set()"
   ]
  },
  {
   "cell_type": "markdown",
   "metadata": {},
   "source": [
    "## It stopped! --> Clean exit!"
   ]
  }
 ],
 "metadata": {
  "kernelspec": {
   "display_name": "Python 3",
   "language": "python",
   "name": "python3"
  },
  "language_info": {
   "codemirror_mode": {
    "name": "ipython",
    "version": 3
   },
   "file_extension": ".py",
   "mimetype": "text/x-python",
   "name": "python",
   "nbconvert_exporter": "python",
   "pygments_lexer": "ipython3",
   "version": "3.6.2"
  }
 },
 "nbformat": 4,
 "nbformat_minor": 2
}
