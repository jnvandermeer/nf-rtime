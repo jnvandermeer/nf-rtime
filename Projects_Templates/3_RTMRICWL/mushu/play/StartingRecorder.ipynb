{
 "cells": [
  {
   "cell_type": "markdown",
   "metadata": {},
   "source": [
    "## This is for amp.configure()"
   ]
  },
  {
   "cell_type": "code",
   "execution_count": 20,
   "metadata": {},
   "outputs": [
    {
     "name": "stdout",
     "output_type": "stream",
     "text": [
      "connecting to 10.100.0.3 port 6700\n",
      "sending b'1C:\\\\Vision\\\\Workfiles\\\\NF_64chEEG.rwksp'\n",
      "sending b'2Pre-Run01'\n",
      "sending b'30001'\n",
      "sending b'4'\n",
      "sending b'M'\n"
     ]
    }
   ],
   "source": [
    "# this is for amp.configure)\n",
    "# this should all be done in amp.configure()\n",
    "\n",
    "import socket\n",
    "import sys\n",
    "import time\n",
    "\n",
    "# A variable to control for whether we'd like to use the Remote Controller provided by BP.\n",
    "RemoteControl=True\n",
    "RecorderIP = '10.100.0.3'\n",
    "PathToWorkspace = 'C:\\\\Vision\\\\Workfiles\\\\NF_64chEEG.rwksp'\n",
    "ExperimentNumber = 'Pre-Run01'\n",
    "SubjectID = '0001'\n",
    "\n",
    "\n",
    "\n",
    "\n",
    "# Create a TCP/IP socket\n",
    "sock = socket.socket(socket.AF_INET, socket.SOCK_STREAM)\n",
    "\n",
    "# Connect the socket to the port where the server is listening\n",
    "server_address = (RecorderIP, 6700)\n",
    "print('connecting to {} port {}'.format(*server_address))\n",
    "sock.connect(server_address)\n",
    "\n",
    "messages = [b'1'+PathToWorkspace.encode(),\n",
    "            b'2'+ExperimentNumber.encode(),\n",
    "            b'3'+SubjectID.encode(),\n",
    "            b'4',\n",
    "            b'M']\n",
    "\n",
    "\n",
    "\n",
    "\n",
    "try:\n",
    "    # Send data\n",
    "    for message in messages:\n",
    "        print('sending {!r}'.format(message))\n",
    "        sock.sendall(message)\n",
    "\n",
    "        # the Remote Controller doesn't send anything back, so... \n",
    "        # not check.\n",
    "        time.sleep(1)\n",
    "    \n",
    "    \n",
    "    \n",
    "    \n",
    "\n",
    "finally:\n",
    "    pass\n",
    "    # hmm.. I shouldn't close it!\n",
    "    # print('closing socket')\n",
    "    # sock.close()"
   ]
  },
  {
   "cell_type": "code",
   "execution_count": 4,
   "metadata": {
    "collapsed": true
   },
   "outputs": [],
   "source": [
    "# Doing the Resistances Check is something that people should do now, separately.\n",
    "# It won't be programmed"
   ]
  },
  {
   "cell_type": "markdown",
   "metadata": {},
   "source": [
    "## this is for amp.start()"
   ]
  },
  {
   "cell_type": "code",
   "execution_count": 21,
   "metadata": {
    "collapsed": true
   },
   "outputs": [],
   "source": [
    "\n",
    "#Then --> Starting the Experiment!\n",
    "# we can still change the name even now.\n",
    "# everything before should be done in amp.configure()\n",
    "\n",
    "# This is what we do in 'start'\n",
    "# optional argument for 'start'.\n",
    "ExperimentNumber='Saskiaishere1'\n",
    "sock.sendall(b'2'+ExperimentNumber.encode())\n",
    "sock.sendall(b'M')\n",
    "time.sleep(1)\n",
    "sock.sendall(b'D')\n",
    "time.sleep(3)\n",
    "sock.sendall(b'S')"
   ]
  },
  {
   "cell_type": "code",
   "execution_count": 6,
   "metadata": {
    "collapsed": true
   },
   "outputs": [],
   "source": [
    "# we pull the Big Matrix, using amp.get_data()"
   ]
  },
  {
   "cell_type": "markdown",
   "metadata": {},
   "source": [
    "## This is for amp.close()"
   ]
  },
  {
   "cell_type": "code",
   "execution_count": 22,
   "metadata": {
    "collapsed": true
   },
   "outputs": [],
   "source": [
    "# Then --> Stopping the Experiment amp.stop()\n",
    "sock.sendall(b'Q')\n"
   ]
  },
  {
   "cell_type": "markdown",
   "metadata": {},
   "source": [
    "## we're not going to send this - keep the BV Recorder panel open for now."
   ]
  },
  {
   "cell_type": "code",
   "execution_count": 10,
   "metadata": {
    "collapsed": true
   },
   "outputs": [],
   "source": [
    "\n",
    "sock.sendall(b'X')"
   ]
  },
  {
   "cell_type": "code",
   "execution_count": 11,
   "metadata": {
    "collapsed": true
   },
   "outputs": [],
   "source": []
  },
  {
   "cell_type": "code",
   "execution_count": 13,
   "metadata": {
    "collapsed": true
   },
   "outputs": [],
   "source": []
  },
  {
   "cell_type": "code",
   "execution_count": 14,
   "metadata": {
    "collapsed": true
   },
   "outputs": [],
   "source": []
  },
  {
   "cell_type": "code",
   "execution_count": 15,
   "metadata": {},
   "outputs": [
    {
     "data": {
      "text/plain": [
       "'ab'"
      ]
     },
     "execution_count": 15,
     "metadata": {},
     "output_type": "execute_result"
    }
   ],
   "source": []
  },
  {
   "cell_type": "code",
   "execution_count": 19,
   "metadata": {
    "collapsed": true
   },
   "outputs": [],
   "source": [
    "sock.sendall?\n"
   ]
  },
  {
   "cell_type": "code",
   "execution_count": 24,
   "metadata": {
    "collapsed": true
   },
   "outputs": [],
   "source": []
  },
  {
   "cell_type": "code",
   "execution_count": 29,
   "metadata": {},
   "outputs": [
    {
     "data": {
      "text/plain": [
       "'abc'"
      ]
     },
     "execution_count": 29,
     "metadata": {},
     "output_type": "execute_result"
    }
   ],
   "source": []
  },
  {
   "cell_type": "code",
   "execution_count": 32,
   "metadata": {},
   "outputs": [
    {
     "data": {
      "text/plain": [
       "b'3abc'"
      ]
     },
     "execution_count": 32,
     "metadata": {},
     "output_type": "execute_result"
    }
   ],
   "source": []
  },
  {
   "cell_type": "code",
   "execution_count": null,
   "metadata": {
    "collapsed": true
   },
   "outputs": [],
   "source": []
  }
 ],
 "metadata": {
  "kernelspec": {
   "display_name": "Python 3",
   "language": "python",
   "name": "python3"
  },
  "language_info": {
   "codemirror_mode": {
    "name": "ipython",
    "version": 3
   },
   "file_extension": ".py",
   "mimetype": "text/x-python",
   "name": "python",
   "nbconvert_exporter": "python",
   "pygments_lexer": "ipython3",
   "version": "3.6.2"
  }
 },
 "nbformat": 4,
 "nbformat_minor": 2
}
