{
 "cells": [
  {
   "cell_type": "code",
   "execution_count": 1,
   "metadata": {},
   "outputs": [
    {
     "name": "stdout",
     "output_type": "stream",
     "text": [
      "OK .. starting the DataCurator.\n",
      "Start\n",
      "Number of channels: 64\n",
      "Sampling interval: 200.0\n",
      "Resolutions: [0.5, 0.5, 0.5, 0.5, 0.5, 0.5, 0.5, 0.5, 0.5, 0.5, 0.5, 0.5, 0.5, 0.5, 0.5, 0.5, 0.5, 0.5, 0.5, 0.5, 0.5, 0.5, 0.5, 0.5, 0.5, 0.5, 0.5, 0.5, 0.5, 0.5, 0.5, 10.0, 0.5, 0.5, 0.5, 0.5, 0.5, 0.5, 0.5, 0.5, 0.5, 0.5, 0.5, 0.5, 0.5, 0.5, 0.5, 0.5, 0.5, 0.5, 0.5, 0.5, 0.5, 0.5, 0.5, 0.5, 0.5, 0.5, 0.5, 0.5, 0.5, 0.5, 0.5, 0.5]\n",
      "Channel Names: ['Fp1', 'Fp2', 'F3', 'F4', 'C3', 'C4', 'P3', 'P4', 'O1', 'O2', 'F7', 'F8', 'T7', 'T8', 'P7', 'P8', 'Fz', 'Cz', 'Pz', 'Oz', 'FC1', 'FC2', 'CP1', 'CP2', 'FC5', 'FC6', 'CP5', 'CP6', 'TP9', 'TP10', 'POz', 'ECG', 'F1', 'F2', 'C1', 'C2', 'P1', 'P2', 'AF3', 'AF4', 'FC3', 'FC4', 'CP3', 'CP4', 'PO3', 'PO4', 'F5', 'F6', 'C5', 'C6', 'P5', 'P6', 'AF7', 'AF8', 'FT7', 'FT8', 'TP7', 'TP8', 'PO7', 'PO8', 'FT9', 'FT10', 'Fpz', 'CPz']\n",
      "Stop\n",
      "Terminated by Recorder\n",
      "Terminated by NF Control\n"
     ]
    }
   ],
   "source": [
    "from libmushu.driver.bptools.bptools import Receiver\n",
    "from libmushu.driver.bptools.container import DataContainer\n",
    "from libmushu.driver.bptools.datacurator import DataCurator\n",
    "\n",
    "import multiprocessing\n",
    "import asyncio\n",
    "import time\n",
    "\n",
    "\n",
    "datacurator = DataCurator('10.100.0.3', 51244, 50)\n",
    "datacurator.start()\n",
    "\n",
    "alld=[]\n",
    "allm=[]\n",
    "import time\n",
    "starttime=time.time()\n",
    "# while time.time() - starttime < 20:\n",
    "time.sleep(20)\n",
    "data, markers = datacurator.get_data()\n",
    "alld.append(data)\n",
    "for m in markers:\n",
    "    allm.append(m)\n"
   ]
  },
  {
   "cell_type": "code",
   "execution_count": 5,
   "metadata": {},
   "outputs": [
    {
     "data": {
      "text/plain": [
       "20.0"
      ]
     },
     "execution_count": 5,
     "metadata": {},
     "output_type": "execute_result"
    }
   ],
   "source": [
    "len(alld[0])/5000"
   ]
  },
  {
   "cell_type": "code",
   "execution_count": 6,
   "metadata": {},
   "outputs": [
    {
     "data": {
      "text/plain": [
       "{'channelCount': 64,\n",
       " 'channelNames': ['Fp1',\n",
       "  'Fp2',\n",
       "  'F3',\n",
       "  'F4',\n",
       "  'C3',\n",
       "  'C4',\n",
       "  'P3',\n",
       "  'P4',\n",
       "  'O1',\n",
       "  'O2',\n",
       "  'F7',\n",
       "  'F8',\n",
       "  'T7',\n",
       "  'T8',\n",
       "  'P7',\n",
       "  'P8',\n",
       "  'Fz',\n",
       "  'Cz',\n",
       "  'Pz',\n",
       "  'Oz',\n",
       "  'FC1',\n",
       "  'FC2',\n",
       "  'CP1',\n",
       "  'CP2',\n",
       "  'FC5',\n",
       "  'FC6',\n",
       "  'CP5',\n",
       "  'CP6',\n",
       "  'TP9',\n",
       "  'TP10',\n",
       "  'POz',\n",
       "  'ECG',\n",
       "  'F1',\n",
       "  'F2',\n",
       "  'C1',\n",
       "  'C2',\n",
       "  'P1',\n",
       "  'P2',\n",
       "  'AF3',\n",
       "  'AF4',\n",
       "  'FC3',\n",
       "  'FC4',\n",
       "  'CP3',\n",
       "  'CP4',\n",
       "  'PO3',\n",
       "  'PO4',\n",
       "  'F5',\n",
       "  'F6',\n",
       "  'C5',\n",
       "  'C6',\n",
       "  'P5',\n",
       "  'P6',\n",
       "  'AF7',\n",
       "  'AF8',\n",
       "  'FT7',\n",
       "  'FT8',\n",
       "  'TP7',\n",
       "  'TP8',\n",
       "  'PO7',\n",
       "  'PO8',\n",
       "  'FT9',\n",
       "  'FT10',\n",
       "  'Fpz',\n",
       "  'CPz'],\n",
       " 'resolutions': [0.5,\n",
       "  0.5,\n",
       "  0.5,\n",
       "  0.5,\n",
       "  0.5,\n",
       "  0.5,\n",
       "  0.5,\n",
       "  0.5,\n",
       "  0.5,\n",
       "  0.5,\n",
       "  0.5,\n",
       "  0.5,\n",
       "  0.5,\n",
       "  0.5,\n",
       "  0.5,\n",
       "  0.5,\n",
       "  0.5,\n",
       "  0.5,\n",
       "  0.5,\n",
       "  0.5,\n",
       "  0.5,\n",
       "  0.5,\n",
       "  0.5,\n",
       "  0.5,\n",
       "  0.5,\n",
       "  0.5,\n",
       "  0.5,\n",
       "  0.5,\n",
       "  0.5,\n",
       "  0.5,\n",
       "  0.5,\n",
       "  10.0,\n",
       "  0.5,\n",
       "  0.5,\n",
       "  0.5,\n",
       "  0.5,\n",
       "  0.5,\n",
       "  0.5,\n",
       "  0.5,\n",
       "  0.5,\n",
       "  0.5,\n",
       "  0.5,\n",
       "  0.5,\n",
       "  0.5,\n",
       "  0.5,\n",
       "  0.5,\n",
       "  0.5,\n",
       "  0.5,\n",
       "  0.5,\n",
       "  0.5,\n",
       "  0.5,\n",
       "  0.5,\n",
       "  0.5,\n",
       "  0.5,\n",
       "  0.5,\n",
       "  0.5,\n",
       "  0.5,\n",
       "  0.5,\n",
       "  0.5,\n",
       "  0.5,\n",
       "  0.5,\n",
       "  0.5,\n",
       "  0.5,\n",
       "  0.5],\n",
       " 'samplingInterval': 200.0}"
      ]
     },
     "execution_count": 6,
     "metadata": {},
     "output_type": "execute_result"
    }
   ],
   "source": [
    "datacurator.get_hdr()"
   ]
  },
  {
   "cell_type": "code",
   "execution_count": 4,
   "metadata": {},
   "outputs": [],
   "source": []
  },
  {
   "cell_type": "code",
   "execution_count": 13,
   "metadata": {},
   "outputs": [],
   "source": [
    "(m,t)=datacurator.get_data()"
   ]
  },
  {
   "cell_type": "code",
   "execution_count": 14,
   "metadata": {},
   "outputs": [
    {
     "data": {
      "text/plain": [
       "array([[ 37.5,  -8. ,  -2.5, ..., -16.5, -11.5, -24.5],\n",
       "       [ 32. ,  -9.5,  -3.5, ..., -16. , -12. , -23. ],\n",
       "       [ 25.5, -10. ,  -4.5, ..., -16.5, -12.5, -22.5],\n",
       "       ..., \n",
       "       [  3. , -14. ,  -9. , ..., -14. , -10.5, -12. ],\n",
       "       [  0.5, -13.5,  -9.5, ..., -14.5, -10. , -11. ],\n",
       "       [ -1.5, -13.5, -10. , ..., -14.5,  -9.5, -11. ]])"
      ]
     },
     "execution_count": 14,
     "metadata": {},
     "output_type": "execute_result"
    }
   ],
   "source": [
    "m"
   ]
  },
  {
   "cell_type": "code",
   "execution_count": null,
   "metadata": {},
   "outputs": [],
   "source": []
  }
 ],
 "metadata": {
  "kernelspec": {
   "display_name": "Python 3",
   "language": "python",
   "name": "python3"
  },
  "language_info": {
   "codemirror_mode": {
    "name": "ipython",
    "version": 3
   },
   "file_extension": ".py",
   "mimetype": "text/x-python",
   "name": "python",
   "nbconvert_exporter": "python",
   "pygments_lexer": "ipython3",
   "version": "3.6.2"
  }
 },
 "nbformat": 4,
 "nbformat_minor": 2
}
