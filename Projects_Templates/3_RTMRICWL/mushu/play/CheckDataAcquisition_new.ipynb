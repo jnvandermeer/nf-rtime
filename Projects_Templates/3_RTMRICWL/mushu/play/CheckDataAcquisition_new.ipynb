{
 "cells": [
  {
   "cell_type": "code",
   "execution_count": 17,
   "metadata": {},
   "outputs": [
    {
     "data": {
      "text/plain": [
       "'/home/nfcontrol/repos/rt-cwl-eeg-fmri/mushu'"
      ]
     },
     "execution_count": 17,
     "metadata": {},
     "output_type": "execute_result"
    }
   ],
   "source": [
    "pwd"
   ]
  },
  {
   "cell_type": "code",
   "execution_count": 6,
   "metadata": {},
   "outputs": [
    {
     "name": "stdout",
     "output_type": "stream",
     "text": [
      "/home/nfcontrol/repos/rt-cwl-eeg-fmri/mushu\n"
     ]
    }
   ],
   "source": [
    "cd /home/nfcontrol/repos/rt-cwl-eeg-fmri/mushu/"
   ]
  },
  {
   "cell_type": "code",
   "execution_count": 7,
   "metadata": {},
   "outputs": [],
   "source": [
    "from libmushu.driver.bptools.bptools import Receiver\n",
    "\n",
    "import multiprocessing"
   ]
  },
  {
   "cell_type": "markdown",
   "metadata": {},
   "source": [
    "## These are definitions to be put into the amp driver section...\n",
    "So I made an extra file where I pull all the definitions from. datacurator.py.\n",
    "Hope that's OK.\n"
   ]
  },
  {
   "cell_type": "code",
   "execution_count": null,
   "metadata": {
    "collapsed": true
   },
   "outputs": [],
   "source": [
    "import asyncio\n",
    "\n",
    "from libmushu.driver.bptools.container import DataContainer\n",
    "\n",
    "# we define 2 functions\n",
    "\n",
    "# f1 --> grab stuff from the receiver queue, put it into the container.\n",
    "# the container class functions as the buffer. it's basically a numpy array.\n",
    "async def put_into_container(container,queue_incoming):\n",
    "\n",
    "    # make the container handle the queue item. In other words, the Receiver\n",
    "    # captured some data and put it into the queue. This will use this process's\n",
    "    # computational resources to make the container handle that new data\n",
    "    # package.\n",
    "    container.handle_queue_item(queue_incoming.get())\n",
    "    \n",
    "    # and.. yield back the control.\n",
    "    await async.sleep(0.001)\n",
    "\n",
    "# f2 --> check if there's a 'get_data' instruction in the queue, and then deal with that.\n",
    "async def get_from_container(container,queue_instructions,queue_outgoing, datasent):\n",
    "    \n",
    "\n",
    "    # check whether there's anything in the queue.\n",
    "    while queue_instructions.qsize() > 0:\n",
    "        \n",
    "        # probably can do better --> implement this in container?\n",
    "        points_in_block = container.get_samples_in_block()\n",
    "        # handle queue requests\n",
    "        queue_item = queue_instructions.get()\n",
    "        \n",
    "        if queue_item == 'get_data':\n",
    "            \n",
    "            # this is the interaction --> a counter in container which gets updated\n",
    "            nblocks = container.get_last_block() - container.get_block_position()\n",
    "            \n",
    "            if nblocks > 1:\n",
    "            \n",
    "                data = container[nblocks*points_in_block,:]\n",
    "            \n",
    "                queue_outgoing.put(data)\n",
    "                \n",
    "                # tell the other (i.e. main) process that this function has done its job.\n",
    "                datasent.set()\n",
    "                \n",
    "                container.set_block_position(container.get_last_block())\n",
    "        \n",
    "    # yield back control...                 \n",
    "    await async.sleep(0.001)\n",
    "    \n",
    "\n",
    "    \n",
    "async def print_something():\n",
    "    while True:\n",
    "        print('test')\n",
    "        await asyncio.sleep(1)\n",
    "\n",
    "\n",
    "# i.e. gracefully exiting the main event loop within the Process. So we can exit/join it again.\n",
    "async def kill_loop(loop,event):\n",
    "    while True:\n",
    "        print(event.is_set())\n",
    "        if event.is_set():\n",
    "            loop.stop()\n",
    "        await asyncio.sleep(0.001)    \n",
    "        \n",
    "        # close off the Receiver -- join to this Process.\n",
    "        \n",
    "            \n",
    "        \n",
    "# so .. this is the loop...\n",
    "def starting_up_the_loop(container, queue_incoming, queue_instructions, queue_outgoing, curatorstop, datasent):\n",
    "    \n",
    "    \n",
    "    # initialize the receiver --> start the receiver\n",
    "    # initialize the container --> start the conainer?? no just initialize.\n",
    "    \n",
    "    \n",
    "    loop = asyncio.get_event_loop()\n",
    "    loop.create_task(put_into_container(container, queue_incoming))\n",
    "    loop.create_task(get_from_container(container, queue_instructions, queue_outgoing, datasent))\n",
    "    loop.create_task(kill_loop(loop, curatorstop))\n",
    "    loop.create_task(print_something())\n",
    "    loop.run_forever()\n",
    "    \n",
    "\n",
    "    # I may have to declare the container in the separate process. Maybe even initialize the Receiver as well. (i.e., chain them?)\n",
    "    # Since otherwise -- Receiver sends to \n",
    "\n",
    "     \n"
   ]
  },
  {
   "cell_type": "markdown",
   "metadata": {},
   "source": [
    "# Solve Process --> Multiprocess issue. Toy Example?"
   ]
  },
  {
   "cell_type": "code",
   "execution_count": null,
   "metadata": {},
   "outputs": [],
   "source": []
  },
  {
   "cell_type": "markdown",
   "metadata": {},
   "source": [
    "## I think this is best used for amp.configure()"
   ]
  },
  {
   "cell_type": "code",
   "execution_count": 8,
   "metadata": {},
   "outputs": [
    {
     "name": "stdout",
     "output_type": "stream",
     "text": [
      "__main__\n",
      "Start\n",
      "Number of channels: 64\n",
      "Sampling interval: 200.0\n",
      "Resolutions: [0.5, 0.5, 0.5, 0.5, 0.5, 0.5, 0.5, 0.5, 0.5, 0.5, 0.5, 0.5, 0.5, 0.5, 0.5, 0.5, 0.5, 0.5, 0.5, 0.5, 0.5, 0.5, 0.5, 0.5, 0.5, 0.5, 0.5, 0.5, 0.5, 0.5, 0.5, 10.0, 0.5, 0.5, 0.5, 0.5, 0.5, 0.5, 0.5, 0.5, 0.5, 0.5, 0.5, 0.5, 0.5, 0.5, 0.5, 0.5, 0.5, 0.5, 0.5, 0.5, 0.5, 0.5, 0.5, 0.5, 0.5, 0.5, 0.5, 0.5, 0.5, 0.5, 0.5, 0.5]\n",
      "Channel Names: ['Fp1', 'Fp2', 'F3', 'F4', 'C3', 'C4', 'P3', 'P4', 'O1', 'O2', 'F7', 'F8', 'T7', 'T8', 'P7', 'P8', 'Fz', 'Cz', 'Pz', 'Oz', 'FC1', 'FC2', 'CP1', 'CP2', 'FC5', 'FC6', 'CP5', 'CP6', 'TP9', 'TP10', 'POz', 'ECG', 'F1', 'F2', 'C1', 'C2', 'P1', 'P2', 'AF3', 'AF4', 'FC3', 'FC4', 'CP3', 'CP4', 'PO3', 'PO4', 'F5', 'F6', 'C5', 'C6', 'P5', 'P6', 'AF7', 'AF8', 'FT7', 'FT8', 'TP7', 'TP8', 'PO7', 'PO8', 'FT9', 'FT10', 'Fpz', 'CPz']\n",
      "starting...\n",
      "Initialized and Starting Data Collection\n",
      "Average power: 284.67665390625\n",
      "Average power: 285.334721875\n",
      "Average power: 285.6379453125\n",
      "Average power: 286.106278125\n",
      "Average power: 284.0986859375\n",
      "Average power: 289.0819140625\n",
      "Average power: 284.846759375\n",
      "Average power: 292.27698828125\n",
      "Average power: 287.6535375\n",
      "Terminated by NF Control\n"
     ]
    }
   ],
   "source": [
    "if __name__ is '__main__':\n",
    "    \n",
    "    # SOCKET=\n",
    "    #from pycallgraph import PyCallGraph\n",
    "    # rom pycallgraph.output import GraphvizOutput\n",
    "    import time\n",
    "\n",
    "    print('starting...')\n",
    "    #with PyCallGraph(output=GraphvizOutput()):\n",
    "    #code_to_profile()\n",
    "    container=DataContainer()\n",
    "    queue_incoming=multiprocessing.Queue()\n",
    "    queue_instructions=multiprocessing.Queue()\n",
    "    queue_outgoing=multiprocessing.Queue()\n",
    "    \n",
    "    datasent=multiprocessing.Event()\n",
    "    curatorstop=multiprocessing.Event()\n",
    "    \n",
    "    \n",
    "    # set up the data acquisition Process.\n",
    "    receiver = Receiver(queue_incoming,\"10.100.0.3\",51244)\n",
    "    \n",
    "    \n",
    "    \n",
    "    # NOW -- set up the keeping track up/updating/request handler process.\n",
    "    datacurator=multiprocessing.Process(target=starting_up_the_loop,args=(container, queue_incoming, queue_instructions, queue_outgoing, curatorstop, datasent))\n",
    "    \n",
    "    \n",
    "    \n",
    "    \n",
    "    \n",
    "    \n"
   ]
  },
  {
   "cell_type": "markdown",
   "metadata": {},
   "source": [
    "## to be used in amp.start()"
   ]
  },
  {
   "cell_type": "code",
   "execution_count": null,
   "metadata": {},
   "outputs": [],
   "source": [
    "receiver.start()\n",
    "datacurator.start()"
   ]
  },
  {
   "cell_type": "markdown",
   "metadata": {},
   "source": [
    "## to be used in amp.get_data()"
   ]
  },
  {
   "cell_type": "code",
   "execution_count": null,
   "metadata": {},
   "outputs": [],
   "source": [
    "# IF you wanna request some data:\n",
    "\n",
    "queue_instructions.put('get_data')\n",
    "\n",
    "while not datasent.is_set():\n",
    "    if queue_data.qsize>0:\n",
    "        data=queue_data.get()\n",
    "        datasent.clear()\n",
    "\n",
    "\n"
   ]
  },
  {
   "cell_type": "markdown",
   "metadata": {},
   "source": [
    "## to be used in amp.close()"
   ]
  },
  {
   "cell_type": "code",
   "execution_count": null,
   "metadata": {},
   "outputs": [],
   "source": [
    "# IF you wanna stop:\n",
    "receiver.shutdown()\n",
    "receiver.join()\n",
    "\n",
    "curatorstop.set()\n",
    "curator.join()\n",
    "\n",
    "# let's see if everything shuts down nicely though."
   ]
  },
  {
   "cell_type": "markdown",
   "metadata": {},
   "source": [
    "## to be used in a test to figure out how it works \n",
    "### later on, using simple mushu amp tool."
   ]
  },
  {
   "cell_type": "code",
   "execution_count": 9,
   "metadata": {},
   "outputs": [
    {
     "name": "stdout",
     "output_type": "stream",
     "text": [
      "args:\n",
      "(slice(0, 55000, None), 1)\n",
      "kwargs\n",
      "\n",
      "firstarg:\n",
      "<class 'slice'>\n",
      "slice(0, 55000, None)\n"
     ]
    },
    {
     "data": {
      "text/plain": [
       "[<matplotlib.lines.Line2D at 0x7fb68acd5d68>]"
      ]
     },
     "execution_count": 9,
     "metadata": {},
     "output_type": "execute_result"
    },
    {
     "data": {
      "image/png": "[encoded data removed]",
      "text/plain": [
       "<matplotlib.figure.Figure at 0x7fb68e323cc0>"
      ]
     },
     "metadata": {},
     "output_type": "display_data"
    }
   ],
   "source": [
    "from matplotlib.pyplot import plot as plt\n",
    "\n",
    "%matplotlib inline\n",
    "plt(c[0:5000*11,1])"
   ]
  },
  {
   "cell_type": "code",
   "execution_count": 11,
   "metadata": {},
   "outputs": [],
   "source": [
    "queue_item=Q.get()"
   ]
  },
  {
   "cell_type": "code",
   "execution_count": 15,
   "metadata": {},
   "outputs": [
    {
     "data": {
      "text/plain": [
       "array([[ 33.5,   0. ,  15. , ..., -11. ,  -2. ,   0.5],\n",
       "       [ 30.5,  -0.5,  15. , ..., -11.5,  -2. ,   1. ],\n",
       "       [ 27.5,  -1. ,  14. , ..., -11.5,  -1.5,   1.5],\n",
       "       ..., \n",
       "       [ 38. ,   1.5,  14. , ..., -11.5,  -0.5,  -1.5],\n",
       "       [ 36.5,   1. ,  14. , ..., -12. ,  -0.5,  -0.5],\n",
       "       [ 34. ,   1. ,  13.5, ..., -11.5,  -0.5,  -0.5]])"
      ]
     },
     "execution_count": 15,
     "metadata": {},
     "output_type": "execute_result"
    }
   ],
   "source": [
    "queue_item['d']"
   ]
  },
  {
   "cell_type": "code",
   "execution_count": 16,
   "metadata": {},
   "outputs": [
    {
     "data": {
      "text/plain": [
       "{'channelCount': 64,\n",
       " 'channelNames': ['Fp1',\n",
       "  'Fp2',\n",
       "  'F3',\n",
       "  'F4',\n",
       "  'C3',\n",
       "  'C4',\n",
       "  'P3',\n",
       "  'P4',\n",
       "  'O1',\n",
       "  'O2',\n",
       "  'F7',\n",
       "  'F8',\n",
       "  'T7',\n",
       "  'T8',\n",
       "  'P7',\n",
       "  'P8',\n",
       "  'Fz',\n",
       "  'Cz',\n",
       "  'Pz',\n",
       "  'Oz',\n",
       "  'FC1',\n",
       "  'FC2',\n",
       "  'CP1',\n",
       "  'CP2',\n",
       "  'FC5',\n",
       "  'FC6',\n",
       "  'CP5',\n",
       "  'CP6',\n",
       "  'TP9',\n",
       "  'TP10',\n",
       "  'POz',\n",
       "  'ECG',\n",
       "  'F1',\n",
       "  'F2',\n",
       "  'C1',\n",
       "  'C2',\n",
       "  'P1',\n",
       "  'P2',\n",
       "  'AF3',\n",
       "  'AF4',\n",
       "  'FC3',\n",
       "  'FC4',\n",
       "  'CP3',\n",
       "  'CP4',\n",
       "  'PO3',\n",
       "  'PO4',\n",
       "  'F5',\n",
       "  'F6',\n",
       "  'C5',\n",
       "  'C6',\n",
       "  'P5',\n",
       "  'P6',\n",
       "  'AF7',\n",
       "  'AF8',\n",
       "  'FT7',\n",
       "  'FT8',\n",
       "  'TP7',\n",
       "  'TP8',\n",
       "  'PO7',\n",
       "  'PO8',\n",
       "  'FT9',\n",
       "  'FT10',\n",
       "  'Fpz',\n",
       "  'CPz'],\n",
       " 'resolutions': [0.5,\n",
       "  0.5,\n",
       "  0.5,\n",
       "  0.5,\n",
       "  0.5,\n",
       "  0.5,\n",
       "  0.5,\n",
       "  0.5,\n",
       "  0.5,\n",
       "  0.5,\n",
       "  0.5,\n",
       "  0.5,\n",
       "  0.5,\n",
       "  0.5,\n",
       "  0.5,\n",
       "  0.5,\n",
       "  0.5,\n",
       "  0.5,\n",
       "  0.5,\n",
       "  0.5,\n",
       "  0.5,\n",
       "  0.5,\n",
       "  0.5,\n",
       "  0.5,\n",
       "  0.5,\n",
       "  0.5,\n",
       "  0.5,\n",
       "  0.5,\n",
       "  0.5,\n",
       "  0.5,\n",
       "  0.5,\n",
       "  10.0,\n",
       "  0.5,\n",
       "  0.5,\n",
       "  0.5,\n",
       "  0.5,\n",
       "  0.5,\n",
       "  0.5,\n",
       "  0.5,\n",
       "  0.5,\n",
       "  0.5,\n",
       "  0.5,\n",
       "  0.5,\n",
       "  0.5,\n",
       "  0.5,\n",
       "  0.5,\n",
       "  0.5,\n",
       "  0.5,\n",
       "  0.5,\n",
       "  0.5,\n",
       "  0.5,\n",
       "  0.5,\n",
       "  0.5,\n",
       "  0.5,\n",
       "  0.5,\n",
       "  0.5,\n",
       "  0.5,\n",
       "  0.5,\n",
       "  0.5,\n",
       "  0.5,\n",
       "  0.5,\n",
       "  0.5,\n",
       "  0.5,\n",
       "  0.5],\n",
       " 'samplingInterval': 200.0}"
      ]
     },
     "execution_count": 16,
     "metadata": {},
     "output_type": "execute_result"
    }
   ],
   "source": [
    "c.hdr"
   ]
  },
  {
   "cell_type": "code",
   "execution_count": null,
   "metadata": {
    "collapsed": true
   },
   "outputs": [],
   "source": []
  }
 ],
 "metadata": {
  "kernelspec": {
   "display_name": "Python 3",
   "language": "python",
   "name": "python3"
  },
  "language_info": {
   "codemirror_mode": {
    "name": "ipython",
    "version": 3
   },
   "file_extension": ".py",
   "mimetype": "text/x-python",
   "name": "python",
   "nbconvert_exporter": "python",
   "pygments_lexer": "ipython3",
   "version": "3.6.2"
  }
 },
 "nbformat": 4,
 "nbformat_minor": 2
}
