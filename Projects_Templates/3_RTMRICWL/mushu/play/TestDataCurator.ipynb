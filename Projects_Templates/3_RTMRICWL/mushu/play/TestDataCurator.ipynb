{
 "cells": [
  {
   "cell_type": "code",
   "execution_count": 6,
   "metadata": {},
   "outputs": [],
   "source": [
    "import multiprocessing\n",
    "class TestProcess(multiprocessing.Process):\n",
    "    def __init__(self):\n",
    "        super(TestProcess, self).__init__()\n",
    "        \n",
    "    def run(self):\n",
    "        print('blabla')\n",
    "        for i in range(10):\n",
    "            print(i)\n",
    "        print('done!!')\n",
    "        "
   ]
  },
  {
   "cell_type": "code",
   "execution_count": 7,
   "metadata": {},
   "outputs": [
    {
     "name": "stdout",
     "output_type": "stream",
     "text": [
      "blabla\n",
      "0\n",
      "1\n",
      "2\n",
      "3\n",
      "4\n",
      "5\n",
      "6\n",
      "7\n",
      "8\n",
      "9\n",
      "done!!\n"
     ]
    }
   ],
   "source": [
    "T=TestProcess()\n",
    "T.start()"
   ]
  },
  {
   "cell_type": "code",
   "execution_count": 9,
   "metadata": {},
   "outputs": [],
   "source": [
    "T.join()"
   ]
  },
  {
   "cell_type": "code",
   "execution_count": 10,
   "metadata": {},
   "outputs": [
    {
     "name": "stdout",
     "output_type": "stream",
     "text": [
      "/home/nfcontrol/repos/rt-cwl-eeg-fmri/mushu\n"
     ]
    }
   ],
   "source": [
    "cd /home/nfcontrol/repos/rt-cwl-eeg-fmri/mushu/"
   ]
  },
  {
   "cell_type": "markdown",
   "metadata": {},
   "source": [
    "## Test whether the DataCurator is the thing needed to use with the amp subfunctions!\n",
    "- if it is -- then great!\n",
    "- I will add some subfunction to slice it, too - this will communicate too via queues.\n",
    "- f.e. getting the last X samples, or the last N timepoints\n",
    "- or the current timestamp (maybe require modifying Container)\n",
    "- starttime, currenttime\n",
    "- startsample, currentsample"
   ]
  },
  {
   "cell_type": "code",
   "execution_count": 11,
   "metadata": {},
   "outputs": [],
   "source": [
    "from libmushu.driver.bptools.datacurator import DataCurator\n",
    "\n",
    "import time"
   ]
  },
  {
   "cell_type": "code",
   "execution_count": 12,
   "metadata": {},
   "outputs": [],
   "source": [
    "D=DataCurator('10.100.0.3', 51244)"
   ]
  },
  {
   "cell_type": "code",
   "execution_count": 40,
   "metadata": {},
   "outputs": [
    {
     "data": {
      "text/plain": [
       "5000"
      ]
     },
     "execution_count": 40,
     "metadata": {},
     "output_type": "execute_result"
    }
   ],
   "source": [
    "int(1000000/200.)"
   ]
  },
  {
   "cell_type": "code",
   "execution_count": 13,
   "metadata": {},
   "outputs": [
    {
     "name": "stdout",
     "output_type": "stream",
     "text": [
      "OK .. starting the DataCurator.\n",
      "Start\n",
      "Number of channels: 64\n",
      "Sampling interval: 200.0\n",
      "Resolutions: [0.5, 0.5, 0.5, 0.5, 0.5, 0.5, 0.5, 0.5, 0.5, 0.5, 0.5, 0.5, 0.5, 0.5, 0.5, 0.5, 0.5, 0.5, 0.5, 0.5, 0.5, 0.5, 0.5, 0.5, 0.5, 0.5, 0.5, 0.5, 0.5, 0.5, 0.5, 10.0, 0.5, 0.5, 0.5, 0.5, 0.5, 0.5, 0.5, 0.5, 0.5, 0.5, 0.5, 0.5, 0.5, 0.5, 0.5, 0.5, 0.5, 0.5, 0.5, 0.5, 0.5, 0.5, 0.5, 0.5, 0.5, 0.5, 0.5, 0.5, 0.5, 0.5, 0.5, 0.5]\n",
      "Channel Names: ['Fp1', 'Fp2', 'F3', 'F4', 'C3', 'C4', 'P3', 'P4', 'O1', 'O2', 'F7', 'F8', 'T7', 'T8', 'P7', 'P8', 'Fz', 'Cz', 'Pz', 'Oz', 'FC1', 'FC2', 'CP1', 'CP2', 'FC5', 'FC6', 'CP5', 'CP6', 'TP9', 'TP10', 'POz', 'ECG', 'F1', 'F2', 'C1', 'C2', 'P1', 'P2', 'AF3', 'AF4', 'FC3', 'FC4', 'CP3', 'CP4', 'PO3', 'PO4', 'F5', 'F6', 'C5', 'C6', 'P5', 'P6', 'AF7', 'AF8', 'FT7', 'FT8', 'TP7', 'TP8', 'PO7', 'PO8', 'FT9', 'FT10', 'Fpz', 'CPz']\n",
      "Average power: 331.38749140625\n",
      "Average power: 328.68307109375\n",
      "Average power: 329.68227421875\n",
      "Average power: 330.1217703125\n",
      "Average power: 329.0469484375\n",
      "Average power: 337.71029375\n",
      "Average power: 332.69451875\n",
      "Average power: 329.5810703125\n",
      "Average power: 334.566403125\n",
      "Average power: 332.75808359375\n",
      "Average power: 331.07208359375\n",
      "Average power: 338.0638046875\n",
      "Average power: 335.939278125\n",
      "loop stopped!\n",
      "Terminated by NF Control\n",
      "receiver shutdown sent!\n",
      "receiver successfully joined!\n"
     ]
    }
   ],
   "source": [
    "# start the Process...\n",
    "D.start()\n",
    "# let it sizzle for a while..."
   ]
  },
  {
   "cell_type": "code",
   "execution_count": 14,
   "metadata": {},
   "outputs": [],
   "source": [
    "extracted_data=[]\n",
    "for t in [0.02*(i+1) for i in range(20)]:\n",
    "    extracted_data.append(D.get_data())\n",
    "    time.sleep(t)"
   ]
  },
  {
   "cell_type": "code",
   "execution_count": 15,
   "metadata": {},
   "outputs": [],
   "source": [
    "extracted_data2=[]\n",
    "for t in range(100):\n",
    "    extracted_data2.append(D.get_data())\n",
    "    \n",
    "    \n"
   ]
  },
  {
   "cell_type": "code",
   "execution_count": 16,
   "metadata": {},
   "outputs": [
    {
     "name": "stdout",
     "output_type": "stream",
     "text": [
      "requesting to stop the acquisition\n"
     ]
    }
   ],
   "source": [
    "D.stop_acquisition()"
   ]
  },
  {
   "cell_type": "code",
   "execution_count": 36,
   "metadata": {},
   "outputs": [],
   "source": [
    "D.join()"
   ]
  },
  {
   "cell_type": "code",
   "execution_count": null,
   "metadata": {},
   "outputs": [],
   "source": []
  },
  {
   "cell_type": "code",
   "execution_count": 21,
   "metadata": {},
   "outputs": [
    {
     "name": "stdout",
     "output_type": "stream",
     "text": [
      "(14800, 64)\n",
      "(200, 64)\n",
      "(200, 64)\n",
      "(100, 64)\n",
      "(700, 64)\n",
      "(600, 64)\n",
      "(500, 64)\n",
      "(800, 64)\n",
      "(800, 64)\n",
      "(1000, 64)\n",
      "(700, 64)\n",
      "(1300, 64)\n",
      "(1300, 64)\n",
      "(1300, 64)\n",
      "(1200, 64)\n",
      "(1600, 64)\n",
      "(1700, 64)\n",
      "(1800, 64)\n",
      "(1800, 64)\n",
      "(1900, 64)\n"
     ]
    }
   ],
   "source": [
    "for item in extracted_data:\n",
    "    if item is None:\n",
    "        print('this is none!')\n",
    "    else:\n",
    "        print(item.shape)"
   ]
  },
  {
   "cell_type": "code",
   "execution_count": 22,
   "metadata": {},
   "outputs": [
    {
     "name": "stdout",
     "output_type": "stream",
     "text": [
      "(8900, 64)\n",
      "this is none!\n",
      "this is none!\n",
      "this is none!\n",
      "this is none!\n",
      "this is none!\n",
      "this is none!\n",
      "this is none!\n",
      "this is none!\n",
      "this is none!\n",
      "this is none!\n",
      "(100, 64)\n",
      "this is none!\n",
      "this is none!\n",
      "this is none!\n",
      "this is none!\n",
      "this is none!\n",
      "this is none!\n",
      "this is none!\n",
      "this is none!\n",
      "this is none!\n",
      "this is none!\n",
      "this is none!\n",
      "this is none!\n",
      "this is none!\n",
      "this is none!\n",
      "this is none!\n",
      "this is none!\n",
      "this is none!\n",
      "this is none!\n",
      "this is none!\n",
      "this is none!\n",
      "this is none!\n",
      "this is none!\n",
      "this is none!\n",
      "this is none!\n",
      "this is none!\n",
      "this is none!\n",
      "this is none!\n",
      "(100, 64)\n",
      "this is none!\n",
      "(100, 64)\n",
      "this is none!\n",
      "this is none!\n",
      "this is none!\n",
      "this is none!\n",
      "this is none!\n",
      "this is none!\n",
      "this is none!\n",
      "this is none!\n",
      "this is none!\n",
      "this is none!\n",
      "this is none!\n",
      "this is none!\n",
      "this is none!\n",
      "this is none!\n",
      "this is none!\n",
      "this is none!\n",
      "this is none!\n",
      "this is none!\n",
      "this is none!\n",
      "this is none!\n",
      "this is none!\n",
      "this is none!\n",
      "(100, 64)\n",
      "this is none!\n",
      "this is none!\n",
      "this is none!\n",
      "this is none!\n",
      "this is none!\n",
      "this is none!\n",
      "this is none!\n",
      "this is none!\n",
      "this is none!\n",
      "this is none!\n",
      "this is none!\n",
      "this is none!\n",
      "this is none!\n",
      "this is none!\n",
      "this is none!\n",
      "this is none!\n",
      "this is none!\n",
      "this is none!\n",
      "this is none!\n",
      "this is none!\n",
      "this is none!\n",
      "this is none!\n",
      "this is none!\n",
      "this is none!\n",
      "this is none!\n",
      "this is none!\n",
      "this is none!\n",
      "this is none!\n",
      "this is none!\n",
      "this is none!\n",
      "this is none!\n",
      "this is none!\n",
      "this is none!\n",
      "this is none!\n",
      "this is none!\n"
     ]
    }
   ],
   "source": [
    "for item in extracted_data2:\n",
    "    if item is None:\n",
    "        print('this is none!')\n",
    "    else:\n",
    "        print(item.shape)"
   ]
  },
  {
   "cell_type": "code",
   "execution_count": 23,
   "metadata": {},
   "outputs": [
    {
     "name": "stdout",
     "output_type": "stream",
     "text": [
      "8900\n"
     ]
    }
   ],
   "source": [
    "for item in [item for item in extracted_data2[:1] if item is not None]:\n",
    "    print(len(item))"
   ]
  },
  {
   "cell_type": "code",
   "execution_count": 30,
   "metadata": {},
   "outputs": [],
   "source": [
    "import numpy as np\n",
    "m=np.concatenate([item for item in extracted_data2[:] if item is not None])"
   ]
  },
  {
   "cell_type": "code",
   "execution_count": 31,
   "metadata": {},
   "outputs": [],
   "source": [
    "import matplotlib.pyplot as plt\n",
    "%matplotlib inline"
   ]
  },
  {
   "cell_type": "code",
   "execution_count": 32,
   "metadata": {},
   "outputs": [
    {
     "data": {
      "text/plain": [
       "(9300, 64)"
      ]
     },
     "execution_count": 32,
     "metadata": {},
     "output_type": "execute_result"
    }
   ],
   "source": [
    "m.shape"
   ]
  },
  {
   "cell_type": "code",
   "execution_count": 35,
   "metadata": {},
   "outputs": [
    {
     "data": {
      "text/plain": [
       "[<matplotlib.lines.Line2D at 0x7f62c66329b0>,\n",
       " <matplotlib.lines.Line2D at 0x7f62c6632b70>,\n",
       " <matplotlib.lines.Line2D at 0x7f62c6632d68>]"
      ]
     },
     "execution_count": 35,
     "metadata": {},
     "output_type": "execute_result"
    },
    {
     "data": {
      "image/png": "[encoded data removed]",
      "text/plain": [
       "<matplotlib.figure.Figure at 0x7f62c7f668d0>"
      ]
     },
     "metadata": {},
     "output_type": "display_data"
    }
   ],
   "source": [
    "plt.plot(m[:2500,10:13])"
   ]
  },
  {
   "cell_type": "code",
   "execution_count": null,
   "metadata": {},
   "outputs": [],
   "source": []
  }
 ],
 "metadata": {
  "kernelspec": {
   "display_name": "Python 3",
   "language": "python",
   "name": "python3"
  },
  "language_info": {
   "codemirror_mode": {
    "name": "ipython",
    "version": 3
   },
   "file_extension": ".py",
   "mimetype": "text/x-python",
   "name": "python",
   "nbconvert_exporter": "python",
   "pygments_lexer": "ipython3",
   "version": "3.6.2"
  }
 },
 "nbformat": 4,
 "nbformat_minor": 2
}
