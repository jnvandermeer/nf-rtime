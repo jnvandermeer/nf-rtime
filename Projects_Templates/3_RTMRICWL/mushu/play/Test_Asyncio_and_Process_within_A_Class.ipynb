{
 "cells": [
  {
   "cell_type": "markdown",
   "metadata": {},
   "source": [
    "## Asyncio + Multiprocessing"
   ]
  },
  {
   "cell_type": "markdown",
   "metadata": {},
   "source": [
    "So this is a test ... to start up a Process and within that process run an event loop\n",
    "that will check status of queues and do some processing with them."
   ]
  },
  {
   "cell_type": "code",
   "execution_count": 20,
   "metadata": {},
   "outputs": [],
   "source": [
    "# killswitch=multiprocessing.Event()\n",
    "\n",
    "class testmyasyncness(multiprocessing.Process):\n",
    "    def __init__(self):\n",
    "        # I have to run this?\n",
    "        super(testmyasyncness, self).__init__()\n",
    "        self.a=1\n",
    "        self.killswitch=multiprocessing.Event()\n",
    "        self.loop=asyncio.get_event_loop()\n",
    "        \n",
    "       \n",
    "    async def print_something(self,string):\n",
    "        while True:\n",
    "            print(string)\n",
    "            await asyncio.sleep(0.5)\n",
    "        \n",
    "    async def check_stop_loop(self):\n",
    "        while not self.killswitch.is_set():\n",
    "            await asyncio.sleep(2)\n",
    "        self.loop.stop()\n",
    "        print('loop stopped')\n",
    "            \n",
    "\n",
    "    async def increase_a(self):\n",
    "        while True:\n",
    "            self.a=self.a+1\n",
    "            print(self.a)\n",
    "            await asyncio.sleep(2)\n",
    "            \n",
    "        \n",
    "    def run(self):\n",
    "        self.loop.create_task(self.print_something('abc'))\n",
    "        self.loop.create_task(self.check_stop_loop())\n",
    "        self.loop.create_task(self.increase_a())\n",
    "        self.loop.run_forever()\n",
    "        \n",
    "    def toggle_killswitch(self):\n",
    "        # so to explain. This is a multiprocessing.Event, that is present ALSO in the separate Process!\n",
    "        # since loop is running in this separate process, it doesn't know about the loop variable here\n",
    "        # because this is still in the Main Process! (or an object in the main process)\n",
    "        # so setting loop.stop() here would not make any sense.\n",
    "        # only thing I can do is setting the killswitch here -> so it'll be passed over to the separated\n",
    "        # process --> so it'll stop it in the spearate proces.\n",
    "        # all process started in this cell will still have their output transferred to this output.\n",
    "        self.killswitch.set()\n",
    "\n",
    "        "
   ]
  },
  {
   "cell_type": "code",
   "execution_count": 21,
   "metadata": {},
   "outputs": [],
   "source": [
    "Curator=testmyasyncness()"
   ]
  },
  {
   "cell_type": "code",
   "execution_count": 22,
   "metadata": {},
   "outputs": [
    {
     "name": "stdout",
     "output_type": "stream",
     "text": [
      "abc\n",
      "2\n",
      "abc\n",
      "abc\n",
      "abc\n",
      "3\n",
      "abc\n",
      "abc\n",
      "abc\n",
      "abc\n",
      "4\n",
      "abc\n",
      "abc\n",
      "abc\n",
      "abc\n",
      "5\n",
      "abc\n",
      "abc\n",
      "abc\n",
      "abc\n",
      "loop stopped\n"
     ]
    }
   ],
   "source": [
    "Curator.start()"
   ]
  },
  {
   "cell_type": "code",
   "execution_count": 23,
   "metadata": {},
   "outputs": [],
   "source": [
    "Curator.toggle_killswitch()"
   ]
  },
  {
   "cell_type": "code",
   "execution_count": null,
   "metadata": {},
   "outputs": [],
   "source": []
  }
 ],
 "metadata": {
  "kernelspec": {
   "display_name": "Python 3",
   "language": "python",
   "name": "python3"
  },
  "language_info": {
   "codemirror_mode": {
    "name": "ipython",
    "version": 3
   },
   "file_extension": ".py",
   "mimetype": "text/x-python",
   "name": "python",
   "nbconvert_exporter": "python",
   "pygments_lexer": "ipython3",
   "version": "3.6.2"
  }
 },
 "nbformat": 4,
 "nbformat_minor": 2
}
