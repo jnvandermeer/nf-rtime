{
 "cells": [
  {
   "cell_type": "code",
   "execution_count": 1,
   "metadata": {},
   "outputs": [],
   "source": [
    "# import all the needed stuff:\n",
    "\n",
    "import time\n",
    "import sys\n",
    "import numpy as np \n",
    "import matplotlib\n",
    "import matplotlib.pyplot as plt\n",
    "\n",
    "import easygui  # popup windows with buttons made easy\n",
    "import mne  # EEGLAB for python\n",
    "from IPython.display import clear_output  # to clear the cell output during while loop\n",
    "import re  # regular expressions\n",
    "import pickle  # to save/load data\n",
    "import dynarray  # a growing numpy array\n",
    "\n",
    "import logging\n",
    "logging.basicConfig(level=logging.ERROR)\n",
    "\n",
    "sys.path.append(\"../../mushu\")  # driver for the amps\n",
    "sys.path.append(\"../../mushu/libmushu\")\n",
    "import libmushu\n",
    "\n",
    "sys.path.append(\"../../nftools\")  # handy stuff needed for NF\n",
    "from nftools.loopcontrol import LoopState\n",
    "from nftools.analysis import convert_alld_allm_to_mne\n",
    "from nftools.analysis import select_part_from_mne_dataset\n",
    "from nftools.analysis import plot_compare_two_spectra\n",
    "\n",
    "\n",
    "sys.path.append(\"../../wyrm\")  # real-time data analysis\n",
    "from wyrm.types import RingBuffer\n",
    "from wyrm.types import BlockBuffer\n",
    "from wyrm import io\n",
    "from wyrm import processing as proc\n",
    "\n",
    "import scipy\n",
    "from scipy import signal\n",
    "\n",
    "from collections import deque  # a FILO list useful for plotting!"
   ]
  },
  {
   "cell_type": "code",
   "execution_count": 2,
   "metadata": {},
   "outputs": [],
   "source": [
    "from rtfilters import RESAMPLESAFE"
   ]
  },
  {
   "cell_type": "code",
   "execution_count": 3,
   "metadata": {},
   "outputs": [
    {
     "name": "stdout",
     "output_type": "stream",
     "text": [
      "{'fs_source': 100, 'fs_target': 23}\n"
     ]
    }
   ],
   "source": [
    "rs=RESAMPLESAFE(4347826,23)"
   ]
  },
  {
   "cell_type": "code",
   "execution_count": 16,
   "metadata": {},
   "outputs": [
    {
     "name": "stderr",
     "output_type": "stream",
     "text": [
      "/home/johan/.conda/envs/rt/lib/python3.6/site-packages/line_profiler.py:321: UserWarning: Could not extract a code object for the object <built-in method random_sample of mtrand.RandomState object at 0x7f2ab23fbf30>\n",
      "  profile = LineProfiler(*funcs)\n"
     ]
    },
    {
     "data": {
      "text/plain": [
       "Timer unit: 1e-06 s"
      ]
     },
     "metadata": {},
     "output_type": "display_data"
    }
   ],
   "source": [
    "%lprun -f np.random.random data=np.random.random((4347826,4))"
   ]
  },
  {
   "cell_type": "code",
   "execution_count": 17,
   "metadata": {},
   "outputs": [
    {
     "data": {
      "text/plain": [
       "4.3478260869565215"
      ]
     },
     "execution_count": 17,
     "metadata": {},
     "output_type": "execute_result"
    },
    {
     "data": {
      "text/plain": [
       "Timer unit: 1e-06 s\n",
       "\n",
       "Total time: 0.747591 s\n",
       "File: /home/johan/nf/nf-rtime/Projects_Templates/3_RTMRICWL/rtfilters.py\n",
       "Function: handle at line 1048\n",
       "\n",
       "Line #      Hits         Time  Per Hit   % Time  Line Contents\n",
       "==============================================================\n",
       "  1048                                               def handle(self, data):\n",
       "  1049                                                   \n",
       "  1050                                           \n",
       "  1051                                                   # first we buffer it:        \n",
       "  1052         1          2.0      2.0      0.0          if not self.gotfirstdata:\n",
       "  1053                                                       self.gotfirstdata=True\n",
       "  1054                                                       self.buff=data\n",
       "  1055                                                       \n",
       "  1056                                                       # what is the empty data look like?\n",
       "  1057                                                       dimx, dimy = data.shape\n",
       "  1058                                                       \n",
       "  1059                                                       self.empty_data = np.empty((0, dimy))\n",
       "  1060                                                       \n",
       "  1061                                                   else:\n",
       "  1062         1      92405.0  92405.0     12.4              self.buff=np.concatenate((self.buff, data))\n",
       "  1063                                           \n",
       "  1064                                           \n",
       "  1065         1          9.0      9.0      0.0          data_i = self.buff.shape[0]        \n",
       "  1066         1         16.0     16.0      0.0          max_i = int(data_i // self.frac_downsample)\n",
       "  1067                                                   # then - we get the stuff we need:\n",
       "  1068                                                   \n",
       "  1069         1          2.0      2.0      0.0          if max_i > 0:\n",
       "  1070         1     548184.0 548184.0     73.3              indices = [int(x * self.frac_downsample) for x in range(max_i)]\n",
       "  1071                                                       \n",
       "  1072                                                       \n",
       "  1073         1      98345.0  98345.0     13.2              to_return = self.buff[indices,:]\n",
       "  1074                                                       \n",
       "  1075         1         67.0     67.0      0.0              to_keep = self.buff[range(indices[-1]+round(self.frac_downsample),data_i),:]\n",
       "  1076                                                       \n",
       "  1077         1       8553.0   8553.0      1.1              self.buff = to_keep\n",
       "  1078                                                       \n",
       "  1079                                                   else:\n",
       "  1080                                                       to_return = self.empty_data\n",
       "  1081                                                   \n",
       "  1082         1          8.0      8.0      0.0          return self.rtfilter.handle(to_return)"
      ]
     },
     "metadata": {},
     "output_type": "display_data"
    }
   ],
   "source": [
    "%lprun -f rs.handle newd=rs.handle(data)\n",
    "rs.frac_downsample"
   ]
  },
  {
   "cell_type": "code",
   "execution_count": 5,
   "metadata": {},
   "outputs": [
    {
     "name": "stdout",
     "output_type": "stream",
     "text": [
      "(4347826, 4)\n",
      "(999999, 4)\n"
     ]
    }
   ],
   "source": [
    "data=np.random.random((4347826,4))\n",
    "newd=rs.handle(data)\n",
    "\n",
    "print(data.shape)\n",
    "print(newd.shape)"
   ]
  },
  {
   "cell_type": "code",
   "execution_count": 12,
   "metadata": {},
   "outputs": [],
   "source": [
    "%load_ext line_profiler"
   ]
  },
  {
   "cell_type": "code",
   "execution_count": 6,
   "metadata": {},
   "outputs": [
    {
     "data": {
      "text/plain": [
       "array([[0.30601223, 0.3416043 , 0.57873635, 0.29688392],\n",
       "       [0.07591791, 0.63428774, 0.69580232, 0.39305442],\n",
       "       [0.88612023, 0.90906901, 0.16952962, 0.08095605],\n",
       "       [0.64914907, 0.17069794, 0.16666645, 0.38792515],\n",
       "       [0.8047755 , 0.469481  , 0.53985557, 0.73632331]])"
      ]
     },
     "execution_count": 6,
     "metadata": {},
     "output_type": "execute_result"
    }
   ],
   "source": [
    "rs.buff"
   ]
  },
  {
   "cell_type": "code",
   "execution_count": 7,
   "metadata": {},
   "outputs": [
    {
     "name": "stdout",
     "output_type": "stream",
     "text": [
      "(101, 4)\n",
      "(24, 4)\n"
     ]
    }
   ],
   "source": [
    "data=np.random.random((101,4))\n",
    "newd=rs.handle(data)\n",
    "\n",
    "print(data.shape)\n",
    "print(newd.shape)"
   ]
  },
  {
   "cell_type": "code",
   "execution_count": 8,
   "metadata": {},
   "outputs": [
    {
     "data": {
      "text/plain": [
       "array([[0.62408367, 0.18135189, 0.48245638, 0.03506704],\n",
       "       [0.4139191 , 0.99425443, 0.31924764, 0.38368729]])"
      ]
     },
     "execution_count": 8,
     "metadata": {},
     "output_type": "execute_result"
    }
   ],
   "source": [
    "rs.buff"
   ]
  },
  {
   "cell_type": "code",
   "execution_count": 9,
   "metadata": {},
   "outputs": [
    {
     "name": "stdout",
     "output_type": "stream",
     "text": [
      "(5, 4)\n",
      "(1, 4)\n"
     ]
    }
   ],
   "source": [
    "data=np.random.random((5,4))\n",
    "newd=rs.handle(data)\n",
    "\n",
    "print(data.shape)\n",
    "print(newd.shape)"
   ]
  },
  {
   "cell_type": "code",
   "execution_count": 18,
   "metadata": {},
   "outputs": [
    {
     "name": "stdout",
     "output_type": "stream",
     "text": [
      "(1, 4)\n",
      "(0, 4)\n"
     ]
    }
   ],
   "source": [
    "data=np.random.random((1,4))\n",
    "newd=rs.handle(data)\n",
    "\n",
    "print(data.shape)\n",
    "print(newd.shape)"
   ]
  },
  {
   "cell_type": "code",
   "execution_count": 19,
   "metadata": {},
   "outputs": [
    {
     "data": {
      "text/plain": [
       "(3, 4)"
      ]
     },
     "execution_count": 19,
     "metadata": {},
     "output_type": "execute_result"
    }
   ],
   "source": [
    "rs.buff.shape"
   ]
  },
  {
   "cell_type": "code",
   "execution_count": null,
   "metadata": {},
   "outputs": [],
   "source": []
  }
 ],
 "metadata": {
  "kernelspec": {
   "display_name": "Python 3",
   "language": "python",
   "name": "python3"
  },
  "language_info": {
   "codemirror_mode": {
    "name": "ipython",
    "version": 3
   },
   "file_extension": ".py",
   "mimetype": "text/x-python",
   "name": "python",
   "nbconvert_exporter": "python",
   "pygments_lexer": "ipython3",
   "version": "3.6.6"
  }
 },
 "nbformat": 4,
 "nbformat_minor": 2
}
