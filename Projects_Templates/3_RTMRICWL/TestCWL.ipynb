{
 "cells": [
  {
   "cell_type": "markdown",
   "metadata": {},
   "source": [
    "# Replaying Old Data\n",
    "\n",
    "- Work under a separate branch with git (i.e. git checkout -b my-new-branch)\n",
    "\n",
    "- Make a new folder in Projects (for your specific purposes)\n",
    "\n",
    "- Copy this ipynb file that folder\n",
    "\n",
    "- The data is stored on L-Drive\n",
    "\n",
    "- the main gist of re-playing existing data is:\n",
    "    - that your first load everything into a big matrix with mne\n",
    "    - then initialize a specific **amp** (i.e., the \"replayamp\")\n",
    "    - then do exactly the same as normal, with a while True loop with calls to amp.get_data()\n",
    "    "
   ]
  },
  {
   "cell_type": "code",
   "execution_count": 1,
   "metadata": {},
   "outputs": [],
   "source": [
    "# import all the needed stuff:\n",
    "\n",
    "import time\n",
    "import sys\n",
    "import numpy as np \n",
    "import matplotlib\n",
    "import matplotlib.pyplot as plt\n",
    "\n",
    "import easygui  # popup windows with buttons made easy\n",
    "import mne  # EEGLAB for python\n",
    "from IPython.display import clear_output  # to clear the cell output during while loop\n",
    "import re  # regular expressions\n",
    "import pickle  # to save/load data\n",
    "import dynarray  # a growing numpy array\n",
    "\n",
    "import logging\n",
    "logging.basicConfig(level=logging.ERROR)\n",
    "\n",
    "sys.path.append(\"../../mushu\")  # driver for the amps\n",
    "sys.path.append(\"../../mushu/libmushu\")\n",
    "import libmushu\n",
    "\n",
    "sys.path.append(\"../../nftools\")  # handy stuff needed for NF\n",
    "from nftools.loopcontrol import LoopState\n",
    "from nftools.analysis import convert_alld_allm_to_mne\n",
    "from nftools.analysis import select_part_from_mne_dataset\n",
    "from nftools.analysis import plot_compare_two_spectra\n",
    "\n",
    "\n",
    "sys.path.append(\"../../wyrm\")  # real-time data analysis\n",
    "from wyrm.types import RingBuffer\n",
    "from wyrm.types import BlockBuffer\n",
    "from wyrm import io\n",
    "from wyrm import processing as proc\n",
    "\n",
    "import scipy\n",
    "from scipy import signal\n",
    "\n",
    "from collections import deque  # a FILO list useful for plotting!"
   ]
  },
  {
   "cell_type": "code",
   "execution_count": 2,
   "metadata": {},
   "outputs": [
    {
     "name": "stdout",
     "output_type": "stream",
     "text": [
      "eoec_withsins_30hT.set\n",
      "The following EEG sensors did not have a position specified in the selected montage: ['ECG', 'CW6', 'CW5', 'CW4', 'CW3', 'CW2', 'CW1']. Their position has been left untouched.\n",
      "The data contains 'boundary' events, indicating data discontinuities. Be cautious of filtering and epoching around these events.\n",
      "Events like the following will be dropped entirely: ['eec', 'eeo', 'bec', 'qrs', 'boundary'], 6 in total\n",
      "249/249 event codes could not be mapped to integers. Use the 'event_id' parameter to map such events manually.\n",
      "As is, the trigger channel will consist entirely of zeros.\n",
      "Data will be preloaded. preload=False or a string preload is not supported when the data is stored in the .set file\n",
      "The following EEG sensors did not have a position specified in the selected montage: ['ECG', 'CW6', 'CW5', 'CW4', 'CW3', 'CW2', 'CW1']. Their position has been left untouched.\n"
     ]
    },
    {
     "name": "stderr",
     "output_type": "stream",
     "text": [
      "<ipython-input-2-aa94fbff52fb>:9: RuntimeWarning: The following EEG sensors did not have a position specified in the selected montage: ['ECG', 'CW6', 'CW5', 'CW4', 'CW3', 'CW2', 'CW1']. Their position has been left untouched.\n",
      "  raw_fromfile = mne.io.read_raw_eeglab(fn)\n",
      "<ipython-input-2-aa94fbff52fb>:9: RuntimeWarning: The data contains 'boundary' events, indicating data discontinuities. Be cautious of filtering and epoching around these events.\n",
      "  raw_fromfile = mne.io.read_raw_eeglab(fn)\n",
      "<ipython-input-2-aa94fbff52fb>:9: RuntimeWarning: Events like the following will be dropped entirely: ['eec', 'eeo', 'bec', 'qrs', 'boundary'], 6 in total\n",
      "  raw_fromfile = mne.io.read_raw_eeglab(fn)\n",
      "<ipython-input-2-aa94fbff52fb>:9: RuntimeWarning: 249/249 event codes could not be mapped to integers. Use the 'event_id' parameter to map such events manually.\n",
      "  raw_fromfile = mne.io.read_raw_eeglab(fn)\n",
      "<ipython-input-2-aa94fbff52fb>:9: RuntimeWarning: As is, the trigger channel will consist entirely of zeros.\n",
      "  raw_fromfile = mne.io.read_raw_eeglab(fn)\n",
      "<ipython-input-2-aa94fbff52fb>:9: RuntimeWarning: Data will be preloaded. preload=False or a string preload is not supported when the data is stored in the .set file\n",
      "  raw_fromfile = mne.io.read_raw_eeglab(fn)\n",
      "<ipython-input-2-aa94fbff52fb>:11: RuntimeWarning: The following EEG sensors did not have a position specified in the selected montage: ['ECG', 'CW6', 'CW5', 'CW4', 'CW3', 'CW2', 'CW1']. Their position has been left untouched.\n",
      "  raw_fromfile.set_montage(montage)\n"
     ]
    },
    {
     "data": {
      "text/plain": [
       "<RawEEGLAB  |  None, n_channels x n_times : 39 x 200840 (200.8 sec), ~59.9 MB, data loaded>"
      ]
     },
     "execution_count": 2,
     "metadata": {},
     "output_type": "execute_result"
    }
   ],
   "source": [
    "# this is the replay notebook - so select a file for playback - this is for eeglab files.\n",
    "\n",
    "#fn=easygui.fileopenbox(default='*.set')\n",
    "#fn='trial_data_for_mri_cwl_development_withtrend.set'\n",
    "fn='eoec_withsins_30hT.set'\n",
    "#fn='trio2_eoec_outside_before.set'\n",
    "print(fn)\n",
    "\n",
    "raw_fromfile = mne.io.read_raw_eeglab(fn)\n",
    "montage=mne.channels.read_montage('standard_1005', ch_names=raw_fromfile.ch_names)  # always use MNE definitions\n",
    "raw_fromfile.set_montage(montage)"
   ]
  },
  {
   "cell_type": "code",
   "execution_count": 3,
   "metadata": {},
   "outputs": [],
   "source": [
    "# properties of the recording, and some properties of the While Loop:\n",
    "fs = raw_fromfile.info['sfreq']\n",
    "nbchan = raw_fromfile.info['nchan']-1\n",
    "updateTime = 0.1  # run some kind of calculation every X seconds\n",
    "buffSize = 1.0  # run calculation on last X seconds of data"
   ]
  },
  {
   "cell_type": "code",
   "execution_count": 4,
   "metadata": {},
   "outputs": [],
   "source": [
    "# preparation to plot stuff in real time:\n",
    "%matplotlib qt5 \n",
    "plt.ion()  # enable widget plots & interactive plots\n",
    "\n",
    "time_in_plot=2.0  # how much time in x-axis\n",
    "sy1=deque(np.zeros(round(fs * time_in_plot)), round(fs * time_in_plot))  # for plotting - the FILO list\n",
    "sy2=deque(np.zeros(round(fs * time_in_plot)), round(fs * time_in_plot))  # for plotting - the FILO list\n",
    "\n",
    "channel_to_plot=1\n",
    "sx = np.linspace(0, time_in_plot, round(fs * time_in_plot))\n"
   ]
  },
  {
   "cell_type": "code",
   "execution_count": 5,
   "metadata": {},
   "outputs": [],
   "source": [
    "# real-time data filtering -- high-pass filter (of 1.0 Hz)\n",
    "\n",
    "f_low = 1.0\n",
    "# f_high = 15.0\n",
    "butter_ord = 3\n",
    "lenchannels = nbchan\n",
    "\n",
    "#rt_b, rt_a = signal.butter(butter_ord, [f_low / fn, f_high / fn], btype='band')\n",
    "rt_b_hp, rt_a_hp = signal.butter(butter_ord, 2*f_low/fs, btype='high', analog=False)  # a digital high-pass filter\n",
    "rt_zi_hp = proc.lfilter_zi(rt_b_hp, rt_a_hp, lenchannels)\n"
   ]
  },
  {
   "cell_type": "code",
   "execution_count": 6,
   "metadata": {},
   "outputs": [],
   "source": [
    "# real-time data filtering -- band-pass filter (of 12.0 - 15.0 Hz)\n",
    "\n",
    "f_low = 12.0\n",
    "f_high = 15.0\n",
    "butter_ord = 3\n",
    "lenchannels = nbchan\n",
    "\n",
    "#rt_b, rt_a = signal.butter(butter_ord, [f_low / fn, f_high / fn], btype='band')\n",
    "rt_b_bp, rt_a_bp = signal.butter(butter_ord, [2*f_low/fs, 2*f_high/fs], btype='band', analog=False)  # a digital high-pass filter\n",
    "rt_zi_bp = proc.lfilter_zi(rt_b_bp, rt_a_bp, lenchannels)"
   ]
  },
  {
   "cell_type": "code",
   "execution_count": 7,
   "metadata": {},
   "outputs": [],
   "source": [
    "# prepare data for replay (warning: need probably a lot of memory)\n",
    "\n",
    "mul_factor = 1.0\n",
    "if 1e-6 in [raw_fromfile.info['chs'][0]['cal'], raw_fromfile.info['chs'][0]['range']]:\n",
    "    mul_factor = 1.0 / 1e-6\n",
    "\n",
    "seed_d=raw_fromfile[:-1,:][0] * mul_factor  # scale the data to seed (so no 1e-6 stuff in the replayed data)\n",
    "seed_d=np.array(seed_d.transpose())\n",
    "seed_ch=raw_fromfile.ch_names[0:-1]\n",
    "seed_fs=raw_fromfile.info['sfreq']\n",
    "\n",
    "# prepare for replay; markers:\n",
    "seed_mdata=np.transpose(raw_fromfile[-1,:][0])\n",
    "seed_m=[[i / raw_fromfile.info['sfreq'] * 1000, int(m[0])] for i, m in enumerate(seed_mdata) if m > 0] "
   ]
  },
  {
   "cell_type": "code",
   "execution_count": 8,
   "metadata": {},
   "outputs": [],
   "source": [
    "amp = libmushu.get_amp('replayamp')\n",
    "amp.configure(seed_d, seed_m, seed_ch, seed_fs, realtime=True, blocksize_samples=20)"
   ]
  },
  {
   "cell_type": "code",
   "execution_count": 9,
   "metadata": {},
   "outputs": [],
   "source": [
    "from rtfilters import HPF, LPF, BPF, MR, CWL"
   ]
  },
  {
   "cell_type": "code",
   "execution_count": 10,
   "metadata": {},
   "outputs": [
    {
     "name": "stdout",
     "output_type": "stream",
     "text": [
      "{'f': 1.0, 'fs': 5000, 'order': 3, 'nbchan': 38}\n",
      "{'f': 1.0, 'fs': 5000, 'order': 3, 'nbchan': 38}\n",
      "{'f': [12.0, 15.0], 'fs': 5000, 'order': 3, 'nbchan': 38}\n",
      "{'trsamples': 9750, 'N_thr': 5, 'corr_thr': 0.995, 'forget': 5, 'highpass': [3, 1.0, 5000]}\n",
      "{'seconds_in_window': 6.0, 'tdelay': 0.05, 'icws': [36, 37], 'ichs': [0, 1], 'fs': 1000, 'highpass': []}\n"
     ]
    }
   ],
   "source": [
    "hpf=HPF(f=1.0, fs=5000, order=3, nbchan=38)\n",
    "lpf=LPF(f=1.0, fs=5000, order=3, nbchan=38)\n",
    "bpf=BPF(f=[12.0, 15.0], fs=5000, order=3, nbchan=38)\n",
    "#mr=MR(trsamples=10000, N_thr=5, corr_thr = 0.995, forget=6)\n",
    "mr=MR(trsamples=9750, N_thr=5, corr_thr = 0.995, forget=5, highpass=[3, 1.0, 5000])\n",
    "\n",
    "cwl=CWL(seconds_in_window=6.0, tdelay=0.050, ichs=[0, 1], icws=[36,37], fs=1000, highpass=[])\n",
    "\n",
    "# there are several recommendations to follow when building your MRI artifact removal.\n",
    "# it IS possible to do DC measurements in the MRI, but signal quality of MRI correction will suffer (only a little bit!) due to necessity of\n",
    "# applying HPF on data for MRI artifact considerations, and absence of any filter on the data that is corrected.\n",
    "# better to use hpf separately on data --> THEN MRI correction without any filters, than NO hpf and using hpf within the mr correction\n",
    "# however, the latter I still implement in case of SCP NF - when you have to use the second option."
   ]
  },
  {
   "cell_type": "code",
   "execution_count": 11,
   "metadata": {},
   "outputs": [
    {
     "data": {
      "text/plain": [
       "1000.0"
      ]
     },
     "execution_count": 11,
     "metadata": {},
     "output_type": "execute_result"
    }
   ],
   "source": [
    "amp.get_sampling_frequency()"
   ]
  },
  {
   "cell_type": "code",
   "execution_count": 12,
   "metadata": {},
   "outputs": [],
   "source": [
    "amp.start()"
   ]
  },
  {
   "cell_type": "code",
   "execution_count": 1,
   "metadata": {},
   "outputs": [
    {
     "ename": "NameError",
     "evalue": "name 'dynarray' is not defined",
     "output_type": "error",
     "traceback": [
      "\u001b[0;31m---------------------------------------------------------------------------\u001b[0m",
      "\u001b[0;31mNameError\u001b[0m                                 Traceback (most recent call last)",
      "\u001b[0;32m<ipython-input-1-cdab3f758538>\u001b[0m in \u001b[0;36m<module>\u001b[0;34m()\u001b[0m\n\u001b[0;32m----> 1\u001b[0;31m \u001b[0malld\u001b[0m\u001b[0;34m=\u001b[0m\u001b[0mdynarray\u001b[0m\u001b[0;34m.\u001b[0m\u001b[0mDynamicArray\u001b[0m\u001b[0;34m(\u001b[0m\u001b[0;34m(\u001b[0m\u001b[0;32mNone\u001b[0m\u001b[0;34m,\u001b[0m \u001b[0mlen\u001b[0m\u001b[0;34m(\u001b[0m\u001b[0mamp\u001b[0m\u001b[0;34m.\u001b[0m\u001b[0mget_channels\u001b[0m\u001b[0;34m(\u001b[0m\u001b[0;34m)\u001b[0m\u001b[0;34m)\u001b[0m\u001b[0;34m)\u001b[0m\u001b[0;34m)\u001b[0m     \u001b[0;31m# the growing numpy data matrix\u001b[0m\u001b[0;34m\u001b[0m\u001b[0m\n\u001b[0m\u001b[1;32m      2\u001b[0m \u001b[0mallm\u001b[0m\u001b[0;34m=\u001b[0m\u001b[0;34m[\u001b[0m\u001b[0;34m]\u001b[0m     \u001b[0;31m# markers\u001b[0m\u001b[0;34m\u001b[0m\u001b[0m\n\u001b[1;32m      3\u001b[0m \u001b[0msfreq\u001b[0m \u001b[0;34m=\u001b[0m \u001b[0mamp\u001b[0m\u001b[0;34m.\u001b[0m\u001b[0mget_sampling_frequency\u001b[0m\u001b[0;34m(\u001b[0m\u001b[0;34m)\u001b[0m  \u001b[0;31m# sampling frequency\u001b[0m\u001b[0;34m\u001b[0m\u001b[0m\n\u001b[1;32m      4\u001b[0m \u001b[0mch_names\u001b[0m\u001b[0;34m=\u001b[0m\u001b[0mamp\u001b[0m\u001b[0;34m.\u001b[0m\u001b[0mget_channels\u001b[0m\u001b[0;34m(\u001b[0m\u001b[0;34m)\u001b[0m  \u001b[0;31m# channel names\u001b[0m\u001b[0;34m\u001b[0m\u001b[0m\n\u001b[1;32m      5\u001b[0m \u001b[0;34m\u001b[0m\u001b[0m\n",
      "\u001b[0;31mNameError\u001b[0m: name 'dynarray' is not defined"
     ]
    }
   ],
   "source": [
    "alld=dynarray.DynamicArray((None, len(amp.get_channels())))     # the growing numpy data matrix\n",
    "allm=[]     # markers\n",
    "sfreq = amp.get_sampling_frequency()  # sampling frequency\n",
    "ch_names=amp.get_channels()  # channel names\n",
    "\n",
    "rb = RingBuffer(buffSize * 1000)  # the buffer containing the last X seconds of data - declared in MILISECONDS\n",
    "totalTime = seed_d.shape[0]/raw_fromfile.info['sfreq']\n",
    "\n",
    "fig=plt.figure()  # plotting...\n",
    "th=fig.suptitle('')\n",
    "ah1=fig.add_subplot(121)\n",
    "ah2=fig.add_subplot(122)\n",
    "l1, = ah1.plot(sx, sy1)\n",
    "l2, = ah2.plot(sx, sy2)\n",
    "\n",
    "\n",
    "# l=LoopState(); l.start()\n",
    "markeroffset = 0  # needed to store all data in one big mat/vector\n",
    "t0=time.time()\n",
    "curTime=time.time()\n",
    "markTime=time.time()\n",
    "st=''\n",
    "i=0; fnames=[] # for making a movie...\n",
    "while curTime - t0 < totalTime:  # l.get_state() != 'Stop':\n",
    "   \n",
    "    \n",
    "    # keep track of time:\n",
    "    curTime = time.time()\n",
    "    \n",
    "    # this is where you get the data\n",
    "    data, marker = amp.get_data()\n",
    "    \n",
    "    \n",
    "    if data.shape[0] > 0:  # this is crucial for remembering filter state.\n",
    "\n",
    "\n",
    "        #data2=lpf.handle(data)\n",
    "        data3=hpf.handle(data)\n",
    "        data4=mr.handle(data)\n",
    "        data5=cwl.handle(data)\n",
    "        \n",
    "        # something like this:\n",
    "        #filterchain = [HPFilter, MRFilter, LPFilter, ResampleFilter, HPFilter, CWLFilter]\n",
    "        \n",
    "        #corr_data = ProcessFilters(chain, (data, marker))\n",
    "        \n",
    "        \n",
    "        # use case -- first using the MR Corrector\n",
    "        #mr_data = MRFilter.filter(data)\n",
    "\n",
    "        # then -- using the CWL corrector\n",
    "        #cwl_mr_data = CWLFilter.filter(data)\n",
    "\n",
    "        \n",
    "        #dataf, rt_zi_bp = signal.lfilter(rt_b_bp, rt_a_bp, data, axis=0, zi=rt_zi_bp)  # how to operate directly on the data\n",
    "        \n",
    "        cnt = io.convert_mushu_data(data, marker, sfreq, ch_names)\n",
    "        f_cnt = io.convert_mushu_data(data5, marker, sfreq, ch_names)\n",
    "\n",
    "        # f_cnt, rt_zi_bp = proc.lfilter(cnt, rt_b_bp, rt_a_bp, zi=rt_zi_bp)  # real-time data preprocessing...\n",
    "\n",
    "        # plotting...\n",
    "        sy1.extend(cnt.data[:,channel_to_plot])  # to visualize/plot -- s1 and s2 are deque's\n",
    "        sy2.extend(f_cnt.data[:,channel_to_plot])\n",
    "        \n",
    "        l1.set_ydata(sy1)\n",
    "        l2.set_ydata(sy2)\n",
    "        msy1=np.mean(sy1)\n",
    "        msy2=np.mean(sy2)\n",
    "        ah1.set_ylim(-1000+msy1, 1000+msy1)\n",
    "        ah2.set_ylim(-2+msy2, 2+msy2)\n",
    "\n",
    "        fig.canvas.draw()\n",
    "        fig.canvas.flush_events()\n",
    "\n",
    "        i+=1; fname = '_tmp%03d.png' % i; plt.savefig(fname); fnames.append(fname)\n",
    "        \n",
    "        # currently has no purpose\n",
    "        newsamples = cnt.data.shape[0]\n",
    "\n",
    "        # append to ringbuffer, so we can calculate features later on on the last N secs/samples of data.\n",
    "        rb.append(f_cnt)\n",
    "\n",
    "        # append it to the big matrix, for saving later on with pickle.\n",
    "        alld.extend(data4)\n",
    "        for m in marker:\n",
    "            allm.append([m[0] + markeroffset, m[1]])\n",
    "        markeroffset += newsamples / float(sfreq) * 1000.\n",
    "        \n",
    "\n",
    "\n",
    "        # do the following every 0.1 msec - with with the ringbuffer:\n",
    "        if curTime - markTime > updateTime:\n",
    "            # do Stuff\n",
    "\n",
    "            markTime = curTime\n",
    "            # 1) obtain last 1-second(s)\n",
    "            d = rb.get()\n",
    "\n",
    "            \n",
    "\n",
    "            # clear_output(wait=True)  # write some logging information here\n",
    "            # clear_output clear the output of the cell, but if you do that you also remove the figures, it seems\n",
    "            # so don't do it!\n",
    "            str1 = 'Playing Back - time = %f' % (curTime - t0)\n",
    "            str2 = 'Length Markers: %d' % len(allm)\n",
    "            str3 = '%d, %d' % data.shape\n",
    "            #str4 = 'Feature Value: %f' % feature\n",
    "            #str5 = 'Scaled Signal for NF: %f' % signalToSend\n",
    "            #print(str1 + '\\n' + str2 + '\\n' + str3 + '\\n' + str4 + '\\n' + str5)\n",
    "            \n",
    "            # print('Length Markers: %d' % len(allm))\n",
    "            # print(data.shape)\n",
    "            th.set_text(str1 + '\\n' + str2 + '\\n' +str3)\n",
    "            #featureth.set_text(str4 + '\\n' + str5)\n",
    "\n",
    "\n",
    "\n"
   ]
  },
  {
   "cell_type": "code",
   "execution_count": null,
   "metadata": {},
   "outputs": [],
   "source": []
  },
  {
   "cell_type": "code",
   "execution_count": 2,
   "metadata": {},
   "outputs": [],
   "source": [
    "import subprocess\n",
    "print('Making movie animation.mpg - this may take a while')\n",
    "subprocess.call(\"mencoder 'mf://_tmp*.png' -mf type=png:fps=10 -ovc lavc \"\n",
    "                \"-lavcopts vcodec=wmv2 -oac copy -o animation.mpg\", shell=True)"
   ]
  },
  {
   "cell_type": "code",
   "execution_count": 15,
   "metadata": {},
   "outputs": [
    {
     "data": {
      "text/plain": [
       "(280, 2)"
      ]
     },
     "execution_count": 15,
     "metadata": {},
     "output_type": "execute_result"
    }
   ],
   "source": [
    "data5.shape"
   ]
  },
  {
   "cell_type": "code",
   "execution_count": null,
   "metadata": {},
   "outputs": [],
   "source": [
    "import matplotlib.pyplot as plt"
   ]
  },
  {
   "cell_type": "code",
   "execution_count": null,
   "metadata": {},
   "outputs": [],
   "source": [
    "np.matrix"
   ]
  },
  {
   "cell_type": "code",
   "execution_count": 2,
   "metadata": {},
   "outputs": [
    {
     "data": {
      "text/plain": [
       "'/home/johan/.conda/envs/rt/bin/python'"
      ]
     },
     "execution_count": 2,
     "metadata": {},
     "output_type": "execute_result"
    }
   ],
   "source": [
    "sys.executable"
   ]
  },
  {
   "cell_type": "code",
   "execution_count": 3,
   "metadata": {},
   "outputs": [],
   "source": [
    "import numpy as np"
   ]
  },
  {
   "cell_type": "code",
   "execution_count": null,
   "metadata": {},
   "outputs": [],
   "source": [
    "np.ndarray"
   ]
  },
  {
   "cell_type": "code",
   "execution_count": 6,
   "metadata": {},
   "outputs": [],
   "source": [
    "m=np.random.random((3,3))"
   ]
  },
  {
   "cell_type": "code",
   "execution_count": null,
   "metadata": {},
   "outputs": [],
   "source": [
    "np.random.random((3,3)).copy"
   ]
  },
  {
   "cell_type": "code",
   "execution_count": 20,
   "metadata": {},
   "outputs": [
    {
     "data": {
      "text/plain": [
       "<Figure size 640x480 with 0 Axes>"
      ]
     },
     "execution_count": 20,
     "metadata": {},
     "output_type": "execute_result"
    }
   ],
   "source": [
    "plt.figure()"
   ]
  },
  {
   "cell_type": "code",
   "execution_count": 22,
   "metadata": {},
   "outputs": [
    {
     "data": {
      "text/plain": [
       "[<matplotlib.lines.Line2D at 0x7f85cdf79080>,\n",
       " <matplotlib.lines.Line2D at 0x7f85cdf79c88>,\n",
       " <matplotlib.lines.Line2D at 0x7f85cdf79dd8>]"
      ]
     },
     "execution_count": 22,
     "metadata": {},
     "output_type": "execute_result"
    }
   ],
   "source": [
    "plt.plot(cwl.betas[-1][::4,:])"
   ]
  },
  {
   "cell_type": "code",
   "execution_count": 17,
   "metadata": {},
   "outputs": [
    {
     "data": {
      "text/plain": [
       "array([[ 0.00000000e+00,  0.00000000e+00,  0.00000000e+00],\n",
       "       [ 0.00000000e+00,  0.00000000e+00,  0.00000000e+00],\n",
       "       [ 0.00000000e+00,  0.00000000e+00,  0.00000000e+00],\n",
       "       [ 0.00000000e+00,  0.00000000e+00,  0.00000000e+00],\n",
       "       [-6.45155634e+03, -2.92205264e+03, -5.27773103e+03],\n",
       "       [ 1.42490260e+03, -1.29097782e+03,  1.71928803e+03],\n",
       "       [-3.60509117e+03, -1.43250507e+03, -3.20364928e+03],\n",
       "       [-4.76654331e+03, -2.68496590e+03, -3.67167828e+03],\n",
       "       [ 4.20303051e+03,  1.85887387e+03,  3.45556420e+03],\n",
       "       [-4.08878876e+02, -1.84420836e+01, -4.28900972e+02],\n",
       "       [ 1.44185679e+03,  7.10584148e+02,  1.17848651e+03],\n",
       "       [ 3.61910788e+03,  1.72631916e+03,  2.93207363e+03],\n",
       "       [-3.14173609e+02, -7.55084076e+01, -2.26524269e+02],\n",
       "       [-7.08220512e+02,  9.26419119e+02, -9.04023763e+02],\n",
       "       [ 6.41103762e+02,  9.21192627e+01,  7.23313961e+02],\n",
       "       [-5.69213131e+02, -3.62220802e+01, -5.40064844e+02],\n",
       "       [-1.76961988e+03, -7.98848701e+02, -1.52442218e+03],\n",
       "       [ 5.51792093e+02, -3.03104114e+02,  6.39250670e+02],\n",
       "       [-6.17791763e+02, -2.62921623e+02, -5.84212910e+02],\n",
       "       [-1.50504807e+03, -7.94025768e+02, -1.23868575e+03],\n",
       "       [ 2.39393210e+02,  3.69656982e+01,  2.19734395e+02],\n",
       "       [ 5.26341514e+02, -7.61805059e+02,  6.94311467e+02],\n",
       "       [-5.44050341e+02, -6.56060600e+01, -5.84560293e+02],\n",
       "       [ 4.12595051e+02,  1.95424170e+01,  4.21706153e+02],\n",
       "       [ 1.27898895e+03,  5.88444496e+02,  1.13211133e+03],\n",
       "       [-5.44369167e+02,  3.68943511e+02, -6.69628160e+02],\n",
       "       [ 4.25348801e+02,  1.97511475e+02,  3.93032997e+02],\n",
       "       [ 1.10121762e+03,  6.18888710e+02,  9.31276997e+02],\n",
       "       [-7.94158058e+01,  5.28584442e+01, -1.48255892e+02],\n",
       "       [-4.46386000e+02,  7.20451347e+02, -6.15796342e+02],\n",
       "       [ 5.70828346e+02,  7.16385937e+01,  5.90273687e+02],\n",
       "       [-2.31556848e+02,  5.20612411e+01, -3.14678461e+02],\n",
       "       [-1.08270128e+03, -5.15920212e+02, -9.49868729e+02],\n",
       "       [ 4.80419498e+02, -4.31090190e+02,  6.66813554e+02],\n",
       "       [-4.04590000e+02, -2.32209953e+02, -2.91073601e+02],\n",
       "       [-9.00672503e+02, -5.49616470e+02, -7.80030502e+02],\n",
       "       [-2.59173470e+01, -1.05822250e+02,  1.24876804e+02],\n",
       "       [ 3.67085928e+02, -6.62562389e+02,  5.20469747e+02],\n",
       "       [-5.68427263e+02, -4.52344856e+01, -6.30397051e+02],\n",
       "       [ 1.00481668e+02, -1.26519798e+02,  2.77992340e+02],\n",
       "       [ 9.84233122e+02,  4.38553246e+02,  7.93619473e+02],\n",
       "       [-3.77120018e+02,  5.11635677e+02, -6.32349239e+02],\n",
       "       [ 4.75696150e+02,  3.12343163e+02,  2.69058655e+02],\n",
       "       [ 6.27837122e+02,  5.60280920e+02,  5.09841984e+02],\n",
       "       [-1.61739132e+02,  1.81192230e+02, -3.06450623e+02],\n",
       "       [-2.87526218e+02,  5.18679267e+02, -3.71194276e+02],\n",
       "       [ 5.27869604e+02, -8.92285042e+01,  6.90418514e+02],\n",
       "       [ 1.58944610e+02,  1.70649624e+01, -8.65489168e+01],\n",
       "       [-5.23142380e+02, -5.14396553e+02, -2.64983673e+02],\n",
       "       [ 3.18503326e+02, -6.14533506e+02,  6.00761818e+02],\n",
       "       [-7.07971428e+02, -2.59052109e+02, -4.59710533e+02],\n",
       "       [-6.73716309e+02, -3.71742645e+02, -4.74982979e+02],\n",
       "       [ 8.40775719e+01,  5.28014336e+01,  1.04953388e+02],\n",
       "       [ 1.00605556e+02, -1.87576740e+02,  7.14461708e+01],\n",
       "       [-1.68282795e+02,  1.55412575e+02, -4.93712894e+02],\n",
       "       [ 1.10676851e+02, -2.62063293e+01,  2.54114784e+02],\n",
       "       [ 2.54796928e+02,  3.23833565e+02, -1.33206940e+00],\n",
       "       [-1.74804592e+02,  5.73589120e+02, -4.14884065e+02],\n",
       "       [ 6.60455127e+02,  1.84305992e+02,  5.67459183e+02],\n",
       "       [ 3.19746442e+02,  2.90644831e+02,  1.18480690e+02],\n",
       "       [-1.26483658e+02, -2.38581970e+02,  7.65555000e+01],\n",
       "       [ 3.07015228e+00, -2.26754143e+02,  1.79432640e+02],\n",
       "       [-1.57626194e+02, -2.43239189e+02,  2.21650417e+02],\n",
       "       [-2.89718292e+02, -9.46032867e+01, -2.53649612e+02],\n",
       "       [ 5.76896210e+01,  2.34170456e+01,  9.26566582e+01],\n",
       "       [ 8.18653030e+01, -2.65080219e+02,  1.48333321e+02],\n",
       "       [-4.18999275e+02,  4.40308104e+01, -6.57225628e+02],\n",
       "       [ 1.17984585e+02, -1.25667175e+02,  2.13961937e+02],\n",
       "       [ 2.79656143e+01,  1.87066483e+02, -2.18345238e+02],\n",
       "       [-1.70058670e+01,  4.58423498e+02, -2.66136986e+02],\n",
       "       [ 3.90119861e+02,  1.71211990e+02,  2.95874252e+02],\n",
       "       [ 2.81446942e+02,  1.79758453e+02,  1.08173183e+02],\n",
       "       [-1.81607529e+02, -2.90606445e+02,  3.87318726e+01],\n",
       "       [-1.54692078e+02, -2.50288061e+02,  7.80004005e+01],\n",
       "       [-5.28305321e+01, -2.89277725e+02,  3.11962822e+02],\n",
       "       [-4.75519665e+02, -6.90495605e+01, -4.08850754e+02],\n",
       "       [ 1.20077795e+02,  1.22327210e+02,  1.26535403e+02],\n",
       "       [ 1.73158787e+02, -1.62043632e+02,  1.81028471e+02],\n",
       "       [-2.53346233e+02,  1.48284874e+02, -5.98109451e+02],\n",
       "       [ 3.15194244e+01, -1.33324280e+02,  2.16498947e+02],\n",
       "       [ 8.06264000e+01,  1.56387016e+02, -8.88217201e+01],\n",
       "       [ 6.99691010e+01,  4.18903938e+02, -1.99568958e+02],\n",
       "       [ 4.13203773e+02,  2.03593208e+02,  4.09160465e+02],\n",
       "       [ 4.37108219e+02,  1.93661231e+02,  2.16215900e+02],\n",
       "       [-1.94441673e+02, -2.81252785e+02, -1.83479004e+01],\n",
       "       [-2.34041397e+02, -3.47946548e+02,  9.53497772e+01],\n",
       "       [-2.60117075e+02, -3.64783295e+02,  7.78356018e+01],\n",
       "       [-4.04411242e+02, -7.17709045e+01, -3.84368042e+02],\n",
       "       [ 1.48479612e+02,  2.10451069e+02,  4.40573959e+01],\n",
       "       [ 1.78812904e+02,  5.93349342e+01, -1.81130676e+01],\n",
       "       [-1.14475769e+02,  1.71499603e+02, -4.85070297e+02],\n",
       "       [ 1.15056808e+02, -6.45588989e+01,  2.29859863e+02],\n",
       "       [ 9.83754330e+01,  3.87821770e+00,  6.29232974e+01],\n",
       "       [-1.28731926e+02,  2.11754587e+02, -1.53641510e+02],\n",
       "       [ 3.83833031e+02,  1.14817619e+02,  5.27881042e+02],\n",
       "       [ 1.70316818e+02,  1.47759399e+02,  4.22918396e+01],\n",
       "       [-3.49799465e+02, -2.26365158e+02, -1.66403290e+02],\n",
       "       [ 7.52363338e+01, -2.95403976e+02,  3.23735603e+02],\n",
       "       [-4.05424053e+02, -2.58864578e+02, -2.43181084e+02],\n",
       "       [-3.11384232e+02, -1.26651245e+02, -2.18379429e+02],\n",
       "       [ 3.05568722e+02,  2.69956390e+02,  1.10461365e+02],\n",
       "       [ 1.28024208e+02,  2.33697632e+02, -2.36703911e+02],\n",
       "       [ 1.64165257e+02,  2.07345856e+02, -1.40526184e+02],\n",
       "       [ 2.50844869e+02,  1.41921997e+00,  2.20680725e+02],\n",
       "       [-2.82980652e+01, -1.42299217e+02,  3.74392433e+01],\n",
       "       [-3.51663589e+02, -1.37956978e+02, -2.53063126e+01],\n",
       "       [ 2.13188232e+02, -3.98075562e+01,  4.00793091e+02],\n",
       "       [-1.57585911e+02,  6.36564636e+01, -1.54343445e+02],\n",
       "       [-2.52619244e+02, -1.75639343e+01, -1.64427069e+02],\n",
       "       [ 3.78720886e+02, -6.74949646e-01,  2.14689568e+02],\n",
       "       [-3.71897736e+02, -6.74458313e+01, -4.06020599e+02],\n",
       "       [ 5.03898544e+01, -3.80623474e+01,  7.62310944e+01],\n",
       "       [ 4.10040150e+02,  1.47399567e+02,  2.37800755e+02],\n",
       "       [-1.94245712e+02,  1.57549362e+02, -2.68451561e+02],\n",
       "       [ 1.89482634e+02,  7.32882996e+01,  1.74115143e+02],\n",
       "       [ 1.24230534e+02,  3.05393219e+01,  2.60077057e+01],\n",
       "       [-3.36795444e+02, -1.95591309e+02, -2.08069534e+02],\n",
       "       [-3.06663628e+01, -2.12016949e+02,  2.59302830e+02],\n",
       "       [ 7.13920488e+01, -9.26030579e+01,  1.34432602e+02],\n",
       "       [-1.78949017e+02, -6.30322266e+00, -1.09648956e+02],\n",
       "       [ 8.93175659e+01,  1.31227577e+02,  8.64674721e+01],\n",
       "       [ 1.69777939e+02,  1.64570915e+02, -2.25018723e+02],\n",
       "       [-1.76275032e+02,  1.23706848e+02, -2.85207275e+02],\n",
       "       [ 1.64748165e+02, -2.42531128e+01,  1.91263550e+02],\n",
       "       [ 1.24540883e+02, -4.35664334e+01,  5.15884249e+01],\n",
       "       [-2.83497589e+02, -1.08326355e+02,  9.11287537e+01],\n",
       "       [ 5.78272362e+01, -7.88078613e+01,  1.63736450e+02],\n",
       "       [-2.91665573e+02, -4.38862915e+01, -2.76569916e+02],\n",
       "       [-2.59068722e+02,  8.54339600e-02, -1.96372124e+02],\n",
       "       [ 3.75348633e+02,  4.89050293e+01,  1.60972778e+02],\n",
       "       [ 1.38057770e+02, -2.76171570e+01,  2.37116699e+01],\n",
       "       [ 3.04545546e+02,  1.01394073e+02,  2.20838287e+02],\n",
       "       [ 3.26802128e+02,  4.10053635e+01,  3.09593613e+02],\n",
       "       [-3.38346695e+02,  2.00743713e+01, -3.71626724e+02],\n",
       "       [-1.48715763e+02,  1.09830872e+02, -5.19573517e+01],\n",
       "       [-8.83341217e+00, -2.88690491e+01,  1.62492914e+01],\n",
       "       [-2.54811199e+02, -8.92119503e+01, -3.00770386e+02],\n",
       "       [ 2.29822556e+02, -6.23882446e+01,  4.44978470e+02],\n",
       "       [ 5.14627266e+01, -8.57783203e+01,  6.00321045e+01],\n",
       "       [-2.81043152e+02, -5.25364990e+01, -2.51861359e+02],\n",
       "       [ 8.50814161e+01,  1.05640873e+02,  1.63831861e+02],\n",
       "       [-7.13902588e+01,  9.36954346e+01, -3.70522339e+02],\n",
       "       [-3.07053909e+01, -1.37952881e+01, -1.39306335e+02],\n",
       "       [ 3.70109535e+02,  7.67067261e+01,  3.20907593e+02],\n",
       "       [ 7.90503159e+01, -8.83140717e+01,  5.55322990e+01],\n",
       "       [-2.75569580e+02, -1.37673279e+02,  6.28532715e+01],\n",
       "       [-9.76313934e+01,  2.65593262e+01,  5.55824432e+01],\n",
       "       [-3.20893141e+02, -9.74413757e+01, -2.15890564e+02],\n",
       "       [-2.31343452e+02,  5.12417717e+01, -2.84505070e+02],\n",
       "       [ 6.05099915e+02,  1.46812164e+02,  3.25930267e+02],\n",
       "       [ 3.48018747e+02,  7.38034668e+01,  1.72015991e+02],\n",
       "       [ 1.62555557e+02,  8.74516296e+01,  5.83442039e+01],\n",
       "       [ 3.08007923e+02, -8.17702293e+00,  3.92053551e+02],\n",
       "       [-5.39609344e+02, -8.67136841e+01, -4.18220947e+02],\n",
       "       [-3.95328812e+02, -1.33032715e+02, -2.43878387e+02],\n",
       "       [ 1.52131805e+01, -2.94637146e+01,  6.86159210e+01],\n",
       "       [-2.12037222e+02, -2.11040039e+01, -3.37171232e+02],\n",
       "       [ 2.14395325e+02, -5.24273682e+00,  2.52211792e+02],\n",
       "       [ 2.38118719e+02,  9.05742188e+01,  1.69930420e+02],\n",
       "       [-2.04724792e+02, -5.81189575e+01, -2.18415878e+02],\n",
       "       [ 1.89049554e+01,  5.78947258e+01,  1.69639742e+02],\n",
       "       [ 5.23032837e+01,  5.98265991e+01, -1.46837219e+02],\n",
       "       [ 2.80594997e+01,  2.48395386e+01, -3.94662018e+01],\n",
       "       [ 4.21050049e+02,  1.61193985e+02,  3.18089828e+02],\n",
       "       [ 1.19955221e+02, -1.20238800e+02,  9.03335915e+01],\n",
       "       [-2.41651756e+02, -5.53639908e+01,  8.89908142e+01],\n",
       "       [-4.82829491e+02, -1.86345831e+02, -2.37913216e+02],\n",
       "       [-3.73867096e+02, -1.58470903e+02, -1.87071177e+02],\n",
       "       [-1.71885920e+02,  1.41480764e+02, -3.42423483e+02],\n",
       "       [ 3.82226982e+02,  8.67514648e+01,  5.45401306e+01],\n",
       "       [ 7.83672596e+02,  2.60597717e+02,  4.60788376e+02],\n",
       "       [ 1.39105225e+01,  1.21119604e+01, -5.76899452e+01],\n",
       "       [ 1.79886233e+02, -6.53838997e+01,  4.26307424e+02],\n",
       "       [-4.71577179e+02, -2.12492767e+02, -2.40587036e+02],\n",
       "       [-5.24408085e+02, -1.54838684e+02, -3.08487747e+02],\n",
       "       [ 1.98939041e+02,  7.98972130e+01,  1.86611099e+02],\n",
       "       [-1.23925446e+02, -4.55444069e+01, -3.25192743e+02],\n",
       "       [ 4.35331650e+02,  2.30767303e+02,  3.89578796e+02],\n",
       "       [-1.49158363e+01, -1.50447388e+01, -6.09412537e+01],\n",
       "       [-1.68013359e+02, -6.06665249e+01, -2.11798306e+02],\n",
       "       [-2.91190081e+01,  1.25532394e+02,  8.26694756e+01],\n",
       "       [-3.46577263e+01,  4.16812134e+01, -3.35084183e+02],\n",
       "       [ 4.59715950e+02,  1.59446945e+02,  3.15983116e+02],\n",
       "       [ 1.75227469e+02,  7.58314285e+01,  1.34886772e+02],\n",
       "       [ 1.32673599e+02, -1.74643135e+02,  2.30735447e+02],\n",
       "       [-5.45569996e+02, -3.44932678e+02, -7.95936584e-01],\n",
       "       [-7.25808708e+02, -2.81394310e+02, -3.60919464e+02],\n",
       "       [-1.75973869e+02, -1.15050629e+02,  7.90434952e+01],\n",
       "       [-5.74862118e+01,  1.37353596e+02, -4.14767284e+02],\n",
       "       [ 6.66880333e+02,  3.12671494e+02,  3.14206299e+02],\n",
       "       [ 6.65152946e+02,  2.82867538e+02,  2.39321350e+02],\n",
       "       [ 5.89563675e+01,  8.67199020e+01, -2.47211884e+02],\n",
       "       [ 4.63584566e+00,  4.63331947e+01,  3.63300592e+02],\n",
       "       [-2.58328537e+02, -3.02582092e+01, -3.65896957e+02],\n",
       "       [-2.51442387e+02, -7.51421967e+01, -6.88568573e+01],\n",
       "       [ 1.20863365e+02,  3.18184414e+01,  2.03194204e+02],\n",
       "       [-8.35993004e+01, -2.19295731e+02, -1.33831039e+02],\n",
       "       [-2.26368301e+02, -1.94473991e+02,  2.30865326e+02],\n",
       "       [-3.81628891e+02, -2.36971924e+02, -1.63562401e+02],\n",
       "       [-3.25637997e+02, -2.36654438e+02,  3.45935135e+01],\n",
       "       [ 3.21920547e+01,  1.70954498e+02, -2.36430157e+02],\n",
       "       [ 5.42687720e+02,  2.59865791e+02,  6.68180313e+01],\n",
       "       [ 9.99945427e+02,  4.09110992e+02,  5.09584026e+02],\n",
       "       [ 3.00151176e+02,  3.06410835e+02, -3.26353497e+02],\n",
       "       [ 1.08424711e+02,  1.34831219e+01,  4.82639861e+02],\n",
       "       [-4.34335924e+02, -1.64392090e+02, -3.46859215e+02],\n",
       "       [-8.90026625e+02, -2.23701057e+02, -5.06564926e+02],\n",
       "       [ 8.76763077e+01, -1.55187607e+01,  3.26189724e+02],\n",
       "       [-1.33525829e+01, -1.13433723e+02, -2.47250811e+02],\n",
       "       [-1.84410429e+02, -8.43450012e+01,  2.27565643e+02],\n",
       "       [-2.41352463e+02, -1.99998407e+02, -1.92933367e+02],\n",
       "       [-3.81896675e+02, -3.37146349e+02,  8.81347694e+01],\n",
       "       [-9.61470108e+01,  1.19179108e+02, -1.82613073e+02],\n",
       "       [ 6.54393116e+02,  3.17410108e+02,  1.27422066e+02],\n",
       "       [ 1.23053831e+03,  3.94158928e+02,  8.18652601e+02],\n",
       "       [ 3.06774670e+02,  3.52004669e+02, -4.40960155e+02],\n",
       "       [-5.46220779e+01, -7.89629784e+01,  3.24316415e+02],\n",
       "       [-3.88993469e+02, -2.68253052e+02, -2.39683086e+02],\n",
       "       [-9.13175831e+02, -1.49179361e+02, -5.02298700e+02],\n",
       "       [ 5.61163521e+00, -7.01995773e+01,  3.61546806e+02],\n",
       "       [ 7.87710376e+01, -5.77822676e+01, -3.06115575e+02],\n",
       "       [-3.57269085e+02, -1.48065079e+02,  1.10430523e+02],\n",
       "       [-4.65343563e+02, -2.21570671e+02, -4.44212652e+02],\n",
       "       [-4.86175593e+02, -3.41947020e+02,  6.28721914e+01],\n",
       "       [ 8.90683250e+01,  1.74757133e+02,  8.28571720e+01],\n",
       "       [ 8.37060087e+02,  5.23178040e+02,  1.16917226e+02],\n",
       "       [ 1.57091039e+03,  3.21280287e+02,  9.94600622e+02],\n",
       "       [ 5.13846291e+02,  5.12873493e+02, -5.62058176e+02],\n",
       "       [ 6.10889969e+01, -3.83584728e+01,  5.76846397e+02],\n",
       "       [-2.42900631e+02, -1.86509903e+02, -2.95729797e+02],\n",
       "       [-6.77864437e+02, -1.83642540e+01, -3.03616570e+02],\n",
       "       [ 4.16332254e+02,  5.91265240e+01,  4.47693204e+02],\n",
       "       [-2.46883951e+02, -1.96666409e+02, -6.89235298e+02],\n",
       "       [-9.85243114e+02, -5.88851990e+02,  2.57603531e+01],\n",
       "       [-1.67682085e+03, -3.55254093e+02, -1.07090635e+03],\n",
       "       [-8.81720928e+02, -7.27792726e+02,  4.87906319e+02],\n",
       "       [-1.57875114e+02,  1.17897034e+02, -5.17989262e+02],\n",
       "       [ 7.88266459e+02,  4.89071098e+02,  4.06156334e+02],\n",
       "       [ 1.61473489e+03,  2.00749695e+02,  9.52204814e+02],\n",
       "       [-2.51205945e+02,  2.25035895e+02, -7.59395727e+02],\n",
       "       [ 4.78448154e+02,  1.89440144e+02,  1.18415955e+03],\n",
       "       [ 9.21807049e+02,  5.22551796e+02, -1.12420883e+02],\n",
       "       [ 1.50496366e+03,  3.25273277e+02,  9.10223923e+02],\n",
       "       [ 1.00923716e+03,  7.45113789e+02, -3.80464354e+02],\n",
       "       [ 8.94087677e+01, -1.98629921e+02,  2.50346085e+02],\n",
       "       [-1.06708196e+03, -6.45029040e+02, -4.45960640e+02],\n",
       "       [-2.08948511e+03, -2.88323253e+02, -1.27965418e+03],\n",
       "       [ 1.09738146e+02, -3.79950230e+02,  8.58438825e+02],\n",
       "       [-6.18108536e+02, -1.29937119e+02, -1.45307511e+03],\n",
       "       [-8.60959106e+02, -4.51646763e+02,  1.04002468e+02],\n",
       "       [-1.37435604e+03, -2.85253220e+02, -7.72325108e+02],\n",
       "       [-9.47724975e+02, -6.83256531e+02,  3.59965593e+02],\n",
       "       [ 4.62206554e+01,  2.32946445e+02,  8.15903859e+01],\n",
       "       [ 1.17208683e+03,  6.96749083e+02,  4.68953700e+02],\n",
       "       [ 2.23126086e+03,  2.90759298e+02,  1.38031860e+03],\n",
       "       [-3.41733265e+01,  4.30417543e+02, -8.64071621e+02],\n",
       "       [ 6.82718616e+02,  5.87693291e+01,  1.54848916e+03],\n",
       "       [ 8.31938593e+02,  4.21649097e+02, -6.24052982e+01],\n",
       "       [ 1.38466631e+03,  2.82808037e+02,  7.25999680e+02],\n",
       "       [ 8.30742881e+02,  6.24629799e+02, -3.90725789e+02],\n",
       "       [-2.53110729e+02, -2.27563746e+02, -4.90571356e+02],\n",
       "       [-1.24939136e+03, -7.45128843e+02, -4.76513849e+02],\n",
       "       [-2.36505651e+03, -2.90397072e+02, -1.44528520e+03],\n",
       "       [-5.40854311e+01, -4.83752983e+02,  8.81232846e+02],\n",
       "       [-6.98156120e+02, -2.89638519e-01, -1.53994875e+03],\n",
       "       [-7.63854887e+02, -3.79724392e+02,  3.15807629e+01],\n",
       "       [-1.37029817e+03, -2.99744514e+02, -6.81095755e+02],\n",
       "       [-7.32440923e+02, -5.67706854e+02,  3.86257897e+02],\n",
       "       [ 6.49384167e+02,  2.18667038e+02,  1.22401815e+03],\n",
       "       [ 1.49720826e+03,  9.01079477e+02,  5.04884541e+02],\n",
       "       [ 2.91177544e+03,  3.77988985e+02,  1.73075496e+03],\n",
       "       [ 3.17165683e+02,  7.04942200e+02, -1.03825860e+03],\n",
       "       [ 4.26543404e+02, -9.14245567e+01,  1.06132632e+03],\n",
       "       [ 3.65816557e+02,  1.40100510e+02, -9.87428303e+01],\n",
       "       [ 6.58129387e+02,  2.19536852e+02,  2.41726871e+02],\n",
       "       [ 5.06697586e+02,  3.07421205e+02, -1.20673435e+02],\n",
       "       [-1.57756338e+03, -2.24894096e+02, -2.94947649e+03],\n",
       "       [-2.35347695e+03, -1.41693745e+03, -6.79188499e+02],\n",
       "       [-4.51140331e+03, -6.19164143e+02, -2.63185119e+03],\n",
       "       [-1.01982332e+03, -1.34231811e+03,  1.54729105e+03],\n",
       "       [ 0.00000000e+00,  0.00000000e+00,  0.00000000e+00],\n",
       "       [ 0.00000000e+00,  0.00000000e+00,  0.00000000e+00],\n",
       "       [ 0.00000000e+00,  0.00000000e+00,  0.00000000e+00],\n",
       "       [ 0.00000000e+00,  0.00000000e+00,  0.00000000e+00]])"
      ]
     },
     "execution_count": 17,
     "metadata": {},
     "output_type": "execute_result"
    }
   ],
   "source": [
    "cwl.betas[-1]"
   ]
  },
  {
   "cell_type": "code",
   "execution_count": 15,
   "metadata": {},
   "outputs": [
    {
     "name": "stdout",
     "output_type": "stream",
     "text": [
      "> \u001b[0;32m/home/johan/nf/nf-rtime/Projects_Templates/3_RTMRICWL/rtfilters.py\u001b[0m(758)\u001b[0;36m_check_switch_betas\u001b[0;34m()\u001b[0m\n",
      "\u001b[0;32m    757 \u001b[0;31m        \u001b[0;32mif\u001b[0m \u001b[0mself\u001b[0m\u001b[0;34m.\u001b[0m\u001b[0m_queue_incoming_betas\u001b[0m\u001b[0;34m.\u001b[0m\u001b[0mqsize\u001b[0m\u001b[0;34m(\u001b[0m\u001b[0;34m)\u001b[0m \u001b[0;34m>\u001b[0m \u001b[0;36m0\u001b[0m\u001b[0;34m:\u001b[0m\u001b[0;34m\u001b[0m\u001b[0m\n",
      "\u001b[0m\u001b[0;32m--> 758 \u001b[0;31m            \u001b[0mbetas\u001b[0m\u001b[0;34m,\u001b[0m \u001b[0mdiff1\u001b[0m\u001b[0;34m,\u001b[0m \u001b[0mdiff2\u001b[0m \u001b[0;34m=\u001b[0m \u001b[0mself\u001b[0m\u001b[0;34m.\u001b[0m\u001b[0m_queue_incoming_betas\u001b[0m\u001b[0;34m.\u001b[0m\u001b[0mqsize\u001b[0m\u001b[0;34m.\u001b[0m\u001b[0mget\u001b[0m\u001b[0;34m(\u001b[0m\u001b[0;34m)\u001b[0m\u001b[0;34m\u001b[0m\u001b[0m\n",
      "\u001b[0m\u001b[0;32m    759 \u001b[0;31m\u001b[0;34m\u001b[0m\u001b[0m\n",
      "\u001b[0m\n"
     ]
    },
    {
     "name": "stdin",
     "output_type": "stream",
     "text": [
      "ipdb>  self._queue_incoming_betas\n"
     ]
    },
    {
     "name": "stdout",
     "output_type": "stream",
     "text": [
      "<multiprocessing.queues.Queue object at 0x7f6da80d8668>\n"
     ]
    },
    {
     "name": "stdin",
     "output_type": "stream",
     "text": [
      "ipdb>  self._queue_incoming_betas.qsize()\n"
     ]
    },
    {
     "name": "stdout",
     "output_type": "stream",
     "text": [
      "1\n"
     ]
    },
    {
     "name": "stdin",
     "output_type": "stream",
     "text": [
      "ipdb>  a, b, c = self._queue_incoming_betas.get()\n"
     ]
    },
    {
     "name": "stdout",
     "output_type": "stream",
     "text": [
      "self = <rtfilters.CWL object at 0x7f6da80d8630>\n"
     ]
    },
    {
     "name": "stdin",
     "output_type": "stream",
     "text": [
      "ipdb>  a\n"
     ]
    },
    {
     "name": "stdout",
     "output_type": "stream",
     "text": [
      "self = <rtfilters.CWL object at 0x7f6da80d8630>\n"
     ]
    },
    {
     "name": "stdin",
     "output_type": "stream",
     "text": [
      "ipdb>  b\n",
      "ipdb>  c\n"
     ]
    }
   ],
   "source": [
    "import ipdb\n",
    "ipdb.post_mortem(sys.last_traceback)"
   ]
  },
  {
   "cell_type": "code",
   "execution_count": null,
   "metadata": {},
   "outputs": [],
   "source": []
  },
  {
   "cell_type": "code",
   "execution_count": 16,
   "metadata": {},
   "outputs": [],
   "source": [
    "import traceback as tb"
   ]
  },
  {
   "cell_type": "code",
   "execution_count": 16,
   "metadata": {},
   "outputs": [
    {
     "ename": "NameError",
     "evalue": "name 'tb' is not defined",
     "output_type": "error",
     "traceback": [
      "\u001b[0;31m---------------------------------------------------------------------------\u001b[0m",
      "\u001b[0;31mNameError\u001b[0m                                 Traceback (most recent call last)",
      "\u001b[0;32m<ipython-input-16-f14eb4371b55>\u001b[0m in \u001b[0;36m<module>\u001b[0;34m()\u001b[0m\n\u001b[0;32m----> 1\u001b[0;31m \u001b[0;32mimport\u001b[0m \u001b[0mpdb\u001b[0m\u001b[0;34m;\u001b[0m \u001b[0mpdb\u001b[0m\u001b[0;34m.\u001b[0m\u001b[0mpost_mortem\u001b[0m\u001b[0;34m(\u001b[0m\u001b[0mtb\u001b[0m\u001b[0;34m)\u001b[0m\u001b[0;34m\u001b[0m\u001b[0m\n\u001b[0m",
      "\u001b[0;31mNameError\u001b[0m: name 'tb' is not defined"
     ]
    }
   ],
   "source": [
    "import pdb; pdb.post_mortem(tb)"
   ]
  },
  {
   "cell_type": "code",
   "execution_count": 15,
   "metadata": {},
   "outputs": [],
   "source": [
    "lu=[15, 14, 13, 12, 11, 10, 9, 8, 7, 6, 5, 4, 3, 2, 1]"
   ]
  },
  {
   "cell_type": "code",
   "execution_count": null,
   "metadata": {},
   "outputs": [],
   "source": [
    "sum([4 > i for i in [0, 1, 2, 3, 4, 5]])"
   ]
  },
  {
   "cell_type": "code",
   "execution_count": null,
   "metadata": {},
   "outputs": [],
   "source": [
    "lu[1:1+3]?"
   ]
  },
  {
   "cell_type": "code",
   "execution_count": 19,
   "metadata": {},
   "outputs": [],
   "source": [
    "mark=[i for i, lastused in enumerate(lu) if lastused > 10]"
   ]
  },
  {
   "cell_type": "code",
   "execution_count": 16,
   "metadata": {},
   "outputs": [
    {
     "data": {
      "text/plain": [
       "Type help() for interactive help, or help(object) for help about object."
      ]
     },
     "execution_count": 16,
     "metadata": {},
     "output_type": "execute_result"
    }
   ],
   "source": [
    "help"
   ]
  },
  {
   "cell_type": "code",
   "execution_count": 16,
   "metadata": {},
   "outputs": [],
   "source": [
    "for popi in reversed(mark):\n",
    "    lu.pop(popi)"
   ]
  },
  {
   "cell_type": "code",
   "execution_count": 17,
   "metadata": {},
   "outputs": [
    {
     "data": {
      "text/plain": [
       "[10, 9, 8, 7, 6, 5, 4, 3, 2, 1]"
      ]
     },
     "execution_count": 17,
     "metadata": {},
     "output_type": "execute_result"
    }
   ],
   "source": [
    "lu"
   ]
  },
  {
   "cell_type": "code",
   "execution_count": 4,
   "metadata": {},
   "outputs": [
    {
     "data": {
      "text/plain": [
       "39"
      ]
     },
     "execution_count": 4,
     "metadata": {},
     "output_type": "execute_result"
    }
   ],
   "source": [
    "len(l1)"
   ]
  },
  {
   "cell_type": "code",
   "execution_count": 2,
   "metadata": {},
   "outputs": [],
   "source": [
    "l1=[1, 1, 1, 1, 1, 1, 1, 1, 1, 1, 1, 1, 1, 1, 1, 1, 1, 1, 1, 1, 1, 1, 1, 1, 1, 1, 1, 1, 1, 1, 1, 1, 1, 1, 1, 1, 1, 1, 1]"
   ]
  },
  {
   "cell_type": "code",
   "execution_count": 3,
   "metadata": {},
   "outputs": [],
   "source": [
    "l2=[-0.009725803730136564, -0.013286856216523535, -0.0015234020565639168, 0.007469876784025759, 0.21877457609218673, 0.060098715105399894, -0.01152044543151802, -0.010705063562098325, 0.06596197714099682, 0.2209395760192517, 0.03471496614715212, -0.010944518706039706, 0.1077332572705931, 0.9385757350172169, 0.10389958737708403, -0.010958975008754477, 0.034747485560958864, 0.2137010394744165, 0.058628170832456, -0.00995803061856474, -0.009521755934525783, 0.06403311973637298, 0.21299163216259706, 0.0334891349327988, -0.010564141057113813, 0.10636356482254435, 0.9339726306369603, 0.10463196522428422, -0.01063869291601751, 0.03586258392270768, 0.22050137141841994, 0.05935932319157627, -0.010372115253860061, -0.008732075113004207, 0.06545691207213597, 0.2204034773349035, 0.03627234910415857, -0.010316740351968527, 0.11455022632253853]"
   ]
  },
  {
   "cell_type": "code",
   "execution_count": 19,
   "metadata": {},
   "outputs": [],
   "source": [
    "plt.figure()\n",
    "plt.plot(l2)\n",
    "plt.show()"
   ]
  },
  {
   "cell_type": "code",
   "execution_count": 28,
   "metadata": {},
   "outputs": [
    {
     "name": "stdout",
     "output_type": "stream",
     "text": [
      "[3, 2, 1]\n"
     ]
    }
   ],
   "source": [
    "print([1,2,3][::-1])"
   ]
  },
  {
   "cell_type": "code",
   "execution_count": 36,
   "metadata": {},
   "outputs": [
    {
     "data": {
      "text/plain": [
       "[]"
      ]
     },
     "execution_count": 36,
     "metadata": {},
     "output_type": "execute_result"
    }
   ],
   "source": [
    "list(reversed([]))"
   ]
  },
  {
   "cell_type": "code",
   "execution_count": null,
   "metadata": {},
   "outputs": [],
   "source": [
    "[].reverse"
   ]
  },
  {
   "cell_type": "code",
   "execution_count": 31,
   "metadata": {},
   "outputs": [
    {
     "data": {
      "text/plain": [
       "[]"
      ]
     },
     "execution_count": 31,
     "metadata": {},
     "output_type": "execute_result"
    }
   ],
   "source": [
    "[][::-1]"
   ]
  },
  {
   "cell_type": "code",
   "execution_count": 19,
   "metadata": {},
   "outputs": [
    {
     "name": "stdout",
     "output_type": "stream",
     "text": [
      "[]\n",
      "None\n"
     ]
    }
   ],
   "source": [
    "mark=[]\n",
    "print(mark)\n",
    "print(mark.reverse())\n",
    "for popi in mark: #.reverse():\n",
    "    print(1)"
   ]
  },
  {
   "cell_type": "code",
   "execution_count": 17,
   "metadata": {},
   "outputs": [
    {
     "data": {
      "text/plain": [
       "array([[-25. , -29. ,   4.5, ..., 104.5,  63. ,  51.5],\n",
       "       [-24.5, -30. ,   4. , ..., 104.5,  62. ,  50.5],\n",
       "       [-24.5, -29.5,   4. , ..., 104. ,  62. ,  51. ],\n",
       "       ...,\n",
       "       [  1.5,  44. , -29. , ..., -35. ,  48.5,  52.5],\n",
       "       [  2.5,  43.5, -28.5, ..., -34.5,  49. ,  52.5],\n",
       "       [  3. ,  42.5, -27.5, ..., -34. ,  48.5,  52. ]])"
      ]
     },
     "execution_count": 17,
     "metadata": {},
     "output_type": "execute_result"
    }
   ],
   "source": [
    "data4"
   ]
  },
  {
   "cell_type": "code",
   "execution_count": 18,
   "metadata": {},
   "outputs": [],
   "source": [
    "mark=[x for x in []]"
   ]
  },
  {
   "cell_type": "code",
   "execution_count": 20,
   "metadata": {},
   "outputs": [],
   "source": [
    "for i in mark:\n",
    "    print(i)"
   ]
  },
  {
   "cell_type": "code",
   "execution_count": 14,
   "metadata": {},
   "outputs": [
    {
     "data": {
      "text/plain": [
       "400"
      ]
     },
     "execution_count": 14,
     "metadata": {},
     "output_type": "execute_result"
    }
   ],
   "source": [
    "10000-9900 + 300"
   ]
  },
  {
   "cell_type": "code",
   "execution_count": 13,
   "metadata": {},
   "outputs": [
    {
     "name": "stdout",
     "output_type": "stream",
     "text": [
      "amplifier stopped!\n"
     ]
    }
   ],
   "source": [
    "amp.stop()\n",
    "alld.shrink_to_fit()"
   ]
  },
  {
   "cell_type": "code",
   "execution_count": 6,
   "metadata": {},
   "outputs": [
    {
     "data": {
      "text/plain": [
       "<list_iterator at 0x7f4754b4edd8>"
      ]
     },
     "execution_count": 6,
     "metadata": {},
     "output_type": "execute_result"
    }
   ],
   "source": []
  },
  {
   "cell_type": "code",
   "execution_count": 1,
   "metadata": {},
   "outputs": [
    {
     "ename": "ValueError",
     "evalue": "not enough values to unpack (expected 3, got 0)",
     "output_type": "error",
     "traceback": [
      "\u001b[0;31m---------------------------------------------------------------------------\u001b[0m",
      "\u001b[0;31mValueError\u001b[0m                                Traceback (most recent call last)",
      "\u001b[0;32m<ipython-input-1-5b0c1b52aa76>\u001b[0m in \u001b[0;36m<module>\u001b[0;34m()\u001b[0m\n\u001b[0;32m----> 1\u001b[0;31m \u001b[0ma\u001b[0m\u001b[0;34m,\u001b[0m \u001b[0mb\u001b[0m\u001b[0;34m,\u001b[0m \u001b[0mc\u001b[0m \u001b[0;34m=\u001b[0m \u001b[0;34m[\u001b[0m\u001b[0;34m]\u001b[0m\u001b[0;34m\u001b[0m\u001b[0m\n\u001b[0m",
      "\u001b[0;31mValueError\u001b[0m: not enough values to unpack (expected 3, got 0)"
     ]
    }
   ],
   "source": [
    "a, b, c = []"
   ]
  },
  {
   "cell_type": "code",
   "execution_count": 22,
   "metadata": {},
   "outputs": [],
   "source": [
    "# write to disk, so we can re-load it later:\n",
    "\n",
    "t={'alld':alld, 'allm':allm, 'ch_names':ch_names, 'sfreq':sfreq}\n",
    "with open('c-allm-and-alld.pkl', 'wb') as f:\n",
    "    pickle.dump(t, f)"
   ]
  },
  {
   "cell_type": "code",
   "execution_count": 16,
   "metadata": {},
   "outputs": [],
   "source": [
    "# load from disk:\n",
    "\n",
    "with open('c-allm-and-alld.pkl','rb') as f:\n",
    "    t=pickle.load(f)\n",
    "for key in t.keys():\n",
    "    locals()[key] = t[key]"
   ]
  },
  {
   "cell_type": "code",
   "execution_count": 23,
   "metadata": {},
   "outputs": [
    {
     "name": "stdout",
     "output_type": "stream",
     "text": [
      "The following EEG sensors did not have a position specified in the selected montage: ['EOG', 'ECG', 'CW1', 'CW2', 'CW3', 'CW4', 'CW5', 'CW6']. Their position has been left untouched.\n"
     ]
    },
    {
     "name": "stderr",
     "output_type": "stream",
     "text": [
      "../../nftools/nftools/analysis.py:31: RuntimeWarning: The following EEG sensors did not have a position specified in the selected montage: ['EOG', 'ECG', 'CW1', 'CW2', 'CW3', 'CW4', 'CW5', 'CW6']. Their position has been left untouched.\n",
      "  montage=montage\n"
     ]
    },
    {
     "name": "stdout",
     "output_type": "stream",
     "text": [
      "Creating RawArray with float64 data, n_channels=38, n_times=400001\n",
      "    Range : 0 ... 400000 =      0.000 ...    80.000 secs\n",
      "Ready.\n",
      "5000.0\n",
      "Creating RawArray with float64 data, n_channels=1, n_times=400001\n",
      "    Range : 0 ... 400000 =      0.000 ...    80.000 secs\n",
      "Ready.\n"
     ]
    }
   ],
   "source": [
    "raw = convert_alld_allm_to_mne(alld, allm, ch_names, sfreq)  # covert to MNE\n",
    "# raw.resample(1000)"
   ]
  },
  {
   "cell_type": "code",
   "execution_count": 24,
   "metadata": {},
   "outputs": [],
   "source": [
    "raw.plot(scalings='auto');"
   ]
  },
  {
   "cell_type": "code",
   "execution_count": 19,
   "metadata": {},
   "outputs": [],
   "source": [
    "# raw.set_eeg_reference(ref_channels='average')\n",
    "# better not (yet) - before removing bad channels, since these mess up your data big time: see PREP paper:\n"
   ]
  },
  {
   "cell_type": "code",
   "execution_count": 16,
   "metadata": {},
   "outputs": [
    {
     "name": "stdout",
     "output_type": "stream",
     "text": [
      "Setting up band-stop filter\n",
      "Filter length of 33001 samples (6.600 sec) selected\n"
     ]
    },
    {
     "data": {
      "text/plain": [
       "<RawArray  |  None, n_channels x n_times : 39 x 400001 (80.0 sec), ~119.1 MB, data loaded>"
      ]
     },
     "execution_count": 16,
     "metadata": {},
     "output_type": "execute_result"
    }
   ],
   "source": [
    "picks = mne.pick_types(raw.info, meg=False, eeg=True, eog=False,\n",
    "                       stim=False, exclude='bads')\n",
    "\n",
    "raw.notch_filter(np.arange(50, 300, 50), picks=picks, filter_length='auto', phase='zero')\n",
    "# add it (potentialy) some other preprocessing steps here"
   ]
  },
  {
   "cell_type": "code",
   "execution_count": 17,
   "metadata": {},
   "outputs": [
    {
     "name": "stdout",
     "output_type": "stream",
     "text": [
      "Effective window size : 1.638 (s)\n"
     ]
    },
    {
     "name": "stderr",
     "output_type": "stream",
     "text": [
      "/home/johan/.conda/envs/rt/lib/python3.6/site-packages/numpy/core/_methods.py:32: RuntimeWarning: invalid value encountered in reduce\n",
      "  return umr_minimum(a, axis, None, out, keepdims, initial)\n",
      "/home/johan/.conda/envs/rt/lib/python3.6/site-packages/numpy/core/_methods.py:28: RuntimeWarning: invalid value encountered in reduce\n",
      "  return umr_maximum(a, axis, None, out, keepdims, initial)\n",
      "/home/johan/.conda/envs/rt/lib/python3.6/site-packages/mne/viz/evoked.py:162: RuntimeWarning: invalid value encountered in maximum\n",
      "  rgb /= np.maximum(rgb.max(0), 1e-16)  # avoid div by zero\n",
      "/home/johan/.conda/envs/rt/lib/python3.6/site-packages/numpy/core/fromnumeric.py:83: RuntimeWarning: invalid value encountered in reduce\n",
      "  return ufunc.reduce(obj, axis, dtype, out, **passkwargs)\n",
      "/home/johan/.conda/envs/rt/lib/python3.6/site-packages/matplotlib/colors.py:251: RuntimeWarning: invalid value encountered in less\n",
      "  if np.any((result < 0) | (result > 1)):\n",
      "/home/johan/.conda/envs/rt/lib/python3.6/site-packages/matplotlib/colors.py:251: RuntimeWarning: invalid value encountered in greater\n",
      "  if np.any((result < 0) | (result > 1)):\n"
     ]
    }
   ],
   "source": [
    "raw.plot_psd(tmax=np.inf, fmax=1000, n_fft=2048*4);"
   ]
  },
  {
   "cell_type": "code",
   "execution_count": 29,
   "metadata": {},
   "outputs": [
    {
     "name": "stderr",
     "output_type": "stream",
     "text": [
      "/home/johan/.conda/envs/rt/lib/python3.6/site-packages/numpy/core/fromnumeric.py:83: RuntimeWarning: invalid value encountered in reduce\n",
      "  return ufunc.reduce(obj, axis, dtype, out, **passkwargs)\n"
     ]
    }
   ],
   "source": [
    "mne.viz.plot_sensors(raw.info, show_names=True, ch_type='eeg');"
   ]
  },
  {
   "cell_type": "code",
   "execution_count": 27,
   "metadata": {},
   "outputs": [
    {
     "data": {
      "text/plain": [
       "[{'loc': array([-0.0502438,  0.0531112,  0.042192 ,  0.       ,  0.       ,\n",
       "          0.       ,  0.       ,  0.       ,  0.       ,  0.       ,\n",
       "          0.       ,  0.       ]),\n",
       "  'unit_mul': 0,\n",
       "  'range': 1.0,\n",
       "  'cal': 1.0,\n",
       "  'kind': 2,\n",
       "  'coil_type': 1,\n",
       "  'unit': 107,\n",
       "  'coord_frame': 0,\n",
       "  'ch_name': 'F3',\n",
       "  'scanno': 1,\n",
       "  'logno': 1},\n",
       " {'loc': array([0.0518362, 0.0543048, 0.040814 , 0.       , 0.       , 0.       ,\n",
       "         0.       , 0.       , 0.       , 0.       , 0.       , 0.       ]),\n",
       "  'unit_mul': 0,\n",
       "  'range': 1.0,\n",
       "  'cal': 1.0,\n",
       "  'kind': 2,\n",
       "  'coil_type': 1,\n",
       "  'unit': 107,\n",
       "  'coord_frame': 0,\n",
       "  'ch_name': 'F4',\n",
       "  'scanno': 2,\n",
       "  'logno': 2},\n",
       " {'loc': array([-0.0653581, -0.0116317,  0.064358 ,  0.       ,  0.       ,\n",
       "          0.       ,  0.       ,  0.       ,  0.       ,  0.       ,\n",
       "          0.       ,  0.       ]),\n",
       "  'unit_mul': 0,\n",
       "  'range': 1.0,\n",
       "  'cal': 1.0,\n",
       "  'kind': 2,\n",
       "  'coil_type': 1,\n",
       "  'unit': 107,\n",
       "  'coord_frame': 0,\n",
       "  'ch_name': 'C3',\n",
       "  'scanno': 3,\n",
       "  'logno': 3},\n",
       " {'loc': array([ 0.0671179, -0.0109003,  0.06358  ,  0.       ,  0.       ,\n",
       "          0.       ,  0.       ,  0.       ,  0.       ,  0.       ,\n",
       "          0.       ,  0.       ]),\n",
       "  'unit_mul': 0,\n",
       "  'range': 1.0,\n",
       "  'cal': 1.0,\n",
       "  'kind': 2,\n",
       "  'coil_type': 1,\n",
       "  'unit': 107,\n",
       "  'coord_frame': 0,\n",
       "  'ch_name': 'C4',\n",
       "  'scanno': 4,\n",
       "  'logno': 4},\n",
       " {'loc': array([-0.0530073, -0.0787878,  0.05594  ,  0.       ,  0.       ,\n",
       "          0.       ,  0.       ,  0.       ,  0.       ,  0.       ,\n",
       "          0.       ,  0.       ]),\n",
       "  'unit_mul': 0,\n",
       "  'range': 1.0,\n",
       "  'cal': 1.0,\n",
       "  'kind': 2,\n",
       "  'coil_type': 1,\n",
       "  'unit': 107,\n",
       "  'coord_frame': 0,\n",
       "  'ch_name': 'P3',\n",
       "  'scanno': 5,\n",
       "  'logno': 5},\n",
       " {'loc': array([ 0.0556667, -0.0785602,  0.056561 ,  0.       ,  0.       ,\n",
       "          0.       ,  0.       ,  0.       ,  0.       ,  0.       ,\n",
       "          0.       ,  0.       ]),\n",
       "  'unit_mul': 0,\n",
       "  'range': 1.0,\n",
       "  'cal': 1.0,\n",
       "  'kind': 2,\n",
       "  'coil_type': 1,\n",
       "  'unit': 107,\n",
       "  'coord_frame': 0,\n",
       "  'ch_name': 'P4',\n",
       "  'scanno': 6,\n",
       "  'logno': 6},\n",
       " {'loc': array([-0.0365114, -0.1008529,  0.037167 ,  0.       ,  0.       ,\n",
       "          0.       ,  0.       ,  0.       ,  0.       ,  0.       ,\n",
       "          0.       ,  0.       ]),\n",
       "  'unit_mul': 0,\n",
       "  'range': 1.0,\n",
       "  'cal': 1.0,\n",
       "  'kind': 2,\n",
       "  'coil_type': 1,\n",
       "  'unit': 107,\n",
       "  'coord_frame': 0,\n",
       "  'ch_name': 'PO3',\n",
       "  'scanno': 7,\n",
       "  'logno': 7},\n",
       " {'loc': array([ 0.0367816, -0.1008491,  0.036397 ,  0.       ,  0.       ,\n",
       "          0.       ,  0.       ,  0.       ,  0.       ,  0.       ,\n",
       "          0.       ,  0.       ]),\n",
       "  'unit_mul': 0,\n",
       "  'range': 1.0,\n",
       "  'cal': 1.0,\n",
       "  'kind': 2,\n",
       "  'coil_type': 1,\n",
       "  'unit': 107,\n",
       "  'coord_frame': 0,\n",
       "  'ch_name': 'PO4',\n",
       "  'scanno': 8,\n",
       "  'logno': 8},\n",
       " {'loc': array([-0.0772149,  0.0186433,  0.02446  ,  0.       ,  0.       ,\n",
       "          0.       ,  0.       ,  0.       ,  0.       ,  0.       ,\n",
       "          0.       ,  0.       ]),\n",
       "  'unit_mul': 0,\n",
       "  'range': 1.0,\n",
       "  'cal': 1.0,\n",
       "  'kind': 2,\n",
       "  'coil_type': 1,\n",
       "  'unit': 107,\n",
       "  'coord_frame': 0,\n",
       "  'ch_name': 'FC5',\n",
       "  'scanno': 9,\n",
       "  'logno': 9},\n",
       " {'loc': array([0.0795341, 0.0199357, 0.024438 , 0.       , 0.       , 0.       ,\n",
       "         0.       , 0.       , 0.       , 0.       , 0.       , 0.       ]),\n",
       "  'unit_mul': 0,\n",
       "  'range': 1.0,\n",
       "  'cal': 1.0,\n",
       "  'kind': 2,\n",
       "  'coil_type': 1,\n",
       "  'unit': 107,\n",
       "  'coord_frame': 0,\n",
       "  'ch_name': 'FC6',\n",
       "  'scanno': 10,\n",
       "  'logno': 10},\n",
       " {'loc': array([-0.0795922, -0.0465507,  0.030949 ,  0.       ,  0.       ,\n",
       "          0.       ,  0.       ,  0.       ,  0.       ,  0.       ,\n",
       "          0.       ,  0.       ]),\n",
       "  'unit_mul': 0,\n",
       "  'range': 1.0,\n",
       "  'cal': 1.0,\n",
       "  'kind': 2,\n",
       "  'coil_type': 1,\n",
       "  'unit': 107,\n",
       "  'coord_frame': 0,\n",
       "  'ch_name': 'CP5',\n",
       "  'scanno': 11,\n",
       "  'logno': 11},\n",
       " {'loc': array([ 0.0833218, -0.0461013,  0.031206 ,  0.       ,  0.       ,\n",
       "          0.       ,  0.       ,  0.       ,  0.       ,  0.       ,\n",
       "          0.       ,  0.       ]),\n",
       "  'unit_mul': 0,\n",
       "  'range': 1.0,\n",
       "  'cal': 1.0,\n",
       "  'kind': 2,\n",
       "  'coil_type': 1,\n",
       "  'unit': 107,\n",
       "  'coord_frame': 0,\n",
       "  'ch_name': 'CP6',\n",
       "  'scanno': 12,\n",
       "  'logno': 12},\n",
       " {'loc': array([-0.0702629,  0.0424743, -0.01142  ,  0.       ,  0.       ,\n",
       "          0.       ,  0.       ,  0.       ,  0.       ,  0.       ,\n",
       "          0.       ,  0.       ]),\n",
       "  'unit_mul': 0,\n",
       "  'range': 1.0,\n",
       "  'cal': 1.0,\n",
       "  'kind': 2,\n",
       "  'coil_type': 1,\n",
       "  'unit': 107,\n",
       "  'coord_frame': 0,\n",
       "  'ch_name': 'F7',\n",
       "  'scanno': 13,\n",
       "  'logno': 13},\n",
       " {'loc': array([ 0.0730431,  0.0444217, -0.012    ,  0.       ,  0.       ,\n",
       "          0.       ,  0.       ,  0.       ,  0.       ,  0.       ,\n",
       "          0.       ,  0.       ]),\n",
       "  'unit_mul': 0,\n",
       "  'range': 1.0,\n",
       "  'cal': 1.0,\n",
       "  'kind': 2,\n",
       "  'coil_type': 1,\n",
       "  'unit': 107,\n",
       "  'coord_frame': 0,\n",
       "  'ch_name': 'F8',\n",
       "  'scanno': 14,\n",
       "  'logno': 14},\n",
       " {'loc': array([-0.0841611, -0.0160187, -0.009346 ,  0.       ,  0.       ,\n",
       "          0.       ,  0.       ,  0.       ,  0.       ,  0.       ,\n",
       "          0.       ,  0.       ]),\n",
       "  'unit_mul': 0,\n",
       "  'range': 1.0,\n",
       "  'cal': 1.0,\n",
       "  'kind': 2,\n",
       "  'coil_type': 1,\n",
       "  'unit': 107,\n",
       "  'coord_frame': 0,\n",
       "  'ch_name': 'T7',\n",
       "  'scanno': 15,\n",
       "  'logno': 15},\n",
       " {'loc': array([ 0.0850799, -0.0150203, -0.00949  ,  0.       ,  0.       ,\n",
       "          0.       ,  0.       ,  0.       ,  0.       ,  0.       ,\n",
       "          0.       ,  0.       ]),\n",
       "  'unit_mul': 0,\n",
       "  'range': 1.0,\n",
       "  'cal': 1.0,\n",
       "  'kind': 2,\n",
       "  'coil_type': 1,\n",
       "  'unit': 107,\n",
       "  'coord_frame': 0,\n",
       "  'ch_name': 'T8',\n",
       "  'scanno': 16,\n",
       "  'logno': 16},\n",
       " {'loc': array([-0.0724343, -0.0734527, -0.002487 ,  0.       ,  0.       ,\n",
       "          0.       ,  0.       ,  0.       ,  0.       ,  0.       ,\n",
       "          0.       ,  0.       ]),\n",
       "  'unit_mul': 0,\n",
       "  'range': 1.0,\n",
       "  'cal': 1.0,\n",
       "  'kind': 2,\n",
       "  'coil_type': 1,\n",
       "  'unit': 107,\n",
       "  'coord_frame': 0,\n",
       "  'ch_name': 'P7',\n",
       "  'scanno': 17,\n",
       "  'logno': 17},\n",
       " {'loc': array([ 0.0730557, -0.0730683, -0.00254  ,  0.       ,  0.       ,\n",
       "          0.       ,  0.       ,  0.       ,  0.       ,  0.       ,\n",
       "          0.       ,  0.       ]),\n",
       "  'unit_mul': 0,\n",
       "  'range': 1.0,\n",
       "  'cal': 1.0,\n",
       "  'kind': 2,\n",
       "  'coil_type': 1,\n",
       "  'unit': 107,\n",
       "  'coord_frame': 0,\n",
       "  'ch_name': 'P8',\n",
       "  'scanno': 18,\n",
       "  'logno': 18},\n",
       " {'loc': array([-0.0856192, -0.0465147, -0.045707 ,  0.       ,  0.       ,\n",
       "          0.       ,  0.       ,  0.       ,  0.       ,  0.       ,\n",
       "          0.       ,  0.       ]),\n",
       "  'unit_mul': 0,\n",
       "  'range': 1.0,\n",
       "  'cal': 1.0,\n",
       "  'kind': 2,\n",
       "  'coil_type': 1,\n",
       "  'unit': 107,\n",
       "  'coord_frame': 0,\n",
       "  'ch_name': 'TP9',\n",
       "  'scanno': 19,\n",
       "  'logno': 19},\n",
       " {'loc': array([ 0.0861618, -0.0470353, -0.045869 ,  0.       ,  0.       ,\n",
       "          0.       ,  0.       ,  0.       ,  0.       ,  0.       ,\n",
       "          0.       ,  0.       ]),\n",
       "  'unit_mul': 0,\n",
       "  'range': 1.0,\n",
       "  'cal': 1.0,\n",
       "  'kind': 2,\n",
       "  'coil_type': 1,\n",
       "  'unit': 107,\n",
       "  'coord_frame': 0,\n",
       "  'ch_name': 'TP10',\n",
       "  'scanno': 20,\n",
       "  'logno': 20},\n",
       " {'loc': array([-0.0549104, -0.0980448, -0.035465 ,  0.       ,  0.       ,\n",
       "          0.       ,  0.       ,  0.       ,  0.       ,  0.       ,\n",
       "          0.       ,  0.       ]),\n",
       "  'unit_mul': 0,\n",
       "  'range': 1.0,\n",
       "  'cal': 1.0,\n",
       "  'kind': 2,\n",
       "  'coil_type': 1,\n",
       "  'unit': 107,\n",
       "  'coord_frame': 0,\n",
       "  'ch_name': 'PO9',\n",
       "  'scanno': 21,\n",
       "  'logno': 21},\n",
       " {'loc': array([ 0.0549876, -0.0980911, -0.035541 ,  0.       ,  0.       ,\n",
       "          0.       ,  0.       ,  0.       ,  0.       ,  0.       ,\n",
       "          0.       ,  0.       ]),\n",
       "  'unit_mul': 0,\n",
       "  'range': 1.0,\n",
       "  'cal': 1.0,\n",
       "  'kind': 2,\n",
       "  'coil_type': 1,\n",
       "  'unit': 107,\n",
       "  'coord_frame': 0,\n",
       "  'ch_name': 'PO10',\n",
       "  'scanno': 22,\n",
       "  'logno': 22},\n",
       " {'loc': array([ 0.0001123,  0.088247 , -0.001713 ,  0.       ,  0.       ,\n",
       "          0.       ,  0.       ,  0.       ,  0.       ,  0.       ,\n",
       "          0.       ,  0.       ]),\n",
       "  'unit_mul': 0,\n",
       "  'range': 1.0,\n",
       "  'cal': 1.0,\n",
       "  'kind': 2,\n",
       "  'coil_type': 1,\n",
       "  'unit': 107,\n",
       "  'coord_frame': 0,\n",
       "  'ch_name': 'Fpz',\n",
       "  'scanno': 23,\n",
       "  'logno': 23},\n",
       " {'loc': array([0.0003122, 0.058512 , 0.066462 , 0.       , 0.       , 0.       ,\n",
       "         0.       , 0.       , 0.       , 0.       , 0.       , 0.       ]),\n",
       "  'unit_mul': 0,\n",
       "  'range': 1.0,\n",
       "  'cal': 1.0,\n",
       "  'kind': 2,\n",
       "  'coil_type': 1,\n",
       "  'unit': 107,\n",
       "  'coord_frame': 0,\n",
       "  'ch_name': 'Fz',\n",
       "  'scanno': 24,\n",
       "  'logno': 24},\n",
       " {'loc': array([ 0.0004009, -0.009167 ,  0.100244 ,  0.       ,  0.       ,\n",
       "          0.       ,  0.       ,  0.       ,  0.       ,  0.       ,\n",
       "          0.       ,  0.       ]),\n",
       "  'unit_mul': 0,\n",
       "  'range': 1.0,\n",
       "  'cal': 1.0,\n",
       "  'kind': 2,\n",
       "  'coil_type': 1,\n",
       "  'unit': 107,\n",
       "  'coord_frame': 0,\n",
       "  'ch_name': 'Cz',\n",
       "  'scanno': 25,\n",
       "  'logno': 25},\n",
       " {'loc': array([ 0.0003247, -0.081115 ,  0.082615 ,  0.       ,  0.       ,\n",
       "          0.       ,  0.       ,  0.       ,  0.       ,  0.       ,\n",
       "          0.       ,  0.       ]),\n",
       "  'unit_mul': 0,\n",
       "  'range': 1.0,\n",
       "  'cal': 1.0,\n",
       "  'kind': 2,\n",
       "  'coil_type': 1,\n",
       "  'unit': 107,\n",
       "  'coord_frame': 0,\n",
       "  'ch_name': 'Pz',\n",
       "  'scanno': 26,\n",
       "  'logno': 26},\n",
       " {'loc': array([ 0.0002156, -0.102178 ,  0.050608 ,  0.       ,  0.       ,\n",
       "          0.       ,  0.       ,  0.       ,  0.       ,  0.       ,\n",
       "          0.       ,  0.       ]),\n",
       "  'unit_mul': 0,\n",
       "  'range': 1.0,\n",
       "  'cal': 1.0,\n",
       "  'kind': 2,\n",
       "  'coil_type': 1,\n",
       "  'unit': 107,\n",
       "  'coord_frame': 0,\n",
       "  'ch_name': 'POz',\n",
       "  'scanno': 27,\n",
       "  'logno': 27},\n",
       " {'loc': array([ 1.07600e-04, -1.14892e-01,  1.46570e-02,  0.00000e+00,\n",
       "          0.00000e+00,  0.00000e+00,  0.00000e+00,  0.00000e+00,\n",
       "          0.00000e+00,  0.00000e+00,  0.00000e+00,  0.00000e+00]),\n",
       "  'unit_mul': 0,\n",
       "  'range': 1.0,\n",
       "  'cal': 1.0,\n",
       "  'kind': 2,\n",
       "  'coil_type': 1,\n",
       "  'unit': 107,\n",
       "  'coord_frame': 0,\n",
       "  'ch_name': 'Oz',\n",
       "  'scanno': 28,\n",
       "  'logno': 28},\n",
       " {'loc': array([ 4.50000e-06, -1.18565e-01, -2.30780e-02,  0.00000e+00,\n",
       "          0.00000e+00,  0.00000e+00,  0.00000e+00,  0.00000e+00,\n",
       "          0.00000e+00,  0.00000e+00,  0.00000e+00,  0.00000e+00]),\n",
       "  'unit_mul': 0,\n",
       "  'range': 1.0,\n",
       "  'cal': 1.0,\n",
       "  'kind': 2,\n",
       "  'coil_type': 1,\n",
       "  'unit': 107,\n",
       "  'coord_frame': 0,\n",
       "  'ch_name': 'Iz',\n",
       "  'scanno': 29,\n",
       "  'logno': 29},\n",
       " {'loc': array([0.0002313, 0.080771 , 0.035417 , 0.       , 0.       , 0.       ,\n",
       "         0.       , 0.       , 0.       , 0.       , 0.       , 0.       ]),\n",
       "  'unit_mul': 0,\n",
       "  'range': 1.0,\n",
       "  'cal': 1.0,\n",
       "  'kind': 2,\n",
       "  'coil_type': 1,\n",
       "  'unit': 107,\n",
       "  'coord_frame': 0,\n",
       "  'ch_name': 'AFz',\n",
       "  'scanno': 30,\n",
       "  'logno': 30},\n",
       " {'loc': array([nan, nan, nan, nan, nan, nan, nan, nan, nan, nan, nan, nan]),\n",
       "  'unit_mul': 0,\n",
       "  'range': 1.0,\n",
       "  'cal': 1.0,\n",
       "  'kind': 2,\n",
       "  'coil_type': 1,\n",
       "  'unit': 107,\n",
       "  'coord_frame': 0,\n",
       "  'ch_name': 'EOG',\n",
       "  'scanno': 31,\n",
       "  'logno': 31},\n",
       " {'loc': array([nan, nan, nan, nan, nan, nan, nan, nan, nan, nan, nan, nan]),\n",
       "  'unit_mul': 0,\n",
       "  'range': 1.0,\n",
       "  'cal': 1.0,\n",
       "  'kind': 2,\n",
       "  'coil_type': 1,\n",
       "  'unit': 107,\n",
       "  'coord_frame': 0,\n",
       "  'ch_name': 'ECG',\n",
       "  'scanno': 32,\n",
       "  'logno': 32},\n",
       " {'loc': array([nan, nan, nan, nan, nan, nan, nan, nan, nan, nan, nan, nan]),\n",
       "  'unit_mul': 0,\n",
       "  'range': 1.0,\n",
       "  'cal': 1.0,\n",
       "  'kind': 2,\n",
       "  'coil_type': 1,\n",
       "  'unit': 107,\n",
       "  'coord_frame': 0,\n",
       "  'ch_name': 'CW1',\n",
       "  'scanno': 33,\n",
       "  'logno': 33},\n",
       " {'loc': array([nan, nan, nan, nan, nan, nan, nan, nan, nan, nan, nan, nan]),\n",
       "  'unit_mul': 0,\n",
       "  'range': 1.0,\n",
       "  'cal': 1.0,\n",
       "  'kind': 2,\n",
       "  'coil_type': 1,\n",
       "  'unit': 107,\n",
       "  'coord_frame': 0,\n",
       "  'ch_name': 'CW2',\n",
       "  'scanno': 34,\n",
       "  'logno': 34},\n",
       " {'loc': array([nan, nan, nan, nan, nan, nan, nan, nan, nan, nan, nan, nan]),\n",
       "  'unit_mul': 0,\n",
       "  'range': 1.0,\n",
       "  'cal': 1.0,\n",
       "  'kind': 2,\n",
       "  'coil_type': 1,\n",
       "  'unit': 107,\n",
       "  'coord_frame': 0,\n",
       "  'ch_name': 'CW3',\n",
       "  'scanno': 35,\n",
       "  'logno': 35},\n",
       " {'loc': array([nan, nan, nan, nan, nan, nan, nan, nan, nan, nan, nan, nan]),\n",
       "  'unit_mul': 0,\n",
       "  'range': 1.0,\n",
       "  'cal': 1.0,\n",
       "  'kind': 2,\n",
       "  'coil_type': 1,\n",
       "  'unit': 107,\n",
       "  'coord_frame': 0,\n",
       "  'ch_name': 'CW4',\n",
       "  'scanno': 36,\n",
       "  'logno': 36},\n",
       " {'loc': array([nan, nan, nan, nan, nan, nan, nan, nan, nan, nan, nan, nan]),\n",
       "  'unit_mul': 0,\n",
       "  'range': 1.0,\n",
       "  'cal': 1.0,\n",
       "  'kind': 2,\n",
       "  'coil_type': 1,\n",
       "  'unit': 107,\n",
       "  'coord_frame': 0,\n",
       "  'ch_name': 'CW5',\n",
       "  'scanno': 37,\n",
       "  'logno': 37},\n",
       " {'loc': array([nan, nan, nan, nan, nan, nan, nan, nan, nan, nan, nan, nan]),\n",
       "  'unit_mul': 0,\n",
       "  'range': 1.0,\n",
       "  'cal': 1.0,\n",
       "  'kind': 2,\n",
       "  'coil_type': 1,\n",
       "  'unit': 107,\n",
       "  'coord_frame': 0,\n",
       "  'ch_name': 'CW6',\n",
       "  'scanno': 38,\n",
       "  'logno': 38},\n",
       " {'loc': array([nan, nan, nan, nan, nan, nan, nan, nan, nan, nan, nan, nan]),\n",
       "  'unit_mul': 0.0,\n",
       "  'range': 1.0,\n",
       "  'cal': 1.0,\n",
       "  'kind': 3,\n",
       "  'coil_type': 0,\n",
       "  'unit': -1,\n",
       "  'coord_frame': 0,\n",
       "  'ch_name': 'STI 014',\n",
       "  'scanno': 64,\n",
       "  'logno': 64}]"
      ]
     },
     "execution_count": 27,
     "metadata": {},
     "output_type": "execute_result"
    }
   ],
   "source": [
    "raw.info['chs']"
   ]
  },
  {
   "cell_type": "code",
   "execution_count": null,
   "metadata": {},
   "outputs": [],
   "source": [
    "mne.viz.plot_sensors?"
   ]
  }
 ],
 "metadata": {
  "kernelspec": {
   "display_name": "Python 3",
   "language": "python",
   "name": "python3"
  },
  "language_info": {
   "codemirror_mode": {
    "name": "ipython",
    "version": 3
   },
   "file_extension": ".py",
   "mimetype": "text/x-python",
   "name": "python",
   "nbconvert_exporter": "python",
   "pygments_lexer": "ipython3",
   "version": "3.6.6"
  }
 },
 "nbformat": 4,
 "nbformat_minor": 2
}
