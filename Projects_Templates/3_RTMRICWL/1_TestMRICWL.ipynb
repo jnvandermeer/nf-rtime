{
 "cells": [
  {
   "cell_type": "markdown",
   "metadata": {},
   "source": [
    "# Replaying Old Data\n",
    "\n",
    "- Work under a separate branch with git (i.e. git checkout -b my-new-branch)\n",
    "\n",
    "- Make a new folder in Projects (for your specific purposes)\n",
    "\n",
    "- Copy this ipynb file that folder\n",
    "\n",
    "- The data is stored on L-Drive\n",
    "\n",
    "- the main gist of re-playing existing data is:\n",
    "    - that your first load everything into a big matrix with mne\n",
    "    - then initialize a specific **amp** (i.e., the \"replayamp\")\n",
    "    - then do exactly the same as normal, with a while True loop with calls to amp.get_data()\n",
    "    "
   ]
  },
  {
   "cell_type": "code",
   "execution_count": 1,
   "metadata": {},
   "outputs": [],
   "source": [
    "# import all the needed stuff:\n",
    "\n",
    "import time\n",
    "import sys\n",
    "import numpy as np \n",
    "import matplotlib\n",
    "import matplotlib.pyplot as plt\n",
    "\n",
    "import easygui  # popup windows with buttons made easy\n",
    "import mne  # EEGLAB for python\n",
    "from IPython.display import clear_output  # to clear the cell output during while loop\n",
    "import re  # regular expressions\n",
    "import pickle  # to save/load data\n",
    "import dynarray  # a growing numpy array\n",
    "\n",
    "import logging\n",
    "logging.basicConfig(level=logging.ERROR)\n",
    "\n",
    "sys.path.append(\"../../mushu\")  # driver for the amps\n",
    "sys.path.append(\"../../mushu/libmushu\")\n",
    "import libmushu\n",
    "\n",
    "sys.path.append(\"../../nftools\")  # handy stuff needed for NF\n",
    "from nftools.loopcontrol import LoopState\n",
    "from nftools.analysis import convert_alld_allm_to_mne\n",
    "from nftools.analysis import select_part_from_mne_dataset\n",
    "from nftools.analysis import plot_compare_two_spectra\n",
    "\n",
    "\n",
    "sys.path.append(\"../../wyrm\")  # real-time data analysis\n",
    "from wyrm.types import RingBuffer\n",
    "from wyrm.types import BlockBuffer\n",
    "from wyrm import io\n",
    "from wyrm import processing as proc\n",
    "\n",
    "import scipy\n",
    "from scipy import signal\n",
    "\n",
    "from collections import deque  # a FILO list useful for plotting!"
   ]
  },
  {
   "cell_type": "code",
   "execution_count": 2,
   "metadata": {},
   "outputs": [
    {
     "name": "stdout",
     "output_type": "stream",
     "text": [
      "eoec_withsins_30hT.set\n",
      "The following EEG sensors did not have a position specified in the selected montage: ['ECG', 'CW6', 'CW5', 'CW4', 'CW3', 'CW2', 'CW1']. Their position has been left untouched.\n",
      "The data contains 'boundary' events, indicating data discontinuities. Be cautious of filtering and epoching around these events.\n",
      "Events like the following will be dropped entirely: ['eeo', 'boundary', 'eec', 'beo', 'qrs'], 6 in total\n",
      "249/249 event codes could not be mapped to integers. Use the 'event_id' parameter to map such events manually.\n",
      "As is, the trigger channel will consist entirely of zeros.\n",
      "Data will be preloaded. preload=False or a string preload is not supported when the data is stored in the .set file\n",
      "The following EEG sensors did not have a position specified in the selected montage: ['ECG', 'CW6', 'CW5', 'CW4', 'CW3', 'CW2', 'CW1']. Their position has been left untouched.\n"
     ]
    },
    {
     "name": "stderr",
     "output_type": "stream",
     "text": [
      "<ipython-input-2-0e8b9f639c3f>:9: RuntimeWarning: The following EEG sensors did not have a position specified in the selected montage: ['ECG', 'CW6', 'CW5', 'CW4', 'CW3', 'CW2', 'CW1']. Their position has been left untouched.\n",
      "  raw_fromfile = mne.io.read_raw_eeglab(fn)\n",
      "<ipython-input-2-0e8b9f639c3f>:9: RuntimeWarning: The data contains 'boundary' events, indicating data discontinuities. Be cautious of filtering and epoching around these events.\n",
      "  raw_fromfile = mne.io.read_raw_eeglab(fn)\n",
      "<ipython-input-2-0e8b9f639c3f>:9: RuntimeWarning: Events like the following will be dropped entirely: ['eeo', 'boundary', 'eec', 'beo', 'qrs'], 6 in total\n",
      "  raw_fromfile = mne.io.read_raw_eeglab(fn)\n",
      "<ipython-input-2-0e8b9f639c3f>:9: RuntimeWarning: 249/249 event codes could not be mapped to integers. Use the 'event_id' parameter to map such events manually.\n",
      "  raw_fromfile = mne.io.read_raw_eeglab(fn)\n",
      "<ipython-input-2-0e8b9f639c3f>:9: RuntimeWarning: As is, the trigger channel will consist entirely of zeros.\n",
      "  raw_fromfile = mne.io.read_raw_eeglab(fn)\n",
      "<ipython-input-2-0e8b9f639c3f>:9: RuntimeWarning: Data will be preloaded. preload=False or a string preload is not supported when the data is stored in the .set file\n",
      "  raw_fromfile = mne.io.read_raw_eeglab(fn)\n",
      "<ipython-input-2-0e8b9f639c3f>:11: RuntimeWarning: The following EEG sensors did not have a position specified in the selected montage: ['ECG', 'CW6', 'CW5', 'CW4', 'CW3', 'CW2', 'CW1']. Their position has been left untouched.\n",
      "  raw_fromfile.set_montage(montage)\n"
     ]
    },
    {
     "data": {
      "text/plain": [
       "<RawEEGLAB  |  None, n_channels x n_times : 39 x 200840 (200.8 sec), ~59.9 MB, data loaded>"
      ]
     },
     "execution_count": 2,
     "metadata": {},
     "output_type": "execute_result"
    }
   ],
   "source": [
    "# this is the replay notebook - so select a file for playback - this is for eeglab files.\n",
    "\n",
    "#fn=easygui.fileopenbox(default='*.set')\n",
    "# fn='trial_data_for_mri_cwl_development_withtrend.set'\n",
    "fn='eoec_withsins_30hT.set'\n",
    "#fn='trio2_eoec_outside_before.set'\n",
    "print(fn)\n",
    "\n",
    "raw_fromfile = mne.io.read_raw_eeglab(fn)\n",
    "montage=mne.channels.read_montage('standard_1005', ch_names=raw_fromfile.ch_names)  # always use MNE definitions\n",
    "raw_fromfile.set_montage(montage)"
   ]
  },
  {
   "cell_type": "code",
   "execution_count": 3,
   "metadata": {},
   "outputs": [],
   "source": [
    "# properties of the recording, and some properties of the While Loop:\n",
    "fs = raw_fromfile.info['sfreq']\n",
    "nbchan = raw_fromfile.info['nchan']-1\n",
    "updateTime = 0.1  # run some kind of calculation every X seconds\n",
    "buffSize = 1.0  # run calculation on last X seconds of data"
   ]
  },
  {
   "cell_type": "code",
   "execution_count": 4,
   "metadata": {},
   "outputs": [],
   "source": [
    "# preparation to plot stuff in real time:\n",
    "%matplotlib qt5 \n",
    "plt.ion()  # enable widget plots & interactive plots\n",
    "\n",
    "time_in_plot=2.0  # how much time in x-axis\n",
    "sy1=deque(np.zeros(round(fs * time_in_plot)), round(fs * time_in_plot))  # for plotting - the FILO list\n",
    "sy2=deque(np.zeros(round(fs * time_in_plot)), round(fs * time_in_plot))  # for plotting - the FILO list\n",
    "sy3=deque(np.zeros(round(fs/2 * time_in_plot)), round(fs/2 * time_in_plot))  # for plotting - the FILO list\n",
    "\n",
    "channel_to_plot=1\n",
    "sx = np.linspace(0, time_in_plot, round(fs * time_in_plot))\n",
    "sx2 = np.linspace(0, time_in_plot, round(fs/2 * time_in_plot))\n"
   ]
  },
  {
   "cell_type": "code",
   "execution_count": 5,
   "metadata": {},
   "outputs": [],
   "source": [
    "# real-time data filtering -- high-pass filter (of 1.0 Hz)\n",
    "\n",
    "f_low = 1.0\n",
    "# f_high = 15.0\n",
    "butter_ord = 3\n",
    "lenchannels = nbchan\n",
    "\n",
    "#rt_b, rt_a = signal.butter(butter_ord, [f_low / fn, f_high / fn], btype='band')\n",
    "rt_b_hp, rt_a_hp = signal.butter(butter_ord, 2*f_low/fs, btype='high', analog=False)  # a digital high-pass filter\n",
    "rt_zi_hp = proc.lfilter_zi(rt_b_hp, rt_a_hp, lenchannels)\n"
   ]
  },
  {
   "cell_type": "code",
   "execution_count": 6,
   "metadata": {},
   "outputs": [],
   "source": [
    "# real-time data filtering -- band-pass filter (of 12.0 - 15.0 Hz)\n",
    "\n",
    "f_low = 12.0\n",
    "f_high = 15.0\n",
    "butter_ord = 3\n",
    "lenchannels = nbchan\n",
    "\n",
    "#rt_b, rt_a = signal.butter(butter_ord, [f_low / fn, f_high / fn], btype='band')\n",
    "rt_b_bp, rt_a_bp = signal.butter(butter_ord, [2*f_low/fs, 2*f_high/fs], btype='band', analog=False)  # a digital high-pass filter\n",
    "rt_zi_bp = proc.lfilter_zi(rt_b_bp, rt_a_bp, lenchannels)"
   ]
  },
  {
   "cell_type": "code",
   "execution_count": 7,
   "metadata": {},
   "outputs": [],
   "source": [
    "# prepare data for replay (warning: need probably a lot of memory)\n",
    "\n",
    "mul_factor = 1.0\n",
    "if 1e-6 in [raw_fromfile.info['chs'][0]['cal'], raw_fromfile.info['chs'][0]['range']]:\n",
    "    mul_factor = 1.0 / 1e-6\n",
    "\n",
    "seed_d=raw_fromfile[:-1,:][0] * mul_factor  # scale the data to seed (so no 1e-6 stuff in the replayed data)\n",
    "seed_d=np.array(seed_d.transpose())\n",
    "seed_ch=raw_fromfile.ch_names[0:-1]\n",
    "seed_fs=raw_fromfile.info['sfreq']\n",
    "\n",
    "# prepare for replay; markers:\n",
    "seed_mdata=np.transpose(raw_fromfile[-1,:][0])\n",
    "seed_m=[[i / raw_fromfile.info['sfreq'] * 1000, int(m[0])] for i, m in enumerate(seed_mdata) if m > 0] "
   ]
  },
  {
   "cell_type": "code",
   "execution_count": 8,
   "metadata": {},
   "outputs": [],
   "source": [
    "amp = libmushu.get_amp('replayamp')\n",
    "amp.configure(seed_d, seed_m, seed_ch, seed_fs, realtime=True, blocksize_samples=100)"
   ]
  },
  {
   "cell_type": "code",
   "execution_count": 9,
   "metadata": {},
   "outputs": [],
   "source": [
    "from rtfilters import HPF, LPF, BPF, MR, CWL, RESAMPLESAFE"
   ]
  },
  {
   "cell_type": "code",
   "execution_count": 10,
   "metadata": {},
   "outputs": [
    {
     "name": "stdout",
     "output_type": "stream",
     "text": [
      "{'f': 1.0, 'fs': 1000, 'order': 3, 'nbchan': 38}\n",
      "{'trsamples': 9750, 'N_thr': 5, 'corr_thr': 0.995, 'forget': 5, 'highpass': [], 'ncorrvalues': 5000}\n",
      "{'f': 70, 'fs': 1000, 'order': 3, 'nbchan': 38}\n",
      "{'fs_source': 1000, 'fs_target': 256}\n",
      "{'seconds_in_window': 6.0, 'tdelay': 0.05, 'icws': [36, 37], 'ichs': [0, 1], 'fs': 256, 'highpass': []}\n"
     ]
    }
   ],
   "source": [
    "hpf=HPF(f=1.0, fs=1000, order=3, nbchan=38)\n",
    "#bpf=BPF(f=[12.0, 15.0], fs=5000, order=3, nbchan=38)\n",
    "#mr=MR(trsamples=10000, N_thr=5, corr_thr = 0.995, forget=6)\n",
    "mr=MR(trsamples=9750, N_thr=5, corr_thr = 0.995, forget=5, highpass=[])\n",
    "lpf=LPF(f=70, fs=1000, order=3, nbchan=38)\n",
    "resample=RESAMPLESAFE(fs_source=1000, fs_target=256)\n",
    "cwl=CWL(seconds_in_window=6.0, tdelay=0.050, ichs=list(range(0,2)), icws=list(range(36,38)), fs=256, highpass=[])\n",
    "\n",
    "# there are several recommendations to follow when building your MRI artifact removal.\n",
    "# it IS possible to do DC measurements in the MRI, but signal quality of MRI correction will suffer (only a little bit!) due to necessity of\n",
    "# applying HPF on data for MRI artifact considerations, and absence of any filter on the data that is corrected.\n",
    "# better to use hpf separately on data --> THEN MRI correction without any filters, than NO hpf and using hpf within the mr correction\n",
    "# however, the latter I still implement in case of SCP NF - when you have to use the second option."
   ]
  },
  {
   "cell_type": "code",
   "execution_count": 11,
   "metadata": {},
   "outputs": [
    {
     "data": {
      "text/plain": [
       "1000.0"
      ]
     },
     "execution_count": 11,
     "metadata": {},
     "output_type": "execute_result"
    }
   ],
   "source": [
    "amp.get_sampling_frequency()"
   ]
  },
  {
   "cell_type": "code",
   "execution_count": 12,
   "metadata": {},
   "outputs": [],
   "source": [
    "amp.start()"
   ]
  },
  {
   "cell_type": "code",
   "execution_count": null,
   "metadata": {},
   "outputs": [],
   "source": [
    "alld=dynarray.DynamicArray((None, len(amp.get_channels())))     # the growing numpy data matrix\n",
    "allm=[]     # markers\n",
    "sfreq = amp.get_sampling_frequency()  # sampling frequency\n",
    "ch_names=amp.get_channels()  # channel names\n",
    "\n",
    "rb = RingBuffer(buffSize * 1000)  # the buffer containing the last X seconds of data - declared in MILISECONDS\n",
    "totalTime = seed_d.shape[0]/raw_fromfile.info['sfreq']\n",
    "\n",
    "fig=plt.figure()  # plotting...\n",
    "th=fig.suptitle('')\n",
    "ah1=fig.add_subplot(131)\n",
    "ah2=fig.add_subplot(132)\n",
    "ah3=fig.add_subplot(133)\n",
    "l1, = ah1.plot(sx, sy1)\n",
    "l2, = ah2.plot(sx, sy2)\n",
    "l3, = ah3.plot(sx2, sy3)\n",
    "\n",
    "\n",
    "# l=LoopState(); l.start()\n",
    "markeroffset = 0  # needed to store all data in one big mat/vector\n",
    "t0=time.time()\n",
    "curTime=time.time()\n",
    "markTime=time.time()\n",
    "st=''\n",
    "i=0; fnames=[] # for making a movie...\n",
    "while curTime - t0 < totalTime:  # l.get_state() != 'Stop':\n",
    "   \n",
    "    \n",
    "    # keep track of time:\n",
    "    curTime = time.time()\n",
    "    \n",
    "    # this is where you get the data\n",
    "    data, marker = amp.get_data()\n",
    "    \n",
    "    \n",
    "    if data.shape[0] > 0:  # this is crucial for remembering filter state.\n",
    "\n",
    "\n",
    "        data2=hpf.handle(data)\n",
    "        data3=mr.handle(data2)\n",
    "        data4=lpf.handle(data3)\n",
    "        data5=resample.handle(data4)\n",
    "        data6=cwl.handle(data5)\n",
    "        \n",
    "        # something like this:\n",
    "        #filterchain = [HPFilter, MRFilter, LPFilter, ResampleFilter, HPFilter, CWLFilter]\n",
    "        \n",
    "        #corr_data = ProcessFilters(chain, (data, marker))\n",
    "        \n",
    "        \n",
    "        # use case -- first using the MR Corrector\n",
    "        #mr_data = MRFilter.filter(data)\n",
    "\n",
    "        # then -- using the CWL corrector\n",
    "        #cwl_mr_data = CWLFilter.filter(data)\n",
    "\n",
    "        \n",
    "        #dataf, rt_zi_bp = signal.lfilter(rt_b_bp, rt_a_bp, data, axis=0, zi=rt_zi_bp)  # how to operate directly on the data\n",
    "        \n",
    "        cnt = io.convert_mushu_data(data3, marker, sfreq, ch_names)\n",
    "        mr_cnt = io.convert_mushu_data(data4, marker, sfreq, ch_names)\n",
    "        cwl_cnt = io.convert_mushu_data(data6, marker, sfreq, ch_names)\n",
    "\n",
    "        # f_cnt, rt_zi_bp = proc.lfilter(cnt, rt_b_bp, rt_a_bp, zi=rt_zi_bp)  # real-time data preprocessing...\n",
    "\n",
    "        # plotting...\n",
    "        sy1.extend(cnt.data[:,channel_to_plot])  # to visualize/plot -- s1 and s2 are deque's\n",
    "        sy2.extend(mr_cnt.data[:,channel_to_plot])\n",
    "        sy3.extend(cwl_cnt.data[:,channel_to_plot])\n",
    "        \n",
    "        \n",
    "        l1.set_ydata(sy1)\n",
    "        l2.set_ydata(sy2)\n",
    "        l3.set_ydata(sy3)\n",
    "        msy1=np.mean(sy1)\n",
    "        msy2=np.mean(sy2)\n",
    "        msy3=np.mean(sy3)\n",
    "        ah1.set_ylim(-5000+msy1, 5000+msy1)\n",
    "        ah2.set_ylim(-250+msy2, 250+msy2)\n",
    "        ah3.set_ylim(-250+msy3, 250+msy3)\n",
    "\n",
    "        fig.canvas.draw()\n",
    "        fig.canvas.flush_events()\n",
    "\n",
    "        # i+=1; fname = '_tmp%03d.png' % i; plt.savefig(fname); fnames.append(fname)\n",
    "        \n",
    "        # currently has no purpose\n",
    "        newsamples = cnt.data.shape[0]\n",
    "\n",
    "        # append to ringbuffer, so we can calculate features later on on the last N secs/samples of data.\n",
    "        rb.append(cwl_cnt)\n",
    "\n",
    "        # append it to the big matrix, for saving later on with pickle.\n",
    "        alld.extend(data6)\n",
    "        for m in marker:\n",
    "            allm.append([m[0] + markeroffset, m[1]])\n",
    "        markeroffset += newsamples / float(sfreq) * 1000.\n",
    "        \n",
    "\n",
    "\n",
    "        # do the following every 0.1 msec - with with the ringbuffer:\n",
    "        if curTime - markTime > updateTime:\n",
    "            # do Stuff\n",
    "\n",
    "            markTime = curTime\n",
    "            # 1) obtain last 1-second(s)\n",
    "            d = rb.get()\n",
    "\n",
    "            \n",
    "\n",
    "            # clear_output(wait=True)  # write some logging information here\n",
    "            # clear_output clear the output of the cell, but if you do that you also remove the figures, it seems\n",
    "            # so don't do it!\n",
    "            str1 = 'Playing Back - time = %f' % (curTime - t0)\n",
    "            str2 = 'Length Markers: %d' % len(allm)\n",
    "            str3 = '%d, %d' % data.shape\n",
    "            #str4 = 'Feature Value: %f' % feature\n",
    "            #str5 = 'Scaled Signal for NF: %f' % signalToSend\n",
    "            #print(str1 + '\\n' + str2 + '\\n' + str3 + '\\n' + str4 + '\\n' + str5)\n",
    "            \n",
    "            # print('Length Markers: %d' % len(allm))\n",
    "            # print(data.shape)\n",
    "            th.set_text(str1 + '\\n' + str2 + '\\n' +str3)\n",
    "            #featureth.set_text(str4 + '\\n' + str5)\n",
    "\n",
    "\n",
    "\n"
   ]
  },
  {
   "cell_type": "code",
   "execution_count": null,
   "metadata": {},
   "outputs": [
    {
     "name": "stdout",
     "output_type": "stream",
     "text": [
      "> \u001b[0;32m/home/johan/nf/nf-rtime/Projects_Templates/3_RTMRICWL/rtfilters.py\u001b[0m(1038)\u001b[0;36mhandle\u001b[0;34m()\u001b[0m\n",
      "\u001b[0;32m   1037 \u001b[0;31m        \u001b[0;32melse\u001b[0m\u001b[0;34m:\u001b[0m\u001b[0;34m\u001b[0m\u001b[0m\n",
      "\u001b[0m\u001b[0;32m-> 1038 \u001b[0;31m            \u001b[0mself\u001b[0m\u001b[0;34m.\u001b[0m\u001b[0mbuff\u001b[0m\u001b[0;34m=\u001b[0m\u001b[0mnp\u001b[0m\u001b[0;34m.\u001b[0m\u001b[0mconcatenate\u001b[0m\u001b[0;34m(\u001b[0m\u001b[0mself\u001b[0m\u001b[0;34m.\u001b[0m\u001b[0mbuff\u001b[0m\u001b[0;34m,\u001b[0m \u001b[0mdata\u001b[0m\u001b[0;34m)\u001b[0m\u001b[0;34m\u001b[0m\u001b[0m\n",
      "\u001b[0m\u001b[0;32m   1039 \u001b[0;31m\u001b[0;34m\u001b[0m\u001b[0m\n",
      "\u001b[0m\n"
     ]
    },
    {
     "name": "stdin",
     "output_type": "stream",
     "text": [
      "ipdb>  self.buff\n"
     ]
    },
    {
     "name": "stdout",
     "output_type": "stream",
     "text": [
      "array([], shape=(0, 38), dtype=float64)\n"
     ]
    },
    {
     "name": "stdin",
     "output_type": "stream",
     "text": [
      "ipdb>  data\n"
     ]
    },
    {
     "name": "stdout",
     "output_type": "stream",
     "text": [
      "array([[ 659.41060199,  658.6991346 ,  659.25327234, ...,  647.66778474,\n",
      "         631.96821966,  632.31727003],\n",
      "       [ 659.04145416,  658.08179843,  658.75489601, ...,  647.60889236,\n",
      "         631.64102415,  631.84603206],\n",
      "       [ 658.57498932,  657.59001058,  658.21078241, ...,  647.4740846 ,\n",
      "         631.42746428,  631.37870809],\n",
      "       ...,\n",
      "       [-197.38515447, -181.40978434, -188.47218639, ..., -181.74570221,\n",
      "        -175.81218772, -173.18305106],\n",
      "       [-197.74442442, -181.68199867, -188.17221261, ..., -181.88669696,\n",
      "        -175.62863734, -173.44709353],\n",
      "       [-198.13175727, -182.12629108, -187.84575362, ..., -182.01466308,\n",
      "        -175.43989604, -173.81104621]])\n"
     ]
    },
    {
     "name": "stdin",
     "output_type": "stream",
     "text": [
      "ipdb>  data.shape\n"
     ]
    },
    {
     "name": "stdout",
     "output_type": "stream",
     "text": [
      "(1680, 38)\n"
     ]
    },
    {
     "name": "stdin",
     "output_type": "stream",
     "text": [
      "ipdb>  np.concatenate(self.buff, data)\n"
     ]
    },
    {
     "name": "stdout",
     "output_type": "stream",
     "text": [
      "*** TypeError: only integer scalar arrays can be converted to a scalar index\n"
     ]
    },
    {
     "name": "stdin",
     "output_type": "stream",
     "text": [
      "ipdb>  np.concatenate(self.buff, self.buff)\n"
     ]
    },
    {
     "name": "stdout",
     "output_type": "stream",
     "text": [
      "*** TypeError: only integer scalar arrays can be converted to a scalar index\n"
     ]
    },
    {
     "name": "stdin",
     "output_type": "stream",
     "text": [
      "ipdb>  np.concatenate(data, data)\n"
     ]
    },
    {
     "name": "stdout",
     "output_type": "stream",
     "text": [
      "*** TypeError: only integer scalar arrays can be converted to a scalar index\n"
     ]
    },
    {
     "name": "stdin",
     "output_type": "stream",
     "text": [
      "ipdb>  data.shape\n"
     ]
    },
    {
     "name": "stdout",
     "output_type": "stream",
     "text": [
      "(1680, 38)\n"
     ]
    },
    {
     "name": "stdin",
     "output_type": "stream",
     "text": [
      "ipdb>  data\n"
     ]
    },
    {
     "name": "stdout",
     "output_type": "stream",
     "text": [
      "array([[ 659.41060199,  658.6991346 ,  659.25327234, ...,  647.66778474,\n",
      "         631.96821966,  632.31727003],\n",
      "       [ 659.04145416,  658.08179843,  658.75489601, ...,  647.60889236,\n",
      "         631.64102415,  631.84603206],\n",
      "       [ 658.57498932,  657.59001058,  658.21078241, ...,  647.4740846 ,\n",
      "         631.42746428,  631.37870809],\n",
      "       ...,\n",
      "       [-197.38515447, -181.40978434, -188.47218639, ..., -181.74570221,\n",
      "        -175.81218772, -173.18305106],\n",
      "       [-197.74442442, -181.68199867, -188.17221261, ..., -181.88669696,\n",
      "        -175.62863734, -173.44709353],\n",
      "       [-198.13175727, -182.12629108, -187.84575362, ..., -182.01466308,\n",
      "        -175.43989604, -173.81104621]])\n"
     ]
    },
    {
     "name": "stdin",
     "output_type": "stream",
     "text": [
      "ipdb>  self.buff\n"
     ]
    },
    {
     "name": "stdout",
     "output_type": "stream",
     "text": [
      "array([], shape=(0, 38), dtype=float64)\n"
     ]
    },
    {
     "name": "stdin",
     "output_type": "stream",
     "text": [
      "ipdb>  data.shape\n"
     ]
    },
    {
     "name": "stdout",
     "output_type": "stream",
     "text": [
      "(1680, 38)\n"
     ]
    },
    {
     "name": "stdin",
     "output_type": "stream",
     "text": [
      "ipdb>  data.shape\n"
     ]
    },
    {
     "name": "stdout",
     "output_type": "stream",
     "text": [
      "(1680, 38)\n"
     ]
    },
    {
     "name": "stdin",
     "output_type": "stream",
     "text": [
      "ipdb>  self.buff.shape\n"
     ]
    },
    {
     "name": "stdout",
     "output_type": "stream",
     "text": [
      "(0, 38)\n"
     ]
    },
    {
     "name": "stdin",
     "output_type": "stream",
     "text": [
      "ipdb>  whos?\n"
     ]
    },
    {
     "name": "stdout",
     "output_type": "stream",
     "text": [
      "*** SyntaxError: invalid syntax\n"
     ]
    },
    {
     "name": "stdin",
     "output_type": "stream",
     "text": [
      "ipdb>  whos\n"
     ]
    },
    {
     "name": "stdout",
     "output_type": "stream",
     "text": [
      "*** NameError: name 'whos' is not defined\n"
     ]
    },
    {
     "name": "stdin",
     "output_type": "stream",
     "text": [
      "ipdb>  data.shape[0]\n"
     ]
    },
    {
     "name": "stdout",
     "output_type": "stream",
     "text": [
      "1680\n"
     ]
    },
    {
     "name": "stdin",
     "output_type": "stream",
     "text": [
      "ipdb>  data.shape[1]\n"
     ]
    },
    {
     "name": "stdout",
     "output_type": "stream",
     "text": [
      "38\n"
     ]
    },
    {
     "name": "stdin",
     "output_type": "stream",
     "text": [
      "ipdb>  np\n"
     ]
    },
    {
     "name": "stdout",
     "output_type": "stream",
     "text": [
      "<module 'numpy' from '/home/johan/.conda/envs/rt/lib/python3.6/site-packages/numpy/__init__.py'>\n"
     ]
    },
    {
     "name": "stdin",
     "output_type": "stream",
     "text": [
      "ipdb>  np.concatenate?\n"
     ]
    },
    {
     "name": "stdout",
     "output_type": "stream",
     "text": [
      "*** SyntaxError: invalid syntax\n"
     ]
    }
   ],
   "source": [
    "import ipdb\n",
    "ipdb.post_mortem(sys.last_traceback)"
   ]
  },
  {
   "cell_type": "code",
   "execution_count": 2,
   "metadata": {},
   "outputs": [],
   "source": [
    "import subprocess\n",
    "print('Making movie animation.mpg - this may take a while')\n",
    "subprocess.call(\"mencoder 'mf://_tmp*.png' -mf type=png:fps=10 -ovc lavc \"\n",
    "                \"-lavcopts vcodec=wmv2 -oac copy -o animation.mpg\", shell=True)"
   ]
  },
  {
   "cell_type": "code",
   "execution_count": 15,
   "metadata": {},
   "outputs": [
    {
     "data": {
      "text/plain": [
       "(280, 2)"
      ]
     },
     "execution_count": 15,
     "metadata": {},
     "output_type": "execute_result"
    }
   ],
   "source": [
    "data5.shape"
   ]
  },
  {
   "cell_type": "code",
   "execution_count": null,
   "metadata": {},
   "outputs": [],
   "source": [
    "import matplotlib.pyplot as plt"
   ]
  },
  {
   "cell_type": "code",
   "execution_count": null,
   "metadata": {},
   "outputs": [],
   "source": [
    "np.matrix"
   ]
  },
  {
   "cell_type": "code",
   "execution_count": 2,
   "metadata": {},
   "outputs": [
    {
     "data": {
      "text/plain": [
       "'/home/johan/.conda/envs/rt/bin/python'"
      ]
     },
     "execution_count": 2,
     "metadata": {},
     "output_type": "execute_result"
    }
   ],
   "source": [
    "sys.executable"
   ]
  },
  {
   "cell_type": "code",
   "execution_count": 3,
   "metadata": {},
   "outputs": [],
   "source": [
    "import numpy as np"
   ]
  },
  {
   "cell_type": "code",
   "execution_count": null,
   "metadata": {},
   "outputs": [],
   "source": [
    "np.ndarray"
   ]
  },
  {
   "cell_type": "code",
   "execution_count": 6,
   "metadata": {},
   "outputs": [],
   "source": [
    "m=np.random.random((3,3))"
   ]
  },
  {
   "cell_type": "code",
   "execution_count": null,
   "metadata": {},
   "outputs": [],
   "source": [
    "np.random.random((3,3)).copy"
   ]
  },
  {
   "cell_type": "code",
   "execution_count": 20,
   "metadata": {},
   "outputs": [
    {
     "data": {
      "text/plain": [
       "<Figure size 640x480 with 0 Axes>"
      ]
     },
     "execution_count": 20,
     "metadata": {},
     "output_type": "execute_result"
    }
   ],
   "source": [
    "plt.figure()"
   ]
  },
  {
   "cell_type": "code",
   "execution_count": 22,
   "metadata": {},
   "outputs": [
    {
     "data": {
      "text/plain": [
       "[<matplotlib.lines.Line2D at 0x7f85cdf79080>,\n",
       " <matplotlib.lines.Line2D at 0x7f85cdf79c88>,\n",
       " <matplotlib.lines.Line2D at 0x7f85cdf79dd8>]"
      ]
     },
     "execution_count": 22,
     "metadata": {},
     "output_type": "execute_result"
    }
   ],
   "source": [
    "plt.plot(cwl.betas[-1][::4,:])"
   ]
  },
  {
   "cell_type": "code",
   "execution_count": 15,
   "metadata": {},
   "outputs": [
    {
     "name": "stdout",
     "output_type": "stream",
     "text": [
      "> \u001b[0;32m/home/johan/nf/nf-rtime/Projects_Templates/3_RTMRICWL/rtfilters.py\u001b[0m(758)\u001b[0;36m_check_switch_betas\u001b[0;34m()\u001b[0m\n",
      "\u001b[0;32m    757 \u001b[0;31m        \u001b[0;32mif\u001b[0m \u001b[0mself\u001b[0m\u001b[0;34m.\u001b[0m\u001b[0m_queue_incoming_betas\u001b[0m\u001b[0;34m.\u001b[0m\u001b[0mqsize\u001b[0m\u001b[0;34m(\u001b[0m\u001b[0;34m)\u001b[0m \u001b[0;34m>\u001b[0m \u001b[0;36m0\u001b[0m\u001b[0;34m:\u001b[0m\u001b[0;34m\u001b[0m\u001b[0m\n",
      "\u001b[0m\u001b[0;32m--> 758 \u001b[0;31m            \u001b[0mbetas\u001b[0m\u001b[0;34m,\u001b[0m \u001b[0mdiff1\u001b[0m\u001b[0;34m,\u001b[0m \u001b[0mdiff2\u001b[0m \u001b[0;34m=\u001b[0m \u001b[0mself\u001b[0m\u001b[0;34m.\u001b[0m\u001b[0m_queue_incoming_betas\u001b[0m\u001b[0;34m.\u001b[0m\u001b[0mqsize\u001b[0m\u001b[0;34m.\u001b[0m\u001b[0mget\u001b[0m\u001b[0;34m(\u001b[0m\u001b[0;34m)\u001b[0m\u001b[0;34m\u001b[0m\u001b[0m\n",
      "\u001b[0m\u001b[0;32m    759 \u001b[0;31m\u001b[0;34m\u001b[0m\u001b[0m\n",
      "\u001b[0m\n"
     ]
    },
    {
     "name": "stdin",
     "output_type": "stream",
     "text": [
      "ipdb>  self._queue_incoming_betas\n"
     ]
    },
    {
     "name": "stdout",
     "output_type": "stream",
     "text": [
      "<multiprocessing.queues.Queue object at 0x7f6da80d8668>\n"
     ]
    },
    {
     "name": "stdin",
     "output_type": "stream",
     "text": [
      "ipdb>  self._queue_incoming_betas.qsize()\n"
     ]
    },
    {
     "name": "stdout",
     "output_type": "stream",
     "text": [
      "1\n"
     ]
    },
    {
     "name": "stdin",
     "output_type": "stream",
     "text": [
      "ipdb>  a, b, c = self._queue_incoming_betas.get()\n"
     ]
    },
    {
     "name": "stdout",
     "output_type": "stream",
     "text": [
      "self = <rtfilters.CWL object at 0x7f6da80d8630>\n"
     ]
    },
    {
     "name": "stdin",
     "output_type": "stream",
     "text": [
      "ipdb>  a\n"
     ]
    },
    {
     "name": "stdout",
     "output_type": "stream",
     "text": [
      "self = <rtfilters.CWL object at 0x7f6da80d8630>\n"
     ]
    },
    {
     "name": "stdin",
     "output_type": "stream",
     "text": [
      "ipdb>  b\n",
      "ipdb>  c\n"
     ]
    }
   ],
   "source": [
    "import ipdb\n",
    "ipdb.post_mortem(sys.last_traceback)"
   ]
  },
  {
   "cell_type": "code",
   "execution_count": null,
   "metadata": {},
   "outputs": [],
   "source": []
  },
  {
   "cell_type": "code",
   "execution_count": 16,
   "metadata": {},
   "outputs": [],
   "source": [
    "import traceback as tb"
   ]
  },
  {
   "cell_type": "code",
   "execution_count": 16,
   "metadata": {},
   "outputs": [
    {
     "ename": "NameError",
     "evalue": "name 'tb' is not defined",
     "output_type": "error",
     "traceback": [
      "\u001b[0;31m---------------------------------------------------------------------------\u001b[0m",
      "\u001b[0;31mNameError\u001b[0m                                 Traceback (most recent call last)",
      "\u001b[0;32m<ipython-input-16-f14eb4371b55>\u001b[0m in \u001b[0;36m<module>\u001b[0;34m()\u001b[0m\n\u001b[0;32m----> 1\u001b[0;31m \u001b[0;32mimport\u001b[0m \u001b[0mpdb\u001b[0m\u001b[0;34m;\u001b[0m \u001b[0mpdb\u001b[0m\u001b[0;34m.\u001b[0m\u001b[0mpost_mortem\u001b[0m\u001b[0;34m(\u001b[0m\u001b[0mtb\u001b[0m\u001b[0;34m)\u001b[0m\u001b[0;34m\u001b[0m\u001b[0m\n\u001b[0m",
      "\u001b[0;31mNameError\u001b[0m: name 'tb' is not defined"
     ]
    }
   ],
   "source": [
    "import pdb; pdb.post_mortem(tb)"
   ]
  },
  {
   "cell_type": "code",
   "execution_count": 15,
   "metadata": {},
   "outputs": [],
   "source": [
    "lu=[15, 14, 13, 12, 11, 10, 9, 8, 7, 6, 5, 4, 3, 2, 1]"
   ]
  },
  {
   "cell_type": "code",
   "execution_count": null,
   "metadata": {},
   "outputs": [],
   "source": [
    "sum([4 > i for i in [0, 1, 2, 3, 4, 5]])"
   ]
  },
  {
   "cell_type": "code",
   "execution_count": null,
   "metadata": {},
   "outputs": [],
   "source": [
    "lu[1:1+3]?"
   ]
  },
  {
   "cell_type": "code",
   "execution_count": 19,
   "metadata": {},
   "outputs": [],
   "source": [
    "mark=[i for i, lastused in enumerate(lu) if lastused > 10]"
   ]
  },
  {
   "cell_type": "code",
   "execution_count": 16,
   "metadata": {},
   "outputs": [
    {
     "data": {
      "text/plain": [
       "Type help() for interactive help, or help(object) for help about object."
      ]
     },
     "execution_count": 16,
     "metadata": {},
     "output_type": "execute_result"
    }
   ],
   "source": [
    "help"
   ]
  },
  {
   "cell_type": "code",
   "execution_count": 16,
   "metadata": {},
   "outputs": [],
   "source": [
    "for popi in reversed(mark):\n",
    "    lu.pop(popi)"
   ]
  },
  {
   "cell_type": "code",
   "execution_count": 17,
   "metadata": {},
   "outputs": [
    {
     "data": {
      "text/plain": [
       "[10, 9, 8, 7, 6, 5, 4, 3, 2, 1]"
      ]
     },
     "execution_count": 17,
     "metadata": {},
     "output_type": "execute_result"
    }
   ],
   "source": [
    "lu"
   ]
  },
  {
   "cell_type": "code",
   "execution_count": 4,
   "metadata": {},
   "outputs": [
    {
     "data": {
      "text/plain": [
       "39"
      ]
     },
     "execution_count": 4,
     "metadata": {},
     "output_type": "execute_result"
    }
   ],
   "source": [
    "len(l1)"
   ]
  },
  {
   "cell_type": "code",
   "execution_count": 2,
   "metadata": {},
   "outputs": [],
   "source": [
    "l1=[1, 1, 1, 1, 1, 1, 1, 1, 1, 1, 1, 1, 1, 1, 1, 1, 1, 1, 1, 1, 1, 1, 1, 1, 1, 1, 1, 1, 1, 1, 1, 1, 1, 1, 1, 1, 1, 1, 1]"
   ]
  },
  {
   "cell_type": "code",
   "execution_count": 3,
   "metadata": {},
   "outputs": [],
   "source": [
    "l2=[-0.009725803730136564, -0.013286856216523535, -0.0015234020565639168, 0.007469876784025759, 0.21877457609218673, 0.060098715105399894, -0.01152044543151802, -0.010705063562098325, 0.06596197714099682, 0.2209395760192517, 0.03471496614715212, -0.010944518706039706, 0.1077332572705931, 0.9385757350172169, 0.10389958737708403, -0.010958975008754477, 0.034747485560958864, 0.2137010394744165, 0.058628170832456, -0.00995803061856474, -0.009521755934525783, 0.06403311973637298, 0.21299163216259706, 0.0334891349327988, -0.010564141057113813, 0.10636356482254435, 0.9339726306369603, 0.10463196522428422, -0.01063869291601751, 0.03586258392270768, 0.22050137141841994, 0.05935932319157627, -0.010372115253860061, -0.008732075113004207, 0.06545691207213597, 0.2204034773349035, 0.03627234910415857, -0.010316740351968527, 0.11455022632253853]"
   ]
  },
  {
   "cell_type": "code",
   "execution_count": 19,
   "metadata": {},
   "outputs": [],
   "source": [
    "plt.figure()\n",
    "plt.plot(l2)\n",
    "plt.show()"
   ]
  },
  {
   "cell_type": "code",
   "execution_count": 28,
   "metadata": {},
   "outputs": [
    {
     "name": "stdout",
     "output_type": "stream",
     "text": [
      "[3, 2, 1]\n"
     ]
    }
   ],
   "source": [
    "print([1,2,3][::-1])"
   ]
  },
  {
   "cell_type": "code",
   "execution_count": 36,
   "metadata": {},
   "outputs": [
    {
     "data": {
      "text/plain": [
       "[]"
      ]
     },
     "execution_count": 36,
     "metadata": {},
     "output_type": "execute_result"
    }
   ],
   "source": [
    "list(reversed([]))"
   ]
  },
  {
   "cell_type": "code",
   "execution_count": null,
   "metadata": {},
   "outputs": [],
   "source": [
    "[].reverse"
   ]
  },
  {
   "cell_type": "code",
   "execution_count": 31,
   "metadata": {},
   "outputs": [
    {
     "data": {
      "text/plain": [
       "[]"
      ]
     },
     "execution_count": 31,
     "metadata": {},
     "output_type": "execute_result"
    }
   ],
   "source": [
    "[][::-1]"
   ]
  },
  {
   "cell_type": "code",
   "execution_count": 19,
   "metadata": {},
   "outputs": [
    {
     "name": "stdout",
     "output_type": "stream",
     "text": [
      "[]\n",
      "None\n"
     ]
    }
   ],
   "source": [
    "mark=[]\n",
    "print(mark)\n",
    "print(mark.reverse())\n",
    "for popi in mark: #.reverse():\n",
    "    print(1)"
   ]
  },
  {
   "cell_type": "code",
   "execution_count": 17,
   "metadata": {},
   "outputs": [
    {
     "data": {
      "text/plain": [
       "array([[-25. , -29. ,   4.5, ..., 104.5,  63. ,  51.5],\n",
       "       [-24.5, -30. ,   4. , ..., 104.5,  62. ,  50.5],\n",
       "       [-24.5, -29.5,   4. , ..., 104. ,  62. ,  51. ],\n",
       "       ...,\n",
       "       [  1.5,  44. , -29. , ..., -35. ,  48.5,  52.5],\n",
       "       [  2.5,  43.5, -28.5, ..., -34.5,  49. ,  52.5],\n",
       "       [  3. ,  42.5, -27.5, ..., -34. ,  48.5,  52. ]])"
      ]
     },
     "execution_count": 17,
     "metadata": {},
     "output_type": "execute_result"
    }
   ],
   "source": [
    "data4"
   ]
  },
  {
   "cell_type": "code",
   "execution_count": 18,
   "metadata": {},
   "outputs": [],
   "source": [
    "mark=[x for x in []]"
   ]
  },
  {
   "cell_type": "code",
   "execution_count": 20,
   "metadata": {},
   "outputs": [],
   "source": [
    "for i in mark:\n",
    "    print(i)"
   ]
  },
  {
   "cell_type": "code",
   "execution_count": 14,
   "metadata": {},
   "outputs": [
    {
     "data": {
      "text/plain": [
       "400"
      ]
     },
     "execution_count": 14,
     "metadata": {},
     "output_type": "execute_result"
    }
   ],
   "source": [
    "10000-9900 + 300"
   ]
  },
  {
   "cell_type": "code",
   "execution_count": 13,
   "metadata": {},
   "outputs": [
    {
     "name": "stdout",
     "output_type": "stream",
     "text": [
      "amplifier stopped!\n"
     ]
    }
   ],
   "source": [
    "amp.stop()\n",
    "alld.shrink_to_fit()"
   ]
  },
  {
   "cell_type": "code",
   "execution_count": 6,
   "metadata": {},
   "outputs": [
    {
     "data": {
      "text/plain": [
       "<list_iterator at 0x7f4754b4edd8>"
      ]
     },
     "execution_count": 6,
     "metadata": {},
     "output_type": "execute_result"
    }
   ],
   "source": []
  },
  {
   "cell_type": "code",
   "execution_count": 1,
   "metadata": {},
   "outputs": [
    {
     "ename": "ValueError",
     "evalue": "not enough values to unpack (expected 3, got 0)",
     "output_type": "error",
     "traceback": [
      "\u001b[0;31m---------------------------------------------------------------------------\u001b[0m",
      "\u001b[0;31mValueError\u001b[0m                                Traceback (most recent call last)",
      "\u001b[0;32m<ipython-input-1-5b0c1b52aa76>\u001b[0m in \u001b[0;36m<module>\u001b[0;34m()\u001b[0m\n\u001b[0;32m----> 1\u001b[0;31m \u001b[0ma\u001b[0m\u001b[0;34m,\u001b[0m \u001b[0mb\u001b[0m\u001b[0;34m,\u001b[0m \u001b[0mc\u001b[0m \u001b[0;34m=\u001b[0m \u001b[0;34m[\u001b[0m\u001b[0;34m]\u001b[0m\u001b[0;34m\u001b[0m\u001b[0m\n\u001b[0m",
      "\u001b[0;31mValueError\u001b[0m: not enough values to unpack (expected 3, got 0)"
     ]
    }
   ],
   "source": [
    "a, b, c = []"
   ]
  },
  {
   "cell_type": "code",
   "execution_count": 22,
   "metadata": {},
   "outputs": [],
   "source": [
    "# write to disk, so we can re-load it later:\n",
    "\n",
    "t={'alld':alld, 'allm':allm, 'ch_names':ch_names, 'sfreq':sfreq}\n",
    "with open('c-allm-and-alld.pkl', 'wb') as f:\n",
    "    pickle.dump(t, f)"
   ]
  },
  {
   "cell_type": "code",
   "execution_count": 16,
   "metadata": {},
   "outputs": [],
   "source": [
    "# load from disk:\n",
    "\n",
    "with open('c-allm-and-alld.pkl','rb') as f:\n",
    "    t=pickle.load(f)\n",
    "for key in t.keys():\n",
    "    locals()[key] = t[key]"
   ]
  },
  {
   "cell_type": "code",
   "execution_count": 23,
   "metadata": {},
   "outputs": [
    {
     "name": "stdout",
     "output_type": "stream",
     "text": [
      "The following EEG sensors did not have a position specified in the selected montage: ['EOG', 'ECG', 'CW1', 'CW2', 'CW3', 'CW4', 'CW5', 'CW6']. Their position has been left untouched.\n"
     ]
    },
    {
     "name": "stderr",
     "output_type": "stream",
     "text": [
      "../../nftools/nftools/analysis.py:31: RuntimeWarning: The following EEG sensors did not have a position specified in the selected montage: ['EOG', 'ECG', 'CW1', 'CW2', 'CW3', 'CW4', 'CW5', 'CW6']. Their position has been left untouched.\n",
      "  montage=montage\n"
     ]
    },
    {
     "name": "stdout",
     "output_type": "stream",
     "text": [
      "Creating RawArray with float64 data, n_channels=38, n_times=400001\n",
      "    Range : 0 ... 400000 =      0.000 ...    80.000 secs\n",
      "Ready.\n",
      "5000.0\n",
      "Creating RawArray with float64 data, n_channels=1, n_times=400001\n",
      "    Range : 0 ... 400000 =      0.000 ...    80.000 secs\n",
      "Ready.\n"
     ]
    }
   ],
   "source": [
    "raw = convert_alld_allm_to_mne(alld, allm, ch_names, sfreq)  # covert to MNE\n",
    "# raw.resample(1000)"
   ]
  },
  {
   "cell_type": "code",
   "execution_count": 24,
   "metadata": {},
   "outputs": [],
   "source": [
    "raw.plot(scalings='auto');"
   ]
  },
  {
   "cell_type": "code",
   "execution_count": 19,
   "metadata": {},
   "outputs": [],
   "source": [
    "# raw.set_eeg_reference(ref_channels='average')\n",
    "# better not (yet) - before removing bad channels, since these mess up your data big time: see PREP paper:\n"
   ]
  },
  {
   "cell_type": "code",
   "execution_count": 16,
   "metadata": {},
   "outputs": [
    {
     "name": "stdout",
     "output_type": "stream",
     "text": [
      "Setting up band-stop filter\n",
      "Filter length of 33001 samples (6.600 sec) selected\n"
     ]
    },
    {
     "data": {
      "text/plain": [
       "<RawArray  |  None, n_channels x n_times : 39 x 400001 (80.0 sec), ~119.1 MB, data loaded>"
      ]
     },
     "execution_count": 16,
     "metadata": {},
     "output_type": "execute_result"
    }
   ],
   "source": [
    "picks = mne.pick_types(raw.info, meg=False, eeg=True, eog=False,\n",
    "                       stim=False, exclude='bads')\n",
    "\n",
    "raw.notch_filter(np.arange(50, 300, 50), picks=picks, filter_length='auto', phase='zero')\n",
    "# add it (potentialy) some other preprocessing steps here"
   ]
  },
  {
   "cell_type": "code",
   "execution_count": 17,
   "metadata": {},
   "outputs": [
    {
     "name": "stdout",
     "output_type": "stream",
     "text": [
      "Effective window size : 1.638 (s)\n"
     ]
    },
    {
     "name": "stderr",
     "output_type": "stream",
     "text": [
      "/home/johan/.conda/envs/rt/lib/python3.6/site-packages/numpy/core/_methods.py:32: RuntimeWarning: invalid value encountered in reduce\n",
      "  return umr_minimum(a, axis, None, out, keepdims, initial)\n",
      "/home/johan/.conda/envs/rt/lib/python3.6/site-packages/numpy/core/_methods.py:28: RuntimeWarning: invalid value encountered in reduce\n",
      "  return umr_maximum(a, axis, None, out, keepdims, initial)\n",
      "/home/johan/.conda/envs/rt/lib/python3.6/site-packages/mne/viz/evoked.py:162: RuntimeWarning: invalid value encountered in maximum\n",
      "  rgb /= np.maximum(rgb.max(0), 1e-16)  # avoid div by zero\n",
      "/home/johan/.conda/envs/rt/lib/python3.6/site-packages/numpy/core/fromnumeric.py:83: RuntimeWarning: invalid value encountered in reduce\n",
      "  return ufunc.reduce(obj, axis, dtype, out, **passkwargs)\n",
      "/home/johan/.conda/envs/rt/lib/python3.6/site-packages/matplotlib/colors.py:251: RuntimeWarning: invalid value encountered in less\n",
      "  if np.any((result < 0) | (result > 1)):\n",
      "/home/johan/.conda/envs/rt/lib/python3.6/site-packages/matplotlib/colors.py:251: RuntimeWarning: invalid value encountered in greater\n",
      "  if np.any((result < 0) | (result > 1)):\n"
     ]
    }
   ],
   "source": [
    "raw.plot_psd(tmax=np.inf, fmax=1000, n_fft=2048*4);"
   ]
  },
  {
   "cell_type": "code",
   "execution_count": 29,
   "metadata": {},
   "outputs": [
    {
     "name": "stderr",
     "output_type": "stream",
     "text": [
      "/home/johan/.conda/envs/rt/lib/python3.6/site-packages/numpy/core/fromnumeric.py:83: RuntimeWarning: invalid value encountered in reduce\n",
      "  return ufunc.reduce(obj, axis, dtype, out, **passkwargs)\n"
     ]
    }
   ],
   "source": [
    "mne.viz.plot_sensors(raw.info, show_names=True, ch_type='eeg');"
   ]
  },
  {
   "cell_type": "code",
   "execution_count": 27,
   "metadata": {},
   "outputs": [
    {
     "data": {
      "text/plain": [
       "[{'loc': array([-0.0502438,  0.0531112,  0.042192 ,  0.       ,  0.       ,\n",
       "          0.       ,  0.       ,  0.       ,  0.       ,  0.       ,\n",
       "          0.       ,  0.       ]),\n",
       "  'unit_mul': 0,\n",
       "  'range': 1.0,\n",
       "  'cal': 1.0,\n",
       "  'kind': 2,\n",
       "  'coil_type': 1,\n",
       "  'unit': 107,\n",
       "  'coord_frame': 0,\n",
       "  'ch_name': 'F3',\n",
       "  'scanno': 1,\n",
       "  'logno': 1},\n",
       " {'loc': array([0.0518362, 0.0543048, 0.040814 , 0.       , 0.       , 0.       ,\n",
       "         0.       , 0.       , 0.       , 0.       , 0.       , 0.       ]),\n",
       "  'unit_mul': 0,\n",
       "  'range': 1.0,\n",
       "  'cal': 1.0,\n",
       "  'kind': 2,\n",
       "  'coil_type': 1,\n",
       "  'unit': 107,\n",
       "  'coord_frame': 0,\n",
       "  'ch_name': 'F4',\n",
       "  'scanno': 2,\n",
       "  'logno': 2},\n",
       " {'loc': array([-0.0653581, -0.0116317,  0.064358 ,  0.       ,  0.       ,\n",
       "          0.       ,  0.       ,  0.       ,  0.       ,  0.       ,\n",
       "          0.       ,  0.       ]),\n",
       "  'unit_mul': 0,\n",
       "  'range': 1.0,\n",
       "  'cal': 1.0,\n",
       "  'kind': 2,\n",
       "  'coil_type': 1,\n",
       "  'unit': 107,\n",
       "  'coord_frame': 0,\n",
       "  'ch_name': 'C3',\n",
       "  'scanno': 3,\n",
       "  'logno': 3},\n",
       " {'loc': array([ 0.0671179, -0.0109003,  0.06358  ,  0.       ,  0.       ,\n",
       "          0.       ,  0.       ,  0.       ,  0.       ,  0.       ,\n",
       "          0.       ,  0.       ]),\n",
       "  'unit_mul': 0,\n",
       "  'range': 1.0,\n",
       "  'cal': 1.0,\n",
       "  'kind': 2,\n",
       "  'coil_type': 1,\n",
       "  'unit': 107,\n",
       "  'coord_frame': 0,\n",
       "  'ch_name': 'C4',\n",
       "  'scanno': 4,\n",
       "  'logno': 4},\n",
       " {'loc': array([-0.0530073, -0.0787878,  0.05594  ,  0.       ,  0.       ,\n",
       "          0.       ,  0.       ,  0.       ,  0.       ,  0.       ,\n",
       "          0.       ,  0.       ]),\n",
       "  'unit_mul': 0,\n",
       "  'range': 1.0,\n",
       "  'cal': 1.0,\n",
       "  'kind': 2,\n",
       "  'coil_type': 1,\n",
       "  'unit': 107,\n",
       "  'coord_frame': 0,\n",
       "  'ch_name': 'P3',\n",
       "  'scanno': 5,\n",
       "  'logno': 5},\n",
       " {'loc': array([ 0.0556667, -0.0785602,  0.056561 ,  0.       ,  0.       ,\n",
       "          0.       ,  0.       ,  0.       ,  0.       ,  0.       ,\n",
       "          0.       ,  0.       ]),\n",
       "  'unit_mul': 0,\n",
       "  'range': 1.0,\n",
       "  'cal': 1.0,\n",
       "  'kind': 2,\n",
       "  'coil_type': 1,\n",
       "  'unit': 107,\n",
       "  'coord_frame': 0,\n",
       "  'ch_name': 'P4',\n",
       "  'scanno': 6,\n",
       "  'logno': 6},\n",
       " {'loc': array([-0.0365114, -0.1008529,  0.037167 ,  0.       ,  0.       ,\n",
       "          0.       ,  0.       ,  0.       ,  0.       ,  0.       ,\n",
       "          0.       ,  0.       ]),\n",
       "  'unit_mul': 0,\n",
       "  'range': 1.0,\n",
       "  'cal': 1.0,\n",
       "  'kind': 2,\n",
       "  'coil_type': 1,\n",
       "  'unit': 107,\n",
       "  'coord_frame': 0,\n",
       "  'ch_name': 'PO3',\n",
       "  'scanno': 7,\n",
       "  'logno': 7},\n",
       " {'loc': array([ 0.0367816, -0.1008491,  0.036397 ,  0.       ,  0.       ,\n",
       "          0.       ,  0.       ,  0.       ,  0.       ,  0.       ,\n",
       "          0.       ,  0.       ]),\n",
       "  'unit_mul': 0,\n",
       "  'range': 1.0,\n",
       "  'cal': 1.0,\n",
       "  'kind': 2,\n",
       "  'coil_type': 1,\n",
       "  'unit': 107,\n",
       "  'coord_frame': 0,\n",
       "  'ch_name': 'PO4',\n",
       "  'scanno': 8,\n",
       "  'logno': 8},\n",
       " {'loc': array([-0.0772149,  0.0186433,  0.02446  ,  0.       ,  0.       ,\n",
       "          0.       ,  0.       ,  0.       ,  0.       ,  0.       ,\n",
       "          0.       ,  0.       ]),\n",
       "  'unit_mul': 0,\n",
       "  'range': 1.0,\n",
       "  'cal': 1.0,\n",
       "  'kind': 2,\n",
       "  'coil_type': 1,\n",
       "  'unit': 107,\n",
       "  'coord_frame': 0,\n",
       "  'ch_name': 'FC5',\n",
       "  'scanno': 9,\n",
       "  'logno': 9},\n",
       " {'loc': array([0.0795341, 0.0199357, 0.024438 , 0.       , 0.       , 0.       ,\n",
       "         0.       , 0.       , 0.       , 0.       , 0.       , 0.       ]),\n",
       "  'unit_mul': 0,\n",
       "  'range': 1.0,\n",
       "  'cal': 1.0,\n",
       "  'kind': 2,\n",
       "  'coil_type': 1,\n",
       "  'unit': 107,\n",
       "  'coord_frame': 0,\n",
       "  'ch_name': 'FC6',\n",
       "  'scanno': 10,\n",
       "  'logno': 10},\n",
       " {'loc': array([-0.0795922, -0.0465507,  0.030949 ,  0.       ,  0.       ,\n",
       "          0.       ,  0.       ,  0.       ,  0.       ,  0.       ,\n",
       "          0.       ,  0.       ]),\n",
       "  'unit_mul': 0,\n",
       "  'range': 1.0,\n",
       "  'cal': 1.0,\n",
       "  'kind': 2,\n",
       "  'coil_type': 1,\n",
       "  'unit': 107,\n",
       "  'coord_frame': 0,\n",
       "  'ch_name': 'CP5',\n",
       "  'scanno': 11,\n",
       "  'logno': 11},\n",
       " {'loc': array([ 0.0833218, -0.0461013,  0.031206 ,  0.       ,  0.       ,\n",
       "          0.       ,  0.       ,  0.       ,  0.       ,  0.       ,\n",
       "          0.       ,  0.       ]),\n",
       "  'unit_mul': 0,\n",
       "  'range': 1.0,\n",
       "  'cal': 1.0,\n",
       "  'kind': 2,\n",
       "  'coil_type': 1,\n",
       "  'unit': 107,\n",
       "  'coord_frame': 0,\n",
       "  'ch_name': 'CP6',\n",
       "  'scanno': 12,\n",
       "  'logno': 12},\n",
       " {'loc': array([-0.0702629,  0.0424743, -0.01142  ,  0.       ,  0.       ,\n",
       "          0.       ,  0.       ,  0.       ,  0.       ,  0.       ,\n",
       "          0.       ,  0.       ]),\n",
       "  'unit_mul': 0,\n",
       "  'range': 1.0,\n",
       "  'cal': 1.0,\n",
       "  'kind': 2,\n",
       "  'coil_type': 1,\n",
       "  'unit': 107,\n",
       "  'coord_frame': 0,\n",
       "  'ch_name': 'F7',\n",
       "  'scanno': 13,\n",
       "  'logno': 13},\n",
       " {'loc': array([ 0.0730431,  0.0444217, -0.012    ,  0.       ,  0.       ,\n",
       "          0.       ,  0.       ,  0.       ,  0.       ,  0.       ,\n",
       "          0.       ,  0.       ]),\n",
       "  'unit_mul': 0,\n",
       "  'range': 1.0,\n",
       "  'cal': 1.0,\n",
       "  'kind': 2,\n",
       "  'coil_type': 1,\n",
       "  'unit': 107,\n",
       "  'coord_frame': 0,\n",
       "  'ch_name': 'F8',\n",
       "  'scanno': 14,\n",
       "  'logno': 14},\n",
       " {'loc': array([-0.0841611, -0.0160187, -0.009346 ,  0.       ,  0.       ,\n",
       "          0.       ,  0.       ,  0.       ,  0.       ,  0.       ,\n",
       "          0.       ,  0.       ]),\n",
       "  'unit_mul': 0,\n",
       "  'range': 1.0,\n",
       "  'cal': 1.0,\n",
       "  'kind': 2,\n",
       "  'coil_type': 1,\n",
       "  'unit': 107,\n",
       "  'coord_frame': 0,\n",
       "  'ch_name': 'T7',\n",
       "  'scanno': 15,\n",
       "  'logno': 15},\n",
       " {'loc': array([ 0.0850799, -0.0150203, -0.00949  ,  0.       ,  0.       ,\n",
       "          0.       ,  0.       ,  0.       ,  0.       ,  0.       ,\n",
       "          0.       ,  0.       ]),\n",
       "  'unit_mul': 0,\n",
       "  'range': 1.0,\n",
       "  'cal': 1.0,\n",
       "  'kind': 2,\n",
       "  'coil_type': 1,\n",
       "  'unit': 107,\n",
       "  'coord_frame': 0,\n",
       "  'ch_name': 'T8',\n",
       "  'scanno': 16,\n",
       "  'logno': 16},\n",
       " {'loc': array([-0.0724343, -0.0734527, -0.002487 ,  0.       ,  0.       ,\n",
       "          0.       ,  0.       ,  0.       ,  0.       ,  0.       ,\n",
       "          0.       ,  0.       ]),\n",
       "  'unit_mul': 0,\n",
       "  'range': 1.0,\n",
       "  'cal': 1.0,\n",
       "  'kind': 2,\n",
       "  'coil_type': 1,\n",
       "  'unit': 107,\n",
       "  'coord_frame': 0,\n",
       "  'ch_name': 'P7',\n",
       "  'scanno': 17,\n",
       "  'logno': 17},\n",
       " {'loc': array([ 0.0730557, -0.0730683, -0.00254  ,  0.       ,  0.       ,\n",
       "          0.       ,  0.       ,  0.       ,  0.       ,  0.       ,\n",
       "          0.       ,  0.       ]),\n",
       "  'unit_mul': 0,\n",
       "  'range': 1.0,\n",
       "  'cal': 1.0,\n",
       "  'kind': 2,\n",
       "  'coil_type': 1,\n",
       "  'unit': 107,\n",
       "  'coord_frame': 0,\n",
       "  'ch_name': 'P8',\n",
       "  'scanno': 18,\n",
       "  'logno': 18},\n",
       " {'loc': array([-0.0856192, -0.0465147, -0.045707 ,  0.       ,  0.       ,\n",
       "          0.       ,  0.       ,  0.       ,  0.       ,  0.       ,\n",
       "          0.       ,  0.       ]),\n",
       "  'unit_mul': 0,\n",
       "  'range': 1.0,\n",
       "  'cal': 1.0,\n",
       "  'kind': 2,\n",
       "  'coil_type': 1,\n",
       "  'unit': 107,\n",
       "  'coord_frame': 0,\n",
       "  'ch_name': 'TP9',\n",
       "  'scanno': 19,\n",
       "  'logno': 19},\n",
       " {'loc': array([ 0.0861618, -0.0470353, -0.045869 ,  0.       ,  0.       ,\n",
       "          0.       ,  0.       ,  0.       ,  0.       ,  0.       ,\n",
       "          0.       ,  0.       ]),\n",
       "  'unit_mul': 0,\n",
       "  'range': 1.0,\n",
       "  'cal': 1.0,\n",
       "  'kind': 2,\n",
       "  'coil_type': 1,\n",
       "  'unit': 107,\n",
       "  'coord_frame': 0,\n",
       "  'ch_name': 'TP10',\n",
       "  'scanno': 20,\n",
       "  'logno': 20},\n",
       " {'loc': array([-0.0549104, -0.0980448, -0.035465 ,  0.       ,  0.       ,\n",
       "          0.       ,  0.       ,  0.       ,  0.       ,  0.       ,\n",
       "          0.       ,  0.       ]),\n",
       "  'unit_mul': 0,\n",
       "  'range': 1.0,\n",
       "  'cal': 1.0,\n",
       "  'kind': 2,\n",
       "  'coil_type': 1,\n",
       "  'unit': 107,\n",
       "  'coord_frame': 0,\n",
       "  'ch_name': 'PO9',\n",
       "  'scanno': 21,\n",
       "  'logno': 21},\n",
       " {'loc': array([ 0.0549876, -0.0980911, -0.035541 ,  0.       ,  0.       ,\n",
       "          0.       ,  0.       ,  0.       ,  0.       ,  0.       ,\n",
       "          0.       ,  0.       ]),\n",
       "  'unit_mul': 0,\n",
       "  'range': 1.0,\n",
       "  'cal': 1.0,\n",
       "  'kind': 2,\n",
       "  'coil_type': 1,\n",
       "  'unit': 107,\n",
       "  'coord_frame': 0,\n",
       "  'ch_name': 'PO10',\n",
       "  'scanno': 22,\n",
       "  'logno': 22},\n",
       " {'loc': array([ 0.0001123,  0.088247 , -0.001713 ,  0.       ,  0.       ,\n",
       "          0.       ,  0.       ,  0.       ,  0.       ,  0.       ,\n",
       "          0.       ,  0.       ]),\n",
       "  'unit_mul': 0,\n",
       "  'range': 1.0,\n",
       "  'cal': 1.0,\n",
       "  'kind': 2,\n",
       "  'coil_type': 1,\n",
       "  'unit': 107,\n",
       "  'coord_frame': 0,\n",
       "  'ch_name': 'Fpz',\n",
       "  'scanno': 23,\n",
       "  'logno': 23},\n",
       " {'loc': array([0.0003122, 0.058512 , 0.066462 , 0.       , 0.       , 0.       ,\n",
       "         0.       , 0.       , 0.       , 0.       , 0.       , 0.       ]),\n",
       "  'unit_mul': 0,\n",
       "  'range': 1.0,\n",
       "  'cal': 1.0,\n",
       "  'kind': 2,\n",
       "  'coil_type': 1,\n",
       "  'unit': 107,\n",
       "  'coord_frame': 0,\n",
       "  'ch_name': 'Fz',\n",
       "  'scanno': 24,\n",
       "  'logno': 24},\n",
       " {'loc': array([ 0.0004009, -0.009167 ,  0.100244 ,  0.       ,  0.       ,\n",
       "          0.       ,  0.       ,  0.       ,  0.       ,  0.       ,\n",
       "          0.       ,  0.       ]),\n",
       "  'unit_mul': 0,\n",
       "  'range': 1.0,\n",
       "  'cal': 1.0,\n",
       "  'kind': 2,\n",
       "  'coil_type': 1,\n",
       "  'unit': 107,\n",
       "  'coord_frame': 0,\n",
       "  'ch_name': 'Cz',\n",
       "  'scanno': 25,\n",
       "  'logno': 25},\n",
       " {'loc': array([ 0.0003247, -0.081115 ,  0.082615 ,  0.       ,  0.       ,\n",
       "          0.       ,  0.       ,  0.       ,  0.       ,  0.       ,\n",
       "          0.       ,  0.       ]),\n",
       "  'unit_mul': 0,\n",
       "  'range': 1.0,\n",
       "  'cal': 1.0,\n",
       "  'kind': 2,\n",
       "  'coil_type': 1,\n",
       "  'unit': 107,\n",
       "  'coord_frame': 0,\n",
       "  'ch_name': 'Pz',\n",
       "  'scanno': 26,\n",
       "  'logno': 26},\n",
       " {'loc': array([ 0.0002156, -0.102178 ,  0.050608 ,  0.       ,  0.       ,\n",
       "          0.       ,  0.       ,  0.       ,  0.       ,  0.       ,\n",
       "          0.       ,  0.       ]),\n",
       "  'unit_mul': 0,\n",
       "  'range': 1.0,\n",
       "  'cal': 1.0,\n",
       "  'kind': 2,\n",
       "  'coil_type': 1,\n",
       "  'unit': 107,\n",
       "  'coord_frame': 0,\n",
       "  'ch_name': 'POz',\n",
       "  'scanno': 27,\n",
       "  'logno': 27},\n",
       " {'loc': array([ 1.07600e-04, -1.14892e-01,  1.46570e-02,  0.00000e+00,\n",
       "          0.00000e+00,  0.00000e+00,  0.00000e+00,  0.00000e+00,\n",
       "          0.00000e+00,  0.00000e+00,  0.00000e+00,  0.00000e+00]),\n",
       "  'unit_mul': 0,\n",
       "  'range': 1.0,\n",
       "  'cal': 1.0,\n",
       "  'kind': 2,\n",
       "  'coil_type': 1,\n",
       "  'unit': 107,\n",
       "  'coord_frame': 0,\n",
       "  'ch_name': 'Oz',\n",
       "  'scanno': 28,\n",
       "  'logno': 28},\n",
       " {'loc': array([ 4.50000e-06, -1.18565e-01, -2.30780e-02,  0.00000e+00,\n",
       "          0.00000e+00,  0.00000e+00,  0.00000e+00,  0.00000e+00,\n",
       "          0.00000e+00,  0.00000e+00,  0.00000e+00,  0.00000e+00]),\n",
       "  'unit_mul': 0,\n",
       "  'range': 1.0,\n",
       "  'cal': 1.0,\n",
       "  'kind': 2,\n",
       "  'coil_type': 1,\n",
       "  'unit': 107,\n",
       "  'coord_frame': 0,\n",
       "  'ch_name': 'Iz',\n",
       "  'scanno': 29,\n",
       "  'logno': 29},\n",
       " {'loc': array([0.0002313, 0.080771 , 0.035417 , 0.       , 0.       , 0.       ,\n",
       "         0.       , 0.       , 0.       , 0.       , 0.       , 0.       ]),\n",
       "  'unit_mul': 0,\n",
       "  'range': 1.0,\n",
       "  'cal': 1.0,\n",
       "  'kind': 2,\n",
       "  'coil_type': 1,\n",
       "  'unit': 107,\n",
       "  'coord_frame': 0,\n",
       "  'ch_name': 'AFz',\n",
       "  'scanno': 30,\n",
       "  'logno': 30},\n",
       " {'loc': array([nan, nan, nan, nan, nan, nan, nan, nan, nan, nan, nan, nan]),\n",
       "  'unit_mul': 0,\n",
       "  'range': 1.0,\n",
       "  'cal': 1.0,\n",
       "  'kind': 2,\n",
       "  'coil_type': 1,\n",
       "  'unit': 107,\n",
       "  'coord_frame': 0,\n",
       "  'ch_name': 'EOG',\n",
       "  'scanno': 31,\n",
       "  'logno': 31},\n",
       " {'loc': array([nan, nan, nan, nan, nan, nan, nan, nan, nan, nan, nan, nan]),\n",
       "  'unit_mul': 0,\n",
       "  'range': 1.0,\n",
       "  'cal': 1.0,\n",
       "  'kind': 2,\n",
       "  'coil_type': 1,\n",
       "  'unit': 107,\n",
       "  'coord_frame': 0,\n",
       "  'ch_name': 'ECG',\n",
       "  'scanno': 32,\n",
       "  'logno': 32},\n",
       " {'loc': array([nan, nan, nan, nan, nan, nan, nan, nan, nan, nan, nan, nan]),\n",
       "  'unit_mul': 0,\n",
       "  'range': 1.0,\n",
       "  'cal': 1.0,\n",
       "  'kind': 2,\n",
       "  'coil_type': 1,\n",
       "  'unit': 107,\n",
       "  'coord_frame': 0,\n",
       "  'ch_name': 'CW1',\n",
       "  'scanno': 33,\n",
       "  'logno': 33},\n",
       " {'loc': array([nan, nan, nan, nan, nan, nan, nan, nan, nan, nan, nan, nan]),\n",
       "  'unit_mul': 0,\n",
       "  'range': 1.0,\n",
       "  'cal': 1.0,\n",
       "  'kind': 2,\n",
       "  'coil_type': 1,\n",
       "  'unit': 107,\n",
       "  'coord_frame': 0,\n",
       "  'ch_name': 'CW2',\n",
       "  'scanno': 34,\n",
       "  'logno': 34},\n",
       " {'loc': array([nan, nan, nan, nan, nan, nan, nan, nan, nan, nan, nan, nan]),\n",
       "  'unit_mul': 0,\n",
       "  'range': 1.0,\n",
       "  'cal': 1.0,\n",
       "  'kind': 2,\n",
       "  'coil_type': 1,\n",
       "  'unit': 107,\n",
       "  'coord_frame': 0,\n",
       "  'ch_name': 'CW3',\n",
       "  'scanno': 35,\n",
       "  'logno': 35},\n",
       " {'loc': array([nan, nan, nan, nan, nan, nan, nan, nan, nan, nan, nan, nan]),\n",
       "  'unit_mul': 0,\n",
       "  'range': 1.0,\n",
       "  'cal': 1.0,\n",
       "  'kind': 2,\n",
       "  'coil_type': 1,\n",
       "  'unit': 107,\n",
       "  'coord_frame': 0,\n",
       "  'ch_name': 'CW4',\n",
       "  'scanno': 36,\n",
       "  'logno': 36},\n",
       " {'loc': array([nan, nan, nan, nan, nan, nan, nan, nan, nan, nan, nan, nan]),\n",
       "  'unit_mul': 0,\n",
       "  'range': 1.0,\n",
       "  'cal': 1.0,\n",
       "  'kind': 2,\n",
       "  'coil_type': 1,\n",
       "  'unit': 107,\n",
       "  'coord_frame': 0,\n",
       "  'ch_name': 'CW5',\n",
       "  'scanno': 37,\n",
       "  'logno': 37},\n",
       " {'loc': array([nan, nan, nan, nan, nan, nan, nan, nan, nan, nan, nan, nan]),\n",
       "  'unit_mul': 0,\n",
       "  'range': 1.0,\n",
       "  'cal': 1.0,\n",
       "  'kind': 2,\n",
       "  'coil_type': 1,\n",
       "  'unit': 107,\n",
       "  'coord_frame': 0,\n",
       "  'ch_name': 'CW6',\n",
       "  'scanno': 38,\n",
       "  'logno': 38},\n",
       " {'loc': array([nan, nan, nan, nan, nan, nan, nan, nan, nan, nan, nan, nan]),\n",
       "  'unit_mul': 0.0,\n",
       "  'range': 1.0,\n",
       "  'cal': 1.0,\n",
       "  'kind': 3,\n",
       "  'coil_type': 0,\n",
       "  'unit': -1,\n",
       "  'coord_frame': 0,\n",
       "  'ch_name': 'STI 014',\n",
       "  'scanno': 64,\n",
       "  'logno': 64}]"
      ]
     },
     "execution_count": 27,
     "metadata": {},
     "output_type": "execute_result"
    }
   ],
   "source": [
    "raw.info['chs']"
   ]
  },
  {
   "cell_type": "code",
   "execution_count": null,
   "metadata": {},
   "outputs": [],
   "source": [
    "mne.viz.plot_sensors?"
   ]
  }
 ],
 "metadata": {
  "kernelspec": {
   "display_name": "Python 3",
   "language": "python",
   "name": "python3"
  },
  "language_info": {
   "codemirror_mode": {
    "name": "ipython",
    "version": 3
   },
   "file_extension": ".py",
   "mimetype": "text/x-python",
   "name": "python",
   "nbconvert_exporter": "python",
   "pygments_lexer": "ipython3",
   "version": "3.6.6"
  }
 },
 "nbformat": 4,
 "nbformat_minor": 2
}
