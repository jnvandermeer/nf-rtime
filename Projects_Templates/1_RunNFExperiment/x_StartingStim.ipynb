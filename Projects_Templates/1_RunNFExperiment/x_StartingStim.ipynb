{
 "cells": [
  {
   "cell_type": "markdown",
   "metadata": {},
   "source": [
    "# some codes to start up the stimulation computer.\n",
    "\n",
    "Be mindful, the IP address should be set properly. So, either this and the stim computer are on the same network, or the stim computer is logged into the wifi hotspot of this computer.\n",
    "\n",
    "You need to figure out what each computer's IP address is\n"
   ]
  },
  {
   "cell_type": "code",
   "execution_count": 1,
   "metadata": {},
   "outputs": [],
   "source": [
    "import sys\n",
    "sys.path.append(\"../../callpyff\")   # talk to the stimuli\n",
    "from callpyff import bcinetwork, bcixml "
   ]
  },
  {
   "cell_type": "code",
   "execution_count": 2,
   "metadata": {},
   "outputs": [],
   "source": [
    "# bcinet = bcinetwork.BciNetwork('20.100.0.2', bcinetwork.FC_PORT, bcinetwork.GUI_PORT, 'bcixml')\n",
    "bcinet = bcinetwork.BciNetwork('10.42.0.216', bcinetwork.FC_PORT, bcinetwork.GUI_PORT, 'bcixml')\n"
   ]
  },
  {
   "cell_type": "code",
   "execution_count": 3,
   "metadata": {},
   "outputs": [
    {
     "name": "stderr",
     "output_type": "stream",
     "text": [
      "Receiving from FC failed (timeout).\n"
     ]
    },
    {
     "name": "stdout",
     "output_type": "stream",
     "text": [
      "None\n"
     ]
    }
   ],
   "source": [
    "feedbacks = bcinet.getAvailableFeedbacks()\n",
    "print(feedbacks)"
   ]
  },
  {
   "cell_type": "code",
   "execution_count": 6,
   "metadata": {},
   "outputs": [],
   "source": [
    "bcinet.send_init('EEGfMRILocalizer')"
   ]
  },
  {
   "cell_type": "code",
   "execution_count": 7,
   "metadata": {},
   "outputs": [
    {
     "data": {
      "text/plain": [
       "{'MONITOR_NSCREENS': 1,\n",
       " 'MONITOR_WIDTH': 40.0,\n",
       " 'fontheight': 200,\n",
       " 'color': [0, 0, 0],\n",
       " 'MONITOR_DEGS_WIDTHBASE': 30,\n",
       " 'MONITOR_HEIGHT': 30.0,\n",
       " 'GNGSPEED': 1.0,\n",
       " 'BUTTONS': ['lctrl', 'rctrl'],\n",
       " 'udp_markers_port': 12344,\n",
       " 'MONITOR_USEDEGS': True,\n",
       " 'MONITOR_ALLOWGUI': False,\n",
       " 'MONITOR_DISPLAYONSCREEN': 1,\n",
       " 'EVENT_TRIGLOG': 'log/triggerlog.log',\n",
       " 'EVENT_sendParallel': True,\n",
       " 'VIS_checkerSpeedMultiplier': 1.0,\n",
       " 'PORT': 6050,\n",
       " 'udp_markers_host': '127.0.0.1',\n",
       " 'MONITOR_DEGS_HEIGHTBASE': 25,\n",
       " 'EYESCLOSED_TIME': 25.0,\n",
       " 'EVENT_printToTerminal': True,\n",
       " 'MONITOR_FULLSCR': False,\n",
       " 'VIS_SHOWOPPOSITE': False,\n",
       " 'VIS_radialFreq': 6,\n",
       " 'STARTKEYS': ['return', 't'],\n",
       " 'LPT_TRIGGER_WAIT': 0.005,\n",
       " 'MONITOR_DISTANCE': 70.0,\n",
       " 'EVENT_sendTcpIp': True,\n",
       " 'tooSoonTime': 0.0,\n",
       " 'LOGFILEBASE': 'efl',\n",
       " 'VIS_angleFreq': 6,\n",
       " 'GNG_ARROWGOESRED': True,\n",
       " 'MONITOR_GAMMA': 1.0,\n",
       " 'MONITOR_PIXWIDTH': 1366,\n",
       " 'EVENT_LPTTrigWaitTime': 0.005,\n",
       " 'EVENT_destip': '127.0.0.1',\n",
       " 'EVENT_sendLogFile': True,\n",
       " 'DO_GNG': True,\n",
       " 'EVENT_destport': 6050,\n",
       " 'MONITOR_FLIPVERTICAL': False,\n",
       " 'INSTR': 'Remember, respond as FAST as you can once you see the arrow.  However, if you hear a beep, your task is to STOP yourself from pressing.  Stopping and Going are equally important.',\n",
       " 'MONITOR_PIXHEIGHT': 768,\n",
       " 'AUDIOTONE_ERROR_COMMISSION': False,\n",
       " 'DO_AUDIO': True,\n",
       " 'EVENT_printToTerminalAllowed': [0, 40],\n",
       " 'EVENT_LPTAddress': 888,\n",
       " 'caption': 'EEG - fMRI Localizer',\n",
       " 'DO_VISUAL': True,\n",
       " 'RECORDFRAMEINTERVALS': True,\n",
       " 'LOGDIR': 'log',\n",
       " 'GNG_ARROWGOESRED_DELAY': 0.25,\n",
       " 'VIS_checkerSize': 1.5,\n",
       " 'AUDIOTONE_STOP': False,\n",
       " 'IPADDRESS': 'localhost',\n",
       " 'MONITOR_FPS': 60.0,\n",
       " 'MONITOR_FLIPHORIZONTAL': False}"
      ]
     },
     "execution_count": 7,
     "metadata": {},
     "output_type": "execute_result"
    }
   ],
   "source": [
    "bcinet.get_variables()"
   ]
  },
  {
   "cell_type": "code",
   "execution_count": 8,
   "metadata": {},
   "outputs": [],
   "source": [
    "bcinet.send_signal(bcixml.BciSignal({'EX_TESTNFNOISE': False},None, bcixml.INTERACTION_SIGNAL))"
   ]
  },
  {
   "cell_type": "code",
   "execution_count": 9,
   "metadata": {},
   "outputs": [],
   "source": [
    "bcinet.play()"
   ]
  },
  {
   "cell_type": "code",
   "execution_count": null,
   "metadata": {},
   "outputs": [],
   "source": []
  }
 ],
 "metadata": {
  "kernelspec": {
   "display_name": "Python 3",
   "language": "python",
   "name": "python3"
  },
  "language_info": {
   "codemirror_mode": {
    "name": "ipython",
    "version": 3
   },
   "file_extension": ".py",
   "mimetype": "text/x-python",
   "name": "python",
   "nbconvert_exporter": "python",
   "pygments_lexer": "ipython3",
   "version": "3.7.3"
  }
 },
 "nbformat": 4,
 "nbformat_minor": 4
}
