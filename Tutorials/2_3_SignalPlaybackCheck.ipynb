{
 "cells": [
  {
   "cell_type": "markdown",
   "metadata": {},
   "source": [
    "## Checking the signal as it is being played back\n",
    "\n",
    "This is basically code that already is described in [2_1_SignalAcquisition.ipynb](2_1_SignalAcquisition.ipynb), but this time only the bare necessity to run pylsl to check the stream. \n",
    "\n",
    "It is assumed a data stream (of any kind) is already running"
   ]
  },
  {
   "cell_type": "code",
   "execution_count": 1,
   "metadata": {},
   "outputs": [],
   "source": [
    "import pylsl"
   ]
  },
  {
   "cell_type": "code",
   "execution_count": 2,
   "metadata": {},
   "outputs": [],
   "source": [
    "streams=pylsl.resolve_streams()"
   ]
  },
  {
   "cell_type": "code",
   "execution_count": 3,
   "metadata": {},
   "outputs": [
    {
     "data": {
      "text/plain": [
       "[<pylsl.pylsl.StreamInfo at 0x7fe148428eb8>,\n",
       " <pylsl.pylsl.StreamInfo at 0x7fe1484690b8>]"
      ]
     },
     "execution_count": 3,
     "metadata": {},
     "output_type": "execute_result"
    }
   ],
   "source": [
    "streams"
   ]
  },
  {
   "cell_type": "code",
   "execution_count": 4,
   "metadata": {},
   "outputs": [],
   "source": [
    "inlet=pylsl.stream_inlet(streams[0])"
   ]
  },
  {
   "cell_type": "code",
   "execution_count": 5,
   "metadata": {},
   "outputs": [
    {
     "name": "stdout",
     "output_type": "stream",
     "text": [
      "0\n"
     ]
    }
   ],
   "source": [
    "data, times=inlet.pull_chunk()\n",
    "print(len(data))"
   ]
  },
  {
   "cell_type": "markdown",
   "metadata": {},
   "source": [
    "Here you should get some data; perhaps you should call it again if there is nothing:"
   ]
  },
  {
   "cell_type": "code",
   "execution_count": 6,
   "metadata": {},
   "outputs": [
    {
     "name": "stdout",
     "output_type": "stream",
     "text": [
      "301\n"
     ]
    }
   ],
   "source": [
    "data, times=inlet.pull_chunk()\n",
    "print(len(data))"
   ]
  },
  {
   "cell_type": "code",
   "execution_count": 8,
   "metadata": {},
   "outputs": [
    {
     "data": {
      "text/plain": [
       "[<matplotlib.lines.Line2D at 0x7fe11a71ee10>,\n",
       " <matplotlib.lines.Line2D at 0x7fe11a71ef98>,\n",
       " <matplotlib.lines.Line2D at 0x7fe11a726128>,\n",
       " <matplotlib.lines.Line2D at 0x7fe11a726278>,\n",
       " <matplotlib.lines.Line2D at 0x7fe11a7263c8>,\n",
       " <matplotlib.lines.Line2D at 0x7fe11a726518>,\n",
       " <matplotlib.lines.Line2D at 0x7fe11a726668>,\n",
       " <matplotlib.lines.Line2D at 0x7fe11a7267b8>,\n",
       " <matplotlib.lines.Line2D at 0x7fe11a726908>,\n",
       " <matplotlib.lines.Line2D at 0x7fe11a726a58>,\n",
       " <matplotlib.lines.Line2D at 0x7fe11a77f7f0>,\n",
       " <matplotlib.lines.Line2D at 0x7fe11a726cc0>,\n",
       " <matplotlib.lines.Line2D at 0x7fe11a726e10>,\n",
       " <matplotlib.lines.Line2D at 0x7fe11a726f60>,\n",
       " <matplotlib.lines.Line2D at 0x7fe11a72c0f0>,\n",
       " <matplotlib.lines.Line2D at 0x7fe11a72c240>]"
      ]
     },
     "execution_count": 8,
     "metadata": {},
     "output_type": "execute_result"
    },
    {
     "data": {
      "image/png": "[encoded data removed]",
      "text/plain": [
       "<Figure size 432x288 with 1 Axes>"
      ]
     },
     "metadata": {
      "needs_background": "light"
     },
     "output_type": "display_data"
    }
   ],
   "source": [
    "import matplotlib.pyplot as plt\n",
    "\n",
    "plt.plot(data)"
   ]
  },
  {
   "cell_type": "markdown",
   "metadata": {},
   "source": [
    "If you can grab some data, the playback (or your device) works\n",
    "\n",
    "To actually work with the real-time data stream, as mentioned in [2_1_SignalAcquisition.ipynb](2_1_SignalAcquisition.ipynb), it goes like this:\n",
    "\n",
    "```python\n",
    "while True:\n",
    "    data, times = inlet.pull_chunk()\n",
    "    \n",
    "    # val = do_some_processing(data)\n",
    "    \n",
    "    # send_to_feedback_presentation(val)\n",
    "```\n",
    "\n",
    "where do_some_processing can be anything involving calibration data, some ICA or PCA-derived spatial maps, filtering, or any combination thereof depending on your goals.\n",
    "\n",
    "the send_to_feedback_presentation is the part where you transmit your feature/value that is to be send to the feedback stimulus. Instead of a value, you could also specify markers, times, or any indicator of altered behavior depending on the real-time incoming data"
   ]
  },
  {
   "cell_type": "markdown",
   "metadata": {},
   "source": [
    "## Addendum - Plotting the datastream in a 'live' Qt window\n",
    "\n",
    "We need stuff from the [nfb toolbox](https://github.com/nikolaims/nfb) (from the Russians in Moscow) - so we do matlab equivalent of 'addpath' in python\n",
    "\n",
    "```python\n",
    "import sys\n",
    "sys.path.append(\"/home/rt/nf/nfb\")\n",
    "sys.path.append(\"/home/rt/nf/nfb/pynfb\")\n",
    "```\n",
    "\n"
   ]
  },
  {
   "cell_type": "code",
   "execution_count": 11,
   "metadata": {},
   "outputs": [],
   "source": [
    "import sys\n",
    "sys.path.append(\"/home/nfcontrol/nf/nfb\")\n",
    "sys.path.append(\"/home/nfcontrol/nf/nfb/pynfb\")\n",
    "\n",
    "import time  "
   ]
  },
  {
   "cell_type": "code",
   "execution_count": 12,
   "metadata": {},
   "outputs": [],
   "source": [
    "import widgets"
   ]
  },
  {
   "cell_type": "markdown",
   "metadata": {},
   "source": [
    "and from here we grab the signal viewers\n",
    "As per the instructions in [1_1_CreateRTEnvironment.ipynb](1_1_CreateRTEnvironment.ipynb), we have made a small change in the ipython_config.py file (which is an ipython equivalent of the matlab.m file run by matlab when it starts up) - in order to make the window update nicely. You only have to do it once!"
   ]
  },
  {
   "cell_type": "code",
   "execution_count": 13,
   "metadata": {},
   "outputs": [],
   "source": [
    "from widgets.signal_viewers import SignalViewer\n",
    "from widgets.signal_viewers import RawSignalViewer"
   ]
  },
  {
   "cell_type": "code",
   "execution_count": 14,
   "metadata": {},
   "outputs": [
    {
     "name": "stdout",
     "output_type": "stream",
     "text": [
      "16\n",
      "125.0\n"
     ]
    }
   ],
   "source": [
    "# we make the window:\n",
    "\n",
    "\n",
    "# use pylsl to figure out how many channels\n",
    "inlet_info = inlet.info()\n",
    "nchans = inlet_info.channel_count()\n",
    "srate = inlet_info.nominal_srate()\n",
    "\n",
    "print(nchans)\n",
    "print(srate)"
   ]
  },
  {
   "cell_type": "code",
   "execution_count": null,
   "metadata": {},
   "outputs": [],
   "source": [
    "# make the RawSignalViewer with that many channels\n",
    "w=RawSignalViewer(srate,['%d' % i for i in range(nchans)])"
   ]
  },
  {
   "cell_type": "code",
   "execution_count": null,
   "metadata": {},
   "outputs": [
    {
     "name": "stderr",
     "output_type": "stream",
     "text": [
      "/home/rt/miniconda2/envs/rt/lib/python3.6/site-packages/pyqtgraph/graphicsItems/PlotCurveItem.py:131: RuntimeWarning: All-NaN slice encountered\n",
      "  b = (np.nanmin(d), np.nanmax(d))\n"
     ]
    }
   ],
   "source": [
    "while True:\n",
    "    \n",
    "    time.sleep(0.00001)\n",
    "    data_chunk, times = inlet.pull_chunk()\n",
    "    \n",
    "    if data_chunk:\n",
    "    \n",
    "        w.update(data_chunk)\n",
    "        w.show()\n"
   ]
  },
  {
   "cell_type": "markdown",
   "metadata": {},
   "source": [
    "this now will plot the data as it is coming in. The Python evaluation is 'stuck' until after the while loop is done (which is: never!). But use the jupyter lab's shortcuts to break out of the loop, with I-I or reset the Kernel with 0-0\n",
    "\n",
    "So it is (almost) the same as a normal signal viewer, perhaps even less nice with less buttons. However, the main big advantage you have now, is that you can manipulate the data as you see fit."
   ]
  },
  {
   "cell_type": "markdown",
   "metadata": {},
   "source": [
    "The data's length/size does vary though. The amount of channels is always nbchan, but the number of timepoints can be 10 samples, 5 samples, or perhaps even 100 samples. Usually, if things run well, the amount of data samples should be consistent"
   ]
  },
  {
   "cell_type": "markdown",
   "metadata": {},
   "source": [
    "Now that you have the data stream, what to do with it?\n",
    "Go to [3_1_Strategy.ipynb](3_1_Strategy.ipynb)"
   ]
  }
 ],
 "metadata": {
  "kernelspec": {
   "display_name": "Python 3",
   "language": "python",
   "name": "python3"
  },
  "language_info": {
   "codemirror_mode": {
    "name": "ipython",
    "version": 3
   },
   "file_extension": ".py",
   "mimetype": "text/x-python",
   "name": "python",
   "nbconvert_exporter": "python",
   "pygments_lexer": "ipython3",
   "version": "3.7.0"
  }
 },
 "nbformat": 4,
 "nbformat_minor": 4
}
