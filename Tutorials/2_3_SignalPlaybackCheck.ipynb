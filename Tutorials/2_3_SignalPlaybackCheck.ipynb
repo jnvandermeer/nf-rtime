{
 "cells": [
  {
   "cell_type": "markdown",
   "metadata": {},
   "source": [
    "## Checking the signal as it is being played back\n",
    "\n",
    "This is basically code that already is described in [2_1_SignalAcquisition.ipynb](2_1_SignalAcquisition.ipynb), but this time only the bare necessity to run pylsl to check the stream. \n",
    "\n",
    "It is assumed a data stream (of any kind) is already running"
   ]
  },
  {
   "cell_type": "code",
   "execution_count": 5,
   "metadata": {},
   "outputs": [],
   "source": [
    "import pylsl"
   ]
  },
  {
   "cell_type": "code",
   "execution_count": 6,
   "metadata": {},
   "outputs": [],
   "source": [
    "streams=pylsl.resolve_streams()"
   ]
  },
  {
   "cell_type": "code",
   "execution_count": 7,
   "metadata": {},
   "outputs": [
    {
     "data": {
      "text/plain": [
       "[<pylsl.pylsl.StreamInfo at 0x7f2487bd8ef0>,\n",
       " <pylsl.pylsl.StreamInfo at 0x7f2487bd87f0>]"
      ]
     },
     "execution_count": 7,
     "metadata": {},
     "output_type": "execute_result"
    }
   ],
   "source": [
    "streams"
   ]
  },
  {
   "cell_type": "code",
   "execution_count": 8,
   "metadata": {},
   "outputs": [],
   "source": [
    "inlet=pylsl.stream_inlet(streams[0])"
   ]
  },
  {
   "cell_type": "code",
   "execution_count": 9,
   "metadata": {},
   "outputs": [
    {
     "name": "stdout",
     "output_type": "stream",
     "text": [
      "0\n"
     ]
    }
   ],
   "source": [
    "data, times=inlet.pull_chunk()\n",
    "print(len(data))"
   ]
  },
  {
   "cell_type": "markdown",
   "metadata": {},
   "source": [
    "Here you should get some data; perhaps you should call it again if there is nothing:"
   ]
  },
  {
   "cell_type": "code",
   "execution_count": 10,
   "metadata": {},
   "outputs": [
    {
     "name": "stdout",
     "output_type": "stream",
     "text": [
      "233\n"
     ]
    }
   ],
   "source": [
    "data, times=inlet.pull_chunk()\n",
    "print(len(data))"
   ]
  },
  {
   "cell_type": "code",
   "execution_count": 11,
   "metadata": {},
   "outputs": [
    {
     "data": {
      "text/plain": [
       "[<matplotlib.lines.Line2D at 0x7f24852d3240>,\n",
       " <matplotlib.lines.Line2D at 0x7f24852d3390>,\n",
       " <matplotlib.lines.Line2D at 0x7f24852d34e0>,\n",
       " <matplotlib.lines.Line2D at 0x7f24852d3630>,\n",
       " <matplotlib.lines.Line2D at 0x7f24852d3780>,\n",
       " <matplotlib.lines.Line2D at 0x7f24852d38d0>,\n",
       " <matplotlib.lines.Line2D at 0x7f24852d3a20>,\n",
       " <matplotlib.lines.Line2D at 0x7f24852d3b70>,\n",
       " <matplotlib.lines.Line2D at 0x7f24852d3cc0>,\n",
       " <matplotlib.lines.Line2D at 0x7f24852d3e10>,\n",
       " <matplotlib.lines.Line2D at 0x7f24854d5ef0>,\n",
       " <matplotlib.lines.Line2D at 0x7f248525e0b8>,\n",
       " <matplotlib.lines.Line2D at 0x7f248525e208>,\n",
       " <matplotlib.lines.Line2D at 0x7f248525e358>,\n",
       " <matplotlib.lines.Line2D at 0x7f248525e4a8>,\n",
       " <matplotlib.lines.Line2D at 0x7f248525e5f8>]"
      ]
     },
     "execution_count": 11,
     "metadata": {},
     "output_type": "execute_result"
    }
   ],
   "source": [
    "import matplotlib.pyplot as plt\n",
    "\n",
    "plt.plot(data)"
   ]
  },
  {
   "cell_type": "code",
   "execution_count": 12,
   "metadata": {},
   "outputs": [],
   "source": [
    "plt.show()"
   ]
  },
  {
   "cell_type": "markdown",
   "metadata": {},
   "source": [
    "If you can grab some data, the playback (or your device) works\n",
    "\n",
    "To actually work with the real-time data stream, as mentioned in [2_1_SignalAcquisition.ipynb](2_1_SignalAcquisition.ipynb), it goes like this:\n",
    "\n",
    "```python\n",
    "while True:\n",
    "    data, times = inlet.pull_chunk()\n",
    "    \n",
    "    # val = do_some_processing(data)\n",
    "    \n",
    "    # send_to_feedback_presentation(val)\n",
    "```\n",
    "\n",
    "where do_some_processing can be anything involving calibration data, some ICA or PCA-derived spatial maps, filtering, or any combination thereof depending on your goals.\n",
    "\n",
    "the send_to_feedback_presentation is the part where you transmit your feature/value that is to be send to the feedback stimulus. Instead of a value, you could also specify markers, times, or any indicator of altered behavior depending on the real-time incoming data"
   ]
  },
  {
   "cell_type": "markdown",
   "metadata": {},
   "source": [
    "## Addendum - Plotting the datastream in a 'live' Qt window\n",
    "\n",
    "We need stuff from the [nfb toolbox](https://github.com/nikolaims/nfb) (from the Russians in Moscow) - so we do matlab equivalent of 'addpath' in python\n",
    "\n",
    "```python\n",
    "import sys\n",
    "sys.path.append(\"/home/rt/nf/nfb\")\n",
    "sys.path.append(\"/home/rt/nf/nfb/pynfb\")\n",
    "```\n",
    "\n"
   ]
  },
  {
   "cell_type": "code",
   "execution_count": 13,
   "metadata": {},
   "outputs": [],
   "source": [
    "import sys\n",
    "sys.path.append(\"/home/johan/nf/nfb\")\n",
    "sys.path.append(\"/home/johan/nf/nfb/pynfb\")\n",
    "\n",
    "import time  "
   ]
  },
  {
   "cell_type": "code",
   "execution_count": 14,
   "metadata": {},
   "outputs": [],
   "source": [
    "import widgets"
   ]
  },
  {
   "cell_type": "markdown",
   "metadata": {},
   "source": [
    "and from here we grab the signal viewers\n",
    "As per the instructions in [1_1_CreateRTEnvironment.ipynb](1_1_CreateRTEnvironment.ipynb), we have made a small change in the ipython_config.py file (which is an ipython equivalent of the matlab.m file run by matlab when it starts up) - in order to make the window update nicely. You only have to do it once!"
   ]
  },
  {
   "cell_type": "code",
   "execution_count": 15,
   "metadata": {},
   "outputs": [],
   "source": [
    "from widgets.signal_viewers import SignalViewer\n",
    "from widgets.signal_viewers import RawSignalViewer\n"
   ]
  },
  {
   "cell_type": "code",
   "execution_count": 20,
   "metadata": {},
   "outputs": [
    {
     "name": "stdout",
     "output_type": "stream",
     "text": [
      "16\n",
      "125.0\n"
     ]
    }
   ],
   "source": [
    "# we make the window:\n",
    "\n",
    "\n",
    "# use pylsl to figure out how many channels\n",
    "inlet_info = inlet.info()\n",
    "nchans = inlet_info.channel_count()\n",
    "srate = inlet_info.nominal_srate()\n",
    "\n",
    "print(nchans)\n",
    "print(srate)"
   ]
  },
  {
   "cell_type": "code",
   "execution_count": 17,
   "metadata": {},
   "outputs": [
    {
     "name": "stdout",
     "output_type": "stream",
     "text": [
      "/home/johan/nf/nfb/pynfb/static/imag/right-arrow.png\n",
      "/home/johan/nf/nfb/pynfb/static/imag/left-arrow.png\n"
     ]
    }
   ],
   "source": [
    "# make the RawSignalViewer with that many channels\n",
    "w=RawSignalViewer(srate,['%d' % i for i in range(nchans)])"
   ]
  },
  {
   "cell_type": "code",
   "execution_count": 18,
   "metadata": {},
   "outputs": [],
   "source": [
    "w.show()"
   ]
  },
  {
   "cell_type": "code",
   "execution_count": 19,
   "metadata": {},
   "outputs": [
    {
     "ename": "ValueError",
     "evalue": "cannot copy sequence with size 1024 to array axis with dimension 399",
     "output_type": "error",
     "traceback": [
      "\u001b[0;31m---------------------------------------------------------------------------\u001b[0m",
      "\u001b[0;31mValueError\u001b[0m                                Traceback (most recent call last)",
      "\u001b[0;32m<ipython-input-19-dc0e8f27ef3d>\u001b[0m in \u001b[0;36m<module>\u001b[0;34m\u001b[0m\n\u001b[1;32m      6\u001b[0m     \u001b[0;32mif\u001b[0m \u001b[0mdata_chunk\u001b[0m\u001b[0;34m:\u001b[0m\u001b[0;34m\u001b[0m\u001b[0;34m\u001b[0m\u001b[0m\n\u001b[1;32m      7\u001b[0m \u001b[0;34m\u001b[0m\u001b[0m\n\u001b[0;32m----> 8\u001b[0;31m         \u001b[0mw\u001b[0m\u001b[0;34m.\u001b[0m\u001b[0mupdate\u001b[0m\u001b[0;34m(\u001b[0m\u001b[0mdata_chunk\u001b[0m\u001b[0;34m)\u001b[0m\u001b[0;34m\u001b[0m\u001b[0;34m\u001b[0m\u001b[0m\n\u001b[0m\u001b[1;32m      9\u001b[0m         \u001b[0mw\u001b[0m\u001b[0;34m.\u001b[0m\u001b[0mshow\u001b[0m\u001b[0;34m(\u001b[0m\u001b[0;34m)\u001b[0m\u001b[0;34m\u001b[0m\u001b[0;34m\u001b[0m\u001b[0m\n",
      "\u001b[0;32m~/nf/nfb/pynfb/widgets/signal_viewers.py\u001b[0m in \u001b[0;36mupdate\u001b[0;34m(self, chunk)\u001b[0m\n\u001b[1;32m     73\u001b[0m         \u001b[0;31m# update buffer\u001b[0m\u001b[0;34m\u001b[0m\u001b[0;34m\u001b[0m\u001b[0;34m\u001b[0m\u001b[0m\n\u001b[1;32m     74\u001b[0m         \u001b[0;32mif\u001b[0m \u001b[0mself\u001b[0m\u001b[0;34m.\u001b[0m\u001b[0mprevious_pos\u001b[0m \u001b[0;34m<\u001b[0m \u001b[0mcurrent_pos\u001b[0m\u001b[0;34m:\u001b[0m\u001b[0;34m\u001b[0m\u001b[0;34m\u001b[0m\u001b[0m\n\u001b[0;32m---> 75\u001b[0;31m             \u001b[0mself\u001b[0m\u001b[0;34m.\u001b[0m\u001b[0my_raw_buffer\u001b[0m\u001b[0;34m[\u001b[0m\u001b[0mself\u001b[0m\u001b[0;34m.\u001b[0m\u001b[0mprevious_pos\u001b[0m\u001b[0;34m:\u001b[0m\u001b[0mcurrent_pos\u001b[0m\u001b[0;34m]\u001b[0m \u001b[0;34m=\u001b[0m \u001b[0mchunk\u001b[0m\u001b[0;34m\u001b[0m\u001b[0;34m\u001b[0m\u001b[0m\n\u001b[0m\u001b[1;32m     76\u001b[0m         \u001b[0;32melse\u001b[0m\u001b[0;34m:\u001b[0m\u001b[0;34m\u001b[0m\u001b[0;34m\u001b[0m\u001b[0m\n\u001b[1;32m     77\u001b[0m             \u001b[0mself\u001b[0m\u001b[0;34m.\u001b[0m\u001b[0my_raw_buffer\u001b[0m\u001b[0;34m[\u001b[0m\u001b[0mself\u001b[0m\u001b[0;34m.\u001b[0m\u001b[0mprevious_pos\u001b[0m\u001b[0;34m:\u001b[0m\u001b[0;34m]\u001b[0m \u001b[0;34m=\u001b[0m \u001b[0mchunk\u001b[0m\u001b[0;34m[\u001b[0m\u001b[0;34m:\u001b[0m\u001b[0mself\u001b[0m\u001b[0;34m.\u001b[0m\u001b[0mn_samples\u001b[0m \u001b[0;34m-\u001b[0m \u001b[0mself\u001b[0m\u001b[0;34m.\u001b[0m\u001b[0mprevious_pos\u001b[0m\u001b[0;34m]\u001b[0m\u001b[0;34m\u001b[0m\u001b[0;34m\u001b[0m\u001b[0m\n",
      "\u001b[0;31mValueError\u001b[0m: cannot copy sequence with size 1024 to array axis with dimension 399"
     ]
    }
   ],
   "source": [
    "while True:\n",
    "    \n",
    "    time.sleep(0.00001)\n",
    "    data_chunk, times = inlet.pull_chunk()\n",
    "    \n",
    "    if data_chunk:\n",
    "    \n",
    "        w.update(data_chunk)\n",
    "        w.show()\n"
   ]
  },
  {
   "cell_type": "markdown",
   "metadata": {},
   "source": [
    "this now will plot the data as it is coming in. The Python evaluation is 'stuck' until after the while loop is done (which is: never!). But use the jupyter lab's shortcuts to break out of the loop, with I-I or reset the Kernel with 0-0\n",
    "\n",
    "So it is (almost) the same as a normal signal viewer, perhaps even less nice with less buttons. However, the main big advantage you have now, is that you can manipulate the data as you see fit."
   ]
  },
  {
   "cell_type": "markdown",
   "metadata": {},
   "source": [
    "The data's length/size does vary though. The amount of channels is always nbchan, but the number of timepoints can be 10 samples, 5 samples, or perhaps even 100 samples. Usually, if things run well, the amount of data samples should be consistent"
   ]
  }
 ],
 "metadata": {
  "kernelspec": {
   "display_name": "Python 3",
   "language": "python",
   "name": "python3"
  },
  "language_info": {
   "codemirror_mode": {
    "name": "ipython",
    "version": 3
   },
   "file_extension": ".py",
   "mimetype": "text/x-python",
   "name": "python",
   "nbconvert_exporter": "python",
   "pygments_lexer": "ipython3",
   "version": "3.7.3"
  }
 },
 "nbformat": 4,
 "nbformat_minor": 4
}
