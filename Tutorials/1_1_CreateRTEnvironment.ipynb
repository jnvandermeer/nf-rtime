{
 "cells": [
  {
   "cell_type": "markdown",
   "metadata": {},
   "source": [
    "## Building the \"rt\" conda environment\n",
    "\n",
    "All of the real-time analysis and maniputations are done within a conda environment. You can build this anywhere and it will make sure that it all works no matter the underlying operating system.\n",
    "\n",
    "```terminal\n",
    "conda create -n rt\n",
    "```\n",
    "Where all your files go depends on your platform, and choices you made when installing conda. If you wish to figure out where you should look, then inside of the python environment, do:\n",
    "\n",
    "\n",
    "```terminal\n",
    "conda install mne\n",
    "conda install jupyterlab\n",
    "conda install -c conda-forge pyqtgraph\n",
    "```\n",
    "\n",
    "```terminal\n",
    "pip install pylsl\n",
    "pip install ipdb\n",
    "pip install easygui\n",
    "pip install dynarray\n",
    "```"
   ]
  },
  {
   "cell_type": "markdown",
   "metadata": {},
   "source": [
    "## Setting up the nf folder in ~ (home/user), or in C:\\Users\\user\n",
    "Everything that you need for neurofeedback (with lots of other tools) is in the nf folder\n",
    "These are the components:\n",
    "\n",
    "1. **nf-rtime**\n",
    "\n",
    " This is the major part of it, and is on github. This contains several efforts to integrate existing packages (wherever possible) to be able to do EEG-NF and BCI with Python, on old(er) systems (too), and to be able to do it with the jupyter lab.\n",
    "  \n",
    " https://github.com/jnvandermeer/nf-rtime\n",
    " \n",
    " It contains elements from pyff and wyrm, which are two packages from Bastian Venthur, to my knowledge the first person to port Neurofeedback to the Python ecosystem. See the wyrm (real-time stuff), mushu (data streaming) and pyff (stimulus) packages at: https://github.com/bbci\n",
    "\n",
    "\n",
    "2. **nfb**\n",
    "\n",
    " This is a (very good!) software made by the Russians. It has advanced filtering and visualization tools and a GUI too.\n",
    " \n",
    " https://github.com/nikolaims/nfb\n",
    "\n",
    "3. **OpenBCI_GUI**  and  **OpenBCI_LSL**\n",
    "\n",
    " If you're using the OpenBCI EEG system - this is the GUI:\n",
    " \n",
    " https://github.com/OpenBCI/OpenBCI_GUI\n",
    " \n",
    " .. and this is the (python) streaming tools:\n",
    " \n",
    " https://github.com/OpenBCI/OpenBCI_LSL\n",
    " \n",
    " \n",
    " All these necessities (and more) are also present in the Virtual Machine (L) Ubuntu 16.04. A guide on how to install the virtualbox can be found <todo>\n",
    " "
   ]
  },
  {
   "cell_type": "markdown",
   "metadata": {},
   "source": [
    "## Starting the Jupyerlab Notebook\n",
    "You start (always) within the nf folder. You have to have some conventions, and this one is as good as any.\n",
    "```terminal\n",
    "cd ~/nf\n",
    "conda activate rt\n",
    "jupyter lab\n",
    "```\n",
    "(in terminal)\n",
    "\n",
    "Navigate to: **/nf-rtime/Tutorials**\n",
    "\n",
    "Then double click/open: **1_1_StartHere.ipynb**\n",
    "\n",
    "\n",
    "For an overview of all of the Perks of Jupyterlab:\n",
    "\n",
    "https://www.youtube.com/watch?v=7wfPqAyYADY\n",
    "\n",
    "https://www.youtube.com/watch?v=RFabWieskak\n",
    "\n",
    "\n"
   ]
  },
  {
   "cell_type": "markdown",
   "metadata": {},
   "source": [
    "### Miscellaneous Troubleshooting Commands\n",
    "- Where does conda put my packages ?\n",
    "\n",
    "1. ```terminal\n",
    "conda activate rt\n",
    "``` \n",
    "(in terminal)\n",
    "\n",
    "2. ```terminal\n",
    "ipython\n",
    "``` \n",
    "(in terminal)\n",
    "\n",
    "3. ```python\n",
    "import sys\n",
    "sys.executable\n",
    "``` \n",
    "(in python)\n",
    "\n",
    "- How do I go into the rt environment ?\n",
    "\n",
    "\n",
    "See above - From Linux Terminal, or Anaconda Prompt:\n",
    "```bash\n",
    "conda activate rt\n",
    "```"
   ]
  },
  {
   "cell_type": "code",
   "execution_count": null,
   "metadata": {},
   "outputs": [],
   "source": []
  }
 ],
 "metadata": {
  "kernelspec": {
   "display_name": "Python 3",
   "language": "python",
   "name": "python3"
  },
  "language_info": {
   "codemirror_mode": {
    "name": "ipython",
    "version": 3
   },
   "file_extension": ".py",
   "mimetype": "text/x-python",
   "name": "python",
   "nbconvert_exporter": "python",
   "pygments_lexer": "ipython3",
   "version": "3.7.3"
  }
 },
 "nbformat": 4,
 "nbformat_minor": 4
}
