{
 "cells": [
  {
   "cell_type": "markdown",
   "metadata": {},
   "source": [
    "## Building the \"rt\" conda environment\n",
    "\n",
    "All of the real-time analysis and maniputations are done within a conda environment. You can build this anywhere and it will make sure that it all works no matter the underlying operating system.\n",
    "\n",
    "```console\n",
    "(base) rt@rt-VirtualBox:~$ conda create -n rt\n",
    "```\n",
    "\n",
    "Now go INTO the environment:\n",
    "\n",
    "```console\n",
    "(base) rt@rt-VirtualBox:~$ conda activate rt\n",
    "```\n",
    "Now the terminal should look like this:\n",
    "\n",
    "```console\n",
    "(rt) rt@rt-VirtualBox:~$ \n",
    "```\n",
    "\n",
    "Where all your files go depends on your platform, and choices you made when installing conda. If you wish to figure out where you should look, then inside of the python environment, do:\n",
    "\n",
    "\n",
    "```console\n",
    "(rt) rt@rt-VirtualBox:~$ conda install mne\n",
    "(rt) rt@rt-VirtualBox:~$ conda install jupyterlab\n",
    "(rt) rt@rt-VirtualBox:~$ conda install -c conda-forge pyqtgraph\n",
    "```\n",
    "\n",
    "```console\n",
    "(rt) rt@rt-VirtualBox:~$ pip install pylsl\n",
    "(rt) rt@rt-VirtualBox:~$ pip install ipdb\n",
    "(rt) rt@rt-VirtualBox:~$ pip install easygui\n",
    "(rt) rt@rt-VirtualBox:~$ pip install dynarray\n",
    "```"
   ]
  },
  {
   "cell_type": "markdown",
   "metadata": {},
   "source": [
    "## Setting up the nf folder in ~ (home/user), or in C:\\Users\\user\n",
    "Everything that you need for neurofeedback (with lots of other tools) is in the nf folder\n",
    "These are the components:\n",
    "\n",
    "1. **~/nf/nf-rtime**\n",
    "\n",
    " This is the major part of it, and is on github. This contains several efforts to integrate existing packages (wherever possible) to be able to do EEG-NF and BCI with Python, on old(er) systems (too), and to be able to do it with the jupyter lab.\n",
    "  \n",
    " https://github.com/jnvandermeer/nf-rtime\n",
    " \n",
    " It contains elements from pyff and wyrm, which are two packages from Bastian Venthur, to my knowledge the first person to port Neurofeedback to the Python ecosystem. See the wyrm (real-time stuff), mushu (data streaming) and pyff (stimulus) packages at: https://github.com/bbci\n",
    "\n",
    "\n",
    "2. **~/nf/nfb**\n",
    "\n",
    " This is a (very good!) software made by the Russians. It has advanced filtering and visualization tools and a GUI too.\n",
    " \n",
    " https://github.com/nikolaims/nfb\n",
    "\n",
    "3. **~/nf/OpenBCI_GUI**  and  **~/nf/OpenBCI_LSL**\n",
    "\n",
    " If you're using the OpenBCI EEG system - this is the GUI:\n",
    " \n",
    " https://github.com/OpenBCI/OpenBCI_GUI\n",
    " \n",
    " .. and this is the (python) streaming tools:\n",
    " \n",
    " https://github.com/OpenBCI/OpenBCI_LSL\n",
    " \n",
    "4. **~/nf/example.data.set**\n",
    "\n",
    " This is a little data set, create in Matlab originally (EEGlab)\n",
    " It contains 13 channels of EEG data\n",
    " 1000 Hz Sampling rate\n",
    " 2561 Events (many!)\n",
    " 633 seconds of data\n",
    " The task contained 4 parts:\n",
    "    - (  0 - 160 seconds) Eye blinks, moments, muscle tensions, etc\n",
    "    - (160 - 228 seconds) eyes open/closed\n",
    "    - (228 - 572 seconds) audotory and visual steady-state evoked potentials, which are intermixed. Then there is also an ongoing Stop Signal Task that which the attention was (should be) directed to.\n",
    "    - (573 - 626 seconds) eyes open/closed, II - after the (big) task\n",
    " For the purposes of testing real-time, we won't go in depth into the third part. But all good things are present:\n",
    " Alpha power modulation, muscle artifacts and markers.\n",
    " \n",
    " \n",
    " \n",
    " All these necessities (and more) are also present in the Virtual Machine (L) Ubuntu 16.04. A guide on how to install the virtualbox can be found <todo>\n",
    " "
   ]
  },
  {
   "cell_type": "markdown",
   "metadata": {},
   "source": [
    "## Configuring Qt - IPython\n",
    "Normally, when you calcucate data, you run things iteratively. You run a command, then inspect results (with jupyterlab perhaps with figures inside of the notebook, or outside in a new figure, depending on your preferences. And you'd use matlplotlib (most similar to Matlab), or one of the more facy plotting routines found in plotly.\n",
    "\n",
    "Jupyer Lab can also be used for Real-Time experimentation, since the interactivity is already embedded into the whole system. However, there is one problem that we need to address:\n",
    "\n",
    "Inside Jupyer Lab (or rather: inside ipython), when you are a Loop (a for or a while loop), the 'show' command used to update Qt windows does not work, making it that you cannot see what is going on.\n",
    "\n",
    "In order to rectify that, we need to make some changes to the upython defult settings as per shown on stack overflow:\n",
    "https://stackoverflow.com/questions/9906938/change-jupyter-qtconsole-settings\n",
    "\n",
    "\n",
    "\n",
    "```console\n",
    "(rt) rt@rt-VirtualBox:~$ ipython profile create\n",
    "```\n",
    "The output should be:\n",
    "```console\n",
    "[ProfileCreate] Generating default config file: '/home/rt/.ipython/profile_default/ipython_config.py'\n",
    "[ProfileCreate] Generating default config file: '/home/rt/.ipython/profile_default/ipython_kernel_config.py'\n",
    "```\n",
    "\n",
    "Then:\n",
    "1. use a Text Editor to open the FIRST of these files. (for example with: `gedit /home/rt/.ipython/profile_default/ipython_config.py`)\n",
    "2. look up this line on line 45 (around there):\n",
    "\n",
    "    `#c.InteractiveShellApp.gui = None`\n",
    "3.  \n",
    "   - Remove the `#`\n",
    "   - change `None` into `'qt'`\n",
    "   \n",
    "   SO you get this instead\n",
    "   \n",
    "    `c.InteractiveShellApp.gui = 'qt'`\n",
    "\n",
    "Remark 1: If you are on windows, use a REAL Text Editor, like Notepad++ (https://notepad-plus-plus.org/). The basic Notepad is a really shitty text editor that cannot read Linux newline characters (and still can't) for some reason. There is likely a big tutoriial/howto process text files on windows. It seems that newer versions of Notepad can do it properly, if windows is younger than 2018: https://blogs.msdn.microsoft.com/commandline/2018/05/08/extended-eol-in-notepad/. Since We are on Linuxm we can just use gedit, or vi.\n",
    "\n",
    "\n",
    "\n",
    "Remark 2: Once you start looking as to the why and how of these actions:\n",
    "There seems to be a 'qt' even loop, which is essential to be started, otherwise Python cannot tell Qt (which lives in C) to do stuff (like refreshing a \n",
    "window). By changing the defauly ipython line here, you automatically start the event loop, and thereby also can call w.show() inside of the (Neurofeedback) While Loop.\n",
    "\n",
    "See also:\n",
    "\n",
    "https://ipython.readthedocs.io/en/stable/config/eventloops.html\n",
    "\n",
    "https://machinekoder.com/how-to-not-shoot-yourself-in-the-foot-using-python-qt/\n",
    "\n",
    "\n",
    "\n",
    "\n",
    "\n",
    "\n",
    "\n"
   ]
  },
  {
   "cell_type": "markdown",
   "metadata": {},
   "source": [
    "## Starting the Jupyerlab Notebook\n",
    "You start (always) within the nf folder. You have to have some conventions, and this one is as good as any.\n",
    "```console\n",
    "(base) rt@rt-VirtualBox:~$ cd ~/nf\n",
    "(base) rt@rt-VirtualBox:~$ conda activate rt\n",
    "(rt) rt@rt-VirtualBox:~$ jupyter lab\n",
    "```\n",
    "\n",
    "Now the Jupyer Lab should open in a Web Browser\n",
    "\n",
    "\n",
    "Navigate to: **/nf-rtime/Tutorials**\n",
    "\n",
    "Then double click/open: **1_2_StartHere.ipynb**\n",
    "\n"
   ]
  },
  {
   "cell_type": "markdown",
   "metadata": {},
   "source": [
    "from here on out youre good to go!\n",
    "\n",
    "\n",
    "\n",
    "\n"
   ]
  },
  {
   "cell_type": "markdown",
   "metadata": {},
   "source": [
    "# Miscellaneous Further Information:\n",
    "- Where does conda put my packages ?\n",
    "\n",
    "0. (Open a Terminal)\n",
    "\n",
    "1. ```console\n",
    "(base) rt@rt-VirtualBox:~$ conda activate rt\n",
    "``` \n",
    "\n",
    "2. ```terminal\n",
    "(rt) rt@rt-VirtualBox:~$ ipython\n",
    "``` \n",
    "\n",
    "3. ```python\n",
    "import sys\n",
    "sys.executable\n",
    "``` \n",
    "You get something like: \n",
    "\n",
    "`'/home/rt/miniconda2/envs/rt/bin/python'`\n"
   ]
  },
  {
   "cell_type": "code",
   "execution_count": 10,
   "metadata": {},
   "outputs": [
    {
     "data": {
      "text/plain": [
       "'/home/johan/.conda/envs/rt/bin/python'"
      ]
     },
     "execution_count": 10,
     "metadata": {},
     "output_type": "execute_result"
    }
   ],
   "source": [
    "# if you have everything set up (as you should have in the Virtual Machine), you can try it also in the followuing cell.\n",
    "import sys\n",
    "sys.executable\n",
    "\n",
    "# if you did conda activate rt BEFORE you started jupyterlab, you should be fine\n"
   ]
  },
  {
   "cell_type": "markdown",
   "metadata": {},
   "source": [
    "## JupyterLab Youtube Tutorials\n",
    "For an overview of all of the Perks of Jupyterlab:\n",
    "\n",
    "https://www.youtube.com/watch?v=7wfPqAyYADY\n",
    "\n",
    "https://www.youtube.com/watch?v=RFabWieskak\n"
   ]
  },
  {
   "cell_type": "markdown",
   "metadata": {},
   "source": [
    "## Markdown Cheat Sheet\n",
    "\n",
    "https://github.com/adam-p/markdown-here/wiki/Markdown-Cheatsheet\n"
   ]
  },
  {
   "cell_type": "markdown",
   "metadata": {},
   "source": [
    "## Why use Conda and what's the deal with these 'environments'\n",
    "\n",
    "Basically, you wish to install on any machine, and not have to thing about installing specific packages of versions that might conflict with versions possibly already installed on the computer. You also don't wish to install something and then mess up things alreadyt installed.\n",
    "\n",
    "Therefore you need to *contain* the stuff that you use. Using an analogy, Think about and use your own batteries and not someone else's, since not each battery is the same shape/size.\n",
    "\n",
    "With the `conda activate rt` command you basically put the battereis into your machine before proceeding further. You just have to use it each time, which could be a bit repetitive. You could set it up to automatize it possibly. WHich is done in the shortcut I made in the Virtual Machine.\n",
    "\n",
    "See here for further Information:\n",
    "https://tdhopper.com/blog/my-python-environment-workflow-with-conda/\n",
    "\n",
    "Apart from Conda, there are other (older) python means of setting/getting up environments. Pipenv virtualenv come to mind. But in my opinion, they suck. It is because with Conda you can specify the python verion you wish to use (2.7 or 3.7), and pipenv/virtualenv you're stuck in the python version that you're in when you make new environments. Also, the benefit of Conda is that you do not need any special administrative privilege to install packages, etc. \n",
    "See also here:\n",
    "https://medium.com/@krishnaregmi/pipenv-vs-virtualenv-vs-conda-environment-3dde3f6869ed\n",
    "\n",
    "In Matlab, you basicalyl have ONE environment that's taking care of everything. ... until you hit the ceiling, f.e. when you need another package but therefore need to pay a toolbox. Or when a code you downloaded with a specific version of Matlab doesn't work on your NEW version anymore. The different package-ecosystem is therfore also still there! - and no solution to this proble. The only solution with Matlab is having different versions of Matlab installed.\n"
   ]
  }
 ],
 "metadata": {
  "kernelspec": {
   "display_name": "Python 3",
   "language": "python",
   "name": "python3"
  },
  "language_info": {
   "codemirror_mode": {
    "name": "ipython",
    "version": 3
   },
   "file_extension": ".py",
   "mimetype": "text/x-python",
   "name": "python",
   "nbconvert_exporter": "python",
   "pygments_lexer": "ipython3",
   "version": "3.7.0"
  }
 },
 "nbformat": 4,
 "nbformat_minor": 4
}
