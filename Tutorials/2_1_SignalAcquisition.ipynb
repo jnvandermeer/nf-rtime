{
 "cells": [
  {
   "cell_type": "markdown",
   "metadata": {},
   "source": [
    "## The LSL Data Stream\n",
    "Reading data in real-time in either Matlab or Python is not difficult, and in the following I will give an example how to read something with the OpenBCI system.\n",
    "\n",
    "The Lab Streaming Layer information/github can be found here:\n",
    "https://github.com/sccn/labstreaminglayer\n",
    "\n",
    "You need to install LSL on the **acquisition** side (the data acquisition computer), and on the **real-time analysis** side (which is this computer). I do not talk about sender and receiver since this is confusing. The acquisition computer receives data from the EEG system (using some factory-own format), and then sends it out via LSL to another computer. The real-time computer can send and receive multiple LSL data streams, if set up properly.\n",
    "\n",
    "\n",
    "Just in case you do NOT have the OpenBCI system (or other system) handy, and wish to continue - you can. We will just use the example data we have, and emulate the LSL Data stream via playback. More on that in [2_2_SignalPlayback.ipynb](2_2_SignalPlayback.ipynb). I suggest you keep on reading though.\n",
    "\n",
    "\n",
    "## Acquisition\n",
    "The LSL Code mentioned earlier is just the code (in C), which you need to compile in order to get something actually running. You usually wish to prevent having to compile, so there are pre-compiled binaries that you can get. You go to [ftp://sccn.ucsd.edu/pub/software/LSL/Apps/](ftp://sccn.ucsd.edu/pub/software/LSL/Apps/) and download the device you wish to use. For each separate device, there is a specific GUI which is compiled together with Lab Streaming Layer. I tested this (and got it working!) for Brain Products, EEGo Sports, and BioSemi. Eyetracker Data should also be supported, but I haven't tested it myself yet. Each system has its own idiosyncraticies. With BP, you need to start the BP Software first, and then the 'RDA' Stream, before you can start the LSL applet. With BioSemi (and EEGo Sports), you just start the LSL applet immediately. For each device, there should be a guide that is included.\n",
    "\n",
    "### OpenBCI\n",
    "For our purposes, we demonstrate things with [OpenBCI](https://www.youtube.com/watch?v=veFA0bvV-0E). OpenBCI doesn't (yet) have LSL App on the FTP site, but luckily, it does have on its [github](https://github.com/OpenBCI) page two things of main interest. The first is the [GUI](https://github.com/OpenBCI/OpenBCI_GUI), and the second is the [LSL Code](https://github.com/OpenBCI/OpenBCI_LSL).\n",
    "\n",
    "**Connecting OpenBCI to computer**\n",
    "The OpenBCI headset comes with a usb dongle and the EEG headset. How to set things up material-wise is something that is explained on the OpenBCI website, but basically they talk about how to build the EEG headset and how to plug the USB into the computer and start up the OpenBCI GUI (and what buttons and switches you should press on their [Cython board](https://shop.openbci.com/products/cyton-biosensing-board-8-channel)).\n",
    "\n",
    "Since we are inside of a virtual machine, there are two things that need extra minding over all the other explanations.\n",
    " - The Network settings of the VM need to be set to 'Bridged Adaptor', go to Machine -> Settings -> Network(tab) -> Bridged Adaptor. Now the Virual Machine is on the same network as the host computer (so it can read in the LSL). There might be other ways but this is the most easy.\n",
    " - The USB (once inserted) needs to be attached to the VM. Go to Devices -> USB and select FTDI FT231X USB UART \\[1000\\] (or similar number)."
   ]
  },
  {
   "cell_type": "markdown",
   "metadata": {},
   "source": [
    "### Checking the signals: Starting OpenBCI_GUI\n",
    "\n",
    "Now that things are properly connected, we can first start the OpenBCI_GUI:\n",
    "```console\n",
    "(base) rt@rt-VirtualBox:~$ cd nf\n",
    "(base) rt@rt-VirtualBox:~/nf$ cd OpenBCI_GUI \n",
    "(base) rt@rt-VirtualBox:~/nf/OpenBCI_GUI$ ./OpenBCI_GUI\n",
    "```\n",
    "(The ./ means that you tell bash that the executable is in *this* directory. As a convention this needs to be explicitly specified, unless the path of the executable is set in the an environment variable (\\$PATH), or in /bin directory)\n",
    "\n",
    "This should produce the GUI, where we should be able to see the USB0:\n",
    "\n",
    "![](pics/OpenBCI_GUI_1.png)\n",
    "\n",
    "Click start/select and then you can take a look at the signals as they are coming in. This option should *usually* work (although something it didn't). There are a lot of buttons and options to try out in this GUI, and as a bonus it also enables to send the LSL stream (or other type of streams) directly from the GUI. If anything, it is a good way to do initial check on your signals (and potentially adjust the EEG headset to lower resistances / improve signals)."
   ]
  },
  {
   "cell_type": "markdown",
   "metadata": {},
   "source": [
    "### start up the EEG\n",
    "make sure that the EEG is tested  \n",
    "that the switch on the USB dongle is at GPOI6  \n",
    "that the switch on the back of the EEG cap is in 'up' position  \n",
    "that the latency times is set properly [windows](https://openbci.com/forum/index.php?p=/discussion/198/timing-marks-buffering-delays-etc) or [linux](https://askubuntu.com/questions/696593/reduce-request-latency-on-an-ftdi-ubs-to-rs-232-adapter)  \n",
    "`echo 1 | sudo tee /sys/bus/usb-serial/devices/ttyUSB0/latency_timer`\n",
    "\n",
    "Then open a terminal  \n",
    "cd to ~/nf/openBCI_LSL  \n",
    "then type:  \n",
    "`python openbci_lsl.py -- stream`\n",
    "\n",
    "followed by:\n",
    "\n",
    "`/start`"
   ]
  },
  {
   "cell_type": "markdown",
   "metadata": {},
   "source": [
    "### Starting the LSL Stream: OpenBCI_LSL\n",
    "The OpenBCI_GUI (when maximized) does take a lot of system resources. There is another, command-line, utility that allows to send the LSL data stream with less setup required.\n",
    "\n",
    "```console\n",
    "(base) rt@rt-VirtualBox:~$ conda activate rt\n",
    "(rt) rt@rt-VirtualBox:~$ cd nf\n",
    "(rt) rt@rt-VirtualBox:~/nf$ cd OpenBCI_LSL \n",
    "(rt) rt@rt-VirtualBox:~/nf/OpenBCI_GUI$ python openbci_lsl.py --stream\n",
    "```\n",
    "(see that we went into the rt environment because openbci_lsl is a python script we wish to run)\n",
    "\n",
    "The output should be something like:\n",
    "```console\n",
    "-------INSTANTIATING BOARD-------\n",
    "Connecting to V3 at port /dev/ttyUSB0\n",
    "Serial established...\n",
    "OpenBCI V3 8-16 channel\n",
    "On Board ADS1299 Device ID: 0x3E\n",
    "LIS3DH Device ID: 0x33\n",
    "Firmware: v3.1.2\n",
    "...\n",
    "--------------------------------------\n",
    "LSL Configuration: \n",
    "  Stream 1: \n",
    "      Name: openbci_eeg \n",
    "      Type: EEG \n",
    "      Channel Count: 8\n",
    "      Sampling Rate: 250.0\n",
    "      Channel Format: float32 \n",
    "      Source Id: openbci_eeg_id29 \n",
    "  Stream 2: \n",
    "      Name: openbci_aux \n",
    "      Type: AUX \n",
    "      Channel Count: 3\n",
    "      Sampling Rate: 250.0\n",
    "      Channel Format: float32 \n",
    "      Source Id: openbci_aux_id29 \n",
    "\n",
    "Electrode Location Montage:\n",
    "['Fp1', 'Fp2', 'C3', 'C4', 'T5', 'T6', 'O1', 'O2']\n",
    "---------------------------------------\n",
    "\n",
    "--------------INFO---------------\n",
    "Commands: \n",
    "    Type \"/start\" to stream to LSL \n",
    "    Type \"/stop\" to stop stream.\n",
    "    Type \"/exit\" to disconnect the board. \n",
    "Advanced command map available at http://docs.openbci.com\n",
    "\n",
    "-------------BEGIN---------------\n",
    "\n",
    "--> \n",
    "```\n",
    "\n",
    "The information is already written here: There will be 2 streams, 1 for the EEG, 1 for the Accelerometer (it has an accelerometer!)\n",
    "to begin streaming, do as told, type start\n",
    "\n",
    "```console\n",
    "--> /start\n",
    "```\n",
    "\n",
    "The output should be:\n",
    "\n",
    "```console\n",
    "Streaming data...\n",
    "\n",
    "-->\n",
    "```\n",
    "Now the LSL Data Stream(s) have started and they continuously send out data (but... not yet). What it does it 'broadcasts' the availability of streams to any computer that uses LSL to ask 'are there any LSL Data Streams on this network?'. More on this later.\n",
    "\n",
    "The LSL Data Stream does not take a lot of computational resources.\n",
    "\n",
    "\n",
    "\n"
   ]
  },
  {
   "cell_type": "markdown",
   "metadata": {},
   "source": [
    "### Reading the LSL Data Stream\n",
    "\n",
    "So now that the LSL Data Stream is up and running, we wish to be able to access it, grab some data, and inspect it -- in Python, inside of *this* notebook. We therefore also need LSL to receive data. Luckily in python, LSL is already pre-packaged and can be installed (already is installed in the Virtual Machine) easily. See [1_1_CreateRTEnvironment.ipynb](1_1_CreateRTEnvironment.ipynb)\n",
    "\n",
    "The following code-blocks show you how to work with pylsl to brab stuff from the data stream. This is taken from the tutorials found in the LSL github web page [here](https://github.com/sccn/labstreaminglayer/wiki/ExampleCode), scroll all the way down to subsection Python Example [https://github.com/labstreaminglayer/liblsl-Python/blob/master/pylsl/examples/ReceiveData.py](https://github.com/labstreaminglayer/liblsl-Python/blob/master/pylsl/examples/ReceiveData.py)\n",
    "\n",
    "```python\n",
    "\"\"\"Example program to show how to read a multi-channel time series from LSL.\"\"\"\n",
    "\n",
    "from pylsl import StreamInlet, resolve_stream\n",
    "\n",
    "# first resolve an EEG stream on the lab network\n",
    "print(\"looking for an EEG stream...\")\n",
    "streams = resolve_stream('type', 'EEG')\n",
    "\n",
    "# create a new inlet to read from the stream\n",
    "inlet = StreamInlet(streams[0])\n",
    "\n",
    "while True:\n",
    "    # get a new sample (you can also omit the timestamp part if you're not\n",
    "    # interested in it)\n",
    "    sample, timestamp = inlet.pull_sample()\n",
    "    print(timestamp, sample)\n",
    "```\n",
    "\n",
    "... with the LSL stream running, let's try it... we will do some things differently, but all are standard Python commands"
   ]
  },
  {
   "cell_type": "code",
   "execution_count": 57,
   "metadata": {},
   "outputs": [],
   "source": [
    "# import the pylsl\n",
    "import pylsl"
   ]
  },
  {
   "cell_type": "code",
   "execution_count": 58,
   "metadata": {},
   "outputs": [
    {
     "name": "stdout",
     "output_type": "stream",
     "text": [
      "['ContinuousResolver', 'DEDUCED_TIMESTAMP', 'FOREVER', 'IRREGULAR_RATE', 'InternalError', 'InvalidArgumentError', 'LostError', 'StreamInfo', 'StreamInlet', 'StreamOutlet', 'TimeoutError', 'XMLElement', '__builtins__', '__cached__', '__doc__', '__file__', '__loader__', '__name__', '__package__', '__path__', '__spec__', 'cf_double64', 'cf_float32', 'cf_int16', 'cf_int32', 'cf_int64', 'cf_int8', 'cf_string', 'cf_undefined', 'library_version', 'local_clock', 'lost_error', 'proc_ALL', 'proc_clocksync', 'proc_dejitter', 'proc_monotonize', 'proc_none', 'proc_threadsafe', 'protocol_version', 'pylsl', 'resolve_bypred', 'resolve_byprop', 'resolve_stream', 'resolve_streams', 'stream_info', 'stream_inlet', 'stream_outlet', 'timeout_error', 'vectorc', 'vectord', 'vectorf', 'vectori', 'vectorl', 'vectors', 'vectorstr', 'xml_element']\n"
     ]
    }
   ],
   "source": [
    "# what's in pylsl?\n",
    "print(dir(pylsl))\n"
   ]
  },
  {
   "cell_type": "code",
   "execution_count": 59,
   "metadata": {},
   "outputs": [
    {
     "name": "stdout",
     "output_type": "stream",
     "text": [
      "[<pylsl.pylsl.StreamInfo object at 0x7fa8c634bac8>, <pylsl.pylsl.StreamInfo object at 0x7fa8c635c940>]\n"
     ]
    }
   ],
   "source": [
    "# check out the streams currently on this network (could be the wireless one if a laptop, or the wired if a desktop connected to the institute)\n",
    "streams=pylsl.resolve_streams()\n",
    "\n",
    "print(streams)"
   ]
  },
  {
   "cell_type": "code",
   "execution_count": 60,
   "metadata": {},
   "outputs": [
    {
     "name": "stdout",
     "output_type": "stream",
     "text": [
      "['__class__', '__del__', '__delattr__', '__dict__', '__dir__', '__doc__', '__eq__', '__format__', '__ge__', '__getattribute__', '__gt__', '__hash__', '__init__', '__init_subclass__', '__le__', '__lt__', '__module__', '__ne__', '__new__', '__reduce__', '__reduce_ex__', '__repr__', '__setattr__', '__sizeof__', '__str__', '__subclasshook__', '__weakref__', 'as_xml', 'channel_count', 'channel_format', 'created_at', 'desc', 'hostname', 'name', 'nominal_srate', 'obj', 'session_id', 'source_id', 'type', 'uid', 'version']\n"
     ]
    }
   ],
   "source": [
    "# so there should be 2 streams, as specified also by the openBCI_LSL.\n",
    "# we get some information from the first stream. But I do not know what to do or what methods there are! So, we use dir()\n",
    "print(dir(streams[0]))"
   ]
  },
  {
   "cell_type": "code",
   "execution_count": 61,
   "metadata": {},
   "outputs": [
    {
     "data": {
      "text/plain": [
       "2"
      ]
     },
     "execution_count": 61,
     "metadata": {},
     "output_type": "execute_result"
    }
   ],
   "source": [
    "len(streams)"
   ]
  },
  {
   "cell_type": "code",
   "execution_count": 62,
   "metadata": {},
   "outputs": [
    {
     "name": "stdout",
     "output_type": "stream",
     "text": [
      "name = openbci_aux\n",
      "nominal_srate = 125\n",
      "channel_count = 3\n",
      "channel_format = 1\n"
     ]
    }
   ],
   "source": [
    "# the name and channel_count, nominal_srate seem to be useful. Let's try those, we assume they are methods, so we call em with ():]\n",
    "# I don't know what channel_format is, so we also try that:\n",
    "print('name = %s' % streams[0].name())\n",
    "print('nominal_srate = %d' % streams[0].nominal_srate())\n",
    "print('channel_count = %d' % streams[0].channel_count())\n",
    "print('channel_format = %d' % streams[0].channel_format())"
   ]
  },
  {
   "cell_type": "code",
   "execution_count": 63,
   "metadata": {},
   "outputs": [
    {
     "name": "stdout",
     "output_type": "stream",
     "text": [
      "name = openbci_eeg\n",
      "nominal_srate = 125\n",
      "channel_count = 16\n",
      "channel_format = 1\n"
     ]
    }
   ],
   "source": [
    "# also do the same for the second stream (if you have it!)\n",
    "print('name = %s' % streams[1].name())\n",
    "print('nominal_srate = %d' % streams[1].nominal_srate())\n",
    "print('channel_count = %d' % streams[1].channel_count())\n",
    "print('channel_format = %d' % streams[1].channel_format())\n"
   ]
  },
  {
   "cell_type": "code",
   "execution_count": 64,
   "metadata": {},
   "outputs": [],
   "source": [
    "# so as told, 1 EEG stream and 1 AUX Stream (motion)\n",
    "# now we do as the tutorial tells us - we tell the LSL 'server' to open up a stream for us so we can pull data from it.\n",
    "# we will do the EEG stream(0)\n",
    "inlet = pylsl.StreamInlet(streams[1])"
   ]
  },
  {
   "cell_type": "code",
   "execution_count": 65,
   "metadata": {},
   "outputs": [
    {
     "name": "stdout",
     "output_type": "stream",
     "text": [
      "['__class__', '__del__', '__delattr__', '__dict__', '__dir__', '__doc__', '__eq__', '__format__', '__ge__', '__getattribute__', '__gt__', '__hash__', '__init__', '__init_subclass__', '__le__', '__lt__', '__module__', '__ne__', '__new__', '__reduce__', '__reduce_ex__', '__repr__', '__setattr__', '__sizeof__', '__str__', '__subclasshook__', '__weakref__', 'buffers', 'channel_count', 'channel_format', 'close_stream', 'do_pull_chunk', 'do_pull_sample', 'info', 'obj', 'open_stream', 'pull_chunk', 'pull_sample', 'sample', 'sample_type', 'samples_available', 'time_correction', 'value_type', 'was_clock_reset']\n"
     ]
    }
   ],
   "source": [
    "# so what is in inlet?\n",
    "print(dir(inlet))"
   ]
  },
  {
   "cell_type": "code",
   "execution_count": 66,
   "metadata": {},
   "outputs": [],
   "source": [
    "# let's try pull_chunk\n",
    "data = inlet.pull_chunk()"
   ]
  },
  {
   "cell_type": "code",
   "execution_count": 67,
   "metadata": {},
   "outputs": [
    {
     "data": {
      "text/plain": [
       "([], [])"
      ]
     },
     "execution_count": 67,
     "metadata": {},
     "output_type": "execute_result"
    }
   ],
   "source": [
    "# and what is this data?\n",
    "data"
   ]
  },
  {
   "cell_type": "code",
   "execution_count": 68,
   "metadata": {},
   "outputs": [],
   "source": [
    "#hmm, nothing? Let's try it again:\n",
    "data = inlet.pull_chunk()"
   ]
  },
  {
   "cell_type": "code",
   "execution_count": 69,
   "metadata": {},
   "outputs": [],
   "source": [
    "# print(data)"
   ]
  },
  {
   "cell_type": "code",
   "execution_count": 70,
   "metadata": {},
   "outputs": [
    {
     "name": "stdout",
     "output_type": "stream",
     "text": [
      "2\n",
      "210\n",
      "210\n"
     ]
    }
   ],
   "source": [
    "#... that's a lot of data. \n",
    "# Probably a bit too much to be easily digestible.\n",
    "# We can possibly pull a smaller chunk, but then the whole purpose of real-time would be out of the window.\n",
    "print(len(data))\n",
    "print(len(data[0]))\n",
    "print(len(data[1]))"
   ]
  },
  {
   "cell_type": "code",
   "execution_count": 71,
   "metadata": {},
   "outputs": [],
   "source": [
    "# so we can conclude that data is a list of 2 elements, and each element of that list is another list, of 1024 elements.\n",
    "# let's reduce the complexity to (only) the last 3 elements\n",
    "\n",
    "newdata=[data[0][-3:],data[1][-3:]]"
   ]
  },
  {
   "cell_type": "code",
   "execution_count": 72,
   "metadata": {},
   "outputs": [
    {
     "data": {
      "text/plain": [
       "[[[-185138.0,\n",
       "   -152164.9375,\n",
       "   -187500.015625,\n",
       "   -170279.90625,\n",
       "   -187500.015625,\n",
       "   -153130.609375,\n",
       "   -165419.46875,\n",
       "   -173244.8125,\n",
       "   -152223.40625,\n",
       "   -163139.078125,\n",
       "   -151197.453125,\n",
       "   -152386.453125,\n",
       "   -151629.046875,\n",
       "   -152357.484375,\n",
       "   -152253.40625,\n",
       "   -187500.015625],\n",
       "  [-185170.359375,\n",
       "   -152303.9375,\n",
       "   -187500.015625,\n",
       "   -170299.890625,\n",
       "   -187500.015625,\n",
       "   -152522.96875,\n",
       "   -165366.765625,\n",
       "   -173187.90625,\n",
       "   -151932.109375,\n",
       "   -163138.0,\n",
       "   -151075.78125,\n",
       "   -152065.109375,\n",
       "   -152207.875,\n",
       "   -152167.796875,\n",
       "   -152200.34375,\n",
       "   -187500.015625],\n",
       "  [-185152.59375,\n",
       "   -152224.515625,\n",
       "   -187500.015625,\n",
       "   -170294.8125,\n",
       "   -187500.015625,\n",
       "   -152722.71875,\n",
       "   -165372.25,\n",
       "   -173201.09375,\n",
       "   -152397.53125,\n",
       "   -163141.046875,\n",
       "   -151631.15625,\n",
       "   -152989.265625,\n",
       "   -151794.546875,\n",
       "   -152399.421875,\n",
       "   -152179.765625,\n",
       "   -187500.015625]],\n",
       " [4565.838924589, 4565.840282611, 4565.84146814]]"
      ]
     },
     "execution_count": 72,
     "metadata": {},
     "output_type": "execute_result"
    }
   ],
   "source": [
    "newdata"
   ]
  },
  {
   "cell_type": "code",
   "execution_count": 73,
   "metadata": {},
   "outputs": [],
   "source": [
    "# so the first element is likely the channel data (right now we use only 8 channels), and the second element must be the times!\n",
    "# let's use numpy to make this into a nicer, more sane, 2D data array.\n",
    "\n",
    "import numpy as np"
   ]
  },
  {
   "cell_type": "code",
   "execution_count": 74,
   "metadata": {},
   "outputs": [],
   "source": [
    "# We can specify data and times like this, because inlet.pull_chunk yields a list of 2 elements. \n",
    "# (Multiple output allocation is also a feature in Matlab.)\n",
    "data, times = inlet.pull_chunk()\n",
    "data = np.asarray(data)"
   ]
  },
  {
   "cell_type": "code",
   "execution_count": 75,
   "metadata": {},
   "outputs": [
    {
     "name": "stdout",
     "output_type": "stream",
     "text": [
      "Data Matrix Shape of this chunk of data is 1024 by 16\n",
      "Numer of timepoints in this chunk of data is 1024 (sanity check)\n"
     ]
    }
   ],
   "source": [
    "print('Data Matrix Shape of this chunk of data is %d by %d' % data.shape)\n",
    "print('Numer of timepoints in this chunk of data is %d (sanity check)' % len(times))"
   ]
  },
  {
   "cell_type": "code",
   "execution_count": 76,
   "metadata": {},
   "outputs": [],
   "source": [
    "# and, as final bonus, let us try to grab data for 10 consecutive seconds... things get a bit confusing here since time is a python-inherent\n",
    "# library for timing functions, while times is our own-created variable. There is the risk of confusion.. But, this is also the case in matlab\n",
    "# we go ahead...\n",
    "# anther confusion, perhaps, is that we reshape things as a np array with the same variable.\n",
    "import time\n",
    "\n",
    "start_time = time.time()\n",
    "data_timepoints = []\n",
    "\n",
    "while time.time() - start_time < 10:\n",
    "    time.sleep(0.010)\n",
    "    data, times = inlet.pull_chunk()\n",
    "    data = np.asarray(data)\n",
    "    data_timepoints.append(len(times))"
   ]
  },
  {
   "cell_type": "code",
   "execution_count": 77,
   "metadata": {},
   "outputs": [
    {
     "data": {
      "text/plain": [
       "[<matplotlib.lines.Line2D at 0x7fa8c63355c0>]"
      ]
     },
     "execution_count": 77,
     "metadata": {},
     "output_type": "execute_result"
    },
    {
     "data": {
      "image/png": "[encoded data removed]",
      "text/plain": [
       "<Figure size 432x288 with 1 Axes>"
      ]
     },
     "metadata": {
      "needs_background": "light"
     },
     "output_type": "display_data"
    }
   ],
   "source": [
    "# we could have printed the sizes.. but, it produces too much output. # make a graph instead...\n",
    "import matplotlib.pyplot as plt\n",
    "\n",
    "plt.plot(data_timepoints[:])"
   ]
  },
  {
   "cell_type": "code",
   "execution_count": 78,
   "metadata": {},
   "outputs": [
    {
     "data": {
      "text/plain": [
       "[<matplotlib.lines.Line2D at 0x7fa8c644ef98>]"
      ]
     },
     "execution_count": 78,
     "metadata": {},
     "output_type": "execute_result"
    },
    {
     "data": {
      "image/png": "[encoded data removed]",
      "text/plain": [
       "<Figure size 432x288 with 1 Axes>"
      ]
     },
     "metadata": {
      "needs_background": "light"
     },
     "output_type": "display_data"
    }
   ],
   "source": [
    "# let's zoom in a bit onto the end:\n",
    "plt.plot(data_timepoints[-100:])"
   ]
  },
  {
   "cell_type": "code",
   "execution_count": 79,
   "metadata": {},
   "outputs": [
    {
     "data": {
      "text/plain": [
       "0.06"
      ]
     },
     "execution_count": 79,
     "metadata": {},
     "output_type": "execute_result"
    }
   ],
   "source": [
    "# So you see, we are getting data. The size is usually 0 (no new data to be had), and sometimes it is 15.\n",
    "# that might mean LSL (or the OpenBCI_LSL) sends off data about once each 60 microseconds.\n",
    "15 / 250"
   ]
  },
  {
   "cell_type": "code",
   "execution_count": 80,
   "metadata": {},
   "outputs": [
    {
     "data": {
      "text/plain": [
       "([-184178.796875,\n",
       "  -154889.828125,\n",
       "  -184541.921875,\n",
       "  -169076.953125,\n",
       "  -187500.015625,\n",
       "  -155436.515625,\n",
       "  -164282.578125,\n",
       "  -174210.765625,\n",
       "  -155071.28125,\n",
       "  -164150.5,\n",
       "  -154097.515625,\n",
       "  -155258.296875,\n",
       "  -154317.1875,\n",
       "  -154856.421875,\n",
       "  -154844.265625,\n",
       "  -187500.015625],\n",
       " 4610.562102015)"
      ]
     },
     "execution_count": 80,
     "metadata": {},
     "output_type": "execute_result"
    }
   ],
   "source": [
    "# how does pull_sample work?\n",
    "inlet.pull_sample()"
   ]
  },
  {
   "cell_type": "code",
   "execution_count": 81,
   "metadata": {},
   "outputs": [],
   "source": [
    "# so, it is 1 data point of data + the time."
   ]
  },
  {
   "cell_type": "code",
   "execution_count": 82,
   "metadata": {},
   "outputs": [
    {
     "data": {
      "text/plain": [
       "[<matplotlib.lines.Line2D at 0x7fa8c6346f98>]"
      ]
     },
     "execution_count": 82,
     "metadata": {},
     "output_type": "execute_result"
    },
    {
     "data": {
      "image/png": "[encoded data removed]",
      "text/plain": [
       "<Figure size 432x288 with 1 Axes>"
      ]
     },
     "metadata": {
      "needs_background": "light"
     },
     "output_type": "display_data"
    }
   ],
   "source": [
    "# is this the same as when we pull per sample? + the full code for python to pull stuff from pylsl and plot it:\n",
    "# instead of asking how many elements in times, now we will append the times themselves to the list\n",
    "# also, we do a bit of more diagnostics on the LSL data stream here.\n",
    "\n",
    "import pylsl\n",
    "import matplotlib.pyplot as plt\n",
    "import numpy as np\n",
    "import time\n",
    "\n",
    "\n",
    "streams=pylsl.resolve_streams()\n",
    "inlet=pylsl.stream_inlet(streams[0])\n",
    "\n",
    "\n",
    "start_time = time.time()\n",
    "data_timepoints = []\n",
    "call_times = []\n",
    "\n",
    "while time.time() - start_time < 10:\n",
    "    \n",
    "    before_time = time.time()\n",
    "    data, times = inlet.pull_sample()\n",
    "    after_time = time.time()\n",
    "    \n",
    "    this_call_lasted = after_time - before_time\n",
    "    \n",
    "    data = np.asarray(data)\n",
    "        \n",
    "    # print(times)\n",
    "    data_timepoints.append(times)\n",
    "    call_times.append(this_call_lasted)\n",
    "\n",
    "plt.plot(data_timepoints)\n"
   ]
  },
  {
   "cell_type": "code",
   "execution_count": 85,
   "metadata": {},
   "outputs": [
    {
     "data": {
      "text/plain": [
       "[<matplotlib.lines.Line2D at 0x7fa8c617ef60>]"
      ]
     },
     "execution_count": 85,
     "metadata": {},
     "output_type": "execute_result"
    },
    {
     "data": {
      "image/png": "[encoded data removed]",
      "text/plain": [
       "<Figure size 432x288 with 1 Axes>"
      ]
     },
     "metadata": {
      "needs_background": "light"
     },
     "output_type": "display_data"
    }
   ],
   "source": [
    "plt.plot(np.asarray(data_timepoints[-100:]) - data_timepoints[-1])"
   ]
  },
  {
   "cell_type": "code",
   "execution_count": 86,
   "metadata": {},
   "outputs": [
    {
     "data": {
      "text/plain": [
       "[<matplotlib.lines.Line2D at 0x7fa8c61edf28>]"
      ]
     },
     "execution_count": 86,
     "metadata": {},
     "output_type": "execute_result"
    },
    {
     "data": {
      "image/png": "[encoded data removed]",
      "text/plain": [
       "<Figure size 432x288 with 1 Axes>"
      ]
     },
     "metadata": {
      "needs_background": "light"
     },
     "output_type": "display_data"
    }
   ],
   "source": [
    "plt.plot(call_times[-100:])"
   ]
  },
  {
   "cell_type": "markdown",
   "metadata": {},
   "source": [
    "This looks very interesting... let's check the last 100 elements, again, and do some magic to make the times themselves more readable:\n",
    "What happens here is that the pull_sample will jam/hold python until new data has come in."
   ]
  },
  {
   "cell_type": "markdown",
   "metadata": {},
   "source": [
    "and it will wait about 16 samples, which is about 60 miliseconds, until new data has arrived.\n",
    "this means, for BCI approaches, we should consider on average a 60-msec delay from the Device (or perhaps 30)"
   ]
  },
  {
   "cell_type": "markdown",
   "metadata": {},
   "source": [
    "## Summary\n",
    "\n",
    "There is a lot to take in here, but the most important aspect is that you can connect an EEG system, and stream the data into python. And by extension, into this notebook.\n",
    "\n",
    "The core of the lab streaming layer 'way' of doing NF/BCI is:\n",
    "\n",
    "```python\n",
    "import pylsl\n",
    "\n",
    "streams=pylsl.resolve_streams()\n",
    "\n",
    "inlet=pylsl.stream_inlet(streams[0])  # which stream it is - depends on your device and settings\n",
    "\n",
    "while True:  # as long as we do NF\n",
    "    \n",
    "    data, times = inlet.pull_chunk()  # or pull_sample\n",
    "    \n",
    "    # then we process data\n",
    "    \n",
    "    # then we communicate the outcome of the processed data to the stimulus setup\n",
    "```\n",
    "    \n",
    "    \n",
    "\n",
    "So we can go onwards to [3_1_Strategy.ipynb](3_1_Strategy.ipynb)\n",
    "Or, if you wish to playback an older recording (such as the example data), go to [2_2_SignalPlayback.ipynb](2_2_SignalPlayback.ipynb)\n",
    "\n"
   ]
  },
  {
   "cell_type": "markdown",
   "metadata": {},
   "source": [
    "\n",
    "[More information on LSL](https://www.google.com/url?sa=t&rct=j&q=&esrc=s&source=web&cd=4&ved=2ahUKEwjt8I3ozIvlAhXRe30KHWr9D5wQFjADegQIBRAH&url=ftp%3A%2F%2Fsccn.ucsd.edu%2Fpub%2Fbcilab%2Fpresentations%2F2012-11-14a%2520TNM%2520Talk.pdf&usg=AOvVaw3aglT_F3Itsd4pl09eIx9G)\n",
    "\n",
    "[LSL Help](https://github.com/sccn/labstreaminglayer/wiki/Tutorial-1:-Getting-started-with-LSL-single-stream)\n",
    "\n",
    "[LSL Youtube video](https://www.youtube.com/watch?v=Y1at7yrcFW0)\n",
    "\n"
   ]
  }
 ],
 "metadata": {
  "kernelspec": {
   "display_name": "Python 3",
   "language": "python",
   "name": "python3"
  },
  "language_info": {
   "codemirror_mode": {
    "name": "ipython",
    "version": 3
   },
   "file_extension": ".py",
   "mimetype": "text/x-python",
   "name": "python",
   "nbconvert_exporter": "python",
   "pygments_lexer": "ipython3",
   "version": "3.7.3"
  }
 },
 "nbformat": 4,
 "nbformat_minor": 4
}
