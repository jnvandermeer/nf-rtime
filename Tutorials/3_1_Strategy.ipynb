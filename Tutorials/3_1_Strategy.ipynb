{
 "cells": [
  {
   "cell_type": "markdown",
   "metadata": {},
   "source": [
    "## Neurofeedback experiments\n",
    "\n",
    "So you have the data stream, you can manipulate it in different ways for your purposes. This can basically be anything. For example, for a sham-neurofeedback experiment on theta power, you might wish to replace the training participant's own theta rhythm with someone else's rhythm while keeping the rest instact. There's no way the participant will then be able to tell he's doing a sham, since all other aspects of the EEG are still personal. You might also wish to track (in real-time) a pre-trained aspect of the EEG that tells you if someone has a good Amygdala fMRI signal [see here](https://www.sciencedirect.com/science/article/abs/pii/S1053811913010963) or if there's [imaginary left or right movements](https://www.ncbi.nlm.nih.gov/pubmed/27900952). There is a huge literature on BCI and classification to utilize. Also you might 'covertly' do various tricks to shape responses on tasks as mentioned [here](https://www.pnas.org/content/113/17/E2413.abstract).\n",
    "\n",
    "What you do however depends totally on the type of experiment you wish to conduct. From our own research group there was an idea to follow eye position in real-time and change the stimulus accordingly. Or, in a sleep study, track sleep spindles of people who are asleep and play a sound to figure out its effect.\n",
    "\n",
    "The way to implement it is to find some method that identifies the thing you're interested in, and (hopefully) grab the code and go from there.\n",
    "\n",
    "For the following, we will focus on a sensorimotor training, similar as described [here](https://www.ncbi.nlm.nih.gov/pmc/articles/PMC4274876/), [here](https://www.tandfonline.com/doi/abs/10.1080/10874208.2011.623089) [here](https://linkinghub.elsevier.com/retrieve/pii/S1388245716304461).\n",
    "\n",
    "People should be able to examine their SMR Rhythm on a screen and try to upregulate it. However, cheating is not allowed (muscle spasm). Also eyeblinks should be adequately removed.\n",
    "\n",
    "So several things need to happen to the data:\n",
    "\n",
    "1. Following a calibration measurement, the eyeblinks should be detected.\n",
    "2. Bandpass Filter between 12 and 15 Hz, with the selection of the C3 channel - this should be given as a feedback.\n",
    "3. Highpass Filter above 50 Hz - this will be a marker for EMG.\n",
    "4. For both 2. and 3., we'd need a way to extract the envelope of the data\n",
    "\n",
    "\n",
    "See:\n",
    "\n",
    "- [4_2_DetectEyeBlinks.ipynb](4_2_DetectEyeBlinks.ipynb)\n",
    "- [4_3_BandPassFilter.ipynb](4_3_BandPassFilter.ipynb)\n",
    "- [4_4_HighPassFilter.ipynb](4_4_HighPassFilter.ipynb)\n",
    "\n",
    "\n",
    "NF usually has calibration measurements, whose results are analyzed and used in later experiments. So you need to grab some data from the datastream and analyze it (more extensively) - this is handled in\n",
    "\n",
    "- [4_1_StreamIntoFile.ipynb](4_1_StreamIntoFile.ipynb)\n",
    "\n",
    "\n",
    "There is also the issue of what to do with a threshold, which requires also a calibration measurement and some strategy to determine that (todo)\n"
   ]
  },
  {
   "cell_type": "code",
   "execution_count": null,
   "metadata": {},
   "outputs": [],
   "source": []
  }
 ],
 "metadata": {
  "kernelspec": {
   "display_name": "Python 3",
   "language": "python",
   "name": "python3"
  },
  "language_info": {
   "codemirror_mode": {
    "name": "ipython",
    "version": 3
   },
   "file_extension": ".py",
   "mimetype": "text/x-python",
   "name": "python",
   "nbconvert_exporter": "python",
   "pygments_lexer": "ipython3",
   "version": "3.6.9"
  }
 },
 "nbformat": 4,
 "nbformat_minor": 4
}
